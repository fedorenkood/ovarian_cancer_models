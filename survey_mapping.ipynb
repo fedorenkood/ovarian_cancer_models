{
 "cells": [
  {
   "cell_type": "code",
   "execution_count": null,
   "metadata": {},
   "outputs": [],
   "source": [
    "from typing import List, Dict\n",
    "\n",
    "# from oop_functions.experiment_helper import *\n",
    "# from oop_functions.experiment_runner import ExperimentRunner\n",
    "# from oop_functions.util_functions import *\n",
    "# from oop_functions.visualization_util import *\n",
    "from oop_functions.analytics_cv_util import *\n",
    "from oop_functions.analytics_utils import *\n",
    "\n",
    "%matplotlib inline\n",
    "import warnings\n",
    "\n",
    "warnings.filterwarnings(\"ignore\")\n",
    "\n",
    "import numpy as np\n",
    "import pandas as pd\n",
    "import seaborn as sns\n",
    "\n",
    "from xgboost import XGBClassifier\n",
    "\n",
    "import itertools\n"
   ]
  },
  {
   "cell_type": "code",
   "execution_count": null,
   "metadata": {},
   "outputs": [],
   "source": [
    "def convert_mapping_to_dict(my_mapping):\n",
    "    name_to_choices_mapping = {}\n",
    "    for mapping in my_mapping:\n",
    "        for name in mapping[\"name\"]:\n",
    "            name_to_choices_mapping[name] = mapping[\"choices\"]\n",
    "    return name_to_choices_mapping\n",
    "\n",
    "def survey_results_parser(survey_result, my_mapping):\n",
    "\n",
    "    true_false_mapping = {\n",
    "        \"True\": 1,\n",
    "        \"False\": 0,\n",
    "    }\n",
    "    parsed_survey_result = {}\n",
    "    name_to_choices_mapping = convert_mapping_to_dict(my_mapping)\n",
    "    for key, val in survey_result.items():\n",
    "        if key in name_to_choices_mapping:\n",
    "            parsed_survey_result[key] = name_to_choices_mapping[key][val]\n",
    "        elif val in [\"True\", \"False\"]:\n",
    "            parsed_survey_result[key] = true_false_mapping[val]\n",
    "        else:\n",
    "            parsed_survey_result[key] = val\n",
    "    return parsed_survey_result"
   ]
  },
  {
   "cell_type": "code",
   "execution_count": null,
   "metadata": {},
   "outputs": [],
   "source": [
    "my_mapping = [\n",
    "    {\n",
    "        \"name\": [\"ca125_result\", \"ovar_result\", \"tvu_result\"],\n",
    "        \"choices\": {\n",
    "            \"Negative\": 1,\n",
    "            \"Abnormal, Suspicious\": 2,\n",
    "            \"Abnormal, non-suspicious\": 3,\n",
    "            \"Inadequate Screen\": 4,\n",
    "            \"Not Done, Expected\": 8,\n",
    "            \"Not Done, Not Expected\": 9,\n",
    "        },\n",
    "    },\n",
    "    {\n",
    "        \"name\": [\"tvu_ref\"],\n",
    "        \"choices\": {\n",
    "            \"Significant Abnormality, Referral\": 1,\n",
    "            \"Moderate Abnormality, Referral\": 2,\n",
    "            \"Slight Variation from Normal, No Referral\": 3,\n",
    "            \"Normal / Result Not Available, No Referral\": 4,\n",
    "        }\n",
    "    },\n",
    "    {\n",
    "        \"name\": [\"ca125ii_level_binary\"],\n",
    "        \"choices\": {\n",
    "            \"True\": 2,\n",
    "            \"False\": 1,\n",
    "        }\n",
    "    },\n",
    "    {\n",
    "        \"name\": [\"ovcyst_morph\"],\n",
    "        \"choices\": {\n",
    "            \"Not visualized\": 0,\n",
    "            \"No solid area and outline smooth\": 1,\n",
    "            \"Mixed solid area or outline irregular or outline papillaries\": 2,\n",
    "            \"Solid area\": 3,\n",
    "        },\n",
    "    },\n",
    "    ]"
   ]
  },
  {
   "cell_type": "code",
   "execution_count": null,
   "metadata": {},
   "outputs": [],
   "source": [
    "survey_result = {\n",
    "  \"ca125ii_level\": 55,\n",
    "  \"ca125ii_level_binary\": \"False\",\n",
    "  \"ca125_result\": \"Not Done, Not Expected\",\n",
    "  \"ovar_result\": \"Abnormal, Suspicious\",\n",
    "  \"tvu_ref\": \"Slight Variation from Normal, No Referral\",\n",
    "  \"ovcyst_vol\": 0,\n",
    "  \"ovary_vol\": 2,\n",
    "  \"ovcyst_sum\": 0,\n",
    "  \"detl_p\": \"False\",\n",
    "  \"ovcyst_diam\": 1,\n",
    "  \"ovary_volr\": 2,\n",
    "  \"detr_p\": \"False\",\n",
    "  \"ovcyst_volr\": 0,\n",
    "  \"ovary_diam\": 1,\n",
    "  \"ovcyst_diamr\": 2,\n",
    "  \"bmi_curr\": 32,\n",
    "  \"rantero_p\": 12,\n",
    "  \"ovcyst_morph\": \"Not visualized\",\n",
    "  \"tvu_result\": \"Not Done, Not Expected\",\n",
    "  \"bmi_50\": 25,\n",
    "  \"weight_f\": 170,\n",
    "  \"weight50_f\": 147,\n",
    "  \"bmi_20\": 21,\n",
    "  \"ovary_voll\": 1,\n",
    "  \"ovcyst_diaml\": 0,\n",
    "  \"ovcyst_voll\": 0,\n",
    "  \"lantero_p\": 11,\n",
    "  \"weight20_f\": 124,\n",
    "  \"volum\": 8,\n",
    "  \"visl\": \"False\",\n",
    "  \"ovary_diamr\": 1,\n",
    "  \"rlong_p\": 16,\n",
    "  \"viseith\": \"False\",\n",
    "  \"rtran_p\": 13,\n",
    "  \"maxdi\": 0\n",
    "}"
   ]
  },
  {
   "cell_type": "code",
   "execution_count": null,
   "metadata": {},
   "outputs": [],
   "source": [
    "parsed_survey_result = survey_results_parser(survey_result, my_mapping)\n",
    "X_predict = pd.DataFrame(parsed_survey_result, index=[0])\n",
    "cols = ['bmi_20', 'bmi_50', 'bmi_curr', 'ca125_result', 'ca125ii_level',\n",
    "       'ca125ii_level_binary', 'detl_p', 'detr_p', 'lantero_p', 'maxdi',\n",
    "       'ovar_result', 'ovary_diam', 'ovary_diamr', 'ovary_vol', 'ovary_voll',\n",
    "       'ovary_volr', 'ovcyst_diam', 'ovcyst_diaml', 'ovcyst_diamr',\n",
    "       'ovcyst_morph', 'ovcyst_sum', 'ovcyst_vol', 'ovcyst_voll',\n",
    "       'ovcyst_volr', 'rantero_p', 'rlong_p', 'rtran_p', 'tvu_ref',\n",
    "       'tvu_result', 'viseith', 'visl', 'volum', 'weight20_f', 'weight50_f',\n",
    "       'weight_f']\n",
    "X_predict = X_predict[cols]"
   ]
  },
  {
   "cell_type": "code",
   "execution_count": null,
   "metadata": {},
   "outputs": [],
   "source": [
    "filesuffix = '_for_experiment_participants_screened_single_first_5_top_35_features_RandomForestClassifier_cancer_in_next_1_years__1_trials'\n",
    "cv_analytics_util = load_cv_analytics_utils_no_datasets(filesuffix)"
   ]
  },
  {
   "cell_type": "code",
   "execution_count": null,
   "metadata": {},
   "outputs": [],
   "source": [
    "# cv_analytics_util = CvAnalyticsUtil.load_cv_analytics_utils(filesuffix)\n",
    "# full_dataset = cv_analytics_util.get_dataset_with_predictions()\n",
    "# cols = cv_analytics_util.analytics_utils[0].data_util.get_test_data()[0].columns"
   ]
  },
  {
   "cell_type": "code",
   "execution_count": null,
   "metadata": {},
   "outputs": [],
   "source": [
    "# Predicting actual cancer probability using bucketing\n",
    "per_thereshold_metrics = pd.read_csv('./per_threshold_metrics/_for_experiment_participants_screened_single_first_5_RandomForestClassifier_cancer_in_next_1_years__15_trials.csv')"
   ]
  },
  {
   "cell_type": "code",
   "execution_count": null,
   "metadata": {},
   "outputs": [],
   "source": [
    "pred, prob = cv_analytics_util.analytics_utils[0].get_predictions_general(X_predict)"
   ]
  },
  {
   "cell_type": "code",
   "execution_count": null,
   "metadata": {},
   "outputs": [],
   "source": [
    "fraction = map_prob_to_bucket(per_thereshold_metrics, prob[0])"
   ]
  },
  {
   "cell_type": "code",
   "execution_count": null,
   "metadata": {},
   "outputs": [
    {
     "data": {
      "text/plain": [
       "0.0033333333333333335"
      ]
     },
     "execution_count": 118,
     "metadata": {},
     "output_type": "execute_result"
    }
   ],
   "source": [
    "prob[0]"
   ]
  },
  {
   "cell_type": "code",
   "execution_count": null,
   "metadata": {},
   "outputs": [
    {
     "data": {
      "text/plain": [
       "0.0001589924029282"
      ]
     },
     "execution_count": 119,
     "metadata": {},
     "output_type": "execute_result"
    }
   ],
   "source": [
    "fraction"
   ]
  }
 ],
 "metadata": {
  "kernelspec": {
   "display_name": "Python 3",
   "language": "python",
   "name": "python3"
  },
  "language_info": {
   "codemirror_mode": {
    "name": "ipython",
    "version": 3
   },
   "file_extension": ".py",
   "mimetype": "text/x-python",
   "name": "python",
   "nbconvert_exporter": "python",
   "pygments_lexer": "ipython3",
   "version": "3.11.5"
  },
  "orig_nbformat": 4
 },
 "nbformat": 4,
 "nbformat_minor": 2
}

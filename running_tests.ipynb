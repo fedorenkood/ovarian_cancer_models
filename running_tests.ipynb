{
 "cells": [
  {
   "cell_type": "code",
   "execution_count": 1,
   "metadata": {},
   "outputs": [],
   "source": [
    "from typing import List\n",
    "\n",
    "from oop_functions.experiment_helper import *\n",
    "from oop_functions.experiment_runner import ExperimentRunner\n",
    "from oop_functions.util_functions import summarize_features, print_df\n",
    "from oop_functions.visualization_util import *\n",
    "from oop_functions.analytics_cv_util import *\n",
    "\n",
    "%matplotlib inline\n",
    "import warnings\n",
    "\n",
    "warnings.filterwarnings(\"ignore\")\n",
    "\n",
    "import numpy as np\n",
    "import pandas as pd\n",
    "\n",
    "from xgboost import XGBClassifier\n",
    "\n",
    "import itertools\n"
   ]
  },
  {
   "cell_type": "code",
   "execution_count": 2,
   "metadata": {},
   "outputs": [],
   "source": [
    "def isin_filter(df: pd.DataFrame, col: str, values: List):\n",
    "    return df[df[col].isin(values)]\n",
    "\n",
    "# filtered_on = list(itertools.chain.from_iterable([zip([key]*len(vals), vals) for key, vals in differentiate_confusion_matrix_over.items()]))\n",
    "# TODO: finish this one\n",
    "differentiate_confusion_matrix_over = {\n",
    "    'was_screened': [\n",
    "        ([0], lambda df: isin_filter(df, 'was_screened', [0])), \n",
    "        ([1], lambda df: isin_filter(df, 'was_screened', [1]))\n",
    "    ], \n",
    "    'ovar_histtype': [\n",
    "        ([2], lambda df: isin_filter(df, 'ovar_histtype', [2])), \n",
    "        ([2, 4, 6, 8, 9, 31], lambda df: isin_filter(df, 'ovar_histtype', [2, 4, 6, 8, 9, 31]))\n",
    "    ]\n",
    "}\n"
   ]
  },
  {
   "cell_type": "code",
   "execution_count": 3,
   "metadata": {},
   "outputs": [],
   "source": [
    "classifiers = {\n",
    "    # 'LogisticRegression': LogisticRegression(C= 0.25, random_state= 0),\n",
    "    # 'GaussianNB': GaussianNB(var_smoothing= 1e-09),\n",
    "    # 'DecisionTreeClassifier': DecisionTreeClassifier(criterion= 'entropy'),\n",
    "    # 'RandomForestClassifier': RandomForestClassifier(criterion= 'entropy', n_estimators= 200),\n",
    "    'XGBClassifier': XGBClassifier(eval_metric= 'error', learning_rate= 0.1)\n",
    "}\n",
    "\n",
    "experiment_data_helpers: List[ExperimentDataHelper] = [\n",
    "    ExperimentDataHelperScreenedOrCancer,\n",
    "    ExperimentDataHelperScreened,\n",
    "    ExperimentDataHelperNotScreenedCols,\n",
    "    ExperimentDataHelperScreenedCols,\n",
    "    ExperimentDataHelperAll,\n",
    "    ExperimentDataHelperSingleLabelScreenedOrCancer,\n",
    "    ExperimentDataHelperSingleLabelScreened,\n",
    "    ExperimentDataHelperSingleLabelNotScreenedCols,\n",
    "    ExperimentDataHelperSingleLabelScreenedCols,\n",
    "    ExperimentDataHelperSingleLabelAll\n",
    "]"
   ]
  },
  {
   "cell_type": "code",
   "execution_count": 8,
   "metadata": {},
   "outputs": [],
   "source": [
    "experiment_names = []\n",
    "years = [1]\n",
    "num_folds=10\n",
    "for classifier_name, classifier in classifiers.items():\n",
    "    for year in years:\n",
    "        for experiment_data_helper_class in experiment_data_helpers:\n",
    "            label = f'cancer_in_next_{year}_years'\n",
    "            filesuffix = f'experiment_{experiment_data_helper_class.get_name()}_{classifier_name}_for_{label}_{num_folds}_trials'\n",
    "            experiment_names.append(filesuffix)"
   ]
  },
  {
   "cell_type": "code",
   "execution_count": 9,
   "metadata": {},
   "outputs": [
    {
     "data": {
      "text/plain": [
       "['experiment_participants_screened_or_cancer_XGBClassifier_for_cancer_in_next_1_years_10_trials',\n",
       " 'experiment_participants_screened_XGBClassifier_for_cancer_in_next_1_years_10_trials',\n",
       " 'experiment_not_screened_cols_XGBClassifier_for_cancer_in_next_1_years_10_trials',\n",
       " 'experiment_screened_cols_XGBClassifier_for_cancer_in_next_1_years_10_trials',\n",
       " 'experiment_participants_all_XGBClassifier_for_cancer_in_next_1_years_10_trials',\n",
       " 'experiment_participants_screened_or_cancer_single_label_XGBClassifier_for_cancer_in_next_1_years_10_trials',\n",
       " 'experiment_participants_screened_single_label_XGBClassifier_for_cancer_in_next_1_years_10_trials',\n",
       " 'experiment_not_screened_cols_single_label_XGBClassifier_for_cancer_in_next_1_years_10_trials',\n",
       " 'experiment_screened_cols_single_label_XGBClassifier_for_cancer_in_next_1_years_10_trials',\n",
       " 'experiment_participants_all_single_label_XGBClassifier_for_cancer_in_next_1_years_10_trials']"
      ]
     },
     "execution_count": 9,
     "metadata": {},
     "output_type": "execute_result"
    }
   ],
   "source": [
    "experiment_names"
   ]
  },
  {
   "cell_type": "code",
   "execution_count": null,
   "metadata": {},
   "outputs": [],
   "source": [
    "filesuffix = 'experiment_participants_screened_or_cancer_XGBClassifier_for_cancer_in_next_1_years_10_trials'\n",
    "cv_analytics_util = CvAnalyticsUtil.load_cv_analytics_utils(filesuffix)"
   ]
  },
  {
   "cell_type": "code",
   "execution_count": null,
   "metadata": {},
   "outputs": [],
   "source": [
    "cv_analytics_util.get_cv_report();\n",
    "cv_analytics_util.display_graph()"
   ]
  }
 ],
 "metadata": {
  "kernelspec": {
   "display_name": "Python 3",
   "language": "python",
   "name": "python3"
  },
  "language_info": {
   "codemirror_mode": {
    "name": "ipython",
    "version": 3
   },
   "file_extension": ".py",
   "mimetype": "text/x-python",
   "name": "python",
   "nbconvert_exporter": "python",
   "pygments_lexer": "ipython3",
   "version": "3.10.4"
  },
  "orig_nbformat": 4
 },
 "nbformat": 4,
 "nbformat_minor": 2
}

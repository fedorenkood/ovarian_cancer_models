{
 "cells": [
  {
   "cell_type": "code",
   "execution_count": null,
   "metadata": {},
   "outputs": [],
   "source": [
    "from oop_functions.merge_dataset_functions import merge_data_over_years\n",
    "from oop_functions.missing_values_functions import print_records_vs_unique\n",
    "from oop_functions.util_functions import get_cols_missing_percentage, print_df, convert_numeric_to_float16\n",
    "from processing_functions import *\n",
    "%matplotlib inline\n",
    "import warnings\n",
    "\n",
    "warnings.filterwarnings(\"ignore\")\n"
   ]
  },
  {
   "cell_type": "code",
   "execution_count": null,
   "metadata": {},
   "outputs": [],
   "source": [
    "\n",
    "processed_data = pd.read_csv('./processed_dataset/recent_propagated_dataset.csv', index_col=0)"
   ]
  },
  {
   "cell_type": "code",
   "execution_count": null,
   "metadata": {},
   "outputs": [],
   "source": [
    "# def use_most_recent(df, keep_last_on_col, col_id, on_cols):\n",
    "#     for col in on_cols:\n",
    "#         sorted_df = df[df[col].notnull()]\n",
    "#         sorted_df = sorted_df.sort_values(by=keep_last_on_col)\n",
    "#         impute_values = sorted_df.drop_duplicates(col_id, keep='last')\n",
    "#         impute_values = impute_values[[col_id, col]]\n",
    "#         df = df.set_index(col_id).combine_first(impute_values.set_index(col_id)).reset_index()\n",
    "#     return df\n",
    "\n",
    "# def use_most_recent(df, keep_last_on_col, col_id, on_cols):\n",
    "#     impute_in_order = sorted(df[keep_last_on_col].unique(), reverse=True)\n",
    "#     for col in on_cols:\n",
    "#         # print(impute_values)\n",
    "#         # TODO: fix this one only fill out the values that are past the study year\n",
    "#         for unique_year in impute_in_order:\n",
    "#             sorted_df = df[df[col].notnull()]\n",
    "#             sorted_df = sorted_df[sorted_df[keep_last_on_col] == unique_year]\n",
    "#             # sorted_df = sorted_df.sort_values(by=keep_last_on_col)\n",
    "#             impute_values = sorted_df.drop_duplicates(col_id, keep='last')\n",
    "#             impute_values = impute_values[[col_id, col]]\n",
    "#             df_for_impute = df\n",
    "#             df_for_impute = df_for_impute[(df_for_impute[col].isnull()) & (df_for_impute['ovar_observe_year'] > unique_year)][[col_id, 'ovar_observe_year', col]]\n",
    "#             index = df_for_impute.index\n",
    "#             df.loc[index, [col_id, 'ovar_observe_year', col]] = df_for_impute.set_index(col_id).combine_first(impute_values.set_index(col_id)).reset_index()\n",
    "#     return df\n",
    "\n",
    "# screen_data_cols_fill_last = ['detl_p', 'detr_p', 'lvol_p', 'rvol_p', 'lvol_q', 'rvol_q',\n",
    "#        'lantero_p', 'lantero_q', 'llong_p', 'llong_q', 'ltran_p', 'ltran_q',\n",
    "#        'rantero_p', 'rantero_q', 'rlong_p', 'rlong_q', 'rtran_p', 'rtran_q',\n",
    "#        'tvu_ref', 'phycons', 'tvu_result', 'ca125_result', 'ovar_result',\n",
    "#        'ovcyst_solidr', 'ovcyst_outliner', 'ovcyst_solidl', 'ovcyst_outlinel',\n",
    "#        'ovcyst_solid', 'ovcyst_outline', 'ovcyst_diamr', 'ovcyst_diaml',\n",
    "#        'ovcyst_diam', 'ovcyst_volr', 'ovcyst_voll', 'ovcyst_vol',\n",
    "#        'ovcyst_morphr', 'ovcyst_morphl', 'ovcyst_morph', 'ovcyst_sumr',\n",
    "#        'ovcyst_suml', 'ovcyst_sum', 'ovary_diam', 'ovary_diamr', 'ovary_diaml',\n",
    "#        'ovary_volr', 'ovary_voll', 'ovary_vol', 'visl', 'visr', 'visboth',\n",
    "#        'viseith', 'numcystl', 'numcystr', 'numcyst']\n",
    "\n",
    "# screen_abnorm_data_fill_last = ['solid', 'sepst', 'cyst', 'cystw', 'echo', 'maxdi', 'volum']\n",
    "\n",
    "# original_missing = get_cols_missing_percentage(0, merged_df, 'merged_df', False)[['column_name', 'percent_missing']]\n",
    "# # last_propagated_df = use_most_recent(merged_df, 'study_yr', 'plco_id', ['detl_p'])\n",
    "# last_propagated_df = use_most_recent(merged_df, 'study_yr', 'plco_id', screen_data_cols_fill_last)\n",
    "# last_propagated_df = use_most_recent(last_propagated_df, 'study_yr', 'plco_id', screen_abnorm_data_fill_last)\n",
    "# last_propagated_df = last_propagated_df.drop('study_yr', axis=1)\n",
    "# after_prop_missing = get_cols_missing_percentage(0, last_propagated_df, 'last_propagated_df', False)[['column_name', 'percent_missing']]\n",
    "# missing_df = original_missing.merge(after_prop_missing, suffixes=['_before_propagation', '_after_propagation'], on='column_name')"
   ]
  }
 ],
 "metadata": {
  "language_info": {
   "name": "python"
  },
  "orig_nbformat": 4
 },
 "nbformat": 4,
 "nbformat_minor": 2
}

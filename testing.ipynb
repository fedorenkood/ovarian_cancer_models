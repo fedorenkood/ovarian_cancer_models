{
 "cells": [
  {
   "cell_type": "code",
   "execution_count": null,
   "metadata": {
    "collapsed": false,
    "pycharm": {
     "name": "#%%\n"
    }
   },
   "outputs": [],
   "source": [
    "from __future__ import annotations\n",
    "\n",
    "from typing import List\n",
    "\n",
    "from scipy.spatial import distance\n",
    "from sklearn.preprocessing import StandardScaler\n",
    "from xgboost import XGBClassifier\n",
    "from sklearn.tree import DecisionTreeClassifier\n",
    "\n",
    "from oop_functions.analytics_util import AnalyticsUtil, DecisionTreeAnalyticsUtil\n",
    "from oop_functions.experiment_helper import ExperimentDataHelper1\n",
    "from oop_functions.experiment_runner import ExperimentRunner\n",
    "from oop_functions.util_functions import *\n"
   ]
  },
  {
   "cell_type": "code",
   "execution_count": null,
   "metadata": {
    "collapsed": false,
    "pycharm": {
     "name": "#%%\n"
    }
   },
   "outputs": [],
   "source": [
    "processed_data = pd.read_csv('./processed_dataset/recent_propagated_dataset.csv', index_col=0)\n",
    "missing_df = pd.read_csv('./missing_features/combined_missing.csv', index_col=0)"
   ]
  },
  {
   "cell_type": "code",
   "execution_count": null,
   "metadata": {
    "collapsed": false,
    "pycharm": {
     "name": "#%%\n"
    }
   },
   "outputs": [],
   "source": [
    "year = 1\n",
    "label = f'cancer_in_next_{year}_years'\n",
    "source_df = processed_data\n",
    "source_df = resample_class(source_df, label, 0, 30000)"
   ]
  },
  {
   "cell_type": "code",
   "execution_count": null,
   "metadata": {
    "collapsed": false,
    "pycharm": {
     "name": "#%%\n"
    }
   },
   "outputs": [],
   "source": [
    "classifier = DecisionTreeClassifier(criterion= 'entropy')\n",
    "experiment_data_helper = ExperimentDataHelper1(source_df, label, ['cancer_'])\n",
    "data_util_lambdas = experiment_data_helper.train_test_split_util.split_kfold(5)\n",
    "data_util = data_util_lambdas[0]()"
   ]
  },
  {
   "cell_type": "code",
   "execution_count": null,
   "metadata": {
    "collapsed": false,
    "pycharm": {
     "name": "#%%\n"
    }
   },
   "outputs": [],
   "source": [
    "analytics_util = DecisionTreeAnalyticsUtil(classifier, data_util).fit()"
   ]
  },
  {
   "cell_type": "code",
   "execution_count": null,
   "metadata": {
    "collapsed": false,
    "pycharm": {
     "name": "#%%\n"
    }
   },
   "outputs": [],
   "source": [
    "analytics_util.get_report_generation_util().display_graph()"
   ]
  },
  {
   "cell_type": "code",
   "execution_count": null,
   "metadata": {
    "collapsed": false,
    "pycharm": {
     "name": "#%%\n"
    }
   },
   "outputs": [],
   "source": [
    "analytics_util.plot_save_tree(plot_tree=False)"
   ]
  },
  {
   "cell_type": "code",
   "execution_count": null,
   "metadata": {
    "collapsed": false,
    "pycharm": {
     "name": "#%%\n"
    }
   },
   "outputs": [],
   "source": [
    "def isin_filter(df: pd.DataFrame, col: str, values: List):\n",
    "    return df[df[col].isin(values)]\n",
    "\n",
    "# filtered_on = list(itertools.chain.from_iterable([zip([key]*len(vals), vals) for key, vals in differentiate_confusion_matrix_over.items()]))\n",
    "# TODO: finish this one\n",
    "differentiate_confusion_matrix_over = {\n",
    "    'was_screened': [\n",
    "        ([0], lambda df: isin_filter(df, 'was_screened', [0])), \n",
    "        ([1], lambda df: isin_filter(df, 'was_screened', [1]))\n",
    "    ], \n",
    "    'ovar_histtype': [[2], [2, 4, 6, 8, 9, 31]]\n",
    "}"
   ]
  },
  {
   "cell_type": "code",
   "execution_count": null,
   "metadata": {
    "collapsed": false,
    "pycharm": {
     "name": "#%%\n"
    }
   },
   "outputs": [],
   "source": [
    "experiment_runner = ExperimentRunner(classifier, experiment_data_helper, missing_df, test_n_folds=3)\n",
    "cv_analytics_util = experiment_runner.run_experiment()"
   ]
  },
  {
   "cell_type": "code",
   "execution_count": null,
   "metadata": {
    "collapsed": false,
    "pycharm": {
     "name": "#%%\n"
    }
   },
   "outputs": [],
   "source": [
    "cv_analytics_util.display_graph()"
   ]
  },
  {
   "cell_type": "code",
   "execution_count": null,
   "metadata": {
    "collapsed": false,
    "pycharm": {
     "name": "#%%\n"
    }
   },
   "outputs": [],
   "source": [
    "cv_analytics_util.get_cv_feature_selection()"
   ]
  }
 ],
 "metadata": {
  "kernelspec": {
   "display_name": "Python 3",
   "language": "python",
   "name": "python3"
  },
  "language_info": {
   "codemirror_mode": {
    "name": "ipython",
    "version": 3
   },
   "file_extension": ".py",
   "mimetype": "text/x-python",
   "name": "python",
   "nbconvert_exporter": "python",
   "pygments_lexer": "ipython3",
   "version": "3.10.4"
  },
  "orig_nbformat": 4
 },
 "nbformat": 4,
 "nbformat_minor": 2
}
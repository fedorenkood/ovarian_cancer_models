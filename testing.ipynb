{
 "cells": [
  {
   "cell_type": "code",
   "execution_count": 1,
   "metadata": {
    "collapsed": false,
    "pycharm": {
     "name": "#%%\n"
    }
   },
   "outputs": [],
   "source": [
    "from __future__ import annotations\n",
    "from oop_functions.classifier_oop import *\n",
    "from oop_functions.util_functions import *\n",
    "from oop_functions.merge_dataset_functions import *\n",
    "from oop_functions.analytics_oop import *\n",
    "\n",
    "from xgboost import XGBClassifier"
   ]
  },
  {
   "cell_type": "code",
   "execution_count": 2,
   "metadata": {
    "collapsed": false,
    "pycharm": {
     "name": "#%%\n"
    }
   },
   "outputs": [],
   "source": [
    "processed_data = pd.read_csv('./processed_dataset/recent_propagated_dataset.csv', index_col=0)"
   ]
  },
  {
   "cell_type": "code",
   "execution_count": null,
   "outputs": [],
   "source": [
    "# drop non-cancer records without screen records\n",
    "condition = (processed_data['was_screened'] == 1) | (processed_data['ovar_cancer'] == 1)\n",
    "processed_data_filtered = processed_data[condition]"
   ],
   "metadata": {
    "collapsed": false,
    "pycharm": {
     "name": "#%%\n"
    }
   }
  },
  {
   "cell_type": "code",
   "execution_count": null,
   "outputs": [],
   "source": [
    "year = 1\n",
    "label = f'cancer_in_next_{year}_years'\n",
    "source_df = processed_data_filtered\n",
    "# source_df = resample_class(source_df, label, 0, 20000)"
   ],
   "metadata": {
    "collapsed": false,
    "pycharm": {
     "name": "#%%\n"
    }
   }
  },
  {
   "cell_type": "code",
   "execution_count": null,
   "outputs": [],
   "source": [
    "\n",
    "class ExperimentDataHelper1(ExperimentDataHelper):\n",
    "    def _init_imputer(self) -> None:\n",
    "        impute_const_dict = {\n",
    "            'numcyst': 0,\n",
    "            'ovcyst_morph': 0,\n",
    "            'ovcyst_outline': 0,\n",
    "            'ovcyst_solid': 0,\n",
    "            'ovcyst_sum': 0,\n",
    "            'ovcyst_vol': 0,\n",
    "            'numcyst': 0,\n",
    "            'tvu_result': 1,\n",
    "            'numcystl': 0,\n",
    "            'numcystr': 0,\n",
    "            'ovcyst_diaml': 0,\n",
    "            'ovcyst_diamr': 0,\n",
    "            'ovcyst_morphl': 0,\n",
    "            'ovcyst_morphr': 0,\n",
    "            'ovcyst_outlinel': 0,\n",
    "            'ovcyst_outliner': 0,\n",
    "            'ovcyst_solidl': 0,\n",
    "            'ovcyst_solidr': 0,\n",
    "            'ovcyst_suml': 0,\n",
    "            'ovcyst_sumr': 0,\n",
    "            'ovcyst_voll': 0,\n",
    "            'ovcyst_volr': 0,\n",
    "            'visboth': 0,\n",
    "            'viseith': 0,\n",
    "            'visl': 0,\n",
    "            'visr': 0\n",
    "        }\n",
    "        numeric_columns = select_numeric_columns(self.source_df)\n",
    "        numeric_columns = list(set(numeric_columns) - set(impute_const_dict.keys()))\n",
    "        self.imputer_util = ImputerUtil(impute_const_dict, impute_mean_cols=numeric_columns, impute_median_cols=[])"
   ],
   "metadata": {
    "collapsed": false,
    "pycharm": {
     "name": "#%%\n"
    }
   }
  },
  {
   "cell_type": "code",
   "execution_count": null,
   "outputs": [],
   "source": [
    "classifier = XGBClassifier(eval_metric= 'error', learning_rate= 0.1)\n",
    "experiment_data_helper = ExperimentDataHelper1(source_df, label, ['cancer_'])\n"
   ],
   "metadata": {
    "collapsed": false,
    "pycharm": {
     "name": "#%%\n"
    }
   }
  },
  {
   "cell_type": "code",
   "execution_count": null,
   "outputs": [],
   "source": [
    "data_util_lambdas = experiment_data_helper.train_test_split_util.split_kfold(5)\n"
   ],
   "metadata": {
    "collapsed": false,
    "pycharm": {
     "name": "#%%\n"
    }
   }
  },
  {
   "cell_type": "code",
   "execution_count": null,
   "outputs": [],
   "source": [
    "data_util = data_util_lambdas[0]()\n"
   ],
   "metadata": {
    "collapsed": false,
    "pycharm": {
     "name": "#%%\n"
    }
   }
  },
  {
   "cell_type": "code",
   "execution_count": 10,
   "metadata": {},
   "outputs": [
    {
     "name": "stdout",
     "output_type": "stream",
     "text": [
      "Distribution of positive labels based on duplicate plco_id: 0.0112762451171875\n"
     ]
    }
   ],
   "source": [
    "data_util.get_stats()"
   ]
  },
  {
   "cell_type": "code",
   "execution_count": 11,
   "metadata": {},
   "outputs": [
    {
     "data": {
      "text/html": [
       "<div>\n",
       "<style scoped>\n",
       "    .dataframe tbody tr th:only-of-type {\n",
       "        vertical-align: middle;\n",
       "    }\n",
       "\n",
       "    .dataframe tbody tr th {\n",
       "        vertical-align: top;\n",
       "    }\n",
       "\n",
       "    .dataframe thead th {\n",
       "        text-align: right;\n",
       "    }\n",
       "</style>\n",
       "<table border=\"1\" class=\"dataframe\">\n",
       "  <thead>\n",
       "    <tr style=\"text-align: right;\">\n",
       "      <th></th>\n",
       "      <th>plco_id</th>\n",
       "      <th>age</th>\n",
       "      <th>agelevel</th>\n",
       "      <th>arthrit_f</th>\n",
       "      <th>asp</th>\n",
       "      <th>asppd</th>\n",
       "      <th>bbd</th>\n",
       "      <th>bcontr_f</th>\n",
       "      <th>bcontra</th>\n",
       "      <th>bcontrt</th>\n",
       "      <th>...</th>\n",
       "      <th>uterine_fib</th>\n",
       "      <th>visboth</th>\n",
       "      <th>viseith</th>\n",
       "      <th>visl</th>\n",
       "      <th>visr</th>\n",
       "      <th>volum</th>\n",
       "      <th>was_screened</th>\n",
       "      <th>weight20_f</th>\n",
       "      <th>weight50_f</th>\n",
       "      <th>weight_f</th>\n",
       "    </tr>\n",
       "  </thead>\n",
       "  <tbody>\n",
       "    <tr>\n",
       "      <th>336161</th>\n",
       "      <td>R-058112-5</td>\n",
       "      <td>65.0</td>\n",
       "      <td>2.0</td>\n",
       "      <td>0.0</td>\n",
       "      <td>0.0</td>\n",
       "      <td>0.0</td>\n",
       "      <td>0.000000</td>\n",
       "      <td>1.0</td>\n",
       "      <td>2.000000</td>\n",
       "      <td>5.0</td>\n",
       "      <td>...</td>\n",
       "      <td>0.0</td>\n",
       "      <td>0</td>\n",
       "      <td>1</td>\n",
       "      <td>0</td>\n",
       "      <td>1</td>\n",
       "      <td>10.765625</td>\n",
       "      <td>1.0</td>\n",
       "      <td>145.0</td>\n",
       "      <td>155.0</td>\n",
       "      <td>180.0</td>\n",
       "    </tr>\n",
       "    <tr>\n",
       "      <th>45025</th>\n",
       "      <td>B-067860-9</td>\n",
       "      <td>65.0</td>\n",
       "      <td>2.0</td>\n",
       "      <td>1.0</td>\n",
       "      <td>0.0</td>\n",
       "      <td>6.0</td>\n",
       "      <td>0.000000</td>\n",
       "      <td>0.0</td>\n",
       "      <td>1.477539</td>\n",
       "      <td>0.0</td>\n",
       "      <td>...</td>\n",
       "      <td>0.0</td>\n",
       "      <td>0</td>\n",
       "      <td>1</td>\n",
       "      <td>0</td>\n",
       "      <td>1</td>\n",
       "      <td>44.593750</td>\n",
       "      <td>1.0</td>\n",
       "      <td>150.0</td>\n",
       "      <td>226.0</td>\n",
       "      <td>229.0</td>\n",
       "    </tr>\n",
       "    <tr>\n",
       "      <th>371799</th>\n",
       "      <td>S-085104-9</td>\n",
       "      <td>65.0</td>\n",
       "      <td>0.0</td>\n",
       "      <td>0.0</td>\n",
       "      <td>1.0</td>\n",
       "      <td>1.0</td>\n",
       "      <td>0.000000</td>\n",
       "      <td>1.0</td>\n",
       "      <td>1.000000</td>\n",
       "      <td>5.0</td>\n",
       "      <td>...</td>\n",
       "      <td>1.0</td>\n",
       "      <td>0</td>\n",
       "      <td>0</td>\n",
       "      <td>0</td>\n",
       "      <td>0</td>\n",
       "      <td>10.765625</td>\n",
       "      <td>1.0</td>\n",
       "      <td>105.0</td>\n",
       "      <td>150.0</td>\n",
       "      <td>160.0</td>\n",
       "    </tr>\n",
       "    <tr>\n",
       "      <th>518071</th>\n",
       "      <td>W-061753-2</td>\n",
       "      <td>70.0</td>\n",
       "      <td>2.0</td>\n",
       "      <td>0.0</td>\n",
       "      <td>1.0</td>\n",
       "      <td>4.0</td>\n",
       "      <td>0.000000</td>\n",
       "      <td>1.0</td>\n",
       "      <td>1.000000</td>\n",
       "      <td>2.0</td>\n",
       "      <td>...</td>\n",
       "      <td>0.0</td>\n",
       "      <td>0</td>\n",
       "      <td>0</td>\n",
       "      <td>0</td>\n",
       "      <td>0</td>\n",
       "      <td>10.765625</td>\n",
       "      <td>1.0</td>\n",
       "      <td>127.0</td>\n",
       "      <td>137.0</td>\n",
       "      <td>122.0</td>\n",
       "    </tr>\n",
       "    <tr>\n",
       "      <th>43411</th>\n",
       "      <td>B-061884-5</td>\n",
       "      <td>75.0</td>\n",
       "      <td>1.0</td>\n",
       "      <td>1.0</td>\n",
       "      <td>1.0</td>\n",
       "      <td>5.0</td>\n",
       "      <td>0.000000</td>\n",
       "      <td>1.0</td>\n",
       "      <td>2.000000</td>\n",
       "      <td>1.0</td>\n",
       "      <td>...</td>\n",
       "      <td>0.0</td>\n",
       "      <td>0</td>\n",
       "      <td>0</td>\n",
       "      <td>0</td>\n",
       "      <td>0</td>\n",
       "      <td>10.765625</td>\n",
       "      <td>0.0</td>\n",
       "      <td>108.0</td>\n",
       "      <td>125.0</td>\n",
       "      <td>134.0</td>\n",
       "    </tr>\n",
       "    <tr>\n",
       "      <th>...</th>\n",
       "      <td>...</td>\n",
       "      <td>...</td>\n",
       "      <td>...</td>\n",
       "      <td>...</td>\n",
       "      <td>...</td>\n",
       "      <td>...</td>\n",
       "      <td>...</td>\n",
       "      <td>...</td>\n",
       "      <td>...</td>\n",
       "      <td>...</td>\n",
       "      <td>...</td>\n",
       "      <td>...</td>\n",
       "      <td>...</td>\n",
       "      <td>...</td>\n",
       "      <td>...</td>\n",
       "      <td>...</td>\n",
       "      <td>...</td>\n",
       "      <td>...</td>\n",
       "      <td>...</td>\n",
       "      <td>...</td>\n",
       "      <td>...</td>\n",
       "    </tr>\n",
       "    <tr>\n",
       "      <th>430799</th>\n",
       "      <td>U-027515-8</td>\n",
       "      <td>70.0</td>\n",
       "      <td>2.0</td>\n",
       "      <td>1.0</td>\n",
       "      <td>0.0</td>\n",
       "      <td>0.0</td>\n",
       "      <td>1.000000</td>\n",
       "      <td>1.0</td>\n",
       "      <td>2.000000</td>\n",
       "      <td>5.0</td>\n",
       "      <td>...</td>\n",
       "      <td>1.0</td>\n",
       "      <td>0</td>\n",
       "      <td>0</td>\n",
       "      <td>0</td>\n",
       "      <td>0</td>\n",
       "      <td>10.765625</td>\n",
       "      <td>1.0</td>\n",
       "      <td>128.0</td>\n",
       "      <td>137.0</td>\n",
       "      <td>195.0</td>\n",
       "    </tr>\n",
       "    <tr>\n",
       "      <th>307627</th>\n",
       "      <td>Q-054421-4</td>\n",
       "      <td>55.0</td>\n",
       "      <td>0.0</td>\n",
       "      <td>1.0</td>\n",
       "      <td>0.0</td>\n",
       "      <td>0.0</td>\n",
       "      <td>1.000000</td>\n",
       "      <td>0.0</td>\n",
       "      <td>1.477539</td>\n",
       "      <td>0.0</td>\n",
       "      <td>...</td>\n",
       "      <td>0.0</td>\n",
       "      <td>0</td>\n",
       "      <td>1</td>\n",
       "      <td>0</td>\n",
       "      <td>1</td>\n",
       "      <td>2.599609</td>\n",
       "      <td>1.0</td>\n",
       "      <td>114.0</td>\n",
       "      <td>155.0</td>\n",
       "      <td>187.0</td>\n",
       "    </tr>\n",
       "    <tr>\n",
       "      <th>52919</th>\n",
       "      <td>B-098091-3</td>\n",
       "      <td>60.0</td>\n",
       "      <td>1.0</td>\n",
       "      <td>0.0</td>\n",
       "      <td>1.0</td>\n",
       "      <td>4.0</td>\n",
       "      <td>0.000000</td>\n",
       "      <td>0.0</td>\n",
       "      <td>1.477539</td>\n",
       "      <td>0.0</td>\n",
       "      <td>...</td>\n",
       "      <td>0.0</td>\n",
       "      <td>0</td>\n",
       "      <td>0</td>\n",
       "      <td>0</td>\n",
       "      <td>0</td>\n",
       "      <td>10.765625</td>\n",
       "      <td>0.0</td>\n",
       "      <td>120.0</td>\n",
       "      <td>136.0</td>\n",
       "      <td>144.0</td>\n",
       "    </tr>\n",
       "    <tr>\n",
       "      <th>479362</th>\n",
       "      <td>V-065703-3</td>\n",
       "      <td>75.0</td>\n",
       "      <td>0.0</td>\n",
       "      <td>0.0</td>\n",
       "      <td>0.0</td>\n",
       "      <td>0.0</td>\n",
       "      <td>0.284668</td>\n",
       "      <td>1.0</td>\n",
       "      <td>1.000000</td>\n",
       "      <td>1.0</td>\n",
       "      <td>...</td>\n",
       "      <td>1.0</td>\n",
       "      <td>0</td>\n",
       "      <td>0</td>\n",
       "      <td>0</td>\n",
       "      <td>0</td>\n",
       "      <td>10.765625</td>\n",
       "      <td>1.0</td>\n",
       "      <td>120.0</td>\n",
       "      <td>135.0</td>\n",
       "      <td>139.0</td>\n",
       "    </tr>\n",
       "    <tr>\n",
       "      <th>408608</th>\n",
       "      <td>T-101845-8</td>\n",
       "      <td>75.0</td>\n",
       "      <td>2.0</td>\n",
       "      <td>0.0</td>\n",
       "      <td>1.0</td>\n",
       "      <td>7.0</td>\n",
       "      <td>0.000000</td>\n",
       "      <td>0.0</td>\n",
       "      <td>1.477539</td>\n",
       "      <td>0.0</td>\n",
       "      <td>...</td>\n",
       "      <td>0.0</td>\n",
       "      <td>0</td>\n",
       "      <td>0</td>\n",
       "      <td>0</td>\n",
       "      <td>0</td>\n",
       "      <td>10.765625</td>\n",
       "      <td>1.0</td>\n",
       "      <td>118.0</td>\n",
       "      <td>150.0</td>\n",
       "      <td>144.0</td>\n",
       "    </tr>\n",
       "  </tbody>\n",
       "</table>\n",
       "<p>20000 rows × 171 columns</p>\n",
       "</div>"
      ],
      "text/plain": [
       "           plco_id   age  agelevel  arthrit_f  asp  asppd       bbd  bcontr_f  \\\n",
       "336161  R-058112-5  65.0       2.0        0.0  0.0    0.0  0.000000       1.0   \n",
       "45025   B-067860-9  65.0       2.0        1.0  0.0    6.0  0.000000       0.0   \n",
       "371799  S-085104-9  65.0       0.0        0.0  1.0    1.0  0.000000       1.0   \n",
       "518071  W-061753-2  70.0       2.0        0.0  1.0    4.0  0.000000       1.0   \n",
       "43411   B-061884-5  75.0       1.0        1.0  1.0    5.0  0.000000       1.0   \n",
       "...            ...   ...       ...        ...  ...    ...       ...       ...   \n",
       "430799  U-027515-8  70.0       2.0        1.0  0.0    0.0  1.000000       1.0   \n",
       "307627  Q-054421-4  55.0       0.0        1.0  0.0    0.0  1.000000       0.0   \n",
       "52919   B-098091-3  60.0       1.0        0.0  1.0    4.0  0.000000       0.0   \n",
       "479362  V-065703-3  75.0       0.0        0.0  0.0    0.0  0.284668       1.0   \n",
       "408608  T-101845-8  75.0       2.0        0.0  1.0    7.0  0.000000       0.0   \n",
       "\n",
       "         bcontra  bcontrt  ...  uterine_fib  visboth  viseith  visl  visr  \\\n",
       "336161  2.000000      5.0  ...          0.0        0        1     0     1   \n",
       "45025   1.477539      0.0  ...          0.0        0        1     0     1   \n",
       "371799  1.000000      5.0  ...          1.0        0        0     0     0   \n",
       "518071  1.000000      2.0  ...          0.0        0        0     0     0   \n",
       "43411   2.000000      1.0  ...          0.0        0        0     0     0   \n",
       "...          ...      ...  ...          ...      ...      ...   ...   ...   \n",
       "430799  2.000000      5.0  ...          1.0        0        0     0     0   \n",
       "307627  1.477539      0.0  ...          0.0        0        1     0     1   \n",
       "52919   1.477539      0.0  ...          0.0        0        0     0     0   \n",
       "479362  1.000000      1.0  ...          1.0        0        0     0     0   \n",
       "408608  1.477539      0.0  ...          0.0        0        0     0     0   \n",
       "\n",
       "            volum  was_screened  weight20_f  weight50_f  weight_f  \n",
       "336161  10.765625           1.0       145.0       155.0     180.0  \n",
       "45025   44.593750           1.0       150.0       226.0     229.0  \n",
       "371799  10.765625           1.0       105.0       150.0     160.0  \n",
       "518071  10.765625           1.0       127.0       137.0     122.0  \n",
       "43411   10.765625           0.0       108.0       125.0     134.0  \n",
       "...           ...           ...         ...         ...       ...  \n",
       "430799  10.765625           1.0       128.0       137.0     195.0  \n",
       "307627   2.599609           1.0       114.0       155.0     187.0  \n",
       "52919   10.765625           0.0       120.0       136.0     144.0  \n",
       "479362  10.765625           1.0       120.0       135.0     139.0  \n",
       "408608  10.765625           1.0       118.0       150.0     144.0  \n",
       "\n",
       "[20000 rows x 171 columns]"
      ]
     },
     "execution_count": 11,
     "metadata": {},
     "output_type": "execute_result"
    }
   ],
   "source": [
    "data_util.train_df"
   ]
  },
  {
   "cell_type": "code",
   "execution_count": 12,
   "metadata": {},
   "outputs": [
    {
     "data": {
      "image/png": "[encoded data removed]",
      "text/plain": [
       "<Figure size 1152x360 with 3 Axes>"
      ]
     },
     "metadata": {
      "needs_background": "light"
     },
     "output_type": "display_data"
    },
    {
     "data": {
      "text/plain": [
       "<oop_functions.analytics_oop.VisualizationUtil at 0x1a4bcee8f10>"
      ]
     },
     "execution_count": 12,
     "metadata": {},
     "output_type": "execute_result"
    }
   ],
   "source": [
    "analytics_util.get_report_generation_util().display_graph()"
   ]
  }
 ],
 "metadata": {
  "kernelspec": {
   "display_name": "Python 3",
   "language": "python",
   "name": "python3"
  },
  "language_info": {
   "codemirror_mode": {
    "name": "ipython",
    "version": 3
   },
   "file_extension": ".py",
   "mimetype": "text/x-python",
   "name": "python",
   "nbconvert_exporter": "python",
   "pygments_lexer": "ipython3",
   "version": "3.10.4"
  },
  "orig_nbformat": 4
 },
 "nbformat": 4,
 "nbformat_minor": 2
}
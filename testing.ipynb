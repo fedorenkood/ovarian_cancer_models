{
 "cells": [
  {
   "cell_type": "code",
   "execution_count": 1,
   "metadata": {
    "collapsed": false,
    "pycharm": {
     "name": "#%%\n"
    }
   },
   "outputs": [],
   "source": [
    "from __future__ import annotations\n",
    "from oop_functions.classifier_oop import *\n",
    "from oop_functions.util_functions import *\n",
    "from oop_functions.merge_dataset_functions import *\n",
    "from oop_functions.analytics_oop import *\n",
    "\n",
    "from xgboost import XGBClassifier"
   ]
  },
  {
   "cell_type": "code",
   "execution_count": null,
   "outputs": [],
   "source": [
    "processed_data = pd.read_csv('./processed_dataset/recent_propagated_dataset.csv', index_col=0)\n",
    "missing_df = pd.read_csv('./missing_features/combined_missing.csv', index_col=0)"
   ],
   "metadata": {
    "collapsed": false,
    "pycharm": {
     "name": "#%%\n"
    }
   }
  },
  {
   "cell_type": "code",
   "execution_count": null,
   "outputs": [],
   "source": [
    "year = 1\n",
    "label = f'cancer_in_next_{year}_years'\n",
    "source_df = processed_data\n",
    "source_df = resample_class(source_df, label, 0, 30000)"
   ],
   "metadata": {
    "collapsed": false,
    "pycharm": {
     "name": "#%%\n"
    }
   }
  },
  {
   "cell_type": "code",
   "execution_count": null,
   "outputs": [],
   "source": [
    "classifier = XGBClassifier(eval_metric= 'error', learning_rate= 0.1)\n",
    "experiment_data_helper = ExperimentDataHelper1(source_df, label, ['cancer_'])\n",
    "data_util_lambdas = experiment_data_helper.train_test_split_util.split_kfold(5)\n",
    "data_util = data_util_lambdas[0]()"
   ],
   "metadata": {
    "collapsed": false,
    "pycharm": {
     "name": "#%%\n"
    }
   }
  },
  {
   "cell_type": "code",
   "execution_count": null,
   "outputs": [],
   "source": [
    "analytics_util = AnalyticsUtil(classifier, data_util).fit()"
   ],
   "metadata": {
    "collapsed": false,
    "pycharm": {
     "name": "#%%\n"
    }
   }
  },
  {
   "cell_type": "code",
   "execution_count": null,
   "outputs": [],
   "source": [
    "precision, recall = analytics_util.get_report_generation_util().get_precison_recall_results()"
   ],
   "metadata": {
    "collapsed": false,
    "pycharm": {
     "name": "#%%\n"
    }
   }
  },
  {
   "cell_type": "code",
   "execution_count": null,
   "outputs": [],
   "source": [
    "recall_mean    = np.linspace(0, 1, 100)\n",
    "interp_precision    = np.interp(recall_mean, precision, recall)\n",
    "# interp_precision[0] = 0.0"
   ],
   "metadata": {
    "collapsed": false,
    "pycharm": {
     "name": "#%%\n"
    }
   }
  },
  {
   "cell_type": "code",
   "execution_count": null,
   "outputs": [],
   "source": [
    "analytics_util.get_report_generation_util().display_graph_interp()"
   ],
   "metadata": {
    "collapsed": false,
    "pycharm": {
     "name": "#%%\n"
    }
   }
  },
  {
   "cell_type": "code",
   "execution_count": null,
   "outputs": [],
   "source": [
    "analytics_util.get_report_generation_util().display_graph()"
   ],
   "metadata": {
    "collapsed": false,
    "pycharm": {
     "name": "#%%\n"
    }
   }
  },
  {
   "cell_type": "code",
   "execution_count": null,
   "outputs": [],
   "source": [
    "def isin_filter(df: pd.DataFrame, col: str, values: List):\n",
    "    return df[df[col].isin(values)]\n",
    "\n",
    "# filtered_on = list(itertools.chain.from_iterable([zip([key]*len(vals), vals) for key, vals in differentiate_confusion_matrix_over.items()]))\n",
    "# TODO: finish this one\n",
    "differentiate_confusion_matrix_over = {\n",
    "    'was_screened': [\n",
    "        ([0], lambda df: isin_filter(df, 'was_screened', [0])), \n",
    "        ([1], lambda df: isin_filter(df, 'was_screened', [1]))\n",
    "    ], \n",
    "    'ovar_histtype': [[2], [2, 4, 6, 8, 9, 31]]\n",
    "}"
   ],
   "metadata": {
    "collapsed": false,
    "pycharm": {
     "name": "#%%\n"
    }
   }
  },
  {
   "cell_type": "code",
   "execution_count": null,
   "outputs": [],
   "source": [
    "# Get cv split\n",
    "# run cv classifiers\n",
    "# aggregate cv results\n",
    "# visualize cv results\n",
    "# save cv results\n",
    "class CvAnalyticsUtil:\n",
    "    def __init__(self, analytics_utils: List[AnalyticsUtil], missing_df: pd.DataFrame) -> None:\n",
    "        self.analytics_utils = analytics_utils\n",
    "        self.missing_df = missing_df\n",
    "    \n",
    "    def run_experiment_on_filter(self, filter):\n",
    "        # TODO: run experiment on particular filter\n",
    "        # filtered_on = list(itertools.chain.from_iterable([zip([key]*len(vals), vals) for key, vals in differentiate_confusion_matrix_over.items()]))\n",
    "        # for i, (X_test_filtered, y_test_filtered) in enumerate(differentiated_test_sets):\n",
    "        #     print(f'Filtered on: {filtered_on[i]}')                \n",
    "        #     y_pred = trained_classifier.predict(X_test_filtered)\n",
    "        #     y_prob = trained_classifier.predict_proba(X_test_filtered)[:,1]\n",
    "        #     performance_analysis(y_pred, y_prob, y_test_filtered, show_graph=True)\n",
    "        pass\n",
    "\n",
    "    def get_cv_report(self):\n",
    "        cv_scores = []\n",
    "        for k, analytics_util in enumerate(self.analytics_utils):\n",
    "            report = analytics_util.get_report_generation_util().generate_report().get_report()\n",
    "            cv_scores.append(report)\n",
    "        cv_scores = pd.concat(cv_scores)\n",
    "        cv_scores = cv_scores.reset_index()\n",
    "        cv_scores = cv_scores.drop('index', axis=1)\n",
    "        measures_df = cv_scores.describe().T[['mean', 'std', 'min', 'max']]\n",
    "        print('\\n\\nCross-Validation measures:')\n",
    "        print_df(measures_df)\n",
    "        return cv_scores, measures_df\n",
    "\n",
    "    def get_confusion_matrix(self):\n",
    "        confusion_matirices = []\n",
    "        for k, analytics_util in enumerate(self.analytics_utils):\n",
    "            cm = analytics_util.get_report_generation_util().get_confusion_matrix()\n",
    "            confusion_matirices.append(cm)\n",
    "        columns=confusion_matirices[0].columns\n",
    "        index=confusion_matirices[0].index\n",
    "        cv_cm = np.array(confusion_matirices)\n",
    "        cv_cm = cv_cm.mean(axis=0)\n",
    "        cv_cm = cv_cm.round(0)\n",
    "        return pd.DataFrame(cv_cm, columns=columns, index=index).astype(np.int16)\n",
    "    \n",
    "    def roc_with_interval(self):\n",
    "        fpr_mean    = np.linspace(0, 1, 100)\n",
    "        interp_tprs = []\n",
    "        thresholds_list = []\n",
    "        for k, analytics_util in enumerate(self.analytics_utils):\n",
    "            fpr, tpr, thresholds = analytics_util.get_report_generation_util().get_roc_results_interp()\n",
    "            interp_tprs.append(tpr)\n",
    "            thresholds_list.append(thresholds)\n",
    "        tpr_mean     = np.mean(interp_tprs, axis=0)\n",
    "        tpr_mean[-1] = 1.0\n",
    "        tpr_std      = np.std(interp_tprs, axis=0)\n",
    "        thresholds_mean = np.mean(thresholds_list, axis=0)\n",
    "        return fpr_mean, tpr_mean, thresholds_mean, tpr_std*1.96\n",
    "\n",
    "    def precision_recall_with_interval(self):\n",
    "        recall_mean    = np.linspace(0, 1, 100)\n",
    "        interp_precision = []\n",
    "        for k, analytics_util in enumerate(self.analytics_utils):\n",
    "            precision, recall = analytics_util.get_report_generation_util().get_precison_recall_results_interp()\n",
    "            interp_precision.append(precision)\n",
    "        precision_mean     = np.mean(interp_precision, axis=0)\n",
    "        precision_std      = np.std(interp_precision, axis=0)\n",
    "        return precision_mean, recall_mean, precision_std*1.96\n",
    "    \n",
    "    def store_cv_results(self):\n",
    "        # TODO: inject base directory?\n",
    "        # I assume that all of the analytics_utils have the same classifier type\n",
    "        classifier_type = self.analytics_utils[0].classifier.__class__.__name__\n",
    "        cv_scores, measures_df = self.get_cv_report()\n",
    "        cv_scores.to_csv(f'./cv_scores/cv_scores_for_{classifier_type}_{label}.csv')\n",
    "        measures_df.to_csv(f'./cv_scores/cv_stats_for_{classifier_type}_{label}.csv')\n",
    "\n",
    "    def update_thresholds(self):\n",
    "        # TODO: update thresholds for each of the analytics utils\n",
    "        pass\n",
    "    \n",
    "    def display_graph(self) -> VisualizationUtil:\n",
    "        f, ax = plt.subplots(1, 3, figsize=(16, 5))\n",
    "        plt.yticks(rotation = 0)\n",
    "        visualization_util = VisualizationUtil()\n",
    "        visualization_util.display_confusion_matrix(ax[0], self.get_confusion_matrix())\n",
    "        visualization_util.display_roc_graph(ax[-2], *self.roc_with_interval())\n",
    "        visualization_util.display_roc_threshold(ax[-2], *self.roc_with_interval())\n",
    "        visualization_util.display_precision_recall(ax[-1], *self.precision_recall_with_interval())\n",
    "        plt.show()\n",
    "        return visualization_util\n",
    "\n",
    "\n",
    "class FeatureImportanceCvAnalyticsUtil(CvAnalyticsUtil):\n",
    "    def get_cv_feature_selection(self) -> pd.DataFrame:\n",
    "        df_feature_importance_tree = None\n",
    "        for k, analytics_util in enumerate(self.analytics_utils):\n",
    "            fn=analytics_util.data_util.get_feature_names()\n",
    "            top_feature_stats, feature_importances = analytics_util.feature_selection()\n",
    "            feature_importances = feature_importances[feature_importances['importance'] > 0]\n",
    "            if df_feature_importance_tree is not None:\n",
    "                df_feature_importance_tree = df_feature_importance_tree.merge(feature_importances, on='column_name', how='outer', suffixes=[f'_tiral_{k}', f'_tiral_{k+1}'])\n",
    "            else:\n",
    "                df_feature_importance_tree = feature_importances\n",
    "        # Mean of feature importance over trials\n",
    "        df_feature_importance_mean = df_feature_importance_tree.drop('column_name', axis=1)\n",
    "        df_feature_importance_mean = df_feature_importance_mean.T\n",
    "        df_feature_importance_mean.columns = df_feature_importance_tree['column_name']\n",
    "        df_feature_importance_mean = df_feature_importance_mean.astype('float')\n",
    "        df_feature_importance_mean_describe = df_feature_importance_mean.describe().T\n",
    "        df_feature_importance_mean_describe.sort_values('mean', ascending=False, inplace=True)\n",
    "        # print(df_feature_importance_mean_describe.columns)\n",
    "        df_feature_importance_mean_describe = df_feature_importance_mean_describe[['count', 'mean']]\n",
    "        # print_df(df_feature_importance_mean_describe)\n",
    "        df_feature_importance_mean_describe = df_feature_importance_mean_describe.merge(self.missing_df, on='column_name')\n",
    "        return df_feature_importance_mean_describe\n",
    "    \n",
    "    def store_cv_results(self):\n",
    "        super(FeatureImportanceCvAnalyticsUtil, self).store_cv_results()\n",
    "        classifier_type = self.analytics_utils[0].classifier.__class__.__name__\n",
    "        df_feature_importance_mean_describe = self.get_cv_feature_selection()\n",
    "        num_folds = len(self.analytics_utils)\n",
    "        df_feature_importance_mean_describe.to_csv(f'./feature_importance/feature_importance_mean_{classifier_type}_{label}__{num_folds}_trials.csv')\n",
    "        \n",
    "\n",
    "class ExperimentRunner:\n",
    "    def __init__(self, \n",
    "                 classifier, \n",
    "                 experiment_data_helper: ExperimentDataHelper, \n",
    "                 missing_df: pd.DataFrame, \n",
    "                 num_folds: int = 10, \n",
    "                 test_n_folds: int = 1, \n",
    "                 n_repeats: int = 1) -> None:\n",
    "        self.classifier = clone(classifier) \n",
    "        self.experiment_data_helper = experiment_data_helper\n",
    "        # TODO: more elegant way to inject missing df\n",
    "        self.missing_df = missing_df\n",
    "        # Instead of running all folds just run several folds so that it is easier to bench test\n",
    "        self.num_folds = num_folds\n",
    "        self.test_n_folds = test_n_folds\n",
    "        if self.test_n_folds is None:\n",
    "            self.test_n_folds = self.num_folds * self.n_repeats\n",
    "        # TODO: RepeatedStratifiedKFold instead of StratifiedKFold to run experiments\n",
    "        self.n_repeats = n_repeats\n",
    "\n",
    "    def get_analytics_util(self) -> AnalyticsUtil:\n",
    "        if self.classifier.__class__.__name__ == 'DecisionTreeClassifier':\n",
    "            return DesicionTreeAnalyticsUtil\n",
    "        if self.classifier.__class__.__name__ == 'XGBClassifier':\n",
    "            return XgbAnalyticsUtil\n",
    "        return AnalyticsUtil\n",
    "\n",
    "    def get_cv_analytics_util(self) -> CvAnalyticsUtil:\n",
    "        if self.classifier.__class__.__name__ == 'DecisionTreeClassifier':\n",
    "            return FeatureImportanceCvAnalyticsUtil\n",
    "        if self.classifier.__class__.__name__ == 'XGBClassifier':\n",
    "            return FeatureImportanceCvAnalyticsUtil\n",
    "        return CvAnalyticsUtil\n",
    "    \n",
    "    def run_experiment(self) -> CvAnalyticsUtil:\n",
    "        data_util_lambdas = experiment_data_helper.train_test_split_util.split_kfold(self.num_folds)\n",
    "        analytics_utils = []\n",
    "        for i in range(self.test_n_folds):\n",
    "            data_util = data_util_lambdas[i]()\n",
    "            analytics_util = self.get_analytics_util()(self.classifier, data_util).fit()\n",
    "            analytics_utils.append(analytics_util)\n",
    "        return self.get_cv_analytics_util()(analytics_utils, self.missing_df)"
   ],
   "metadata": {
    "collapsed": false,
    "pycharm": {
     "name": "#%%\n"
    }
   }
  },
  {
   "cell_type": "code",
   "execution_count": null,
   "outputs": [],
   "source": [
    "experiment_runner = ExperimentRunner(classifier, experiment_data_helper, missing_df, test_n_folds=3)\n",
    "cv_analytics_util = experiment_runner.run_experiment()"
   ],
   "metadata": {
    "collapsed": false,
    "pycharm": {
     "name": "#%%\n"
    }
   }
  },
  {
   "cell_type": "code",
   "execution_count": null,
   "outputs": [],
   "source": [
    "cv_analytics_util.display_graph()"
   ],
   "metadata": {
    "collapsed": false,
    "pycharm": {
     "name": "#%%\n"
    }
   }
  },
  {
   "cell_type": "code",
   "execution_count": null,
   "outputs": [],
   "source": [
    "cv_analytics_util.get_confusion_matrix()"
   ],
   "metadata": {
    "collapsed": false,
    "pycharm": {
     "name": "#%%\n"
    }
   }
  },
  {
   "cell_type": "code",
   "execution_count": null,
   "outputs": [],
   "source": [
    "cv_analytics_util.analytics_utils[0].get_report_generation_util().generate_report().get_report()"
   ],
   "metadata": {
    "collapsed": false,
    "pycharm": {
     "name": "#%%\n"
    }
   }
  },
  {
   "cell_type": "code",
   "execution_count": null,
   "outputs": [],
   "source": [
    "# TODO: get high confidence mismatches\n",
    "# fp_mismatches = get_high_confidence_errors(classifier, X_train, X_test, y_train, y_test, label, label_val=0)\n",
    "\n",
    "def scale_features(df):\n",
    "    sc = StandardScaler()\n",
    "    df_scaled = df.copy()\n",
    "    df_scaled = sc.fit_transform(df_scaled)\n",
    "    df_scaled = pd.DataFrame(df_scaled, columns=df.columns, index=df.index)\n",
    "    return df_scaled\n",
    "\n",
    "def get_nearest_neighbors(df1, df2, top=5):\n",
    "    df1 = df1.drop_duplicates()\n",
    "    df2 = df2.drop_duplicates()\n",
    "    df1 = scale_features(df1)\n",
    "    df2 = scale_features(df2)\n",
    "    euclidean_distances = []\n",
    "    indexes = []\n",
    "    for i in range(len(df1)):\n",
    "        row1 = df1.iloc[i]\n",
    "        distances = []\n",
    "        for j, row2 in df2.iterrows():\n",
    "            distances.append((j, distance.euclidean(row1, row2)))\n",
    "        distances = sorted(distances, key=lambda x: x[1], reverse=False)[:top]\n",
    "        distances = pd.DataFrame(distances, columns=['index', 'distance'])\n",
    "        indexes.append((distances['index'].to_list()))\n",
    "        euclidean_distances.append(distances['distance'].to_list())\n",
    "    return euclidean_distances, indexes\n",
    "\n",
    "def get_high_confidence_errors(classifier, X_train, X_test, y_train, y_test, label, label_val=0):\n",
    "    # Insert predicted class and its likelihood\n",
    "    X_train = X_train.copy()\n",
    "    X_test = X_test.copy()\n",
    "    y_pred = classifier.predict(X_test)\n",
    "    y_prob = classifier.predict_proba(X_test)[:,1]\n",
    "    X_test_mismatch = X_test.copy()\n",
    "    X_test_mismatch[label] = y_test\n",
    "    X_test_mismatch[f'{label}_pred'] = y_pred\n",
    "    X_test_mismatch[f'{label}_prob'] = y_prob\n",
    "    X_test_mismatch = X_test_mismatch.drop_duplicates()\n",
    "    X_test_mismatch = X_test_mismatch[X_test_mismatch[label] != X_test_mismatch[f'{label}_pred']]\n",
    "    \n",
    "    # X_test_high_conf = X_test_mismatch[(X_test_mismatch[f'{label}_prob'] < 0.2) | (X_test_mismatch[f'{label}_prob'] > 0.8)]\n",
    "    X_test_high_conf = X_test_mismatch\n",
    "    X_test_high_conf = X_test_high_conf[X_test_high_conf[f'{label}_pred'] == label_val]\n",
    "    \n",
    "    # Select 5 nearest neightbors \n",
    "    X_train[label] = y_train\n",
    "    X_train_filtered = X_train[X_train[label] == label_val].drop(label, axis=1)\n",
    "    # X_test_high_conf = X_test.loc[X_test_high_conf.index, :]\n",
    "    # Calculated euclidean distances\n",
    "    distances, indices = get_nearest_neighbors(X_test.loc[X_test_high_conf.index, :], X_train_filtered)\n",
    "    fp_mismatches = []\n",
    "    X_train[f'{label}_pred'] = -1\n",
    "    X_train[f'{label}_prob'] = -1\n",
    "    X_train = X_train.drop_duplicates()\n",
    "    # print_df(X_train)\n",
    "    for i in range(len(X_test_high_conf)):\n",
    "        idx = indices[i]\n",
    "        missed_record = X_test_high_conf.iloc[[i], :]\n",
    "        missed_record['distance'] = 0\n",
    "        close_records = X_train.loc[idx, :]\n",
    "        close_records['distance'] = distances[i]\n",
    "        fp_mismatches.append((missed_record, close_records))\n",
    "    return fp_mismatches\n",
    "\n"
   ],
   "metadata": {
    "collapsed": false,
    "pycharm": {
     "name": "#%%\n"
    }
   }
  },
  {
   "cell_type": "code",
   "execution_count": 9,
   "metadata": {
    "collapsed": false,
    "pycharm": {
     "name": "#%%\n"
    }
   },
   "outputs": [
    {
     "name": "stderr",
     "output_type": "stream",
     "text": [
      "No artists with labels found to put in legend.  Note that artists whose label start with an underscore are ignored when legend() is called with no argument.\n"
     ]
    },
    {
     "data": {
      "image/png": "[encoded data removed]",
      "text/plain": [
       "<Figure size 1152x360 with 3 Axes>"
      ]
     },
     "metadata": {
      "needs_background": "light"
     },
     "output_type": "display_data"
    },
    {
     "data": {
      "text/plain": [
       "<oop_functions.analytics_oop.VisualizationUtil at 0x1c6010dece0>"
      ]
     },
     "execution_count": 9,
     "metadata": {},
     "output_type": "execute_result"
    }
   ],
   "source": [
    "analytics_util.get_report_generation_util().display_graph()"
   ]
  },
  {
   "cell_type": "code",
   "execution_count": 10,
   "metadata": {},
   "outputs": [],
   "source": [
    "def isin_filter(df: pd.DataFrame, col: str, values: List):\n",
    "    return df[df[col].isin(values)]\n",
    "\n",
    "# filtered_on = list(itertools.chain.from_iterable([zip([key]*len(vals), vals) for key, vals in differentiate_confusion_matrix_over.items()]))\n",
    "# TODO: finish this one\n",
    "differentiate_confusion_matrix_over = {\n",
    "    'was_screened': [\n",
    "        ([0], lambda df: isin_filter(df, 'was_screened', [0])), \n",
    "        ([1], lambda df: isin_filter(df, 'was_screened', [1]))\n",
    "    ], \n",
    "    'ovar_histtype': [[2], [2, 4, 6, 8, 9, 31]]\n",
    "}"
   ]
  },
  {
   "cell_type": "code",
   "execution_count": 11,
   "metadata": {
    "collapsed": false,
    "pycharm": {
     "name": "#%%\n"
    }
   },
   "outputs": [],
   "source": [
    "# Get cv split\n",
    "# run cv classifiers\n",
    "# aggregate cv results\n",
    "# visualize cv results\n",
    "# save cv results\n",
    "class CvAnalyticsUtil:\n",
    "    def __init__(self, analytics_utils: List[AnalyticsUtil], missing_df: pd.DataFrame) -> None:\n",
    "        self.analytics_utils = analytics_utils\n",
    "        self.missing_df = missing_df\n",
    "    \n",
    "    def run_experiment_on_filter(self, filter):\n",
    "        # TODO: run experiment on particular filter\n",
    "        # filtered_on = list(itertools.chain.from_iterable([zip([key]*len(vals), vals) for key, vals in differentiate_confusion_matrix_over.items()]))\n",
    "        # for i, (X_test_filtered, y_test_filtered) in enumerate(differentiated_test_sets):\n",
    "        #     print(f'Filtered on: {filtered_on[i]}')                \n",
    "        #     y_pred = trained_classifier.predict(X_test_filtered)\n",
    "        #     y_prob = trained_classifier.predict_proba(X_test_filtered)[:,1]\n",
    "        #     performance_analysis(y_pred, y_prob, y_test_filtered, show_graph=True)\n",
    "        pass\n",
    "\n",
    "    def get_cv_report(self):\n",
    "        cv_scores = []\n",
    "        for k, analytics_util in enumerate(self.analytics_utils):\n",
    "            report = analytics_util.get_report_generation_util().generate_report().get_report()\n",
    "            cv_scores.append(report)\n",
    "        cv_scores = pd.concat(cv_scores)\n",
    "        cv_scores = cv_scores.reset_index()\n",
    "        cv_scores = cv_scores.drop('index', axis=1)\n",
    "        measures_df = cv_scores.describe().T[['mean', 'std', 'min', 'max']]\n",
    "        print('\\n\\nCross-Validation measures:')\n",
    "        print_df(measures_df)\n",
    "        return cv_scores, measures_df\n",
    "\n",
    "    def get_confusion_matrix(self):\n",
    "        confusion_matirices = []\n",
    "        for k, analytics_util in enumerate(self.analytics_utils):\n",
    "            cm = analytics_util.get_report_generation_util().get_confusion_matrix()\n",
    "            confusion_matirices.append(cm)\n",
    "        columns=confusion_matirices[0].columns\n",
    "        index=confusion_matirices[0].index\n",
    "        cv_cm = np.array(confusion_matirices)\n",
    "        cv_cm = cv_cm.mean(axis=0)\n",
    "        cv_cm = cv_cm.round(0)\n",
    "        return pd.DataFrame(cv_cm, columns=columns, index=index).astype(np.int16)\n",
    "    \n",
    "    def roc_with_interval(self):\n",
    "        fpr_mean    = np.linspace(0, 1, 100)\n",
    "        interp_tprs = []\n",
    "        thresholds_list = []\n",
    "        for k, analytics_util in enumerate(self.analytics_utils):\n",
    "            fpr, tpr, thresholds = analytics_util.get_report_generation_util().get_roc_results_interp()\n",
    "            interp_tprs.append(tpr)\n",
    "            thresholds_list.append(thresholds)\n",
    "        tpr_mean     = np.mean(interp_tprs, axis=0)\n",
    "        tpr_mean[-1] = 1.0\n",
    "        tpr_std      = np.std(interp_tprs, axis=0)\n",
    "        thresholds_mean = np.mean(thresholds_list, axis=0)\n",
    "        return fpr_mean, tpr_mean, thresholds_mean, tpr_std*1.96\n",
    "\n",
    "    def precision_recall_with_interval(self):\n",
    "        recall_mean    = np.linspace(0, 1, 100)\n",
    "        interp_precision = []\n",
    "        for k, analytics_util in enumerate(self.analytics_utils):\n",
    "            precision, recall = analytics_util.get_report_generation_util().get_precison_recall_results_interp()\n",
    "            interp_precision.append(precision)\n",
    "        precision_mean     = np.mean(interp_precision, axis=0)\n",
    "        precision_std      = np.std(interp_precision, axis=0)\n",
    "        return precision_mean, recall_mean, precision_std*1.96\n",
    "    \n",
    "    def store_cv_results(self):\n",
    "        # TODO: inject base directory?\n",
    "        # I assume that all of the analytics_utils have the same classifier type\n",
    "        classifier_type = self.analytics_utils[0].classifier.__class__.__name__\n",
    "        cv_scores, measures_df = self.get_cv_report()\n",
    "        cv_scores.to_csv(f'./cv_scores/cv_scores_for_{classifier_type}_{label}.csv')\n",
    "        measures_df.to_csv(f'./cv_scores/cv_stats_for_{classifier_type}_{label}.csv')\n",
    "\n",
    "    def update_thresholds(self):\n",
    "        # TODO: update thresholds for each of the analytics utils\n",
    "        pass\n",
    "    \n",
    "    def display_graph(self) -> VisualizationUtil:\n",
    "        f, ax = plt.subplots(1, 3, figsize=(16, 5))\n",
    "        plt.yticks(rotation = 0)\n",
    "        visualization_util = VisualizationUtil()\n",
    "        visualization_util.display_confusion_matrix(ax[0], self.get_confusion_matrix())\n",
    "        visualization_util.display_roc_graph(ax[-2], *self.roc_with_interval())\n",
    "        visualization_util.display_roc_threshold(ax[-2], *self.roc_with_interval())\n",
    "        visualization_util.display_precision_recall(ax[-1], *self.precision_recall_with_interval())\n",
    "        plt.show()\n",
    "        return visualization_util\n",
    "\n",
    "\n",
    "class FeatureImportanceCvAnalyticsUtil(CvAnalyticsUtil):\n",
    "    def get_cv_feature_selection(self) -> pd.DataFrame:\n",
    "        df_feature_importance_tree = None\n",
    "        for k, analytics_util in enumerate(self.analytics_utils):\n",
    "            fn=analytics_util.data_util.get_feature_names()\n",
    "            top_feature_stats, feature_importances = analytics_util.feature_selection()\n",
    "            feature_importances = feature_importances[feature_importances['importance'] > 0]\n",
    "            if df_feature_importance_tree is not None:\n",
    "                df_feature_importance_tree = df_feature_importance_tree.merge(feature_importances, on='column_name', how='outer', suffixes=[f'_tiral_{k}', f'_tiral_{k+1}'])\n",
    "            else:\n",
    "                df_feature_importance_tree = feature_importances\n",
    "        # Mean of feature importance over trials\n",
    "        df_feature_importance_mean = df_feature_importance_tree.drop('column_name', axis=1)\n",
    "        df_feature_importance_mean = df_feature_importance_mean.T\n",
    "        df_feature_importance_mean.columns = df_feature_importance_tree['column_name']\n",
    "        df_feature_importance_mean = df_feature_importance_mean.astype('float')\n",
    "        df_feature_importance_mean_describe = df_feature_importance_mean.describe().T\n",
    "        df_feature_importance_mean_describe.sort_values('mean', ascending=False, inplace=True)\n",
    "        # print(df_feature_importance_mean_describe.columns)\n",
    "        df_feature_importance_mean_describe = df_feature_importance_mean_describe[['count', 'mean']]\n",
    "        # print_df(df_feature_importance_mean_describe)\n",
    "        df_feature_importance_mean_describe = df_feature_importance_mean_describe.merge(self.missing_df, on='column_name')\n",
    "        return df_feature_importance_mean_describe\n",
    "    \n",
    "    def store_cv_results(self):\n",
    "        super(FeatureImportanceCvAnalyticsUtil, self).store_cv_results()\n",
    "        classifier_type = self.analytics_utils[0].classifier.__class__.__name__\n",
    "        df_feature_importance_mean_describe = self.get_cv_feature_selection()\n",
    "        num_folds = len(self.analytics_utils)\n",
    "        df_feature_importance_mean_describe.to_csv(f'./feature_importance/feature_importance_mean_{classifier_type}_{label}__{num_folds}_trials.csv')\n",
    "        \n",
    "\n",
    "class ExperimentRunner:\n",
    "    def __init__(self, \n",
    "                 classifier, \n",
    "                 experiment_data_helper: ExperimentDataHelper, \n",
    "                 missing_df: pd.DataFrame, \n",
    "                 num_folds: int = 10, \n",
    "                 test_n_folds: int = 1, \n",
    "                 n_repeats: int = 1) -> None:\n",
    "        self.classifier = clone(classifier) \n",
    "        self.experiment_data_helper = experiment_data_helper\n",
    "        # TODO: more elegant way to inject missing df\n",
    "        self.missing_df = missing_df\n",
    "        # Instead of running all folds just run several folds so that it is easier to bench test\n",
    "        self.num_folds = num_folds\n",
    "        self.test_n_folds = test_n_folds\n",
    "        if self.test_n_folds is None:\n",
    "            self.test_n_folds = self.num_folds * self.n_repeats\n",
    "        # TODO: RepeatedStratifiedKFold instead of StratifiedKFold to run experiments\n",
    "        self.n_repeats = n_repeats\n",
    "\n",
    "    def get_analytics_util(self) -> AnalyticsUtil:\n",
    "        if self.classifier.__class__.__name__ == 'DecisionTreeClassifier':\n",
    "            return DesicionTreeAnalyticsUtil\n",
    "        if self.classifier.__class__.__name__ == 'XGBClassifier':\n",
    "            return XgbAnalyticsUtil\n",
    "        return AnalyticsUtil\n",
    "\n",
    "    def get_cv_analytics_util(self) -> CvAnalyticsUtil:\n",
    "        if self.classifier.__class__.__name__ == 'DecisionTreeClassifier':\n",
    "            return FeatureImportanceCvAnalyticsUtil\n",
    "        if self.classifier.__class__.__name__ == 'XGBClassifier':\n",
    "            return FeatureImportanceCvAnalyticsUtil\n",
    "        return CvAnalyticsUtil\n",
    "    \n",
    "    def run_experiment(self) -> CvAnalyticsUtil:\n",
    "        data_util_lambdas = experiment_data_helper.train_test_split_util.split_kfold(self.num_folds)\n",
    "        analytics_utils = []\n",
    "        for i in range(self.test_n_folds):\n",
    "            data_util = data_util_lambdas[i]()\n",
    "            analytics_util = self.get_analytics_util()(self.classifier, data_util).fit()\n",
    "            analytics_utils.append(analytics_util)\n",
    "        return self.get_cv_analytics_util()(analytics_utils, self.missing_df)"
   ]
  },
  {
   "cell_type": "code",
   "execution_count": 19,
   "metadata": {},
   "outputs": [],
   "source": [
    "experiment_runner = ExperimentRunner(classifier, experiment_data_helper, missing_df, test_n_folds=3)\n",
    "cv_analytics_util = experiment_runner.run_experiment()"
   ]
  },
  {
   "cell_type": "code",
   "execution_count": 20,
   "metadata": {},
   "outputs": [
    {
     "data": {
      "image/png": "[encoded data removed]",
      "text/plain": [
       "<Figure size 1152x360 with 3 Axes>"
      ]
     },
     "metadata": {
      "needs_background": "light"
     },
     "output_type": "display_data"
    },
    {
     "data": {
      "text/plain": [
       "<oop_functions.analytics_oop.VisualizationUtil at 0x1c60017cc10>"
      ]
     },
     "execution_count": 20,
     "metadata": {},
     "output_type": "execute_result"
    }
   ],
   "source": [
    "cv_analytics_util.display_graph()"
   ]
  },
  {
   "cell_type": "code",
   "execution_count": 14,
   "metadata": {},
   "outputs": [
    {
     "data": {
      "text/html": [
       "<div>\n",
       "<style scoped>\n",
       "    .dataframe tbody tr th:only-of-type {\n",
       "        vertical-align: middle;\n",
       "    }\n",
       "\n",
       "    .dataframe tbody tr th {\n",
       "        vertical-align: top;\n",
       "    }\n",
       "\n",
       "    .dataframe thead th {\n",
       "        text-align: right;\n",
       "    }\n",
       "</style>\n",
       "<table border=\"1\" class=\"dataframe\">\n",
       "  <thead>\n",
       "    <tr style=\"text-align: right;\">\n",
       "      <th></th>\n",
       "      <th>Predicted Healthy</th>\n",
       "      <th>Predicted Cancer</th>\n",
       "    </tr>\n",
       "  </thead>\n",
       "  <tbody>\n",
       "    <tr>\n",
       "      <th>Healthy</th>\n",
       "      <td>1230</td>\n",
       "      <td>27</td>\n",
       "    </tr>\n",
       "    <tr>\n",
       "      <th>Cancer</th>\n",
       "      <td>27</td>\n",
       "      <td>34</td>\n",
       "    </tr>\n",
       "  </tbody>\n",
       "</table>\n",
       "</div>"
      ],
      "text/plain": [
       "         Predicted Healthy  Predicted Cancer\n",
       "Healthy               1230                27\n",
       "Cancer                  27                34"
      ]
     },
     "execution_count": 14,
     "metadata": {},
     "output_type": "execute_result"
    }
   ],
   "source": [
    "cv_analytics_util.get_confusion_matrix()"
   ]
  },
  {
   "cell_type": "code",
   "execution_count": 15,
   "metadata": {},
   "outputs": [
    {
     "data": {
      "text/html": [
       "<div>\n",
       "<style scoped>\n",
       "    .dataframe tbody tr th:only-of-type {\n",
       "        vertical-align: middle;\n",
       "    }\n",
       "\n",
       "    .dataframe tbody tr th {\n",
       "        vertical-align: top;\n",
       "    }\n",
       "\n",
       "    .dataframe thead th {\n",
       "        text-align: right;\n",
       "    }\n",
       "</style>\n",
       "<table border=\"1\" class=\"dataframe\">\n",
       "  <thead>\n",
       "    <tr style=\"text-align: right;\">\n",
       "      <th></th>\n",
       "      <th>precision__class_0</th>\n",
       "      <th>recall__class_0</th>\n",
       "      <th>f1-score__class_0</th>\n",
       "      <th>precision__class_1</th>\n",
       "      <th>recall__class_1</th>\n",
       "      <th>f1-score__class_1</th>\n",
       "      <th>accuracy</th>\n",
       "      <th>auc</th>\n",
       "    </tr>\n",
       "  </thead>\n",
       "  <tbody>\n",
       "    <tr>\n",
       "      <th>0</th>\n",
       "      <td>0.980096</td>\n",
       "      <td>0.979316</td>\n",
       "      <td>0.979706</td>\n",
       "      <td>0.580645</td>\n",
       "      <td>0.590164</td>\n",
       "      <td>0.585366</td>\n",
       "      <td>0.961305</td>\n",
       "      <td>0.902983</td>\n",
       "    </tr>\n",
       "  </tbody>\n",
       "</table>\n",
       "</div>"
      ],
      "text/plain": [
       "   precision__class_0  recall__class_0  f1-score__class_0  precision__class_1  \\\n",
       "0            0.980096         0.979316           0.979706            0.580645   \n",
       "\n",
       "   recall__class_1  f1-score__class_1  accuracy       auc  \n",
       "0         0.590164           0.585366  0.961305  0.902983  "
      ]
     },
     "execution_count": 15,
     "metadata": {},
     "output_type": "execute_result"
    }
   ],
   "source": [
    "cv_analytics_util.analytics_utils[0].get_report_generation_util().generate_report().get_report()"
   ]
  },
  {
   "cell_type": "code",
   "execution_count": 16,
   "metadata": {
    "collapsed": false,
    "pycharm": {
     "name": "#%%\n"
    }
   },
   "outputs": [],
   "source": [
    "# TODO: get high confidence mismatches\n",
    "# fp_mismatches = get_high_confidence_errors(classifier, X_train, X_test, y_train, y_test, label, label_val=0)\n",
    "\n",
    "def scale_features(df):\n",
    "    sc = StandardScaler()\n",
    "    df_scaled = df.copy()\n",
    "    df_scaled = sc.fit_transform(df_scaled)\n",
    "    df_scaled = pd.DataFrame(df_scaled, columns=df.columns, index=df.index)\n",
    "    return df_scaled\n",
    "\n",
    "def get_nearest_neighbors(df1, df2, top=5):\n",
    "    df1 = df1.drop_duplicates()\n",
    "    df2 = df2.drop_duplicates()\n",
    "    df1 = scale_features(df1)\n",
    "    df2 = scale_features(df2)\n",
    "    euclidean_distances = []\n",
    "    indexes = []\n",
    "    for i in range(len(df1)):\n",
    "        row1 = df1.iloc[i]\n",
    "        distances = []\n",
    "        for j, row2 in df2.iterrows():\n",
    "            distances.append((j, distance.euclidean(row1, row2)))\n",
    "        distances = sorted(distances, key=lambda x: x[1], reverse=False)[:top]\n",
    "        distances = pd.DataFrame(distances, columns=['index', 'distance'])\n",
    "        indexes.append((distances['index'].to_list()))\n",
    "        euclidean_distances.append(distances['distance'].to_list())\n",
    "    return euclidean_distances, indexes\n",
    "\n",
    "def get_high_confidence_errors(classifier, X_train, X_test, y_train, y_test, label, label_val=0):\n",
    "    # Insert predicted class and its likelihood\n",
    "    X_train = X_train.copy()\n",
    "    X_test = X_test.copy()\n",
    "    y_pred = classifier.predict(X_test)\n",
    "    y_prob = classifier.predict_proba(X_test)[:,1]\n",
    "    X_test_mismatch = X_test.copy()\n",
    "    X_test_mismatch[label] = y_test\n",
    "    X_test_mismatch[f'{label}_pred'] = y_pred\n",
    "    X_test_mismatch[f'{label}_prob'] = y_prob\n",
    "    X_test_mismatch = X_test_mismatch.drop_duplicates()\n",
    "    X_test_mismatch = X_test_mismatch[X_test_mismatch[label] != X_test_mismatch[f'{label}_pred']]\n",
    "    \n",
    "    # X_test_high_conf = X_test_mismatch[(X_test_mismatch[f'{label}_prob'] < 0.2) | (X_test_mismatch[f'{label}_prob'] > 0.8)]\n",
    "    X_test_high_conf = X_test_mismatch\n",
    "    X_test_high_conf = X_test_high_conf[X_test_high_conf[f'{label}_pred'] == label_val]\n",
    "    \n",
    "    # Select 5 nearest neightbors \n",
    "    X_train[label] = y_train\n",
    "    X_train_filtered = X_train[X_train[label] == label_val].drop(label, axis=1)\n",
    "    # X_test_high_conf = X_test.loc[X_test_high_conf.index, :]\n",
    "    # Calculated euclidean distances\n",
    "    distances, indices = get_nearest_neighbors(X_test.loc[X_test_high_conf.index, :], X_train_filtered)\n",
    "    fp_mismatches = []\n",
    "    X_train[f'{label}_pred'] = -1\n",
    "    X_train[f'{label}_prob'] = -1\n",
    "    X_train = X_train.drop_duplicates()\n",
    "    # print_df(X_train)\n",
    "    for i in range(len(X_test_high_conf)):\n",
    "        idx = indices[i]\n",
    "        missed_record = X_test_high_conf.iloc[[i], :]\n",
    "        missed_record['distance'] = 0\n",
    "        close_records = X_train.loc[idx, :]\n",
    "        close_records['distance'] = distances[i]\n",
    "        fp_mismatches.append((missed_record, close_records))\n",
    "    return fp_mismatches\n",
    "\n"
   ]
  }
 ],
 "metadata": {
  "kernelspec": {
   "display_name": "Python 3",
   "language": "python",
   "name": "python3"
  },
  "language_info": {
   "codemirror_mode": {
    "name": "ipython",
    "version": 3
   },
   "file_extension": ".py",
   "mimetype": "text/x-python",
   "name": "python",
   "nbconvert_exporter": "python",
   "pygments_lexer": "ipython3",
   "version": "3.10.4"
  },
  "orig_nbformat": 4
 },
 "nbformat": 4,
 "nbformat_minor": 2
}
{
 "cells": [
  {
   "cell_type": "code",
   "execution_count": 1,
   "metadata": {},
   "outputs": [],
   "source": [
    "from typing import List, Dict\n",
    "\n",
    "from oop_functions.experiment_helper import *\n",
    "from oop_functions.experiment_runner import ExperimentRunner\n",
    "from oop_functions.util_functions import *\n",
    "from oop_functions.visualization_util import *\n",
    "from oop_functions.analytics_cv_util import *\n",
    "\n",
    "%matplotlib inline\n",
    "import warnings\n",
    "\n",
    "warnings.filterwarnings(\"ignore\")\n",
    "\n",
    "import numpy as np\n",
    "import pandas as pd\n",
    "\n",
    "from xgboost import XGBClassifier\n",
    "from sklearn.tree import DecisionTreeClassifier\n",
    "from sklearn.ensemble import RandomForestClassifier\n",
    "\n",
    "import itertools\n",
    "\n",
    "from dcurves import dca, plot_graphs\n"
   ]
  },
  {
   "cell_type": "code",
   "execution_count": 2,
   "metadata": {},
   "outputs": [],
   "source": [
    "processed_data = pd.read_csv('./processed_dataset/recent_propagated_dataset.csv', index_col=0)\n",
    "screen_data = pd.read_csv('./dataset/Ovarian/Screening/ovar_screen_data_mar22_d032222.csv')\n",
    "screen_abnorm_data = pd.read_csv('./dataset/Ovarian/Screening Abnormalities/ovar_scrsub_data_mar22_d032222.csv')"
   ]
  },
  {
   "cell_type": "code",
   "execution_count": 3,
   "metadata": {},
   "outputs": [],
   "source": [
    "unique_ids = screen_data['plco_id'].unique()"
   ]
  },
  {
   "cell_type": "code",
   "execution_count": 4,
   "metadata": {},
   "outputs": [
    {
     "data": {
      "text/plain": [
       "30849"
      ]
     },
     "execution_count": 4,
     "metadata": {},
     "output_type": "execute_result"
    }
   ],
   "source": [
    "len(unique_ids)\n"
   ]
  },
  {
   "cell_type": "code",
   "execution_count": 36,
   "metadata": {},
   "outputs": [
    {
     "data": {
      "text/plain": [
       "150993"
      ]
     },
     "execution_count": 36,
     "metadata": {},
     "output_type": "execute_result"
    }
   ],
   "source": [
    "len(screen_data)"
   ]
  },
  {
   "cell_type": "code",
   "execution_count": 71,
   "metadata": {},
   "outputs": [
    {
     "data": {
      "text/plain": [
       "20186"
      ]
     },
     "execution_count": 71,
     "metadata": {},
     "output_type": "execute_result"
    }
   ],
   "source": [
    "len(screen_abnorm_data)"
   ]
  },
  {
   "cell_type": "code",
   "execution_count": 37,
   "metadata": {},
   "outputs": [],
   "source": [
    "\n",
    "processed_data = convert_numeric_to_float16(processed_data)"
   ]
  },
  {
   "cell_type": "code",
   "execution_count": 38,
   "metadata": {},
   "outputs": [],
   "source": [
    "experiment_data_helpers_inst: Dict[str, ExperimentDataHelper] = {}"
   ]
  },
  {
   "cell_type": "code",
   "execution_count": 39,
   "metadata": {},
   "outputs": [],
   "source": [
    "experiment_data_helpers: List[ExperimentDataHelper] = [\n",
    "    # ExperimentDataHelperSingleLabelScreenedFirst5,    \n",
    "    # ExperimentDataHelperScreenedFirst5,\n",
    "    ExperimentDataHelperNotScreenedColsFirst5,\n",
    "    # ExperimentDataHelperScreenedColsFirst5,\n",
    "    # ExperimentDataHelperScreenedOrCancer,\n",
    "    # ExperimentDataHelperScreened,\n",
    "    # ExperimentDataHelperNotScreenedCols,\n",
    "    # ExperimentDataHelperScreenedCols,\n",
    "    # ExperimentDataHelperAll,\n",
    "    # ExperimentDataHelperSingleLabelScreenedOrCancer,\n",
    "    # ExperimentDataHelperSingleLabelScreened,\n",
    "    # ExperimentDataHelperSingleLabelNotScreenedCols,\n",
    "    # ExperimentDataHelperSingleLabelScreenedCols,\n",
    "    # ExperimentDataHelperSingleLabelAll,\n",
    "    # ExperimentDataHelperScreenedFirst5ca125AndBinary,\n",
    "    # ExperimentDataHelperScreenedFirst5ca125Binary, \n",
    "    # ExperimentDataHelperScreenedFirst5ca125AndBinaryNoResult,\n",
    "]"
   ]
  },
  {
   "cell_type": "code",
   "execution_count": 40,
   "metadata": {},
   "outputs": [
    {
     "name": "stdout",
     "output_type": "stream",
     "text": [
      "_for_experiment_not_screened_cols_first_5_STUB_CLASSIFIER_cancer_in_next_1_years__15_trials\n"
     ]
    }
   ],
   "source": [
    "years = [1]\n",
    "num_folds=15\n",
    "train_size = 25000\n",
    "classifier_name = \"STUB_CLASSIFIER\"\n",
    "for year in years:\n",
    "    for experiment_data_helper_class in experiment_data_helpers:\n",
    "        if year:\n",
    "            label = f'cancer_in_next_{year}_years'\n",
    "        else: \n",
    "            label = 'ovar_cancer'\n",
    "        filesuffix = f'_for_experiment_{experiment_data_helper_class.get_name()}_{classifier_name}_{label}__{num_folds}_trials'\n",
    "        select_cols = None\n",
    "        print(filesuffix)\n",
    "        # print(select_cols)\n",
    "        experiment_data_helper: ExperimentDataHelper = experiment_data_helper_class(processed_data, label, ['cancer_'], train_size = train_size, select_features=select_cols)\n",
    "        experiment_data_helpers_inst[filesuffix] = experiment_data_helper\n",
    "            "
   ]
  },
  {
   "cell_type": "code",
   "execution_count": 66,
   "metadata": {},
   "outputs": [],
   "source": [
    "source_df = processed_data"
   ]
  },
  {
   "cell_type": "code",
   "execution_count": 67,
   "metadata": {},
   "outputs": [],
   "source": [
    "source_df = source_df[['plco_id', 'was_screened']]\n",
    "source_df = source_df.drop_duplicates()"
   ]
  },
  {
   "cell_type": "code",
   "execution_count": 68,
   "metadata": {},
   "outputs": [
    {
     "name": "stdout",
     "output_type": "stream",
     "text": [
      "+----+----------------+---------+\n",
      "|    |   was_screened |   count |\n",
      "|----+----------------+---------|\n",
      "|  0 |              0 |   47360 |\n",
      "|  1 |              1 |   30849 |\n",
      "+----+----------------+---------+\n"
     ]
    }
   ],
   "source": [
    "print_df(get_column_values_count(source_df, 'was_screened'))"
   ]
  },
  {
   "cell_type": "code",
   "execution_count": 44,
   "metadata": {},
   "outputs": [
    {
     "data": {
      "text/plain": [
       "0.3944430947844877"
      ]
     },
     "execution_count": 44,
     "metadata": {},
     "output_type": "execute_result"
    }
   ],
   "source": [
    "30849 / (30849 + 47360)"
   ]
  },
  {
   "cell_type": "code",
   "execution_count": 89,
   "metadata": {},
   "outputs": [],
   "source": [
    "source_df = experiment_data_helper.source_df"
   ]
  },
  {
   "cell_type": "code",
   "execution_count": 46,
   "metadata": {},
   "outputs": [
    {
     "name": "stdout",
     "output_type": "stream",
     "text": [
      "+----+-----------------------------+---------+\n",
      "|    |   is_ca125_screening_record |   count |\n",
      "|----+-----------------------------+---------|\n",
      "|  0 |                           0 |  113452 |\n",
      "|  1 |                           1 |  150988 |\n",
      "+----+-----------------------------+---------+\n"
     ]
    }
   ],
   "source": [
    "print_df(get_column_values_count(source_df, 'is_ca125_screening_record'))"
   ]
  },
  {
   "cell_type": "code",
   "execution_count": 69,
   "metadata": {},
   "outputs": [
    {
     "data": {
      "text/plain": [
       "0.5709726213885947"
      ]
     },
     "execution_count": 69,
     "metadata": {},
     "output_type": "execute_result"
    }
   ],
   "source": [
    "150988 / (150988 + 113452)"
   ]
  },
  {
   "cell_type": "code",
   "execution_count": 90,
   "metadata": {},
   "outputs": [],
   "source": [
    "source_df = source_df[source_df['is_ca125_screening_record'] == 1]"
   ]
  },
  {
   "cell_type": "code",
   "execution_count": 49,
   "metadata": {},
   "outputs": [],
   "source": [
    "# 150758\n",
    "# 150998\n",
    "# 240"
   ]
  },
  {
   "cell_type": "code",
   "execution_count": 87,
   "metadata": {},
   "outputs": [
    {
     "data": {
      "text/plain": [
       "0.000741731678565279"
      ]
     },
     "execution_count": 87,
     "metadata": {},
     "output_type": "execute_result"
    }
   ],
   "source": [
    "112 / 150998"
   ]
  },
  {
   "cell_type": "code",
   "execution_count": 51,
   "metadata": {},
   "outputs": [
    {
     "name": "stdout",
     "output_type": "stream",
     "text": [
      "+----+---------------+---------+\n",
      "|    |   ovar_cancer |   count |\n",
      "|----+---------------+---------|\n",
      "|  0 |             0 |  149792 |\n",
      "|  1 |             1 |    1196 |\n",
      "+----+---------------+---------+\n",
      "+----+--------------------------+---------+\n",
      "|    |   cancer_in_next_1_years |   count |\n",
      "|----+--------------------------+---------|\n",
      "|  0 |                        0 |  150876 |\n",
      "|  1 |                        1 |     112 |\n",
      "+----+--------------------------+---------+\n"
     ]
    }
   ],
   "source": [
    "print_df(get_column_values_count(source_df, 'ovar_cancer'))\n",
    "print_df(get_column_values_count(source_df, 'cancer_in_next_1_years'))"
   ]
  },
  {
   "cell_type": "code",
   "execution_count": 95,
   "metadata": {},
   "outputs": [],
   "source": [
    "source_df = convert_numeric_to_float16(source_df)\n",
    "source_df['age'] "
   ]
  },
  {
   "cell_type": "code",
   "execution_count": 96,
   "metadata": {},
   "outputs": [],
   "source": [
    "summary = summarize_features(source_df)"
   ]
  },
  {
   "cell_type": "code",
   "execution_count": 97,
   "metadata": {},
   "outputs": [
    {
     "name": "stdout",
     "output_type": "stream",
     "text": [
      "+---------------------------+----------------+---------+---------------+--------------+----------+------------+-------------+-------------+-------------+\n",
      "|                           |   unique count |   count |          mean |          std |      min |        25% |         50% |         75% |         max |\n",
      "|---------------------------+----------------+---------+---------------+--------------+----------+------------+-------------+-------------+-------------|\n",
      "| ovar_cancer               |              2 |  150988 |      0        |     0        |   0      |     0      |      0      |      0      |      1      |\n",
      "| ovar_behavior             |              3 |    1196 |      2.99414  |     0.129028 |   1      |     3      |      3      |      3      |      3      |\n",
      "| ovar_histtype             |             11 |    1196 |     10.3594   |    13.0234   |   1      |     2      |      2      |     31      |     39      |\n",
      "| plco_id                   |          30849 |     nan |    nan        |   nan        | nan      |   nan      |    nan      |    nan      |    nan      |\n",
      "| ovary_trial_flag          |              2 |  150988 |    nan        |     0        |   0      |     1      |      1      |      1      |      1      |\n",
      "| educat                    |              8 |  149876 |    nan        |     0        |   1      |     3      |      5      |      6      |      7      |\n",
      "| marital                   |              6 |  149924 |    nan        |     0        |   1      |     1      |      1      |      2      |      5      |\n",
      "| occupat                   |              8 |  149548 |    nan        |     0        |   1      |     2      |      2      |      4      |      7      |\n",
      "| pipe                      |              4 |  148686 |      0        |     0        |   0      |     0      |      0      |      0      |      2      |\n",
      "| cigar                     |              4 |  148419 |      0        |     0        |   0      |     0      |      0      |      0      |      2      |\n",
      "| sisters                   |              9 |  148941 |    nan        |     0        |   0      |     0      |      1      |      2      |      7      |\n",
      "| brothers                  |              9 |  149151 |    nan        |     0        |   0      |     1      |      1      |      3      |      7      |\n",
      "| asp                       |              3 |  149765 |      0        |     0        |   0      |     0      |      0      |      1      |      1      |\n",
      "| ibup                      |              3 |  149431 |      0        |     0        |   0      |     0      |      0      |      1      |      1      |\n",
      "| fmenstr                   |              6 |  149796 |    nan        |     0        |   1      |     3      |      3      |      4      |      5      |\n",
      "| menstrs                   |              5 |  147066 |    nan        |     0        |   1      |     1      |      1      |      2      |      4      |\n",
      "| miscar                    |              4 |  149638 |    nan        |     0        |   0      |     0      |      0      |      1      |      2      |\n",
      "| tubal                     |              4 |  149586 |      0        |     0        |   0      |     0      |      0      |      0      |      2      |\n",
      "| tuballig                  |              4 |  149677 |      0        |     0        |   0      |     0      |      0      |      0      |      2      |\n",
      "| bbd                       |              3 |  147973 |      0        |     0        |   0      |     0      |      0      |      1      |      1      |\n",
      "| benign_ovcyst             |              3 |  145603 |      0        |     0        |   0      |     0      |      0      |      0      |      1      |\n",
      "| endometriosis             |              3 |  145312 |      0        |     0        |   0      |     0      |      0      |      0      |      1      |\n",
      "| uterine_fib               |              3 |  146618 |      0        |     0        |   0      |     0      |      0      |      0      |      1      |\n",
      "| mammo_history             |              5 |  149891 |    nan        |     0        |   0      |     1      |      2      |      2      |      3      |\n",
      "| papsmear_history          |              5 |  149878 |    nan        |     0        |   0      |     1      |      2      |      2      |      3      |\n",
      "| pelvic_history            |              5 |  149996 |    nan        |     0        |   0      |     1      |      2      |      2      |      3      |\n",
      "| usound_history            |              5 |  150000 |      0        |     0        |   0      |     0      |      0      |      0      |      3      |\n",
      "| lmenstr                   |              6 |  148826 |    nan        |     0        |   1      |     2      |      4      |      4      |      5      |\n",
      "| trypreg                   |              3 |  149602 |      0        |     0        |   0      |     0      |      0      |      0      |      1      |\n",
      "| prega                     |              8 |  138784 |    nan        |     0        |   1      |     3      |      3      |      4      |      7      |\n",
      "| pregc                     |              7 |  149787 |    nan        |     0        |   0      |     2      |      3      |      4      |      5      |\n",
      "| stillb                    |              4 |  149238 |      0        |     0        |   0      |     0      |      0      |      0      |      2      |\n",
      "| livec                     |              7 |  149808 |    nan        |     0        |   0      |     2      |      3      |      4      |      5      |\n",
      "| fchilda                   |              8 |  135896 |    nan        |     0        |   1      |     3      |      3      |      4      |      7      |\n",
      "| hystera                   |              6 |   39991 |    inf        |     1.17285  |   1      |     1      |      2      |      3      |      5      |\n",
      "| asppd                     |              9 |  149663 |    nan        |     0        |   0      |     0      |      0      |      2      |      7      |\n",
      "| ibuppd                    |              9 |  149240 |    nan        |     0        |   0      |     0      |      0      |      2      |      7      |\n",
      "| bcontra                   |              5 |   83041 |    nan        |     0        |   1      |     1      |      1      |      2      |      4      |\n",
      "| bcontrt                   |              7 |  149765 |    nan        |     0        |   0      |     0      |      1      |      4      |      5      |\n",
      "| curhorm                   |              3 |  149329 |    nan        |     0        |   0      |     0      |      0      |      1      |      1      |\n",
      "| thorm                     |              7 |  148942 |    nan        |     0        |   0      |     0      |      1      |      3      |      5      |\n",
      "| hyperten_f                |              3 |  149562 |      0        |     0        |   0      |     0      |      0      |      1      |      1      |\n",
      "| hearta_f                  |              3 |  149520 |      0        |     0        |   0      |     0      |      0      |      0      |      1      |\n",
      "| stroke_f                  |              3 |  149588 |      0        |     0        |   0      |     0      |      0      |      0      |      1      |\n",
      "| emphys_f                  |              3 |  149610 |      0        |     0        |   0      |     0      |      0      |      0      |      1      |\n",
      "| bronchit_f                |              3 |  149485 |      0        |     0        |   0      |     0      |      0      |      0      |      1      |\n",
      "| diabetes_f                |              3 |  149607 |      0        |     0        |   0      |     0      |      0      |      0      |      1      |\n",
      "| polyps_f                  |              3 |  149416 |      0        |     0        |   0      |     0      |      0      |      0      |      1      |\n",
      "| arthrit_f                 |              3 |  149471 |    nan        |     0        |   0      |     0      |      0      |      1      |      1      |\n",
      "| osteopor_f                |              3 |  149281 |      0        |     0        |   0      |     0      |      0      |      0      |      1      |\n",
      "| divertic_f                |              3 |  149398 |      0        |     0        |   0      |     0      |      0      |      0      |      1      |\n",
      "| gallblad_f                |              3 |  149410 |      0        |     0        |   0      |     0      |      0      |      0      |      1      |\n",
      "| race7                     |              7 |  150988 |    nan        |     0        |   1      |     1      |      1      |      1      |      7      |\n",
      "| hispanic_f                |              3 |  146626 |      0        |     0        |   0      |     0      |      0      |      0      |      1      |\n",
      "| preg_f                    |              4 |  150008 |    nan        |     0        |   0      |     1      |      1      |      1      |      2      |\n",
      "| hyster_f                  |              4 |  149970 |      0        |     0        |   0      |     0      |      0      |      1      |      2      |\n",
      "| ovariesr_f                |              8 |  150005 |      0        |     0        |   0      |     0      |      0      |      0      |      8      |\n",
      "| bcontr_f                  |              3 |  149916 |    nan        |     0        |   0      |     0      |      1      |      1      |      1      |\n",
      "| horm_f                    |              4 |  149911 |    nan        |     0        |   0      |     0      |      1      |      1      |      2      |\n",
      "| horm_stat                 |              6 |  149911 |    nan        |     0        |   0      |     0      |      1      |      1      |      4      |\n",
      "| smoked_f                  |              3 |  150028 |      0        |     0        |   0      |     0      |      0      |      1      |      1      |\n",
      "| smokea_f                  |             56 |   65016 |    inf        |     5.5      |   8      |    17      |     18      |     21      |     65      |\n",
      "| rsmoker_f                 |              3 |   65243 |      0.204346 |     0.40332  |   0      |     0      |      0      |      0      |      1      |\n",
      "| cigpd_f                   |              9 |  149911 |    nan        |     0        |   0      |     0      |      0      |      2      |      7      |\n",
      "| filtered_f                |              4 |   65198 |    inf        |     0.47583  |   1      |     1      |      1      |      1      |      3      |\n",
      "| cig_stat                  |              4 |  150028 |    nan        |     0        |   0      |     0      |      0      |      2      |      2      |\n",
      "| cig_stop                  |             58 |   64344 |    inf        |    13.4375   |   0      |     2      |     14      |     27      |     57      |\n",
      "| cig_years                 |             64 |  148949 |    nan        |     0        |   0      |     0      |      0      |     23      |     62      |\n",
      "| pack_years                |            181 |  148864 |    nan        |     0        |   0      |     0      |      0      |     18      |    245      |\n",
      "| bmi_20                    |            788 |  148271 |    nan        |     0        |  15.0547 |    19.4844 |     20.7969 |     22.3125 |     59.8125 |\n",
      "| bmi_50                    |           1072 |  148755 |    nan        |     0        |  15.0547 |    21.9688 |     24.125  |     26.625  |     66.125  |\n",
      "| bmi_curr                  |           1232 |  148506 |    nan        |     0        |  15.0547 |    23.1719 |     25.8594 |     29.75   |     73.25   |\n",
      "| bmi_curc                  |              5 |  148506 |    nan        |     0        |   1      |     2      |      3      |      3      |      4      |\n",
      "| weight_f                  |            249 |  148865 |    nan        |   nan        |  70      |   135      |    153      |    175      |    378      |\n",
      "| weight20_f                |            153 |  148622 |    nan        |   nan        |  74      |   115      |    122      |    130      |    399      |\n",
      "| weight50_f                |            221 |  149108 |    nan        |   nan        |  80      |   130      |    142      |    160      |    399      |\n",
      "| height_f                  |             31 |  149355 |    nan        |     0        |  48      |    62      |     64      |     66      |     78      |\n",
      "| menstrs_stat_type         |              9 |  150050 |    nan        |     0        |   1      |     1      |      1      |      3      |      8      |\n",
      "| post_menopausal           |              3 |  150050 |    nan        |     0        |   1      |     1      |      1      |      1      |      2      |\n",
      "| bmi_20c                   |              5 |  148271 |    nan        |     0        |   1      |     2      |      2      |      2      |      4      |\n",
      "| bmi_50c                   |              5 |  148755 |    nan        |     0        |   1      |     2      |      2      |      3      |      4      |\n",
      "| colon_comorbidity         |              3 |  148975 |      0        |     0        |   0      |     0      |      0      |      0      |      1      |\n",
      "| liver_comorbidity         |              3 |  149378 |      0        |     0        |   0      |     0      |      0      |      0      |      1      |\n",
      "| fh_cancer                 |              3 |  149695 |    nan        |     0        |   0      |     0      |      1      |      1      |      1      |\n",
      "| ovarsumm_fh_cnt           |              6 |  149107 |      0        |     0        |   0      |     0      |      0      |      0      |      4      |\n",
      "| breast_fh                 |              5 |  149107 |      0        |     0        |   0      |     0      |      0      |      0      |      9      |\n",
      "| ovarsumm_fh               |              4 |  149107 |      0        |     0        |   0      |     0      |      0      |      0      |      9      |\n",
      "| breast_fh_cnt             |              6 |  149107 |      0        |     0        |   0      |     0      |      0      |      0      |      4      |\n",
      "| breast_fh_age             |             82 |   20801 |    inf        |    14.2891   |  14      |    48      |     58      |     69      |     98      |\n",
      "| ovarsumm_fh_age           |             84 |    5685 |    inf        |    16.3906   |   3      |    46      |     58      |     70      |     98      |\n",
      "| age                       |              7 |  150988 |    nan        |     0        |  50      |    60      |     60      |     65      |     80      |\n",
      "| agelevel                  |              4 |  150988 |    nan        |     0        |   0      |     0      |      1      |      2      |      3      |\n",
      "| ovar_cancer_years         |             20 |  150988 |    nan        |     0        |   0      |   100      |    100      |    100      |    100      |\n",
      "| study_yr                  |              6 |  150988 |    nan        |     0        |   0      |     1      |      2      |      4      |      5      |\n",
      "| is_ca125_screening_record |              1 |  150988 |    nan        |     0        |   1      |     1      |      1      |      1      |      1      |\n",
      "| is_ultra_screening_record |              2 |  150988 |      0        |     0        |   0      |     0      |      0      |      0      |      1      |\n",
      "| cancer_in_next_1_years    |              2 |  150988 |      0        |     0        |   0      |     0      |      0      |      0      |      1      |\n",
      "| ovar_observe_year         |              6 |  150988 |    nan        |     0        |   0      |     1      |      2      |      4      |      5      |\n",
      "| was_screened              |              1 |  150988 |    nan        |     0        |   1      |     1      |      1      |      1      |      1      |\n",
      "| ph_any_not_ovar_bq        |              4 |  150050 |      0        |     0        |   0      |     0      |      0      |      0      |      9      |\n",
      "| index                     |         150988 |  150988 | 142260        | 70331.7      |   3      | 90332.8    | 142857      | 199188      | 264699      |\n",
      "+---------------------------+----------------+---------+---------------+--------------+----------+------------+-------------+-------------+-------------+\n"
     ]
    }
   ],
   "source": [
    "print_df(summary)"
   ]
  },
  {
   "cell_type": "code",
   "execution_count": 112,
   "metadata": {},
   "outputs": [],
   "source": [
    "ages = source_df['age'].dropna().values.astype(float)"
   ]
  },
  {
   "cell_type": "code",
   "execution_count": 113,
   "metadata": {},
   "outputs": [
    {
     "data": {
      "text/plain": [
       "50.0"
      ]
     },
     "execution_count": 113,
     "metadata": {},
     "output_type": "execute_result"
    }
   ],
   "source": [
    "np.min(ages)"
   ]
  },
  {
   "cell_type": "code",
   "execution_count": 114,
   "metadata": {},
   "outputs": [
    {
     "data": {
      "text/plain": [
       "62.526988899780115"
      ]
     },
     "execution_count": 114,
     "metadata": {},
     "output_type": "execute_result"
    }
   ],
   "source": [
    "np.mean(ages)"
   ]
  },
  {
   "cell_type": "code",
   "execution_count": 115,
   "metadata": {},
   "outputs": [
    {
     "data": {
      "text/plain": [
       "5.628949086774989"
      ]
     },
     "execution_count": 115,
     "metadata": {},
     "output_type": "execute_result"
    }
   ],
   "source": [
    "np.std(ages)"
   ]
  },
  {
   "cell_type": "code",
   "execution_count": 105,
   "metadata": {},
   "outputs": [
    {
     "data": {
      "text/html": [
       "<div>\n",
       "<style scoped>\n",
       "    .dataframe tbody tr th:only-of-type {\n",
       "        vertical-align: middle;\n",
       "    }\n",
       "\n",
       "    .dataframe tbody tr th {\n",
       "        vertical-align: top;\n",
       "    }\n",
       "\n",
       "    .dataframe thead th {\n",
       "        text-align: right;\n",
       "    }\n",
       "</style>\n",
       "<table border=\"1\" class=\"dataframe\">\n",
       "  <thead>\n",
       "    <tr style=\"text-align: right;\">\n",
       "      <th></th>\n",
       "      <th>age</th>\n",
       "    </tr>\n",
       "  </thead>\n",
       "  <tbody>\n",
       "    <tr>\n",
       "      <th>count</th>\n",
       "      <td>150988.0</td>\n",
       "    </tr>\n",
       "    <tr>\n",
       "      <th>mean</th>\n",
       "      <td>NaN</td>\n",
       "    </tr>\n",
       "    <tr>\n",
       "      <th>std</th>\n",
       "      <td>0.0</td>\n",
       "    </tr>\n",
       "    <tr>\n",
       "      <th>min</th>\n",
       "      <td>50.0</td>\n",
       "    </tr>\n",
       "    <tr>\n",
       "      <th>25%</th>\n",
       "      <td>60.0</td>\n",
       "    </tr>\n",
       "    <tr>\n",
       "      <th>50%</th>\n",
       "      <td>60.0</td>\n",
       "    </tr>\n",
       "    <tr>\n",
       "      <th>75%</th>\n",
       "      <td>65.0</td>\n",
       "    </tr>\n",
       "    <tr>\n",
       "      <th>max</th>\n",
       "      <td>80.0</td>\n",
       "    </tr>\n",
       "  </tbody>\n",
       "</table>\n",
       "</div>"
      ],
      "text/plain": [
       "            age\n",
       "count  150988.0\n",
       "mean        NaN\n",
       "std         0.0\n",
       "min        50.0\n",
       "25%        60.0\n",
       "50%        60.0\n",
       "75%        65.0\n",
       "max        80.0"
      ]
     },
     "execution_count": 105,
     "metadata": {},
     "output_type": "execute_result"
    }
   ],
   "source": [
    "source_df[['age']].fillna(60).describe()"
   ]
  },
  {
   "cell_type": "code",
   "execution_count": 106,
   "metadata": {},
   "outputs": [
    {
     "data": {
      "text/plain": [
       "nan"
      ]
     },
     "execution_count": 106,
     "metadata": {},
     "output_type": "execute_result"
    }
   ],
   "source": [
    "np.mean(source_df['age'].dropna())"
   ]
  },
  {
   "cell_type": "code",
   "execution_count": 82,
   "metadata": {},
   "outputs": [],
   "source": [
    "source_df = experiment_data_helper.source_df"
   ]
  },
  {
   "cell_type": "code",
   "execution_count": 83,
   "metadata": {},
   "outputs": [],
   "source": [
    "source_df = source_df[source_df['is_ca125_screening_record'] == 1]\n",
    "source_df = source_df[source_df['ovar_observe_year'] <= 5]"
   ]
  },
  {
   "cell_type": "code",
   "execution_count": 84,
   "metadata": {},
   "outputs": [],
   "source": [
    "source_df = source_df.drop(['age', 'study_yr', 'ovar_observe_year', 'is_ca125_screening_record', 'is_ultra_screening_record', 'index'], axis=1)\n",
    "# source_df = source_df[]\n",
    "source_df = source_df.drop_duplicates()"
   ]
  },
  {
   "cell_type": "code",
   "execution_count": 85,
   "metadata": {},
   "outputs": [
    {
     "name": "stdout",
     "output_type": "stream",
     "text": [
      "+----+---------+---------+\n",
      "|    |   race7 |   count |\n",
      "|----+---------+---------|\n",
      "|  0 |       1 |   27222 |\n",
      "|  1 |       2 |    1666 |\n",
      "|  2 |       3 |     458 |\n",
      "|  3 |       4 |    1077 |\n",
      "|  4 |       5 |     138 |\n",
      "|  5 |       6 |      88 |\n",
      "|  6 |       7 |     283 |\n",
      "+----+---------+---------+\n",
      "+----+---------------+---------+\n",
      "|    |   ovar_cancer |   count |\n",
      "|----+---------------+---------|\n",
      "|  0 |             0 |   30557 |\n",
      "|  1 |             1 |     375 |\n",
      "+----+---------------+---------+\n",
      "+----+--------------------------+---------+\n",
      "|    |   cancer_in_next_1_years |   count |\n",
      "|----+--------------------------+---------|\n",
      "|  0 |                        0 |   30820 |\n",
      "|  1 |                        1 |     112 |\n",
      "+----+--------------------------+---------+\n"
     ]
    }
   ],
   "source": [
    "print_df(get_column_values_count(source_df, 'race7'))\n",
    "print_df(get_column_values_count(source_df, 'ovar_cancer'))\n",
    "print_df(get_column_values_count(source_df, 'cancer_in_next_1_years'))"
   ]
  },
  {
   "cell_type": "code",
   "execution_count": 86,
   "metadata": {},
   "outputs": [
    {
     "data": {
      "text/plain": [
       "0.003942860836403594"
      ]
     },
     "execution_count": 86,
     "metadata": {},
     "output_type": "execute_result"
    }
   ],
   "source": [
    "122 / (122 + 30820)"
   ]
  },
  {
   "cell_type": "code",
   "execution_count": 57,
   "metadata": {},
   "outputs": [],
   "source": [
    "source_df = experiment_data_helper.source_df"
   ]
  },
  {
   "cell_type": "code",
   "execution_count": 58,
   "metadata": {},
   "outputs": [
    {
     "data": {
      "text/plain": [
       "18702"
      ]
     },
     "execution_count": 58,
     "metadata": {},
     "output_type": "execute_result"
    }
   ],
   "source": [
    "len(source_df[(source_df['ovar_observe_year'] <= 5) & (source_df['is_ca125_screening_record'] == 0) & (source_df['is_ultra_screening_record'] == 0) & (source_df['was_screened'] == 1)])"
   ]
  },
  {
   "cell_type": "code",
   "execution_count": 59,
   "metadata": {},
   "outputs": [
    {
     "data": {
      "text/plain": [
       "150988"
      ]
     },
     "execution_count": 59,
     "metadata": {},
     "output_type": "execute_result"
    }
   ],
   "source": [
    "len(source_df[(source_df['ovar_observe_year'] <= 5) & ((source_df['is_ca125_screening_record'] == 1) | (source_df['is_ultra_screening_record'] == 1))])"
   ]
  },
  {
   "cell_type": "code",
   "execution_count": 60,
   "metadata": {},
   "outputs": [
    {
     "data": {
      "text/plain": [
       "150988"
      ]
     },
     "execution_count": 60,
     "metadata": {},
     "output_type": "execute_result"
    }
   ],
   "source": [
    "len(source_df[((source_df['is_ca125_screening_record'] == 1) | (source_df['is_ultra_screening_record'] == 1))])"
   ]
  },
  {
   "cell_type": "code",
   "execution_count": 61,
   "metadata": {},
   "outputs": [
    {
     "data": {
      "text/plain": [
       "150988"
      ]
     },
     "execution_count": 61,
     "metadata": {},
     "output_type": "execute_result"
    }
   ],
   "source": [
    "len(source_df[((source_df['is_ca125_screening_record'] == 1))])"
   ]
  },
  {
   "cell_type": "code",
   "execution_count": 62,
   "metadata": {},
   "outputs": [
    {
     "data": {
      "text/plain": [
       "169690"
      ]
     },
     "execution_count": 62,
     "metadata": {},
     "output_type": "execute_result"
    }
   ],
   "source": [
    "len(source_df[(source_df['ovar_observe_year'] <= 5) & (source_df['was_screened'] == 1)])"
   ]
  },
  {
   "cell_type": "code",
   "execution_count": 63,
   "metadata": {},
   "outputs": [
    {
     "data": {
      "text/plain": [
       "150988"
      ]
     },
     "execution_count": 63,
     "metadata": {},
     "output_type": "execute_result"
    }
   ],
   "source": [
    "len(source_df[(source_df['ovar_observe_year'] <= 5) & ((source_df['is_ca125_screening_record'] == 1) | (source_df['is_ultra_screening_record'] == 1))])"
   ]
  }
 ],
 "metadata": {
  "kernelspec": {
   "display_name": "Python 3",
   "language": "python",
   "name": "python3"
  },
  "language_info": {
   "codemirror_mode": {
    "name": "ipython",
    "version": 3
   },
   "file_extension": ".py",
   "mimetype": "text/x-python",
   "name": "python",
   "nbconvert_exporter": "python",
   "pygments_lexer": "ipython3",
   "version": "3.11.5"
  },
  "orig_nbformat": 4
 },
 "nbformat": 4,
 "nbformat_minor": 2
}

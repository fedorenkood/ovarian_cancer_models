{
 "cells": [
  {
   "cell_type": "code",
   "execution_count": 100,
   "metadata": {},
   "outputs": [],
   "source": [
    "from processing_functions import *\n",
    "%matplotlib inline\n",
    "import warnings\n",
    "\n",
    "warnings.filterwarnings(\"ignore\")\n"
   ]
  },
  {
   "cell_type": "code",
   "execution_count": 101,
   "metadata": {},
   "outputs": [],
   "source": [
    "# reading datasets\n",
    "personal_data = pd.read_csv('./dataset/Ovarian/ovar_data_mar22_d032222.csv')\n",
    "screen_data = pd.read_csv('./dataset/Ovarian/Screening/ovar_screen_data_mar22_d032222.csv')\n",
    "screen_abnorm_data = pd.read_csv('./dataset/Ovarian/Screening Abnormalities/ovar_scrsub_data_mar22_d032222.csv')"
   ]
  },
  {
   "attachments": {},
   "cell_type": "markdown",
   "metadata": {},
   "source": [
    "## Preprocessing\n",
    "For some of the datasets we determined some of the features to not be useful for analysis. For every dataset that includes `build` features. \n",
    "\n",
    "For personal dataset we removed all `ovar_` features since they are a direct result of the cancer diagnosis and should not be used predict cancer. \n",
    "\n",
    "For the screen data dataset it was determined that `examinerid_` features do not bring the value to the dataset since they represet 'Examiner ID made by concatentating center and exam ID for overall screen result.' and cannot be the cause of the cancer. We also drop all of the remaining"
   ]
  },
  {
   "cell_type": "code",
   "execution_count": 102,
   "metadata": {},
   "outputs": [
    {
     "name": "stdout",
     "output_type": "stream",
     "text": [
      "Number of ovar_ cols: 50\n",
      "['ovar_reasfoll', 'ovar_reassurv', 'ovar_reassymp', 'ovar_reasoth', 'ovar_cancer', 'ovar_intstat_cat', 'ovar_annyr', 'ovar_cancer_site', 'ovar_stage', 'ovar_stage_7e', 'ovar_stage_t', 'ovar_stage_n', 'ovar_stage_m', 'ovar_clinstage', 'ovar_clinstage_7e', 'ovar_clinstage_t', 'ovar_clinstage_n', 'ovar_clinstage_m', 'ovar_pathstage', 'ovar_pathstage_7e', 'ovar_pathstage_t', 'ovar_pathstage_n', 'ovar_pathstage_m', 'ovar_grade', 'ovar_topography', 'ovar_morphology', 'ovar_behavior', 'ovar_histtype', 'ovar_exitstat', 'ovar_exitage', 'ovar_seer', 'ovar_cancer_first', 'ovar_curative_surg', 'ovar_curative_chemo', 'ovar_primary_trt', 'ovar_num_heslide_imgs', 'ovar_has_deliv_heslide_img', 'ovar_exitdays', 'ovar_primary_trt_days', 'ovar_cancer_diagdays', 'ovar_mra_stat0', 'ovar_mra_stat1', 'ovar_mra_stat2', 'ovar_mra_stat3', 'ovar_mra_stat4', 'ovar_mra_stat5', 'ovar_eligible_bq', 'ovar_eligible_sqx', 'ovar_eligible_dhq', 'ovar_eligible_dqx']\n",
      "Number of mortality cols: 3\n",
      "['mortality_exitage', 'mortality_exitstat', 'mortality_exitdays']\n",
      "Number of reconsent cols: 2\n",
      "['reconsent_outcome', 'reconsent_outcome_days']\n",
      "Number of is_dead cols: 2\n",
      "['is_dead_with_cod', 'is_dead']\n",
      "Number of build cols: 4\n",
      "['build', 'build_cancers', 'build_incidence_cutoff', 'build_death_cutoff']\n",
      "Number of biopolink cols: 6\n",
      "['biopolink0', 'biopolink1', 'biopolink2', 'biopolink3', 'biopolink4', 'biopolink5']\n",
      "Number of ca125_ cols: 26\n",
      "['ca125_result0', 'ca125_result1', 'ca125_result2', 'ca125_result3', 'ca125_result4', 'ca125_result5', 'ca125_level0', 'ca125_level1', 'ca125_level2', 'ca125_level3', 'ca125_level4', 'ca125_level5', 'ca125_src0', 'ca125_src1', 'ca125_src2', 'ca125_src3', 'ca125_src4', 'ca125_src5', 'ca125_prot', 'ca125_days0', 'ca125_days1', 'ca125_days2', 'ca125_days3', 'ca125_days4', 'ca125_days5', 'ca125_history']\n",
      "Number of tvu cols: 8\n",
      "['tvu_result0', 'tvu_result1', 'tvu_result2', 'tvu_result3', 'tvu_days0', 'tvu_days1', 'tvu_days2', 'tvu_days3']\n",
      "Number of entrydays cols: 4\n",
      "['entrydays_bq', 'entrydays_dqx', 'entrydays_dhq', 'entrydays_sqx']\n",
      "Number of entryage cols: 5\n",
      "['entryage_bq', 'entryage_dqx', 'entryage_dhq', 'entryage_sqx', 'entryage_muq']\n",
      "Number of inad_ cols: 42\n",
      "['inad_bow_p1', 'inad_bow_p2', 'inad_bow_p3', 'inad_dis_p1', 'inad_dis_p2', 'inad_dis_p3', 'inad_mal_p1', 'inad_mal_p2', 'inad_mal_p3', 'inad_probe_p1', 'inad_probe_p2', 'inad_probe_p3', 'inad_ref_p1', 'inad_ref_p2', 'inad_ref_p3', 'inad_oth_p1', 'inad_oth_p2', 'inad_oth_p3', 'inad_bow_q1', 'inad_bow_q2', 'inad_bow_q3', 'inad_dis_q1', 'inad_dis_q2', 'inad_dis_q3', 'inad_mal_q1', 'inad_mal_q2', 'inad_mal_q3', 'inad_probe_q1', 'inad_probe_q2', 'inad_probe_q3', 'inad_ref_q1', 'inad_ref_q2', 'inad_ref_q3', 'inad_oth_q1', 'inad_oth_q2', 'inad_oth_q3', 'inad_bow', 'inad_dis', 'inad_mal', 'inad_probe', 'inad_ref', 'inad_oth']\n",
      "Number of examinerid cols: 7\n",
      "['examinerid_pvis1', 'examinerid_pvis2', 'examinerid_pvis3', 'examinerid_qvis1', 'examinerid_qvis2', 'examinerid_qvis3', 'examinerid']\n",
      "Number of build cols: 3\n",
      "['build', 'build_cancers', 'build_incidence_cutoff']\n",
      "Number of tvures_ cols: 6\n",
      "['tvures_pvis1', 'tvures_pvis2', 'tvures_pvis3', 'tvures_qvis1', 'tvures_qvis2', 'tvures_qvis3']\n",
      "Number of build cols: 3\n",
      "['build', 'build_cancers', 'build_incidence_cutoff']\n"
     ]
    }
   ],
   "source": [
    "# Drop profy features\n",
    "proxy_features_personal_dataset = [\n",
    "    'fstcan_exitdays', # Days from trial entry (randomization) to first cancer diagnosis for participants with cancer, or to trial exit otherwise. Only cancers occuring during the trial are used to determine exit.\n",
    "    'fstcan_exitstat', # Status of the participant at exit for first cancer incidence. Only cancers occuring during the trial are used to determine exit.\n",
    "    'fstcan_exitage',\n",
    "    'f_dthovar', # Is ovarian cancer the underlying cause of death? This conclusion is based on the information from the death certificate and death review.\n",
    "    'f_codeath_cat', # Categorized underlying cause of death.\n",
    "    'f_cancersite', # Underlying cause of death from cancer.\n",
    "    'f_seer_death', # Underlying cause of death.\n",
    "    'd_codeath_cat', # Categorized underlying cause of death.\n",
    "    'd_dthovar', # Is Ovarian Cancer The Underlying Cause Of Death?\n",
    "    'd_cancersite', # \n",
    "    'd_seer_death', # Underlying cause of death.\n",
    "    'ph_ovar_muq', # Did the participant have a personal history of ovarian/ft/pt cancer prior to MUQ analysis entry? \n",
    "    'ph_ovar_sqx', # \n",
    "    'entrydays_muq', # \n",
    "    'ph_ovar_dhq', # \n",
    "    'dth_days', # \n",
    "    'bq_compdays',\n",
    "    'bq_adminm',\n",
    "    'bq_returned',\n",
    "    'ssmokea_f',\n",
    "    'orem_fyro',\n",
    "    'arm',\n",
    "    'sex',\n",
    "    'rndyear',\n",
    "    ]\n",
    "\n",
    "proxy_features_screen_dataset = [\n",
    "    'QAMETHOD',\n",
    "    'tvudays_pvis1',\n",
    "    'tvudays_pvis2',\n",
    "    'tvudays_pvis3',\n",
    "    # 'tvures_qvis1',\n",
    "    # 'tvures_qvis2',\n",
    "    # 'tvures_qvis3',\n",
    "    # 'tvures_pvis3',  # It is completely missing for non-cancer patients\n",
    "    'tvu_days',\n",
    "    'tvu_assess_days_q',\n",
    "    'medcomp', # \n",
    "    'physid',\n",
    "    'detl_q',\n",
    "    'detr_q',\n",
    "    'ca125_src', # \n",
    "    'ca125_days', # \n",
    "    'ca125ii_src', # '\n",
    "    'ca125_level',\n",
    "    'ca125i_assess_days',\n",
    "    'ca125ii_assess_days',\n",
    "]\n",
    "\n",
    "proxy_features_abnorm_dataset = ['VISIT', 'side', 'sbcd', 'source']\n",
    "\n",
    "personal_data = personal_data.drop(proxy_features_personal_dataset, axis=1)\n",
    "screen_data = screen_data.drop(proxy_features_screen_dataset, axis=1)\n",
    "screen_abnorm_data = screen_abnorm_data.drop(proxy_features_abnorm_dataset, axis=1)\n",
    "\n",
    "# Remove all ovar_ features\n",
    "personal_data = remove_featues_startswith(personal_data, ['ovar_', 'mortality', 'reconsent', 'is_dead', 'build', 'biopolink', 'ca125_', 'tvu', 'entrydays', 'entryage'], ['ovar_cancer', 'ovar_cancer_diagdays'])\n",
    "\n",
    "# Remove all inad_ and examinerid_ and build_ features\n",
    "screen_data = remove_featues_startswith(screen_data, ['inad_', 'examinerid', 'build', 'tvures_'])\n",
    "\n",
    "# Drop not useful cols and convert categorical into numerical in screen abnormalities\n",
    "screen_abnorm_data = remove_featues_startswith(screen_abnorm_data, ['build'])"
   ]
  },
  {
   "cell_type": "code",
   "execution_count": 103,
   "metadata": {},
   "outputs": [
    {
     "name": "stdout",
     "output_type": "stream",
     "text": [
      "Num of records in personal dataset: 78209\n",
      "Num of unique plco_id in personal dataset: 78209\n",
      "Num of patients with cancer: 613\n",
      "Num of patients without cancer: 77596\n"
     ]
    }
   ],
   "source": [
    "print_records_vs_unique(personal_data, 'plco_id', 'personal')\n",
    "# Check the number of people with cancer\n",
    "personal_data_cancer = personal_data[personal_data['ovar_cancer']==1]\n",
    "print(f\"Num of patients with cancer: {len(personal_data_cancer)}\")\n",
    "# Check the number of people without cancer\n",
    "personal_data_no_cancer = personal_data[personal_data['ovar_cancer']==0]\n",
    "print(f\"Num of patients without cancer: {len(personal_data_no_cancer)}\")"
   ]
  },
  {
   "cell_type": "code",
   "execution_count": 104,
   "metadata": {},
   "outputs": [
    {
     "data": {
      "text/plain": [
       "Index(['study_yr', 'solid', 'sepst', 'cyst', 'cystw', 'echo', 'maxdi', 'volum',\n",
       "       'plco_id'],\n",
       "      dtype='object')"
      ]
     },
     "execution_count": 104,
     "metadata": {},
     "output_type": "execute_result"
    }
   ],
   "source": [
    "screen_abnorm_data.columns"
   ]
  },
  {
   "cell_type": "code",
   "execution_count": 137,
   "metadata": {},
   "outputs": [],
   "source": [
    "# Convert discrete float columns to floats with lower number of bytes\n",
    "def convert_numeric_to_float16(df):\n",
    "    numeric_cols = select_numeric_columns(df)\n",
    "    df[numeric_cols] = df[numeric_cols].astype(np.float16)\n",
    "    return df"
   ]
  },
  {
   "cell_type": "code",
   "execution_count": 138,
   "metadata": {},
   "outputs": [],
   "source": [
    "\n",
    "personal_data = convert_numeric_to_float16(personal_data)\n",
    "screen_data = convert_numeric_to_float16(screen_data)\n",
    "screen_abnorm_data = convert_numeric_to_float16(screen_abnorm_data)"
   ]
  },
  {
   "attachments": {},
   "cell_type": "markdown",
   "metadata": {},
   "source": [
    "## Merging data into features and mean imputing"
   ]
  },
  {
   "attachments": {},
   "cell_type": "markdown",
   "metadata": {},
   "source": [
    "Deciding which patients will be in training vs test set to learn the mean imputation parameters.\n",
    "\n",
    "Mean imputation: https://www.kaggle.com/general/226554"
   ]
  },
  {
   "attachments": {},
   "cell_type": "markdown",
   "metadata": {},
   "source": [
    "To predict whether person will get cancer in the next 1, 3, 5, 10 years we need to determine what feature describes when person got cancer. In our case that features is `ovar_cancer_diagdays`. We are going to use that feature in the following manner: we are going to have a sliding window to determine whether the person gets cancer withing the period of that window. Then, we are going to slide that window by one year and determine a new batch of people who are going to get cancer in that window and so on. For each of the features that are measured across multiple years we only going to use a record that is at the beginning of the interval. "
   ]
  },
  {
   "attachments": {},
   "cell_type": "markdown",
   "metadata": {},
   "source": [
    "Since `ovar_cancer_diagdays` is described in days and we are concerned about the years when people will get cancer we need to convert this feature into years. Since people got cancer from year 1 to year 19, we are going to bucket it into 19 buckets corresponding to year when person got cancer. "
   ]
  },
  {
   "cell_type": "code",
   "execution_count": 105,
   "metadata": {},
   "outputs": [
    {
     "name": "stdout",
     "output_type": "stream",
     "text": [
      "Max value of ovar_cancer_diagdays in years is 18.89041095890411\n"
     ]
    }
   ],
   "source": [
    "ovar_cancer_diagdays_range = personal_data['ovar_cancer_diagdays'].max() / 365\n",
    "print(f'Max value of ovar_cancer_diagdays in years is {ovar_cancer_diagdays_range}')\n"
   ]
  },
  {
   "cell_type": "code",
   "execution_count": 106,
   "metadata": {},
   "outputs": [],
   "source": [
    "personal_data['ovar_cancer_years'] = pd.cut(personal_data['ovar_cancer_diagdays'], bins=19, labels=list(range(0, 19)), include_lowest=True)\n",
    "personal_data['ovar_cancer_years'] = pd.to_numeric(personal_data['ovar_cancer_years'])"
   ]
  },
  {
   "attachments": {},
   "cell_type": "markdown",
   "metadata": {},
   "source": [
    "We can also set every healthy persons '`ovar_cancer_years`' to 100 so that it is easier to filter them"
   ]
  },
  {
   "cell_type": "code",
   "execution_count": 107,
   "metadata": {},
   "outputs": [],
   "source": [
    "personal_data['ovar_cancer_years'] = personal_data['ovar_cancer_years'].fillna(100)"
   ]
  },
  {
   "attachments": {},
   "cell_type": "markdown",
   "metadata": {},
   "source": [
    "When merging abnormalities dataset we are going to keep each record for each `study_yr`, select the latest `VISIT` if there are multiple and take the largest value of each column over all of the remaining records. "
   ]
  },
  {
   "attachments": {},
   "cell_type": "markdown",
   "metadata": {},
   "source": [
    "See below what I found about CA125 vs CA125ii......it sounds like we should actually just be using CA125ii.  When they switched tests, they actually used the new test (CA125ii) to re-test the frozen samples from all of the patients who had the original test.  So CA125ii should be present for all patients who had testing, and CA125 is only left in as a variable for a perspective on what patients were initially told at that time.\n",
    "\n",
    "\n",
    "So I think that the only variable we need to use for this tumor marker is ca125ii_level0-5, which is from the ovary person dataset, and we can disregard values for ca125_level0-5.\n",
    "\n",
    "\n",
    "CA-125 ASSAYS, VERSIONS 1 AND 2 \n",
    "\n",
    "When the trial began, PLCO used the first version of the assay for all CA-125 exams. On October 1, 1995, CA-125II became available and the protocol was switched to use this for all subsequent screens. A few years after this transition, all of the original samples were re-assayed using version two. So, use CA125_LEVEL0-5 to get the result of a screen from a clinical perspective of what the participant was told following their screening visit. Use CA125II_LEVEL0-5 to get the result of a screen from an epidemiologic perspective, with all values coming from the same assay. \n",
    "\n",
    "\n",
    "Since ca125ii only present in the personal dataset, I only kept the feature that describes the level of ca125ii for a year that is a baseline year (for the windown when they got cancer) of people when merging data."
   ]
  },
  {
   "attachments": {},
   "cell_type": "markdown",
   "metadata": {},
   "source": [
    "\n",
    "`TODO:` some features in the person dataset represent observations over multiple years\n",
    "\n",
    "`TODO:` bucket age by 3 or 5 years"
   ]
  },
  {
   "cell_type": "code",
   "execution_count": 108,
   "metadata": {},
   "outputs": [],
   "source": [
    "def bucket_age(age, bucket_size):\n",
    "    age_buckets = list(range(0, 101, bucket_size))\n",
    "    for i in range(len(age_buckets) - 1):\n",
    "        if age >= age_buckets[i] and age < age_buckets[i+1]:\n",
    "            return age_buckets[i]\n",
    "    return None"
   ]
  },
  {
   "cell_type": "code",
   "execution_count": 135,
   "metadata": {},
   "outputs": [],
   "source": [
    "def merge_data_over_years(person_df, screen_df, abnorm_df, screen_join='left', abrorm_join='left'):\n",
    "    on_col = 'ovar_cancer_years'\n",
    "    # Select max data for each of the features in the abnorm_df, while varied over plco_id and study_yr\n",
    "    abnorm_df = abnorm_df.groupby(['plco_id', 'study_yr'], as_index=False).max()\n",
    "    df_list = []\n",
    "    df_final = pd.DataFrame()\n",
    "    for base_year in range(0, 18):\n",
    "        df = person_df\n",
    "        # individuals who got cancer before the beginning of this window should not be included in the current window\n",
    "        df = df[df[on_col] >= base_year]\n",
    "        # increment certain features by base year\n",
    "        df['age'] = df['age'].apply(lambda age: bucket_age(age+base_year, 5))\n",
    "        # If base year is 0 through 5 we have data on the scan performed on that year, so we can attach that data\n",
    "        # we only use ca125ii_level features, but they are stored under different features for different years\n",
    "        # we need to only use the ones for the appropriate year\n",
    "        df = remove_featues_startswith(df, ['ca125ii_level'], [f'ca125ii_level{base_year}'], show_removed=False)\n",
    "        if base_year <= 5: \n",
    "            df = df.rename({f'ca125ii_level{base_year}': 'ca125ii_level'}, axis=1)\n",
    "            # print([col for col in df.columns if 'ca125ii_level' in col])\n",
    "            df = df.merge(screen_df[screen_df['study_yr'] == base_year], how=screen_join)\n",
    "        # If base year is 0 through 53 we have data on the abnormality on that year, so we can attach that data\n",
    "        if base_year <= 3: \n",
    "            filtered_abnorm = abnorm_df[abnorm_df['study_yr'] == base_year]\n",
    "            df = df.merge(filtered_abnorm, how=abrorm_join)\n",
    "        # Assign new labels whether people will get cancer withing next 1, 3, 5, 10 years based on the current data\n",
    "        for window_size in [1, 3, 5, 10]:\n",
    "            if base_year + window_size >= 20:\n",
    "                continue\n",
    "            label_feature = f'cancer_in_next_{window_size}_years'\n",
    "            df.loc[df[df[on_col] >= base_year + window_size].index, label_feature] = 0\n",
    "            # df[label_feature] = 0\n",
    "            index = df[df[on_col] < base_year + window_size].index\n",
    "            df.loc[index, label_feature] = 1\n",
    "        df_final = pd.concat([df_final, df])\n",
    "        df_final = df_final.drop_duplicates()\n",
    "    return df_final\n"
   ]
  },
  {
   "cell_type": "code",
   "execution_count": 139,
   "metadata": {},
   "outputs": [],
   "source": [
    "personal_filtered = personal_data.drop(['ovar_cancer_diagdays'], axis=1)\n",
    "merged_df = merge_data_over_years(personal_filtered, screen_data, screen_abnorm_data, screen_join='left', abrorm_join='left')"
   ]
  },
  {
   "cell_type": "code",
   "execution_count": 140,
   "metadata": {},
   "outputs": [
    {
     "name": "stdout",
     "output_type": "stream",
     "text": [
      "<class 'pandas.core.frame.DataFrame'>\n",
      "Int64Index: 643704 entries, 0 to 78208\n",
      "Columns: 172 entries, ovar_cancer to cancer_in_next_10_years\n",
      "dtypes: float16(166), float64(4), int64(1), object(1)\n",
      "memory usage: 238.2+ MB\n"
     ]
    }
   ],
   "source": [
    "merged_df.info()"
   ]
  },
  {
   "cell_type": "code",
   "execution_count": 112,
   "metadata": {},
   "outputs": [],
   "source": [
    "# Convert discrete float columns to floats with lower number of bytes\n",
    "# Maybe discretise some\n",
    "# merged_summary = summarize_features(merged_df)\n",
    "# cols_unique_under_90 = merged_summary[merged_summary['unique count'] < 90].index\n",
    "# merged_df[cols_unique_under_90] = merged_df[cols_unique_under_90].astype(np.float16)"
   ]
  },
  {
   "cell_type": "code",
   "execution_count": 114,
   "metadata": {},
   "outputs": [],
   "source": [
    "# TODO: median vs mean impute\n",
    "def labeled_mean_impute(df, label_df, columns, id_col, label_col):\n",
    "    label_dict = {}\n",
    "    df_list = []\n",
    "    for label in sorted(label_df[label_col].unique()):\n",
    "        label_dict[label] = label_df[label_df[label_col] == label][id_col].to_list()\n",
    "\n",
    "    for label, id_list in label_dict.items():\n",
    "        filtered_df = df[df[id_col].isin(id_list)]\n",
    "        for col in columns:\n",
    "            filtered_df[col] = filtered_df[col].fillna(filtered_df[col].mean())\n",
    "        df_list.append(filtered_df)\n",
    "\n",
    "    return pd.concat(df_list, axis=0)\n",
    "\n",
    "class LabeledImmpute:\n",
    "    def __init__(self) -> None:\n",
    "        self.mean = None\n",
    "        self.median = None\n",
    "\n",
    "    def fit(self, df, label_col):\n",
    "        self.mean = df.groupby([label_col], as_index=False).mean()\n",
    "        self.median = df.groupby([label_col], as_index=False).median()\n",
    "\n",
    "    def transform_base(self, df, label_col, values_df):\n",
    "        df_missing_value = df[select_numeric_columns(df)]\n",
    "        df_missing_value = get_missing_values_cols(df_missing_value)\n",
    "        df_missing_value = df_missing_value[df_missing_value.percent_missing > 0]\n",
    "        missing_val_cols = df_missing_value['column_name'].to_list()\n",
    "        df_list = []\n",
    "        for val in df[label_col].unique():\n",
    "            values_dict = values_df[values_df[label_col] == val].to_dict('records')[0]\n",
    "            labeled_df = df[df[label_col] == val]\n",
    "            for col in missing_val_cols:\n",
    "                labeled_df[col] = labeled_df[col].fillna(values_dict[col])\n",
    "            df_list.append(labeled_df)\n",
    "        return pd.concat(df_list)\n",
    "\n",
    "    def transform_median(self, df, label_col):\n",
    "        return self.transform_base(df, label_col, self.median)\n",
    "\n",
    "    def transform_mean(self, df, label_col):\n",
    "        return self.transform_base(df, label_col, self.mean)\n",
    "    \n",
    "    def transform(self, df, label_col, strategy):\n",
    "        if strategy == 'mean':\n",
    "            return self.transform_mean(df, label_col)\n",
    "        return self.transform_median(df, label_col)"
   ]
  },
  {
   "cell_type": "code",
   "execution_count": 115,
   "metadata": {},
   "outputs": [],
   "source": [
    "# Drop features that are 100% missing\n",
    "# merged_df = drop_cols_missing_percentage(100, merged_df, 'merged_df')"
   ]
  },
  {
   "cell_type": "code",
   "execution_count": 116,
   "metadata": {},
   "outputs": [],
   "source": [
    "merged_df = merged_df.drop(['study_yr'], axis=1)"
   ]
  },
  {
   "cell_type": "code",
   "execution_count": 117,
   "metadata": {},
   "outputs": [],
   "source": [
    "# get_cols_missing_percentage(50, merged_df, 'imputed_df', show_missing=True)"
   ]
  },
  {
   "attachments": {},
   "cell_type": "markdown",
   "metadata": {},
   "source": [
    "## Merging Datasets"
   ]
  },
  {
   "attachments": {},
   "cell_type": "markdown",
   "metadata": {},
   "source": [
    "`TODO:` should we dismiss people who do not have records in screen dataset. Abnormalities dataset? Run tests on all of the combinations of merges and imputations? "
   ]
  },
  {
   "attachments": {},
   "cell_type": "markdown",
   "metadata": {},
   "source": [
    "I realized that I was doing labeled mean imputation, which should not happen. So, I performed imputation after I merged cancer and no_cancer datasets back together. Without labeled mean imputation, gaussian NB and logistic regression do not perform well. "
   ]
  },
  {
   "cell_type": "code",
   "execution_count": 118,
   "metadata": {},
   "outputs": [],
   "source": [
    "def impute_data(X_train: pd.DataFrame, X_test: pd.DataFrame, strategy, label):\n",
    "    mean_imputer = SimpleImputer(missing_values=np.nan, strategy=strategy)\n",
    "    mean_imputer.fit(X_train)\n",
    "    X_test = mean_imputer.transform(X_test)\n",
    "    # X_train = pd.DataFrame(X_train, columns=source_df.columns)\n",
    "    # X_test = pd.DataFrame(X_test, columns=source_df.columns)\n",
    "\n",
    "    # labeled_impute = LabeledImmpute()\n",
    "    # labeled_impute.fit(X_train, label)\n",
    "    # X_train = labeled_impute.transform(X_train, label, strategy)\n",
    "    X_train = mean_imputer.transform(X_train)\n",
    "    # X_train = pd.DataFrame(X_train, columns=source_df.columns)\n",
    "    return X_train, X_test"
   ]
  },
  {
   "cell_type": "code",
   "execution_count": 119,
   "metadata": {},
   "outputs": [],
   "source": [
    "\n",
    "def process_train_test_split(source_df, train, test, label, train_size, test_size, strategy, stats=True):\n",
    "    train = source_df[source_df['plco_id'].isin(train['plco_id'])]\n",
    "    test = source_df[source_df['plco_id'].isin(test['plco_id'])]\n",
    "    y_train = train[label]\n",
    "    y_test = test[label]\n",
    "    # Printing stats\n",
    "    if stats:\n",
    "        print(f'Distribution of labels based on duplicate plco_id: {np.sum(y_test)/(np.sum(y_train) + np.sum(y_test))}')\n",
    "    \n",
    "    train = train.drop(['plco_id'], axis=1)\n",
    "    test = test.drop(['plco_id'], axis=1)\n",
    "    train = remove_featues_startswith(train, ['ovar_', 'cancer_'], [label], show_removed=False)\n",
    "    test = remove_featues_startswith(test, ['ovar_', 'cancer_'], [label], show_removed=False)\n",
    "    # Perform imputation before oversampling\n",
    "    columns = train.columns\n",
    "    # get_cols_missing_percentage(80, train, 'train', show_missing=True)\n",
    "    train, test = impute_data(train, test, strategy, label)\n",
    "\n",
    "    train = pd.DataFrame(train, columns=columns)\n",
    "    test = pd.DataFrame(test, columns=columns)\n",
    "    # Perform oversamping\n",
    "    train = resample_max(train, label, train_size, replace=True)\n",
    "    test = resample_max(test, label, test_size, replace=True)\n",
    "\n",
    "    y_train = train[label]\n",
    "    y_test = test[label]\n",
    "    X_train = train.drop([label], axis=1)\n",
    "    X_test = test.drop([label], axis=1)\n",
    "    return X_train, X_test, y_train, y_test\n",
    "\n",
    "def process_and_impute_for_label_kfold(source_df, label, strategy, n_max_per_class=10000, k=10, stats=True):\n",
    "    # remove features starting with cancer so that we could drop labels that are nan (e.g. people get cancer later on)\n",
    "    source_df = remove_featues_startswith(source_df, ['cancer_'], [label], show_removed=False)\n",
    "    source_df = source_df[source_df[label].notnull()]\n",
    "    # One person should not appear in train and test data since there are duplicates of a person\n",
    "    # we splits of data on person id and then oversample from that sample \n",
    "    unique_id_df = source_df[['plco_id', label]].drop_duplicates()\n",
    "    X_train_unique, X_test_unique, y_train, y_test = train_test_split(unique_id_df, unique_id_df[label], test_size = 0.2)\n",
    "\n",
    "    # Printing stats\n",
    "    print(f'Distribution of labels based on unique plco_id: {np.sum(y_test)/(np.sum(y_train) + np.sum(y_test))}')\n",
    "    # print_df(X_train[X_train[label]==1][:100])\n",
    "    train_size = int(n_max_per_class * 0.8)\n",
    "    test_size  = int(n_max_per_class * 0.2)\n",
    "    train_fold_size  = int((k-1) * train_size / k)\n",
    "    test_fold_size  = int(train_size / k)\n",
    "\n",
    "    train_test_lambda = lambda: process_train_test_split(source_df, X_train_unique, X_test_unique, label, train_size, test_size, strategy, stats=stats)\n",
    "    # create list of lambdas for each fold\n",
    "    # Cross validation: https://vitalflux.com/k-fold-cross-validation-python-example/\n",
    "    strtfdKFold = StratifiedKFold(n_splits=k)\n",
    "    y_train = X_train_unique[label]\n",
    "    X_train = X_train_unique[['plco_id']]\n",
    "    kfold = strtfdKFold.split(X_train, y_train)\n",
    "    k_fold_lambdas = []\n",
    "    for train, test in kfold:\n",
    "        train = X_train_unique.iloc[train, :]\n",
    "        test = X_train_unique.iloc[test, :]\n",
    "        k_fold_lambdas.append(lambda: process_train_test_split(source_df, train, test, label, train_fold_size, test_fold_size, strategy, stats=False))\n",
    "\n",
    "    return train_test_lambda, k_fold_lambdas\n"
   ]
  },
  {
   "attachments": {},
   "cell_type": "markdown",
   "metadata": {},
   "source": [
    "run experiments with decision tree and remove the top feature every time. Store the depth of the tree, the efficacy of the top feature, its value, accuracy, confusion matrix\n",
    "\n",
    "https://stackoverflow.com/questions/62819569/how-to-return-the-features-that-used-in-decision-tree-that-created-by-decisiontr\n",
    "\n",
    "`TODO:` Run model purely on family history variables vs purely on screen variables. "
   ]
  },
  {
   "cell_type": "code",
   "execution_count": 120,
   "metadata": {},
   "outputs": [],
   "source": [
    "def decision_tree_feature_selection(classifier, fn, accuracy, precision, recall, f1, plot_tree=False):\n",
    "    \n",
    "    if plot_tree:\n",
    "        cn=['no cancer', 'cancer']\n",
    "        fig, axes = plt.subplots(nrows = 1,ncols = 1,figsize = (4,4), dpi=300)\n",
    "        tree.plot_tree(classifier,\n",
    "            feature_names = fn, \n",
    "            class_names=cn,\n",
    "            filled = True)\n",
    "        plt.show()\n",
    "    feature_importances = pd.DataFrame(classifier.feature_importances_,\n",
    "                        index = fn,\n",
    "                        columns=['importance']).sort_values('importance', \n",
    "                                                            ascending=False)\n",
    "    feature_importances['feature'] = feature_importances.index\n",
    "    feature_importances = feature_importances[['feature', 'importance']]\n",
    "    # TODO: boundary and confusion matrix\n",
    "    top_feature_stats = {\n",
    "        'top_feature': feature_importances.iloc[0]['feature'],\n",
    "        # 'boundary': 0,\n",
    "        'num_features_used': len(feature_importances[feature_importances['importance'] > 0]),\n",
    "        'importance': round(feature_importances.iloc[0]['importance'], 3),\n",
    "        'tree_depth': classifier.tree_.max_depth,\n",
    "        'accuracy': accuracy,\n",
    "        'precision': precision,\n",
    "        'recall':    recall,\n",
    "        'f1-score':  f1,\n",
    "    }\n",
    "    return top_feature_stats, feature_importances\n",
    "\n",
    "def get_cv_scores(classifier, k_fold_lambdas):\n",
    "    cv_scores = []\n",
    "    # pipeline = make_pipeline(StandardScaler(), classifier)\n",
    "    for k, k_fold_lambda in enumerate(k_fold_lambdas):\n",
    "        X_train, X_test, y_train, y_test = k_fold_lambda()\n",
    "        # pipeline.fit(X_train_cv, y_train_cv)\n",
    "        # score = pipeline.score(X_test_cv, y_test_cv)\n",
    "        auc, accuracy, precision, recall, f1 = run_classifier(classifier, X_train, X_test, y_train, y_test, show_graph=False)\n",
    "        cv_scores.append((auc, accuracy, precision, recall, f1))\n",
    "        # print(f'Fold: {k+1}, Accuracy: {accuracy:.3f}, Precision: {precision:.3f}, Recall: {recall:.3f}, F1: {f1:.3f}, Auc: {auc:.3f}')\n",
    "    measures_df = pd.DataFrame(cv_scores, columns=['Auc', 'Accuracy', 'Precision', 'Recall', 'F1'])\n",
    "    print('\\n\\nCross-Validation measures:')\n",
    "    print_df(measures_df.describe().T[['mean', 'std', 'min', 'max']])\n",
    "    return cv_scores\n",
    "\n",
    "def run_classifiers(classifiers, df, label, drop_n_features = 1, k=10, cv=False, plot_tree=False):\n",
    "    df_feature_importance_tree = None\n",
    "    df_top_feature_importances = []\n",
    "    for i in range(drop_n_features):\n",
    "        \n",
    "        train_test_lambda, k_fold_lambdas = process_and_impute_for_label_kfold(df, label, 'median', n_max_per_class=10000, k=k)\n",
    "        X_train, X_test, y_train, y_test = train_test_lambda()\n",
    "        auc_dict = {}\n",
    "        accuracy_dict = {}\n",
    "        top_feature_importance = []\n",
    "        for classifier_type, classifier in classifiers.items():\n",
    "            # Cross Validation\n",
    "            if cv:\n",
    "                get_cv_scores(classifier, k_fold_lambdas)\n",
    "\n",
    "            # Test classifier\n",
    "            print(classifier_type)\n",
    "            auc, accuracy, precision, recall, f1 = run_classifier(classifier, X_train, X_test, y_train, y_test)\n",
    "\n",
    "            # Decision Tree feature selection\n",
    "            if classifier_type == 'DecisionTreeClassifier':\n",
    "                fn=X_train.columns\n",
    "                top_feature_stats, feature_importances = decision_tree_feature_selection(classifier, fn, accuracy, precision, recall, f1, plot_tree=plot_tree)\n",
    "                df_top_feature_importances.append(top_feature_stats)\n",
    "                top_feature_importance.append(feature_importances.iloc[0]['feature'])\n",
    "                feature_importances = feature_importances[feature_importances['importance'] > 0]\n",
    "                if df_feature_importance_tree is not None:\n",
    "                    df_feature_importance_tree = df_feature_importance_tree.merge(feature_importances, on='feature', how='outer', suffixes=[f'_tiral_{i}', f'_tiral_{i+1}'])\n",
    "                else:\n",
    "                    df_feature_importance_tree = feature_importances\n",
    "            auc_dict[classifier_type] = auc\n",
    "            accuracy_dict[classifier_type] = accuracy\n",
    "        df = df.drop(top_feature_importance, axis=1)\n",
    "\n",
    "    return df_top_feature_importances, df_feature_importance_tree\n",
    "\n"
   ]
  },
  {
   "cell_type": "code",
   "execution_count": 133,
   "metadata": {},
   "outputs": [
    {
     "name": "stdout",
     "output_type": "stream",
     "text": [
      "Distribution of labels based on unique plco_id: 0.1817626953125\n",
      "Distribution of labels based on duplicate plco_id: 0.26171875\n",
      "DecisionTreeClassifier\n",
      "     precision  recall  f1-score  support\n",
      "0.0   0.928959  0.9415  0.935187   2000.0\n",
      "1.0   0.940699  0.9280  0.934307   2000.0\n",
      "ROC AUC score: 0.935462625\n",
      "Accuracy Score: 0.93475\n"
     ]
    },
    {
     "data": {
      "image/png": "[encoded data removed]",
      "text/plain": [
       "<Figure size 1152x360 with 3 Axes>"
      ]
     },
     "metadata": {
      "needs_background": "light"
     },
     "output_type": "display_data"
    },
    {
     "name": "stdout",
     "output_type": "stream",
     "text": [
      "+----+---------------+---------------------+--------------+--------------+------------+-------------+----------+------------+\n",
      "|    | top_feature   |   num_features_used |   importance |   tree_depth |   accuracy |   precision |   recall |   f1-score |\n",
      "|----+---------------+---------------------+--------------+--------------+------------+-------------+----------+------------|\n",
      "|  0 | age           |                  97 |        0.079 |           41 |    0.93475 |    0.940699 |    0.928 |   0.934307 |\n",
      "+----+---------------+---------------------+--------------+--------------+------------+-------------+----------+------------+\n"
     ]
    }
   ],
   "source": [
    "classifiers = {\n",
    "    'DecisionTreeClassifier': DecisionTreeClassifier(criterion= 'entropy'),\n",
    "    # 'RandomForestClassifier': RandomForestClassifier(criterion= 'gini', n_estimators= 200),\n",
    "    # 'XGBClassifier': XGBClassifier(eval_metric= 'error', learning_rate= 0.1)\n",
    "}\n",
    "label = 'cancer_in_next_1_years' # 'cancer_in_next_10_years', 'ovar_cancer'\n",
    "drop_n_features = 1\n",
    "cv=False\n",
    "df_top_feature_importances, df_feature_importance_tree = run_classifiers(classifiers, merged_df, label, cv=cv, drop_n_features = drop_n_features, k=10, plot_tree=False)\n",
    "# print_df(df_feature_importance_tree)\n",
    "print_df(pd.DataFrame(df_top_feature_importances))\n",
    "pd.DataFrame(df_top_feature_importances).to_csv(f'./top_{drop_n_features}_features_decision_tree.csv')"
   ]
  },
  {
   "cell_type": "code",
   "execution_count": 122,
   "metadata": {},
   "outputs": [],
   "source": [
    "df_feature_importance_tree.to_csv(f'./feature_importance_{drop_n_features}_trials.csv')"
   ]
  },
  {
   "cell_type": "code",
   "execution_count": 134,
   "metadata": {},
   "outputs": [
    {
     "name": "stdout",
     "output_type": "stream",
     "text": [
      "+---------------------+---------+-------------+\n",
      "| feature             |   count |        mean |\n",
      "|---------------------+---------+-------------|\n",
      "| age                 |       1 | 0.0785844   |\n",
      "| ca125ii_level       |       1 | 0.0504931   |\n",
      "| tvu_result          |       1 | 0.047346    |\n",
      "| ph_any_muq          |       1 | 0.045885    |\n",
      "| bq_age              |       1 | 0.0424583   |\n",
      "| bmi_curr            |       1 | 0.0401527   |\n",
      "| center              |       1 | 0.0390814   |\n",
      "| ph_any_dhq          |       1 | 0.0353099   |\n",
      "| ph_any_sqx          |       1 | 0.032736    |\n",
      "| bmi_20              |       1 | 0.0317241   |\n",
      "| bmi_50              |       1 | 0.0289713   |\n",
      "| weight50_f          |       1 | 0.023662    |\n",
      "| weight_f            |       1 | 0.0224464   |\n",
      "| ph_any_trial        |       1 | 0.0216493   |\n",
      "| weight20_f          |       1 | 0.020783    |\n",
      "| brothers            |       1 | 0.0191376   |\n",
      "| height_f            |       1 | 0.0176608   |\n",
      "| tvu_ref             |       1 | 0.0168594   |\n",
      "| ovary_trial_flag    |       1 | 0.0156599   |\n",
      "| pregc               |       1 | 0.0155262   |\n",
      "| cig_years           |       1 | 0.0154806   |\n",
      "| smokea_f            |       1 | 0.013459    |\n",
      "| occupat             |       1 | 0.0129488   |\n",
      "| ovariesr_f          |       1 | 0.0122781   |\n",
      "| educat              |       1 | 0.0121958   |\n",
      "| marital             |       1 | 0.011026    |\n",
      "| sisters             |       1 | 0.0104002   |\n",
      "| horm_stat           |       1 | 0.0102098   |\n",
      "| thorm               |       1 | 0.0101233   |\n",
      "| lmenstr             |       1 | 0.0100589   |\n",
      "| ibuppd              |       1 | 0.00991347  |\n",
      "| agelevel            |       1 | 0.00974659  |\n",
      "| prega               |       1 | 0.00968192  |\n",
      "| fmenstr             |       1 | 0.00967616  |\n",
      "| pack_years          |       1 | 0.00901469  |\n",
      "| miscar              |       1 | 0.00875804  |\n",
      "| hyperten_f          |       1 | 0.00793179  |\n",
      "| fchilda             |       1 | 0.00773705  |\n",
      "| livec               |       1 | 0.00692785  |\n",
      "| asppd               |       1 | 0.00683779  |\n",
      "| breast_fh_age       |       1 | 0.00671674  |\n",
      "| hyster_f            |       1 | 0.00668037  |\n",
      "| hystera             |       1 | 0.00643422  |\n",
      "| bcontra             |       1 | 0.00617473  |\n",
      "| bbd                 |       1 | 0.00598574  |\n",
      "| filtered_f          |       1 | 0.00577268  |\n",
      "| cig_stop            |       1 | 0.0056515   |\n",
      "| polyps_f            |       1 | 0.00560437  |\n",
      "| race7               |       1 | 0.00512521  |\n",
      "| trypreg             |       1 | 0.00501463  |\n",
      "| fh_cancer           |       1 | 0.00478847  |\n",
      "| papsmear_history    |       1 | 0.00454245  |\n",
      "| diabetes_f          |       1 | 0.00425769  |\n",
      "| cigpd_f             |       1 | 0.00420877  |\n",
      "| menstrs_stat_type   |       1 | 0.00403443  |\n",
      "| bcontrt             |       1 | 0.00383097  |\n",
      "| breast_fh           |       1 | 0.00381313  |\n",
      "| osteopor_f          |       1 | 0.0037803   |\n",
      "| mammo_history       |       1 | 0.00365122  |\n",
      "| pelvic_history      |       1 | 0.00345354  |\n",
      "| ibup                |       1 | 0.00327926  |\n",
      "| gallblad_f          |       1 | 0.00319063  |\n",
      "| ovcyst_sum          |       1 | 0.00300924  |\n",
      "| cig_stat            |       1 | 0.00288667  |\n",
      "| usound_history      |       1 | 0.00262104  |\n",
      "| in_TGWAS_population |       1 | 0.00244996  |\n",
      "| ovarsumm_fh         |       1 | 0.00236015  |\n",
      "| ovcyst_volr         |       1 | 0.00219418  |\n",
      "| bmi_curc            |       1 | 0.00218722  |\n",
      "| menstrs             |       1 | 0.00203231  |\n",
      "| hearta_f            |       1 | 0.00198204  |\n",
      "| arthrit_f           |       1 | 0.00175898  |\n",
      "| viseith             |       1 | 0.00164982  |\n",
      "| asp                 |       1 | 0.00151116  |\n",
      "| divertic_f          |       1 | 0.00132467  |\n",
      "| uterine_fib         |       1 | 0.00121065  |\n",
      "| curhorm             |       1 | 0.00110061  |\n",
      "| ovarsumm_fh_age     |       1 | 0.00104823  |\n",
      "| benign_ovcyst       |       1 | 0.00104479  |\n",
      "| dual                |       1 | 0.000973712 |\n",
      "| smoked_f            |       1 | 0.000946816 |\n",
      "| bmi_50c             |       1 | 0.000944183 |\n",
      "| tuballig            |       1 | 0.000911529 |\n",
      "| ovary_voll          |       1 | 0.000892508 |\n",
      "| endometriosis       |       1 | 0.000730032 |\n",
      "| breast_fh_cnt       |       1 | 0.000638648 |\n",
      "| ph_any_bq           |       1 | 0.000603107 |\n",
      "| horm_f              |       1 | 0.000546877 |\n",
      "| ovary_vol           |       1 | 0.00054541  |\n",
      "| rsmoker_f           |       1 | 0.000530161 |\n",
      "| ovcyst_diamr        |       1 | 0.000499878 |\n",
      "| post_menopausal     |       1 | 0.000441656 |\n",
      "| bronchit_f          |       1 | 0.000408177 |\n",
      "| bmi_20c             |       1 | 0.000408177 |\n",
      "| ovcyst_diam         |       1 | 0.000399737 |\n",
      "| visboth             |       1 | 0.000386968 |\n",
      "| visr                |       1 | 0.000297536 |\n",
      "+---------------------+---------+-------------+\n"
     ]
    }
   ],
   "source": [
    "df_feature_importance_mean = df_feature_importance_tree.drop('feature', axis=1)\n",
    "df_feature_importance_mean = df_feature_importance_mean.T\n",
    "df_feature_importance_mean.columns = df_feature_importance_tree['feature']\n",
    "df_feature_importance_mean = df_feature_importance_mean.astype('float')\n",
    "df_feature_importance_mean_describe = df_feature_importance_mean.describe().T\n",
    "df_feature_importance_mean_describe.sort_values('mean', ascending=False, inplace=True)\n",
    "# print(df_feature_importance_mean_describe.columns)\n",
    "df_feature_importance_mean_describe = df_feature_importance_mean_describe[['count', 'mean']]\n",
    "print_df(df_feature_importance_mean_describe)\n",
    "df_feature_importance_mean_describe.to_csv(f'./feature_importance_mean_{drop_n_features}_trials.csv')"
   ]
  },
  {
   "cell_type": "code",
   "execution_count": 124,
   "metadata": {},
   "outputs": [
    {
     "data": {
      "text/plain": [
       "{'bmi_50c',\n",
       " 'bmi_curc',\n",
       " 'ca125_result',\n",
       " 'cancer_in_next_10_years',\n",
       " 'cancer_in_next_1_years',\n",
       " 'cancer_in_next_3_years',\n",
       " 'cancer_in_next_5_years',\n",
       " 'cigar',\n",
       " 'cyst',\n",
       " 'cystw',\n",
       " 'detl_p',\n",
       " 'diabetes_f',\n",
       " 'echo',\n",
       " 'emphys_f',\n",
       " 'hispanic_f',\n",
       " 'lantero_p',\n",
       " 'lantero_q',\n",
       " 'llong_p',\n",
       " 'llong_q',\n",
       " 'ltran_q',\n",
       " 'lvol_p',\n",
       " 'lvol_q',\n",
       " 'maxdi',\n",
       " 'numcyst',\n",
       " 'numcystl',\n",
       " 'numcystr',\n",
       " 'ovar_cancer',\n",
       " 'ovar_cancer_years',\n",
       " 'ovar_days',\n",
       " 'ovar_result',\n",
       " 'ovarsumm_fh_cnt',\n",
       " 'ovary_diam',\n",
       " 'ovary_diaml',\n",
       " 'ovary_diamr',\n",
       " 'ovary_voll',\n",
       " 'ovary_volr',\n",
       " 'ovcyst_diam',\n",
       " 'ovcyst_diaml',\n",
       " 'ovcyst_diamr',\n",
       " 'ovcyst_morph',\n",
       " 'ovcyst_morphl',\n",
       " 'ovcyst_morphr',\n",
       " 'ovcyst_outline',\n",
       " 'ovcyst_outlinel',\n",
       " 'ovcyst_outliner',\n",
       " 'ovcyst_solid',\n",
       " 'ovcyst_solidl',\n",
       " 'ovcyst_solidr',\n",
       " 'ovcyst_suml',\n",
       " 'ovcyst_sumr',\n",
       " 'ovcyst_vol',\n",
       " 'ovcyst_voll',\n",
       " 'ovcyst_volr',\n",
       " 'ph_ovar_bq',\n",
       " 'ph_ovar_dqx',\n",
       " 'ph_ovar_trial',\n",
       " 'phycons',\n",
       " 'pipe',\n",
       " 'plco_id',\n",
       " 'post_menopausal',\n",
       " 'preg_f',\n",
       " 'rantero_q',\n",
       " 'rlong_q',\n",
       " 'rsmoker_f',\n",
       " 'rtran_p',\n",
       " 'rtran_q',\n",
       " 'rvol_p',\n",
       " 'rvol_q',\n",
       " 'sepst',\n",
       " 'smoked_f',\n",
       " 'solid',\n",
       " 'stroke_f',\n",
       " 'visboth',\n",
       " 'viseith',\n",
       " 'visl',\n",
       " 'visr',\n",
       " 'volum'}"
      ]
     },
     "execution_count": 124,
     "metadata": {},
     "output_type": "execute_result"
    }
   ],
   "source": [
    "set(merged_df.columns) - set(df_feature_importance_mean_describe.index)"
   ]
  },
  {
   "cell_type": "code",
   "execution_count": 125,
   "metadata": {},
   "outputs": [],
   "source": [
    "ranked_df = df_feature_importance_tree.rank(method='max')\n",
    "ranked_df['feature'] = df_feature_importance_tree['feature']\n",
    "ranked_df = ranked_df.drop('feature', axis=1)\n",
    "ranked_df = ranked_df.T\n",
    "ranked_df.columns = df_feature_importance_tree['feature']\n",
    "ranked_df = ranked_df.astype('float')\n",
    "description_rank = ranked_df.describe().T\n",
    "description_rank.to_csv(f'./feature_importance_rank_{drop_n_features}_trials.csv')"
   ]
  },
  {
   "cell_type": "code",
   "execution_count": 126,
   "metadata": {},
   "outputs": [
    {
     "name": "stdout",
     "output_type": "stream",
     "text": [
      "+---------------------+---------+--------+-------+-------+-------+-------+-------+-------+\n",
      "| feature             |   count |   mean |   std |   min |   25% |   50% |   75% |   max |\n",
      "|---------------------+---------+--------+-------+-------+-------+-------+-------+-------|\n",
      "| ca125ii_level       |       1 |     94 |   nan |    94 |    94 |    94 |    94 |    94 |\n",
      "| age                 |       1 |     93 |   nan |    93 |    93 |    93 |    93 |    93 |\n",
      "| bq_age              |       1 |     92 |   nan |    92 |    92 |    92 |    92 |    92 |\n",
      "| ph_any_sqx          |       1 |     91 |   nan |    91 |    91 |    91 |    91 |    91 |\n",
      "| ph_any_trial        |       1 |     90 |   nan |    90 |    90 |    90 |    90 |    90 |\n",
      "| ph_any_dhq          |       1 |     89 |   nan |    89 |    89 |    89 |    89 |    89 |\n",
      "| bmi_50              |       1 |     88 |   nan |    88 |    88 |    88 |    88 |    88 |\n",
      "| ph_any_muq          |       1 |     87 |   nan |    87 |    87 |    87 |    87 |    87 |\n",
      "| bmi_curr            |       1 |     86 |   nan |    86 |    86 |    86 |    86 |    86 |\n",
      "| educat              |       1 |     85 |   nan |    85 |    85 |    85 |    85 |    85 |\n",
      "| weight_f            |       1 |     84 |   nan |    84 |    84 |    84 |    84 |    84 |\n",
      "| weight50_f          |       1 |     83 |   nan |    83 |    83 |    83 |    83 |    83 |\n",
      "| occupat             |       1 |     82 |   nan |    82 |    82 |    82 |    82 |    82 |\n",
      "| sisters             |       1 |     81 |   nan |    81 |    81 |    81 |    81 |    81 |\n",
      "| height_f            |       1 |     80 |   nan |    80 |    80 |    80 |    80 |    80 |\n",
      "| pack_years          |       1 |     79 |   nan |    79 |    79 |    79 |    79 |    79 |\n",
      "| bmi_20              |       1 |     78 |   nan |    78 |    78 |    78 |    78 |    78 |\n",
      "| center              |       1 |     77 |   nan |    77 |    77 |    77 |    77 |    77 |\n",
      "| cig_years           |       1 |     76 |   nan |    76 |    76 |    76 |    76 |    76 |\n",
      "| ovary_trial_flag    |       1 |     75 |   nan |    75 |    75 |    75 |    75 |    75 |\n",
      "| weight20_f          |       1 |     74 |   nan |    74 |    74 |    74 |    74 |    74 |\n",
      "| smokea_f            |       1 |     73 |   nan |    73 |    73 |    73 |    73 |    73 |\n",
      "| cig_stop            |       1 |     72 |   nan |    72 |    72 |    72 |    72 |    72 |\n",
      "| in_TGWAS_population |       1 |     71 |   nan |    71 |    71 |    71 |    71 |    71 |\n",
      "| lmenstr             |       1 |     70 |   nan |    70 |    70 |    70 |    70 |    70 |\n",
      "| race7               |       1 |     69 |   nan |    69 |    69 |    69 |    69 |    69 |\n",
      "| livec               |       1 |     68 |   nan |    68 |    68 |    68 |    68 |    68 |\n",
      "| uterine_fib         |       1 |     67 |   nan |    67 |    67 |    67 |    67 |    67 |\n",
      "| tvu_result          |       1 |     66 |   nan |    66 |    66 |    66 |    66 |    66 |\n",
      "| thorm               |       1 |     65 |   nan |    65 |    65 |    65 |    65 |    65 |\n",
      "| brothers            |       1 |     64 |   nan |    64 |    64 |    64 |    64 |    64 |\n",
      "| asppd               |       1 |     63 |   nan |    63 |    63 |    63 |    63 |    63 |\n",
      "| gallblad_f          |       1 |     62 |   nan |    62 |    62 |    62 |    62 |    62 |\n",
      "| marital             |       1 |     61 |   nan |    61 |    61 |    61 |    61 |    61 |\n",
      "| fchilda             |       1 |     60 |   nan |    60 |    60 |    60 |    60 |    60 |\n",
      "| bcontra             |       1 |     59 |   nan |    59 |    59 |    59 |    59 |    59 |\n",
      "| pregc               |       1 |     58 |   nan |    58 |    58 |    58 |    58 |    58 |\n",
      "| mammo_history       |       1 |     57 |   nan |    57 |    57 |    57 |    57 |    57 |\n",
      "| curhorm             |       1 |     56 |   nan |    56 |    56 |    56 |    56 |    56 |\n",
      "| breast_fh_age       |       1 |     55 |   nan |    55 |    55 |    55 |    55 |    55 |\n",
      "| tvu_ref             |       1 |     54 |   nan |    54 |    54 |    54 |    54 |    54 |\n",
      "| tuballig            |       1 |     53 |   nan |    53 |    53 |    53 |    53 |    53 |\n",
      "| agelevel            |       1 |     52 |   nan |    52 |    52 |    52 |    52 |    52 |\n",
      "| menstrs             |       1 |     51 |   nan |    51 |    51 |    51 |    51 |    51 |\n",
      "| hyperten_f          |       1 |     50 |   nan |    50 |    50 |    50 |    50 |    50 |\n",
      "| ovariesr_f          |       1 |     49 |   nan |    49 |    49 |    49 |    49 |    49 |\n",
      "| pelvic_history      |       1 |     48 |   nan |    48 |    48 |    48 |    48 |    48 |\n",
      "| bcontr_f            |       1 |     47 |   nan |    47 |    47 |    47 |    47 |    47 |\n",
      "| prega               |       1 |     46 |   nan |    46 |    46 |    46 |    46 |    46 |\n",
      "| hystera             |       1 |     45 |   nan |    45 |    45 |    45 |    45 |    45 |\n",
      "| bbd                 |       1 |     44 |   nan |    44 |    44 |    44 |    44 |    44 |\n",
      "| miscar              |       1 |     43 |   nan |    43 |    43 |    43 |    43 |    43 |\n",
      "| usound_history      |       1 |     42 |   nan |    42 |    42 |    42 |    42 |    42 |\n",
      "| papsmear_history    |       1 |     41 |   nan |    41 |    41 |    41 |    41 |    41 |\n",
      "| ovary_vol           |       1 |     40 |   nan |    40 |    40 |    40 |    40 |    40 |\n",
      "| polyps_f            |       1 |     39 |   nan |    39 |    39 |    39 |    39 |    39 |\n",
      "| ibuppd              |       1 |     38 |   nan |    38 |    38 |    38 |    38 |    38 |\n",
      "| bmi_20c             |       1 |     37 |   nan |    37 |    37 |    37 |    37 |    37 |\n",
      "| endometriosis       |       1 |     36 |   nan |    36 |    36 |    36 |    36 |    36 |\n",
      "| osteopor_f          |       1 |     35 |   nan |    35 |    35 |    35 |    35 |    35 |\n",
      "| ovcyst_sum          |       1 |     34 |   nan |    34 |    34 |    34 |    34 |    34 |\n",
      "| breast_fh           |       1 |     33 |   nan |    33 |    33 |    33 |    33 |    33 |\n",
      "| liver_comorbidity   |       1 |     32 |   nan |    32 |    32 |    32 |    32 |    32 |\n",
      "| cigpd_f             |       1 |     31 |   nan |    31 |    31 |    31 |    31 |    31 |\n",
      "| arthrit_f           |       1 |     30 |   nan |    30 |    30 |    30 |    30 |    30 |\n",
      "| bcontrt             |       1 |     29 |   nan |    29 |    29 |    29 |    29 |    29 |\n",
      "| horm_f              |       1 |     28 |   nan |    28 |    28 |    28 |    28 |    28 |\n",
      "| bronchit_f          |       1 |     27 |   nan |    27 |    27 |    27 |    27 |    27 |\n",
      "| horm_stat           |       1 |     26 |   nan |    26 |    26 |    26 |    26 |    26 |\n",
      "| dual                |       1 |     25 |   nan |    25 |    25 |    25 |    25 |    25 |\n",
      "| ovarsumm_fh_age     |       1 |     24 |   nan |    24 |    24 |    24 |    24 |    24 |\n",
      "| hearta_f            |       1 |     23 |   nan |    23 |    23 |    23 |    23 |    23 |\n",
      "| ph_any_bq           |       1 |     22 |   nan |    22 |    22 |    22 |    22 |    22 |\n",
      "| colon_comorbidity   |       1 |     21 |   nan |    21 |    21 |    21 |    21 |    21 |\n",
      "| ibup                |       1 |     20 |   nan |    20 |    20 |    20 |    20 |    20 |\n",
      "| rantero_p           |       1 |     19 |   nan |    19 |    19 |    19 |    19 |    19 |\n",
      "| fh_cancer           |       1 |     18 |   nan |    18 |    18 |    18 |    18 |    18 |\n",
      "| ph_any_dqx          |       1 |     17 |   nan |    17 |    17 |    17 |    17 |    17 |\n",
      "| filtered_f          |       1 |     16 |   nan |    16 |    16 |    16 |    16 |    16 |\n",
      "| breast_fh_cnt       |       1 |     15 |   nan |    15 |    15 |    15 |    15 |    15 |\n",
      "| cig_stat            |       1 |     14 |   nan |    14 |    14 |    14 |    14 |    14 |\n",
      "| ovarsumm_fh         |       1 |     13 |   nan |    13 |    13 |    13 |    13 |    13 |\n",
      "| menstrs_stat_type   |       1 |     12 |   nan |    12 |    12 |    12 |    12 |    12 |\n",
      "| hyster_f            |       1 |     11 |   nan |    11 |    11 |    11 |    11 |    11 |\n",
      "| benign_ovcyst       |       1 |     10 |   nan |    10 |    10 |    10 |    10 |    10 |\n",
      "| asp                 |       1 |      9 |   nan |     9 |     9 |     9 |     9 |     9 |\n",
      "| trypreg             |       1 |      8 |   nan |     8 |     8 |     8 |     8 |     8 |\n",
      "| stillb              |       1 |      7 |   nan |     7 |     7 |     7 |     7 |     7 |\n",
      "| detr_p              |       1 |      6 |   nan |     6 |     6 |     6 |     6 |     6 |\n",
      "| divertic_f          |       1 |      5 |   nan |     5 |     5 |     5 |     5 |     5 |\n",
      "| fmenstr             |       1 |      4 |   nan |     4 |     4 |     4 |     4 |     4 |\n",
      "| tubal               |       1 |      3 |   nan |     3 |     3 |     3 |     3 |     3 |\n",
      "| ltran_p             |       1 |      2 |   nan |     2 |     2 |     2 |     2 |     2 |\n",
      "| rlong_p             |       1 |      1 |   nan |     1 |     1 |     1 |     1 |     1 |\n",
      "+---------------------+---------+--------+-------+-------+-------+-------+-------+-------+\n"
     ]
    }
   ],
   "source": [
    "print_df(description_rank)"
   ]
  },
  {
   "cell_type": "code",
   "execution_count": 127,
   "metadata": {},
   "outputs": [],
   "source": [
    "classifiers = [\n",
    "    DecisionTreeClassifier(),\n",
    "    RandomForestClassifier(),\n",
    "    # GaussianNB(),\n",
    "    # XGBClassifier(),\n",
    "    # LogisticRegression(max_iter=200)\n",
    "]\n",
    "# Calculate years before cancer\n",
    "def f_score(X_train, X_test, y_train, y_test, classifiers):\n",
    "    for clf in classifiers:\n",
    "        s = time.time()\n",
    "        clf.fit(X_train,y_train)\n",
    "        y_pred = clf.predict(X_test)\n",
    "        f = f1_score(y_true=y_test,y_pred=y_pred,average=\"macro\")\n",
    "        e = time.time()\n",
    "        print(f\"Score: {round(f,3)} \\t Time(in secs): {round(e-s,3)} \\t Classifier: {clf.__class__.__name__}\")\n",
    "# f_score(X_train, X_test, y_train, y_test, classifiers)"
   ]
  },
  {
   "cell_type": "code",
   "execution_count": 128,
   "metadata": {},
   "outputs": [],
   "source": [
    "def select_using_model(x,y):\n",
    "    sel = SelectFromModel(XGBClassifier())\n",
    "    sel.fit(x,y)"
   ]
  },
  {
   "cell_type": "code",
   "execution_count": 129,
   "metadata": {},
   "outputs": [],
   "source": [
    "def select_using_score_func(X_train, y_train):\n",
    "    # configure to select all features\n",
    "    fs = SelectKBest(score_func=f_classif, k='all')\n",
    "    # learn relationship from training data\n",
    "    fs.fit(X_train, y_train)\n",
    "    # what are scores for the features\n",
    "    features_scores = pd.DataFrame(x.columns)\n",
    "    features_scores['scores'] = fs.scores_\n",
    "    features_scores = features_scores.sort_values('scores', ascending=False)\n",
    "    features_scores.to_csv('./feature_selection/all_features_new_cols__mean_imputed.csv')"
   ]
  },
  {
   "cell_type": "code",
   "execution_count": null,
   "metadata": {},
   "outputs": [],
   "source": []
  },
  {
   "cell_type": "code",
   "execution_count": 130,
   "metadata": {},
   "outputs": [],
   "source": [
    "# Determine on which features to use mean imputation and on which ones to replace with -1"
   ]
  },
  {
   "attachments": {},
   "cell_type": "markdown",
   "metadata": {},
   "source": [
    " The initial dataset had 181 variables (Appendix 1). Variables were ranked by their F-score, which is the harmonic mean of precision and recall, with those with an F-score closest to 1.0 demonstrating high correlation with treatment success [10]. Experts in the treatment of BPH also selected variables for inclusion into the models irrespective of the F-Score, these variables, plus those with a high F-Score were selected for inclusion in initial model development.. The actual variables used by our models were a subset of these, and the number in any given fold and subgroup was dynamically determined by treating this as a hyper-parameter and tuning it as described below."
   ]
  }
 ],
 "metadata": {
  "kernelspec": {
   "display_name": "Python 3",
   "language": "python",
   "name": "python3"
  },
  "language_info": {
   "codemirror_mode": {
    "name": "ipython",
    "version": 3
   },
   "file_extension": ".py",
   "mimetype": "text/x-python",
   "name": "python",
   "nbconvert_exporter": "python",
   "pygments_lexer": "ipython3",
   "version": "3.10.4"
  },
  "orig_nbformat": 4,
  "vscode": {
   "interpreter": {
    "hash": "9b9f07f525d6131811c533cc81eafd9d7147c1a9ff2e81c94d4f0d027f94c4be"
   }
  }
 },
 "nbformat": 4,
 "nbformat_minor": 2
}

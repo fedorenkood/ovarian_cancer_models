{
 "cells": [
  {
   "cell_type": "code",
   "execution_count": 27,
   "metadata": {},
   "outputs": [],
   "source": [
    "from processing_functions import *\n",
    "%matplotlib inline\n",
    "import warnings\n",
    "\n",
    "warnings.filterwarnings(\"ignore\")\n"
   ]
  },
  {
   "cell_type": "code",
   "execution_count": 28,
   "metadata": {},
   "outputs": [],
   "source": [
    "# reading datasets\n",
    "personal_data = pd.read_csv('./dataset/Ovarian/ovar_data_mar22_d032222.csv')\n",
    "screen_data = pd.read_csv('./dataset/Ovarian/Screening/ovar_screen_data_mar22_d032222.csv')\n",
    "screen_abnorm_data = pd.read_csv('./dataset/Ovarian/Screening Abnormalities/ovar_scrsub_data_mar22_d032222.csv')"
   ]
  },
  {
   "attachments": {},
   "cell_type": "markdown",
   "metadata": {},
   "source": [
    "## Preprocessing\n",
    "For some of the datasets we determined some of the features to not be useful for analysis. For every dataset that includes `build` features. \n",
    "\n",
    "For personal dataset we removed all `ovar_` features since they are a direct result of the cancer diagnosis and should not be used predict cancer. \n",
    "\n",
    "For the screen data dataset it was determined that `examinerid_` features do not bring the value to the dataset since they represet 'Examiner ID made by concatentating center and exam ID for overall screen result.' and cannot be the cause of the cancer. We also drop all of the remaining"
   ]
  },
  {
   "cell_type": "code",
   "execution_count": 29,
   "metadata": {},
   "outputs": [
    {
     "name": "stdout",
     "output_type": "stream",
     "text": [
      "Number of ovar_ cols: 50\n",
      "['ovar_reasfoll', 'ovar_reassurv', 'ovar_reassymp', 'ovar_reasoth', 'ovar_cancer', 'ovar_intstat_cat', 'ovar_annyr', 'ovar_cancer_site', 'ovar_stage', 'ovar_stage_7e', 'ovar_stage_t', 'ovar_stage_n', 'ovar_stage_m', 'ovar_clinstage', 'ovar_clinstage_7e', 'ovar_clinstage_t', 'ovar_clinstage_n', 'ovar_clinstage_m', 'ovar_pathstage', 'ovar_pathstage_7e', 'ovar_pathstage_t', 'ovar_pathstage_n', 'ovar_pathstage_m', 'ovar_grade', 'ovar_topography', 'ovar_morphology', 'ovar_behavior', 'ovar_histtype', 'ovar_exitstat', 'ovar_exitage', 'ovar_seer', 'ovar_cancer_first', 'ovar_curative_surg', 'ovar_curative_chemo', 'ovar_primary_trt', 'ovar_num_heslide_imgs', 'ovar_has_deliv_heslide_img', 'ovar_exitdays', 'ovar_primary_trt_days', 'ovar_cancer_diagdays', 'ovar_mra_stat0', 'ovar_mra_stat1', 'ovar_mra_stat2', 'ovar_mra_stat3', 'ovar_mra_stat4', 'ovar_mra_stat5', 'ovar_eligible_bq', 'ovar_eligible_sqx', 'ovar_eligible_dhq', 'ovar_eligible_dqx']\n",
      "Number of mortality cols: 3\n",
      "['mortality_exitage', 'mortality_exitstat', 'mortality_exitdays']\n",
      "Number of reconsent cols: 2\n",
      "['reconsent_outcome', 'reconsent_outcome_days']\n",
      "Number of is_dead cols: 2\n",
      "['is_dead_with_cod', 'is_dead']\n",
      "Number of build cols: 4\n",
      "['build', 'build_cancers', 'build_incidence_cutoff', 'build_death_cutoff']\n",
      "Number of biopolink cols: 6\n",
      "['biopolink0', 'biopolink1', 'biopolink2', 'biopolink3', 'biopolink4', 'biopolink5']\n",
      "Number of ca125_ cols: 26\n",
      "['ca125_result0', 'ca125_result1', 'ca125_result2', 'ca125_result3', 'ca125_result4', 'ca125_result5', 'ca125_level0', 'ca125_level1', 'ca125_level2', 'ca125_level3', 'ca125_level4', 'ca125_level5', 'ca125_src0', 'ca125_src1', 'ca125_src2', 'ca125_src3', 'ca125_src4', 'ca125_src5', 'ca125_prot', 'ca125_days0', 'ca125_days1', 'ca125_days2', 'ca125_days3', 'ca125_days4', 'ca125_days5', 'ca125_history']\n",
      "Number of tvu cols: 8\n",
      "['tvu_result0', 'tvu_result1', 'tvu_result2', 'tvu_result3', 'tvu_days0', 'tvu_days1', 'tvu_days2', 'tvu_days3']\n",
      "Number of entrydays cols: 4\n",
      "['entrydays_bq', 'entrydays_dqx', 'entrydays_dhq', 'entrydays_sqx']\n",
      "Number of entryage cols: 5\n",
      "['entryage_bq', 'entryage_dqx', 'entryage_dhq', 'entryage_sqx', 'entryage_muq']\n",
      "Number of inad_ cols: 42\n",
      "['inad_bow_p1', 'inad_bow_p2', 'inad_bow_p3', 'inad_dis_p1', 'inad_dis_p2', 'inad_dis_p3', 'inad_mal_p1', 'inad_mal_p2', 'inad_mal_p3', 'inad_probe_p1', 'inad_probe_p2', 'inad_probe_p3', 'inad_ref_p1', 'inad_ref_p2', 'inad_ref_p3', 'inad_oth_p1', 'inad_oth_p2', 'inad_oth_p3', 'inad_bow_q1', 'inad_bow_q2', 'inad_bow_q3', 'inad_dis_q1', 'inad_dis_q2', 'inad_dis_q3', 'inad_mal_q1', 'inad_mal_q2', 'inad_mal_q3', 'inad_probe_q1', 'inad_probe_q2', 'inad_probe_q3', 'inad_ref_q1', 'inad_ref_q2', 'inad_ref_q3', 'inad_oth_q1', 'inad_oth_q2', 'inad_oth_q3', 'inad_bow', 'inad_dis', 'inad_mal', 'inad_probe', 'inad_ref', 'inad_oth']\n",
      "Number of examinerid cols: 7\n",
      "['examinerid_pvis1', 'examinerid_pvis2', 'examinerid_pvis3', 'examinerid_qvis1', 'examinerid_qvis2', 'examinerid_qvis3', 'examinerid']\n",
      "Number of build cols: 3\n",
      "['build', 'build_cancers', 'build_incidence_cutoff']\n",
      "Number of tvures_ cols: 6\n",
      "['tvures_pvis1', 'tvures_pvis2', 'tvures_pvis3', 'tvures_qvis1', 'tvures_qvis2', 'tvures_qvis3']\n",
      "Number of build cols: 3\n",
      "['build', 'build_cancers', 'build_incidence_cutoff']\n"
     ]
    }
   ],
   "source": [
    "# Drop profy features\n",
    "proxy_features_personal_dataset = [\n",
    "    'fstcan_exitdays', # Days from trial entry (randomization) to first cancer diagnosis for participants with cancer, or to trial exit otherwise. Only cancers occuring during the trial are used to determine exit.\n",
    "    'fstcan_exitstat', # Status of the participant at exit for first cancer incidence. Only cancers occuring during the trial are used to determine exit.\n",
    "    'fstcan_exitage',\n",
    "    'f_dthovar', # Is ovarian cancer the underlying cause of death? This conclusion is based on the information from the death certificate and death review.\n",
    "    'f_codeath_cat', # Categorized underlying cause of death.\n",
    "    'f_cancersite', # Underlying cause of death from cancer.\n",
    "    'f_seer_death', # Underlying cause of death.\n",
    "    'd_codeath_cat', # Categorized underlying cause of death.\n",
    "    'd_dthovar', # Is Ovarian Cancer The Underlying Cause Of Death?\n",
    "    'd_cancersite', # \n",
    "    'd_seer_death', # Underlying cause of death.\n",
    "    'ph_ovar_muq', # Did the participant have a personal history of ovarian/ft/pt cancer prior to MUQ analysis entry? \n",
    "    'ph_ovar_sqx', # \n",
    "    'entrydays_muq', # \n",
    "    'ph_ovar_dhq', # \n",
    "    'dth_days', # \n",
    "    'bq_compdays',\n",
    "    'bq_adminm',\n",
    "    'bq_returned',\n",
    "    'ssmokea_f',\n",
    "    'orem_fyro',\n",
    "    'arm',\n",
    "    'sex',\n",
    "    'rndyear',\n",
    "    ]\n",
    "\n",
    "proxy_features_screen_dataset = [\n",
    "    'QAMETHOD',\n",
    "    'tvudays_pvis1',\n",
    "    'tvudays_pvis2',\n",
    "    'tvudays_pvis3',\n",
    "    # 'tvures_qvis1',\n",
    "    # 'tvures_qvis2',\n",
    "    # 'tvures_qvis3',\n",
    "    # 'tvures_pvis3',  # It is completely missing for non-cancer patients\n",
    "    'tvu_days',\n",
    "    'tvu_assess_days_q',\n",
    "    'medcomp', # \n",
    "    'physid',\n",
    "    'detl_q',\n",
    "    'detr_q',\n",
    "    'ca125_src', # \n",
    "    'ca125_days', # \n",
    "    'ca125ii_src', # '\n",
    "    'ca125_level',\n",
    "    'ca125i_assess_days',\n",
    "    'ca125ii_assess_days',\n",
    "]\n",
    "\n",
    "proxy_features_abnorm_dataset = ['VISIT', 'side', 'sbcd', 'source']\n",
    "\n",
    "personal_data = personal_data.drop(proxy_features_personal_dataset, axis=1)\n",
    "screen_data = screen_data.drop(proxy_features_screen_dataset, axis=1)\n",
    "screen_abnorm_data = screen_abnorm_data.drop(proxy_features_abnorm_dataset, axis=1)\n",
    "\n",
    "# Remove all ovar_ features\n",
    "personal_data = remove_featues_startswith(personal_data, ['ovar_', 'mortality', 'reconsent', 'is_dead', 'build', 'biopolink', 'ca125_', 'tvu', 'entrydays', \n",
    "                                                          'entryage'\n",
    "                                                          ], ['ovar_cancer', 'ovar_cancer_diagdays'])\n",
    "\n",
    "# Remove all inad_ and examinerid_ and build_ features\n",
    "screen_data = remove_featues_startswith(screen_data, ['inad_', 'examinerid', 'build', 'tvures_'])\n",
    "\n",
    "# Drop not useful cols and convert categorical into numerical in screen abnormalities\n",
    "screen_abnorm_data = remove_featues_startswith(screen_abnorm_data, ['build'])"
   ]
  },
  {
   "cell_type": "code",
   "execution_count": 30,
   "metadata": {},
   "outputs": [
    {
     "name": "stdout",
     "output_type": "stream",
     "text": [
      "Num of records in personal dataset: 78209\n",
      "Num of unique plco_id in personal dataset: 78209\n",
      "Num of patients with cancer: 613\n",
      "Num of patients without cancer: 77596\n"
     ]
    }
   ],
   "source": [
    "print_records_vs_unique(personal_data, 'plco_id', 'personal')\n",
    "# Check the number of people with cancer\n",
    "personal_data_cancer = personal_data[personal_data['ovar_cancer']==1]\n",
    "print(f\"Num of patients with cancer: {len(personal_data_cancer)}\")\n",
    "# Check the number of people without cancer\n",
    "personal_data_no_cancer = personal_data[personal_data['ovar_cancer']==0]\n",
    "print(f\"Num of patients without cancer: {len(personal_data_no_cancer)}\")"
   ]
  },
  {
   "cell_type": "code",
   "execution_count": 31,
   "metadata": {},
   "outputs": [
    {
     "data": {
      "text/plain": [
       "Index(['study_yr', 'solid', 'sepst', 'cyst', 'cystw', 'echo', 'maxdi', 'volum',\n",
       "       'plco_id'],\n",
       "      dtype='object')"
      ]
     },
     "execution_count": 31,
     "metadata": {},
     "output_type": "execute_result"
    }
   ],
   "source": [
    "screen_abnorm_data.columns"
   ]
  },
  {
   "cell_type": "code",
   "execution_count": 32,
   "metadata": {},
   "outputs": [],
   "source": [
    "# Convert discrete float columns to floats with lower number of bytes\n",
    "personal_data = convert_numeric_to_float16(personal_data)\n",
    "screen_data = convert_numeric_to_float16(screen_data)\n",
    "screen_abnorm_data = convert_numeric_to_float16(screen_abnorm_data)"
   ]
  },
  {
   "attachments": {},
   "cell_type": "markdown",
   "metadata": {},
   "source": [
    "## Merging data into features and mean imputing"
   ]
  },
  {
   "attachments": {},
   "cell_type": "markdown",
   "metadata": {},
   "source": [
    "Deciding which patients will be in training vs test set to learn the mean imputation parameters.\n",
    "\n",
    "Mean imputation: https://www.kaggle.com/general/226554"
   ]
  },
  {
   "attachments": {},
   "cell_type": "markdown",
   "metadata": {},
   "source": [
    "To predict whether person will get cancer in the next 1, 3, 5, 10 years we need to determine what feature describes when person got cancer. In our case that features is `ovar_cancer_diagdays`. We are going to use that feature in the following manner: we are going to have a sliding window to determine whether the person gets cancer withing the period of that window. Then, we are going to slide that window by one year and determine a new batch of people who are going to get cancer in that window and so on. For each of the features that are measured across multiple years we only going to use a record that is at the beginning of the interval. "
   ]
  },
  {
   "attachments": {},
   "cell_type": "markdown",
   "metadata": {},
   "source": [
    "Since `ovar_cancer_diagdays` is described in days and we are concerned about the years when people will get cancer we need to convert this feature into years. Since people got cancer from year 1 to year 19, we are going to bucket it into 19 buckets corresponding to year when person got cancer. "
   ]
  },
  {
   "cell_type": "code",
   "execution_count": 33,
   "metadata": {},
   "outputs": [
    {
     "name": "stdout",
     "output_type": "stream",
     "text": [
      "Max value of ovar_cancer_diagdays in years is 18.893150684931506\n"
     ]
    }
   ],
   "source": [
    "ovar_cancer_diagdays_range = personal_data['ovar_cancer_diagdays'].max() / 365\n",
    "print(f'Max value of ovar_cancer_diagdays in years is {ovar_cancer_diagdays_range}')\n"
   ]
  },
  {
   "cell_type": "code",
   "execution_count": 34,
   "metadata": {},
   "outputs": [],
   "source": [
    "personal_data['ovar_cancer_years'] = pd.cut(personal_data['ovar_cancer_diagdays'], bins=19, labels=list(range(0, 19)), include_lowest=True)\n",
    "personal_data['ovar_cancer_years'] = pd.to_numeric(personal_data['ovar_cancer_years'])"
   ]
  },
  {
   "attachments": {},
   "cell_type": "markdown",
   "metadata": {},
   "source": [
    "We can also set every healthy persons '`ovar_cancer_years`' to 100 so that it is easier to filter them"
   ]
  },
  {
   "cell_type": "code",
   "execution_count": 35,
   "metadata": {},
   "outputs": [],
   "source": [
    "personal_data['ovar_cancer_years'] = personal_data['ovar_cancer_years'].fillna(100)"
   ]
  },
  {
   "attachments": {},
   "cell_type": "markdown",
   "metadata": {},
   "source": [
    "When merging abnormalities dataset we are going to keep each record for each `study_yr`, select the latest `VISIT` if there are multiple and take the largest value of each column over all of the remaining records. "
   ]
  },
  {
   "attachments": {},
   "cell_type": "markdown",
   "metadata": {},
   "source": [
    "See below what I found about CA125 vs CA125ii......it sounds like we should actually just be using CA125ii.  When they switched tests, they actually used the new test (CA125ii) to re-test the frozen samples from all of the patients who had the original test.  So CA125ii should be present for all patients who had testing, and CA125 is only left in as a variable for a perspective on what patients were initially told at that time.\n",
    "\n",
    "\n",
    "So I think that the only variable we need to use for this tumor marker is ca125ii_level0-5, which is from the ovary person dataset, and we can disregard values for ca125_level0-5.\n",
    "\n",
    "\n",
    "CA-125 ASSAYS, VERSIONS 1 AND 2 \n",
    "\n",
    "When the trial began, PLCO used the first version of the assay for all CA-125 exams. On October 1, 1995, CA-125II became available and the protocol was switched to use this for all subsequent screens. A few years after this transition, all of the original samples were re-assayed using version two. So, use CA125_LEVEL0-5 to get the result of a screen from a clinical perspective of what the participant was told following their screening visit. Use CA125II_LEVEL0-5 to get the result of a screen from an epidemiologic perspective, with all values coming from the same assay. \n",
    "\n",
    "\n",
    "Since ca125ii only present in the personal dataset, I only kept the feature that describes the level of ca125ii for a year that is a baseline year (for the windown when they got cancer) of people when merging data."
   ]
  },
  {
   "attachments": {},
   "cell_type": "markdown",
   "metadata": {},
   "source": [
    "\n",
    "`TODO:` some features in the person dataset represent observations over multiple years\n",
    "\n",
    "`TODO:` bucket age by 3 or 5 years"
   ]
  },
  {
   "cell_type": "code",
   "execution_count": 36,
   "metadata": {},
   "outputs": [],
   "source": [
    "personal_filtered = personal_data.drop(['ovar_cancer_diagdays'], axis=1)\n",
    "merged_df = merge_data_over_years(personal_filtered, screen_data, screen_abnorm_data, screen_join='left', abrorm_join='left')\n",
    "merged_df = merged_df.drop(['study_yr'], axis=1)"
   ]
  },
  {
   "cell_type": "code",
   "execution_count": 37,
   "metadata": {},
   "outputs": [
    {
     "name": "stdout",
     "output_type": "stream",
     "text": [
      "<class 'pandas.core.frame.DataFrame'>\n",
      "Int64Index: 643704 entries, 0 to 78208\n",
      "Columns: 171 entries, ovar_cancer to cancer_in_next_10_years\n",
      "dtypes: float16(164), float64(5), int64(1), object(1)\n",
      "memory usage: 240.6+ MB\n"
     ]
    }
   ],
   "source": [
    "merged_df.info()"
   ]
  },
  {
   "cell_type": "code",
   "execution_count": 38,
   "metadata": {},
   "outputs": [],
   "source": [
    "# Convert discrete float columns to floats with lower number of bytes\n",
    "# Maybe discretise some\n",
    "# merged_summary = summarize_features(merged_df)\n",
    "# cols_unique_under_90 = merged_summary[merged_summary['unique count'] < 90].index\n",
    "# merged_df[cols_unique_under_90] = merged_df[cols_unique_under_90].astype(np.float16)"
   ]
  },
  {
   "cell_type": "code",
   "execution_count": 39,
   "metadata": {},
   "outputs": [],
   "source": [
    "# Drop features that are 100% missing\n",
    "# merged_df = drop_cols_missing_percentage(100, merged_df, 'merged_df')"
   ]
  },
  {
   "cell_type": "code",
   "execution_count": 40,
   "metadata": {},
   "outputs": [],
   "source": [
    "# get_cols_missing_percentage(50, merged_df, 'imputed_df', show_missing=True)"
   ]
  },
  {
   "attachments": {},
   "cell_type": "markdown",
   "metadata": {},
   "source": [
    "## Merging Datasets"
   ]
  },
  {
   "attachments": {},
   "cell_type": "markdown",
   "metadata": {},
   "source": [
    "`TODO:` should we dismiss people who do not have records in screen dataset. Abnormalities dataset? Run tests on all of the combinations of merges and imputations? "
   ]
  },
  {
   "attachments": {},
   "cell_type": "markdown",
   "metadata": {},
   "source": [
    "I realized that I was doing labeled mean imputation, which should not happen. So, I performed imputation after I merged cancer and no_cancer datasets back together. Without labeled mean imputation, gaussian NB and logistic regression do not perform well. "
   ]
  },
  {
   "attachments": {},
   "cell_type": "markdown",
   "metadata": {},
   "source": [
    "run experiments with decision tree and remove the top feature every time. Store the depth of the tree, the efficacy of the top feature, its value, accuracy, confusion matrix\n",
    "\n",
    "https://stackoverflow.com/questions/62819569/how-to-return-the-features-that-used-in-decision-tree-that-created-by-decisiontr\n",
    "\n",
    "`TODO:` Run model purely on family history variables vs purely on screen variables. "
   ]
  },
  {
   "cell_type": "code",
   "execution_count": 41,
   "metadata": {},
   "outputs": [],
   "source": [
    "def decision_tree_feature_selection(classifier, fn, accuracy, precision, recall, f1, plot_tree=False):\n",
    "    \n",
    "    if plot_tree:\n",
    "        cn=['no cancer', 'cancer']\n",
    "        fig, axes = plt.subplots(nrows = 1,ncols = 1,figsize = (4,4), dpi=300)\n",
    "        tree.plot_tree(classifier,\n",
    "            feature_names = fn, \n",
    "            class_names=cn,\n",
    "            filled = True)\n",
    "        plt.show()\n",
    "    feature_importances = pd.DataFrame(classifier.feature_importances_,\n",
    "                        index = fn,\n",
    "                        columns=['importance']).sort_values('importance', \n",
    "                                                            ascending=False)\n",
    "    feature_importances['feature'] = feature_importances.index\n",
    "    feature_importances = feature_importances[['feature', 'importance']]\n",
    "    # TODO: boundary and confusion matrix\n",
    "    top_feature_stats = {\n",
    "        'top_feature': feature_importances.iloc[0]['feature'],\n",
    "        # 'boundary': 0,\n",
    "        'num_features_used': len(feature_importances[feature_importances['importance'] > 0]),\n",
    "        'importance': round(feature_importances.iloc[0]['importance'], 3),\n",
    "        'tree_depth': classifier.tree_.max_depth,\n",
    "        'accuracy': accuracy,\n",
    "        'precision': precision,\n",
    "        'recall':    recall,\n",
    "        'f1-score':  f1,\n",
    "    }\n",
    "    return top_feature_stats, feature_importances\n"
   ]
  },
  {
   "cell_type": "code",
   "execution_count": 42,
   "metadata": {},
   "outputs": [],
   "source": [
    "def get_cv_scores(classifier, k_fold_lambdas):\n",
    "    cv_scores = []\n",
    "    # pipeline = make_pipeline(StandardScaler(), classifier)\n",
    "    for k, k_fold_lambda in enumerate(k_fold_lambdas):\n",
    "        X_train, X_test, y_train, y_test = k_fold_lambda()\n",
    "        # pipeline.fit(X_train_cv, y_train_cv)\n",
    "        # score = pipeline.score(X_test_cv, y_test_cv)\n",
    "        auc, accuracy, precision, recall, f1 = run_classifier(classifier, X_train, X_test, y_train, y_test, show_graph=False)\n",
    "        cv_scores.append((auc, accuracy, precision, recall, f1))\n",
    "        # print(f'Fold: {k+1}, Accuracy: {accuracy:.3f}, Precision: {precision:.3f}, Recall: {recall:.3f}, F1: {f1:.3f}, Auc: {auc:.3f}')\n",
    "    measures_df = pd.DataFrame(cv_scores, columns=['Auc', 'Accuracy', 'Precision', 'Recall', 'F1'])\n",
    "    print('\\n\\nCross-Validation measures:')\n",
    "    print_df(measures_df.describe().T[['mean', 'std', 'min', 'max']])\n",
    "    return cv_scores\n"
   ]
  },
  {
   "cell_type": "code",
   "execution_count": 43,
   "metadata": {},
   "outputs": [],
   "source": [
    "def run_classifiers(classifiers, df, label, drop_n_features = 1, k=10, cv=False, plot_tree=False):\n",
    "    df_feature_importance_tree = None\n",
    "    df_top_feature_importances = []\n",
    "    for i in range(drop_n_features):\n",
    "        \n",
    "        train_test_lambda, k_fold_lambdas = process_and_impute_for_label_kfold(df, label, 'median', n_max_per_class=10000, k=k)\n",
    "        X_train, X_test, y_train, y_test = train_test_lambda()\n",
    "        auc_dict = {}\n",
    "        accuracy_dict = {}\n",
    "        top_feature_importance = []\n",
    "        for classifier_type, classifier in classifiers.items():\n",
    "            # Cross Validation\n",
    "            if cv:\n",
    "                get_cv_scores(classifier, k_fold_lambdas)\n",
    "\n",
    "            # Test classifier\n",
    "            print(classifier_type)\n",
    "            auc, accuracy, precision, recall, f1 = run_classifier(classifier, X_train, X_test, y_train, y_test)\n",
    "\n",
    "            # Decision Tree feature selection\n",
    "            if classifier_type == 'DecisionTreeClassifier':\n",
    "                fn=X_train.columns\n",
    "                top_feature_stats, feature_importances = decision_tree_feature_selection(classifier, fn, accuracy, precision, recall, f1, plot_tree=plot_tree)\n",
    "                df_top_feature_importances.append(top_feature_stats)\n",
    "                top_feature_importance.append(feature_importances.iloc[0]['feature'])\n",
    "                feature_importances = feature_importances[feature_importances['importance'] > 0]\n",
    "                if df_feature_importance_tree is not None:\n",
    "                    df_feature_importance_tree = df_feature_importance_tree.merge(feature_importances, on='feature', how='outer', suffixes=[f'_tiral_{i}', f'_tiral_{i+1}'])\n",
    "                else:\n",
    "                    df_feature_importance_tree = feature_importances\n",
    "            auc_dict[classifier_type] = auc\n",
    "            accuracy_dict[classifier_type] = accuracy\n",
    "        df = df.drop(top_feature_importance, axis=1)\n",
    "\n",
    "    return df_top_feature_importances, df_feature_importance_tree\n",
    "\n"
   ]
  },
  {
   "cell_type": "code",
   "execution_count": 44,
   "metadata": {},
   "outputs": [
    {
     "name": "stdout",
     "output_type": "stream",
     "text": [
      "Distribution of labels based on unique plco_id: 0.20330578512396694\n",
      "Distribution of labels based on duplicate plco_id: 0.26342710997442453\n",
      "\n",
      "\n",
      "Cross-Validation measures:\n",
      "+-----------+----------+-----------+----------+----------+\n",
      "|           |     mean |       std |      min |      max |\n",
      "|-----------+----------+-----------+----------+----------|\n",
      "| Auc       | 0.860408 | 0.0151528 | 0.835609 | 0.886748 |\n",
      "| Accuracy  | 0.860625 | 0.0151898 | 0.835625 | 0.8875   |\n",
      "| Precision | 0.92305  | 0.0108046 | 0.903759 | 0.942051 |\n",
      "| Recall    | 0.78675  | 0.0248551 | 0.75125  | 0.83375  |\n",
      "| F1        | 0.849348 | 0.0178132 | 0.820478 | 0.88111  |\n",
      "+-----------+----------+-----------+----------+----------+\n",
      "DecisionTreeClassifier\n",
      "     precision  recall  f1-score  support\n",
      "0.0   0.895293   0.932  0.913278   2000.0\n",
      "1.0   0.929093   0.891  0.909648   2000.0\n",
      "ROC AUC score: 0.9118765\n",
      "Accuracy Score: 0.9115\n"
     ]
    },
    {
     "data": {
      "image/png": "[encoded data removed]",
      "text/plain": [
       "<Figure size 1152x360 with 3 Axes>"
      ]
     },
     "metadata": {
      "needs_background": "light"
     },
     "output_type": "display_data"
    },
    {
     "name": "stdout",
     "output_type": "stream",
     "text": [
      "+----+---------------+---------------------+--------------+--------------+------------+-------------+----------+------------+\n",
      "|    | top_feature   |   num_features_used |   importance |   tree_depth |   accuracy |   precision |   recall |   f1-score |\n",
      "|----+---------------+---------------------+--------------+--------------+------------+-------------+----------+------------|\n",
      "|  0 | age           |                  90 |        0.074 |           36 |     0.9115 |    0.929093 |    0.891 |   0.909648 |\n",
      "+----+---------------+---------------------+--------------+--------------+------------+-------------+----------+------------+\n"
     ]
    }
   ],
   "source": [
    "classifiers = {\n",
    "    'DecisionTreeClassifier': DecisionTreeClassifier(criterion= 'entropy'),\n",
    "    # 'RandomForestClassifier': RandomForestClassifier(criterion= 'gini', n_estimators= 200),\n",
    "    # 'XGBClassifier': XGBClassifier(eval_metric= 'error', learning_rate= 0.1)\n",
    "}\n",
    "label = 'cancer_in_next_1_years' # 'cancer_in_next_10_years', 'ovar_cancer'\n",
    "drop_n_features = 1\n",
    "cv=True\n",
    "df_top_feature_importances, df_feature_importance_tree = run_classifiers(classifiers, merged_df, label, cv=cv, drop_n_features = drop_n_features, k=10, plot_tree=False)\n",
    "# print_df(df_feature_importance_tree)\n",
    "print_df(pd.DataFrame(df_top_feature_importances))\n",
    "pd.DataFrame(df_top_feature_importances).to_csv(f'./top_{drop_n_features}_features_decision_tree.csv')"
   ]
  },
  {
   "cell_type": "code",
   "execution_count": 45,
   "metadata": {},
   "outputs": [],
   "source": [
    "df_feature_importance_tree.to_csv(f'./feature_importance_{drop_n_features}_trials.csv')"
   ]
  },
  {
   "cell_type": "code",
   "execution_count": 46,
   "metadata": {},
   "outputs": [
    {
     "name": "stdout",
     "output_type": "stream",
     "text": [
      "+---------------------+---------+-------------+\n",
      "| feature             |   count |        mean |\n",
      "|---------------------+---------+-------------|\n",
      "| age                 |       1 | 0.0736936   |\n",
      "| ca125ii_level       |       1 | 0.055768    |\n",
      "| bq_age              |       1 | 0.0497138   |\n",
      "| bmi_50              |       1 | 0.0491382   |\n",
      "| bmi_20              |       1 | 0.0423019   |\n",
      "| ph_any_muq          |       1 | 0.0383841   |\n",
      "| tvu_result          |       1 | 0.0371447   |\n",
      "| weight_f            |       1 | 0.0368573   |\n",
      "| ph_any_sqx          |       1 | 0.0346797   |\n",
      "| bmi_curr            |       1 | 0.0338784   |\n",
      "| ph_any_dhq          |       1 | 0.03225     |\n",
      "| ph_any_trial        |       1 | 0.02553     |\n",
      "| height_f            |       1 | 0.0218415   |\n",
      "| center              |       1 | 0.0210423   |\n",
      "| cig_years           |       1 | 0.0203131   |\n",
      "| tvu_ref             |       1 | 0.0188967   |\n",
      "| fmenstr             |       1 | 0.0183255   |\n",
      "| ovary_trial_flag    |       1 | 0.0171803   |\n",
      "| weight20_f          |       1 | 0.0170146   |\n",
      "| weight50_f          |       1 | 0.0154911   |\n",
      "| pack_years          |       1 | 0.0147807   |\n",
      "| pregc               |       1 | 0.0131102   |\n",
      "| educat              |       1 | 0.012677    |\n",
      "| brothers            |       1 | 0.0123891   |\n",
      "| lmenstr             |       1 | 0.0117987   |\n",
      "| thorm               |       1 | 0.0114222   |\n",
      "| smokea_f            |       1 | 0.011338    |\n",
      "| sisters             |       1 | 0.0108518   |\n",
      "| hystera             |       1 | 0.0101732   |\n",
      "| livec               |       1 | 0.00996336  |\n",
      "| cig_stop            |       1 | 0.00959207  |\n",
      "| bcontrt             |       1 | 0.00955839  |\n",
      "| race7               |       1 | 0.00944077  |\n",
      "| miscar              |       1 | 0.00908394  |\n",
      "| pelvic_history      |       1 | 0.00901999  |\n",
      "| bbd                 |       1 | 0.00859049  |\n",
      "| breast_fh_age       |       1 | 0.00843154  |\n",
      "| tuballig            |       1 | 0.00760175  |\n",
      "| bcontra             |       1 | 0.00713479  |\n",
      "| in_TGWAS_population |       1 | 0.00680507  |\n",
      "| agelevel            |       1 | 0.0067442   |\n",
      "| arthrit_f           |       1 | 0.00673081  |\n",
      "| asppd               |       1 | 0.00640808  |\n",
      "| mammo_history       |       1 | 0.00601343  |\n",
      "| marital             |       1 | 0.00585958  |\n",
      "| filtered_f          |       1 | 0.0057382   |\n",
      "| ovary_voll          |       1 | 0.00567026  |\n",
      "| gallblad_f          |       1 | 0.0056306   |\n",
      "| uterine_fib         |       1 | 0.00529692  |\n",
      "| prega               |       1 | 0.00482717  |\n",
      "| ovariesr_f          |       1 | 0.00453964  |\n",
      "| ibuppd              |       1 | 0.00443693  |\n",
      "| occupat             |       1 | 0.00400157  |\n",
      "| usound_history      |       1 | 0.00386383  |\n",
      "| bcontr_f            |       1 | 0.00355383  |\n",
      "| cig_stat            |       1 | 0.003394    |\n",
      "| hyster_f            |       1 | 0.0033629   |\n",
      "| fh_cancer           |       1 | 0.00317554  |\n",
      "| ovarsumm_fh_cnt     |       1 | 0.00303188  |\n",
      "| cigpd_f             |       1 | 0.00291826  |\n",
      "| ovarsumm_fh_age     |       1 | 0.00272095  |\n",
      "| curhorm             |       1 | 0.00263101  |\n",
      "| menstrs_stat_type   |       1 | 0.00241125  |\n",
      "| ovcyst_vol          |       1 | 0.00237406  |\n",
      "| endometriosis       |       1 | 0.00232564  |\n",
      "| trypreg             |       1 | 0.00228308  |\n",
      "| breast_fh_cnt       |       1 | 0.00217823  |\n",
      "| hearta_f            |       1 | 0.00215805  |\n",
      "| tubal               |       1 | 0.00207053  |\n",
      "| horm_stat           |       1 | 0.00204034  |\n",
      "| bmi_20c             |       1 | 0.00200382  |\n",
      "| bmi_curc            |       1 | 0.00198261  |\n",
      "| fchilda             |       1 | 0.00186764  |\n",
      "| asp                 |       1 | 0.00177318  |\n",
      "| papsmear_history    |       1 | 0.00163738  |\n",
      "| colon_comorbidity   |       1 | 0.00128295  |\n",
      "| hyperten_f          |       1 | 0.00099988  |\n",
      "| stillb              |       1 | 0.000802983 |\n",
      "| benign_ovcyst       |       1 | 0.000767792 |\n",
      "| smoked_f            |       1 | 0.000713659 |\n",
      "| bmi_50c             |       1 | 0.000684513 |\n",
      "| horm_f              |       1 | 0.000661512 |\n",
      "| rlong_p             |       1 | 0.000626179 |\n",
      "| polyps_f            |       1 | 0.000576243 |\n",
      "| rsmoker_f           |       1 | 0.000533859 |\n",
      "| emphys_f            |       1 | 0.000532112 |\n",
      "| ovcyst_morphl       |       1 | 0.000354695 |\n",
      "| dual                |       1 | 0.000337687 |\n",
      "| divertic_f          |       1 | 0.000179671 |\n",
      "| ph_any_bq           |       1 | 8.32144e-05 |\n",
      "+---------------------+---------+-------------+\n"
     ]
    }
   ],
   "source": [
    "df_feature_importance_mean = df_feature_importance_tree.drop('feature', axis=1)\n",
    "df_feature_importance_mean = df_feature_importance_mean.T\n",
    "df_feature_importance_mean.columns = df_feature_importance_tree['feature']\n",
    "df_feature_importance_mean = df_feature_importance_mean.astype('float')\n",
    "df_feature_importance_mean_describe = df_feature_importance_mean.describe().T\n",
    "df_feature_importance_mean_describe.sort_values('mean', ascending=False, inplace=True)\n",
    "# print(df_feature_importance_mean_describe.columns)\n",
    "df_feature_importance_mean_describe = df_feature_importance_mean_describe[['count', 'mean']]\n",
    "print_df(df_feature_importance_mean_describe)\n",
    "df_feature_importance_mean_describe.to_csv(f'./feature_importance_mean_{drop_n_features}_trials.csv')"
   ]
  },
  {
   "cell_type": "code",
   "execution_count": 47,
   "metadata": {},
   "outputs": [
    {
     "data": {
      "text/plain": [
       "{'breast_fh',\n",
       " 'bronchit_f',\n",
       " 'ca125_result',\n",
       " 'cancer_in_next_10_years',\n",
       " 'cancer_in_next_1_years',\n",
       " 'cancer_in_next_3_years',\n",
       " 'cancer_in_next_5_years',\n",
       " 'cigar',\n",
       " 'cyst',\n",
       " 'cystw',\n",
       " 'detl_p',\n",
       " 'detr_p',\n",
       " 'diabetes_f',\n",
       " 'echo',\n",
       " 'hispanic_f',\n",
       " 'ibup',\n",
       " 'lantero_p',\n",
       " 'lantero_q',\n",
       " 'liver_comorbidity',\n",
       " 'llong_p',\n",
       " 'llong_q',\n",
       " 'ltran_p',\n",
       " 'ltran_q',\n",
       " 'lvol_p',\n",
       " 'lvol_q',\n",
       " 'maxdi',\n",
       " 'menstrs',\n",
       " 'numcyst',\n",
       " 'numcystl',\n",
       " 'numcystr',\n",
       " 'osteopor_f',\n",
       " 'ovar_cancer',\n",
       " 'ovar_cancer_years',\n",
       " 'ovar_days',\n",
       " 'ovar_result',\n",
       " 'ovarsumm_fh',\n",
       " 'ovary_diam',\n",
       " 'ovary_diaml',\n",
       " 'ovary_diamr',\n",
       " 'ovary_vol',\n",
       " 'ovary_volr',\n",
       " 'ovcyst_diam',\n",
       " 'ovcyst_diaml',\n",
       " 'ovcyst_diamr',\n",
       " 'ovcyst_morph',\n",
       " 'ovcyst_morphr',\n",
       " 'ovcyst_outline',\n",
       " 'ovcyst_outlinel',\n",
       " 'ovcyst_outliner',\n",
       " 'ovcyst_solid',\n",
       " 'ovcyst_solidl',\n",
       " 'ovcyst_solidr',\n",
       " 'ovcyst_sum',\n",
       " 'ovcyst_suml',\n",
       " 'ovcyst_sumr',\n",
       " 'ovcyst_voll',\n",
       " 'ovcyst_volr',\n",
       " 'ph_any_dqx',\n",
       " 'ph_ovar_bq',\n",
       " 'ph_ovar_dqx',\n",
       " 'ph_ovar_trial',\n",
       " 'phycons',\n",
       " 'pipe',\n",
       " 'plco_id',\n",
       " 'post_menopausal',\n",
       " 'preg_f',\n",
       " 'rantero_p',\n",
       " 'rantero_q',\n",
       " 'rlong_q',\n",
       " 'rtran_p',\n",
       " 'rtran_q',\n",
       " 'rvol_p',\n",
       " 'rvol_q',\n",
       " 'sepst',\n",
       " 'solid',\n",
       " 'stroke_f',\n",
       " 'visboth',\n",
       " 'viseith',\n",
       " 'visl',\n",
       " 'visr',\n",
       " 'volum'}"
      ]
     },
     "execution_count": 47,
     "metadata": {},
     "output_type": "execute_result"
    }
   ],
   "source": [
    "set(merged_df.columns) - set(df_feature_importance_mean_describe.index)"
   ]
  },
  {
   "cell_type": "code",
   "execution_count": 48,
   "metadata": {},
   "outputs": [],
   "source": [
    "ranked_df = df_feature_importance_tree.rank(method='max')\n",
    "ranked_df['feature'] = df_feature_importance_tree['feature']\n",
    "ranked_df = ranked_df.drop('feature', axis=1)\n",
    "ranked_df = ranked_df.T\n",
    "ranked_df.columns = df_feature_importance_tree['feature']\n",
    "ranked_df = ranked_df.astype('float')\n",
    "description_rank = ranked_df.describe().T\n",
    "description_rank.to_csv(f'./feature_importance_rank_{drop_n_features}_trials.csv')"
   ]
  },
  {
   "cell_type": "code",
   "execution_count": 49,
   "metadata": {},
   "outputs": [],
   "source": [
    "classifiers = [\n",
    "    DecisionTreeClassifier(),\n",
    "    RandomForestClassifier(),\n",
    "    # GaussianNB(),\n",
    "    # XGBClassifier(),\n",
    "    # LogisticRegression(max_iter=200)\n",
    "]\n",
    "# Calculate years before cancer\n",
    "def f_score(X_train, X_test, y_train, y_test, classifiers):\n",
    "    for clf in classifiers:\n",
    "        s = time.time()\n",
    "        clf.fit(X_train,y_train)\n",
    "        y_pred = clf.predict(X_test)\n",
    "        f = f1_score(y_true=y_test,y_pred=y_pred,average=\"macro\")\n",
    "        e = time.time()\n",
    "        print(f\"Score: {round(f,3)} \\t Time(in secs): {round(e-s,3)} \\t Classifier: {clf.__class__.__name__}\")\n",
    "# f_score(X_train, X_test, y_train, y_test, classifiers)"
   ]
  },
  {
   "cell_type": "code",
   "execution_count": 50,
   "metadata": {},
   "outputs": [],
   "source": [
    "def select_using_model(x,y):\n",
    "    sel = SelectFromModel(XGBClassifier())\n",
    "    sel.fit(x,y)"
   ]
  },
  {
   "cell_type": "code",
   "execution_count": 51,
   "metadata": {},
   "outputs": [],
   "source": [
    "def select_using_score_func(X_train, y_train):\n",
    "    # configure to select all features\n",
    "    fs = SelectKBest(score_func=f_classif, k='all')\n",
    "    # learn relationship from training data\n",
    "    fs.fit(X_train, y_train)\n",
    "    # what are scores for the features\n",
    "    features_scores = pd.DataFrame(x.columns)\n",
    "    features_scores['scores'] = fs.scores_\n",
    "    features_scores = features_scores.sort_values('scores', ascending=False)\n",
    "    features_scores.to_csv('./feature_selection/all_features_new_cols__mean_imputed.csv')"
   ]
  },
  {
   "cell_type": "code",
   "execution_count": null,
   "metadata": {},
   "outputs": [],
   "source": []
  },
  {
   "cell_type": "code",
   "execution_count": 52,
   "metadata": {},
   "outputs": [],
   "source": [
    "# Determine on which features to use mean imputation and on which ones to replace with -1"
   ]
  },
  {
   "attachments": {},
   "cell_type": "markdown",
   "metadata": {},
   "source": [
    " The initial dataset had 181 variables (Appendix 1). Variables were ranked by their F-score, which is the harmonic mean of precision and recall, with those with an F-score closest to 1.0 demonstrating high correlation with treatment success [10]. Experts in the treatment of BPH also selected variables for inclusion into the models irrespective of the F-Score, these variables, plus those with a high F-Score were selected for inclusion in initial model development.. The actual variables used by our models were a subset of these, and the number in any given fold and subgroup was dynamically determined by treating this as a hyper-parameter and tuning it as described below."
   ]
  }
 ],
 "metadata": {
  "kernelspec": {
   "display_name": "Python 3",
   "language": "python",
   "name": "python3"
  },
  "language_info": {
   "codemirror_mode": {
    "name": "ipython",
    "version": 3
   },
   "file_extension": ".py",
   "mimetype": "text/x-python",
   "name": "python",
   "nbconvert_exporter": "python",
   "pygments_lexer": "ipython3",
   "version": "3.10.4"
  },
  "orig_nbformat": 4,
  "vscode": {
   "interpreter": {
    "hash": "9b9f07f525d6131811c533cc81eafd9d7147c1a9ff2e81c94d4f0d027f94c4be"
   }
  }
 },
 "nbformat": 4,
 "nbformat_minor": 2
}

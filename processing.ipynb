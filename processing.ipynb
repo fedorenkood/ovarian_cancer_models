{
 "cells": [
  {
   "cell_type": "code",
   "execution_count": 369,
   "metadata": {},
   "outputs": [],
   "source": [
    "from processing_functions import *\n",
    "%matplotlib inline\n",
    "import warnings\n",
    "\n",
    "warnings.filterwarnings(\"ignore\")\n"
   ]
  },
  {
   "cell_type": "code",
   "execution_count": 370,
   "metadata": {},
   "outputs": [],
   "source": [
    "# reading datasets\n",
    "personal_data = pd.read_csv('./dataset/Ovarian/ovar_data_mar22_d032222.csv')\n",
    "screen_data = pd.read_csv('./dataset/Ovarian/Screening/ovar_screen_data_mar22_d032222.csv')\n",
    "screen_abnorm_data = pd.read_csv('./dataset/Ovarian/Screening Abnormalities/ovar_scrsub_data_mar22_d032222.csv')"
   ]
  },
  {
   "attachments": {},
   "cell_type": "markdown",
   "metadata": {},
   "source": [
    "## Preprocessing\n",
    "For some of the datasets we determined some of the features to not be useful for analysis. For every dataset that includes `build` features. \n",
    "\n",
    "For personal dataset we removed all `ovar_` features since they are a direct result of the cancer diagnosis and should not be used predict cancer. \n",
    "\n",
    "For the screen data dataset it was determined that `examinerid_` features do not bring the value to the dataset since they represet 'Examiner ID made by concatentating center and exam ID for overall screen result.' and cannot be the cause of the cancer. We also drop all of the remaining"
   ]
  },
  {
   "cell_type": "code",
   "execution_count": 371,
   "metadata": {},
   "outputs": [
    {
     "name": "stdout",
     "output_type": "stream",
     "text": [
      "Number of ovar_ cols: 50\n",
      "['ovar_reasfoll', 'ovar_reassurv', 'ovar_reassymp', 'ovar_reasoth', 'ovar_cancer', 'ovar_intstat_cat', 'ovar_annyr', 'ovar_cancer_site', 'ovar_stage', 'ovar_stage_7e', 'ovar_stage_t', 'ovar_stage_n', 'ovar_stage_m', 'ovar_clinstage', 'ovar_clinstage_7e', 'ovar_clinstage_t', 'ovar_clinstage_n', 'ovar_clinstage_m', 'ovar_pathstage', 'ovar_pathstage_7e', 'ovar_pathstage_t', 'ovar_pathstage_n', 'ovar_pathstage_m', 'ovar_grade', 'ovar_topography', 'ovar_morphology', 'ovar_behavior', 'ovar_histtype', 'ovar_exitstat', 'ovar_exitage', 'ovar_seer', 'ovar_cancer_first', 'ovar_curative_surg', 'ovar_curative_chemo', 'ovar_primary_trt', 'ovar_num_heslide_imgs', 'ovar_has_deliv_heslide_img', 'ovar_exitdays', 'ovar_primary_trt_days', 'ovar_cancer_diagdays', 'ovar_mra_stat0', 'ovar_mra_stat1', 'ovar_mra_stat2', 'ovar_mra_stat3', 'ovar_mra_stat4', 'ovar_mra_stat5', 'ovar_eligible_bq', 'ovar_eligible_sqx', 'ovar_eligible_dhq', 'ovar_eligible_dqx']\n",
      "Number of mortality cols: 3\n",
      "['mortality_exitage', 'mortality_exitstat', 'mortality_exitdays']\n",
      "Number of reconsent cols: 2\n",
      "['reconsent_outcome', 'reconsent_outcome_days']\n",
      "Number of is_dead cols: 2\n",
      "['is_dead_with_cod', 'is_dead']\n",
      "Number of build cols: 4\n",
      "['build', 'build_cancers', 'build_incidence_cutoff', 'build_death_cutoff']\n",
      "Number of biopolink cols: 6\n",
      "['biopolink0', 'biopolink1', 'biopolink2', 'biopolink3', 'biopolink4', 'biopolink5']\n",
      "Number of ca125_ cols: 26\n",
      "['ca125_result0', 'ca125_result1', 'ca125_result2', 'ca125_result3', 'ca125_result4', 'ca125_result5', 'ca125_level0', 'ca125_level1', 'ca125_level2', 'ca125_level3', 'ca125_level4', 'ca125_level5', 'ca125_src0', 'ca125_src1', 'ca125_src2', 'ca125_src3', 'ca125_src4', 'ca125_src5', 'ca125_prot', 'ca125_days0', 'ca125_days1', 'ca125_days2', 'ca125_days3', 'ca125_days4', 'ca125_days5', 'ca125_history']\n",
      "Number of tvu cols: 8\n",
      "['tvu_result0', 'tvu_result1', 'tvu_result2', 'tvu_result3', 'tvu_days0', 'tvu_days1', 'tvu_days2', 'tvu_days3']\n",
      "Number of entrydays cols: 4\n",
      "['entrydays_bq', 'entrydays_dqx', 'entrydays_dhq', 'entrydays_sqx']\n",
      "Number of entryage cols: 5\n",
      "['entryage_bq', 'entryage_dqx', 'entryage_dhq', 'entryage_sqx', 'entryage_muq']\n",
      "Number of inad_ cols: 42\n",
      "['inad_bow_p1', 'inad_bow_p2', 'inad_bow_p3', 'inad_dis_p1', 'inad_dis_p2', 'inad_dis_p3', 'inad_mal_p1', 'inad_mal_p2', 'inad_mal_p3', 'inad_probe_p1', 'inad_probe_p2', 'inad_probe_p3', 'inad_ref_p1', 'inad_ref_p2', 'inad_ref_p3', 'inad_oth_p1', 'inad_oth_p2', 'inad_oth_p3', 'inad_bow_q1', 'inad_bow_q2', 'inad_bow_q3', 'inad_dis_q1', 'inad_dis_q2', 'inad_dis_q3', 'inad_mal_q1', 'inad_mal_q2', 'inad_mal_q3', 'inad_probe_q1', 'inad_probe_q2', 'inad_probe_q3', 'inad_ref_q1', 'inad_ref_q2', 'inad_ref_q3', 'inad_oth_q1', 'inad_oth_q2', 'inad_oth_q3', 'inad_bow', 'inad_dis', 'inad_mal', 'inad_probe', 'inad_ref', 'inad_oth']\n",
      "Number of examinerid cols: 7\n",
      "['examinerid_pvis1', 'examinerid_pvis2', 'examinerid_pvis3', 'examinerid_qvis1', 'examinerid_qvis2', 'examinerid_qvis3', 'examinerid']\n",
      "Number of build cols: 3\n",
      "['build', 'build_cancers', 'build_incidence_cutoff']\n",
      "Number of tvures_ cols: 6\n",
      "['tvures_pvis1', 'tvures_pvis2', 'tvures_pvis3', 'tvures_qvis1', 'tvures_qvis2', 'tvures_qvis3']\n",
      "Number of build cols: 3\n",
      "['build', 'build_cancers', 'build_incidence_cutoff']\n"
     ]
    }
   ],
   "source": [
    "# Drop profy features\n",
    "proxy_features_personal_dataset = [\n",
    "    'fstcan_exitdays', # Days from trial entry (randomization) to first cancer diagnosis for participants with cancer, or to trial exit otherwise. Only cancers occuring during the trial are used to determine exit.\n",
    "    'fstcan_exitstat', # Status of the participant at exit for first cancer incidence. Only cancers occuring during the trial are used to determine exit.\n",
    "    'fstcan_exitage',\n",
    "    'f_dthovar', # Is ovarian cancer the underlying cause of death? This conclusion is based on the information from the death certificate and death review.\n",
    "    'f_codeath_cat', # Categorized underlying cause of death.\n",
    "    'f_cancersite', # Underlying cause of death from cancer.\n",
    "    'f_seer_death', # Underlying cause of death.\n",
    "    'd_codeath_cat', # Categorized underlying cause of death.\n",
    "    'd_dthovar', # Is Ovarian Cancer The Underlying Cause Of Death?\n",
    "    'd_cancersite', # \n",
    "    'd_seer_death', # Underlying cause of death.\n",
    "    'ph_ovar_muq', # Did the participant have a personal history of ovarian/ft/pt cancer prior to MUQ analysis entry? \n",
    "    'ph_ovar_sqx', # \n",
    "    'entrydays_muq', # \n",
    "    'ph_ovar_dhq', # \n",
    "    'dth_days', # \n",
    "    'bq_compdays',\n",
    "    'bq_adminm',\n",
    "    'bq_returned',\n",
    "    'ssmokea_f',\n",
    "    'orem_fyro',\n",
    "    'arm',\n",
    "    'sex',\n",
    "    'rndyear',\n",
    "    ]\n",
    "\n",
    "proxy_features_screen_dataset = [\n",
    "    'QAMETHOD',\n",
    "    'tvudays_pvis1',\n",
    "    'tvudays_pvis2',\n",
    "    'tvudays_pvis3',\n",
    "    # 'tvures_qvis1',\n",
    "    # 'tvures_qvis2',\n",
    "    # 'tvures_qvis3',\n",
    "    # 'tvures_pvis3',  # It is completely missing for non-cancer patients\n",
    "    'tvu_days',\n",
    "    'tvu_assess_days_q',\n",
    "    'medcomp', # \n",
    "    'physid',\n",
    "    'detl_q',\n",
    "    'detr_q',\n",
    "    'ca125_src', # \n",
    "    'ca125_days', # \n",
    "    'ca125ii_src', # '\n",
    "    'ca125_level',\n",
    "    'ca125i_assess_days',\n",
    "    'ca125ii_assess_days',\n",
    "]\n",
    "\n",
    "proxy_features_abnorm_dataset = ['VISIT', 'side', 'sbcd', 'source']\n",
    "\n",
    "personal_data = personal_data.drop(proxy_features_personal_dataset, axis=1)\n",
    "screen_data = screen_data.drop(proxy_features_screen_dataset, axis=1)\n",
    "screen_abnorm_data = screen_abnorm_data.drop(proxy_features_abnorm_dataset, axis=1)\n",
    "\n",
    "# Remove all ovar_ features\n",
    "personal_data = remove_featues_startswith(personal_data, ['ovar_', 'mortality', 'reconsent', 'is_dead', 'build', 'biopolink', 'ca125_', 'tvu', 'entrydays', \n",
    "                                                          'entryage'\n",
    "                                                          ], ['ovar_cancer', 'ovar_cancer_diagdays'])\n",
    "\n",
    "# Remove all inad_ and examinerid_ and build_ features\n",
    "screen_data = remove_featues_startswith(screen_data, ['inad_', 'examinerid', 'build', 'tvures_'])\n",
    "\n",
    "# Drop not useful cols and convert categorical into numerical in screen abnormalities\n",
    "screen_abnorm_data = remove_featues_startswith(screen_abnorm_data, ['build'])"
   ]
  },
  {
   "cell_type": "code",
   "execution_count": 372,
   "metadata": {},
   "outputs": [
    {
     "name": "stdout",
     "output_type": "stream",
     "text": [
      "Num of records in personal dataset: 78209\n",
      "Num of unique plco_id in personal dataset: 78209\n",
      "Num of patients with cancer: 613\n",
      "Num of patients without cancer: 77596\n"
     ]
    }
   ],
   "source": [
    "print_records_vs_unique(personal_data, 'plco_id', 'personal')\n",
    "# Check the number of people with cancer\n",
    "personal_data_cancer = personal_data[personal_data['ovar_cancer']==1]\n",
    "print(f\"Num of patients with cancer: {len(personal_data_cancer)}\")\n",
    "# Check the number of people without cancer\n",
    "personal_data_no_cancer = personal_data[personal_data['ovar_cancer']==0]\n",
    "print(f\"Num of patients without cancer: {len(personal_data_no_cancer)}\")"
   ]
  },
  {
   "cell_type": "code",
   "execution_count": 373,
   "metadata": {},
   "outputs": [
    {
     "data": {
      "text/plain": [
       "Index(['study_yr', 'solid', 'sepst', 'cyst', 'cystw', 'echo', 'maxdi', 'volum',\n",
       "       'plco_id'],\n",
       "      dtype='object')"
      ]
     },
     "execution_count": 373,
     "metadata": {},
     "output_type": "execute_result"
    }
   ],
   "source": [
    "screen_abnorm_data.columns"
   ]
  },
  {
   "cell_type": "code",
   "execution_count": 374,
   "metadata": {},
   "outputs": [],
   "source": [
    "# Convert discrete float columns to floats with lower number of bytes\n",
    "personal_data = convert_numeric_to_float16(personal_data)\n",
    "screen_data = convert_numeric_to_float16(screen_data)\n",
    "screen_abnorm_data = convert_numeric_to_float16(screen_abnorm_data)"
   ]
  },
  {
   "attachments": {},
   "cell_type": "markdown",
   "metadata": {},
   "source": [
    "## Merging data into features and mean imputing"
   ]
  },
  {
   "attachments": {},
   "cell_type": "markdown",
   "metadata": {},
   "source": [
    "Deciding which patients will be in training vs test set to learn the mean imputation parameters.\n",
    "\n",
    "Mean imputation: https://www.kaggle.com/general/226554"
   ]
  },
  {
   "attachments": {},
   "cell_type": "markdown",
   "metadata": {},
   "source": [
    "To predict whether person will get cancer in the next 1, 3, 5, 10 years we need to determine what feature describes when person got cancer. In our case that features is `ovar_cancer_diagdays`. We are going to use that feature in the following manner: we are going to have a sliding window to determine whether the person gets cancer withing the period of that window. Then, we are going to slide that window by one year and determine a new batch of people who are going to get cancer in that window and so on. For each of the features that are measured across multiple years we only going to use a record that is at the beginning of the interval. "
   ]
  },
  {
   "attachments": {},
   "cell_type": "markdown",
   "metadata": {},
   "source": [
    "Since `ovar_cancer_diagdays` is described in days and we are concerned about the years when people will get cancer we need to convert this feature into years. Since people got cancer from year 1 to year 19, we are going to bucket it into 19 buckets corresponding to year when person got cancer. "
   ]
  },
  {
   "cell_type": "code",
   "execution_count": 375,
   "metadata": {},
   "outputs": [
    {
     "name": "stdout",
     "output_type": "stream",
     "text": [
      "Max value of ovar_cancer_diagdays in years is 18.893150684931506\n"
     ]
    }
   ],
   "source": [
    "ovar_cancer_diagdays_range = personal_data['ovar_cancer_diagdays'].max() / 365\n",
    "print(f'Max value of ovar_cancer_diagdays in years is {ovar_cancer_diagdays_range}')\n"
   ]
  },
  {
   "cell_type": "code",
   "execution_count": 376,
   "metadata": {},
   "outputs": [],
   "source": [
    "personal_data['ovar_cancer_years'] = pd.cut(personal_data['ovar_cancer_diagdays'], bins=19, labels=list(range(0, 19)), include_lowest=True)\n",
    "personal_data['ovar_cancer_years'] = pd.to_numeric(personal_data['ovar_cancer_years'])"
   ]
  },
  {
   "attachments": {},
   "cell_type": "markdown",
   "metadata": {},
   "source": [
    "We can also set every healthy persons '`ovar_cancer_years`' to 100 so that it is easier to filter them"
   ]
  },
  {
   "cell_type": "code",
   "execution_count": 377,
   "metadata": {},
   "outputs": [],
   "source": [
    "personal_data['ovar_cancer_years'] = personal_data['ovar_cancer_years'].fillna(100)"
   ]
  },
  {
   "attachments": {},
   "cell_type": "markdown",
   "metadata": {},
   "source": [
    "When merging abnormalities dataset we are going to keep each record for each `study_yr`, select the latest `VISIT` if there are multiple and take the largest value of each column over all of the remaining records. "
   ]
  },
  {
   "attachments": {},
   "cell_type": "markdown",
   "metadata": {},
   "source": [
    "See below what I found about CA125 vs CA125ii......it sounds like we should actually just be using CA125ii.  When they switched tests, they actually used the new test (CA125ii) to re-test the frozen samples from all of the patients who had the original test.  So CA125ii should be present for all patients who had testing, and CA125 is only left in as a variable for a perspective on what patients were initially told at that time.\n",
    "\n",
    "\n",
    "So I think that the only variable we need to use for this tumor marker is ca125ii_level0-5, which is from the ovary person dataset, and we can disregard values for ca125_level0-5.\n",
    "\n",
    "\n",
    "CA-125 ASSAYS, VERSIONS 1 AND 2 \n",
    "\n",
    "When the trial began, PLCO used the first version of the assay for all CA-125 exams. On October 1, 1995, CA-125II became available and the protocol was switched to use this for all subsequent screens. A few years after this transition, all of the original samples were re-assayed using version two. So, use CA125_LEVEL0-5 to get the result of a screen from a clinical perspective of what the participant was told following their screening visit. Use CA125II_LEVEL0-5 to get the result of a screen from an epidemiologic perspective, with all values coming from the same assay. \n",
    "\n",
    "\n",
    "Since ca125ii only present in the personal dataset, I only kept the feature that describes the level of ca125ii for a year that is a baseline year (for the windown when they got cancer) of people when merging data."
   ]
  },
  {
   "attachments": {},
   "cell_type": "markdown",
   "metadata": {},
   "source": [
    "\n",
    "`TODO:` some features in the person dataset represent observations over multiple years\n",
    "\n",
    "`TODO:` bucket age by 3 or 5 years"
   ]
  },
  {
   "cell_type": "code",
   "execution_count": 378,
   "metadata": {},
   "outputs": [],
   "source": [
    "# drop non-cancer records without screen records\n",
    "personal_filtered = personal_data\n",
    "condition = (personal_data['plco_id'].isin(screen_data['plco_id'])) | (personal_data['ovar_cancer'] == 1)\n",
    "personal_filtered = personal_filtered[condition]"
   ]
  },
  {
   "cell_type": "code",
   "execution_count": 379,
   "metadata": {},
   "outputs": [
    {
     "data": {
      "text/html": [
       "<div>\n",
       "<style scoped>\n",
       "    .dataframe tbody tr th:only-of-type {\n",
       "        vertical-align: middle;\n",
       "    }\n",
       "\n",
       "    .dataframe tbody tr th {\n",
       "        vertical-align: top;\n",
       "    }\n",
       "\n",
       "    .dataframe thead th {\n",
       "        text-align: right;\n",
       "    }\n",
       "</style>\n",
       "<table border=\"1\" class=\"dataframe\">\n",
       "  <thead>\n",
       "    <tr style=\"text-align: right;\">\n",
       "      <th></th>\n",
       "      <th>ovar_cancer_years</th>\n",
       "    </tr>\n",
       "  </thead>\n",
       "  <tbody>\n",
       "    <tr>\n",
       "      <th>count</th>\n",
       "      <td>613.000000</td>\n",
       "    </tr>\n",
       "    <tr>\n",
       "      <th>mean</th>\n",
       "      <td>7.075041</td>\n",
       "    </tr>\n",
       "    <tr>\n",
       "      <th>std</th>\n",
       "      <td>4.791153</td>\n",
       "    </tr>\n",
       "    <tr>\n",
       "      <th>min</th>\n",
       "      <td>0.000000</td>\n",
       "    </tr>\n",
       "    <tr>\n",
       "      <th>25%</th>\n",
       "      <td>3.000000</td>\n",
       "    </tr>\n",
       "    <tr>\n",
       "      <th>50%</th>\n",
       "      <td>7.000000</td>\n",
       "    </tr>\n",
       "    <tr>\n",
       "      <th>75%</th>\n",
       "      <td>11.000000</td>\n",
       "    </tr>\n",
       "    <tr>\n",
       "      <th>max</th>\n",
       "      <td>18.000000</td>\n",
       "    </tr>\n",
       "  </tbody>\n",
       "</table>\n",
       "</div>"
      ],
      "text/plain": [
       "       ovar_cancer_years\n",
       "count         613.000000\n",
       "mean            7.075041\n",
       "std             4.791153\n",
       "min             0.000000\n",
       "25%             3.000000\n",
       "50%             7.000000\n",
       "75%            11.000000\n",
       "max            18.000000"
      ]
     },
     "execution_count": 379,
     "metadata": {},
     "output_type": "execute_result"
    }
   ],
   "source": [
    "personal_filtered[personal_filtered['ovar_cancer_years']<50][['ovar_cancer_years']].describe()"
   ]
  },
  {
   "cell_type": "code",
   "execution_count": 380,
   "metadata": {},
   "outputs": [],
   "source": [
    "personal_filtered = personal_filtered.drop(['ovar_cancer_diagdays'], axis=1)\n",
    "merged_df = merge_data_over_years(personal_filtered, screen_data, screen_abnorm_data, screen_join='left', abrorm_join='left')\n"
   ]
  },
  {
   "cell_type": "code",
   "execution_count": 381,
   "metadata": {},
   "outputs": [
    {
     "name": "stdout",
     "output_type": "stream",
     "text": [
      "<class 'pandas.core.frame.DataFrame'>\n",
      "Int64Index: 336206 entries, 0 to 78166\n",
      "Columns: 173 entries, ovar_cancer to was_screened\n",
      "dtypes: float16(165), float64(5), int64(2), object(1)\n",
      "memory usage: 128.9+ MB\n"
     ]
    }
   ],
   "source": [
    "merged_df.info()"
   ]
  },
  {
   "cell_type": "code",
   "execution_count": 382,
   "metadata": {},
   "outputs": [],
   "source": [
    "# Convert discrete float columns to floats with lower number of bytes\n",
    "# Maybe discretise some\n",
    "# merged_summary = summarize_features(merged_df)\n",
    "# cols_unique_under_90 = merged_summary[merged_summary['unique count'] < 90].index\n",
    "# merged_df[cols_unique_under_90] = merged_df[cols_unique_under_90].astype(np.float16)"
   ]
  },
  {
   "cell_type": "code",
   "execution_count": 383,
   "metadata": {},
   "outputs": [],
   "source": [
    "# Drop features that are 100% missing\n",
    "# merged_df = drop_cols_missing_percentage(100, merged_df, 'merged_df')"
   ]
  },
  {
   "cell_type": "code",
   "execution_count": 384,
   "metadata": {},
   "outputs": [],
   "source": [
    "# get_cols_missing_percentage(50, merged_df, 'imputed_df', show_missing=True)"
   ]
  },
  {
   "cell_type": "code",
   "execution_count": 385,
   "metadata": {},
   "outputs": [
    {
     "data": {
      "text/plain": [
       "Index(['study_yr', 'solid', 'sepst', 'cyst', 'cystw', 'echo', 'maxdi', 'volum',\n",
       "       'plco_id'],\n",
       "      dtype='object')"
      ]
     },
     "execution_count": 385,
     "metadata": {},
     "output_type": "execute_result"
    }
   ],
   "source": [
    "screen_abnorm_data.columns"
   ]
  },
  {
   "attachments": {},
   "cell_type": "markdown",
   "metadata": {},
   "source": [
    "Impute data for patient with the most recent value for a feature if at all present"
   ]
  },
  {
   "cell_type": "code",
   "execution_count": 386,
   "metadata": {},
   "outputs": [
    {
     "data": {
      "text/plain": [
       "['study_yr']"
      ]
     },
     "execution_count": 386,
     "metadata": {},
     "output_type": "execute_result"
    }
   ],
   "source": [
    "[col for col in merged_df.columns if 'study_yr' in col]"
   ]
  },
  {
   "cell_type": "code",
   "execution_count": 387,
   "metadata": {},
   "outputs": [
    {
     "data": {
      "text/plain": [
       "185217"
      ]
     },
     "execution_count": 387,
     "metadata": {},
     "output_type": "execute_result"
    }
   ],
   "source": [
    "sum(merged_df['study_yr'].isnull())"
   ]
  },
  {
   "cell_type": "code",
   "execution_count": 388,
   "metadata": {},
   "outputs": [
    {
     "data": {
      "text/plain": [
       "336206"
      ]
     },
     "execution_count": 388,
     "metadata": {},
     "output_type": "execute_result"
    }
   ],
   "source": [
    "len(merged_df)"
   ]
  },
  {
   "cell_type": "code",
   "execution_count": 389,
   "metadata": {},
   "outputs": [],
   "source": [
    "merged_df['study_yr'] = merged_df['study_yr'].fillna(-1)"
   ]
  },
  {
   "cell_type": "code",
   "execution_count": 390,
   "metadata": {},
   "outputs": [],
   "source": [
    "def use_most_recent(df, keep_last_on_col, col_id, on_cols):\n",
    "    for col in on_cols:\n",
    "        sorted_df = df[df[col].notnull()]\n",
    "        sorted_df = sorted_df.sort_values(by=keep_last_on_col)\n",
    "        impute_values = sorted_df.drop_duplicates(col_id, keep='last')\n",
    "        impute_values = impute_values[[col_id, col]]\n",
    "        # print(impute_values)\n",
    "        df = df.set_index(col_id).combine_first(impute_values.set_index(col_id)).reset_index()\n",
    "    return df\n",
    "\n",
    "screen_data_cols_fill_last = ['detl_p', 'detr_p', 'lvol_p', 'rvol_p', 'lvol_q', 'rvol_q',\n",
    "       'lantero_p', 'lantero_q', 'llong_p', 'llong_q', 'ltran_p', 'ltran_q',\n",
    "       'rantero_p', 'rantero_q', 'rlong_p', 'rlong_q', 'rtran_p', 'rtran_q',\n",
    "       'tvu_ref', 'phycons', 'tvu_result', 'ca125_result', 'ovar_result',\n",
    "       'ovcyst_solidr', 'ovcyst_outliner', 'ovcyst_solidl', 'ovcyst_outlinel',\n",
    "       'ovcyst_solid', 'ovcyst_outline', 'ovcyst_diamr', 'ovcyst_diaml',\n",
    "       'ovcyst_diam', 'ovcyst_volr', 'ovcyst_voll', 'ovcyst_vol',\n",
    "       'ovcyst_morphr', 'ovcyst_morphl', 'ovcyst_morph', 'ovcyst_sumr',\n",
    "       'ovcyst_suml', 'ovcyst_sum', 'ovary_diam', 'ovary_diamr', 'ovary_diaml',\n",
    "       'ovary_volr', 'ovary_voll', 'ovary_vol', 'visl', 'visr', 'visboth',\n",
    "       'viseith', 'numcystl', 'numcystr', 'numcyst']\n",
    "\n",
    "screen_abnorm_data_fill_last = ['solid', 'sepst', 'cyst', 'cystw', 'echo', 'maxdi', 'volum']\n",
    "last_propagated_df = use_most_recent(merged_df, 'study_yr', 'plco_id', screen_data_cols_fill_last)\n",
    "last_propagated_df = use_most_recent(last_propagated_df, 'study_yr', 'plco_id', screen_abnorm_data_fill_last)\n",
    "\n",
    "# get_cols_missing_percentage(0, merged_df[screen_data_cols_fill_last], 'merged_df', show_missing=True)\n",
    "# get_cols_missing_percentage(0, last_propagated_df[screen_data_cols_fill_last], 'last_propagated_df', show_missing=True)\n",
    "\n",
    "# get_cols_missing_percentage(0, merged_df[screen_abnorm_data_fill_last], 'merged_df', show_missing=True)\n",
    "# get_cols_missing_percentage(0, last_propagated_df[screen_abnorm_data_fill_last], 'last_propagated_df', show_missing=True)"
   ]
  },
  {
   "cell_type": "code",
   "execution_count": 391,
   "metadata": {},
   "outputs": [],
   "source": [
    "last_propagated_df = last_propagated_df.drop('study_yr', axis=1)"
   ]
  },
  {
   "cell_type": "code",
   "execution_count": 392,
   "metadata": {},
   "outputs": [
    {
     "name": "stdout",
     "output_type": "stream",
     "text": [
      "The table of features missing over 0 percentage: \n"
     ]
    }
   ],
   "source": [
    "original_missing = get_cols_missing_percentage(0, merged_df, 'merged_df', False)[['column_name', 'percent_missing']]"
   ]
  },
  {
   "cell_type": "code",
   "execution_count": 393,
   "metadata": {},
   "outputs": [
    {
     "name": "stdout",
     "output_type": "stream",
     "text": [
      "The table of features missing over 0 percentage: \n"
     ]
    }
   ],
   "source": [
    "after_prop_missing = get_cols_missing_percentage(0, last_propagated_df, 'asdf', False)[['column_name', 'percent_missing']]"
   ]
  },
  {
   "cell_type": "code",
   "execution_count": 394,
   "metadata": {},
   "outputs": [],
   "source": [
    "missing_df = original_missing.merge(after_prop_missing, suffixes=['_before_propagation', '_after_propagation'], on='column_name')"
   ]
  },
  {
   "cell_type": "code",
   "execution_count": 395,
   "metadata": {},
   "outputs": [
    {
     "name": "stdout",
     "output_type": "stream",
     "text": [
      "150578\n",
      "150578\n"
     ]
    }
   ],
   "source": [
    "print(len(merged_df[merged_df['ca125ii_level'].notnull()]))\n",
    "print(len(last_propagated_df[last_propagated_df['ca125ii_level'].notnull()][['ca125ii_level']]))"
   ]
  },
  {
   "attachments": {},
   "cell_type": "markdown",
   "metadata": {},
   "source": [
    "## Merging Datasets"
   ]
  },
  {
   "attachments": {},
   "cell_type": "markdown",
   "metadata": {},
   "source": [
    "`TODO:` should we dismiss people who do not have records in screen dataset. Abnormalities dataset? Run tests on all of the combinations of merges and imputations? "
   ]
  },
  {
   "attachments": {},
   "cell_type": "markdown",
   "metadata": {},
   "source": [
    "I realized that I was doing labeled mean imputation, which should not happen. So, I performed imputation after I merged cancer and no_cancer datasets back together. Without labeled mean imputation, gaussian NB and logistic regression do not perform well. "
   ]
  },
  {
   "attachments": {},
   "cell_type": "markdown",
   "metadata": {},
   "source": [
    "run experiments with decision tree and remove the top feature every time. Store the depth of the tree, the efficacy of the top feature, its value, accuracy, confusion matrix\n",
    "\n",
    "https://stackoverflow.com/questions/62819569/how-to-return-the-features-that-used-in-decision-tree-that-created-by-decisiontr\n",
    "\n",
    "`TODO:` Run model purely on family history variables vs purely on screen variables. "
   ]
  },
  {
   "cell_type": "code",
   "execution_count": 396,
   "metadata": {},
   "outputs": [],
   "source": [
    "\n",
    "import xgboost as xgb"
   ]
  },
  {
   "cell_type": "code",
   "execution_count": 397,
   "metadata": {},
   "outputs": [],
   "source": [
    "\n",
    "def feature_selection(classifier, fn, accuracy, plot_tree=False, filepath='./trees/decision_tree.png'):\n",
    "    \n",
    "    if plot_tree:\n",
    "        cn=['no cancer', 'cancer']\n",
    "        if classifier.__class__.__name__ == 'DecisionTreeClassifier':\n",
    "            fig, axes = plt.subplots(nrows = 1,ncols = 1, dpi=3000)\n",
    "            tree.plot_tree(classifier,\n",
    "                        max_depth=5,\n",
    "                feature_names = fn, \n",
    "                class_names=cn,\n",
    "                filled = True)\n",
    "            plt.savefig(filepath)\n",
    "            # plt.show()\n",
    "        if classifier.__class__.__name__ == 'XGBClassifier':\n",
    "            # fig, axes = plt.subplots(nrows = 1,ncols = 1, dpi=3000)\n",
    "            fig, axes = plt.subplots(nrows = 1,ncols = 1, dpi=6000)\n",
    "            # plt.gcf().set_size_inches(18.5, 10.5)\n",
    "            xgb.plot_tree(classifier, rankdir='LR', ax=axes)\n",
    "            plt.savefig(filepath)\n",
    "    feature_importances = pd.DataFrame(classifier.feature_importances_,\n",
    "                        index = fn,\n",
    "                        columns=['importance']).sort_values('importance', \n",
    "                                                            ascending=False)\n",
    "    feature_importances['column_name'] = feature_importances.index\n",
    "    feature_importances = feature_importances[['column_name', 'importance']]\n",
    "    # TODO: boundary and confusion matrix\n",
    "    tree_depth = None\n",
    "    if classifier.__class__.__name__ == 'DecisionTreeClassifier':\n",
    "        tree_depth = classifier.tree_.max_depth\n",
    "    if classifier.__class__.__name__ == 'XGBClassifier':\n",
    "        tree_depth = classifier.max_depth\n",
    "    top_feature_stats = {\n",
    "        'top_feature': feature_importances.iloc[0]['column_name'],\n",
    "        # 'boundary': 0,\n",
    "        'num_features_used': len(feature_importances[feature_importances['importance'] > 0]),\n",
    "        'importance': round(feature_importances.iloc[0]['importance'], 3),\n",
    "        'tree_depth': tree_depth,\n",
    "        'accuracy': accuracy,\n",
    "        # 'precision': precision,\n",
    "        # 'recall':    recall,\n",
    "        # 'f1-score':  f1,\n",
    "    }\n",
    "    return top_feature_stats, feature_importances\n",
    "\n"
   ]
  },
  {
   "cell_type": "code",
   "execution_count": 398,
   "metadata": {},
   "outputs": [],
   "source": [
    "def get_cv_scores(classifier, k_fold_lambdas):\n",
    "    cv_scores = []\n",
    "    # pipeline = make_pipeline(StandardScaler(), classifier)\n",
    "    df_feature_importance_tree = None\n",
    "    for k, k_fold_lambda in enumerate(k_fold_lambdas):\n",
    "        X_train, X_test, y_train, y_test = k_fold_lambda()\n",
    "        # pipeline.fit(X_train_cv, y_train_cv)\n",
    "        # score = pipeline.score(X_test_cv, y_test_cv)\n",
    "        auc, accuracy, report = run_classifier(classifier, X_train, X_test, y_train, y_test, show_graph=False)\n",
    "        cv_scores.append(report)\n",
    "        # print(f'Fold: {k+1}, Accuracy: {accuracy:.3f}, Precision: {precision:.3f}, Recall: {recall:.3f}, F1: {f1:.3f}, Auc: {auc:.3f}')\n",
    "        # Decision Tree feature selection\n",
    "        if classifier.__class__.__name__ in ['DecisionTreeClassifier', 'XGBClassifier']:\n",
    "            fn=X_train.columns\n",
    "            top_feature_stats, feature_importances = feature_selection(classifier, fn, accuracy, plot_tree=False)\n",
    "            feature_importances = feature_importances[feature_importances['importance'] > 0]\n",
    "            if df_feature_importance_tree is not None:\n",
    "                df_feature_importance_tree = df_feature_importance_tree.merge(feature_importances, on='column_name', how='outer', suffixes=[f'_tiral_{k}', f'_tiral_{k+1}'])\n",
    "            else:\n",
    "                df_feature_importance_tree = feature_importances\n",
    "    cv_scores = pd.concat(cv_scores)\n",
    "    cv_scores = cv_scores.reset_index()\n",
    "    cv_scores = cv_scores.drop('index', axis=1)\n",
    "    measures_df = cv_scores.describe().T[['mean', 'std', 'min', 'max']]\n",
    "    print('\\n\\nCross-Validation measures:')\n",
    "    print_df(measures_df)\n",
    "    if classifier.__class__.__name__ in ['DecisionTreeClassifier', 'XGBClassifier']:\n",
    "        # Mean of feature importance over trials\n",
    "        df_feature_importance_mean = df_feature_importance_tree.drop('column_name', axis=1)\n",
    "        df_feature_importance_mean = df_feature_importance_mean.T\n",
    "        df_feature_importance_mean.columns = df_feature_importance_tree['column_name']\n",
    "        df_feature_importance_mean = df_feature_importance_mean.astype('float')\n",
    "        df_feature_importance_mean_describe = df_feature_importance_mean.describe().T\n",
    "        df_feature_importance_mean_describe.sort_values('mean', ascending=False, inplace=True)\n",
    "        # print(df_feature_importance_mean_describe.columns)\n",
    "        df_feature_importance_mean_describe = df_feature_importance_mean_describe[['count', 'mean']]\n",
    "        # print_df(df_feature_importance_mean_describe)\n",
    "    df_feature_importance_mean_describe = df_feature_importance_mean_describe.merge(missing_df, on='column_name')\n",
    "    return cv_scores, measures_df, df_feature_importance_mean_describe\n"
   ]
  },
  {
   "attachments": {},
   "cell_type": "markdown",
   "metadata": {},
   "source": [
    "`TODO:` https://machinelearningmastery.com/visualize-gradient-boosting-decision-trees-xgboost-python/"
   ]
  },
  {
   "cell_type": "code",
   "execution_count": 399,
   "metadata": {},
   "outputs": [],
   "source": [
    "from scipy.spatial import distance\n"
   ]
  },
  {
   "cell_type": "code",
   "execution_count": 400,
   "metadata": {},
   "outputs": [],
   "source": [
    "def scale_features(df):\n",
    "    sc = StandardScaler()\n",
    "    df_scaled = df.copy()\n",
    "    df_scaled = sc.fit_transform(df_scaled)\n",
    "    df_scaled = pd.DataFrame(df_scaled, columns=df.columns, index=df.index)\n",
    "    return df_scaled"
   ]
  },
  {
   "cell_type": "code",
   "execution_count": 401,
   "metadata": {},
   "outputs": [],
   "source": [
    "def get_nearest_neighbors(df1, df2, top=5):\n",
    "    df1 = df1.drop_duplicates()\n",
    "    df2 = df2.drop_duplicates()\n",
    "    df1 = scale_features(df1)\n",
    "    df2 = scale_features(df2)\n",
    "    euclidean_distances = []\n",
    "    indexes = []\n",
    "    for i in range(len(df1)):\n",
    "        row1 = df1.iloc[i]\n",
    "        distances = []\n",
    "        for j, row2 in df2.iterrows():\n",
    "            distances.append((j, distance.euclidean(row1, row2)))\n",
    "        distances = sorted(distances, key=lambda x: x[1], reverse=False)[:top]\n",
    "        distances = pd.DataFrame(distances, columns=['index', 'distance'])\n",
    "        indexes.append((distances['index'].to_list()))\n",
    "        euclidean_distances.append(distances['distance'].to_list())\n",
    "    return euclidean_distances, indexes\n",
    "\n",
    "def get_high_confidence_errors(classifier, X_train, X_test, y_train, y_test, label, label_val=0):\n",
    "    # Insert predicted class and its likelihood\n",
    "    y_pred = classifier.predict(X_test)\n",
    "    y_prob = classifier.predict_proba(X_test)[:,1]\n",
    "    X_test_mismatch = X_test.copy()\n",
    "    X_test_mismatch[label] = y_test\n",
    "    X_test_mismatch[f'{label}_pred'] = y_pred\n",
    "    X_test_mismatch[f'{label}_prob'] = y_prob\n",
    "    X_test_mismatch = X_test_mismatch.drop_duplicates()\n",
    "    X_test_mismatch = X_test_mismatch[X_test_mismatch[label] != X_test_mismatch[f'{label}_pred']]\n",
    "    \n",
    "    X_test_high_conf = X_test_mismatch[(X_test_mismatch[f'{label}_prob'] < 0.2) | (X_test_mismatch[f'{label}_prob'] > 0.8)]\n",
    "    X_test_high_conf = X_test_high_conf[X_test_high_conf[f'{label}_pred'] == label_val]\n",
    "    \n",
    "    # Select 5 nearest neightbors \n",
    "    X_train[label] = y_train\n",
    "    X_train_filtered = X_train[X_train[label] == 1].drop(label, axis=1)\n",
    "    # X_test_high_conf = X_test.loc[X_test_high_conf.index, :]\n",
    "    # Calculated euclidean distances\n",
    "    distances, indices = get_nearest_neighbors(X_test.loc[X_test_high_conf.index, :], X_train_filtered)\n",
    "    fp_mismatches = []\n",
    "    X_train[f'{label}_pred'] = -1\n",
    "    X_train[f'{label}_prob'] = -1\n",
    "    X_train = X_train.drop_duplicates()\n",
    "    # print_df(X_train)\n",
    "    for i in range(len(X_test_high_conf)):\n",
    "        idx = indices[i]\n",
    "        missed_record = X_test_high_conf.iloc[[i], :]\n",
    "        missed_record['distance'] = 0\n",
    "        close_records = X_train.loc[idx, :]\n",
    "        close_records['distance'] = distances[i]\n",
    "        fp_mismatches.append((missed_record, close_records))\n",
    "    return fp_mismatches"
   ]
  },
  {
   "cell_type": "code",
   "execution_count": 402,
   "metadata": {},
   "outputs": [],
   "source": [
    "def run_classifiers(classifiers, df, label, strategy='median', drop_n_features = 1, num_folds=10, cv=False, plot_tree=False):\n",
    "    df_feature_importance_tree = None\n",
    "    df_top_feature_importances = []\n",
    "    for i in range(drop_n_features):\n",
    "        \n",
    "        train_test_lambda, k_fold_lambdas = process_and_impute_for_label_kfold(df, label, strategy, n_max_per_class=10000, num_folds=num_folds)\n",
    "        X_train, X_test, y_train, y_test = train_test_lambda()\n",
    "        auc_dict = {}\n",
    "        accuracy_dict = {}\n",
    "        top_feature_importance = []\n",
    "        for classifier_type, classifier in classifiers.items():\n",
    "            # Cross Validation\n",
    "            if cv:\n",
    "                cv_scores, measures_df, df_feature_importance_mean_describe = get_cv_scores(classifier, k_fold_lambdas)\n",
    "                cv_scores.to_csv(f'./cv_scores/cv_scores_for_{classifier_type}_{label}.csv')\n",
    "                measures_df.to_csv(f'./cv_scores/cv_stats_for_{classifier_type}_{label}.csv')\n",
    "                if classifier_type in ['DecisionTreeClassifier', 'XGBClassifier']:\n",
    "                    df_feature_importance_mean_describe.to_csv(f'./feature_importance/feature_importance_mean_{classifier_type}_{label}__{num_folds}_trials.csv')\n",
    "\n",
    "            # Test classifier\n",
    "            print(classifier_type)\n",
    "            auc, accuracy, report = run_classifier(classifier, X_train, X_test, y_train, y_test)\n",
    "\n",
    "            # Decision Tree feature selection\n",
    "            if classifier_type in ['DecisionTreeClassifier', 'XGBClassifier']:\n",
    "                fn=X_train.columns\n",
    "                top_feature_stats, feature_importances = feature_selection(classifier, fn, accuracy, plot_tree=plot_tree,\n",
    "                                                                                         filepath=f'./trees/decision_tree_for_{classifier_type}_{label}.png')\n",
    "                df_top_feature_importances.append(top_feature_stats)\n",
    "                top_feature_importance.append(feature_importances.iloc[0]['column_name'])\n",
    "                feature_importances = feature_importances[feature_importances['importance'] > 0]\n",
    "                if df_feature_importance_tree is not None:\n",
    "                    df_feature_importance_tree = df_feature_importance_tree.merge(feature_importances, on='column_name', how='outer', suffixes=[f'_tiral_{i}', f'_tiral_{i+1}'])\n",
    "                else:\n",
    "                    df_feature_importance_tree = feature_importances\n",
    "            auc_dict[classifier_type] = auc\n",
    "            accuracy_dict[classifier_type] = accuracy\n",
    "            \n",
    "            fp_mismatches = get_high_confidence_errors(classifier, X_train, X_test, y_train, y_test, label, label_val=0)\n",
    "        # df = df.drop(top_feature_importance, axis=1)\n",
    "\n",
    "    return df_top_feature_importances, df_feature_importance_tree, fp_mismatches\n",
    "\n"
   ]
  },
  {
   "cell_type": "markdown",
   "metadata": {},
   "source": [
    "\n",
    "`TODO:` At what point they were misclassified (e.g. at what point they diverge compared to the similar point with different prediction.) Look at the nearest neightbors with different neightbors. "
   ]
  },
  {
   "attachments": {},
   "cell_type": "markdown",
   "metadata": {},
   "source": [
    "`TODO:` try SVM or ML models"
   ]
  },
  {
   "attachments": {},
   "cell_type": "markdown",
   "metadata": {},
   "source": [
    "`TODO:` include the level of missingness for a particular features of a tree in order of usage."
   ]
  },
  {
   "attachments": {},
   "cell_type": "markdown",
   "metadata": {},
   "source": [
    "`TODO:` turn all of this into OOP programming"
   ]
  },
  {
   "cell_type": "code",
   "execution_count": 414,
   "metadata": {},
   "outputs": [
    {
     "name": "stdout",
     "output_type": "stream",
     "text": [
      "Distribution of labels based on unique plco_id: 0.25\n",
      "Distribution of labels based on duplicate plco_id: 0.1761827079934747\n",
      "\n",
      "\n",
      "Cross-Validation measures:\n",
      "+--------------------+-----------+-------------+-----------+----------+\n",
      "|                    |      mean |         std |       min |      max |\n",
      "|--------------------+-----------+-------------+-----------+----------|\n",
      "| precision__class_0 | 0.999228  | 2.08813e-05 | 0.999198  | 0.999257 |\n",
      "| recall__class_0    | 0.982842  | 0.00147335  | 0.980853  | 0.984352 |\n",
      "| f1-score__class_0  | 0.990967  | 0.000744855 | 0.989954  | 0.991735 |\n",
      "| precision__class_1 | 0.0520712 | 0.00374682  | 0.0467013 | 0.056553 |\n",
      "| recall__class_1    | 0.552632  | 0.0124054   | 0.535088  | 0.570175 |\n",
      "| f1-score__class_1  | 0.0951364 | 0.0062338   | 0.0861244 | 0.102606 |\n",
      "| accuracy           | 0.982113  | 0.00146121  | 0.980127  | 0.98362  |\n",
      "| auc                | 0.916148  | 0.0032208   | 0.911633  | 0.919795 |\n",
      "+--------------------+-----------+-------------+-----------+----------+\n",
      "XGBClassifier\n",
      "     precision    recall  f1-score  support\n",
      "0.0   0.999380  0.984497  0.991883  67147.0\n",
      "1.0   0.060469  0.620370  0.110197    108.0\n",
      "ROC AUC score: 0.9242048540267374\n",
      "Accuracy Score: 0.9839119768046986\n"
     ]
    },
    {
     "data": {
      "image/png": "[encoded data removed]",
      "text/plain": [
       "<Figure size 1152x360 with 3 Axes>"
      ]
     },
     "metadata": {
      "needs_background": "light"
     },
     "output_type": "display_data"
    },
    {
     "name": "stdout",
     "output_type": "stream",
     "text": [
      "Distribution of labels based on unique plco_id: 0.18840579710144928\n",
      "Distribution of labels based on duplicate plco_id: 0.19517543859649122\n",
      "\n",
      "\n",
      "Cross-Validation measures:\n",
      "+--------------------+-----------+-------------+-----------+-----------+\n",
      "|                    |      mean |         std |       min |       max |\n",
      "|--------------------+-----------+-------------+-----------+-----------|\n",
      "| precision__class_0 | 0.998049  | 7.52717e-05 | 0.99798   | 0.99816   |\n",
      "| recall__class_0    | 0.974333  | 0.00276094  | 0.970766  | 0.977186  |\n",
      "| f1-score__class_0  | 0.986047  | 0.00139612  | 0.984203  | 0.987473  |\n",
      "| precision__class_1 | 0.0856371 | 0.00710845  | 0.0748011 | 0.0920614 |\n",
      "| recall__class_1    | 0.55625   | 0.0178152   | 0.539062  | 0.582031  |\n",
      "| f1-score__class_1  | 0.148288  | 0.0104878   | 0.131714  | 0.157418  |\n",
      "| accuracy           | 0.972546  | 0.00270802  | 0.968971  | 0.975314  |\n",
      "| auc                | 0.907527  | 0.00284998  | 0.904268  | 0.910913  |\n",
      "+--------------------+-----------+-------------+-----------+-----------+\n",
      "XGBClassifier\n",
      "     precision    recall  f1-score  support\n",
      "0.0   0.998184  0.975222  0.986569  59730.0\n",
      "1.0   0.098111  0.602996  0.168763    267.0\n",
      "ROC AUC score: 0.9230099429956653\n",
      "Accuracy Score: 0.9735653449339133\n"
     ]
    },
    {
     "data": {
      "image/png": "[encoded data removed]",
      "text/plain": [
       "<Figure size 1152x360 with 3 Axes>"
      ]
     },
     "metadata": {
      "needs_background": "light"
     },
     "output_type": "display_data"
    },
    {
     "name": "stdout",
     "output_type": "stream",
     "text": [
      "Distribution of labels based on unique plco_id: 0.18099547511312217\n",
      "Distribution of labels based on duplicate plco_id: 0.18209562563580875\n",
      "\n",
      "\n",
      "Cross-Validation measures:\n",
      "+--------------------+----------+-------------+----------+----------+\n",
      "|                    |     mean |         std |      min |      max |\n",
      "|--------------------+----------+-------------+----------+----------|\n",
      "| precision__class_0 | 0.996529 | 9.55488e-05 | 0.99638  | 0.996634 |\n",
      "| recall__class_0    | 0.974646 | 0.00244862  | 0.970744 | 0.97679  |\n",
      "| f1-score__class_0  | 0.985465 | 0.00125327  | 0.983461 | 0.986612 |\n",
      "| precision__class_1 | 0.128008 | 0.0103284   | 0.112269 | 0.140537 |\n",
      "| recall__class_1    | 0.521505 | 0.0133058   | 0.5      | 0.534946 |\n",
      "| f1-score__class_1  | 0.205392 | 0.0136841   | 0.184762 | 0.222595 |\n",
      "| accuracy           | 0.971454 | 0.0024238   | 0.967579 | 0.973677 |\n",
      "| auc                | 0.898735 | 0.00404448  | 0.892006 | 0.90235  |\n",
      "+--------------------+----------+-------------+----------+----------+\n",
      "XGBClassifier\n",
      "     precision    recall  f1-score  support\n",
      "0.0   0.997170  0.972312  0.984584  52550.0\n",
      "1.0   0.127698  0.594972  0.210267    358.0\n",
      "ROC AUC score: 0.8956708960341042\n",
      "Accuracy Score: 0.9697588266424737\n"
     ]
    },
    {
     "data": {
      "image/png": "[encoded data removed]",
      "text/plain": [
       "<Figure size 1152x360 with 3 Axes>"
      ]
     },
     "metadata": {
      "needs_background": "light"
     },
     "output_type": "display_data"
    },
    {
     "name": "stdout",
     "output_type": "stream",
     "text": [
      "Distribution of labels based on unique plco_id: 0.1922141119221411\n",
      "Distribution of labels based on duplicate plco_id: 0.19365471775854964\n",
      "\n",
      "\n",
      "Cross-Validation measures:\n",
      "+--------------------+----------+-------------+----------+----------+\n",
      "|                    |     mean |         std |      min |      max |\n",
      "|--------------------+----------+-------------+----------+----------|\n",
      "| precision__class_0 | 0.993384 | 0.000241054 | 0.993182 | 0.993751 |\n",
      "| recall__class_0    | 0.976756 | 0.00221666  | 0.974259 | 0.979431 |\n",
      "| f1-score__class_0  | 0.984999 | 0.0012405   | 0.98363  | 0.986539 |\n",
      "| precision__class_1 | 0.184983 | 0.0210314   | 0.164062 | 0.213431 |\n",
      "| recall__class_1    | 0.445902 | 0.0191464   | 0.430328 | 0.47541  |\n",
      "| f1-score__class_1  | 0.261266 | 0.0241876   | 0.237557 | 0.294603 |\n",
      "| accuracy           | 0.970596 | 0.00240254  | 0.967947 | 0.973583 |\n",
      "| auc                | 0.873794 | 0.00708115  | 0.862896 | 0.880188 |\n",
      "+--------------------+----------+-------------+----------+----------+\n",
      "XGBClassifier\n",
      "     precision    recall  f1-score  support\n",
      "0.0   0.994340  0.974710  0.984427  41637.0\n",
      "1.0   0.184985  0.508511  0.271283    470.0\n",
      "ROC AUC score: 0.8510361079216062\n",
      "Accuracy Score: 0.969506257866863\n"
     ]
    },
    {
     "data": {
      "image/png": "[encoded data removed]",
      "text/plain": [
       "<Figure size 1152x360 with 3 Axes>"
      ]
     },
     "metadata": {
      "needs_background": "light"
     },
     "output_type": "display_data"
    }
   ],
   "source": [
    "classifiers = {\n",
    "    # 'LogisticRegression': LogisticRegression(C= 0.25, random_state= 0),\n",
    "    # 'GaussianNB': GaussianNB(var_smoothing= 1e-09),\n",
    "    # 'DecisionTreeClassifier': DecisionTreeClassifier(criterion= 'entropy'),\n",
    "    # 'RandomForestClassifier': RandomForestClassifier(criterion= 'entropy', n_estimators= 200),\n",
    "    'XGBClassifier': XGBClassifier(eval_metric= 'error', learning_rate= 0.1)\n",
    "}\n",
    "years = [1, 3, 5, 10]\n",
    "drop_n_features = 1\n",
    "cv=True\n",
    "for year in years:\n",
    "    label = f'cancer_in_next_{year}_years' # 'cancer_in_next_10_years', 'ovar_cancer'\n",
    "    df_top_feature_importances, df_feature_importance_tree, X_test_mismatch = run_classifiers(classifiers, last_propagated_df, label, strategy='mean', cv=cv, drop_n_features = drop_n_features, num_folds=5, plot_tree=False)\n"
   ]
  },
  {
   "attachments": {},
   "cell_type": "markdown",
   "metadata": {},
   "source": [
    "`TODO:` divide them as FP and FN?\n",
    "\n",
    "`TODO:` only keep columns with more than 1 unique value? "
   ]
  },
  {
   "cell_type": "code",
   "execution_count": 404,
   "metadata": {},
   "outputs": [
    {
     "data": {
      "text/plain": [
       "78"
      ]
     },
     "execution_count": 404,
     "metadata": {},
     "output_type": "execute_result"
    }
   ],
   "source": [
    "len(X_test_mismatch)"
   ]
  },
  {
   "cell_type": "code",
   "execution_count": 405,
   "metadata": {},
   "outputs": [
    {
     "name": "stdout",
     "output_type": "stream",
     "text": [
      "+-------+-------+------------+-------------+-------+---------+-------+------------+-----------+-----------+-----------------+----------+-----------+----------+-----------+------------+------------+----------+-------------+-----------------+-----------------+--------------+------------+----------------+-----------------+----------+------------+------------+-------------+---------+-----------+---------------------+-----------+---------+---------+----------+----------+--------------+--------------+--------+---------+----------+------------+-----------------+-----------+-------------+--------------+-----------+--------------+------------+------------+--------------+----------+-------------+--------------+------------+-----------+--------+----------+-----------------------+-------------+-------------+---------+---------------------+-----------+-----------+-----------+-----------+-----------+----------+----------+-----------------+-----------+---------+-----------+---------------------+----------+-----------+------------+------------+-----------+--------------+--------------+---------------+-------------------+-------------------+--------------+---------------+---------------+--------------------+-------------+--------------+--------------+---------------+----------------+----------------+----------------+-----------------+-----------------+------------------+-------------------+-------------------+----------------+-----------------+-----------------+--------------+---------------+---------------+--------------+---------------+---------------+--------------+--------------------+------------------+-------------+--------------+--------------+--------------+--------------+----------------+--------------+---------------+-----------------+-----------+--------+------------+-------------------+----------+---------+---------+---------+-------------+-------------+-----------+-----------+-------------+-----------+-----------+----------+----------+-----------+-----------+------------+------------+---------+----------+------------+---------+-----------+---------+------------+-----------+--------------+------------------+---------------+-----------+-----------+--------+--------+---------+--------------+--------------+------------+---------------------------+--------------------------------+--------------------------------+------------+\n",
      "|       |   age |   agelevel |   arthrit_f |   asp |   asppd |   bbd |   bcontr_f |   bcontra |   bcontrt |   benign_ovcyst |   bmi_20 |   bmi_20c |   bmi_50 |   bmi_50c |   bmi_curc |   bmi_curr |   bq_age |   breast_fh |   breast_fh_age |   breast_fh_cnt |   bronchit_f |   brothers |   ca125_result |   ca125ii_level |   center |   cig_stat |   cig_stop |   cig_years |   cigar |   cigpd_f |   colon_comorbidity |   curhorm |    cyst |   cystw |   detl_p |   detr_p |   diabetes_f |   divertic_f |   dual |    echo |   educat |   emphys_f |   endometriosis |   fchilda |   fh_cancer |   filtered_f |   fmenstr |   gallblad_f |   hearta_f |   height_f |   hispanic_f |   horm_f |   horm_stat |   hyperten_f |   hyster_f |   hystera |   ibup |   ibuppd |   in_TGWAS_population |   lantero_p |   lantero_q |   livec |   liver_comorbidity |   llong_p |   llong_q |   lmenstr |   ltran_p |   ltran_q |   lvol_p |   lvol_q |   mammo_history |   marital |   maxdi |   menstrs |   menstrs_stat_type |   miscar |   numcyst |   numcystl |   numcystr |   occupat |   osteopor_f |   ovariesr_f |   ovarsumm_fh |   ovarsumm_fh_age |   ovarsumm_fh_cnt |   ovary_diam |   ovary_diaml |   ovary_diamr |   ovary_trial_flag |   ovary_vol |   ovary_voll |   ovary_volr |   ovcyst_diam |   ovcyst_diaml |   ovcyst_diamr |   ovcyst_morph |   ovcyst_morphl |   ovcyst_morphr |   ovcyst_outline |   ovcyst_outlinel |   ovcyst_outliner |   ovcyst_solid |   ovcyst_solidl |   ovcyst_solidr |   ovcyst_sum |   ovcyst_suml |   ovcyst_sumr |   ovcyst_vol |   ovcyst_voll |   ovcyst_volr |   pack_years |   papsmear_history |   pelvic_history |   ph_any_bq |   ph_any_dhq |   ph_any_dqx |   ph_any_muq |   ph_any_sqx |   ph_any_trial |   ph_ovar_bq |   ph_ovar_dqx |   ph_ovar_trial |   phycons |   pipe |   polyps_f |   post_menopausal |   preg_f |   prega |   pregc |   race7 |   rantero_p |   rantero_q |   rlong_p |   rlong_q |   rsmoker_f |   rtran_p |   rtran_q |   rvol_p |   rvol_q |     sepst |   sisters |   smokea_f |   smoked_f |   solid |   stillb |   stroke_f |   thorm |   trypreg |   tubal |   tuballig |   tvu_ref |   tvu_result |   usound_history |   uterine_fib |   visboth |   viseith |   visl |   visr |   volum |   weight20_f |   weight50_f |   weight_f |   cancer_in_next_10_years |   cancer_in_next_10_years_pred |   cancer_in_next_10_years_prob |   distance |\n",
      "|-------+-------+------------+-------------+-------+---------+-------+------------+-----------+-----------+-----------------+----------+-----------+----------+-----------+------------+------------+----------+-------------+-----------------+-----------------+--------------+------------+----------------+-----------------+----------+------------+------------+-------------+---------+-----------+---------------------+-----------+---------+---------+----------+----------+--------------+--------------+--------+---------+----------+------------+-----------------+-----------+-------------+--------------+-----------+--------------+------------+------------+--------------+----------+-------------+--------------+------------+-----------+--------+----------+-----------------------+-------------+-------------+---------+---------------------+-----------+-----------+-----------+-----------+-----------+----------+----------+-----------------+-----------+---------+-----------+---------------------+----------+-----------+------------+------------+-----------+--------------+--------------+---------------+-------------------+-------------------+--------------+---------------+---------------+--------------------+-------------+--------------+--------------+---------------+----------------+----------------+----------------+-----------------+-----------------+------------------+-------------------+-------------------+----------------+-----------------+-----------------+--------------+---------------+---------------+--------------+---------------+---------------+--------------+--------------------+------------------+-------------+--------------+--------------+--------------+--------------+----------------+--------------+---------------+-----------------+-----------+--------+------------+-------------------+----------+---------+---------+---------+-------------+-------------+-----------+-----------+-------------+-----------+-----------+----------+----------+-----------+-----------+------------+------------+---------+----------+------------+---------+-----------+---------+------------+-----------+--------------+------------------+---------------+-----------+-----------+--------+--------+---------+--------------+--------------+------------+---------------------------+--------------------------------+--------------------------------+------------|\n",
      "|   748 |    75 |          3 |           1 |     1 |       2 |     0 |          0 |   1.47213 |         0 |               0 |  22.5    |         2 |  24.6875 |         2 |          3 |    27.9844 |       74 |           1 |         67      |               1 |            0 |          0 |        1       |          5      |        9 |          0 |    15.6216 |           0 |       0 |         0 |                   1 |         0 | 1.08809 | 1.01247 | 0        | 1        |            0 |            1 |      0 | 1.39115 |        5 |          0 |               0 |         3 |           1 |      1.17629 |         4 |            0 |          1 |         62 |            0 |        1 |           2 |            0 |          0 |    2.0344 |      0 |        0 |                     1 |      6      |     12.2232 |       4 |                   0 |   11      |   16.4069 |         4 |    8      |   13.1971 | 0.300049 |  1.98843 |               2 |         1 | 1.61323 |         1 |                   1 |        0 |         0 |          0 |          0 |         1 |            0 |            0 |             0 |           57.4421 |                 0 |      1.09961 |       1.09961 |       1.09961 |                  1 |    0.399902 |     0.300049 |     0.399902 |       1.09961 |              1 |              1 |              0 |               0 |               0 |                0 |                 0 |                 0 |              0 |               0 |               0 |            0 |             0 |             0 |            0 |             0 |             0 |            0 |                  2 |                2 |           0 |            0 |    0         |     0.242075 |     0.201456 |              0 |            0 |   0           |               0 |  1        |      0 |          1 |                 1 |        1 |       3 |       3 |       1 |     11      |     12.5418 |   11      |   16.7753 |    0.208994 |    6      |   13.6066 | 0.399902 |  2.31449 | 0.0736598 |         4 |    19.6238 |          0 | 0.16376 |        0 |          0 |       5 |         0 |       0 |          1 |   4       |            1 |                0 |             1 |         0 |         1 |      0 |      1 | 10.3111 |          123 |          135 |        153 |                         1 |                              0 |                       0.115203 |     0      |\n",
      "| 81433 |    65 |          2 |           0 |     0 |       0 |     0 |          0 |   1.47213 |         0 |               0 |  21.9531 |         2 |  21.2188 |         2 |          2 |    21.2188 |       68 |           0 |         58.2363 |               0 |            0 |          2 |        1.03255 |         12.2592 |        8 |          0 |    15.6216 |           0 |       0 |         0 |                   0 |         0 | 1.08809 | 1.01247 | 0.402079 | 0.413976 |            0 |            0 |      0 | 1.39115 |        6 |          0 |               0 |         3 |           1 |      1.17629 |         4 |            0 |          0 |         62 |            0 |        1 |           2 |            0 |          0 |    2.0344 |      0 |        0 |                     1 |     12.0194 |     12.2232 |       4 |                   0 |   15.9534 |   16.4069 |         5 |   13.1311 |   13.1971 | 2.12308  |  1.98843 |               2 |         1 | 1.61323 |         1 |                   1 |        2 |         0 |          0 |          0 |         1 |            0 |            0 |             0 |           57.4421 |                 0 |      1.82961 |       1.70264 |       1.72857 |                  1 |    2.79501  |     2.12513  |     2.23967  |       1.85735 |              0 |              0 |              0 |               0 |               0 |                0 |                 0 |                 0 |              0 |               0 |               0 |            0 |             0 |             0 |            0 |             0 |             0 |            0 |                  2 |                2 |           0 |            1 |    0.0763603 |     0.242075 |     0.201456 |              0 |            0 |   2.74012e-05 |               0 |  0.481304 |      0 |          0 |                 1 |        1 |       3 |       4 |       1 |     12.2302 |     12.5418 |   16.1512 |   16.7753 |    0.208994 |   13.3773 |   13.6066 | 2.23902  |  2.31449 | 0.0736598 |         2 |    19.6238 |          0 | 0.16376 |        0 |          0 |       4 |         0 |       0 |          0 |   3.45847 |            1 |                0 |             1 |         0 |         0 |      0 |      0 | 10.3111 |          120 |          116 |        116 |                         1 |                             -1 |                      -1        |    10.4733 |\n",
      "| 37204 |    65 |          2 |           1 |     1 |       1 |     1 |          0 |   1.47213 |         0 |               0 |  24.4375 |         2 |  23.9062 |         2 |          2 |    24.4375 |       66 |           0 |         58.2363 |               0 |            0 |          1 |        1       |         12      |        5 |          0 |    15.6216 |           0 |       0 |         0 |                   0 |         1 | 1.08809 | 1.01247 | 0        | 0        |            0 |            0 |      0 | 1.39115 |        4 |          0 |               0 |         3 |           0 |      1.17629 |         3 |            0 |          0 |         63 |            0 |        1 |           1 |            0 |          0 |    2.0344 |      0 |        0 |                     1 |      6      |     12.2232 |       4 |                   0 |   17      |   16.4069 |         3 |   13      |   13.1971 | 0.700195 |  1.98843 |               2 |         1 | 1.61323 |         1 |                   1 |        1 |         0 |          0 |          0 |         4 |            0 |            0 |             0 |           57.4421 |                 0 |      1.7002  |       1.7002  |       1.72857 |                  1 |    0.700195 |     0.700195 |     2.23967  |       1.7002  |              1 |              0 |              0 |               0 |               0 |                0 |                 0 |                 0 |              0 |               0 |               0 |            0 |             0 |             0 |            0 |             0 |             0 |            0 |                  2 |                2 |           0 |            0 |    0         |     0.242075 |     0.201456 |              0 |            0 |   0           |               0 |  1        |      0 |          0 |                 1 |        1 |       3 |       4 |       1 |     12.2302 |     12.5418 |   16.1512 |   16.7753 |    0.208994 |   13.3773 |   13.6066 | 2.23902  |  2.31449 | 0.0736598 |         2 |    19.6238 |          0 | 0.16376 |        0 |          0 |       1 |         0 |       0 |          1 |   4       |            1 |                0 |             1 |         0 |         0 |      0 |      0 | 10.3111 |          138 |          135 |        138 |                         1 |                             -1 |                      -1        |    10.5012 |\n",
      "| 37202 |    65 |          2 |           1 |     1 |       1 |     1 |          0 |   1.47213 |         0 |               0 |  24.4375 |         2 |  23.9062 |         2 |          2 |    24.4375 |       66 |           0 |         58.2363 |               0 |            0 |          1 |        1       |         15      |        5 |          0 |    15.6216 |           0 |       0 |         0 |                   0 |         1 | 1.08809 | 1.01247 | 0        | 0        |            0 |            0 |      0 | 1.39115 |        4 |          0 |               0 |         3 |           0 |      1.17629 |         3 |            0 |          0 |         63 |            0 |        1 |           1 |            0 |          0 |    2.0344 |      0 |        0 |                     1 |      6      |     12.2232 |       4 |                   0 |   17      |   16.4069 |         3 |   13      |   13.1971 | 0.700195 |  1.98843 |               2 |         1 | 1.61323 |         1 |                   1 |        1 |         0 |          0 |          0 |         4 |            0 |            0 |             0 |           57.4421 |                 0 |      1.7002  |       1.7002  |       1.72857 |                  1 |    0.700195 |     0.700195 |     2.23967  |       1.7002  |              1 |              0 |              0 |               0 |               0 |                0 |                 0 |                 0 |              0 |               0 |               0 |            0 |             0 |             0 |            0 |             0 |             0 |            0 |                  2 |                2 |           0 |            0 |    0         |     0.242075 |     0.201456 |              0 |            0 |   0           |               0 |  1        |      0 |          0 |                 1 |        1 |       3 |       4 |       1 |     12.2302 |     12.5418 |   16.1512 |   16.7753 |    0.208994 |   13.3773 |   13.6066 | 2.23902  |  2.31449 | 0.0736598 |         2 |    19.6238 |          0 | 0.16376 |        0 |          0 |       1 |         0 |       0 |          1 |   4       |            1 |                0 |             1 |         0 |         0 |      0 |      0 | 10.3111 |          138 |          135 |        138 |                         1 |                             -1 |                      -1        |    10.5022 |\n",
      "| 37207 |    70 |          2 |           1 |     1 |       1 |     1 |          0 |   1.47213 |         0 |               0 |  24.4375 |         2 |  23.9062 |         2 |          2 |    24.4375 |       66 |           0 |         58.2363 |               0 |            0 |          1 |        1       |         12.2592 |        5 |          0 |    15.6216 |           0 |       0 |         0 |                   0 |         1 | 1.08809 | 1.01247 | 0        | 0        |            0 |            0 |      0 | 1.39115 |        4 |          0 |               0 |         3 |           0 |      1.17629 |         3 |            0 |          0 |         63 |            0 |        1 |           1 |            0 |          0 |    2.0344 |      0 |        0 |                     1 |      6      |     12.2232 |       4 |                   0 |   17      |   16.4069 |         3 |   13      |   13.1971 | 0.700195 |  1.98843 |               2 |         1 | 1.61323 |         1 |                   1 |        1 |         0 |          0 |          0 |         4 |            0 |            0 |             0 |           57.4421 |                 0 |      1.7002  |       1.7002  |       1.72857 |                  1 |    0.700195 |     0.700195 |     2.23967  |       1.7002  |              1 |              0 |              0 |               0 |               0 |                0 |                 0 |                 0 |              0 |               0 |               0 |            0 |             0 |             0 |            0 |             0 |             0 |            0 |                  2 |                2 |           0 |            0 |    0         |     0.242075 |     0.201456 |              0 |            0 |   0           |               0 |  1        |      0 |          0 |                 1 |        1 |       3 |       4 |       1 |     12.2302 |     12.5418 |   16.1512 |   16.7753 |    0.208994 |   13.3773 |   13.6066 | 2.23902  |  2.31449 | 0.0736598 |         2 |    19.6238 |          0 | 0.16376 |        0 |          0 |       1 |         0 |       0 |          1 |   4       |            9 |                0 |             1 |         0 |         0 |      0 |      0 | 10.3111 |          138 |          135 |        138 |                         1 |                             -1 |                      -1        |    10.7845 |\n",
      "| 37206 |    70 |          2 |           1 |     1 |       1 |     1 |          0 |   1.47213 |         0 |               0 |  24.4375 |         2 |  23.9062 |         2 |          2 |    24.4375 |       66 |           0 |         58.2363 |               0 |            0 |          1 |        1       |         18      |        5 |          0 |    15.6216 |           0 |       0 |         0 |                   0 |         1 | 1.08809 | 1.01247 | 0        | 0        |            0 |            0 |      0 | 1.39115 |        4 |          0 |               0 |         3 |           0 |      1.17629 |         3 |            0 |          0 |         63 |            0 |        1 |           1 |            0 |          0 |    2.0344 |      0 |        0 |                     1 |      6      |     12.2232 |       4 |                   0 |   17      |   16.4069 |         3 |   13      |   13.1971 | 0.700195 |  1.98843 |               2 |         1 | 1.61323 |         1 |                   1 |        1 |         0 |          0 |          0 |         4 |            0 |            0 |             0 |           57.4421 |                 0 |      1.7002  |       1.7002  |       1.72857 |                  1 |    0.700195 |     0.700195 |     2.23967  |       1.7002  |              1 |              0 |              0 |               0 |               0 |                0 |                 0 |                 0 |              0 |               0 |               0 |            0 |             0 |             0 |            0 |             0 |             0 |            0 |                  2 |                2 |           0 |            0 |    0         |     0.242075 |     0.201456 |              0 |            0 |   0           |               0 |  1        |      0 |          0 |                 1 |        1 |       3 |       4 |       1 |     12.2302 |     12.5418 |   16.1512 |   16.7753 |    0.208994 |   13.3773 |   13.6066 | 2.23902  |  2.31449 | 0.0736598 |         2 |    19.6238 |          0 | 0.16376 |        0 |          0 |       1 |         0 |       0 |          1 |   4       |            9 |                0 |             1 |         0 |         0 |      0 |      0 | 10.3111 |          138 |          135 |        138 |                         1 |                             -1 |                      -1        |    10.7865 |\n",
      "+-------+-------+------------+-------------+-------+---------+-------+------------+-----------+-----------+-----------------+----------+-----------+----------+-----------+------------+------------+----------+-------------+-----------------+-----------------+--------------+------------+----------------+-----------------+----------+------------+------------+-------------+---------+-----------+---------------------+-----------+---------+---------+----------+----------+--------------+--------------+--------+---------+----------+------------+-----------------+-----------+-------------+--------------+-----------+--------------+------------+------------+--------------+----------+-------------+--------------+------------+-----------+--------+----------+-----------------------+-------------+-------------+---------+---------------------+-----------+-----------+-----------+-----------+-----------+----------+----------+-----------------+-----------+---------+-----------+---------------------+----------+-----------+------------+------------+-----------+--------------+--------------+---------------+-------------------+-------------------+--------------+---------------+---------------+--------------------+-------------+--------------+--------------+---------------+----------------+----------------+----------------+-----------------+-----------------+------------------+-------------------+-------------------+----------------+-----------------+-----------------+--------------+---------------+---------------+--------------+---------------+---------------+--------------+--------------------+------------------+-------------+--------------+--------------+--------------+--------------+----------------+--------------+---------------+-----------------+-----------+--------+------------+-------------------+----------+---------+---------+---------+-------------+-------------+-----------+-----------+-------------+-----------+-----------+----------+----------+-----------+-----------+------------+------------+---------+----------+------------+---------+-----------+---------+------------+-----------+--------------+------------------+---------------+-----------+-----------+--------+--------+---------+--------------+--------------+------------+---------------------------+--------------------------------+--------------------------------+------------+\n"
     ]
    }
   ],
   "source": [
    "print_df(pd.concat(X_test_mismatch[1][:2]))"
   ]
  },
  {
   "attachments": {},
   "cell_type": "markdown",
   "metadata": {},
   "source": [
    "`TODO:` calculate the distance between the most confident misclassification and examples of the opposite class in training data. Possibly need standardisation"
   ]
  },
  {
   "cell_type": "code",
   "execution_count": 406,
   "metadata": {},
   "outputs": [
    {
     "name": "stdout",
     "output_type": "stream",
     "text": [
      "+-------+-------+------------+---------+----------+----------+------------+------------+----------+-------------+-----------------+-----------------+------------+-----------------+----------+---------------------+----------+--------------+----------+------------+-----------+-----------+-----------+----------+----------+--------------+---------------+---------------+-------------+--------------+--------------+---------------+----------------+------------+---------+-------------+-----------+-----------+----------+-----------+---------+-----------+--------+--------------+------------+--------------------------------+--------------------------------+------------+\n",
      "|       |   age |   agelevel |   asppd |   bmi_20 |   bmi_50 |   bmi_curc |   bmi_curr |   bq_age |   breast_fh |   breast_fh_age |   breast_fh_cnt |   brothers |   ca125ii_level |   center |   colon_comorbidity |   detr_p |   divertic_f |   educat |   hearta_f |   llong_p |   lmenstr |   ltran_p |   lvol_p |   miscar |   ovary_diam |   ovary_diaml |   ovary_diamr |   ovary_vol |   ovary_voll |   ovary_volr |   ovcyst_diam |   ovcyst_diamr |   polyps_f |   pregc |   rantero_p |   rlong_p |   rtran_p |   rvol_p |   sisters |   thorm |   viseith |   visr |   weight20_f |   weight_f |   cancer_in_next_10_years_pred |   cancer_in_next_10_years_prob |   distance |\n",
      "|-------+-------+------------+---------+----------+----------+------------+------------+----------+-------------+-----------------+-----------------+------------+-----------------+----------+---------------------+----------+--------------+----------+------------+-----------+-----------+-----------+----------+----------+--------------+---------------+---------------+-------------+--------------+--------------+---------------+----------------+------------+---------+-------------+-----------+-----------+----------+-----------+---------+-----------+--------+--------------+------------+--------------------------------+--------------------------------+------------|\n",
      "|   748 |    75 |          3 |       2 |  22.5    |  24.6875 |          3 |    27.9844 |       74 |           1 |         67      |               1 |          0 |          5      |        9 |                   1 | 1        |            1 |        5 |          1 |   11      |         4 |    8      | 0.300049 |        0 |      1.09961 |       1.09961 |       1.09961 |    0.399902 |     0.300049 |     0.399902 |       1.09961 |              1 |          1 |       3 |     11      |   11      |    6      | 0.399902 |         4 |       5 |         1 |      1 |          123 |        153 |                              0 |                       0.115203 |     0      |\n",
      "| 81433 |    65 |          2 |       0 |  21.9531 |  21.2188 |          2 |    21.2188 |       68 |           0 |         58.2363 |               0 |          2 |         12.2592 |        8 |                   0 | 0.413976 |            0 |        6 |          0 |   15.9534 |         5 |   13.1311 | 2.12308  |        2 |      1.82961 |       1.70264 |       1.72857 |    2.79501  |     2.12513  |     2.23967  |       1.85735 |              0 |          0 |       4 |     12.2302 |   16.1512 |   13.3773 | 2.23902  |         2 |       4 |         0 |      0 |          120 |        116 |                             -1 |                      -1        |    10.4733 |\n",
      "| 37204 |    65 |          2 |       1 |  24.4375 |  23.9062 |          2 |    24.4375 |       66 |           0 |         58.2363 |               0 |          1 |         12      |        5 |                   0 | 0        |            0 |        4 |          0 |   17      |         3 |   13      | 0.700195 |        1 |      1.7002  |       1.7002  |       1.72857 |    0.700195 |     0.700195 |     2.23967  |       1.7002  |              0 |          0 |       4 |     12.2302 |   16.1512 |   13.3773 | 2.23902  |         2 |       1 |         0 |      0 |          138 |        138 |                             -1 |                      -1        |    10.5012 |\n",
      "| 37202 |    65 |          2 |       1 |  24.4375 |  23.9062 |          2 |    24.4375 |       66 |           0 |         58.2363 |               0 |          1 |         15      |        5 |                   0 | 0        |            0 |        4 |          0 |   17      |         3 |   13      | 0.700195 |        1 |      1.7002  |       1.7002  |       1.72857 |    0.700195 |     0.700195 |     2.23967  |       1.7002  |              0 |          0 |       4 |     12.2302 |   16.1512 |   13.3773 | 2.23902  |         2 |       1 |         0 |      0 |          138 |        138 |                             -1 |                      -1        |    10.5022 |\n",
      "| 37207 |    70 |          2 |       1 |  24.4375 |  23.9062 |          2 |    24.4375 |       66 |           0 |         58.2363 |               0 |          1 |         12.2592 |        5 |                   0 | 0        |            0 |        4 |          0 |   17      |         3 |   13      | 0.700195 |        1 |      1.7002  |       1.7002  |       1.72857 |    0.700195 |     0.700195 |     2.23967  |       1.7002  |              0 |          0 |       4 |     12.2302 |   16.1512 |   13.3773 | 2.23902  |         2 |       1 |         0 |      0 |          138 |        138 |                             -1 |                      -1        |    10.7845 |\n",
      "| 37206 |    70 |          2 |       1 |  24.4375 |  23.9062 |          2 |    24.4375 |       66 |           0 |         58.2363 |               0 |          1 |         18      |        5 |                   0 | 0        |            0 |        4 |          0 |   17      |         3 |   13      | 0.700195 |        1 |      1.7002  |       1.7002  |       1.72857 |    0.700195 |     0.700195 |     2.23967  |       1.7002  |              0 |          0 |       4 |     12.2302 |   16.1512 |   13.3773 | 2.23902  |         2 |       1 |         0 |      0 |          138 |        138 |                             -1 |                      -1        |    10.7865 |\n",
      "+-------+-------+------------+---------+----------+----------+------------+------------+----------+-------------+-----------------+-----------------+------------+-----------------+----------+---------------------+----------+--------------+----------+------------+-----------+-----------+-----------+----------+----------+--------------+---------------+---------------+-------------+--------------+--------------+---------------+----------------+------------+---------+-------------+-----------+-----------+----------+-----------+---------+-----------+--------+--------------+------------+--------------------------------+--------------------------------+------------+\n"
     ]
    }
   ],
   "source": [
    "# drop col if the feature value of patient that was misclassified does not appear in the list of feature values of patients that were classified\n",
    "df = pd.concat(X_test_mismatch[1][:2])\n",
    "for col in df.columns:\n",
    "    if df[col].iloc[0] in df[col].iloc[list(range(1, 6))].to_list():\n",
    "        df.drop(col,inplace=True,axis=1)\n",
    "print_df(df)\n",
    "summary = summarize_features(df)"
   ]
  },
  {
   "cell_type": "code",
   "execution_count": 407,
   "metadata": {},
   "outputs": [
    {
     "name": "stdout",
     "output_type": "stream",
     "text": [
      "+------------------------------+----------------+---------+------------+-----------+------------+------------+------------+------------+------------+\n",
      "|                              |   unique count |   count |       mean |       std |        min |        25% |        50% |        75% |        max |\n",
      "|------------------------------+----------------+---------+------------+-----------+------------+------------+------------+------------+------------|\n",
      "| age                          |              3 |       6 |  68.3333   |  4.08248  |  65        |  65        |  67.5      |  70        |  75        |\n",
      "| agelevel                     |              2 |       6 |   2.16667  |  0.408248 |   2        |   2        |   2        |   2        |   3        |\n",
      "| asppd                        |              3 |       6 |   1        |  0.632456 |   0        |   1        |   1        |   1        |   2        |\n",
      "| bmi_20                       |              3 |       6 |  23.7005   |  1.15475  |  21.9531   |  22.9844   |  24.4375   |  24.4375   |  24.4375   |\n",
      "| bmi_50                       |              3 |       6 |  23.5885   |  1.20228  |  21.2188   |  23.9062   |  23.9062   |  23.9062   |  24.6875   |\n",
      "| bmi_curc                     |              2 |       6 |   2.16667  |  0.408248 |   2        |   2        |   2        |   2        |   3        |\n",
      "| bmi_curr                     |              3 |       6 |  24.4922   |  2.14116  |  21.2188   |  24.4375   |  24.4375   |  24.4375   |  27.9844   |\n",
      "| bq_age                       |              3 |       6 |  67.6667   |  3.20416  |  66        |  66        |  66        |  67.5      |  74        |\n",
      "| breast_fh                    |              2 |       6 |   0.166667 |  0.408248 |   0        |   0        |   0        |   0        |   1        |\n",
      "| breast_fh_age                |              2 |       6 |  59.6969   |  3.57776  |  58.2363   |  58.2363   |  58.2363   |  58.2363   |  67        |\n",
      "| breast_fh_cnt                |              2 |       6 |   0.166667 |  0.408248 |   0        |   0        |   0        |   0        |   1        |\n",
      "| brothers                     |              3 |       6 |   1        |  0.632456 |   0        |   1        |   1        |   1        |   2        |\n",
      "| ca125ii_level                |              5 |       6 |  12.4197   |  4.31456  |   5        |  12.0648   |  12.2592   |  14.3148   |  18        |\n",
      "| center                       |              3 |       6 |   6.16667  |  1.83485  |   5        |   5        |   5        |   7.25     |   9        |\n",
      "| colon_comorbidity            |              2 |       6 |   0.166667 |  0.408248 |   0        |   0        |   0        |   0        |   1        |\n",
      "| detr_p                       |              3 |       6 |   0.235663 |  0.409428 |   0        |   0        |   0        |   0.310482 |   1        |\n",
      "| divertic_f                   |              2 |       6 |   0.166667 |  0.408248 |   0        |   0        |   0        |   0        |   1        |\n",
      "| educat                       |              3 |       6 |   4.5      |  0.83666  |   4        |   4        |   4        |   4.75     |   6        |\n",
      "| hearta_f                     |              2 |       6 |   0.166667 |  0.408248 |   0        |   0        |   0        |   0        |   1        |\n",
      "| llong_p                      |              3 |       6 |  15.8256   |  2.40082  |  11        |  16.215    |  17        |  17        |  17        |\n",
      "| lmenstr                      |              3 |       6 |   3.5      |  0.83666  |   3        |   3        |   3        |   3.75     |   5        |\n",
      "| ltran_p                      |              3 |       6 |  12.1885   |  2.05262  |   8        |  13        |  13        |  13        |  13.1311   |\n",
      "| lvol_p                       |              3 |       6 |   0.870652 |  0.634096 |   0.300049 |   0.700195 |   0.700195 |   0.700195 |   2.12308  |\n",
      "| miscar                       |              3 |       6 |   1        |  0.632456 |   0        |   1        |   1        |   1        |   2        |\n",
      "| ovary_diam                   |              3 |       6 |   1.62167  |  0.260941 |   1.09961  |   1.7002   |   1.7002   |   1.7002   |   1.82961  |\n",
      "| ovary_diaml                  |              3 |       6 |   1.60051  |  0.24539  |   1.09961  |   1.7002   |   1.7002   |   1.7002   |   1.70264  |\n",
      "| ovary_diamr                  |              2 |       6 |   1.62374  |  0.256772 |   1.09961  |   1.72857  |   1.72857  |   1.72857  |   1.72857  |\n",
      "| ovary_vol                    |              3 |       6 |   0.999283 |  0.887887 |   0.399902 |   0.700195 |   0.700195 |   0.700195 |   2.79501  |\n",
      "| ovary_voll                   |              3 |       6 |   0.870993 |  0.634904 |   0.300049 |   0.700195 |   0.700195 |   0.700195 |   2.12513  |\n",
      "| ovary_volr                   |              2 |       6 |   1.93304  |  0.751081 |   0.399902 |   2.23967  |   2.23967  |   2.23967  |   2.23967  |\n",
      "| ovcyst_diam                  |              3 |       6 |   1.62629  |  0.265567 |   1.09961  |   1.7002   |   1.7002   |   1.7002   |   1.85735  |\n",
      "| ovcyst_diamr                 |              2 |       6 |   0.166667 |  0.408248 |   0        |   0        |   0        |   0        |   1        |\n",
      "| polyps_f                     |              2 |       6 |   0.166667 |  0.408248 |   0        |   0        |   0        |   0        |   1        |\n",
      "| pregc                        |              2 |       6 |   3.83333  |  0.408248 |   3        |   4        |   4        |   4        |   4        |\n",
      "| rantero_p                    |              2 |       6 |  12.0252   |  0.502227 |  11        |  12.2302   |  12.2302   |  12.2302   |  12.2302   |\n",
      "| rlong_p                      |              2 |       6 |  15.2926   |  2.10295  |  11        |  16.1512   |  16.1512   |  16.1512   |  16.1512   |\n",
      "| rtran_p                      |              2 |       6 |  12.1477   |  3.01175  |   6        |  13.3773   |  13.3773   |  13.3773   |  13.3773   |\n",
      "| rvol_p                       |              2 |       6 |   1.9325   |  0.750819 |   0.399902 |   2.23902  |   2.23902  |   2.23902  |   2.23902  |\n",
      "| sisters                      |              2 |       6 |   2.33333  |  0.816497 |   2        |   2        |   2        |   2        |   4        |\n",
      "| thorm                        |              3 |       6 |   2.16667  |  1.83485  |   1        |   1        |   1        |   3.25     |   5        |\n",
      "| viseith                      |              2 |       6 |   0.166667 |  0.408248 |   0        |   0        |   0        |   0        |   1        |\n",
      "| visr                         |              2 |       6 |   0.166667 |  0.408248 |   0        |   0        |   0        |   0        |   1        |\n",
      "| weight20_f                   |              3 |       6 | 132.5      |  8.57321  | 120        | 126.75     | 138        | 138        | 138        |\n",
      "| weight_f                     |              3 |       6 | 136.833    | 11.8392   | 116        | 138        | 138        | 138        | 153        |\n",
      "| cancer_in_next_10_years_pred |              2 |       6 |  -0.833333 |  0.408248 |  -1        |  -1        |  -1        |  -1        |   0        |\n",
      "| cancer_in_next_10_years_prob |              2 |       6 |  -0.814133 |  0.45528  |  -1        |  -1        |  -1        |  -1        |   0.115203 |\n",
      "| distance                     |              6 |       6 |   8.84127  |  4.33371  |   0        |  10.4803   |  10.5017   |  10.7139   |  10.7865   |\n",
      "+------------------------------+----------------+---------+------------+-----------+------------+------------+------------+------------+------------+\n"
     ]
    }
   ],
   "source": [
    "\n",
    "print_df(summary)"
   ]
  },
  {
   "cell_type": "code",
   "execution_count": 408,
   "metadata": {},
   "outputs": [
    {
     "name": "stdout",
     "output_type": "stream",
     "text": [
      "+-------+-------+---------+----------+----------+------------+----------+------------+-----------------+----------+----------+-----------+-----------+-----------+----------+----------+--------------+---------------+-------------+--------------+---------------+---------+--------------+------------+------------+\n",
      "|       |   age |   asppd |   bmi_20 |   bmi_50 |   bmi_curr |   bq_age |   brothers |   ca125ii_level |   center |   educat |   llong_p |   lmenstr |   ltran_p |   lvol_p |   miscar |   ovary_diam |   ovary_diaml |   ovary_vol |   ovary_voll |   ovcyst_diam |   thorm |   weight20_f |   weight_f |   distance |\n",
      "|-------+-------+---------+----------+----------+------------+----------+------------+-----------------+----------+----------+-----------+-----------+-----------+----------+----------+--------------+---------------+-------------+--------------+---------------+---------+--------------+------------+------------|\n",
      "|   751 |    75 |       2 |  22.5    |  24.6875 |    27.9844 |       74 |          0 |          5      |        9 |        5 |   11      |         4 |    8      | 0.300049 |        0 |      1.09961 |       1.09961 |    0.300049 |     0.300049 |       1.09961 |       5 |          123 |        153 |    0       |\n",
      "| 37207 |    70 |       1 |  24.4375 |  23.9062 |    24.4375 |       66 |          1 |         12.2592 |        5 |        4 |   17      |         3 |   13      | 0.700195 |        1 |      1.7002  |       1.7002  |    0.700195 |     0.700195 |       1.7002  |       1 |          138 |        138 |    9.68924 |\n",
      "| 37206 |    70 |       1 |  24.4375 |  23.9062 |    24.4375 |       66 |          1 |         18      |        5 |        4 |   17      |         3 |   13      | 0.700195 |        1 |      1.7002  |       1.7002  |    0.700195 |     0.700195 |       1.7002  |       1 |          138 |        138 |    9.6915  |\n",
      "| 37204 |    65 |       1 |  24.4375 |  23.9062 |    24.4375 |       66 |          1 |         12      |        5 |        4 |   17      |         3 |   13      | 0.700195 |        1 |      1.7002  |       1.7002  |    0.700195 |     0.700195 |       1.7002  |       1 |          138 |        138 |    9.92029 |\n",
      "| 37202 |    65 |       1 |  24.4375 |  23.9062 |    24.4375 |       66 |          1 |         15      |        5 |        4 |   17      |         3 |   13      | 0.700195 |        1 |      1.7002  |       1.7002  |    0.700195 |     0.700195 |       1.7002  |       1 |          138 |        138 |    9.92143 |\n",
      "| 81433 |    65 |       0 |  21.9531 |  21.2188 |    21.2188 |       68 |          2 |         12.2592 |        8 |        6 |   15.9534 |         5 |   13.1311 | 2.12308  |        2 |      1.82961 |       1.70264 |    2.79501  |     2.12513  |       1.85735 |       4 |          120 |        116 |   10.1026  |\n",
      "+-------+-------+---------+----------+----------+------------+----------+------------+-----------------+----------+----------+-----------+-----------+-----------+----------+----------+--------------+---------------+-------------+--------------+---------------+---------+--------------+------------+------------+\n",
      "+---------------+----------------+---------+------------+-----------+------------+------------+------------+------------+-----------+\n",
      "|               |   unique count |   count |       mean |       std |        min |        25% |        50% |        75% |       max |\n",
      "|---------------+----------------+---------+------------+-----------+------------+------------+------------+------------+-----------|\n",
      "| age           |              3 |       6 |  68.3333   |  4.08248  |  65        |  65        |  67.5      |  70        |  75       |\n",
      "| asppd         |              3 |       6 |   1        |  0.632456 |   0        |   1        |   1        |   1        |   2       |\n",
      "| bmi_20        |              3 |       6 |  23.7005   |  1.15475  |  21.9531   |  22.9844   |  24.4375   |  24.4375   |  24.4375  |\n",
      "| bmi_50        |              3 |       6 |  23.5885   |  1.20228  |  21.2188   |  23.9062   |  23.9062   |  23.9062   |  24.6875  |\n",
      "| bmi_curr      |              3 |       6 |  24.4922   |  2.14116  |  21.2188   |  24.4375   |  24.4375   |  24.4375   |  27.9844  |\n",
      "| bq_age        |              3 |       6 |  67.6667   |  3.20416  |  66        |  66        |  66        |  67.5      |  74       |\n",
      "| brothers      |              3 |       6 |   1        |  0.632456 |   0        |   1        |   1        |   1        |   2       |\n",
      "| ca125ii_level |              5 |       6 |  12.4197   |  4.31456  |   5        |  12.0648   |  12.2592   |  14.3148   |  18       |\n",
      "| center        |              3 |       6 |   6.16667  |  1.83485  |   5        |   5        |   5        |   7.25     |   9       |\n",
      "| educat        |              3 |       6 |   4.5      |  0.83666  |   4        |   4        |   4        |   4.75     |   6       |\n",
      "| llong_p       |              3 |       6 |  15.8256   |  2.40082  |  11        |  16.215    |  17        |  17        |  17       |\n",
      "| lmenstr       |              3 |       6 |   3.5      |  0.83666  |   3        |   3        |   3        |   3.75     |   5       |\n",
      "| ltran_p       |              3 |       6 |  12.1885   |  2.05262  |   8        |  13        |  13        |  13        |  13.1311  |\n",
      "| lvol_p        |              3 |       6 |   0.870652 |  0.634096 |   0.300049 |   0.700195 |   0.700195 |   0.700195 |   2.12308 |\n",
      "| miscar        |              3 |       6 |   1        |  0.632456 |   0        |   1        |   1        |   1        |   2       |\n",
      "| ovary_diam    |              3 |       6 |   1.62167  |  0.260941 |   1.09961  |   1.7002   |   1.7002   |   1.7002   |   1.82961 |\n",
      "| ovary_diaml   |              3 |       6 |   1.60051  |  0.24539  |   1.09961  |   1.7002   |   1.7002   |   1.7002   |   1.70264 |\n",
      "| ovary_vol     |              3 |       6 |   0.982641 |  0.902189 |   0.300049 |   0.700195 |   0.700195 |   0.700195 |   2.79501 |\n",
      "| ovary_voll    |              3 |       6 |   0.870993 |  0.634904 |   0.300049 |   0.700195 |   0.700195 |   0.700195 |   2.12513 |\n",
      "| ovcyst_diam   |              3 |       6 |   1.62629  |  0.265567 |   1.09961  |   1.7002   |   1.7002   |   1.7002   |   1.85735 |\n",
      "| thorm         |              3 |       6 |   2.16667  |  1.83485  |   1        |   1        |   1        |   3.25     |   5       |\n",
      "| weight20_f    |              3 |       6 | 132.5      |  8.57321  | 120        | 126.75     | 138        | 138        | 138       |\n",
      "| weight_f      |              3 |       6 | 136.833    | 11.8392   | 116        | 138        | 138        | 138        | 153       |\n",
      "| distance      |              6 |       6 |   8.22085  |  4.03045  |   0        |   9.68981  |   9.8059   |   9.92115  |  10.1026  |\n",
      "+---------------+----------------+---------+------------+-----------+------------+------------+------------+------------+-----------+\n"
     ]
    }
   ],
   "source": [
    "\n",
    "df = pd.concat(X_test_mismatch[4][:2])\n",
    "for col in df.columns:\n",
    "    if len(df[col].unique()) <= 2:\n",
    "        df.drop(col,inplace=True,axis=1)\n",
    "print_df(df)\n",
    "summary = summarize_features(df)\n",
    "print_df(summary)"
   ]
  },
  {
   "attachments": {},
   "cell_type": "markdown",
   "metadata": {},
   "source": [
    "`TODO:` make spreadsheet with model performance for 1,3,5,10 years. Print out trees, top 5 features. Send models"
   ]
  },
  {
   "cell_type": "code",
   "execution_count": 409,
   "metadata": {},
   "outputs": [
    {
     "ename": "KeyError",
     "evalue": "'feature'",
     "output_type": "error",
     "traceback": [
      "\u001b[1;31m---------------------------------------------------------------------------\u001b[0m",
      "\u001b[1;31mKeyError\u001b[0m                                  Traceback (most recent call last)",
      "File \u001b[1;32mc:\\Users\\fedor\\AppData\\Local\\Programs\\Python\\Python310\\lib\\site-packages\\pandas\\core\\indexes\\base.py:3621\u001b[0m, in \u001b[0;36mIndex.get_loc\u001b[1;34m(self, key, method, tolerance)\u001b[0m\n\u001b[0;32m   3620\u001b[0m \u001b[39mtry\u001b[39;00m:\n\u001b[1;32m-> 3621\u001b[0m     \u001b[39mreturn\u001b[39;00m \u001b[39mself\u001b[39;49m\u001b[39m.\u001b[39;49m_engine\u001b[39m.\u001b[39;49mget_loc(casted_key)\n\u001b[0;32m   3622\u001b[0m \u001b[39mexcept\u001b[39;00m \u001b[39mKeyError\u001b[39;00m \u001b[39mas\u001b[39;00m err:\n",
      "File \u001b[1;32mc:\\Users\\fedor\\AppData\\Local\\Programs\\Python\\Python310\\lib\\site-packages\\pandas\\_libs\\index.pyx:136\u001b[0m, in \u001b[0;36mpandas._libs.index.IndexEngine.get_loc\u001b[1;34m()\u001b[0m\n",
      "File \u001b[1;32mc:\\Users\\fedor\\AppData\\Local\\Programs\\Python\\Python310\\lib\\site-packages\\pandas\\_libs\\index.pyx:163\u001b[0m, in \u001b[0;36mpandas._libs.index.IndexEngine.get_loc\u001b[1;34m()\u001b[0m\n",
      "File \u001b[1;32mpandas\\_libs\\hashtable_class_helper.pxi:5198\u001b[0m, in \u001b[0;36mpandas._libs.hashtable.PyObjectHashTable.get_item\u001b[1;34m()\u001b[0m\n",
      "File \u001b[1;32mpandas\\_libs\\hashtable_class_helper.pxi:5206\u001b[0m, in \u001b[0;36mpandas._libs.hashtable.PyObjectHashTable.get_item\u001b[1;34m()\u001b[0m\n",
      "\u001b[1;31mKeyError\u001b[0m: 'feature'",
      "\nThe above exception was the direct cause of the following exception:\n",
      "\u001b[1;31mKeyError\u001b[0m                                  Traceback (most recent call last)",
      "\u001b[1;32mc:\\Data\\coding_projects\\ovarian_cancer_models\\processing.ipynb Cell 63\u001b[0m in \u001b[0;36m<cell line: 2>\u001b[1;34m()\u001b[0m\n\u001b[0;32m      <a href='vscode-notebook-cell:/c%3A/Data/coding_projects/ovarian_cancer_models/processing.ipynb#X60sZmlsZQ%3D%3D?line=0'>1</a>\u001b[0m ranked_df \u001b[39m=\u001b[39m df_feature_importance_tree\u001b[39m.\u001b[39mrank(method\u001b[39m=\u001b[39m\u001b[39m'\u001b[39m\u001b[39mmax\u001b[39m\u001b[39m'\u001b[39m)\n\u001b[1;32m----> <a href='vscode-notebook-cell:/c%3A/Data/coding_projects/ovarian_cancer_models/processing.ipynb#X60sZmlsZQ%3D%3D?line=1'>2</a>\u001b[0m ranked_df[\u001b[39m'\u001b[39m\u001b[39mfeature\u001b[39m\u001b[39m'\u001b[39m] \u001b[39m=\u001b[39m df_feature_importance_tree[\u001b[39m'\u001b[39;49m\u001b[39mfeature\u001b[39;49m\u001b[39m'\u001b[39;49m]\n\u001b[0;32m      <a href='vscode-notebook-cell:/c%3A/Data/coding_projects/ovarian_cancer_models/processing.ipynb#X60sZmlsZQ%3D%3D?line=2'>3</a>\u001b[0m ranked_df \u001b[39m=\u001b[39m ranked_df\u001b[39m.\u001b[39mdrop(\u001b[39m'\u001b[39m\u001b[39mfeature\u001b[39m\u001b[39m'\u001b[39m, axis\u001b[39m=\u001b[39m\u001b[39m1\u001b[39m)\n\u001b[0;32m      <a href='vscode-notebook-cell:/c%3A/Data/coding_projects/ovarian_cancer_models/processing.ipynb#X60sZmlsZQ%3D%3D?line=3'>4</a>\u001b[0m ranked_df \u001b[39m=\u001b[39m ranked_df\u001b[39m.\u001b[39mT\n",
      "File \u001b[1;32mc:\\Users\\fedor\\AppData\\Local\\Programs\\Python\\Python310\\lib\\site-packages\\pandas\\core\\frame.py:3505\u001b[0m, in \u001b[0;36mDataFrame.__getitem__\u001b[1;34m(self, key)\u001b[0m\n\u001b[0;32m   3503\u001b[0m \u001b[39mif\u001b[39;00m \u001b[39mself\u001b[39m\u001b[39m.\u001b[39mcolumns\u001b[39m.\u001b[39mnlevels \u001b[39m>\u001b[39m \u001b[39m1\u001b[39m:\n\u001b[0;32m   3504\u001b[0m     \u001b[39mreturn\u001b[39;00m \u001b[39mself\u001b[39m\u001b[39m.\u001b[39m_getitem_multilevel(key)\n\u001b[1;32m-> 3505\u001b[0m indexer \u001b[39m=\u001b[39m \u001b[39mself\u001b[39;49m\u001b[39m.\u001b[39;49mcolumns\u001b[39m.\u001b[39;49mget_loc(key)\n\u001b[0;32m   3506\u001b[0m \u001b[39mif\u001b[39;00m is_integer(indexer):\n\u001b[0;32m   3507\u001b[0m     indexer \u001b[39m=\u001b[39m [indexer]\n",
      "File \u001b[1;32mc:\\Users\\fedor\\AppData\\Local\\Programs\\Python\\Python310\\lib\\site-packages\\pandas\\core\\indexes\\base.py:3623\u001b[0m, in \u001b[0;36mIndex.get_loc\u001b[1;34m(self, key, method, tolerance)\u001b[0m\n\u001b[0;32m   3621\u001b[0m     \u001b[39mreturn\u001b[39;00m \u001b[39mself\u001b[39m\u001b[39m.\u001b[39m_engine\u001b[39m.\u001b[39mget_loc(casted_key)\n\u001b[0;32m   3622\u001b[0m \u001b[39mexcept\u001b[39;00m \u001b[39mKeyError\u001b[39;00m \u001b[39mas\u001b[39;00m err:\n\u001b[1;32m-> 3623\u001b[0m     \u001b[39mraise\u001b[39;00m \u001b[39mKeyError\u001b[39;00m(key) \u001b[39mfrom\u001b[39;00m \u001b[39merr\u001b[39;00m\n\u001b[0;32m   3624\u001b[0m \u001b[39mexcept\u001b[39;00m \u001b[39mTypeError\u001b[39;00m:\n\u001b[0;32m   3625\u001b[0m     \u001b[39m# If we have a listlike key, _check_indexing_error will raise\u001b[39;00m\n\u001b[0;32m   3626\u001b[0m     \u001b[39m#  InvalidIndexError. Otherwise we fall through and re-raise\u001b[39;00m\n\u001b[0;32m   3627\u001b[0m     \u001b[39m#  the TypeError.\u001b[39;00m\n\u001b[0;32m   3628\u001b[0m     \u001b[39mself\u001b[39m\u001b[39m.\u001b[39m_check_indexing_error(key)\n",
      "\u001b[1;31mKeyError\u001b[0m: 'feature'"
     ]
    }
   ],
   "source": [
    "ranked_df = df_feature_importance_tree.rank(method='max')\n",
    "ranked_df['feature'] = df_feature_importance_tree['feature']\n",
    "ranked_df = ranked_df.drop('feature', axis=1)\n",
    "ranked_df = ranked_df.T\n",
    "ranked_df.columns = df_feature_importance_tree['feature']\n",
    "ranked_df = ranked_df.astype('float')\n",
    "description_rank = ranked_df.describe().T\n",
    "description_rank.to_csv(f'./feature_importance_rank_{drop_n_features}_trials.csv')"
   ]
  },
  {
   "cell_type": "code",
   "execution_count": null,
   "metadata": {},
   "outputs": [
    {
     "name": "stdout",
     "output_type": "stream",
     "text": [
      "Num of records in Personal Data dataset: 336206\n",
      "Num of unique plco_id in Personal Data dataset: 31165\n",
      "Num of records in Personal Data with cancer_0 dataset: 332709\n",
      "Num of unique plco_id in Personal Data with cancer_0 dataset: 30552\n",
      "Num of records in Personal Data with cancer_1 dataset: 3497\n",
      "Num of unique plco_id in Personal Data with cancer_1 dataset: 613\n",
      "\n",
      "\n",
      "Personal Data filtered on dummy: 0 \n",
      "Num of records in Personal Data filtered on dummy: 0  with cancer_0 dataset: 332709\n",
      "Num of unique plco_id in Personal Data filtered on dummy: 0  with cancer_0 dataset: 30552\n",
      "174 columns were over 0 missing. This is the list of columns: ['ovar_cancer', 'cancer_in_next_1_years', 'study_yr', 'ovar_cancer_years', 'in_TGWAS_population', 'dual', 'agelevel', 'age', 'center', 'ph_ovar_trial', 'ph_any_trial', 'was_screened', 'race7', 'cancer', 'plco_id', 'ovary_trial_flag', 'ph_any_bq', 'menstrs_stat_type', 'bq_age', 'ph_ovar_bq', 'post_menopausal', 'smoked_f', 'cig_stat', 'ovariesr_f', 'preg_f', 'pelvic_history', 'usound_history', 'hyster_f', 'marital', 'cigpd_f', 'horm_f', 'horm_stat', 'bcontr_f', 'mammo_history', 'papsmear_history', 'educat', 'livec', 'pregc', 'fmenstr', 'bcontrt', 'asp', 'fh_cancer', 'tuballig', 'miscar', 'asppd', 'emphys_f', 'tubal', 'diabetes_f', 'trypreg', 'stroke_f', 'hyperten_f', 'occupat', 'hearta_f', 'bronchit_f', 'arthrit_f', 'ibup', 'gallblad_f', 'polyps_f', 'height_f', 'divertic_f', 'liver_comorbidity', 'curhorm', 'osteopor_f', 'stillb', 'ibuppd', 'ovarsumm_fh_cnt', 'breast_fh', 'ovarsumm_fh', 'breast_fh_cnt', 'brothers', 'weight50_f', 'cig_years', 'colon_comorbidity', 'thorm', 'sisters', 'lmenstr', 'pack_years', 'weight_f', 'bmi_50', 'bmi_50c', 'pipe', 'weight20_f', 'bmi_curc', 'bmi_curr', 'cigar', 'bmi_20c', 'bmi_20', 'bbd', 'menstrs', 'uterine_fib', 'hispanic_f', 'benign_ovcyst', 'endometriosis', 'prega', 'fchilda', 'cancer_in_next_3_years', 'ph_any_dqx', 'ph_ovar_dqx', 'ph_any_dhq', 'cancer_in_next_5_years', 'ph_any_sqx', 'cancer_in_next_10_years', 'bcontra', 'ph_any_muq', 'ca125_result', 'visr', 'ovar_result', 'visl', 'numcyst', 'numcystr', 'numcystl', 'ovcyst_morphr', 'ovcyst_morphl', 'ovcyst_morph', 'ovcyst_sum', 'tvu_result', 'ovcyst_suml', 'ovcyst_sumr', 'visboth', 'viseith', 'ovar_days', 'ca125ii_level', 'rsmoker_f', 'filtered_f', 'smokea_f', 'cig_stop', 'tvu_ref', 'phycons', 'detr_p', 'detl_p', 'hystera', 'ovcyst_diam', 'ovcyst_vol', 'ovary_diam', 'ovary_vol', 'breast_fh_age', 'ovcyst_diamr', 'ovcyst_volr', 'ovary_diamr', 'ovary_volr', 'rlong_p', 'rtran_p', 'rantero_p', 'rvol_p', 'ovcyst_diaml', 'ovcyst_voll', 'ovary_voll', 'ovary_diaml', 'lantero_p', 'llong_p', 'ltran_p', 'lvol_p', 'maxdi', 'solid', 'echo', 'ovcyst_solid', 'volum', 'ovarsumm_fh_age', 'sepst', 'cyst', 'cystw', 'ovcyst_outline', 'ovcyst_solidr', 'ovcyst_outliner', 'ovcyst_solidl', 'ovcyst_outlinel', 'rtran_q', 'rlong_q', 'rantero_q', 'rvol_q', 'ltran_q', 'llong_q', 'lantero_q', 'lvol_q']\n",
      "The table of features missing over 0 percentage: \n",
      "+-------------------------+-------------------------+---------------+---------------+-------------------+\n",
      "|                         | column_name             |   num_missing |   num_present |   percent_missing |\n",
      "|-------------------------+-------------------------+---------------+---------------+-------------------|\n",
      "| ovar_cancer             | ovar_cancer             |             0 |        332709 |          0        |\n",
      "| cancer_in_next_1_years  | cancer_in_next_1_years  |             0 |        332709 |          0        |\n",
      "| study_yr                | study_yr                |             0 |        332709 |          0        |\n",
      "| ovar_cancer_years       | ovar_cancer_years       |             0 |        332709 |          0        |\n",
      "| in_TGWAS_population     | in_TGWAS_population     |             0 |        332709 |          0        |\n",
      "| dual                    | dual                    |             0 |        332709 |          0        |\n",
      "| agelevel                | agelevel                |             0 |        332709 |          0        |\n",
      "| age                     | age                     |             0 |        332709 |          0        |\n",
      "| center                  | center                  |             0 |        332709 |          0        |\n",
      "| ph_ovar_trial           | ph_ovar_trial           |             0 |        332709 |          0        |\n",
      "| ph_any_trial            | ph_any_trial            |             0 |        332709 |          0        |\n",
      "| was_screened            | was_screened            |             0 |        332709 |          0        |\n",
      "| race7                   | race7                   |             0 |        332709 |          0        |\n",
      "| cancer                  | cancer                  |             0 |        332709 |          0        |\n",
      "| plco_id                 | plco_id                 |             0 |        332709 |          0        |\n",
      "| ovary_trial_flag        | ovary_trial_flag        |             0 |        332709 |          0        |\n",
      "| ph_any_bq               | ph_any_bq               |          2781 |        329928 |          0.835866 |\n",
      "| menstrs_stat_type       | menstrs_stat_type       |          2781 |        329928 |          0.835866 |\n",
      "| bq_age                  | bq_age                  |          2781 |        329928 |          0.835866 |\n",
      "| ph_ovar_bq              | ph_ovar_bq              |          2781 |        329928 |          0.835866 |\n",
      "| post_menopausal         | post_menopausal         |          2781 |        329928 |          0.835866 |\n",
      "| smoked_f                | smoked_f                |          2833 |        329876 |          0.851495 |\n",
      "| cig_stat                | cig_stat                |          2833 |        329876 |          0.851495 |\n",
      "| ovariesr_f              | ovariesr_f              |          2880 |        329829 |          0.865621 |\n",
      "| preg_f                  | preg_f                  |          2887 |        329822 |          0.867725 |\n",
      "| pelvic_history          | pelvic_history          |          2895 |        329814 |          0.87013  |\n",
      "| usound_history          | usound_history          |          2895 |        329814 |          0.87013  |\n",
      "| hyster_f                | hyster_f                |          2993 |        329716 |          0.899585 |\n",
      "| marital                 | marital                 |          3107 |        329602 |          0.933849 |\n",
      "| cigpd_f                 | cigpd_f                 |          3116 |        329593 |          0.936554 |\n",
      "| horm_f                  | horm_f                  |          3135 |        329574 |          0.942265 |\n",
      "| horm_stat               | horm_stat               |          3135 |        329574 |          0.942265 |\n",
      "| bcontr_f                | bcontr_f                |          3141 |        329568 |          0.944068 |\n",
      "| mammo_history           | mammo_history           |          3162 |        329547 |          0.95038  |\n",
      "| papsmear_history        | papsmear_history        |          3220 |        329489 |          0.967813 |\n",
      "| educat                  | educat                  |          3224 |        329485 |          0.969015 |\n",
      "| livec                   | livec                   |          3313 |        329396 |          0.995765 |\n",
      "| pregc                   | pregc                   |          3397 |        329312 |          1.02101  |\n",
      "| fmenstr                 | fmenstr                 |          3407 |        329302 |          1.02402  |\n",
      "| bcontrt                 | bcontrt                 |          3504 |        329205 |          1.05317  |\n",
      "| asp                     | asp                     |          3522 |        329187 |          1.05858  |\n",
      "| fh_cancer               | fh_cancer               |          3629 |        329080 |          1.09074  |\n",
      "| tuballig                | tuballig                |          3723 |        328986 |          1.119    |\n",
      "| miscar                  | miscar                  |          3742 |        328967 |          1.12471  |\n",
      "| asppd                   | asppd                   |          3795 |        328914 |          1.14064  |\n",
      "| emphys_f                | emphys_f                |          3872 |        328837 |          1.16378  |\n",
      "| tubal                   | tubal                   |          3876 |        328833 |          1.16498  |\n",
      "| diabetes_f              | diabetes_f              |          3891 |        328818 |          1.16949  |\n",
      "| trypreg                 | trypreg                 |          3893 |        328816 |          1.17009  |\n",
      "| stroke_f                | stroke_f                |          3931 |        328778 |          1.18151  |\n",
      "| hyperten_f              | hyperten_f              |          3962 |        328747 |          1.19083  |\n",
      "| occupat                 | occupat                 |          3974 |        328735 |          1.19444  |\n",
      "| hearta_f                | hearta_f                |          4133 |        328576 |          1.24223  |\n",
      "| bronchit_f              | bronchit_f              |          4170 |        328539 |          1.25335  |\n",
      "| arthrit_f               | arthrit_f               |          4175 |        328534 |          1.25485  |\n",
      "| ibup                    | ibup                    |          4298 |        328411 |          1.29182  |\n",
      "| gallblad_f              | gallblad_f              |          4333 |        328376 |          1.30234  |\n",
      "| polyps_f                | polyps_f                |          4359 |        328350 |          1.31015  |\n",
      "| height_f                | height_f                |          4390 |        328319 |          1.31947  |\n",
      "| divertic_f              | divertic_f              |          4410 |        328299 |          1.32548  |\n",
      "| liver_comorbidity       | liver_comorbidity       |          4435 |        328274 |          1.333    |\n",
      "| curhorm                 | curhorm                 |          4488 |        328221 |          1.34893  |\n",
      "| osteopor_f              | osteopor_f              |          4665 |        328044 |          1.40213  |\n",
      "| stillb                  | stillb                  |          4667 |        328042 |          1.40273  |\n",
      "| ibuppd                  | ibuppd                  |          4738 |        327971 |          1.42407  |\n",
      "| ovarsumm_fh_cnt         | ovarsumm_fh_cnt         |          4941 |        327768 |          1.48508  |\n",
      "| breast_fh               | breast_fh               |          4941 |        327768 |          1.48508  |\n",
      "| ovarsumm_fh             | ovarsumm_fh             |          4941 |        327768 |          1.48508  |\n",
      "| breast_fh_cnt           | breast_fh_cnt           |          4941 |        327768 |          1.48508  |\n",
      "| brothers                | brothers                |          4942 |        327767 |          1.48538  |\n",
      "| weight50_f              | weight50_f              |          5165 |        327544 |          1.55241  |\n",
      "| cig_years               | cig_years               |          5266 |        327443 |          1.58276  |\n",
      "| colon_comorbidity       | colon_comorbidity       |          5348 |        327361 |          1.60741  |\n",
      "| thorm                   | thorm                   |          5356 |        327353 |          1.60982  |\n",
      "| sisters                 | sisters                 |          5410 |        327299 |          1.62605  |\n",
      "| lmenstr                 | lmenstr                 |          5461 |        327248 |          1.64137  |\n",
      "| pack_years              | pack_years              |          5462 |        327247 |          1.64167  |\n",
      "| weight_f                | weight_f                |          5597 |        327112 |          1.68225  |\n",
      "| bmi_50                  | bmi_50                  |          5944 |        326765 |          1.78655  |\n",
      "| bmi_50c                 | bmi_50c                 |          5944 |        326765 |          1.78655  |\n",
      "| pipe                    | pipe                    |          6028 |        326681 |          1.81179  |\n",
      "| weight20_f              | weight20_f              |          6227 |        326482 |          1.87161  |\n",
      "| bmi_curc                | bmi_curc                |          6389 |        326320 |          1.9203   |\n",
      "| bmi_curr                | bmi_curr                |          6389 |        326320 |          1.9203   |\n",
      "| cigar                   | cigar                   |          6696 |        326013 |          2.01257  |\n",
      "| bmi_20c                 | bmi_20c                 |          7006 |        325703 |          2.10574  |\n",
      "| bmi_20                  | bmi_20                  |          7006 |        325703 |          2.10574  |\n",
      "| bbd                     | bbd                     |          7760 |        324949 |          2.33237  |\n",
      "| menstrs                 | menstrs                 |          9077 |        323632 |          2.72821  |\n",
      "| uterine_fib             | uterine_fib             |         10977 |        321732 |          3.29928  |\n",
      "| hispanic_f              | hispanic_f              |         10977 |        321732 |          3.29928  |\n",
      "| benign_ovcyst           | benign_ovcyst           |         13343 |        319366 |          4.01041  |\n",
      "| endometriosis           | endometriosis           |         14082 |        318627 |          4.23253  |\n",
      "| prega                   | prega                   |         27648 |        305061 |          8.30996  |\n",
      "| fchilda                 | fchilda                 |         34146 |        298563 |         10.263    |\n",
      "| cancer_in_next_3_years  | cancer_in_next_3_years  |         36566 |        296143 |         10.9904   |\n",
      "| ph_any_dqx              | ph_any_dqx              |         43755 |        288954 |         13.1511   |\n",
      "| ph_ovar_dqx             | ph_ovar_dqx             |         43755 |        288954 |         13.1511   |\n",
      "| ph_any_dhq              | ph_any_dhq              |         52171 |        280538 |         15.6807   |\n",
      "| cancer_in_next_5_years  | cancer_in_next_5_years  |         71934 |        260775 |         21.6207   |\n",
      "| ph_any_sqx              | ph_any_sqx              |         81700 |        251009 |         24.556    |\n",
      "| cancer_in_next_10_years | cancer_in_next_10_years |        125240 |        207469 |         37.6425   |\n",
      "| bcontra                 | bcontra                 |        153395 |        179314 |         46.1049   |\n",
      "| ph_any_muq              | ph_any_muq              |        180849 |        151860 |         54.3565   |\n",
      "| ca125_result            | ca125_result            |        182916 |        149793 |         54.9778   |\n",
      "| visr                    | visr                    |        182916 |        149793 |         54.9778   |\n",
      "| ovar_result             | ovar_result             |        182916 |        149793 |         54.9778   |\n",
      "| visl                    | visl                    |        182916 |        149793 |         54.9778   |\n",
      "| numcyst                 | numcyst                 |        182916 |        149793 |         54.9778   |\n",
      "| numcystr                | numcystr                |        182916 |        149793 |         54.9778   |\n",
      "| numcystl                | numcystl                |        182916 |        149793 |         54.9778   |\n",
      "| ovcyst_morphr           | ovcyst_morphr           |        182916 |        149793 |         54.9778   |\n",
      "| ovcyst_morphl           | ovcyst_morphl           |        182916 |        149793 |         54.9778   |\n",
      "| ovcyst_morph            | ovcyst_morph            |        182916 |        149793 |         54.9778   |\n",
      "| ovcyst_sum              | ovcyst_sum              |        182916 |        149793 |         54.9778   |\n",
      "| tvu_result              | tvu_result              |        182916 |        149793 |         54.9778   |\n",
      "| ovcyst_suml             | ovcyst_suml             |        182916 |        149793 |         54.9778   |\n",
      "| ovcyst_sumr             | ovcyst_sumr             |        182916 |        149793 |         54.9778   |\n",
      "| visboth                 | visboth                 |        182916 |        149793 |         54.9778   |\n",
      "| viseith                 | viseith                 |        182916 |        149793 |         54.9778   |\n",
      "| ovar_days               | ovar_days               |        182925 |        149784 |         54.9805   |\n",
      "| ca125ii_level           | ca125ii_level           |        183327 |        149382 |         55.1013   |\n",
      "| rsmoker_f               | rsmoker_f               |        188024 |        144685 |         56.513    |\n",
      "| filtered_f              | filtered_f              |        188151 |        144558 |         56.5512   |\n",
      "| smokea_f                | smokea_f                |        188601 |        144108 |         56.6865   |\n",
      "| cig_stop                | cig_stop                |        190013 |        142696 |         57.1109   |\n",
      "| tvu_ref                 | tvu_ref                 |        226994 |        105715 |         68.226    |\n",
      "| phycons                 | phycons                 |        227000 |        105709 |         68.2278   |\n",
      "| detr_p                  | detr_p                  |        227422 |        105287 |         68.3546   |\n",
      "| detl_p                  | detl_p                  |        227439 |        105270 |         68.3597   |\n",
      "| hystera                 | hystera                 |        243282 |         89427 |         73.1216   |\n",
      "| ovcyst_diam             | ovcyst_diam             |        275586 |         57123 |         82.8309   |\n",
      "| ovcyst_vol              | ovcyst_vol              |        275587 |         57122 |         82.8312   |\n",
      "| ovary_diam              | ovary_diam              |        276356 |         56353 |         83.0624   |\n",
      "| ovary_vol               | ovary_vol               |        276357 |         56352 |         83.0627   |\n",
      "| breast_fh_age           | breast_fh_age           |        286984 |         45725 |         86.2568   |\n",
      "| ovcyst_diamr            | ovcyst_diamr            |        287765 |         44944 |         86.4915   |\n",
      "| ovcyst_volr             | ovcyst_volr             |        287768 |         44941 |         86.4924   |\n",
      "| ovary_diamr             | ovary_diamr             |        288316 |         44393 |         86.6571   |\n",
      "| ovary_volr              | ovary_volr              |        288320 |         44389 |         86.6583   |\n",
      "| rlong_p                 | rlong_p                 |        288328 |         44381 |         86.6607   |\n",
      "| rtran_p                 | rtran_p                 |        288328 |         44381 |         86.6607   |\n",
      "| rantero_p               | rantero_p               |        288330 |         44379 |         86.6613   |\n",
      "| rvol_p                  | rvol_p                  |        288339 |         44370 |         86.664    |\n",
      "| ovcyst_diaml            | ovcyst_diaml            |        288911 |         43798 |         86.8359   |\n",
      "| ovcyst_voll             | ovcyst_voll             |        288911 |         43798 |         86.8359   |\n",
      "| ovary_voll              | ovary_voll              |        289443 |         43266 |         86.9958   |\n",
      "| ovary_diaml             | ovary_diaml             |        289444 |         43265 |         86.9961   |\n",
      "| lantero_p               | lantero_p               |        289457 |         43252 |         87.0001   |\n",
      "| llong_p                 | llong_p                 |        289458 |         43251 |         87.0004   |\n",
      "| ltran_p                 | ltran_p                 |        289458 |         43251 |         87.0004   |\n",
      "| lvol_p                  | lvol_p                  |        289467 |         43242 |         87.0031   |\n",
      "| maxdi                   | maxdi                   |        319973 |         12736 |         96.172    |\n",
      "| solid                   | solid                   |        319975 |         12734 |         96.1726   |\n",
      "| echo                    | echo                    |        319977 |         12732 |         96.1732   |\n",
      "| ovcyst_solid            | ovcyst_solid            |        320007 |         12702 |         96.1822   |\n",
      "| volum                   | volum                   |        320164 |         12545 |         96.2294   |\n",
      "| ovarsumm_fh_age         | ovarsumm_fh_age         |        320268 |         12441 |         96.2607   |\n",
      "| sepst                   | sepst                   |        320423 |         12286 |         96.3073   |\n",
      "| cyst                    | cyst                    |        320423 |         12286 |         96.3073   |\n",
      "| cystw                   | cystw                   |        320423 |         12286 |         96.3073   |\n",
      "| ovcyst_outline          | ovcyst_outline          |        320459 |         12250 |         96.3181   |\n",
      "| ovcyst_solidr           | ovcyst_solidr           |        325297 |          7412 |         97.7722   |\n",
      "| ovcyst_outliner         | ovcyst_outliner         |        325578 |          7131 |         97.8567   |\n",
      "| ovcyst_solidl           | ovcyst_solidl           |        325743 |          6966 |         97.9063   |\n",
      "| ovcyst_outlinel         | ovcyst_outlinel         |        325990 |          6719 |         97.9805   |\n",
      "| rtran_q                 | rtran_q                 |        328992 |          3717 |         98.8828   |\n",
      "| rlong_q                 | rlong_q                 |        328992 |          3717 |         98.8828   |\n",
      "| rantero_q               | rantero_q               |        328992 |          3717 |         98.8828   |\n",
      "| rvol_q                  | rvol_q                  |        328992 |          3717 |         98.8828   |\n",
      "| ltran_q                 | ltran_q                 |        329120 |          3589 |         98.9213   |\n",
      "| llong_q                 | llong_q                 |        329120 |          3589 |         98.9213   |\n",
      "| lantero_q               | lantero_q               |        329120 |          3589 |         98.9213   |\n",
      "| lvol_q                  | lvol_q                  |        329124 |          3585 |         98.9225   |\n",
      "+-------------------------+-------------------------+---------------+---------------+-------------------+\n",
      "Num of records in Personal Data filtered on dummy: 0  with cancer_1 dataset: 3497\n",
      "Num of unique plco_id in Personal Data filtered on dummy: 0  with cancer_1 dataset: 613\n",
      "174 columns were over 0 missing. This is the list of columns: ['ovar_cancer', 'cancer_in_next_1_years', 'study_yr', 'ovar_cancer_years', 'in_TGWAS_population', 'dual', 'agelevel', 'age', 'center', 'ph_ovar_trial', 'ph_any_trial', 'was_screened', 'race7', 'cancer', 'ovary_trial_flag', 'plco_id', 'cancer_in_next_3_years', 'cigpd_f', 'educat', 'smoked_f', 'bq_age', 'cig_stat', 'ph_ovar_bq', 'menstrs_stat_type', 'post_menopausal', 'ph_any_bq', 'marital', 'asppd', 'preg_f', 'papsmear_history', 'usound_history', 'horm_stat', 'horm_f', 'asp', 'cancer_in_next_5_years', 'ovariesr_f', 'curhorm', 'pelvic_history', 'fh_cancer', 'bcontr_f', 'mammo_history', 'trypreg', 'hyster_f', 'weight50_f', 'ibuppd', 'ibup', 'arthrit_f', 'fmenstr', 'hyperten_f', 'pregc', 'livec', 'ovarsumm_fh', 'breast_fh_cnt', 'breast_fh', 'ovarsumm_fh_cnt', 'brothers', 'liver_comorbidity', 'polyps_f', 'osteopor_f', 'bronchit_f', 'diabetes_f', 'divertic_f', 'stroke_f', 'bcontrt', 'height_f', 'cig_years', 'pack_years', 'weight_f', 'sisters', 'emphys_f', 'occupat', 'gallblad_f', 'tuballig', 'colon_comorbidity', 'hearta_f', 'miscar', 'stillb', 'tubal', 'bmi_50', 'bmi_50c', 'lmenstr', 'thorm', 'weight20_f', 'bmi_curc', 'bmi_curr', 'pipe', 'bmi_20c', 'bmi_20', 'bbd', 'hispanic_f', 'cigar', 'uterine_fib', 'menstrs', 'benign_ovcyst', 'endometriosis', 'prega', 'fchilda', 'cancer_in_next_10_years', 'ph_any_dhq', 'ph_any_sqx', 'ph_any_dqx', 'ph_ovar_dqx', 'bcontra', 'rsmoker_f', 'filtered_f', 'cig_stop', 'smokea_f', 'ovcyst_suml', 'ovar_result', 'ca125_result', 'tvu_result', 'ovcyst_morphr', 'ovcyst_morphl', 'ovcyst_morph', 'ovcyst_sumr', 'ovcyst_sum', 'visl', 'visr', 'visboth', 'viseith', 'numcystl', 'numcystr', 'numcyst', 'ovar_days', 'ca125ii_level', 'hystera', 'ph_any_muq', 'tvu_ref', 'phycons', 'detl_p', 'detr_p', 'ovcyst_vol', 'ovcyst_diam', 'ovary_vol', 'ovary_diam', 'breast_fh_age', 'ovcyst_diamr', 'ovcyst_volr', 'ovcyst_diaml', 'ovcyst_voll', 'ovary_diamr', 'ovary_volr', 'rtran_p', 'rlong_p', 'rvol_p', 'rantero_p', 'ovary_voll', 'ovary_diaml', 'ltran_p', 'lvol_p', 'lantero_p', 'llong_p', 'echo', 'solid', 'maxdi', 'ovcyst_solid', 'volum', 'cystw', 'ovcyst_outline', 'cyst', 'sepst', 'ovarsumm_fh_age', 'ovcyst_solidr', 'ovcyst_outliner', 'ovcyst_solidl', 'ovcyst_outlinel', 'rvol_q', 'rantero_q', 'rlong_q', 'rtran_q', 'lantero_q', 'llong_q', 'lvol_q', 'ltran_q']\n",
      "The table of features missing over 0 percentage: \n",
      "+-------------------------+-------------------------+---------------+---------------+-------------------+\n",
      "|                         | column_name             |   num_missing |   num_present |   percent_missing |\n",
      "|-------------------------+-------------------------+---------------+---------------+-------------------|\n",
      "| ovar_cancer             | ovar_cancer             |             0 |          3497 |          0        |\n",
      "| cancer_in_next_1_years  | cancer_in_next_1_years  |             0 |          3497 |          0        |\n",
      "| study_yr                | study_yr                |             0 |          3497 |          0        |\n",
      "| ovar_cancer_years       | ovar_cancer_years       |             0 |          3497 |          0        |\n",
      "| in_TGWAS_population     | in_TGWAS_population     |             0 |          3497 |          0        |\n",
      "| dual                    | dual                    |             0 |          3497 |          0        |\n",
      "| agelevel                | agelevel                |             0 |          3497 |          0        |\n",
      "| age                     | age                     |             0 |          3497 |          0        |\n",
      "| center                  | center                  |             0 |          3497 |          0        |\n",
      "| ph_ovar_trial           | ph_ovar_trial           |             0 |          3497 |          0        |\n",
      "| ph_any_trial            | ph_any_trial            |             0 |          3497 |          0        |\n",
      "| was_screened            | was_screened            |             0 |          3497 |          0        |\n",
      "| race7                   | race7                   |             0 |          3497 |          0        |\n",
      "| cancer                  | cancer                  |             0 |          3497 |          0        |\n",
      "| ovary_trial_flag        | ovary_trial_flag        |             0 |          3497 |          0        |\n",
      "| plco_id                 | plco_id                 |             0 |          3497 |          0        |\n",
      "| cancer_in_next_3_years  | cancer_in_next_3_years  |            22 |          3475 |          0.629111 |\n",
      "| cigpd_f                 | cigpd_f                 |            68 |          3429 |          1.94452  |\n",
      "| educat                  | educat                  |            68 |          3429 |          1.94452  |\n",
      "| smoked_f                | smoked_f                |            68 |          3429 |          1.94452  |\n",
      "| bq_age                  | bq_age                  |            68 |          3429 |          1.94452  |\n",
      "| cig_stat                | cig_stat                |            68 |          3429 |          1.94452  |\n",
      "| ph_ovar_bq              | ph_ovar_bq              |            68 |          3429 |          1.94452  |\n",
      "| menstrs_stat_type       | menstrs_stat_type       |            68 |          3429 |          1.94452  |\n",
      "| post_menopausal         | post_menopausal         |            68 |          3429 |          1.94452  |\n",
      "| ph_any_bq               | ph_any_bq               |            68 |          3429 |          1.94452  |\n",
      "| marital                 | marital                 |            72 |          3425 |          2.05891  |\n",
      "| asppd                   | asppd                   |            74 |          3423 |          2.1161   |\n",
      "| preg_f                  | preg_f                  |            75 |          3422 |          2.1447   |\n",
      "| papsmear_history        | papsmear_history        |            75 |          3422 |          2.1447   |\n",
      "| usound_history          | usound_history          |            75 |          3422 |          2.1447   |\n",
      "| horm_stat               | horm_stat               |            75 |          3422 |          2.1447   |\n",
      "| horm_f                  | horm_f                  |            75 |          3422 |          2.1447   |\n",
      "| asp                     | asp                     |            77 |          3420 |          2.20189  |\n",
      "| cancer_in_next_5_years  | cancer_in_next_5_years  |            78 |          3419 |          2.23048  |\n",
      "| ovariesr_f              | ovariesr_f              |            78 |          3419 |          2.23048  |\n",
      "| curhorm                 | curhorm                 |            78 |          3419 |          2.23048  |\n",
      "| pelvic_history          | pelvic_history          |            79 |          3418 |          2.25908  |\n",
      "| fh_cancer               | fh_cancer               |            79 |          3418 |          2.25908  |\n",
      "| bcontr_f                | bcontr_f                |            80 |          3417 |          2.28768  |\n",
      "| mammo_history           | mammo_history           |            80 |          3417 |          2.28768  |\n",
      "| trypreg                 | trypreg                 |            80 |          3417 |          2.28768  |\n",
      "| hyster_f                | hyster_f                |            80 |          3417 |          2.28768  |\n",
      "| weight50_f              | weight50_f              |            83 |          3414 |          2.37346  |\n",
      "| ibuppd                  | ibuppd                  |            83 |          3414 |          2.37346  |\n",
      "| ibup                    | ibup                    |            85 |          3412 |          2.43065  |\n",
      "| arthrit_f               | arthrit_f               |            85 |          3412 |          2.43065  |\n",
      "| fmenstr                 | fmenstr                 |            85 |          3412 |          2.43065  |\n",
      "| hyperten_f              | hyperten_f              |            85 |          3412 |          2.43065  |\n",
      "| pregc                   | pregc                   |            88 |          3409 |          2.51644  |\n",
      "| livec                   | livec                   |            88 |          3409 |          2.51644  |\n",
      "| ovarsumm_fh             | ovarsumm_fh             |            89 |          3408 |          2.54504  |\n",
      "| breast_fh_cnt           | breast_fh_cnt           |            89 |          3408 |          2.54504  |\n",
      "| breast_fh               | breast_fh               |            89 |          3408 |          2.54504  |\n",
      "| ovarsumm_fh_cnt         | ovarsumm_fh_cnt         |            89 |          3408 |          2.54504  |\n",
      "| brothers                | brothers                |            90 |          3407 |          2.57363  |\n",
      "| liver_comorbidity       | liver_comorbidity       |            90 |          3407 |          2.57363  |\n",
      "| polyps_f                | polyps_f                |            90 |          3407 |          2.57363  |\n",
      "| osteopor_f              | osteopor_f              |            90 |          3407 |          2.57363  |\n",
      "| bronchit_f              | bronchit_f              |            90 |          3407 |          2.57363  |\n",
      "| diabetes_f              | diabetes_f              |            90 |          3407 |          2.57363  |\n",
      "| divertic_f              | divertic_f              |            90 |          3407 |          2.57363  |\n",
      "| stroke_f                | stroke_f                |            90 |          3407 |          2.57363  |\n",
      "| bcontrt                 | bcontrt                 |            91 |          3406 |          2.60223  |\n",
      "| height_f                | height_f                |            91 |          3406 |          2.60223  |\n",
      "| cig_years               | cig_years               |            91 |          3406 |          2.60223  |\n",
      "| pack_years              | pack_years              |            91 |          3406 |          2.60223  |\n",
      "| weight_f                | weight_f                |            92 |          3405 |          2.63083  |\n",
      "| sisters                 | sisters                 |            92 |          3405 |          2.63083  |\n",
      "| emphys_f                | emphys_f                |            94 |          3403 |          2.68802  |\n",
      "| occupat                 | occupat                 |            94 |          3403 |          2.68802  |\n",
      "| gallblad_f              | gallblad_f              |            95 |          3402 |          2.71661  |\n",
      "| tuballig                | tuballig                |            95 |          3402 |          2.71661  |\n",
      "| colon_comorbidity       | colon_comorbidity       |            95 |          3402 |          2.71661  |\n",
      "| hearta_f                | hearta_f                |            97 |          3400 |          2.77381  |\n",
      "| miscar                  | miscar                  |            98 |          3399 |          2.8024   |\n",
      "| stillb                  | stillb                  |           100 |          3397 |          2.85959  |\n",
      "| tubal                   | tubal                   |           101 |          3396 |          2.88819  |\n",
      "| bmi_50                  | bmi_50                  |           106 |          3391 |          3.03117  |\n",
      "| bmi_50c                 | bmi_50c                 |           106 |          3391 |          3.03117  |\n",
      "| lmenstr                 | lmenstr                 |           108 |          3389 |          3.08836  |\n",
      "| thorm                   | thorm                   |           109 |          3388 |          3.11696  |\n",
      "| weight20_f              | weight20_f              |           110 |          3387 |          3.14555  |\n",
      "| bmi_curc                | bmi_curc                |           115 |          3382 |          3.28853  |\n",
      "| bmi_curr                | bmi_curr                |           115 |          3382 |          3.28853  |\n",
      "| pipe                    | pipe                    |           123 |          3374 |          3.5173   |\n",
      "| bmi_20c                 | bmi_20c                 |           124 |          3373 |          3.5459   |\n",
      "| bmi_20                  | bmi_20                  |           124 |          3373 |          3.5459   |\n",
      "| bbd                     | bbd                     |           128 |          3369 |          3.66028  |\n",
      "| hispanic_f              | hispanic_f              |           131 |          3366 |          3.74607  |\n",
      "| cigar                   | cigar                   |           135 |          3362 |          3.86045  |\n",
      "| uterine_fib             | uterine_fib             |           165 |          3332 |          4.71833  |\n",
      "| menstrs                 | menstrs                 |           178 |          3319 |          5.09008  |\n",
      "| benign_ovcyst           | benign_ovcyst           |           184 |          3313 |          5.26165  |\n",
      "| endometriosis           | endometriosis           |           204 |          3293 |          5.83357  |\n",
      "| prega                   | prega                   |           418 |          3079 |         11.9531   |\n",
      "| fchilda                 | fchilda                 |           455 |          3042 |         13.0112   |\n",
      "| cancer_in_next_10_years | cancer_in_next_10_years |           560 |          2937 |         16.0137   |\n",
      "| ph_any_dhq              | ph_any_dhq              |           650 |          2847 |         18.5874   |\n",
      "| ph_any_sqx              | ph_any_sqx              |          1176 |          2321 |         33.6288   |\n",
      "| ph_any_dqx              | ph_any_dqx              |          1694 |          1803 |         48.4415   |\n",
      "| ph_ovar_dqx             | ph_ovar_dqx             |          1694 |          1803 |         48.4415   |\n",
      "| bcontra                 | bcontra                 |          1895 |          1602 |         54.1893   |\n",
      "| rsmoker_f               | rsmoker_f               |          1904 |          1593 |         54.4467   |\n",
      "| filtered_f              | filtered_f              |          1904 |          1593 |         54.4467   |\n",
      "| cig_stop                | cig_stop                |          1912 |          1585 |         54.6754   |\n",
      "| smokea_f                | smokea_f                |          1919 |          1578 |         54.8756   |\n",
      "| ovcyst_suml             | ovcyst_suml             |          2301 |          1196 |         65.7993   |\n",
      "| ovar_result             | ovar_result             |          2301 |          1196 |         65.7993   |\n",
      "| ca125_result            | ca125_result            |          2301 |          1196 |         65.7993   |\n",
      "| tvu_result              | tvu_result              |          2301 |          1196 |         65.7993   |\n",
      "| ovcyst_morphr           | ovcyst_morphr           |          2301 |          1196 |         65.7993   |\n",
      "| ovcyst_morphl           | ovcyst_morphl           |          2301 |          1196 |         65.7993   |\n",
      "| ovcyst_morph            | ovcyst_morph            |          2301 |          1196 |         65.7993   |\n",
      "| ovcyst_sumr             | ovcyst_sumr             |          2301 |          1196 |         65.7993   |\n",
      "| ovcyst_sum              | ovcyst_sum              |          2301 |          1196 |         65.7993   |\n",
      "| visl                    | visl                    |          2301 |          1196 |         65.7993   |\n",
      "| visr                    | visr                    |          2301 |          1196 |         65.7993   |\n",
      "| visboth                 | visboth                 |          2301 |          1196 |         65.7993   |\n",
      "| viseith                 | viseith                 |          2301 |          1196 |         65.7993   |\n",
      "| numcystl                | numcystl                |          2301 |          1196 |         65.7993   |\n",
      "| numcystr                | numcystr                |          2301 |          1196 |         65.7993   |\n",
      "| numcyst                 | numcyst                 |          2301 |          1196 |         65.7993   |\n",
      "| ovar_days               | ovar_days               |          2301 |          1196 |         65.7993   |\n",
      "| ca125ii_level           | ca125ii_level           |          2301 |          1196 |         65.7993   |\n",
      "| hystera                 | hystera                 |          2435 |          1062 |         69.6311   |\n",
      "| ph_any_muq              | ph_any_muq              |          2495 |          1002 |         71.3469   |\n",
      "| tvu_ref                 | tvu_ref                 |          2580 |           917 |         73.7775   |\n",
      "| phycons                 | phycons                 |          2580 |           917 |         73.7775   |\n",
      "| detl_p                  | detl_p                  |          2584 |           913 |         73.8919   |\n",
      "| detr_p                  | detr_p                  |          2584 |           913 |         73.8919   |\n",
      "| ovcyst_vol              | ovcyst_vol              |          2945 |           552 |         84.215    |\n",
      "| ovcyst_diam             | ovcyst_diam             |          2945 |           552 |         84.215    |\n",
      "| ovary_vol               | ovary_vol               |          2956 |           541 |         84.5296   |\n",
      "| ovary_diam              | ovary_diam              |          2956 |           541 |         84.5296   |\n",
      "| breast_fh_age           | breast_fh_age           |          3044 |           453 |         87.046    |\n",
      "| ovcyst_diamr            | ovcyst_diamr            |          3068 |           429 |         87.7323   |\n",
      "| ovcyst_volr             | ovcyst_volr             |          3068 |           429 |         87.7323   |\n",
      "| ovcyst_diaml            | ovcyst_diaml            |          3077 |           420 |         87.9897   |\n",
      "| ovcyst_voll             | ovcyst_voll             |          3077 |           420 |         87.9897   |\n",
      "| ovary_diamr             | ovary_diamr             |          3078 |           419 |         88.0183   |\n",
      "| ovary_volr              | ovary_volr              |          3078 |           419 |         88.0183   |\n",
      "| rtran_p                 | rtran_p                 |          3078 |           419 |         88.0183   |\n",
      "| rlong_p                 | rlong_p                 |          3078 |           419 |         88.0183   |\n",
      "| rvol_p                  | rvol_p                  |          3078 |           419 |         88.0183   |\n",
      "| rantero_p               | rantero_p               |          3078 |           419 |         88.0183   |\n",
      "| ovary_voll              | ovary_voll              |          3083 |           414 |         88.1613   |\n",
      "| ovary_diaml             | ovary_diaml             |          3083 |           414 |         88.1613   |\n",
      "| ltran_p                 | ltran_p                 |          3083 |           414 |         88.1613   |\n",
      "| lvol_p                  | lvol_p                  |          3083 |           414 |         88.1613   |\n",
      "| lantero_p               | lantero_p               |          3083 |           414 |         88.1613   |\n",
      "| llong_p                 | llong_p                 |          3083 |           414 |         88.1613   |\n",
      "| echo                    | echo                    |          3310 |           187 |         94.6526   |\n",
      "| solid                   | solid                   |          3310 |           187 |         94.6526   |\n",
      "| maxdi                   | maxdi                   |          3310 |           187 |         94.6526   |\n",
      "| ovcyst_solid            | ovcyst_solid            |          3310 |           187 |         94.6526   |\n",
      "| volum                   | volum                   |          3313 |           184 |         94.7383   |\n",
      "| cystw                   | cystw                   |          3319 |           178 |         94.9099   |\n",
      "| ovcyst_outline          | ovcyst_outline          |          3319 |           178 |         94.9099   |\n",
      "| cyst                    | cyst                    |          3319 |           178 |         94.9099   |\n",
      "| sepst                   | sepst                   |          3320 |           177 |         94.9385   |\n",
      "| ovarsumm_fh_age         | ovarsumm_fh_age         |          3380 |           117 |         96.6543   |\n",
      "| ovcyst_solidr           | ovcyst_solidr           |          3385 |           112 |         96.7973   |\n",
      "| ovcyst_outliner         | ovcyst_outliner         |          3389 |           108 |         96.9116   |\n",
      "| ovcyst_solidl           | ovcyst_solidl           |          3394 |           103 |         97.0546   |\n",
      "| ovcyst_outlinel         | ovcyst_outlinel         |          3400 |            97 |         97.2262   |\n",
      "| rvol_q                  | rvol_q                  |          3456 |            41 |         98.8276   |\n",
      "| rantero_q               | rantero_q               |          3456 |            41 |         98.8276   |\n",
      "| rlong_q                 | rlong_q                 |          3456 |            41 |         98.8276   |\n",
      "| rtran_q                 | rtran_q                 |          3456 |            41 |         98.8276   |\n",
      "| lantero_q               | lantero_q               |          3462 |            35 |         98.9991   |\n",
      "| llong_q                 | llong_q                 |          3462 |            35 |         98.9991   |\n",
      "| lvol_q                  | lvol_q                  |          3462 |            35 |         98.9991   |\n",
      "| ltran_q                 | ltran_q                 |          3462 |            35 |         98.9991   |\n",
      "+-------------------------+-------------------------+---------------+---------------+-------------------+\n",
      "The table of features missing over 0 percentage: \n",
      "The table of features missing over 0 percentage: \n",
      "+-----+-------------------------+------------------------+------------------------+----------------------------+------------------------+------------------------+----------------------------+\n",
      "|     | column_name             |   num_missing_cancer_0 |   num_present_cancer_0 |   percent_missing_cancer_0 |   num_missing_cancer_1 |   num_present_cancer_1 |   percent_missing_cancer_1 |\n",
      "|-----+-------------------------+------------------------+------------------------+----------------------------+------------------------+------------------------+----------------------------|\n",
      "|   0 | ovar_cancer             |                      0 |                 332709 |                   0        |                      0 |                   3497 |                   0        |\n",
      "|   1 | cancer_in_next_1_years  |                      0 |                 332709 |                   0        |                      0 |                   3497 |                   0        |\n",
      "|   2 | study_yr                |                      0 |                 332709 |                   0        |                      0 |                   3497 |                   0        |\n",
      "|   3 | ovar_cancer_years       |                      0 |                 332709 |                   0        |                      0 |                   3497 |                   0        |\n",
      "|   4 | in_TGWAS_population     |                      0 |                 332709 |                   0        |                      0 |                   3497 |                   0        |\n",
      "|   5 | dual                    |                      0 |                 332709 |                   0        |                      0 |                   3497 |                   0        |\n",
      "|   6 | agelevel                |                      0 |                 332709 |                   0        |                      0 |                   3497 |                   0        |\n",
      "|   7 | age                     |                      0 |                 332709 |                   0        |                      0 |                   3497 |                   0        |\n",
      "|   8 | center                  |                      0 |                 332709 |                   0        |                      0 |                   3497 |                   0        |\n",
      "|   9 | ph_ovar_trial           |                      0 |                 332709 |                   0        |                      0 |                   3497 |                   0        |\n",
      "|  10 | ph_any_trial            |                      0 |                 332709 |                   0        |                      0 |                   3497 |                   0        |\n",
      "|  11 | was_screened            |                      0 |                 332709 |                   0        |                      0 |                   3497 |                   0        |\n",
      "|  12 | race7                   |                      0 |                 332709 |                   0        |                      0 |                   3497 |                   0        |\n",
      "|  13 | cancer                  |                      0 |                 332709 |                   0        |                      0 |                   3497 |                   0        |\n",
      "|  14 | plco_id                 |                      0 |                 332709 |                   0        |                      0 |                   3497 |                   0        |\n",
      "|  15 | ovary_trial_flag        |                      0 |                 332709 |                   0        |                      0 |                   3497 |                   0        |\n",
      "|  16 | ph_any_bq               |                   2781 |                 329928 |                   0.835866 |                     68 |                   3429 |                   1.94452  |\n",
      "|  17 | menstrs_stat_type       |                   2781 |                 329928 |                   0.835866 |                     68 |                   3429 |                   1.94452  |\n",
      "|  18 | bq_age                  |                   2781 |                 329928 |                   0.835866 |                     68 |                   3429 |                   1.94452  |\n",
      "|  19 | ph_ovar_bq              |                   2781 |                 329928 |                   0.835866 |                     68 |                   3429 |                   1.94452  |\n",
      "|  20 | post_menopausal         |                   2781 |                 329928 |                   0.835866 |                     68 |                   3429 |                   1.94452  |\n",
      "|  21 | smoked_f                |                   2833 |                 329876 |                   0.851495 |                     68 |                   3429 |                   1.94452  |\n",
      "|  22 | cig_stat                |                   2833 |                 329876 |                   0.851495 |                     68 |                   3429 |                   1.94452  |\n",
      "|  23 | ovariesr_f              |                   2880 |                 329829 |                   0.865621 |                     78 |                   3419 |                   2.23048  |\n",
      "|  24 | preg_f                  |                   2887 |                 329822 |                   0.867725 |                     75 |                   3422 |                   2.1447   |\n",
      "|  25 | pelvic_history          |                   2895 |                 329814 |                   0.87013  |                     79 |                   3418 |                   2.25908  |\n",
      "|  26 | usound_history          |                   2895 |                 329814 |                   0.87013  |                     75 |                   3422 |                   2.1447   |\n",
      "|  27 | hyster_f                |                   2993 |                 329716 |                   0.899585 |                     80 |                   3417 |                   2.28768  |\n",
      "|  28 | marital                 |                   3107 |                 329602 |                   0.933849 |                     72 |                   3425 |                   2.05891  |\n",
      "|  29 | cigpd_f                 |                   3116 |                 329593 |                   0.936554 |                     68 |                   3429 |                   1.94452  |\n",
      "|  30 | horm_f                  |                   3135 |                 329574 |                   0.942265 |                     75 |                   3422 |                   2.1447   |\n",
      "|  31 | horm_stat               |                   3135 |                 329574 |                   0.942265 |                     75 |                   3422 |                   2.1447   |\n",
      "|  32 | bcontr_f                |                   3141 |                 329568 |                   0.944068 |                     80 |                   3417 |                   2.28768  |\n",
      "|  33 | mammo_history           |                   3162 |                 329547 |                   0.95038  |                     80 |                   3417 |                   2.28768  |\n",
      "|  34 | papsmear_history        |                   3220 |                 329489 |                   0.967813 |                     75 |                   3422 |                   2.1447   |\n",
      "|  35 | educat                  |                   3224 |                 329485 |                   0.969015 |                     68 |                   3429 |                   1.94452  |\n",
      "|  36 | livec                   |                   3313 |                 329396 |                   0.995765 |                     88 |                   3409 |                   2.51644  |\n",
      "|  37 | pregc                   |                   3397 |                 329312 |                   1.02101  |                     88 |                   3409 |                   2.51644  |\n",
      "|  38 | fmenstr                 |                   3407 |                 329302 |                   1.02402  |                     85 |                   3412 |                   2.43065  |\n",
      "|  39 | bcontrt                 |                   3504 |                 329205 |                   1.05317  |                     91 |                   3406 |                   2.60223  |\n",
      "|  40 | asp                     |                   3522 |                 329187 |                   1.05858  |                     77 |                   3420 |                   2.20189  |\n",
      "|  41 | fh_cancer               |                   3629 |                 329080 |                   1.09074  |                     79 |                   3418 |                   2.25908  |\n",
      "|  42 | tuballig                |                   3723 |                 328986 |                   1.119    |                     95 |                   3402 |                   2.71661  |\n",
      "|  43 | miscar                  |                   3742 |                 328967 |                   1.12471  |                     98 |                   3399 |                   2.8024   |\n",
      "|  44 | asppd                   |                   3795 |                 328914 |                   1.14064  |                     74 |                   3423 |                   2.1161   |\n",
      "|  45 | emphys_f                |                   3872 |                 328837 |                   1.16378  |                     94 |                   3403 |                   2.68802  |\n",
      "|  46 | tubal                   |                   3876 |                 328833 |                   1.16498  |                    101 |                   3396 |                   2.88819  |\n",
      "|  47 | diabetes_f              |                   3891 |                 328818 |                   1.16949  |                     90 |                   3407 |                   2.57363  |\n",
      "|  48 | trypreg                 |                   3893 |                 328816 |                   1.17009  |                     80 |                   3417 |                   2.28768  |\n",
      "|  49 | stroke_f                |                   3931 |                 328778 |                   1.18151  |                     90 |                   3407 |                   2.57363  |\n",
      "|  50 | hyperten_f              |                   3962 |                 328747 |                   1.19083  |                     85 |                   3412 |                   2.43065  |\n",
      "|  51 | occupat                 |                   3974 |                 328735 |                   1.19444  |                     94 |                   3403 |                   2.68802  |\n",
      "|  52 | hearta_f                |                   4133 |                 328576 |                   1.24223  |                     97 |                   3400 |                   2.77381  |\n",
      "|  53 | bronchit_f              |                   4170 |                 328539 |                   1.25335  |                     90 |                   3407 |                   2.57363  |\n",
      "|  54 | arthrit_f               |                   4175 |                 328534 |                   1.25485  |                     85 |                   3412 |                   2.43065  |\n",
      "|  55 | ibup                    |                   4298 |                 328411 |                   1.29182  |                     85 |                   3412 |                   2.43065  |\n",
      "|  56 | gallblad_f              |                   4333 |                 328376 |                   1.30234  |                     95 |                   3402 |                   2.71661  |\n",
      "|  57 | polyps_f                |                   4359 |                 328350 |                   1.31015  |                     90 |                   3407 |                   2.57363  |\n",
      "|  58 | height_f                |                   4390 |                 328319 |                   1.31947  |                     91 |                   3406 |                   2.60223  |\n",
      "|  59 | divertic_f              |                   4410 |                 328299 |                   1.32548  |                     90 |                   3407 |                   2.57363  |\n",
      "|  60 | liver_comorbidity       |                   4435 |                 328274 |                   1.333    |                     90 |                   3407 |                   2.57363  |\n",
      "|  61 | curhorm                 |                   4488 |                 328221 |                   1.34893  |                     78 |                   3419 |                   2.23048  |\n",
      "|  62 | osteopor_f              |                   4665 |                 328044 |                   1.40213  |                     90 |                   3407 |                   2.57363  |\n",
      "|  63 | stillb                  |                   4667 |                 328042 |                   1.40273  |                    100 |                   3397 |                   2.85959  |\n",
      "|  64 | ibuppd                  |                   4738 |                 327971 |                   1.42407  |                     83 |                   3414 |                   2.37346  |\n",
      "|  65 | ovarsumm_fh_cnt         |                   4941 |                 327768 |                   1.48508  |                     89 |                   3408 |                   2.54504  |\n",
      "|  66 | breast_fh               |                   4941 |                 327768 |                   1.48508  |                     89 |                   3408 |                   2.54504  |\n",
      "|  67 | ovarsumm_fh             |                   4941 |                 327768 |                   1.48508  |                     89 |                   3408 |                   2.54504  |\n",
      "|  68 | breast_fh_cnt           |                   4941 |                 327768 |                   1.48508  |                     89 |                   3408 |                   2.54504  |\n",
      "|  69 | brothers                |                   4942 |                 327767 |                   1.48538  |                     90 |                   3407 |                   2.57363  |\n",
      "|  70 | weight50_f              |                   5165 |                 327544 |                   1.55241  |                     83 |                   3414 |                   2.37346  |\n",
      "|  71 | cig_years               |                   5266 |                 327443 |                   1.58276  |                     91 |                   3406 |                   2.60223  |\n",
      "|  72 | colon_comorbidity       |                   5348 |                 327361 |                   1.60741  |                     95 |                   3402 |                   2.71661  |\n",
      "|  73 | thorm                   |                   5356 |                 327353 |                   1.60982  |                    109 |                   3388 |                   3.11696  |\n",
      "|  74 | sisters                 |                   5410 |                 327299 |                   1.62605  |                     92 |                   3405 |                   2.63083  |\n",
      "|  75 | lmenstr                 |                   5461 |                 327248 |                   1.64137  |                    108 |                   3389 |                   3.08836  |\n",
      "|  76 | pack_years              |                   5462 |                 327247 |                   1.64167  |                     91 |                   3406 |                   2.60223  |\n",
      "|  77 | weight_f                |                   5597 |                 327112 |                   1.68225  |                     92 |                   3405 |                   2.63083  |\n",
      "|  78 | bmi_50                  |                   5944 |                 326765 |                   1.78655  |                    106 |                   3391 |                   3.03117  |\n",
      "|  79 | bmi_50c                 |                   5944 |                 326765 |                   1.78655  |                    106 |                   3391 |                   3.03117  |\n",
      "|  80 | pipe                    |                   6028 |                 326681 |                   1.81179  |                    123 |                   3374 |                   3.5173   |\n",
      "|  81 | weight20_f              |                   6227 |                 326482 |                   1.87161  |                    110 |                   3387 |                   3.14555  |\n",
      "|  82 | bmi_curc                |                   6389 |                 326320 |                   1.9203   |                    115 |                   3382 |                   3.28853  |\n",
      "|  83 | bmi_curr                |                   6389 |                 326320 |                   1.9203   |                    115 |                   3382 |                   3.28853  |\n",
      "|  84 | cigar                   |                   6696 |                 326013 |                   2.01257  |                    135 |                   3362 |                   3.86045  |\n",
      "|  85 | bmi_20c                 |                   7006 |                 325703 |                   2.10574  |                    124 |                   3373 |                   3.5459   |\n",
      "|  86 | bmi_20                  |                   7006 |                 325703 |                   2.10574  |                    124 |                   3373 |                   3.5459   |\n",
      "|  87 | bbd                     |                   7760 |                 324949 |                   2.33237  |                    128 |                   3369 |                   3.66028  |\n",
      "|  88 | menstrs                 |                   9077 |                 323632 |                   2.72821  |                    178 |                   3319 |                   5.09008  |\n",
      "|  89 | uterine_fib             |                  10977 |                 321732 |                   3.29928  |                    165 |                   3332 |                   4.71833  |\n",
      "|  90 | hispanic_f              |                  10977 |                 321732 |                   3.29928  |                    131 |                   3366 |                   3.74607  |\n",
      "|  91 | benign_ovcyst           |                  13343 |                 319366 |                   4.01041  |                    184 |                   3313 |                   5.26165  |\n",
      "|  92 | endometriosis           |                  14082 |                 318627 |                   4.23253  |                    204 |                   3293 |                   5.83357  |\n",
      "|  93 | prega                   |                  27648 |                 305061 |                   8.30996  |                    418 |                   3079 |                  11.9531   |\n",
      "|  94 | fchilda                 |                  34146 |                 298563 |                  10.263    |                    455 |                   3042 |                  13.0112   |\n",
      "|  95 | cancer_in_next_3_years  |                  36566 |                 296143 |                  10.9904   |                     22 |                   3475 |                   0.629111 |\n",
      "|  96 | ph_any_dqx              |                  43755 |                 288954 |                  13.1511   |                   1694 |                   1803 |                  48.4415   |\n",
      "|  97 | ph_ovar_dqx             |                  43755 |                 288954 |                  13.1511   |                   1694 |                   1803 |                  48.4415   |\n",
      "|  98 | ph_any_dhq              |                  52171 |                 280538 |                  15.6807   |                    650 |                   2847 |                  18.5874   |\n",
      "|  99 | cancer_in_next_5_years  |                  71934 |                 260775 |                  21.6207   |                     78 |                   3419 |                   2.23048  |\n",
      "| 100 | ph_any_sqx              |                  81700 |                 251009 |                  24.556    |                   1176 |                   2321 |                  33.6288   |\n",
      "| 101 | cancer_in_next_10_years |                 125240 |                 207469 |                  37.6425   |                    560 |                   2937 |                  16.0137   |\n",
      "| 102 | bcontra                 |                 153395 |                 179314 |                  46.1049   |                   1895 |                   1602 |                  54.1893   |\n",
      "| 103 | ph_any_muq              |                 180849 |                 151860 |                  54.3565   |                   2495 |                   1002 |                  71.3469   |\n",
      "| 104 | ca125_result            |                 182916 |                 149793 |                  54.9778   |                   2301 |                   1196 |                  65.7993   |\n",
      "| 105 | visr                    |                 182916 |                 149793 |                  54.9778   |                   2301 |                   1196 |                  65.7993   |\n",
      "| 106 | ovar_result             |                 182916 |                 149793 |                  54.9778   |                   2301 |                   1196 |                  65.7993   |\n",
      "| 107 | visl                    |                 182916 |                 149793 |                  54.9778   |                   2301 |                   1196 |                  65.7993   |\n",
      "| 108 | numcyst                 |                 182916 |                 149793 |                  54.9778   |                   2301 |                   1196 |                  65.7993   |\n",
      "| 109 | numcystr                |                 182916 |                 149793 |                  54.9778   |                   2301 |                   1196 |                  65.7993   |\n",
      "| 110 | numcystl                |                 182916 |                 149793 |                  54.9778   |                   2301 |                   1196 |                  65.7993   |\n",
      "| 111 | ovcyst_morphr           |                 182916 |                 149793 |                  54.9778   |                   2301 |                   1196 |                  65.7993   |\n",
      "| 112 | ovcyst_morphl           |                 182916 |                 149793 |                  54.9778   |                   2301 |                   1196 |                  65.7993   |\n",
      "| 113 | ovcyst_morph            |                 182916 |                 149793 |                  54.9778   |                   2301 |                   1196 |                  65.7993   |\n",
      "| 114 | ovcyst_sum              |                 182916 |                 149793 |                  54.9778   |                   2301 |                   1196 |                  65.7993   |\n",
      "| 115 | tvu_result              |                 182916 |                 149793 |                  54.9778   |                   2301 |                   1196 |                  65.7993   |\n",
      "| 116 | ovcyst_suml             |                 182916 |                 149793 |                  54.9778   |                   2301 |                   1196 |                  65.7993   |\n",
      "| 117 | ovcyst_sumr             |                 182916 |                 149793 |                  54.9778   |                   2301 |                   1196 |                  65.7993   |\n",
      "| 118 | visboth                 |                 182916 |                 149793 |                  54.9778   |                   2301 |                   1196 |                  65.7993   |\n",
      "| 119 | viseith                 |                 182916 |                 149793 |                  54.9778   |                   2301 |                   1196 |                  65.7993   |\n",
      "| 120 | ovar_days               |                 182925 |                 149784 |                  54.9805   |                   2301 |                   1196 |                  65.7993   |\n",
      "| 121 | ca125ii_level           |                 183327 |                 149382 |                  55.1013   |                   2301 |                   1196 |                  65.7993   |\n",
      "| 122 | rsmoker_f               |                 188024 |                 144685 |                  56.513    |                   1904 |                   1593 |                  54.4467   |\n",
      "| 123 | filtered_f              |                 188151 |                 144558 |                  56.5512   |                   1904 |                   1593 |                  54.4467   |\n",
      "| 124 | smokea_f                |                 188601 |                 144108 |                  56.6865   |                   1919 |                   1578 |                  54.8756   |\n",
      "| 125 | cig_stop                |                 190013 |                 142696 |                  57.1109   |                   1912 |                   1585 |                  54.6754   |\n",
      "| 126 | tvu_ref                 |                 226994 |                 105715 |                  68.226    |                   2580 |                    917 |                  73.7775   |\n",
      "| 127 | phycons                 |                 227000 |                 105709 |                  68.2278   |                   2580 |                    917 |                  73.7775   |\n",
      "| 128 | detr_p                  |                 227422 |                 105287 |                  68.3546   |                   2584 |                    913 |                  73.8919   |\n",
      "| 129 | detl_p                  |                 227439 |                 105270 |                  68.3597   |                   2584 |                    913 |                  73.8919   |\n",
      "| 130 | hystera                 |                 243282 |                  89427 |                  73.1216   |                   2435 |                   1062 |                  69.6311   |\n",
      "| 131 | ovcyst_diam             |                 275586 |                  57123 |                  82.8309   |                   2945 |                    552 |                  84.215    |\n",
      "| 132 | ovcyst_vol              |                 275587 |                  57122 |                  82.8312   |                   2945 |                    552 |                  84.215    |\n",
      "| 133 | ovary_diam              |                 276356 |                  56353 |                  83.0624   |                   2956 |                    541 |                  84.5296   |\n",
      "| 134 | ovary_vol               |                 276357 |                  56352 |                  83.0627   |                   2956 |                    541 |                  84.5296   |\n",
      "| 135 | breast_fh_age           |                 286984 |                  45725 |                  86.2568   |                   3044 |                    453 |                  87.046    |\n",
      "| 136 | ovcyst_diamr            |                 287765 |                  44944 |                  86.4915   |                   3068 |                    429 |                  87.7323   |\n",
      "| 137 | ovcyst_volr             |                 287768 |                  44941 |                  86.4924   |                   3068 |                    429 |                  87.7323   |\n",
      "| 138 | ovary_diamr             |                 288316 |                  44393 |                  86.6571   |                   3078 |                    419 |                  88.0183   |\n",
      "| 139 | ovary_volr              |                 288320 |                  44389 |                  86.6583   |                   3078 |                    419 |                  88.0183   |\n",
      "| 140 | rlong_p                 |                 288328 |                  44381 |                  86.6607   |                   3078 |                    419 |                  88.0183   |\n",
      "| 141 | rtran_p                 |                 288328 |                  44381 |                  86.6607   |                   3078 |                    419 |                  88.0183   |\n",
      "| 142 | rantero_p               |                 288330 |                  44379 |                  86.6613   |                   3078 |                    419 |                  88.0183   |\n",
      "| 143 | rvol_p                  |                 288339 |                  44370 |                  86.664    |                   3078 |                    419 |                  88.0183   |\n",
      "| 144 | ovcyst_diaml            |                 288911 |                  43798 |                  86.8359   |                   3077 |                    420 |                  87.9897   |\n",
      "| 145 | ovcyst_voll             |                 288911 |                  43798 |                  86.8359   |                   3077 |                    420 |                  87.9897   |\n",
      "| 146 | ovary_voll              |                 289443 |                  43266 |                  86.9958   |                   3083 |                    414 |                  88.1613   |\n",
      "| 147 | ovary_diaml             |                 289444 |                  43265 |                  86.9961   |                   3083 |                    414 |                  88.1613   |\n",
      "| 148 | lantero_p               |                 289457 |                  43252 |                  87.0001   |                   3083 |                    414 |                  88.1613   |\n",
      "| 149 | llong_p                 |                 289458 |                  43251 |                  87.0004   |                   3083 |                    414 |                  88.1613   |\n",
      "| 150 | ltran_p                 |                 289458 |                  43251 |                  87.0004   |                   3083 |                    414 |                  88.1613   |\n",
      "| 151 | lvol_p                  |                 289467 |                  43242 |                  87.0031   |                   3083 |                    414 |                  88.1613   |\n",
      "| 152 | maxdi                   |                 319973 |                  12736 |                  96.172    |                   3310 |                    187 |                  94.6526   |\n",
      "| 153 | solid                   |                 319975 |                  12734 |                  96.1726   |                   3310 |                    187 |                  94.6526   |\n",
      "| 154 | echo                    |                 319977 |                  12732 |                  96.1732   |                   3310 |                    187 |                  94.6526   |\n",
      "| 155 | ovcyst_solid            |                 320007 |                  12702 |                  96.1822   |                   3310 |                    187 |                  94.6526   |\n",
      "| 156 | volum                   |                 320164 |                  12545 |                  96.2294   |                   3313 |                    184 |                  94.7383   |\n",
      "| 157 | ovarsumm_fh_age         |                 320268 |                  12441 |                  96.2607   |                   3380 |                    117 |                  96.6543   |\n",
      "| 158 | sepst                   |                 320423 |                  12286 |                  96.3073   |                   3320 |                    177 |                  94.9385   |\n",
      "| 159 | cyst                    |                 320423 |                  12286 |                  96.3073   |                   3319 |                    178 |                  94.9099   |\n",
      "| 160 | cystw                   |                 320423 |                  12286 |                  96.3073   |                   3319 |                    178 |                  94.9099   |\n",
      "| 161 | ovcyst_outline          |                 320459 |                  12250 |                  96.3181   |                   3319 |                    178 |                  94.9099   |\n",
      "| 162 | ovcyst_solidr           |                 325297 |                   7412 |                  97.7722   |                   3385 |                    112 |                  96.7973   |\n",
      "| 163 | ovcyst_outliner         |                 325578 |                   7131 |                  97.8567   |                   3389 |                    108 |                  96.9116   |\n",
      "| 164 | ovcyst_solidl           |                 325743 |                   6966 |                  97.9063   |                   3394 |                    103 |                  97.0546   |\n",
      "| 165 | ovcyst_outlinel         |                 325990 |                   6719 |                  97.9805   |                   3400 |                     97 |                  97.2262   |\n",
      "| 166 | rtran_q                 |                 328992 |                   3717 |                  98.8828   |                   3456 |                     41 |                  98.8276   |\n",
      "| 167 | rlong_q                 |                 328992 |                   3717 |                  98.8828   |                   3456 |                     41 |                  98.8276   |\n",
      "| 168 | rantero_q               |                 328992 |                   3717 |                  98.8828   |                   3456 |                     41 |                  98.8276   |\n",
      "| 169 | rvol_q                  |                 328992 |                   3717 |                  98.8828   |                   3456 |                     41 |                  98.8276   |\n",
      "| 170 | ltran_q                 |                 329120 |                   3589 |                  98.9213   |                   3462 |                     35 |                  98.9991   |\n",
      "| 171 | llong_q                 |                 329120 |                   3589 |                  98.9213   |                   3462 |                     35 |                  98.9991   |\n",
      "| 172 | lantero_q               |                 329120 |                   3589 |                  98.9213   |                   3462 |                     35 |                  98.9991   |\n",
      "| 173 | lvol_q                  |                 329124 |                   3585 |                  98.9225   |                   3462 |                     35 |                  98.9991   |\n",
      "+-----+-------------------------+------------------------+------------------------+----------------------------+------------------------+------------------------+----------------------------+\n",
      "\n",
      "\n",
      "\n",
      "+----+------------------------------------+------------------------+--------------------------+------------------------+--------------------------+\n",
      "|    | filtered_on                        |   num_records_cancer:0 |   num_unique_id_cancer:0 |   num_records_cancer:1 |   num_unique_id_cancer:1 |\n",
      "|----+------------------------------------+------------------------+--------------------------+------------------------+--------------------------|\n",
      "|  1 | Personal Data filtered on dummy: 0 |                 332709 |                    30552 |                   3497 |                      613 |\n",
      "|  0 | Personal Data total                |                 332709 |                    30552 |                   3497 |                      613 |\n",
      "+----+------------------------------------+------------------------+--------------------------+------------------------+--------------------------+\n"
     ]
    }
   ],
   "source": [
    "\n",
    "# Prints the table of missing values with columns for df filtered for each of the values of on_col\n",
    "def df_missing_val_distribution_over_col(df, on_col, cutoff_percentage, title, show_missing=True):\n",
    "    iterate_over_on_col = sorted(df[on_col].unique())\n",
    "    suffixes=[]\n",
    "    # since get_cols_missing_percentage will produce columns with the same names, we want to create suffixes to differentiate over on_col values\n",
    "    for on_col_val in iterate_over_on_col:\n",
    "        suffixes.append(f'_{on_col}_{on_col_val}')\n",
    "    # We are going to merge all of the \n",
    "    df_missing = None\n",
    "    for on_col_val in iterate_over_on_col:\n",
    "\n",
    "        df_on_col = df[df[on_col] == on_col_val]\n",
    "\n",
    "        df_missing_on_col = get_cols_missing_percentage(cutoff_percentage, df_on_col, f'{title} with {on_col}_{on_col_val}', show_missing=show_missing)\n",
    "        \n",
    "        if df_missing is not None:\n",
    "            df_missing = df_missing.merge(df_missing_on_col, on='column_name', how='inner', suffixes=suffixes)\n",
    "        else:\n",
    "            df_missing = df_missing_on_col\n",
    "    print_df(df_missing)\n",
    "\n",
    "\n",
    "def df_filter_val_distribution(sourse_df, on_col, make_unique_over_cols, name, hist=True, cutoff_percentage=0):\n",
    "    unique_vals_list = [sorted(sourse_df[make_unique_over_col].unique()) for make_unique_over_col in make_unique_over_cols]\n",
    "    unique_combinations_col_vals = get_unique_combinations(unique_vals_list)\n",
    "    num_records, num_unique = print_records_vs_unique(sourse_df, 'plco_id', name)\n",
    "    unique_combinations_col_vals = sorted(unique_combinations_col_vals)\n",
    "    unique_records = [{} for _ in range(len(unique_combinations_col_vals)+1)]\n",
    "    unique_records[0] = {\n",
    "            'filtered_on': f'{name} total'\n",
    "        }\n",
    "    \n",
    "    iterate_over_on_col = sorted(sourse_df[on_col].unique())\n",
    "    for on_col_val in iterate_over_on_col:\n",
    "        num_records, num_unique = print_records_vs_unique(sourse_df[sourse_df[on_col] == on_col_val], 'plco_id', f'{name} with {on_col}_{on_col_val}')\n",
    "        unique_records[0][f'num_records_{on_col}:{on_col_val}'] = num_records\n",
    "        unique_records[0][f'num_unique_id_{on_col}:{on_col_val}'] = num_unique\n",
    "    print()\n",
    "    print()\n",
    "    for j in range(len(unique_combinations_col_vals)):\n",
    "        unique_combination = unique_combinations_col_vals[j]\n",
    "        filter = True\n",
    "        filtered_on = ''\n",
    "        for i in range(len(make_unique_over_cols)):\n",
    "            variable_col = make_unique_over_cols[i]\n",
    "            val = unique_combination[i]\n",
    "            filter = filter & (sourse_df[variable_col] == val)\n",
    "            filtered_on += f'{variable_col}: {val} '\n",
    "        df = sourse_df[filter]\n",
    "        if len(make_unique_over_cols) > 0:\n",
    "            df = df.drop(make_unique_over_cols, axis=1)\n",
    "\n",
    "        title = f'{name} filtered on {filtered_on}'\n",
    "        print(title)\n",
    "\n",
    "        df_missing = None\n",
    "        unique_records[j+1]['filtered_on'] = title\n",
    "        for on_col_val in iterate_over_on_col:\n",
    "            df_on_col = df[df[on_col] == on_col_val]\n",
    "            num_records, num_unique = print_records_vs_unique(df_on_col, 'plco_id', f'{title} with {on_col}_{on_col_val}')\n",
    "            df_missing_on_col = get_cols_missing_percentage(cutoff_percentage, df_on_col, f'{title} with {on_col}_{on_col_val}')\n",
    "            unique_records[j+1][f'num_records_{on_col}:{on_col_val}'] = num_records\n",
    "            unique_records[j+1][f'num_unique_id_{on_col}:{on_col_val}'] = num_unique\n",
    "            if hist:\n",
    "                fig, ax = plt.subplots(1, 1, figsize=(20,15))\n",
    "                df.hist(ax=ax, bins=30)\n",
    "                plt.show()\n",
    "        df_missing_val_distribution_over_col(df, on_col, cutoff_percentage, title, show_missing=False)\n",
    "        df = impute_with_val(df, df.columns, -1)\n",
    "        print('\\n\\n')\n",
    "    print_df(pd.DataFrame(unique_records).sort_values('filtered_on'))\n",
    "\n",
    "def df_filter_val_distribution_on_cancer(source_df, make_unique_over_cols, name, hist=False, cutoff_percentage=0):\n",
    "    df_cancer = source_df[source_df['plco_id'].isin(personal_data_cancer['plco_id'])]\n",
    "    df_cancer['cancer'] = 1\n",
    "    df_no_cancer = source_df[source_df['plco_id'].isin(personal_data_no_cancer['plco_id'])]\n",
    "    df_no_cancer['cancer'] = 0\n",
    "    df = pd.concat([df_cancer, df_no_cancer], axis=0)\n",
    "    df_filter_val_distribution(df, 'cancer', make_unique_over_cols, name, hist=hist, cutoff_percentage=cutoff_percentage)\n",
    "make_unique_over_cols = ['dummy']\n",
    "df = merged_df\n",
    "df['dummy'] = 0\n",
    "df_filter_val_distribution_on_cancer(df, make_unique_over_cols, 'Personal Data', hist=False, cutoff_percentage=0)"
   ]
  },
  {
   "cell_type": "code",
   "execution_count": null,
   "metadata": {},
   "outputs": [],
   "source": [
    "classifiers = [\n",
    "    DecisionTreeClassifier(),\n",
    "    RandomForestClassifier(),\n",
    "    # GaussianNB(),\n",
    "    # XGBClassifier(),\n",
    "    # LogisticRegression(max_iter=200)\n",
    "]\n",
    "# Calculate years before cancer\n",
    "def f_score(X_train, X_test, y_train, y_test, classifiers):\n",
    "    for clf in classifiers:\n",
    "        s = time.time()\n",
    "        clf.fit(X_train,y_train)\n",
    "        y_pred = clf.predict(X_test)\n",
    "        f = f1_score(y_true=y_test,y_pred=y_pred,average=\"macro\")\n",
    "        e = time.time()\n",
    "        print(f\"Score: {round(f,3)} \\t Time(in secs): {round(e-s,3)} \\t Classifier: {clf.__class__.__name__}\")\n",
    "# f_score(X_train, X_test, y_train, y_test, classifiers)"
   ]
  },
  {
   "cell_type": "code",
   "execution_count": null,
   "metadata": {},
   "outputs": [],
   "source": [
    "def select_using_model(x,y):\n",
    "    sel = SelectFromModel(XGBClassifier())\n",
    "    sel.fit(x,y)"
   ]
  },
  {
   "cell_type": "code",
   "execution_count": null,
   "metadata": {},
   "outputs": [],
   "source": [
    "def select_using_score_func(X_train, y_train):\n",
    "    # configure to select all features\n",
    "    fs = SelectKBest(score_func=f_classif, k='all')\n",
    "    # learn relationship from training data\n",
    "    fs.fit(X_train, y_train)\n",
    "    # what are scores for the features\n",
    "    features_scores = pd.DataFrame(x.columns)\n",
    "    features_scores['scores'] = fs.scores_\n",
    "    features_scores = features_scores.sort_values('scores', ascending=False)\n",
    "    features_scores.to_csv('./feature_selection/all_features_new_cols__mean_imputed.csv')"
   ]
  },
  {
   "cell_type": "code",
   "execution_count": null,
   "metadata": {},
   "outputs": [],
   "source": []
  },
  {
   "cell_type": "code",
   "execution_count": null,
   "metadata": {},
   "outputs": [],
   "source": [
    "# Determine on which features to use mean imputation and on which ones to replace with -1"
   ]
  },
  {
   "attachments": {},
   "cell_type": "markdown",
   "metadata": {},
   "source": [
    " The initial dataset had 181 variables (Appendix 1). Variables were ranked by their F-score, which is the harmonic mean of precision and recall, with those with an F-score closest to 1.0 demonstrating high correlation with treatment success [10]. Experts in the treatment of BPH also selected variables for inclusion into the models irrespective of the F-Score, these variables, plus those with a high F-Score were selected for inclusion in initial model development.. The actual variables used by our models were a subset of these, and the number in any given fold and subgroup was dynamically determined by treating this as a hyper-parameter and tuning it as described below."
   ]
  }
 ],
 "metadata": {
  "kernelspec": {
   "display_name": "Python 3",
   "language": "python",
   "name": "python3"
  },
  "language_info": {
   "codemirror_mode": {
    "name": "ipython",
    "version": 3
   },
   "file_extension": ".py",
   "mimetype": "text/x-python",
   "name": "python",
   "nbconvert_exporter": "python",
   "pygments_lexer": "ipython3",
   "version": "3.10.4"
  },
  "orig_nbformat": 4,
  "vscode": {
   "interpreter": {
    "hash": "9b9f07f525d6131811c533cc81eafd9d7147c1a9ff2e81c94d4f0d027f94c4be"
   }
  }
 },
 "nbformat": 4,
 "nbformat_minor": 2
}

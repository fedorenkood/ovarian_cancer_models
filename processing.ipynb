{
 "cells": [
  {
   "cell_type": "code",
   "execution_count": 575,
   "metadata": {},
   "outputs": [],
   "source": [
    "from processing_functions import *\n",
    "%matplotlib inline\n",
    "import warnings\n",
    "\n",
    "warnings.filterwarnings(\"ignore\")\n"
   ]
  },
  {
   "cell_type": "code",
   "execution_count": 576,
   "metadata": {},
   "outputs": [],
   "source": [
    "# reading datasets\n",
    "personal_data = pd.read_csv('./dataset/Ovarian/ovar_data_mar22_d032222.csv')\n",
    "screen_data = pd.read_csv('./dataset/Ovarian/Screening/ovar_screen_data_mar22_d032222.csv')\n",
    "screen_abnorm_data = pd.read_csv('./dataset/Ovarian/Screening Abnormalities/ovar_scrsub_data_mar22_d032222.csv')"
   ]
  },
  {
   "attachments": {},
   "cell_type": "markdown",
   "metadata": {},
   "source": [
    "## Preprocessing\n",
    "For some of the datasets we determined some of the features to not be useful for analysis. For every dataset that includes `build` features. \n",
    "\n",
    "For personal dataset we removed all `ovar_` features since they are a direct result of the cancer diagnosis and should not be used predict cancer. \n",
    "\n",
    "For the screen data dataset it was determined that `examinerid_` features do not bring the value to the dataset since they represet 'Examiner ID made by concatentating center and exam ID for overall screen result.' and cannot be the cause of the cancer. We also drop all of the remaining"
   ]
  },
  {
   "cell_type": "code",
   "execution_count": 577,
   "metadata": {},
   "outputs": [
    {
     "name": "stdout",
     "output_type": "stream",
     "text": [
      "Number of ovar_ cols: 50\n",
      "['ovar_reasfoll', 'ovar_reassurv', 'ovar_reassymp', 'ovar_reasoth', 'ovar_cancer', 'ovar_intstat_cat', 'ovar_annyr', 'ovar_cancer_site', 'ovar_stage', 'ovar_stage_7e', 'ovar_stage_t', 'ovar_stage_n', 'ovar_stage_m', 'ovar_clinstage', 'ovar_clinstage_7e', 'ovar_clinstage_t', 'ovar_clinstage_n', 'ovar_clinstage_m', 'ovar_pathstage', 'ovar_pathstage_7e', 'ovar_pathstage_t', 'ovar_pathstage_n', 'ovar_pathstage_m', 'ovar_grade', 'ovar_topography', 'ovar_morphology', 'ovar_behavior', 'ovar_histtype', 'ovar_exitstat', 'ovar_exitage', 'ovar_seer', 'ovar_cancer_first', 'ovar_curative_surg', 'ovar_curative_chemo', 'ovar_primary_trt', 'ovar_num_heslide_imgs', 'ovar_has_deliv_heslide_img', 'ovar_exitdays', 'ovar_primary_trt_days', 'ovar_cancer_diagdays', 'ovar_mra_stat0', 'ovar_mra_stat1', 'ovar_mra_stat2', 'ovar_mra_stat3', 'ovar_mra_stat4', 'ovar_mra_stat5', 'ovar_eligible_bq', 'ovar_eligible_sqx', 'ovar_eligible_dhq', 'ovar_eligible_dqx']\n",
      "Number of mortality cols: 3\n",
      "['mortality_exitage', 'mortality_exitstat', 'mortality_exitdays']\n",
      "Number of reconsent cols: 2\n",
      "['reconsent_outcome', 'reconsent_outcome_days']\n",
      "Number of is_dead cols: 2\n",
      "['is_dead_with_cod', 'is_dead']\n",
      "Number of build cols: 4\n",
      "['build', 'build_cancers', 'build_incidence_cutoff', 'build_death_cutoff']\n",
      "Number of ca125_src cols: 5\n",
      "['ca125_src0', 'ca125_src2', 'ca125_src3', 'ca125_src4', 'ca125_src5']\n",
      "Number of ca125_days cols: 6\n",
      "['ca125_days0', 'ca125_days1', 'ca125_days2', 'ca125_days3', 'ca125_days4', 'ca125_days5']\n",
      "Number of tvu_days cols: 4\n",
      "['tvu_days0', 'tvu_days1', 'tvu_days2', 'tvu_days3']\n",
      "Number of inad_ cols: 42\n",
      "['inad_bow_p1', 'inad_bow_p2', 'inad_bow_p3', 'inad_dis_p1', 'inad_dis_p2', 'inad_dis_p3', 'inad_mal_p1', 'inad_mal_p2', 'inad_mal_p3', 'inad_probe_p1', 'inad_probe_p2', 'inad_probe_p3', 'inad_ref_p1', 'inad_ref_p2', 'inad_ref_p3', 'inad_oth_p1', 'inad_oth_p2', 'inad_oth_p3', 'inad_bow_q1', 'inad_bow_q2', 'inad_bow_q3', 'inad_dis_q1', 'inad_dis_q2', 'inad_dis_q3', 'inad_mal_q1', 'inad_mal_q2', 'inad_mal_q3', 'inad_probe_q1', 'inad_probe_q2', 'inad_probe_q3', 'inad_ref_q1', 'inad_ref_q2', 'inad_ref_q3', 'inad_oth_q1', 'inad_oth_q2', 'inad_oth_q3', 'inad_bow', 'inad_dis', 'inad_mal', 'inad_probe', 'inad_ref', 'inad_oth']\n",
      "Number of examinerid cols: 7\n",
      "['examinerid_pvis1', 'examinerid_pvis2', 'examinerid_pvis3', 'examinerid_qvis1', 'examinerid_qvis2', 'examinerid_qvis3', 'examinerid']\n",
      "Number of build cols: 3\n",
      "['build', 'build_cancers', 'build_incidence_cutoff']\n",
      "Number of build cols: 3\n",
      "['build', 'build_cancers', 'build_incidence_cutoff']\n"
     ]
    }
   ],
   "source": [
    "# Drop profy features\n",
    "proxy_features_personal_dataset = [\n",
    "    'fstcan_exitdays', # Days from trial entry (randomization) to first cancer diagnosis for participants with cancer, or to trial exit otherwise. Only cancers occuring during the trial are used to determine exit.\n",
    "    'fstcan_exitstat', # Status of the participant at exit for first cancer incidence. Only cancers occuring during the trial are used to determine exit.\n",
    "    'fstcan_exitage',\n",
    "    'f_dthovar', # Is ovarian cancer the underlying cause of death? This conclusion is based on the information from the death certificate and death review.\n",
    "    'f_codeath_cat', # Categorized underlying cause of death.\n",
    "    'f_cancersite', # Underlying cause of death from cancer.\n",
    "    'f_seer_death', # Underlying cause of death.\n",
    "    'd_codeath_cat', # Categorized underlying cause of death.\n",
    "    'd_dthovar', # Is Ovarian Cancer The Underlying Cause Of Death?\n",
    "    'd_cancersite', # \n",
    "    'd_seer_death', # Underlying cause of death.\n",
    "    'ph_ovar_muq', # Did the participant have a personal history of ovarian/ft/pt cancer prior to MUQ analysis entry? \n",
    "    'ph_ovar_sqx', # \n",
    "    'entrydays_muq', # \n",
    "    'ca125_src1', # \n",
    "    'ph_ovar_dhq', # \n",
    "    'dth_days', # \n",
    "    'bq_compdays',\n",
    "    'bq_adminm',\n",
    "    'bq_returned',\n",
    "    'ssmokea_f',\n",
    "    'orem_fyro',\n",
    "    'arm',\n",
    "    ]\n",
    "\n",
    "proxy_features_screen_dataset = [\n",
    "    'QAMETHOD',\n",
    "    'tvudays_pvis1',\n",
    "    'tvudays_pvis2',\n",
    "    'tvudays_pvis3',\n",
    "    'tvures_qvis1',\n",
    "    'tvures_qvis2',\n",
    "    'tvures_qvis3',\n",
    "    'tvu_assess_days_q',\n",
    "    'ca125ii_src', # \n",
    "    'medcomp', # \n",
    "    'ca125_src', # \n",
    "    'tvures_pvis3', # It is completely missing for non-cancer patients\n",
    "    'physid',\n",
    "    'detl_q',\n",
    "    'detr_q',\n",
    "    'ca125i_assess_days',\n",
    "]\n",
    "\n",
    "personal_data = personal_data.drop(proxy_features_personal_dataset, axis=1)\n",
    "screen_data = screen_data.drop(proxy_features_screen_dataset, axis=1)\n",
    "\n",
    "# Remove all ovar_ features\n",
    "personal_data = remove_featues_startswith(personal_data, ['ovar_', 'mortality', 'reconsent', 'is_dead', 'build', 'ca125_src', 'ca125_days', 'tvu_days'], ['ovar_cancer', 'ovar_cancer_diagdays'])\n",
    "\n",
    "# Remove all inad_ and examinerid_ and build_ features\n",
    "screen_data = remove_featues_startswith(screen_data, ['inad_', 'examinerid', 'build'])\n",
    "\n",
    "# Drop not useful cols and convert categorical into numerical in screen abnormalities\n",
    "screen_abnorm_data = remove_featues_startswith(screen_abnorm_data, ['build'])"
   ]
  },
  {
   "cell_type": "code",
   "execution_count": 578,
   "metadata": {},
   "outputs": [
    {
     "name": "stdout",
     "output_type": "stream",
     "text": [
      "Num of records in personal dataset: 78209\n",
      "Num of unique plco_id in personal dataset: 78209\n",
      "Num of patients with cancer: 613\n",
      "Num of patients without cancer: 77596\n"
     ]
    }
   ],
   "source": [
    "print_records_vs_unique(personal_data, 'plco_id', 'personal')\n",
    "# Check the number of people with cancer\n",
    "personal_data_cancer = personal_data[personal_data['ovar_cancer']==1]\n",
    "print(f\"Num of patients with cancer: {len(personal_data_cancer)}\")\n",
    "# Check the number of people without cancer\n",
    "personal_data_no_cancer = personal_data[personal_data['ovar_cancer']==0]\n",
    "print(f\"Num of patients without cancer: {len(personal_data_no_cancer)}\")"
   ]
  },
  {
   "attachments": {},
   "cell_type": "markdown",
   "metadata": {},
   "source": [
    "## Merging data into features and mean imputing"
   ]
  },
  {
   "attachments": {},
   "cell_type": "markdown",
   "metadata": {},
   "source": [
    "\n",
    "## `TODO:` should we mean impute before and after or just after? Also, should we use labeled imputation?"
   ]
  },
  {
   "attachments": {},
   "cell_type": "markdown",
   "metadata": {},
   "source": [
    "`TODO:` select most recent feature for abnormalities. Select largest feature for side"
   ]
  },
  {
   "attachments": {},
   "cell_type": "markdown",
   "metadata": {},
   "source": [
    "Deciding which patients will be in training vs test set to learn the mean imputation parameters.\n",
    "\n",
    "Mean imputation: https://www.kaggle.com/general/226554"
   ]
  },
  {
   "cell_type": "code",
   "execution_count": 579,
   "metadata": {},
   "outputs": [],
   "source": [
    "# X_train, X_test, y_train, y_test = train_test_split(personal_data['plco_id'], personal_data['ovar_cancer'], test_size = 0.2, random_state = 42)"
   ]
  },
  {
   "cell_type": "code",
   "execution_count": 580,
   "metadata": {},
   "outputs": [],
   "source": [
    "def labeled_mean_impute(df, label_df, columns, id_col, label_col):\n",
    "    label_dict = {}\n",
    "    df_list = []\n",
    "    for label in sorted(label_df[label_col].unique()):\n",
    "        label_dict[label] = label_df[label_df[label_col] == label][id_col].to_list()\n",
    "\n",
    "    for label, id_list in label_dict.items():\n",
    "        filtered_df = df[df[id_col].isin(id_list)]\n",
    "        for col in columns:\n",
    "            filtered_df[col] = filtered_df[col].fillna(filtered_df[col].mean())\n",
    "        df_list.append(filtered_df)\n",
    "\n",
    "    return pd.concat(df_list, axis=0)"
   ]
  },
  {
   "cell_type": "code",
   "execution_count": 581,
   "metadata": {},
   "outputs": [],
   "source": [
    "# personal_data = labeled_mean_impute(personal_data, personal_data, select_numeric_columns(personal_data), id_col='plco_id', label_col='ovar_cancer')"
   ]
  },
  {
   "attachments": {},
   "cell_type": "markdown",
   "metadata": {},
   "source": [
    "To predict whether person will get cancer in the next 1, 3, 5, 10 years we need to determine what feature describes when person got cancer. In our case that features is `ovar_cancer_diagdays`. We are going to use that feature in the following manner: we are going to have a sliding window to determine whether the person gets cancer withing the period of that window. Then, we are going to slide that window by one year and determine a new batch of people who are going to get cancer in that window and so on. For each of the features that are measured across multiple years we only going to use a record that is at the beginning of the interval. "
   ]
  },
  {
   "attachments": {},
   "cell_type": "markdown",
   "metadata": {},
   "source": [
    "Since `ovar_cancer_diagdays` is described in days and we are concerned about the years when people will get cancer we need to convert this feature into years. Since people got cancer from year 1 to year 19, we are going to bucket it into 19 buckets corresponding to year when person got cancer. "
   ]
  },
  {
   "cell_type": "code",
   "execution_count": 582,
   "metadata": {},
   "outputs": [
    {
     "name": "stdout",
     "output_type": "stream",
     "text": [
      "Max value of ovar_cancer_diagdays in years is 18.89041095890411\n"
     ]
    }
   ],
   "source": [
    "ovar_cancer_diagdays_range = personal_data['ovar_cancer_diagdays'].max() / 365\n",
    "print(f'Max value of ovar_cancer_diagdays in years is {ovar_cancer_diagdays_range}')\n"
   ]
  },
  {
   "cell_type": "code",
   "execution_count": 583,
   "metadata": {},
   "outputs": [],
   "source": [
    "personal_data['ovar_cancer_years'] = pd.cut(personal_data['ovar_cancer_diagdays'], bins=19, labels=list(range(0, 19)), include_lowest=True)\n",
    "personal_data['ovar_cancer_years'] = pd.to_numeric(personal_data['ovar_cancer_years'])"
   ]
  },
  {
   "attachments": {},
   "cell_type": "markdown",
   "metadata": {},
   "source": [
    "We can also set every healthy persons '`ovar_cancer_years`' to 100 so that it is easier to filter them"
   ]
  },
  {
   "cell_type": "code",
   "execution_count": 584,
   "metadata": {},
   "outputs": [],
   "source": [
    "personal_data['ovar_cancer_years'] = personal_data['ovar_cancer_years'].fillna(100)"
   ]
  },
  {
   "cell_type": "code",
   "execution_count": 585,
   "metadata": {},
   "outputs": [],
   "source": [
    "# personal_data[(personal_data['ovar_cancer_diagdays'] > 365) & (personal_data['ovar_cancer_diagdays'] < 400)][['ovar_cancer_years', 'ovar_cancer_diagdays']]"
   ]
  },
  {
   "attachments": {},
   "cell_type": "markdown",
   "metadata": {},
   "source": [
    "When merging abnormalities dataset we are going to keep each record for each `study_yr`, select the latest `VISIT` if there are multiple and take the largest value of each column over all of the remaining records. "
   ]
  },
  {
   "attachments": {},
   "cell_type": "markdown",
   "metadata": {},
   "source": [
    "`TODO:` merge ca125 and ca125ii\n",
    "\n",
    "`TODO:` bucket age by 3 or 5 years"
   ]
  },
  {
   "cell_type": "code",
   "execution_count": 648,
   "metadata": {},
   "outputs": [],
   "source": [
    "def merge_data_over_years(person_df, screen_df, abnorm_df, screen_join='left', abrorm_join='left'):\n",
    "    on_col = 'ovar_cancer_years'\n",
    "    # Select max data for each of the features in the abnorm_df, while varied over plco_id and study_yr\n",
    "    abnorm_df = abnorm_df.groupby(['plco_id', 'study_yr'], as_index=False).max()\n",
    "    df_list = []\n",
    "    df_final = pd.DataFrame()\n",
    "    for base_year in range(0, 18):\n",
    "        df = person_df\n",
    "        # individuals who got cancer before the beginning of this window should not be included in the current window\n",
    "        df = df[df[on_col] >= base_year]\n",
    "        # TODO: increment certain features by base year\n",
    "        # If base year is 0 through 5 we have data on the scan performed on that year, so we can attach that data\n",
    "        if base_year <= 5: \n",
    "            df = df.merge(screen_df[screen_df['study_yr'] == base_year], how=screen_join)\n",
    "        # If base year is 0 through 53 we have data on the abnormality on that year, so we can attach that data\n",
    "        if base_year <= 3: \n",
    "            filtered_abnorm = abnorm_df[abnorm_df['study_yr'] == base_year]\n",
    "            df = df.merge(filtered_abnorm, how=abrorm_join)\n",
    "        # Assign new labels whether people will get cancer withing next 1, 3, 5, 10 years based on the current data\n",
    "        for window_size in [1, 3, 5, 10]:\n",
    "            if base_year + window_size >= 20:\n",
    "                continue\n",
    "            label_feature = f'cancer_in_next_{window_size}_years'\n",
    "            df.loc[df[df[on_col] >= base_year + window_size].index, label_feature] = 0\n",
    "            # df[label_feature] = 0\n",
    "            index = df[df[on_col] < base_year + window_size].index\n",
    "            df.loc[index, label_feature] = 1\n",
    "            # TODO: can I do this?\n",
    "            # df = df[df[label_feature].notnull()]\n",
    "        df_final = pd.concat([df_final, df])\n",
    "        df_final = df_final.drop_duplicates()\n",
    "    return df_final\n"
   ]
  },
  {
   "cell_type": "code",
   "execution_count": 649,
   "metadata": {},
   "outputs": [],
   "source": [
    "abnorm_filtered = screen_abnorm_data.drop(['side', 'source', 'VISIT', 'sbcd'], axis=1)\n",
    "personal_filtered = personal_data.drop(['ovar_cancer_diagdays'], axis=1)\n",
    "merged_df = merge_data_over_years(personal_filtered, screen_data, abnorm_filtered, screen_join='left', abrorm_join='left')"
   ]
  },
  {
   "cell_type": "code",
   "execution_count": 637,
   "metadata": {},
   "outputs": [],
   "source": [
    "ca125_df = merged_df[['plco_id'] + [col for col in merged_df.columns if 'ca125' in col]]\n",
    "# ca125_df.hist(figsize=(20,15));"
   ]
  },
  {
   "cell_type": "code",
   "execution_count": 655,
   "metadata": {},
   "outputs": [
    {
     "data": {
      "text/html": [
       "<div>\n",
       "<style scoped>\n",
       "    .dataframe tbody tr th:only-of-type {\n",
       "        vertical-align: middle;\n",
       "    }\n",
       "\n",
       "    .dataframe tbody tr th {\n",
       "        vertical-align: top;\n",
       "    }\n",
       "\n",
       "    .dataframe thead th {\n",
       "        text-align: right;\n",
       "    }\n",
       "</style>\n",
       "<table border=\"1\" class=\"dataframe\">\n",
       "  <thead>\n",
       "    <tr style=\"text-align: right;\">\n",
       "      <th></th>\n",
       "      <th>plco_id</th>\n",
       "      <th>ca125_result0</th>\n",
       "      <th>ca125_result1</th>\n",
       "      <th>ca125_result2</th>\n",
       "      <th>ca125_result3</th>\n",
       "      <th>ca125_result4</th>\n",
       "      <th>ca125_result5</th>\n",
       "      <th>ca125_level0</th>\n",
       "      <th>ca125_level1</th>\n",
       "      <th>ca125_level2</th>\n",
       "      <th>...</th>\n",
       "      <th>ca125ii_level2</th>\n",
       "      <th>ca125ii_level3</th>\n",
       "      <th>ca125ii_level4</th>\n",
       "      <th>ca125ii_level5</th>\n",
       "      <th>ca125_prot</th>\n",
       "      <th>ca125_history</th>\n",
       "      <th>ca125_level</th>\n",
       "      <th>ca125_result</th>\n",
       "      <th>ca125_days</th>\n",
       "      <th>ca125ii_assess_days</th>\n",
       "    </tr>\n",
       "  </thead>\n",
       "  <tbody>\n",
       "    <tr>\n",
       "      <th>0</th>\n",
       "      <td>A-001799-8</td>\n",
       "      <td>NaN</td>\n",
       "      <td>NaN</td>\n",
       "      <td>NaN</td>\n",
       "      <td>NaN</td>\n",
       "      <td>NaN</td>\n",
       "      <td>NaN</td>\n",
       "      <td>NaN</td>\n",
       "      <td>NaN</td>\n",
       "      <td>NaN</td>\n",
       "      <td>...</td>\n",
       "      <td>NaN</td>\n",
       "      <td>NaN</td>\n",
       "      <td>NaN</td>\n",
       "      <td>NaN</td>\n",
       "      <td>NaN</td>\n",
       "      <td>0.0</td>\n",
       "      <td>NaN</td>\n",
       "      <td>NaN</td>\n",
       "      <td>NaN</td>\n",
       "      <td>NaN</td>\n",
       "    </tr>\n",
       "    <tr>\n",
       "      <th>1</th>\n",
       "      <td>A-001889-7</td>\n",
       "      <td>NaN</td>\n",
       "      <td>NaN</td>\n",
       "      <td>NaN</td>\n",
       "      <td>NaN</td>\n",
       "      <td>NaN</td>\n",
       "      <td>NaN</td>\n",
       "      <td>NaN</td>\n",
       "      <td>NaN</td>\n",
       "      <td>NaN</td>\n",
       "      <td>...</td>\n",
       "      <td>NaN</td>\n",
       "      <td>NaN</td>\n",
       "      <td>NaN</td>\n",
       "      <td>NaN</td>\n",
       "      <td>NaN</td>\n",
       "      <td>0.0</td>\n",
       "      <td>NaN</td>\n",
       "      <td>NaN</td>\n",
       "      <td>NaN</td>\n",
       "      <td>NaN</td>\n",
       "    </tr>\n",
       "    <tr>\n",
       "      <th>2</th>\n",
       "      <td>A-001898-8</td>\n",
       "      <td>NaN</td>\n",
       "      <td>NaN</td>\n",
       "      <td>NaN</td>\n",
       "      <td>NaN</td>\n",
       "      <td>NaN</td>\n",
       "      <td>NaN</td>\n",
       "      <td>NaN</td>\n",
       "      <td>NaN</td>\n",
       "      <td>NaN</td>\n",
       "      <td>...</td>\n",
       "      <td>NaN</td>\n",
       "      <td>NaN</td>\n",
       "      <td>NaN</td>\n",
       "      <td>NaN</td>\n",
       "      <td>NaN</td>\n",
       "      <td>0.0</td>\n",
       "      <td>NaN</td>\n",
       "      <td>NaN</td>\n",
       "      <td>NaN</td>\n",
       "      <td>NaN</td>\n",
       "    </tr>\n",
       "    <tr>\n",
       "      <th>3</th>\n",
       "      <td>A-001979-6</td>\n",
       "      <td>1.0</td>\n",
       "      <td>1.0</td>\n",
       "      <td>1.0</td>\n",
       "      <td>1.0</td>\n",
       "      <td>1.0</td>\n",
       "      <td>1.0</td>\n",
       "      <td>12.0</td>\n",
       "      <td>12.0</td>\n",
       "      <td>11.0</td>\n",
       "      <td>...</td>\n",
       "      <td>11.0</td>\n",
       "      <td>15.0</td>\n",
       "      <td>11.0</td>\n",
       "      <td>12.0</td>\n",
       "      <td>3.0</td>\n",
       "      <td>0.0</td>\n",
       "      <td>NaN</td>\n",
       "      <td>NaN</td>\n",
       "      <td>NaN</td>\n",
       "      <td>NaN</td>\n",
       "    </tr>\n",
       "    <tr>\n",
       "      <th>3</th>\n",
       "      <td>A-001979-6</td>\n",
       "      <td>1.0</td>\n",
       "      <td>1.0</td>\n",
       "      <td>1.0</td>\n",
       "      <td>1.0</td>\n",
       "      <td>1.0</td>\n",
       "      <td>1.0</td>\n",
       "      <td>12.0</td>\n",
       "      <td>12.0</td>\n",
       "      <td>11.0</td>\n",
       "      <td>...</td>\n",
       "      <td>11.0</td>\n",
       "      <td>15.0</td>\n",
       "      <td>11.0</td>\n",
       "      <td>12.0</td>\n",
       "      <td>3.0</td>\n",
       "      <td>0.0</td>\n",
       "      <td>11.0</td>\n",
       "      <td>1.0</td>\n",
       "      <td>1463.0</td>\n",
       "      <td>1471.0</td>\n",
       "    </tr>\n",
       "    <tr>\n",
       "      <th>...</th>\n",
       "      <td>...</td>\n",
       "      <td>...</td>\n",
       "      <td>...</td>\n",
       "      <td>...</td>\n",
       "      <td>...</td>\n",
       "      <td>...</td>\n",
       "      <td>...</td>\n",
       "      <td>...</td>\n",
       "      <td>...</td>\n",
       "      <td>...</td>\n",
       "      <td>...</td>\n",
       "      <td>...</td>\n",
       "      <td>...</td>\n",
       "      <td>...</td>\n",
       "      <td>...</td>\n",
       "      <td>...</td>\n",
       "      <td>...</td>\n",
       "      <td>...</td>\n",
       "      <td>...</td>\n",
       "      <td>...</td>\n",
       "      <td>...</td>\n",
       "    </tr>\n",
       "    <tr>\n",
       "      <th>78205</th>\n",
       "      <td>Z-162259-8</td>\n",
       "      <td>NaN</td>\n",
       "      <td>NaN</td>\n",
       "      <td>NaN</td>\n",
       "      <td>NaN</td>\n",
       "      <td>NaN</td>\n",
       "      <td>NaN</td>\n",
       "      <td>NaN</td>\n",
       "      <td>NaN</td>\n",
       "      <td>NaN</td>\n",
       "      <td>...</td>\n",
       "      <td>NaN</td>\n",
       "      <td>NaN</td>\n",
       "      <td>NaN</td>\n",
       "      <td>NaN</td>\n",
       "      <td>NaN</td>\n",
       "      <td>0.0</td>\n",
       "      <td>NaN</td>\n",
       "      <td>NaN</td>\n",
       "      <td>NaN</td>\n",
       "      <td>NaN</td>\n",
       "    </tr>\n",
       "    <tr>\n",
       "      <th>78206</th>\n",
       "      <td>Z-162286-1</td>\n",
       "      <td>8.0</td>\n",
       "      <td>1.0</td>\n",
       "      <td>8.0</td>\n",
       "      <td>8.0</td>\n",
       "      <td>8.0</td>\n",
       "      <td>8.0</td>\n",
       "      <td>NaN</td>\n",
       "      <td>13.0</td>\n",
       "      <td>NaN</td>\n",
       "      <td>...</td>\n",
       "      <td>NaN</td>\n",
       "      <td>NaN</td>\n",
       "      <td>NaN</td>\n",
       "      <td>NaN</td>\n",
       "      <td>3.0</td>\n",
       "      <td>3.0</td>\n",
       "      <td>NaN</td>\n",
       "      <td>NaN</td>\n",
       "      <td>NaN</td>\n",
       "      <td>NaN</td>\n",
       "    </tr>\n",
       "    <tr>\n",
       "      <th>78154</th>\n",
       "      <td>Z-162286-1</td>\n",
       "      <td>8.0</td>\n",
       "      <td>1.0</td>\n",
       "      <td>8.0</td>\n",
       "      <td>8.0</td>\n",
       "      <td>8.0</td>\n",
       "      <td>8.0</td>\n",
       "      <td>NaN</td>\n",
       "      <td>13.0</td>\n",
       "      <td>NaN</td>\n",
       "      <td>...</td>\n",
       "      <td>NaN</td>\n",
       "      <td>NaN</td>\n",
       "      <td>NaN</td>\n",
       "      <td>NaN</td>\n",
       "      <td>3.0</td>\n",
       "      <td>3.0</td>\n",
       "      <td>13.0</td>\n",
       "      <td>1.0</td>\n",
       "      <td>367.0</td>\n",
       "      <td>378.0</td>\n",
       "    </tr>\n",
       "    <tr>\n",
       "      <th>78207</th>\n",
       "      <td>Z-162367-9</td>\n",
       "      <td>NaN</td>\n",
       "      <td>NaN</td>\n",
       "      <td>NaN</td>\n",
       "      <td>NaN</td>\n",
       "      <td>NaN</td>\n",
       "      <td>NaN</td>\n",
       "      <td>NaN</td>\n",
       "      <td>NaN</td>\n",
       "      <td>NaN</td>\n",
       "      <td>...</td>\n",
       "      <td>NaN</td>\n",
       "      <td>NaN</td>\n",
       "      <td>NaN</td>\n",
       "      <td>NaN</td>\n",
       "      <td>NaN</td>\n",
       "      <td>0.0</td>\n",
       "      <td>NaN</td>\n",
       "      <td>NaN</td>\n",
       "      <td>NaN</td>\n",
       "      <td>NaN</td>\n",
       "    </tr>\n",
       "    <tr>\n",
       "      <th>78208</th>\n",
       "      <td>Z-162376-0</td>\n",
       "      <td>NaN</td>\n",
       "      <td>NaN</td>\n",
       "      <td>NaN</td>\n",
       "      <td>NaN</td>\n",
       "      <td>NaN</td>\n",
       "      <td>NaN</td>\n",
       "      <td>NaN</td>\n",
       "      <td>NaN</td>\n",
       "      <td>NaN</td>\n",
       "      <td>...</td>\n",
       "      <td>NaN</td>\n",
       "      <td>NaN</td>\n",
       "      <td>NaN</td>\n",
       "      <td>NaN</td>\n",
       "      <td>NaN</td>\n",
       "      <td>0.0</td>\n",
       "      <td>NaN</td>\n",
       "      <td>NaN</td>\n",
       "      <td>NaN</td>\n",
       "      <td>NaN</td>\n",
       "    </tr>\n",
       "  </tbody>\n",
       "</table>\n",
       "<p>229082 rows × 25 columns</p>\n",
       "</div>"
      ],
      "text/plain": [
       "          plco_id  ca125_result0  ca125_result1  ca125_result2  ca125_result3  \\\n",
       "0      A-001799-8            NaN            NaN            NaN            NaN   \n",
       "1      A-001889-7            NaN            NaN            NaN            NaN   \n",
       "2      A-001898-8            NaN            NaN            NaN            NaN   \n",
       "3      A-001979-6            1.0            1.0            1.0            1.0   \n",
       "3      A-001979-6            1.0            1.0            1.0            1.0   \n",
       "...           ...            ...            ...            ...            ...   \n",
       "78205  Z-162259-8            NaN            NaN            NaN            NaN   \n",
       "78206  Z-162286-1            8.0            1.0            8.0            8.0   \n",
       "78154  Z-162286-1            8.0            1.0            8.0            8.0   \n",
       "78207  Z-162367-9            NaN            NaN            NaN            NaN   \n",
       "78208  Z-162376-0            NaN            NaN            NaN            NaN   \n",
       "\n",
       "       ca125_result4  ca125_result5  ca125_level0  ca125_level1  ca125_level2  \\\n",
       "0                NaN            NaN           NaN           NaN           NaN   \n",
       "1                NaN            NaN           NaN           NaN           NaN   \n",
       "2                NaN            NaN           NaN           NaN           NaN   \n",
       "3                1.0            1.0          12.0          12.0          11.0   \n",
       "3                1.0            1.0          12.0          12.0          11.0   \n",
       "...              ...            ...           ...           ...           ...   \n",
       "78205            NaN            NaN           NaN           NaN           NaN   \n",
       "78206            8.0            8.0           NaN          13.0           NaN   \n",
       "78154            8.0            8.0           NaN          13.0           NaN   \n",
       "78207            NaN            NaN           NaN           NaN           NaN   \n",
       "78208            NaN            NaN           NaN           NaN           NaN   \n",
       "\n",
       "       ...  ca125ii_level2  ca125ii_level3  ca125ii_level4  ca125ii_level5  \\\n",
       "0      ...             NaN             NaN             NaN             NaN   \n",
       "1      ...             NaN             NaN             NaN             NaN   \n",
       "2      ...             NaN             NaN             NaN             NaN   \n",
       "3      ...            11.0            15.0            11.0            12.0   \n",
       "3      ...            11.0            15.0            11.0            12.0   \n",
       "...    ...             ...             ...             ...             ...   \n",
       "78205  ...             NaN             NaN             NaN             NaN   \n",
       "78206  ...             NaN             NaN             NaN             NaN   \n",
       "78154  ...             NaN             NaN             NaN             NaN   \n",
       "78207  ...             NaN             NaN             NaN             NaN   \n",
       "78208  ...             NaN             NaN             NaN             NaN   \n",
       "\n",
       "       ca125_prot  ca125_history  ca125_level  ca125_result  ca125_days  \\\n",
       "0             NaN            0.0          NaN           NaN         NaN   \n",
       "1             NaN            0.0          NaN           NaN         NaN   \n",
       "2             NaN            0.0          NaN           NaN         NaN   \n",
       "3             3.0            0.0          NaN           NaN         NaN   \n",
       "3             3.0            0.0         11.0           1.0      1463.0   \n",
       "...           ...            ...          ...           ...         ...   \n",
       "78205         NaN            0.0          NaN           NaN         NaN   \n",
       "78206         3.0            3.0          NaN           NaN         NaN   \n",
       "78154         3.0            3.0         13.0           1.0       367.0   \n",
       "78207         NaN            0.0          NaN           NaN         NaN   \n",
       "78208         NaN            0.0          NaN           NaN         NaN   \n",
       "\n",
       "       ca125ii_assess_days  \n",
       "0                      NaN  \n",
       "1                      NaN  \n",
       "2                      NaN  \n",
       "3                      NaN  \n",
       "3                   1471.0  \n",
       "...                    ...  \n",
       "78205                  NaN  \n",
       "78206                  NaN  \n",
       "78154                378.0  \n",
       "78207                  NaN  \n",
       "78208                  NaN  \n",
       "\n",
       "[229082 rows x 25 columns]"
      ]
     },
     "execution_count": 655,
     "metadata": {},
     "output_type": "execute_result"
    }
   ],
   "source": [
    "ca125_df.sort_values('plco_id').drop_duplicates()"
   ]
  },
  {
   "cell_type": "code",
   "execution_count": 638,
   "metadata": {},
   "outputs": [
    {
     "data": {
      "text/plain": [
       "Index(['plco_id', 'ca125_result0', 'ca125_result1', 'ca125_result2',\n",
       "       'ca125_result3', 'ca125_result4', 'ca125_result5', 'ca125_level0',\n",
       "       'ca125_level1', 'ca125_level2', 'ca125_level3', 'ca125_level4',\n",
       "       'ca125_level5', 'ca125ii_level0', 'ca125ii_level1', 'ca125ii_level2',\n",
       "       'ca125ii_level3', 'ca125ii_level4', 'ca125ii_level5', 'ca125_prot',\n",
       "       'ca125_history', 'ca125_level', 'ca125_result', 'ca125_days',\n",
       "       'ca125ii_assess_days'],\n",
       "      dtype='object')"
      ]
     },
     "execution_count": 638,
     "metadata": {},
     "output_type": "execute_result"
    }
   ],
   "source": [
    "ca125_df.columns"
   ]
  },
  {
   "cell_type": "code",
   "execution_count": null,
   "metadata": {},
   "outputs": [],
   "source": [
    "merged_df"
   ]
  },
  {
   "cell_type": "code",
   "execution_count": 636,
   "metadata": {},
   "outputs": [
    {
     "ename": "KeyError",
     "evalue": "\"['ca125ii_level'] not in index\"",
     "output_type": "error",
     "traceback": [
      "\u001b[1;31m---------------------------------------------------------------------------\u001b[0m",
      "\u001b[1;31mKeyError\u001b[0m                                  Traceback (most recent call last)",
      "\u001b[1;32mc:\\Data\\coding_projects\\ovarian_cancer_models\\processing.ipynb Cell 26\u001b[0m in \u001b[0;36m<cell line: 1>\u001b[1;34m()\u001b[0m\n\u001b[1;32m----> <a href='vscode-notebook-cell:/c%3A/Data/coding_projects/ovarian_cancer_models/processing.ipynb#Y143sZmlsZQ%3D%3D?line=0'>1</a>\u001b[0m ca125_level0_df \u001b[39m=\u001b[39m merged_df[[\u001b[39m'\u001b[39;49m\u001b[39mplco_id\u001b[39;49m\u001b[39m'\u001b[39;49m, \u001b[39m'\u001b[39;49m\u001b[39mca125_level\u001b[39;49m\u001b[39m'\u001b[39;49m, \u001b[39m'\u001b[39;49m\u001b[39mca125ii_level\u001b[39;49m\u001b[39m'\u001b[39;49m]]\u001b[39m.\u001b[39mdrop_duplicates()\n\u001b[0;32m      <a href='vscode-notebook-cell:/c%3A/Data/coding_projects/ovarian_cancer_models/processing.ipynb#Y143sZmlsZQ%3D%3D?line=1'>2</a>\u001b[0m print_df(ca125_level0_df)\n",
      "File \u001b[1;32mc:\\Users\\fedor\\AppData\\Local\\Programs\\Python\\Python310\\lib\\site-packages\\pandas\\core\\frame.py:3511\u001b[0m, in \u001b[0;36mDataFrame.__getitem__\u001b[1;34m(self, key)\u001b[0m\n\u001b[0;32m   3509\u001b[0m     \u001b[39mif\u001b[39;00m is_iterator(key):\n\u001b[0;32m   3510\u001b[0m         key \u001b[39m=\u001b[39m \u001b[39mlist\u001b[39m(key)\n\u001b[1;32m-> 3511\u001b[0m     indexer \u001b[39m=\u001b[39m \u001b[39mself\u001b[39;49m\u001b[39m.\u001b[39;49mcolumns\u001b[39m.\u001b[39;49m_get_indexer_strict(key, \u001b[39m\"\u001b[39;49m\u001b[39mcolumns\u001b[39;49m\u001b[39m\"\u001b[39;49m)[\u001b[39m1\u001b[39m]\n\u001b[0;32m   3513\u001b[0m \u001b[39m# take() does not accept boolean indexers\u001b[39;00m\n\u001b[0;32m   3514\u001b[0m \u001b[39mif\u001b[39;00m \u001b[39mgetattr\u001b[39m(indexer, \u001b[39m\"\u001b[39m\u001b[39mdtype\u001b[39m\u001b[39m\"\u001b[39m, \u001b[39mNone\u001b[39;00m) \u001b[39m==\u001b[39m \u001b[39mbool\u001b[39m:\n",
      "File \u001b[1;32mc:\\Users\\fedor\\AppData\\Local\\Programs\\Python\\Python310\\lib\\site-packages\\pandas\\core\\indexes\\base.py:5782\u001b[0m, in \u001b[0;36mIndex._get_indexer_strict\u001b[1;34m(self, key, axis_name)\u001b[0m\n\u001b[0;32m   5779\u001b[0m \u001b[39melse\u001b[39;00m:\n\u001b[0;32m   5780\u001b[0m     keyarr, indexer, new_indexer \u001b[39m=\u001b[39m \u001b[39mself\u001b[39m\u001b[39m.\u001b[39m_reindex_non_unique(keyarr)\n\u001b[1;32m-> 5782\u001b[0m \u001b[39mself\u001b[39;49m\u001b[39m.\u001b[39;49m_raise_if_missing(keyarr, indexer, axis_name)\n\u001b[0;32m   5784\u001b[0m keyarr \u001b[39m=\u001b[39m \u001b[39mself\u001b[39m\u001b[39m.\u001b[39mtake(indexer)\n\u001b[0;32m   5785\u001b[0m \u001b[39mif\u001b[39;00m \u001b[39misinstance\u001b[39m(key, Index):\n\u001b[0;32m   5786\u001b[0m     \u001b[39m# GH 42790 - Preserve name from an Index\u001b[39;00m\n",
      "File \u001b[1;32mc:\\Users\\fedor\\AppData\\Local\\Programs\\Python\\Python310\\lib\\site-packages\\pandas\\core\\indexes\\base.py:5845\u001b[0m, in \u001b[0;36mIndex._raise_if_missing\u001b[1;34m(self, key, indexer, axis_name)\u001b[0m\n\u001b[0;32m   5842\u001b[0m     \u001b[39mraise\u001b[39;00m \u001b[39mKeyError\u001b[39;00m(\u001b[39mf\u001b[39m\u001b[39m\"\u001b[39m\u001b[39mNone of [\u001b[39m\u001b[39m{\u001b[39;00mkey\u001b[39m}\u001b[39;00m\u001b[39m] are in the [\u001b[39m\u001b[39m{\u001b[39;00maxis_name\u001b[39m}\u001b[39;00m\u001b[39m]\u001b[39m\u001b[39m\"\u001b[39m)\n\u001b[0;32m   5844\u001b[0m not_found \u001b[39m=\u001b[39m \u001b[39mlist\u001b[39m(ensure_index(key)[missing_mask\u001b[39m.\u001b[39mnonzero()[\u001b[39m0\u001b[39m]]\u001b[39m.\u001b[39munique())\n\u001b[1;32m-> 5845\u001b[0m \u001b[39mraise\u001b[39;00m \u001b[39mKeyError\u001b[39;00m(\u001b[39mf\u001b[39m\u001b[39m\"\u001b[39m\u001b[39m{\u001b[39;00mnot_found\u001b[39m}\u001b[39;00m\u001b[39m not in index\u001b[39m\u001b[39m\"\u001b[39m)\n",
      "\u001b[1;31mKeyError\u001b[0m: \"['ca125ii_level'] not in index\""
     ]
    }
   ],
   "source": [
    "ca125_level0_df = merged_df[['plco_id', 'ca125_level', 'ca125ii_level']].drop_duplicates()\n",
    "print_df(ca125_level0_df)"
   ]
  },
  {
   "cell_type": "code",
   "execution_count": 588,
   "metadata": {},
   "outputs": [
    {
     "name": "stdout",
     "output_type": "stream",
     "text": [
      "<class 'pandas.core.frame.DataFrame'>\n",
      "Int64Index: 230407 entries, 0 to 60750\n",
      "Columns: 218 entries, ovar_cancer to cancer_in_next_10_years\n",
      "dtypes: float64(199), int64(18), object(1)\n",
      "memory usage: 385.0+ MB\n"
     ]
    }
   ],
   "source": [
    "merged_df.info()"
   ]
  },
  {
   "cell_type": "code",
   "execution_count": 589,
   "metadata": {},
   "outputs": [],
   "source": [
    "# TODO: median vs mean impute\n",
    "\n",
    "class LabeledImmpute:\n",
    "    def __init__(self) -> None:\n",
    "        self.mean = None\n",
    "        self.median = None\n",
    "\n",
    "    def fit(self, df, label_col):\n",
    "        self.mean = df.groupby([label_col], as_index=False).mean()\n",
    "        self.median = df.groupby([label_col], as_index=False).median()\n",
    "\n",
    "    def transform_base(self, df, label_col, values_df):\n",
    "        df_missing_value = df[select_numeric_columns(df)]\n",
    "        df_missing_value = get_missing_values_cols(df_missing_value)\n",
    "        df_missing_value = df_missing_value[df_missing_value.percent_missing > 0]\n",
    "        missing_val_cols = df_missing_value['column_name'].to_list()\n",
    "        df_list = []\n",
    "        for val in df[label_col].unique():\n",
    "            values_dict = values_df[values_df[label_col] == val].to_dict('records')[0]\n",
    "            labeled_df = df[df[label_col] == val]\n",
    "            for col in missing_val_cols:\n",
    "                labeled_df[col] = labeled_df[col].fillna(values_dict[col])\n",
    "            df_list.append(labeled_df)\n",
    "        return pd.concat(df_list)\n",
    "\n",
    "    def transform_median(self, df, label_col):\n",
    "        return self.transform_base(df, label_col, self.median)\n",
    "\n",
    "    def transform_mean(self, df, label_col):\n",
    "        return self.transform_base(df, label_col, self.mean)\n",
    "    \n",
    "    def transform(self, df, label_col, strategy):\n",
    "        if strategy == 'mean':\n",
    "            return self.transform_mean(df, label_col)\n",
    "        return self.transform_median(df, label_col)"
   ]
  },
  {
   "cell_type": "code",
   "execution_count": 590,
   "metadata": {},
   "outputs": [
    {
     "name": "stdout",
     "output_type": "stream",
     "text": [
      "Removing features that are over 100% missing\n",
      "0 columns were over 100 missing. This is the list of columns: []\n",
      "The table of features missing over 100 percentage: \n",
      "+---------------+---------------+---------------+-------------------+\n",
      "| column_name   | num_missing   | num_present   | percent_missing   |\n",
      "|---------------+---------------+---------------+-------------------|\n",
      "+---------------+---------------+---------------+-------------------+\n"
     ]
    }
   ],
   "source": [
    "# Drop features that are 100% missing\n",
    "merged_df = drop_cols_missing_percentage(100, merged_df, 'merged_df')"
   ]
  },
  {
   "cell_type": "code",
   "execution_count": 591,
   "metadata": {},
   "outputs": [],
   "source": [
    "merged_df = merged_df.drop(['study_yr'], axis=1)"
   ]
  },
  {
   "cell_type": "code",
   "execution_count": 592,
   "metadata": {},
   "outputs": [],
   "source": [
    "# get_cols_missing_percentage(50, merged_df, 'imputed_df', show_missing=True)"
   ]
  },
  {
   "cell_type": "code",
   "execution_count": 593,
   "metadata": {},
   "outputs": [],
   "source": [
    "# print_df(merged_df.describe().T)"
   ]
  },
  {
   "attachments": {},
   "cell_type": "markdown",
   "metadata": {},
   "source": [
    "## Merging Datasets"
   ]
  },
  {
   "attachments": {},
   "cell_type": "markdown",
   "metadata": {},
   "source": [
    "## `TODO:` should we dismiss people who do not have records in screen dataset. Abnormalities dataset? Run tests on all of the combinations of merges and imputations? "
   ]
  },
  {
   "attachments": {},
   "cell_type": "markdown",
   "metadata": {},
   "source": [
    "I realized that I was doing labeled mean imputation, which should not happen. So, I performed imputation after I merged cancer and no_cancer datasets back together. Without labeled mean imputation, gaussian NB and logistic regression do not perform well. "
   ]
  },
  {
   "attachments": {},
   "cell_type": "markdown",
   "metadata": {},
   "source": [
    "### `TODO:` do labeled mean impute by calculating labeled mean values for each feature before merging them and then using those means to fill out the missing data later. So, have two steps fit and fill out. "
   ]
  },
  {
   "cell_type": "code",
   "execution_count": 594,
   "metadata": {},
   "outputs": [],
   "source": [
    "from sklearn.utils import resample\n",
    "def resample_max(df, label, n_max_per_class, replace=True):\n",
    "\n",
    "    df_majority = df[df[label] ==0]\n",
    "    df_minority = df[df[label] ==1]\n",
    "\n",
    "    # downsample df_majority class\n",
    "    df_majority_downsampled = resample(df_majority, \n",
    "                                    replace=False,     # sample with replacement\n",
    "                                    n_samples=n_max_per_class,    # to match majority class\n",
    "                                    random_state=44) \n",
    "\n",
    "    # Upsample minority class\n",
    "    df_minority_upsampled = resample(df_minority, \n",
    "                                    replace=replace,     # sample with replacement\n",
    "                                    n_samples=n_max_per_class,    # to match majority class\n",
    "                                    random_state=44) \n",
    "\n",
    "    # Combine majority class with upsampled minority class\n",
    "    df_sampled = pd.concat([df_majority_downsampled, df_minority_upsampled])\n",
    "\n",
    "    return df_sampled"
   ]
  },
  {
   "cell_type": "code",
   "execution_count": 629,
   "metadata": {},
   "outputs": [],
   "source": [
    "def impute_data(X_train: pd.DataFrame, X_test: pd.DataFrame, strategy, label):\n",
    "    mean_imputer = SimpleImputer(missing_values=np.nan, strategy=strategy)\n",
    "    mean_imputer.fit(X_train)\n",
    "    X_test = mean_imputer.transform(X_test)\n",
    "    # X_train = pd.DataFrame(X_train, columns=source_df.columns)\n",
    "    # X_test = pd.DataFrame(X_test, columns=source_df.columns)\n",
    "\n",
    "    labeled_impute = LabeledImmpute()\n",
    "    labeled_impute.fit(X_train, label)\n",
    "    # X_train = labeled_impute.transform(X_train, label, strategy)\n",
    "    X_train = mean_imputer.transform(X_train)\n",
    "    # X_train = pd.DataFrame(X_train, columns=source_df.columns)\n",
    "    return X_train, X_test\n",
    "\n",
    "\n",
    "def process_and_impute_for_label(source_df, label, strategy, n_max_per_class=10000):\n",
    "    resampled_df = resample_max(source_df, label, n_max_per_class, replace=True)\n",
    "    x = resampled_df\n",
    "    y = x[label]\n",
    "    x = x.drop(['ovar_cancer_years', 'plco_id'], axis=1)\n",
    "    # TODO: One person should not appear in train and test data since there are duplicates?\n",
    "    # TODO: do splits of data on person id and then oversample from that space \n",
    "    X_train, X_test, y_train, y_test = train_test_split(x, y, test_size = 0.2)\n",
    "\n",
    "    mean_imputer = SimpleImputer(missing_values=np.nan, strategy=strategy)\n",
    "    mean_imputer.fit(X_train)\n",
    "    X_test = mean_imputer.transform(X_test)\n",
    "    X_train = pd.DataFrame(X_train, columns=x.columns)\n",
    "    X_test = pd.DataFrame(X_test, columns=x.columns)\n",
    "\n",
    "    labeled_impute = LabeledImmpute()\n",
    "    labeled_impute.fit(X_train, label)\n",
    "    # X_train = labeled_impute.transform(X_train, label, strategy)\n",
    "    X_train = mean_imputer.transform(X_train)\n",
    "    X_train = pd.DataFrame(X_train, columns=x.columns)\n",
    "    try:\n",
    "        X_train = X_train.drop([label], axis=1)\n",
    "        X_test = X_test.drop([label], axis=1)\n",
    "        X_train = remove_featues_startswith(X_train, ['ovar_', 'cancer_'])\n",
    "        X_test = remove_featues_startswith(X_test, ['ovar_', 'cancer_'])\n",
    "    except:\n",
    "        pass\n",
    "\n",
    "    return X_train, X_test, y_train, y_test\n"
   ]
  },
  {
   "cell_type": "code",
   "execution_count": 596,
   "metadata": {},
   "outputs": [],
   "source": [
    "from sklearn.model_selection import StratifiedKFold"
   ]
  },
  {
   "cell_type": "code",
   "execution_count": 597,
   "metadata": {},
   "outputs": [],
   "source": [
    "source_df = merged_df\n",
    "label = 'cancer_in_next_10_years'\n",
    "n_max_per_class = 10000"
   ]
  },
  {
   "cell_type": "code",
   "execution_count": 598,
   "metadata": {},
   "outputs": [],
   "source": [
    "X_train, X_test, y_train, y_test = train_test_split(source_df[['plco_id']], source_df[label], test_size = 0.2)"
   ]
  },
  {
   "cell_type": "code",
   "execution_count": 599,
   "metadata": {},
   "outputs": [
    {
     "data": {
      "text/plain": [
       "0.19562670831706364"
      ]
     },
     "execution_count": 599,
     "metadata": {},
     "output_type": "execute_result"
    }
   ],
   "source": [
    "np.sum(y_test)/(np.sum(y_train) + np.sum(y_test))"
   ]
  },
  {
   "cell_type": "code",
   "execution_count": 600,
   "metadata": {},
   "outputs": [
    {
     "data": {
      "text/plain": [
       "False"
      ]
     },
     "execution_count": 600,
     "metadata": {},
     "output_type": "execute_result"
    }
   ],
   "source": [
    "sorted(source_df[source_df['plco_id'].isin(X_train['plco_id'])].index) == sorted(X_train['plco_id'].index)"
   ]
  },
  {
   "cell_type": "code",
   "execution_count": 601,
   "metadata": {},
   "outputs": [],
   "source": [
    "X_train = source_df[source_df['plco_id'].isin(X_train['plco_id'])]\n",
    "X_test = source_df[source_df['plco_id'].isin(X_test['plco_id'])]"
   ]
  },
  {
   "cell_type": "code",
   "execution_count": 602,
   "metadata": {},
   "outputs": [
    {
     "data": {
      "text/plain": [
       "0.40430007010983876"
      ]
     },
     "execution_count": 602,
     "metadata": {},
     "output_type": "execute_result"
    }
   ],
   "source": [
    "y_train = X_train[label]\n",
    "y_test = X_test[label]\n",
    "np.sum(y_test)/(np.sum(y_train) + np.sum(y_test))"
   ]
  },
  {
   "cell_type": "code",
   "execution_count": 603,
   "metadata": {},
   "outputs": [],
   "source": [
    "train_size = int(n_max_per_class * 0.8)\n",
    "test_size  = int(n_max_per_class * 0.2)\n",
    "train_fold_size  = int(9 * train_size / 10)\n",
    "test_fold_size  = int(train_size / 10)\n",
    "X_train = resample_max(X_train, label, train_size, replace=True)\n",
    "X_test = resample_max(X_test, label, test_size, replace=True)"
   ]
  },
  {
   "cell_type": "code",
   "execution_count": 604,
   "metadata": {},
   "outputs": [
    {
     "data": {
      "text/plain": [
       "0.2"
      ]
     },
     "execution_count": 604,
     "metadata": {},
     "output_type": "execute_result"
    }
   ],
   "source": [
    "y_train = X_train[label]\n",
    "y_test = X_test[label]\n",
    "np.sum(y_test)/(np.sum(y_train) + np.sum(y_test))"
   ]
  },
  {
   "cell_type": "code",
   "execution_count": 605,
   "metadata": {},
   "outputs": [],
   "source": [
    "strtfdKFold = StratifiedKFold(n_splits=10)\n",
    "kfold = strtfdKFold.split(X_train, y_train)\n",
    "kfold_resampled = []\n",
    "for k, (train, test) in enumerate(kfold):\n",
    "    train = source_df.iloc[train, :]\n",
    "    # print_df(train)\n",
    "    test = source_df.iloc[test]\n",
    "    train = resample_max(train, label, train_fold_size, replace=True)\n",
    "    test = resample_max(test, label, test_fold_size, replace=True)\n",
    "    kfold_resampled.append((train, test))\n",
    "    # X_train = train\n",
    "    # X_test = \n",
    "    # y_train = \n",
    "    # y_test = \n",
    "    "
   ]
  },
  {
   "cell_type": "code",
   "execution_count": 606,
   "metadata": {},
   "outputs": [
    {
     "name": "stdout",
     "output_type": "stream",
     "text": [
      "Number of cancer_ cols: 4\n",
      "['cancer_in_next_1_years', 'cancer_in_next_3_years', 'cancer_in_next_5_years', 'cancer_in_next_10_years']\n"
     ]
    }
   ],
   "source": [
    "source_df = remove_featues_startswith(source_df, ['cancer_'], [label])\n",
    "source_df = source_df[source_df[label].notnull()]"
   ]
  },
  {
   "cell_type": "code",
   "execution_count": 607,
   "metadata": {},
   "outputs": [
    {
     "data": {
      "text/plain": [
       "'cancer_in_next_10_years'"
      ]
     },
     "execution_count": 607,
     "metadata": {},
     "output_type": "execute_result"
    }
   ],
   "source": [
    "label"
   ]
  },
  {
   "cell_type": "code",
   "execution_count": 608,
   "metadata": {},
   "outputs": [
    {
     "data": {
      "text/plain": [
       "2561"
      ]
     },
     "execution_count": 608,
     "metadata": {},
     "output_type": "execute_result"
    }
   ],
   "source": [
    "len(source_df[source_df[label] == 1])"
   ]
  },
  {
   "cell_type": "code",
   "execution_count": 609,
   "metadata": {},
   "outputs": [],
   "source": [
    "\n",
    "def process_train_test_split(source_df, train, test, label, train_size, test_size, strategy):\n",
    "    train = source_df[source_df['plco_id'].isin(train['plco_id'])]\n",
    "    test = source_df[source_df['plco_id'].isin(test['plco_id'])]\n",
    "    train = resample_max(train, label, train_size, replace=True)\n",
    "    test = resample_max(test, label, test_size, replace=True)\n",
    "\n",
    "    y_train = train[label]\n",
    "    y_test = test[label]\n",
    "\n",
    "    train = train.drop(['plco_id'], axis=1)\n",
    "    test = test.drop(['plco_id'], axis=1)\n",
    "    train = remove_featues_startswith(train, ['ovar_', 'cancer_'], [label])\n",
    "    test = remove_featues_startswith(test, ['ovar_', 'cancer_'], [label])\n",
    "    columns = train.columns\n",
    "    \n",
    "    train, test = impute_data(train, test, strategy, label)\n",
    "\n",
    "    train = pd.DataFrame(train, columns=columns)\n",
    "    test = pd.DataFrame(test, columns=columns)\n",
    "    X_train = train.drop([label], axis=1)\n",
    "    X_test = test.drop([label], axis=1)\n",
    "    return X_train, X_test, y_train, y_test\n",
    "\n",
    "def process_and_impute_for_label_kfold(source_df, label, strategy, n_max_per_class=10000, k=10):\n",
    "    # remove features starting with cancer so that we could drop labels that are nan (e.g. people get cancer later on)\n",
    "    source_df = remove_featues_startswith(source_df, ['cancer_'], [label])\n",
    "    source_df = source_df[source_df[label].notnull()]\n",
    "    # One person should not appear in train and test data since there are duplicates of a person\n",
    "    # we splits of data on person id and then oversample from that sample \n",
    "    unique_id_df = source_df[['plco_id', label]].drop_duplicates()\n",
    "    X_train_unique, X_test_unique, y_train, y_test = train_test_split(unique_id_df, unique_id_df[label], test_size = 0.2)\n",
    "\n",
    "    # Printing stats\n",
    "    print(f'Distribution of labels based on unique plco_id: {np.sum(y_test)/(np.sum(y_train) + np.sum(y_test))}')\n",
    "    y_train = source_df[source_df['plco_id'].isin(X_train_unique['plco_id'])][label]\n",
    "    y_test = source_df[source_df['plco_id'].isin(X_test_unique['plco_id'])][label]\n",
    "    print(f'Distribution of labels based on duplicate plco_id: {np.sum(y_test)/(np.sum(y_train) + np.sum(y_test))}')\n",
    "    # print_df(X_train[X_train[label]==1][:100])\n",
    "    train_size = int(n_max_per_class * 0.8)\n",
    "    test_size  = int(n_max_per_class * 0.2)\n",
    "    train_fold_size  = int((k-1) * train_size / k)\n",
    "    test_fold_size  = int(train_size / k)\n",
    "\n",
    "    train_test_lambda = lambda: process_train_test_split(source_df, X_train_unique, X_test_unique, label, train_size, test_size, strategy)\n",
    "    # create list of lambdas for each fold\n",
    "    # Cross validation: https://vitalflux.com/k-fold-cross-validation-python-example/\n",
    "    strtfdKFold = StratifiedKFold(n_splits=k)\n",
    "    print_df(X_train_unique[X_train_unique[label].isnull()])\n",
    "    y_train = X_train_unique[label]\n",
    "    X_train = X_train_unique[['plco_id']]\n",
    "    kfold = strtfdKFold.split(X_train, y_train)\n",
    "    k_fold_lambdas = []\n",
    "    for k, (train, test) in enumerate(kfold):\n",
    "        train = X_train_unique.iloc[train, :]\n",
    "        test = X_train_unique.iloc[test, :]\n",
    "        k_fold_lambdas.append(lambda: process_train_test_split(source_df, train, test, label, train_fold_size, test_fold_size, strategy))\n",
    "\n",
    "    return train_test_lambda, k_fold_lambdas\n"
   ]
  },
  {
   "cell_type": "code",
   "execution_count": 610,
   "metadata": {},
   "outputs": [
    {
     "name": "stdout",
     "output_type": "stream",
     "text": [
      "Number of cancer_ cols: 4\n",
      "['cancer_in_next_1_years', 'cancer_in_next_3_years', 'cancer_in_next_5_years', 'cancer_in_next_10_years']\n",
      "Distribution of labels based on unique plco_id: 0.18270799347471453\n",
      "Distribution of labels based on duplicate plco_id: 0.18937914877001172\n",
      "+-----------+---------------------------+\n",
      "| plco_id   | cancer_in_next_10_years   |\n",
      "|-----------+---------------------------|\n",
      "+-----------+---------------------------+\n",
      "Number of ovar_ cols: 4\n",
      "['ovar_cancer', 'ovar_cancer_years', 'ovar_result', 'ovar_days']\n",
      "Number of cancer_ cols: 1\n",
      "['cancer_in_next_10_years']\n",
      "Number of ovar_ cols: 4\n",
      "['ovar_cancer', 'ovar_cancer_years', 'ovar_result', 'ovar_days']\n",
      "Number of cancer_ cols: 1\n",
      "['cancer_in_next_10_years']\n"
     ]
    }
   ],
   "source": [
    "source_df = merged_df\n",
    "label = 'cancer_in_next_10_years'\n",
    "n_max_per_class = 10000\n",
    "train_test_lambda, k_fold_lambdas = process_and_impute_for_label_kfold(source_df, label, 'mean', n_max_per_class=10000, k=10)\n",
    "X_train, X_test, y_train, y_test = train_test_lambda()"
   ]
  },
  {
   "cell_type": "code",
   "execution_count": null,
   "metadata": {},
   "outputs": [],
   "source": []
  },
  {
   "cell_type": "code",
   "execution_count": 611,
   "metadata": {},
   "outputs": [],
   "source": [
    "# x = x.reset_index()\n",
    "# y = y.reset_index()"
   ]
  },
  {
   "cell_type": "code",
   "execution_count": 612,
   "metadata": {},
   "outputs": [
    {
     "name": "stdout",
     "output_type": "stream",
     "text": [
      "<class 'pandas.core.frame.DataFrame'>\n",
      "Int64Index: 230407 entries, 0 to 60750\n",
      "Columns: 217 entries, ovar_cancer to cancer_in_next_10_years\n",
      "dtypes: float64(198), int64(18), object(1)\n",
      "memory usage: 383.2+ MB\n"
     ]
    }
   ],
   "source": [
    "merged_df.info()"
   ]
  },
  {
   "attachments": {},
   "cell_type": "markdown",
   "metadata": {},
   "source": [
    "## `TODO:` run experiments with decision tree and remove the top feature every time. Store the depth of the tree, the efficacy of the top feature, its value, accuracy, confusion matrix\n",
    "\n",
    "## `TODO:` run experiments with other classifiers and remove the top feature every time. Store the efficacy of the top feature, its value, accuracy, confusion matrix\n",
    "\n",
    "## `TODO:` for predicting the probability of getting over a particular time span. Should I exclude people who got cancer later or put them into the group who did not get cancer. \n",
    "\n",
    "## `TODO:` https://stackoverflow.com/questions/62819569/how-to-return-the-features-that-used-in-decision-tree-that-created-by-decisiontr\n",
    "\n",
    "## `TODO:` Run model purely on family history variables vs purely on screen variables. "
   ]
  },
  {
   "attachments": {},
   "cell_type": "markdown",
   "metadata": {},
   "source": [
    "## `TODO:` cross validation"
   ]
  },
  {
   "cell_type": "code",
   "execution_count": 654,
   "metadata": {},
   "outputs": [
    {
     "name": "stdout",
     "output_type": "stream",
     "text": [
      "Number of cancer_ cols: 4\n",
      "['cancer_in_next_1_years', 'cancer_in_next_3_years', 'cancer_in_next_5_years', 'cancer_in_next_10_years']\n",
      "Distribution of labels based on unique plco_id: 0.19504132231404958\n",
      "Distribution of labels based on duplicate plco_id: 0.2652005174644243\n",
      "+-----------+--------------------------+\n",
      "| plco_id   | cancer_in_next_1_years   |\n",
      "|-----------+--------------------------|\n",
      "+-----------+--------------------------+\n",
      "Number of ovar_ cols: 4\n",
      "['ovar_cancer', 'ovar_cancer_years', 'ovar_result', 'ovar_days']\n",
      "Number of cancer_ cols: 1\n",
      "['cancer_in_next_1_years']\n",
      "Number of ovar_ cols: 4\n",
      "['ovar_cancer', 'ovar_cancer_years', 'ovar_result', 'ovar_days']\n",
      "Number of cancer_ cols: 1\n",
      "['cancer_in_next_1_years']\n",
      "\n",
      "\n",
      "Cross-Validation accuracy: nan +/- nan\n",
      "DecisionTreeClassifier\n",
      "     precision  recall  f1-score  support\n",
      "0.0   0.898086  0.9385  0.917848   2000.0\n",
      "1.0   0.935602  0.8935  0.914066   2000.0\n",
      "ROC AUC score: 0.9159415\n",
      "Accuracy Score: 0.916\n"
     ]
    },
    {
     "data": {
      "image/png": "[encoded data removed]",
      "text/plain": [
       "<Figure size 1152x360 with 3 Axes>"
      ]
     },
     "metadata": {
      "needs_background": "light"
     },
     "output_type": "display_data"
    },
    {
     "name": "stdout",
     "output_type": "stream",
     "text": [
      "['ca125_level']\n",
      "+----+---------------+---------------------+--------------+--------------+------------+-------------+----------+------------+\n",
      "|    | top_feature   |   num_features_used |   importance |   tree_depth |   accuracy |   precision |   recall |   f1-score |\n",
      "|----+---------------+---------------------+--------------+--------------+------------+-------------+----------+------------|\n",
      "|  0 | ca125_level   |                 120 |        0.109 |           48 |      0.916 |    0.935602 |   0.8935 |   0.914066 |\n",
      "+----+---------------+---------------------+--------------+--------------+------------+-------------+----------+------------+\n"
     ]
    }
   ],
   "source": [
    "from sklearn.linear_model import LogisticRegression, LinearRegression\n",
    "from sklearn.pipeline import make_pipeline\n",
    "classifiers = {\n",
    "    # 'LogisticRegression': LogisticRegression(C= 0.25, random_state= 0),\n",
    "    # 'GaussianNB': GaussianNB(var_smoothing= 1e-09),\n",
    "    'DecisionTreeClassifier': DecisionTreeClassifier(criterion= 'entropy', random_state= 0),\n",
    "    # 'RandomForestClassifier': RandomForestClassifier(criterion= 'gini', n_estimators= 200, random_state= 0),\n",
    "    # 'XGBClassifier': XGBClassifier(eval_metric= 'error', learning_rate= 0.1)\n",
    "}\n",
    "# trial_x = x[top_100_features[:50]]\n",
    "plot_tree = False\n",
    "label = 'cancer_in_next_1_years' # 'cancer_in_next_10_years', 'ovar_cancer'\n",
    "trial_x = merged_df\n",
    "# trial_x[label] = trial_x['ovar_cancer']\n",
    "df_feature_importance_tree = None\n",
    "df_top_feature_importances = []\n",
    "drop_n_features = 1\n",
    "k=10\n",
    "for i in range(drop_n_features):\n",
    "    \n",
    "    train_test_lambda, k_fold_lambdas = process_and_impute_for_label_kfold(trial_x, label, 'median', n_max_per_class=10000, k=k)\n",
    "    X_train, X_test, y_train, y_test = train_test_lambda()\n",
    "    # X_train, X_test, y_train, y_test = process_and_impute_for_label(trial_x, label, 'median', n_max_per_class=10000)\n",
    "    auc_dict = {}\n",
    "    accuracy_dict = {}\n",
    "    top_feature_importance = []\n",
    "    for classifier_type, classifier in classifiers.items():\n",
    "        # Cross Validation\n",
    "        cv_scores = []\n",
    "        pipeline = make_pipeline(StandardScaler(), classifier)\n",
    "        for k_fold_lambda in k_fold_lambdas:\n",
    "            continue\n",
    "            X_train_cv, X_test_cv, y_train_cv, y_test_cv = k_fold_lambda()\n",
    "            pipeline.fit(X_train_cv, y_train_cv)\n",
    "            score = pipeline.score(X_test_cv, y_test_cv)\n",
    "            cv_scores.append(score)\n",
    "            print('Fold: %2d, Training/Test Split Distribution: %s, Accuracy: %.3f' % (k+1, np.bincount(y_train_cv), score))\n",
    "        \n",
    "        print('\\n\\nCross-Validation accuracy: %.3f +/- %.3f' %(np.mean(cv_scores), np.std(cv_scores)))\n",
    "\n",
    "        # Test classifier\n",
    "        print(classifier_type)\n",
    "        auc, accuracy = run_classifier(classifier, X_train, X_test, y_train, y_test)\n",
    "\n",
    "        # Decision Tree feature selection\n",
    "        if classifier_type == 'DecisionTreeClassifier':\n",
    "            fn=X_train.columns\n",
    "            if plot_tree:\n",
    "                cn=['no cancer', 'cancer']\n",
    "                fig, axes = plt.subplots(nrows = 1,ncols = 1,figsize = (4,4), dpi=300)\n",
    "                tree.plot_tree(classifier,\n",
    "                    feature_names = fn, \n",
    "                    class_names=cn,\n",
    "                    filled = True)\n",
    "                plt.show()\n",
    "            feature_importances = pd.DataFrame(classifier.feature_importances_,\n",
    "                                index = fn,\n",
    "                                columns=['importance']).sort_values('importance', \n",
    "                                                                    ascending=False)\n",
    "            feature_importances['feature'] = feature_importances.index\n",
    "            feature_importances = feature_importances[['feature', 'importance']]\n",
    "            feature_importances.to_csv('./feature_importance.csv')\n",
    "            top_feature_importance.append(feature_importances.iloc[0]['feature'])\n",
    "            y_pred = classifier.predict(X_test)\n",
    "            y_prob = classifier.predict_proba(X_test)[:,1]\n",
    "            # TODO: boundary and confusion matrix\n",
    "            df_top_feature_importances.append({\n",
    "                'top_feature': feature_importances.iloc[0]['feature'],\n",
    "                # 'boundary': 0,\n",
    "                'num_features_used': len(feature_importances[feature_importances['importance'] > 0]),\n",
    "                'importance': round(feature_importances.iloc[0]['importance'], 3),\n",
    "                'tree_depth': classifier.tree_.max_depth,\n",
    "                'accuracy': accuracy,\n",
    "                'precision': precision_score(y_test, y_pred),\n",
    "                'recall': recall_score(y_test, y_pred),\n",
    "                'f1-score': f1_score(y_test, y_pred),\n",
    "            })\n",
    "            if df_feature_importance_tree is not None:\n",
    "                df_feature_importance_tree = df_feature_importance_tree.merge(feature_importances, on='feature', how='outer', suffixes=[f'_tiral_{i}', f'_tiral_{i+1}'])\n",
    "            else:\n",
    "                df_feature_importance_tree = feature_importances\n",
    "            # print_df(feature_importances)\n",
    "        auc_dict[classifier_type] = auc\n",
    "        accuracy_dict[classifier_type] = accuracy\n",
    "    trial_x = trial_x.drop(top_feature_importance, axis=1)\n",
    "    print(top_feature_importance)\n",
    "\n",
    "# df_feature_importance_tree = df_feature_importance_tree[df_feature_importance_tree['importance'] > 0]\n",
    "# print_df(df_feature_importance_tree)\n",
    "print_df(pd.DataFrame(df_top_feature_importances))\n",
    "pd.DataFrame(df_top_feature_importances).to_csv(f'./top_{drop_n_features}_features_decision_tree.csv')"
   ]
  },
  {
   "cell_type": "code",
   "execution_count": 614,
   "metadata": {},
   "outputs": [],
   "source": [
    "\n",
    "pd.DataFrame(df_top_feature_importances).to_csv('./top_features_decision_tree.csv')"
   ]
  },
  {
   "cell_type": "code",
   "execution_count": 615,
   "metadata": {},
   "outputs": [
    {
     "data": {
      "text/plain": [
       "['ca125_level']"
      ]
     },
     "execution_count": 615,
     "metadata": {},
     "output_type": "execute_result"
    }
   ],
   "source": [
    "pd.DataFrame(df_top_feature_importances)['top_feature'].to_list()"
   ]
  },
  {
   "cell_type": "code",
   "execution_count": 616,
   "metadata": {},
   "outputs": [],
   "source": [
    "classifiers = [\n",
    "    DecisionTreeClassifier(),\n",
    "    RandomForestClassifier(),\n",
    "    GaussianNB(),\n",
    "    XGBClassifier(),\n",
    "    LogisticRegression(max_iter=200)\n",
    "]\n",
    "# Calculate years before cancer\n",
    "def f_score(X_train, X_test, y_train, y_test, classifiers):\n",
    "    for clf in classifiers:\n",
    "        s = time.time()\n",
    "        clf.fit(X_train,y_train)\n",
    "        y_pred = clf.predict(X_test)\n",
    "        f = f1_score(y_true=y_test,y_pred=y_pred,average=\"macro\")\n",
    "        e = time.time()\n",
    "        print(f\"Score: {round(f,3)} \\t Time(in secs): {round(e-s,3)} \\t Classifier: {clf.__class__.__name__}\")\n",
    "# f_score(X_train, X_test, y_train, y_test, classifiers)"
   ]
  },
  {
   "cell_type": "code",
   "execution_count": 617,
   "metadata": {},
   "outputs": [],
   "source": [
    "def select_using_model():\n",
    "    sel = SelectFromModel(XGBClassifier())\n",
    "    sel.fit(x,y)"
   ]
  },
  {
   "cell_type": "code",
   "execution_count": 618,
   "metadata": {},
   "outputs": [],
   "source": [
    "def select_using_score_func():\n",
    "    # configure to select all features\n",
    "    fs = SelectKBest(score_func=f_classif, k='all')\n",
    "    # learn relationship from training data\n",
    "    fs.fit(X_train, y_train)\n",
    "    # what are scores for the features\n",
    "    features_scores = pd.DataFrame(x.columns)\n",
    "    features_scores['scores'] = fs.scores_\n",
    "    features_scores = features_scores.sort_values('scores', ascending=False)\n",
    "    features_scores.to_csv('./feature_selection/all_features_new_cols__mean_imputed.csv')"
   ]
  },
  {
   "cell_type": "code",
   "execution_count": null,
   "metadata": {},
   "outputs": [],
   "source": []
  },
  {
   "cell_type": "code",
   "execution_count": 619,
   "metadata": {},
   "outputs": [],
   "source": [
    "# Determine on which features to use mean imputation and on which ones to replace with -1"
   ]
  },
  {
   "attachments": {},
   "cell_type": "markdown",
   "metadata": {},
   "source": [
    " The initial dataset had 181 variables (Appendix 1). Variables were ranked by their F-score, which is the harmonic mean of precision and recall, with those with an F-score closest to 1.0 demonstrating high correlation with treatment success [10]. Experts in the treatment of BPH also selected variables for inclusion into the models irrespective of the F-Score, these variables, plus those with a high F-Score were selected for inclusion in initial model development.. The actual variables used by our models were a subset of these, and the number in any given fold and subgroup was dynamically determined by treating this as a hyper-parameter and tuning it as described below."
   ]
  }
 ],
 "metadata": {
  "kernelspec": {
   "display_name": "Python 3",
   "language": "python",
   "name": "python3"
  },
  "language_info": {
   "codemirror_mode": {
    "name": "ipython",
    "version": 3
   },
   "file_extension": ".py",
   "mimetype": "text/x-python",
   "name": "python",
   "nbconvert_exporter": "python",
   "pygments_lexer": "ipython3",
   "version": "3.10.4"
  },
  "orig_nbformat": 4,
  "vscode": {
   "interpreter": {
    "hash": "9b9f07f525d6131811c533cc81eafd9d7147c1a9ff2e81c94d4f0d027f94c4be"
   }
  }
 },
 "nbformat": 4,
 "nbformat_minor": 2
}

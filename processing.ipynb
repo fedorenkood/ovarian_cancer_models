{
 "cells": [
  {
   "cell_type": "code",
   "execution_count": 1,
   "metadata": {},
   "outputs": [],
   "source": [
    "from processing_functions import *\n",
    "%matplotlib inline\n",
    "import warnings\n",
    "\n",
    "warnings.filterwarnings(\"ignore\")\n"
   ]
  },
  {
   "cell_type": "code",
   "execution_count": 2,
   "metadata": {},
   "outputs": [],
   "source": [
    "# reading datasets\n",
    "personal_data = pd.read_csv('./dataset/Ovarian/ovar_data_mar22_d032222.csv')\n",
    "screen_data = pd.read_csv('./dataset/Ovarian/Screening/ovar_screen_data_mar22_d032222.csv')\n",
    "screen_abnorm_data = pd.read_csv('./dataset/Ovarian/Screening Abnormalities/ovar_scrsub_data_mar22_d032222.csv')"
   ]
  },
  {
   "attachments": {},
   "cell_type": "markdown",
   "metadata": {},
   "source": [
    "## Preprocessing\n",
    "For some of the datasets we determined some of the features to not be useful for analysis. For every dataset that includes `build` features. \n",
    "\n",
    "For personal dataset we removed all `ovar_` features since they are a direct result of the cancer diagnosis and should not be used predict cancer. \n",
    "\n",
    "For the screen data dataset it was determined that `examinerid_` features do not bring the value to the dataset since they represet 'Examiner ID made by concatentating center and exam ID for overall screen result.' and cannot be the cause of the cancer. We also drop all of the remaining"
   ]
  },
  {
   "cell_type": "code",
   "execution_count": 3,
   "metadata": {},
   "outputs": [
    {
     "name": "stdout",
     "output_type": "stream",
     "text": [
      "Number of ovar_ cols: 50\n",
      "['ovar_reasfoll', 'ovar_reassurv', 'ovar_reassymp', 'ovar_reasoth', 'ovar_cancer', 'ovar_intstat_cat', 'ovar_annyr', 'ovar_cancer_site', 'ovar_stage', 'ovar_stage_7e', 'ovar_stage_t', 'ovar_stage_n', 'ovar_stage_m', 'ovar_clinstage', 'ovar_clinstage_7e', 'ovar_clinstage_t', 'ovar_clinstage_n', 'ovar_clinstage_m', 'ovar_pathstage', 'ovar_pathstage_7e', 'ovar_pathstage_t', 'ovar_pathstage_n', 'ovar_pathstage_m', 'ovar_grade', 'ovar_topography', 'ovar_morphology', 'ovar_behavior', 'ovar_histtype', 'ovar_exitstat', 'ovar_exitage', 'ovar_seer', 'ovar_cancer_first', 'ovar_curative_surg', 'ovar_curative_chemo', 'ovar_primary_trt', 'ovar_num_heslide_imgs', 'ovar_has_deliv_heslide_img', 'ovar_exitdays', 'ovar_primary_trt_days', 'ovar_cancer_diagdays', 'ovar_mra_stat0', 'ovar_mra_stat1', 'ovar_mra_stat2', 'ovar_mra_stat3', 'ovar_mra_stat4', 'ovar_mra_stat5', 'ovar_eligible_bq', 'ovar_eligible_sqx', 'ovar_eligible_dhq', 'ovar_eligible_dqx']\n",
      "Number of mortality cols: 3\n",
      "['mortality_exitage', 'mortality_exitstat', 'mortality_exitdays']\n",
      "Number of reconsent cols: 2\n",
      "['reconsent_outcome', 'reconsent_outcome_days']\n",
      "Number of is_dead cols: 2\n",
      "['is_dead_with_cod', 'is_dead']\n",
      "Number of build cols: 4\n",
      "['build', 'build_cancers', 'build_incidence_cutoff', 'build_death_cutoff']\n",
      "Number of ca125_src cols: 6\n",
      "['ca125_src0', 'ca125_src1', 'ca125_src2', 'ca125_src3', 'ca125_src4', 'ca125_src5']\n",
      "Number of ca125_days cols: 6\n",
      "['ca125_days0', 'ca125_days1', 'ca125_days2', 'ca125_days3', 'ca125_days4', 'ca125_days5']\n",
      "Number of tvu_days cols: 4\n",
      "['tvu_days0', 'tvu_days1', 'tvu_days2', 'tvu_days3']\n",
      "Number of biopolink cols: 6\n",
      "['biopolink0', 'biopolink1', 'biopolink2', 'biopolink3', 'biopolink4', 'biopolink5']\n",
      "Number of ca125_ cols: 14\n",
      "['ca125_result0', 'ca125_result1', 'ca125_result2', 'ca125_result3', 'ca125_result4', 'ca125_result5', 'ca125_level0', 'ca125_level1', 'ca125_level2', 'ca125_level3', 'ca125_level4', 'ca125_level5', 'ca125_prot', 'ca125_history']\n",
      "Number of tvu cols: 4\n",
      "['tvu_result0', 'tvu_result1', 'tvu_result2', 'tvu_result3']\n",
      "Number of inad_ cols: 42\n",
      "['inad_bow_p1', 'inad_bow_p2', 'inad_bow_p3', 'inad_dis_p1', 'inad_dis_p2', 'inad_dis_p3', 'inad_mal_p1', 'inad_mal_p2', 'inad_mal_p3', 'inad_probe_p1', 'inad_probe_p2', 'inad_probe_p3', 'inad_ref_p1', 'inad_ref_p2', 'inad_ref_p3', 'inad_oth_p1', 'inad_oth_p2', 'inad_oth_p3', 'inad_bow_q1', 'inad_bow_q2', 'inad_bow_q3', 'inad_dis_q1', 'inad_dis_q2', 'inad_dis_q3', 'inad_mal_q1', 'inad_mal_q2', 'inad_mal_q3', 'inad_probe_q1', 'inad_probe_q2', 'inad_probe_q3', 'inad_ref_q1', 'inad_ref_q2', 'inad_ref_q3', 'inad_oth_q1', 'inad_oth_q2', 'inad_oth_q3', 'inad_bow', 'inad_dis', 'inad_mal', 'inad_probe', 'inad_ref', 'inad_oth']\n",
      "Number of examinerid cols: 7\n",
      "['examinerid_pvis1', 'examinerid_pvis2', 'examinerid_pvis3', 'examinerid_qvis1', 'examinerid_qvis2', 'examinerid_qvis3', 'examinerid']\n",
      "Number of build cols: 3\n",
      "['build', 'build_cancers', 'build_incidence_cutoff']\n",
      "Number of tvures_ cols: 6\n",
      "['tvures_pvis1', 'tvures_pvis2', 'tvures_pvis3', 'tvures_qvis1', 'tvures_qvis2', 'tvures_qvis3']\n",
      "Number of build cols: 3\n",
      "['build', 'build_cancers', 'build_incidence_cutoff']\n"
     ]
    }
   ],
   "source": [
    "# Drop profy features\n",
    "proxy_features_personal_dataset = [\n",
    "    'fstcan_exitdays', # Days from trial entry (randomization) to first cancer diagnosis for participants with cancer, or to trial exit otherwise. Only cancers occuring during the trial are used to determine exit.\n",
    "    'fstcan_exitstat', # Status of the participant at exit for first cancer incidence. Only cancers occuring during the trial are used to determine exit.\n",
    "    'fstcan_exitage',\n",
    "    'f_dthovar', # Is ovarian cancer the underlying cause of death? This conclusion is based on the information from the death certificate and death review.\n",
    "    'f_codeath_cat', # Categorized underlying cause of death.\n",
    "    'f_cancersite', # Underlying cause of death from cancer.\n",
    "    'f_seer_death', # Underlying cause of death.\n",
    "    'd_codeath_cat', # Categorized underlying cause of death.\n",
    "    'd_dthovar', # Is Ovarian Cancer The Underlying Cause Of Death?\n",
    "    'd_cancersite', # \n",
    "    'd_seer_death', # Underlying cause of death.\n",
    "    'ph_ovar_muq', # Did the participant have a personal history of ovarian/ft/pt cancer prior to MUQ analysis entry? \n",
    "    'ph_ovar_sqx', # \n",
    "    'entrydays_muq', # \n",
    "    'ph_ovar_dhq', # \n",
    "    'dth_days', # \n",
    "    'bq_compdays',\n",
    "    'bq_adminm',\n",
    "    'bq_returned',\n",
    "    'ssmokea_f',\n",
    "    'orem_fyro',\n",
    "    'arm',\n",
    "    ]\n",
    "\n",
    "proxy_features_screen_dataset = [\n",
    "    'QAMETHOD',\n",
    "    'tvudays_pvis1',\n",
    "    'tvudays_pvis2',\n",
    "    'tvudays_pvis3',\n",
    "    # 'tvures_qvis1',\n",
    "    # 'tvures_qvis2',\n",
    "    # 'tvures_qvis3',\n",
    "    # 'tvures_pvis3',  # It is completely missing for non-cancer patients\n",
    "    'tvu_assess_days_q',\n",
    "    'medcomp', # \n",
    "    'physid',\n",
    "    'detl_q',\n",
    "    'detr_q',\n",
    "    'ca125_src', # \n",
    "    'ca125_days', # \n",
    "    'ca125ii_src', # '\n",
    "    # 'ca125_level',\n",
    "    'ca125i_assess_days',\n",
    "    'ca125ii_assess_days',\n",
    "]\n",
    "\n",
    "personal_data = personal_data.drop(proxy_features_personal_dataset, axis=1)\n",
    "screen_data = screen_data.drop(proxy_features_screen_dataset, axis=1)\n",
    "\n",
    "# Remove all ovar_ features\n",
    "personal_data = remove_featues_startswith(personal_data, ['ovar_', 'mortality', 'reconsent', 'is_dead', 'build', 'ca125_src', 'ca125_days', 'tvu_days', 'biopolink', 'ca125_', 'tvu'], ['ovar_cancer', 'ovar_cancer_diagdays'])\n",
    "\n",
    "# Remove all inad_ and examinerid_ and build_ features\n",
    "screen_data = remove_featues_startswith(screen_data, ['inad_', 'examinerid', 'build', 'tvures_'])\n",
    "\n",
    "# Drop not useful cols and convert categorical into numerical in screen abnormalities\n",
    "screen_abnorm_data = remove_featues_startswith(screen_abnorm_data, ['build'])"
   ]
  },
  {
   "cell_type": "code",
   "execution_count": 4,
   "metadata": {},
   "outputs": [
    {
     "name": "stdout",
     "output_type": "stream",
     "text": [
      "Num of records in personal dataset: 78209\n",
      "Num of unique plco_id in personal dataset: 78209\n",
      "Num of patients with cancer: 613\n",
      "Num of patients without cancer: 77596\n"
     ]
    }
   ],
   "source": [
    "print_records_vs_unique(personal_data, 'plco_id', 'personal')\n",
    "# Check the number of people with cancer\n",
    "personal_data_cancer = personal_data[personal_data['ovar_cancer']==1]\n",
    "print(f\"Num of patients with cancer: {len(personal_data_cancer)}\")\n",
    "# Check the number of people without cancer\n",
    "personal_data_no_cancer = personal_data[personal_data['ovar_cancer']==0]\n",
    "print(f\"Num of patients without cancer: {len(personal_data_no_cancer)}\")"
   ]
  },
  {
   "attachments": {},
   "cell_type": "markdown",
   "metadata": {},
   "source": [
    "## Merging data into features and mean imputing"
   ]
  },
  {
   "attachments": {},
   "cell_type": "markdown",
   "metadata": {},
   "source": [
    "Deciding which patients will be in training vs test set to learn the mean imputation parameters.\n",
    "\n",
    "Mean imputation: https://www.kaggle.com/general/226554"
   ]
  },
  {
   "cell_type": "code",
   "execution_count": 5,
   "metadata": {},
   "outputs": [],
   "source": [
    "def labeled_mean_impute(df, label_df, columns, id_col, label_col):\n",
    "    label_dict = {}\n",
    "    df_list = []\n",
    "    for label in sorted(label_df[label_col].unique()):\n",
    "        label_dict[label] = label_df[label_df[label_col] == label][id_col].to_list()\n",
    "\n",
    "    for label, id_list in label_dict.items():\n",
    "        filtered_df = df[df[id_col].isin(id_list)]\n",
    "        for col in columns:\n",
    "            filtered_df[col] = filtered_df[col].fillna(filtered_df[col].mean())\n",
    "        df_list.append(filtered_df)\n",
    "\n",
    "    return pd.concat(df_list, axis=0)"
   ]
  },
  {
   "cell_type": "code",
   "execution_count": 6,
   "metadata": {},
   "outputs": [],
   "source": [
    "# personal_data = labeled_mean_impute(personal_data, personal_data, select_numeric_columns(personal_data), id_col='plco_id', label_col='ovar_cancer')"
   ]
  },
  {
   "attachments": {},
   "cell_type": "markdown",
   "metadata": {},
   "source": [
    "To predict whether person will get cancer in the next 1, 3, 5, 10 years we need to determine what feature describes when person got cancer. In our case that features is `ovar_cancer_diagdays`. We are going to use that feature in the following manner: we are going to have a sliding window to determine whether the person gets cancer withing the period of that window. Then, we are going to slide that window by one year and determine a new batch of people who are going to get cancer in that window and so on. For each of the features that are measured across multiple years we only going to use a record that is at the beginning of the interval. "
   ]
  },
  {
   "attachments": {},
   "cell_type": "markdown",
   "metadata": {},
   "source": [
    "Since `ovar_cancer_diagdays` is described in days and we are concerned about the years when people will get cancer we need to convert this feature into years. Since people got cancer from year 1 to year 19, we are going to bucket it into 19 buckets corresponding to year when person got cancer. "
   ]
  },
  {
   "cell_type": "code",
   "execution_count": 7,
   "metadata": {},
   "outputs": [
    {
     "name": "stdout",
     "output_type": "stream",
     "text": [
      "Max value of ovar_cancer_diagdays in years is 18.89041095890411\n"
     ]
    }
   ],
   "source": [
    "ovar_cancer_diagdays_range = personal_data['ovar_cancer_diagdays'].max() / 365\n",
    "print(f'Max value of ovar_cancer_diagdays in years is {ovar_cancer_diagdays_range}')\n"
   ]
  },
  {
   "cell_type": "code",
   "execution_count": 8,
   "metadata": {},
   "outputs": [],
   "source": [
    "personal_data['ovar_cancer_years'] = pd.cut(personal_data['ovar_cancer_diagdays'], bins=19, labels=list(range(0, 19)), include_lowest=True)\n",
    "personal_data['ovar_cancer_years'] = pd.to_numeric(personal_data['ovar_cancer_years'])"
   ]
  },
  {
   "attachments": {},
   "cell_type": "markdown",
   "metadata": {},
   "source": [
    "We can also set every healthy persons '`ovar_cancer_years`' to 100 so that it is easier to filter them"
   ]
  },
  {
   "cell_type": "code",
   "execution_count": 9,
   "metadata": {},
   "outputs": [],
   "source": [
    "personal_data['ovar_cancer_years'] = personal_data['ovar_cancer_years'].fillna(100)"
   ]
  },
  {
   "cell_type": "code",
   "execution_count": 10,
   "metadata": {},
   "outputs": [],
   "source": [
    "# personal_data[(personal_data['ovar_cancer_diagdays'] > 365) & (personal_data['ovar_cancer_diagdays'] < 400)][['ovar_cancer_years', 'ovar_cancer_diagdays']]"
   ]
  },
  {
   "attachments": {},
   "cell_type": "markdown",
   "metadata": {},
   "source": [
    "When merging abnormalities dataset we are going to keep each record for each `study_yr`, select the latest `VISIT` if there are multiple and take the largest value of each column over all of the remaining records. "
   ]
  },
  {
   "attachments": {},
   "cell_type": "markdown",
   "metadata": {},
   "source": [
    "`TODO:` merge ca125 and ca125ii\n",
    "\n",
    "`TODO:` some features in the person dataset represent observations over multiple years\n",
    "\n",
    "`TODO:` bucket age by 3 or 5 years"
   ]
  },
  {
   "cell_type": "code",
   "execution_count": 11,
   "metadata": {},
   "outputs": [],
   "source": [
    "def merge_data_over_years(person_df, screen_df, abnorm_df, screen_join='left', abrorm_join='left'):\n",
    "    on_col = 'ovar_cancer_years'\n",
    "    # Select max data for each of the features in the abnorm_df, while varied over plco_id and study_yr\n",
    "    abnorm_df = abnorm_df.groupby(['plco_id', 'study_yr'], as_index=False).max()\n",
    "    df_list = []\n",
    "    df_final = pd.DataFrame()\n",
    "    for base_year in range(0, 18):\n",
    "        df = person_df\n",
    "        # individuals who got cancer before the beginning of this window should not be included in the current window\n",
    "        df = df[df[on_col] >= base_year]\n",
    "        # TODO: increment certain features by base year\n",
    "        # If base year is 0 through 5 we have data on the scan performed on that year, so we can attach that data\n",
    "        if base_year <= 5: \n",
    "            df = df.merge(screen_df[screen_df['study_yr'] == base_year], how=screen_join)\n",
    "        # If base year is 0 through 53 we have data on the abnormality on that year, so we can attach that data\n",
    "        if base_year <= 3: \n",
    "            filtered_abnorm = abnorm_df[abnorm_df['study_yr'] == base_year]\n",
    "            df = df.merge(filtered_abnorm, how=abrorm_join)\n",
    "        # Assign new labels whether people will get cancer withing next 1, 3, 5, 10 years based on the current data\n",
    "        for window_size in [1, 3, 5, 10]:\n",
    "            if base_year + window_size >= 20:\n",
    "                continue\n",
    "            label_feature = f'cancer_in_next_{window_size}_years'\n",
    "            df.loc[df[df[on_col] >= base_year + window_size].index, label_feature] = 0\n",
    "            # df[label_feature] = 0\n",
    "            index = df[df[on_col] < base_year + window_size].index\n",
    "            df.loc[index, label_feature] = 1\n",
    "            # TODO: can I do this?\n",
    "            # df = df[df[label_feature].notnull()]\n",
    "        df_final = pd.concat([df_final, df])\n",
    "        df_final = df_final.drop_duplicates()\n",
    "    return df_final\n"
   ]
  },
  {
   "cell_type": "code",
   "execution_count": 12,
   "metadata": {},
   "outputs": [],
   "source": [
    "abnorm_filtered = screen_abnorm_data.drop(['side', 'source', 'VISIT', 'sbcd'], axis=1)\n",
    "personal_filtered = personal_data.drop(['ovar_cancer_diagdays'], axis=1)\n",
    "merged_df = merge_data_over_years(personal_filtered, screen_data, abnorm_filtered, screen_join='left', abrorm_join='left')"
   ]
  },
  {
   "cell_type": "code",
   "execution_count": 13,
   "metadata": {},
   "outputs": [
    {
     "name": "stdout",
     "output_type": "stream",
     "text": [
      "<class 'pandas.core.frame.DataFrame'>\n",
      "Int64Index: 463315 entries, 0 to 78208\n",
      "Columns: 190 entries, ovar_cancer to cancer_in_next_10_years\n",
      "dtypes: float64(177), int64(12), object(1)\n",
      "memory usage: 675.1+ MB\n"
     ]
    }
   ],
   "source": [
    "merged_df.info()"
   ]
  },
  {
   "cell_type": "code",
   "execution_count": 14,
   "metadata": {},
   "outputs": [],
   "source": [
    "# TODO: median vs mean impute\n",
    "\n",
    "class LabeledImmpute:\n",
    "    def __init__(self) -> None:\n",
    "        self.mean = None\n",
    "        self.median = None\n",
    "\n",
    "    def fit(self, df, label_col):\n",
    "        self.mean = df.groupby([label_col], as_index=False).mean()\n",
    "        self.median = df.groupby([label_col], as_index=False).median()\n",
    "\n",
    "    def transform_base(self, df, label_col, values_df):\n",
    "        df_missing_value = df[select_numeric_columns(df)]\n",
    "        df_missing_value = get_missing_values_cols(df_missing_value)\n",
    "        df_missing_value = df_missing_value[df_missing_value.percent_missing > 0]\n",
    "        missing_val_cols = df_missing_value['column_name'].to_list()\n",
    "        df_list = []\n",
    "        for val in df[label_col].unique():\n",
    "            values_dict = values_df[values_df[label_col] == val].to_dict('records')[0]\n",
    "            labeled_df = df[df[label_col] == val]\n",
    "            for col in missing_val_cols:\n",
    "                labeled_df[col] = labeled_df[col].fillna(values_dict[col])\n",
    "            df_list.append(labeled_df)\n",
    "        return pd.concat(df_list)\n",
    "\n",
    "    def transform_median(self, df, label_col):\n",
    "        return self.transform_base(df, label_col, self.median)\n",
    "\n",
    "    def transform_mean(self, df, label_col):\n",
    "        return self.transform_base(df, label_col, self.mean)\n",
    "    \n",
    "    def transform(self, df, label_col, strategy):\n",
    "        if strategy == 'mean':\n",
    "            return self.transform_mean(df, label_col)\n",
    "        return self.transform_median(df, label_col)"
   ]
  },
  {
   "cell_type": "code",
   "execution_count": 15,
   "metadata": {},
   "outputs": [
    {
     "name": "stdout",
     "output_type": "stream",
     "text": [
      "Removing features that are over 100% missing\n",
      "0 columns were over 100 missing. This is the list of columns: []\n",
      "The table of features missing over 100 percentage: \n",
      "+---------------+---------------+---------------+-------------------+\n",
      "| column_name   | num_missing   | num_present   | percent_missing   |\n",
      "|---------------+---------------+---------------+-------------------|\n",
      "+---------------+---------------+---------------+-------------------+\n"
     ]
    }
   ],
   "source": [
    "# Drop features that are 100% missing\n",
    "merged_df = drop_cols_missing_percentage(100, merged_df, 'merged_df')"
   ]
  },
  {
   "cell_type": "code",
   "execution_count": 16,
   "metadata": {},
   "outputs": [],
   "source": [
    "merged_df = merged_df.drop(['study_yr'], axis=1)"
   ]
  },
  {
   "cell_type": "code",
   "execution_count": 17,
   "metadata": {},
   "outputs": [],
   "source": [
    "# get_cols_missing_percentage(50, merged_df, 'imputed_df', show_missing=True)"
   ]
  },
  {
   "attachments": {},
   "cell_type": "markdown",
   "metadata": {},
   "source": [
    "## Merging Datasets"
   ]
  },
  {
   "attachments": {},
   "cell_type": "markdown",
   "metadata": {},
   "source": [
    "`TODO:` should we dismiss people who do not have records in screen dataset. Abnormalities dataset? Run tests on all of the combinations of merges and imputations? "
   ]
  },
  {
   "attachments": {},
   "cell_type": "markdown",
   "metadata": {},
   "source": [
    "I realized that I was doing labeled mean imputation, which should not happen. So, I performed imputation after I merged cancer and no_cancer datasets back together. Without labeled mean imputation, gaussian NB and logistic regression do not perform well. "
   ]
  },
  {
   "cell_type": "code",
   "execution_count": 18,
   "metadata": {},
   "outputs": [],
   "source": [
    "def impute_data(X_train: pd.DataFrame, X_test: pd.DataFrame, strategy, label):\n",
    "    mean_imputer = SimpleImputer(missing_values=np.nan, strategy=strategy)\n",
    "    mean_imputer.fit(X_train)\n",
    "    X_test = mean_imputer.transform(X_test)\n",
    "    # X_train = pd.DataFrame(X_train, columns=source_df.columns)\n",
    "    # X_test = pd.DataFrame(X_test, columns=source_df.columns)\n",
    "\n",
    "    # labeled_impute = LabeledImmpute()\n",
    "    # labeled_impute.fit(X_train, label)\n",
    "    # X_train = labeled_impute.transform(X_train, label, strategy)\n",
    "    X_train = mean_imputer.transform(X_train)\n",
    "    # X_train = pd.DataFrame(X_train, columns=source_df.columns)\n",
    "    return X_train, X_test"
   ]
  },
  {
   "cell_type": "code",
   "execution_count": 19,
   "metadata": {},
   "outputs": [],
   "source": [
    "\n",
    "def process_train_test_split(source_df, train, test, label, train_size, test_size, strategy):\n",
    "    train = source_df[source_df['plco_id'].isin(train['plco_id'])]\n",
    "    test = source_df[source_df['plco_id'].isin(test['plco_id'])]\n",
    "    y_train = train[label]\n",
    "    y_test = test[label]\n",
    "    # Printing stats\n",
    "    print(f'Distribution of labels based on duplicate plco_id: {np.sum(y_test)/(np.sum(y_train) + np.sum(y_test))}')\n",
    "    # TODO: is it impute and then resample or the other way around\n",
    "    train = resample_max(train, label, train_size, replace=True)\n",
    "    test = resample_max(test, label, test_size, replace=True)\n",
    "\n",
    "    y_train = train[label]\n",
    "    y_test = test[label]\n",
    "\n",
    "    train = train.drop(['plco_id'], axis=1)\n",
    "    test = test.drop(['plco_id'], axis=1)\n",
    "    train = remove_featues_startswith(train, ['ovar_', 'cancer_'], [label])\n",
    "    test = remove_featues_startswith(test, ['ovar_', 'cancer_'], [label])\n",
    "    columns = train.columns\n",
    "    # get_cols_missing_percentage(80, train, 'train', show_missing=True)\n",
    "    train, test = impute_data(train, test, strategy, label)\n",
    "\n",
    "    train = pd.DataFrame(train, columns=columns)\n",
    "    test = pd.DataFrame(test, columns=columns)\n",
    "    X_train = train.drop([label], axis=1)\n",
    "    X_test = test.drop([label], axis=1)\n",
    "    return X_train, X_test, y_train, y_test\n",
    "\n",
    "def process_and_impute_for_label_kfold(source_df, label, strategy, n_max_per_class=10000, k=10):\n",
    "    # remove features starting with cancer so that we could drop labels that are nan (e.g. people get cancer later on)\n",
    "    source_df = remove_featues_startswith(source_df, ['cancer_'], [label])\n",
    "    source_df = source_df[source_df[label].notnull()]\n",
    "    # One person should not appear in train and test data since there are duplicates of a person\n",
    "    # we splits of data on person id and then oversample from that sample \n",
    "    unique_id_df = source_df[['plco_id', label]].drop_duplicates()\n",
    "    X_train_unique, X_test_unique, y_train, y_test = train_test_split(unique_id_df, unique_id_df[label], test_size = 0.2)\n",
    "\n",
    "    # Printing stats\n",
    "    print(f'Distribution of labels based on unique plco_id: {np.sum(y_test)/(np.sum(y_train) + np.sum(y_test))}')\n",
    "    # print_df(X_train[X_train[label]==1][:100])\n",
    "    train_size = int(n_max_per_class * 0.8)\n",
    "    test_size  = int(n_max_per_class * 0.2)\n",
    "    train_fold_size  = int((k-1) * train_size / k)\n",
    "    test_fold_size  = int(train_size / k)\n",
    "\n",
    "    train_test_lambda = lambda: process_train_test_split(source_df, X_train_unique, X_test_unique, label, train_size, test_size, strategy)\n",
    "    # create list of lambdas for each fold\n",
    "    # Cross validation: https://vitalflux.com/k-fold-cross-validation-python-example/\n",
    "    strtfdKFold = StratifiedKFold(n_splits=k)\n",
    "    y_train = X_train_unique[label]\n",
    "    X_train = X_train_unique[['plco_id']]\n",
    "    kfold = strtfdKFold.split(X_train, y_train)\n",
    "    k_fold_lambdas = []\n",
    "    for train, test in kfold:\n",
    "        train = X_train_unique.iloc[train, :]\n",
    "        test = X_train_unique.iloc[test, :]\n",
    "        k_fold_lambdas.append(lambda: process_train_test_split(source_df, train, test, label, train_fold_size, test_fold_size, strategy))\n",
    "\n",
    "    return train_test_lambda, k_fold_lambdas\n"
   ]
  },
  {
   "attachments": {},
   "cell_type": "markdown",
   "metadata": {},
   "source": [
    "`TODO:` run experiments with decision tree and remove the top feature every time. Store the depth of the tree, the efficacy of the top feature, its value, accuracy, confusion matrix\n",
    "\n",
    "`TODO:` run experiments with other classifiers and remove the top feature every time. Store the efficacy of the top feature, its value, accuracy, confusion matrix\n",
    "\n",
    "`TODO:` for predicting the probability of getting over a particular time span. Should I exclude people who got cancer later or put them into the group who did not get cancer. \n",
    "\n",
    "`TODO:` https://stackoverflow.com/questions/62819569/how-to-return-the-features-that-used-in-decision-tree-that-created-by-decisiontr\n",
    "\n",
    "`TODO:` Run model purely on family history variables vs purely on screen variables. "
   ]
  },
  {
   "cell_type": "code",
   "execution_count": 25,
   "metadata": {},
   "outputs": [],
   "source": [
    "def decision_tree_feature_selection(classifier, fn, accuracy, precision, recall, f1):\n",
    "    \n",
    "    if plot_tree:\n",
    "        cn=['no cancer', 'cancer']\n",
    "        fig, axes = plt.subplots(nrows = 1,ncols = 1,figsize = (4,4), dpi=300)\n",
    "        tree.plot_tree(classifier,\n",
    "            feature_names = fn, \n",
    "            class_names=cn,\n",
    "            filled = True)\n",
    "        plt.show()\n",
    "    feature_importances = pd.DataFrame(classifier.feature_importances_,\n",
    "                        index = fn,\n",
    "                        columns=['importance']).sort_values('importance', \n",
    "                                                            ascending=False)\n",
    "    feature_importances['feature'] = feature_importances.index\n",
    "    feature_importances = feature_importances[['feature', 'importance']]\n",
    "    # TODO: boundary and confusion matrix\n",
    "    top_feature_stats = {\n",
    "        'top_feature': feature_importances.iloc[0]['feature'],\n",
    "        # 'boundary': 0,\n",
    "        'num_features_used': len(feature_importances[feature_importances['importance'] > 0]),\n",
    "        'importance': round(feature_importances.iloc[0]['importance'], 3),\n",
    "        'tree_depth': classifier.tree_.max_depth,\n",
    "        'accuracy': accuracy,\n",
    "        'precision': precision,\n",
    "        'recall':    recall,\n",
    "        'f1-score':  f1,\n",
    "    }\n",
    "    return top_feature_stats, feature_importances\n",
    "\n",
    "def get_cv_scores(classifier, k_fold_lambdas):\n",
    "    cv_scores = []\n",
    "    pipeline = make_pipeline(StandardScaler(), classifier)\n",
    "    for k_fold_lambda in k_fold_lambdas:\n",
    "        X_train_cv, X_test_cv, y_train_cv, y_test_cv = k_fold_lambda()\n",
    "        pipeline.fit(X_train_cv, y_train_cv)\n",
    "        score = pipeline.score(X_test_cv, y_test_cv)\n",
    "        cv_scores.append(score)\n",
    "        print('Fold: %2d, Training/Test Split Distribution: %s, Accuracy: %.3f' % (k+1, np.bincount(y_train_cv), score))\n",
    "    \n",
    "    print('\\n\\nCross-Validation accuracy: %.3f +/- %.3f' %(np.mean(cv_scores), np.std(cv_scores)))\n",
    "    return cv_scores\n",
    "\n",
    "def run_classifiers(classifiers, df, label, drop_n_features = 1, k=10, plot_tree=False):\n",
    "    df_feature_importance_tree = None\n",
    "    df_top_feature_importances = []\n",
    "    for i in range(drop_n_features):\n",
    "        \n",
    "        train_test_lambda, k_fold_lambdas = process_and_impute_for_label_kfold(df, label, 'median', n_max_per_class=10000, k=k)\n",
    "        X_train, X_test, y_train, y_test = train_test_lambda()\n",
    "        auc_dict = {}\n",
    "        accuracy_dict = {}\n",
    "        top_feature_importance = []\n",
    "        for classifier_type, classifier in classifiers.items():\n",
    "            # Cross Validation\n",
    "            # get_cv_scores(classifier, k_fold_lambdas)\n",
    "\n",
    "            # Test classifier\n",
    "            print(classifier_type)\n",
    "            auc, accuracy, precision, recall, f1 = run_classifier(classifier, X_train, X_test, y_train, y_test)\n",
    "\n",
    "            # Decision Tree feature selection\n",
    "            if classifier_type == 'DecisionTreeClassifier':\n",
    "                fn=X_train.columns\n",
    "                top_feature_stats, feature_importances = decision_tree_feature_selection(classifier, fn, accuracy, precision, recall, f1)\n",
    "                df_top_feature_importances.append(top_feature_stats)\n",
    "                top_feature_importance.append(feature_importances.iloc[0]['feature'])\n",
    "                if df_feature_importance_tree is not None:\n",
    "                    df_feature_importance_tree = df_feature_importance_tree.merge(feature_importances, on='feature', how='outer', suffixes=[f'_tiral_{i}', f'_tiral_{i+1}'])\n",
    "                else:\n",
    "                    df_feature_importance_tree = feature_importances\n",
    "            auc_dict[classifier_type] = auc\n",
    "            accuracy_dict[classifier_type] = accuracy\n",
    "        df = df.drop(top_feature_importance, axis=1)\n",
    "\n",
    "    df_feature_importance_tree = df_feature_importance_tree[df_feature_importance_tree['importance'] > 0]\n",
    "    return df_top_feature_importances, df_feature_importance_tree\n",
    "\n"
   ]
  },
  {
   "cell_type": "code",
   "execution_count": 27,
   "metadata": {},
   "outputs": [
    {
     "name": "stdout",
     "output_type": "stream",
     "text": [
      "Number of cancer_ cols: 4\n",
      "['cancer_in_next_1_years', 'cancer_in_next_3_years', 'cancer_in_next_5_years', 'cancer_in_next_10_years']\n",
      "Distribution of labels based on unique plco_id: 0.21487603305785125\n",
      "Distribution of labels based on duplicate plco_id: 0.27064803049555275\n",
      "Number of ovar_ cols: 4\n",
      "['ovar_cancer', 'ovar_cancer_years', 'ovar_result', 'ovar_days']\n",
      "Number of cancer_ cols: 1\n",
      "['cancer_in_next_1_years']\n",
      "Number of ovar_ cols: 4\n",
      "['ovar_cancer', 'ovar_cancer_years', 'ovar_result', 'ovar_days']\n",
      "Number of cancer_ cols: 1\n",
      "['cancer_in_next_1_years']\n",
      "DecisionTreeClassifier\n",
      "     precision  recall  f1-score  support\n",
      "0.0   0.895366  0.9370  0.915710   2000.0\n",
      "1.0   0.933928  0.8905  0.911697   2000.0\n",
      "ROC AUC score: 0.9139839999999999\n",
      "Accuracy Score: 0.91375\n"
     ]
    },
    {
     "data": {
      "image/png": "[encoded data removed]",
      "text/plain": [
       "<Figure size 1152x360 with 3 Axes>"
      ]
     },
     "metadata": {
      "needs_background": "light"
     },
     "output_type": "display_data"
    },
    {
     "name": "stdout",
     "output_type": "stream",
     "text": [
      "+----+---------------+---------------------+--------------+--------------+------------+-------------+----------+------------+\n",
      "|    | top_feature   |   num_features_used |   importance |   tree_depth |   accuracy |   precision |   recall |   f1-score |\n",
      "|----+---------------+---------------------+--------------+--------------+------------+-------------+----------+------------|\n",
      "|  0 | ca125_level   |                 109 |        0.121 |           48 |    0.91375 |    0.933928 |   0.8905 |   0.911697 |\n",
      "+----+---------------+---------------------+--------------+--------------+------------+-------------+----------+------------+\n"
     ]
    }
   ],
   "source": [
    "classifiers = {\n",
    "    # 'LogisticRegression': LogisticRegression(C= 0.25, random_state= 0),\n",
    "    # 'GaussianNB': GaussianNB(var_smoothing= 1e-09),\n",
    "    'DecisionTreeClassifier': DecisionTreeClassifier(criterion= 'entropy', \n",
    "                                                    #  random_state= 0\n",
    "                                                     ),\n",
    "    # 'RandomForestClassifier': RandomForestClassifier(criterion= 'gini', n_estimators= 200, random_state= 0),\n",
    "    # 'XGBClassifier': XGBClassifier(eval_metric= 'error', learning_rate= 0.1)\n",
    "}\n",
    "label = 'cancer_in_next_1_years' # 'cancer_in_next_10_years', 'ovar_cancer'\n",
    "drop_n_features = 1\n",
    "df_top_feature_importances, df_feature_importance_tree = run_classifiers(classifiers, merged_df, label, drop_n_features = drop_n_features, k=10, plot_tree=False)\n",
    "# print_df(df_feature_importance_tree)\n",
    "print_df(pd.DataFrame(df_top_feature_importances))\n",
    "pd.DataFrame(df_top_feature_importances).to_csv(f'./top_{drop_n_features}_features_decision_tree.csv')"
   ]
  },
  {
   "cell_type": "code",
   "execution_count": null,
   "metadata": {},
   "outputs": [],
   "source": [
    "classifiers = [\n",
    "    DecisionTreeClassifier(),\n",
    "    RandomForestClassifier(),\n",
    "    # GaussianNB(),\n",
    "    # XGBClassifier(),\n",
    "    # LogisticRegression(max_iter=200)\n",
    "]\n",
    "# Calculate years before cancer\n",
    "def f_score(X_train, X_test, y_train, y_test, classifiers):\n",
    "    for clf in classifiers:\n",
    "        s = time.time()\n",
    "        clf.fit(X_train,y_train)\n",
    "        y_pred = clf.predict(X_test)\n",
    "        f = f1_score(y_true=y_test,y_pred=y_pred,average=\"macro\")\n",
    "        e = time.time()\n",
    "        print(f\"Score: {round(f,3)} \\t Time(in secs): {round(e-s,3)} \\t Classifier: {clf.__class__.__name__}\")\n",
    "# f_score(X_train, X_test, y_train, y_test, classifiers)"
   ]
  },
  {
   "cell_type": "code",
   "execution_count": null,
   "metadata": {},
   "outputs": [],
   "source": [
    "def select_using_model():\n",
    "    sel = SelectFromModel(XGBClassifier())\n",
    "    sel.fit(x,y)"
   ]
  },
  {
   "cell_type": "code",
   "execution_count": null,
   "metadata": {},
   "outputs": [],
   "source": [
    "def select_using_score_func():\n",
    "    # configure to select all features\n",
    "    fs = SelectKBest(score_func=f_classif, k='all')\n",
    "    # learn relationship from training data\n",
    "    fs.fit(X_train, y_train)\n",
    "    # what are scores for the features\n",
    "    features_scores = pd.DataFrame(x.columns)\n",
    "    features_scores['scores'] = fs.scores_\n",
    "    features_scores = features_scores.sort_values('scores', ascending=False)\n",
    "    features_scores.to_csv('./feature_selection/all_features_new_cols__mean_imputed.csv')"
   ]
  },
  {
   "cell_type": "code",
   "execution_count": null,
   "metadata": {},
   "outputs": [],
   "source": []
  },
  {
   "cell_type": "code",
   "execution_count": null,
   "metadata": {},
   "outputs": [],
   "source": [
    "# Determine on which features to use mean imputation and on which ones to replace with -1"
   ]
  },
  {
   "attachments": {},
   "cell_type": "markdown",
   "metadata": {},
   "source": [
    " The initial dataset had 181 variables (Appendix 1). Variables were ranked by their F-score, which is the harmonic mean of precision and recall, with those with an F-score closest to 1.0 demonstrating high correlation with treatment success [10]. Experts in the treatment of BPH also selected variables for inclusion into the models irrespective of the F-Score, these variables, plus those with a high F-Score were selected for inclusion in initial model development.. The actual variables used by our models were a subset of these, and the number in any given fold and subgroup was dynamically determined by treating this as a hyper-parameter and tuning it as described below."
   ]
  }
 ],
 "metadata": {
  "kernelspec": {
   "display_name": "Python 3",
   "language": "python",
   "name": "python3"
  },
  "language_info": {
   "codemirror_mode": {
    "name": "ipython",
    "version": 3
   },
   "file_extension": ".py",
   "mimetype": "text/x-python",
   "name": "python",
   "nbconvert_exporter": "python",
   "pygments_lexer": "ipython3",
   "version": "3.10.4"
  },
  "orig_nbformat": 4,
  "vscode": {
   "interpreter": {
    "hash": "9b9f07f525d6131811c533cc81eafd9d7147c1a9ff2e81c94d4f0d027f94c4be"
   }
  }
 },
 "nbformat": 4,
 "nbformat_minor": 2
}

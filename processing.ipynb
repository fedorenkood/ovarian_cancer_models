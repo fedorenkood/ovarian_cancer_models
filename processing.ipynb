{
 "cells": [
  {
   "cell_type": "code",
   "execution_count": 261,
   "metadata": {},
   "outputs": [],
   "source": [
    "from processing_functions import *\n",
    "%matplotlib inline\n",
    "import warnings\n",
    "\n",
    "warnings.filterwarnings(\"ignore\")\n"
   ]
  },
  {
   "cell_type": "code",
   "execution_count": 262,
   "metadata": {},
   "outputs": [],
   "source": [
    "# reading datasets\n",
    "personal_data = pd.read_csv('./dataset/Ovarian/ovar_data_mar22_d032222.csv')\n",
    "screen_data = pd.read_csv('./dataset/Ovarian/Screening/ovar_screen_data_mar22_d032222.csv')\n",
    "screen_abnorm_data = pd.read_csv('./dataset/Ovarian/Screening Abnormalities/ovar_scrsub_data_mar22_d032222.csv')"
   ]
  },
  {
   "attachments": {},
   "cell_type": "markdown",
   "metadata": {},
   "source": [
    "## Preprocessing\n",
    "For some of the datasets we determined some of the features to not be useful for analysis. For every dataset that includes `build` features. \n",
    "\n",
    "For personal dataset we removed all `ovar_` features since they are a direct result of the cancer diagnosis and should not be used predict cancer. \n",
    "\n",
    "For the screen data dataset it was determined that `examinerid_` features do not bring the value to the dataset since they represet 'Examiner ID made by concatentating center and exam ID for overall screen result.' and cannot be the cause of the cancer. We also drop all of the remaining"
   ]
  },
  {
   "cell_type": "code",
   "execution_count": 263,
   "metadata": {},
   "outputs": [
    {
     "name": "stdout",
     "output_type": "stream",
     "text": [
      "Number of ovar_ cols: 50\n",
      "['ovar_reasfoll', 'ovar_reassurv', 'ovar_reassymp', 'ovar_reasoth', 'ovar_cancer', 'ovar_intstat_cat', 'ovar_annyr', 'ovar_cancer_site', 'ovar_stage', 'ovar_stage_7e', 'ovar_stage_t', 'ovar_stage_n', 'ovar_stage_m', 'ovar_clinstage', 'ovar_clinstage_7e', 'ovar_clinstage_t', 'ovar_clinstage_n', 'ovar_clinstage_m', 'ovar_pathstage', 'ovar_pathstage_7e', 'ovar_pathstage_t', 'ovar_pathstage_n', 'ovar_pathstage_m', 'ovar_grade', 'ovar_topography', 'ovar_morphology', 'ovar_behavior', 'ovar_histtype', 'ovar_exitstat', 'ovar_exitage', 'ovar_seer', 'ovar_cancer_first', 'ovar_curative_surg', 'ovar_curative_chemo', 'ovar_primary_trt', 'ovar_num_heslide_imgs', 'ovar_has_deliv_heslide_img', 'ovar_exitdays', 'ovar_primary_trt_days', 'ovar_cancer_diagdays', 'ovar_mra_stat0', 'ovar_mra_stat1', 'ovar_mra_stat2', 'ovar_mra_stat3', 'ovar_mra_stat4', 'ovar_mra_stat5', 'ovar_eligible_bq', 'ovar_eligible_sqx', 'ovar_eligible_dhq', 'ovar_eligible_dqx']\n",
      "Number of mortality cols: 3\n",
      "['mortality_exitage', 'mortality_exitstat', 'mortality_exitdays']\n",
      "Number of reconsent cols: 2\n",
      "['reconsent_outcome', 'reconsent_outcome_days']\n",
      "Number of is_dead cols: 2\n",
      "['is_dead_with_cod', 'is_dead']\n",
      "Number of build cols: 4\n",
      "['build', 'build_cancers', 'build_incidence_cutoff', 'build_death_cutoff']\n",
      "Number of biopolink cols: 6\n",
      "['biopolink0', 'biopolink1', 'biopolink2', 'biopolink3', 'biopolink4', 'biopolink5']\n",
      "Number of ca125_ cols: 26\n",
      "['ca125_result0', 'ca125_result1', 'ca125_result2', 'ca125_result3', 'ca125_result4', 'ca125_result5', 'ca125_level0', 'ca125_level1', 'ca125_level2', 'ca125_level3', 'ca125_level4', 'ca125_level5', 'ca125_src0', 'ca125_src1', 'ca125_src2', 'ca125_src3', 'ca125_src4', 'ca125_src5', 'ca125_prot', 'ca125_days0', 'ca125_days1', 'ca125_days2', 'ca125_days3', 'ca125_days4', 'ca125_days5', 'ca125_history']\n",
      "Number of tvu cols: 8\n",
      "['tvu_result0', 'tvu_result1', 'tvu_result2', 'tvu_result3', 'tvu_days0', 'tvu_days1', 'tvu_days2', 'tvu_days3']\n",
      "Number of entrydays cols: 4\n",
      "['entrydays_bq', 'entrydays_dqx', 'entrydays_dhq', 'entrydays_sqx']\n",
      "Number of entryage cols: 5\n",
      "['entryage_bq', 'entryage_dqx', 'entryage_dhq', 'entryage_sqx', 'entryage_muq']\n",
      "Number of inad_ cols: 42\n",
      "['inad_bow_p1', 'inad_bow_p2', 'inad_bow_p3', 'inad_dis_p1', 'inad_dis_p2', 'inad_dis_p3', 'inad_mal_p1', 'inad_mal_p2', 'inad_mal_p3', 'inad_probe_p1', 'inad_probe_p2', 'inad_probe_p3', 'inad_ref_p1', 'inad_ref_p2', 'inad_ref_p3', 'inad_oth_p1', 'inad_oth_p2', 'inad_oth_p3', 'inad_bow_q1', 'inad_bow_q2', 'inad_bow_q3', 'inad_dis_q1', 'inad_dis_q2', 'inad_dis_q3', 'inad_mal_q1', 'inad_mal_q2', 'inad_mal_q3', 'inad_probe_q1', 'inad_probe_q2', 'inad_probe_q3', 'inad_ref_q1', 'inad_ref_q2', 'inad_ref_q3', 'inad_oth_q1', 'inad_oth_q2', 'inad_oth_q3', 'inad_bow', 'inad_dis', 'inad_mal', 'inad_probe', 'inad_ref', 'inad_oth']\n",
      "Number of examinerid cols: 7\n",
      "['examinerid_pvis1', 'examinerid_pvis2', 'examinerid_pvis3', 'examinerid_qvis1', 'examinerid_qvis2', 'examinerid_qvis3', 'examinerid']\n",
      "Number of build cols: 3\n",
      "['build', 'build_cancers', 'build_incidence_cutoff']\n",
      "Number of tvures_ cols: 6\n",
      "['tvures_pvis1', 'tvures_pvis2', 'tvures_pvis3', 'tvures_qvis1', 'tvures_qvis2', 'tvures_qvis3']\n",
      "Number of build cols: 3\n",
      "['build', 'build_cancers', 'build_incidence_cutoff']\n"
     ]
    }
   ],
   "source": [
    "# Drop profy features\n",
    "proxy_features_personal_dataset = [\n",
    "    'fstcan_exitdays', # Days from trial entry (randomization) to first cancer diagnosis for participants with cancer, or to trial exit otherwise. Only cancers occuring during the trial are used to determine exit.\n",
    "    'fstcan_exitstat', # Status of the participant at exit for first cancer incidence. Only cancers occuring during the trial are used to determine exit.\n",
    "    'fstcan_exitage',\n",
    "    'f_dthovar', # Is ovarian cancer the underlying cause of death? This conclusion is based on the information from the death certificate and death review.\n",
    "    'f_codeath_cat', # Categorized underlying cause of death.\n",
    "    'f_cancersite', # Underlying cause of death from cancer.\n",
    "    'f_seer_death', # Underlying cause of death.\n",
    "    'd_codeath_cat', # Categorized underlying cause of death.\n",
    "    'd_dthovar', # Is Ovarian Cancer The Underlying Cause Of Death?\n",
    "    'd_cancersite', # \n",
    "    'd_seer_death', # Underlying cause of death.\n",
    "    'ph_ovar_muq', # Did the participant have a personal history of ovarian/ft/pt cancer prior to MUQ analysis entry? \n",
    "    'ph_ovar_sqx', # \n",
    "    'entrydays_muq', # \n",
    "    'ph_ovar_dhq', # \n",
    "    'dth_days', # \n",
    "    'bq_compdays',\n",
    "    'bq_adminm',\n",
    "    'bq_returned',\n",
    "    'ssmokea_f',\n",
    "    'orem_fyro',\n",
    "    'arm',\n",
    "    'sex',\n",
    "    ]\n",
    "\n",
    "proxy_features_screen_dataset = [\n",
    "    'QAMETHOD',\n",
    "    'tvudays_pvis1',\n",
    "    'tvudays_pvis2',\n",
    "    'tvudays_pvis3',\n",
    "    # 'tvures_qvis1',\n",
    "    # 'tvures_qvis2',\n",
    "    # 'tvures_qvis3',\n",
    "    # 'tvures_pvis3',  # It is completely missing for non-cancer patients\n",
    "    'tvu_days',\n",
    "    'tvu_assess_days_q',\n",
    "    'medcomp', # \n",
    "    'physid',\n",
    "    'detl_q',\n",
    "    'detr_q',\n",
    "    'ca125_src', # \n",
    "    'ca125_days', # \n",
    "    'ca125ii_src', # '\n",
    "    'ca125_level',\n",
    "    'ca125i_assess_days',\n",
    "    'ca125ii_assess_days',\n",
    "]\n",
    "\n",
    "proxy_features_abnorm_dataset = ['VISIT', 'side', 'sbcd', 'source']\n",
    "\n",
    "personal_data = personal_data.drop(proxy_features_personal_dataset, axis=1)\n",
    "screen_data = screen_data.drop(proxy_features_screen_dataset, axis=1)\n",
    "screen_abnorm_data = screen_abnorm_data.drop(proxy_features_abnorm_dataset, axis=1)\n",
    "\n",
    "# Remove all ovar_ features\n",
    "personal_data = remove_featues_startswith(personal_data, ['ovar_', 'mortality', 'reconsent', 'is_dead', 'build', 'biopolink', 'ca125_', 'tvu', 'entrydays', 'entryage'], ['ovar_cancer', 'ovar_cancer_diagdays'])\n",
    "\n",
    "# Remove all inad_ and examinerid_ and build_ features\n",
    "screen_data = remove_featues_startswith(screen_data, ['inad_', 'examinerid', 'build', 'tvures_'])\n",
    "\n",
    "# Drop not useful cols and convert categorical into numerical in screen abnormalities\n",
    "screen_abnorm_data = remove_featues_startswith(screen_abnorm_data, ['build'])"
   ]
  },
  {
   "cell_type": "code",
   "execution_count": 264,
   "metadata": {},
   "outputs": [
    {
     "name": "stdout",
     "output_type": "stream",
     "text": [
      "Num of records in personal dataset: 78209\n",
      "Num of unique plco_id in personal dataset: 78209\n",
      "Num of patients with cancer: 613\n",
      "Num of patients without cancer: 77596\n"
     ]
    }
   ],
   "source": [
    "print_records_vs_unique(personal_data, 'plco_id', 'personal')\n",
    "# Check the number of people with cancer\n",
    "personal_data_cancer = personal_data[personal_data['ovar_cancer']==1]\n",
    "print(f\"Num of patients with cancer: {len(personal_data_cancer)}\")\n",
    "# Check the number of people without cancer\n",
    "personal_data_no_cancer = personal_data[personal_data['ovar_cancer']==0]\n",
    "print(f\"Num of patients without cancer: {len(personal_data_no_cancer)}\")"
   ]
  },
  {
   "cell_type": "code",
   "execution_count": 265,
   "metadata": {},
   "outputs": [
    {
     "data": {
      "text/plain": [
       "Index(['VISIT', 'side', 'sbcd', 'study_yr', 'source', 'solid', 'sepst', 'cyst',\n",
       "       'cystw', 'echo', 'maxdi', 'volum', 'plco_id'],\n",
       "      dtype='object')"
      ]
     },
     "execution_count": 265,
     "metadata": {},
     "output_type": "execute_result"
    }
   ],
   "source": [
    "screen_abnorm_data.columns"
   ]
  },
  {
   "attachments": {},
   "cell_type": "markdown",
   "metadata": {},
   "source": [
    "## Merging data into features and mean imputing"
   ]
  },
  {
   "attachments": {},
   "cell_type": "markdown",
   "metadata": {},
   "source": [
    "Deciding which patients will be in training vs test set to learn the mean imputation parameters.\n",
    "\n",
    "Mean imputation: https://www.kaggle.com/general/226554"
   ]
  },
  {
   "cell_type": "code",
   "execution_count": 266,
   "metadata": {},
   "outputs": [],
   "source": [
    "def labeled_mean_impute(df, label_df, columns, id_col, label_col):\n",
    "    label_dict = {}\n",
    "    df_list = []\n",
    "    for label in sorted(label_df[label_col].unique()):\n",
    "        label_dict[label] = label_df[label_df[label_col] == label][id_col].to_list()\n",
    "\n",
    "    for label, id_list in label_dict.items():\n",
    "        filtered_df = df[df[id_col].isin(id_list)]\n",
    "        for col in columns:\n",
    "            filtered_df[col] = filtered_df[col].fillna(filtered_df[col].mean())\n",
    "        df_list.append(filtered_df)\n",
    "\n",
    "    return pd.concat(df_list, axis=0)"
   ]
  },
  {
   "cell_type": "code",
   "execution_count": 267,
   "metadata": {},
   "outputs": [],
   "source": [
    "# personal_data = labeled_mean_impute(personal_data, personal_data, select_numeric_columns(personal_data), id_col='plco_id', label_col='ovar_cancer')"
   ]
  },
  {
   "attachments": {},
   "cell_type": "markdown",
   "metadata": {},
   "source": [
    "To predict whether person will get cancer in the next 1, 3, 5, 10 years we need to determine what feature describes when person got cancer. In our case that features is `ovar_cancer_diagdays`. We are going to use that feature in the following manner: we are going to have a sliding window to determine whether the person gets cancer withing the period of that window. Then, we are going to slide that window by one year and determine a new batch of people who are going to get cancer in that window and so on. For each of the features that are measured across multiple years we only going to use a record that is at the beginning of the interval. "
   ]
  },
  {
   "attachments": {},
   "cell_type": "markdown",
   "metadata": {},
   "source": [
    "Since `ovar_cancer_diagdays` is described in days and we are concerned about the years when people will get cancer we need to convert this feature into years. Since people got cancer from year 1 to year 19, we are going to bucket it into 19 buckets corresponding to year when person got cancer. "
   ]
  },
  {
   "cell_type": "code",
   "execution_count": 268,
   "metadata": {},
   "outputs": [
    {
     "name": "stdout",
     "output_type": "stream",
     "text": [
      "Max value of ovar_cancer_diagdays in years is 18.89041095890411\n"
     ]
    }
   ],
   "source": [
    "ovar_cancer_diagdays_range = personal_data['ovar_cancer_diagdays'].max() / 365\n",
    "print(f'Max value of ovar_cancer_diagdays in years is {ovar_cancer_diagdays_range}')\n"
   ]
  },
  {
   "cell_type": "code",
   "execution_count": 269,
   "metadata": {},
   "outputs": [],
   "source": [
    "personal_data['ovar_cancer_years'] = pd.cut(personal_data['ovar_cancer_diagdays'], bins=19, labels=list(range(0, 19)), include_lowest=True)\n",
    "personal_data['ovar_cancer_years'] = pd.to_numeric(personal_data['ovar_cancer_years'])"
   ]
  },
  {
   "attachments": {},
   "cell_type": "markdown",
   "metadata": {},
   "source": [
    "We can also set every healthy persons '`ovar_cancer_years`' to 100 so that it is easier to filter them"
   ]
  },
  {
   "cell_type": "code",
   "execution_count": 270,
   "metadata": {},
   "outputs": [],
   "source": [
    "personal_data['ovar_cancer_years'] = personal_data['ovar_cancer_years'].fillna(100)"
   ]
  },
  {
   "cell_type": "code",
   "execution_count": 271,
   "metadata": {},
   "outputs": [],
   "source": [
    "# personal_data[(personal_data['ovar_cancer_diagdays'] > 365) & (personal_data['ovar_cancer_diagdays'] < 400)][['ovar_cancer_years', 'ovar_cancer_diagdays']]"
   ]
  },
  {
   "attachments": {},
   "cell_type": "markdown",
   "metadata": {},
   "source": [
    "When merging abnormalities dataset we are going to keep each record for each `study_yr`, select the latest `VISIT` if there are multiple and take the largest value of each column over all of the remaining records. "
   ]
  },
  {
   "attachments": {},
   "cell_type": "markdown",
   "metadata": {},
   "source": [
    "See below what I found about CA125 vs CA125ii......it sounds like we should actually just be using CA125ii.  When they switched tests, they actually used the new test (CA125ii) to re-test the frozen samples from all of the patients who had the original test.  So CA125ii should be present for all patients who had testing, and CA125 is only left in as a variable for a perspective on what patients were initially told at that time.\n",
    "\n",
    "\n",
    "So I think that the only variable we need to use for this tumor marker is ca125ii_level0-5, which is from the ovary person dataset, and we can disregard values for ca125_level0-5.\n",
    "\n",
    "\n",
    "CA-125 ASSAYS, VERSIONS 1 AND 2 \n",
    "\n",
    "When the trial began, PLCO used the first version of the assay for all CA-125 exams. On October 1, 1995, CA-125II became available and the protocol was switched to use this for all subsequent screens. A few years after this transition, all of the original samples were re-assayed using version two. So, use CA125_LEVEL0-5 to get the result of a screen from a clinical perspective of what the participant was told following their screening visit. Use CA125II_LEVEL0-5 to get the result of a screen from an epidemiologic perspective, with all values coming from the same assay. \n",
    "\n",
    "\n",
    "Since ca125ii only present in the personal dataset, I only kept the feature that describes the level of ca125ii for a year that is a baseline year (for the windown when they got cancer) of people when merging data."
   ]
  },
  {
   "attachments": {},
   "cell_type": "markdown",
   "metadata": {},
   "source": [
    "\n",
    "`TODO:` some features in the person dataset represent observations over multiple years\n",
    "\n",
    "`TODO:` bucket age by 3 or 5 years"
   ]
  },
  {
   "cell_type": "code",
   "execution_count": 272,
   "metadata": {},
   "outputs": [],
   "source": [
    "def bucket_age(age, bucket_size):\n",
    "    age_buckets = list(range(0, 101, bucket_size))\n",
    "    for i in range(len(age_buckets) - 1):\n",
    "        if age >= age_buckets[i] and age < age_buckets[i+1]:\n",
    "            return age_buckets[i]\n",
    "    return None"
   ]
  },
  {
   "cell_type": "code",
   "execution_count": 273,
   "metadata": {},
   "outputs": [],
   "source": [
    "def merge_data_over_years(person_df, screen_df, abnorm_df, screen_join='left', abrorm_join='left'):\n",
    "    on_col = 'ovar_cancer_years'\n",
    "    # Select max data for each of the features in the abnorm_df, while varied over plco_id and study_yr\n",
    "    abnorm_df = abnorm_df.groupby(['plco_id', 'study_yr'], as_index=False).max()\n",
    "    df_list = []\n",
    "    df_final = pd.DataFrame()\n",
    "    for base_year in range(0, 18):\n",
    "        df = person_df\n",
    "        # individuals who got cancer before the beginning of this window should not be included in the current window\n",
    "        df = df[df[on_col] >= base_year]\n",
    "        # increment certain features by base year\n",
    "        df['age'] = df['age'].apply(lambda age: bucket_age(age+base_year, 5))\n",
    "        # If base year is 0 through 5 we have data on the scan performed on that year, so we can attach that data\n",
    "        # we only use ca125ii_level features, but they are stored under different features for different years\n",
    "        # we need to only use the ones for the appropriate year\n",
    "        df = remove_featues_startswith(df, ['ca125ii_level'], [f'ca125ii_level{base_year}'])\n",
    "        if base_year <= 5: \n",
    "            df = df.rename({f'ca125ii_level{base_year}': 'ca125ii_level'}, axis=1)\n",
    "            # print([col for col in df.columns if 'ca125ii_level' in col])\n",
    "            df = df.merge(screen_df[screen_df['study_yr'] == base_year], how=screen_join)\n",
    "        # If base year is 0 through 53 we have data on the abnormality on that year, so we can attach that data\n",
    "        if base_year <= 3: \n",
    "            filtered_abnorm = abnorm_df[abnorm_df['study_yr'] == base_year]\n",
    "            df = df.merge(filtered_abnorm, how=abrorm_join)\n",
    "        # Assign new labels whether people will get cancer withing next 1, 3, 5, 10 years based on the current data\n",
    "        for window_size in [1, 3, 5, 10]:\n",
    "            if base_year + window_size >= 20:\n",
    "                continue\n",
    "            label_feature = f'cancer_in_next_{window_size}_years'\n",
    "            df.loc[df[df[on_col] >= base_year + window_size].index, label_feature] = 0\n",
    "            # df[label_feature] = 0\n",
    "            index = df[df[on_col] < base_year + window_size].index\n",
    "            df.loc[index, label_feature] = 1\n",
    "        df_final = pd.concat([df_final, df])\n",
    "        df_final = df_final.drop_duplicates()\n",
    "    return df_final\n"
   ]
  },
  {
   "cell_type": "code",
   "execution_count": 274,
   "metadata": {},
   "outputs": [
    {
     "name": "stdout",
     "output_type": "stream",
     "text": [
      "Number of ca125ii_level cols: 6\n",
      "['ca125ii_level0', 'ca125ii_level1', 'ca125ii_level2', 'ca125ii_level3', 'ca125ii_level4', 'ca125ii_level5']\n",
      "Number of ca125ii_level cols: 6\n",
      "['ca125ii_level0', 'ca125ii_level1', 'ca125ii_level2', 'ca125ii_level3', 'ca125ii_level4', 'ca125ii_level5']\n",
      "Number of ca125ii_level cols: 6\n",
      "['ca125ii_level0', 'ca125ii_level1', 'ca125ii_level2', 'ca125ii_level3', 'ca125ii_level4', 'ca125ii_level5']\n",
      "Number of ca125ii_level cols: 6\n",
      "['ca125ii_level0', 'ca125ii_level1', 'ca125ii_level2', 'ca125ii_level3', 'ca125ii_level4', 'ca125ii_level5']\n",
      "Number of ca125ii_level cols: 6\n",
      "['ca125ii_level0', 'ca125ii_level1', 'ca125ii_level2', 'ca125ii_level3', 'ca125ii_level4', 'ca125ii_level5']\n",
      "Number of ca125ii_level cols: 6\n",
      "['ca125ii_level0', 'ca125ii_level1', 'ca125ii_level2', 'ca125ii_level3', 'ca125ii_level4', 'ca125ii_level5']\n",
      "Number of ca125ii_level cols: 6\n",
      "['ca125ii_level0', 'ca125ii_level1', 'ca125ii_level2', 'ca125ii_level3', 'ca125ii_level4', 'ca125ii_level5']\n",
      "Number of ca125ii_level cols: 6\n",
      "['ca125ii_level0', 'ca125ii_level1', 'ca125ii_level2', 'ca125ii_level3', 'ca125ii_level4', 'ca125ii_level5']\n",
      "Number of ca125ii_level cols: 6\n",
      "['ca125ii_level0', 'ca125ii_level1', 'ca125ii_level2', 'ca125ii_level3', 'ca125ii_level4', 'ca125ii_level5']\n",
      "Number of ca125ii_level cols: 6\n",
      "['ca125ii_level0', 'ca125ii_level1', 'ca125ii_level2', 'ca125ii_level3', 'ca125ii_level4', 'ca125ii_level5']\n",
      "Number of ca125ii_level cols: 6\n",
      "['ca125ii_level0', 'ca125ii_level1', 'ca125ii_level2', 'ca125ii_level3', 'ca125ii_level4', 'ca125ii_level5']\n",
      "Number of ca125ii_level cols: 6\n",
      "['ca125ii_level0', 'ca125ii_level1', 'ca125ii_level2', 'ca125ii_level3', 'ca125ii_level4', 'ca125ii_level5']\n",
      "Number of ca125ii_level cols: 6\n",
      "['ca125ii_level0', 'ca125ii_level1', 'ca125ii_level2', 'ca125ii_level3', 'ca125ii_level4', 'ca125ii_level5']\n",
      "Number of ca125ii_level cols: 6\n",
      "['ca125ii_level0', 'ca125ii_level1', 'ca125ii_level2', 'ca125ii_level3', 'ca125ii_level4', 'ca125ii_level5']\n",
      "Number of ca125ii_level cols: 6\n",
      "['ca125ii_level0', 'ca125ii_level1', 'ca125ii_level2', 'ca125ii_level3', 'ca125ii_level4', 'ca125ii_level5']\n",
      "Number of ca125ii_level cols: 6\n",
      "['ca125ii_level0', 'ca125ii_level1', 'ca125ii_level2', 'ca125ii_level3', 'ca125ii_level4', 'ca125ii_level5']\n",
      "Number of ca125ii_level cols: 6\n",
      "['ca125ii_level0', 'ca125ii_level1', 'ca125ii_level2', 'ca125ii_level3', 'ca125ii_level4', 'ca125ii_level5']\n",
      "Number of ca125ii_level cols: 6\n",
      "['ca125ii_level0', 'ca125ii_level1', 'ca125ii_level2', 'ca125ii_level3', 'ca125ii_level4', 'ca125ii_level5']\n"
     ]
    }
   ],
   "source": [
    "personal_filtered = personal_data.drop(['ovar_cancer_diagdays'], axis=1)\n",
    "merged_df = merge_data_over_years(personal_filtered, screen_data, screen_abnorm_data, screen_join='left', abrorm_join='left')"
   ]
  },
  {
   "cell_type": "code",
   "execution_count": 286,
   "metadata": {},
   "outputs": [
    {
     "name": "stdout",
     "output_type": "stream",
     "text": [
      "<class 'pandas.core.frame.DataFrame'>\n",
      "Int64Index: 643704 entries, 0 to 78208\n",
      "Columns: 173 entries, ovar_cancer to cancer_in_next_10_years\n",
      "dtypes: float64(160), int64(12), object(1)\n",
      "memory usage: 854.5+ MB\n"
     ]
    }
   ],
   "source": [
    "merged_df.info()"
   ]
  },
  {
   "cell_type": "code",
   "execution_count": 276,
   "metadata": {},
   "outputs": [],
   "source": [
    "# TODO: median vs mean impute\n",
    "\n",
    "class LabeledImmpute:\n",
    "    def __init__(self) -> None:\n",
    "        self.mean = None\n",
    "        self.median = None\n",
    "\n",
    "    def fit(self, df, label_col):\n",
    "        self.mean = df.groupby([label_col], as_index=False).mean()\n",
    "        self.median = df.groupby([label_col], as_index=False).median()\n",
    "\n",
    "    def transform_base(self, df, label_col, values_df):\n",
    "        df_missing_value = df[select_numeric_columns(df)]\n",
    "        df_missing_value = get_missing_values_cols(df_missing_value)\n",
    "        df_missing_value = df_missing_value[df_missing_value.percent_missing > 0]\n",
    "        missing_val_cols = df_missing_value['column_name'].to_list()\n",
    "        df_list = []\n",
    "        for val in df[label_col].unique():\n",
    "            values_dict = values_df[values_df[label_col] == val].to_dict('records')[0]\n",
    "            labeled_df = df[df[label_col] == val]\n",
    "            for col in missing_val_cols:\n",
    "                labeled_df[col] = labeled_df[col].fillna(values_dict[col])\n",
    "            df_list.append(labeled_df)\n",
    "        return pd.concat(df_list)\n",
    "\n",
    "    def transform_median(self, df, label_col):\n",
    "        return self.transform_base(df, label_col, self.median)\n",
    "\n",
    "    def transform_mean(self, df, label_col):\n",
    "        return self.transform_base(df, label_col, self.mean)\n",
    "    \n",
    "    def transform(self, df, label_col, strategy):\n",
    "        if strategy == 'mean':\n",
    "            return self.transform_mean(df, label_col)\n",
    "        return self.transform_median(df, label_col)"
   ]
  },
  {
   "cell_type": "code",
   "execution_count": 277,
   "metadata": {},
   "outputs": [
    {
     "name": "stdout",
     "output_type": "stream",
     "text": [
      "Removing features that are over 100% missing\n",
      "0 columns were over 100 missing. This is the list of columns: []\n",
      "The table of features missing over 100 percentage: \n",
      "+---------------+---------------+---------------+-------------------+\n",
      "| column_name   | num_missing   | num_present   | percent_missing   |\n",
      "|---------------+---------------+---------------+-------------------|\n",
      "+---------------+---------------+---------------+-------------------+\n"
     ]
    }
   ],
   "source": [
    "# Drop features that are 100% missing\n",
    "merged_df = drop_cols_missing_percentage(100, merged_df, 'merged_df')"
   ]
  },
  {
   "cell_type": "code",
   "execution_count": 278,
   "metadata": {},
   "outputs": [],
   "source": [
    "merged_df = merged_df.drop(['study_yr'], axis=1)"
   ]
  },
  {
   "cell_type": "code",
   "execution_count": 279,
   "metadata": {},
   "outputs": [],
   "source": [
    "# get_cols_missing_percentage(50, merged_df, 'imputed_df', show_missing=True)"
   ]
  },
  {
   "attachments": {},
   "cell_type": "markdown",
   "metadata": {},
   "source": [
    "## Merging Datasets"
   ]
  },
  {
   "attachments": {},
   "cell_type": "markdown",
   "metadata": {},
   "source": [
    "`TODO:` should we dismiss people who do not have records in screen dataset. Abnormalities dataset? Run tests on all of the combinations of merges and imputations? "
   ]
  },
  {
   "attachments": {},
   "cell_type": "markdown",
   "metadata": {},
   "source": [
    "I realized that I was doing labeled mean imputation, which should not happen. So, I performed imputation after I merged cancer and no_cancer datasets back together. Without labeled mean imputation, gaussian NB and logistic regression do not perform well. "
   ]
  },
  {
   "cell_type": "code",
   "execution_count": 280,
   "metadata": {},
   "outputs": [],
   "source": [
    "def impute_data(X_train: pd.DataFrame, X_test: pd.DataFrame, strategy, label):\n",
    "    mean_imputer = SimpleImputer(missing_values=np.nan, strategy=strategy)\n",
    "    mean_imputer.fit(X_train)\n",
    "    X_test = mean_imputer.transform(X_test)\n",
    "    # X_train = pd.DataFrame(X_train, columns=source_df.columns)\n",
    "    # X_test = pd.DataFrame(X_test, columns=source_df.columns)\n",
    "\n",
    "    # labeled_impute = LabeledImmpute()\n",
    "    # labeled_impute.fit(X_train, label)\n",
    "    # X_train = labeled_impute.transform(X_train, label, strategy)\n",
    "    X_train = mean_imputer.transform(X_train)\n",
    "    # X_train = pd.DataFrame(X_train, columns=source_df.columns)\n",
    "    return X_train, X_test"
   ]
  },
  {
   "cell_type": "code",
   "execution_count": 281,
   "metadata": {},
   "outputs": [],
   "source": [
    "\n",
    "def process_train_test_split(source_df, train, test, label, train_size, test_size, strategy):\n",
    "    train = source_df[source_df['plco_id'].isin(train['plco_id'])]\n",
    "    test = source_df[source_df['plco_id'].isin(test['plco_id'])]\n",
    "    y_train = train[label]\n",
    "    y_test = test[label]\n",
    "    # Printing stats\n",
    "    print(f'Distribution of labels based on duplicate plco_id: {np.sum(y_test)/(np.sum(y_train) + np.sum(y_test))}')\n",
    "    \n",
    "    train = train.drop(['plco_id'], axis=1)\n",
    "    test = test.drop(['plco_id'], axis=1)\n",
    "    train = remove_featues_startswith(train, ['ovar_', 'cancer_'], [label])\n",
    "    test = remove_featues_startswith(test, ['ovar_', 'cancer_'], [label])\n",
    "    # Perform imputation before oversampling\n",
    "    columns = train.columns\n",
    "    # get_cols_missing_percentage(80, train, 'train', show_missing=True)\n",
    "    train, test = impute_data(train, test, strategy, label)\n",
    "\n",
    "    train = pd.DataFrame(train, columns=columns)\n",
    "    test = pd.DataFrame(test, columns=columns)\n",
    "    # Perform oversamping\n",
    "    train = resample_max(train, label, train_size, replace=True)\n",
    "    test = resample_max(test, label, test_size, replace=True)\n",
    "\n",
    "    y_train = train[label]\n",
    "    y_test = test[label]\n",
    "    X_train = train.drop([label], axis=1)\n",
    "    X_test = test.drop([label], axis=1)\n",
    "    return X_train, X_test, y_train, y_test\n",
    "\n",
    "def process_and_impute_for_label_kfold(source_df, label, strategy, n_max_per_class=10000, k=10):\n",
    "    # remove features starting with cancer so that we could drop labels that are nan (e.g. people get cancer later on)\n",
    "    source_df = remove_featues_startswith(source_df, ['cancer_'], [label])\n",
    "    source_df = source_df[source_df[label].notnull()]\n",
    "    # One person should not appear in train and test data since there are duplicates of a person\n",
    "    # we splits of data on person id and then oversample from that sample \n",
    "    unique_id_df = source_df[['plco_id', label]].drop_duplicates()\n",
    "    X_train_unique, X_test_unique, y_train, y_test = train_test_split(unique_id_df, unique_id_df[label], test_size = 0.2)\n",
    "\n",
    "    # Printing stats\n",
    "    print(f'Distribution of labels based on unique plco_id: {np.sum(y_test)/(np.sum(y_train) + np.sum(y_test))}')\n",
    "    # print_df(X_train[X_train[label]==1][:100])\n",
    "    train_size = int(n_max_per_class * 0.8)\n",
    "    test_size  = int(n_max_per_class * 0.2)\n",
    "    train_fold_size  = int((k-1) * train_size / k)\n",
    "    test_fold_size  = int(train_size / k)\n",
    "\n",
    "    train_test_lambda = lambda: process_train_test_split(source_df, X_train_unique, X_test_unique, label, train_size, test_size, strategy)\n",
    "    # create list of lambdas for each fold\n",
    "    # Cross validation: https://vitalflux.com/k-fold-cross-validation-python-example/\n",
    "    strtfdKFold = StratifiedKFold(n_splits=k)\n",
    "    y_train = X_train_unique[label]\n",
    "    X_train = X_train_unique[['plco_id']]\n",
    "    kfold = strtfdKFold.split(X_train, y_train)\n",
    "    k_fold_lambdas = []\n",
    "    for train, test in kfold:\n",
    "        train = X_train_unique.iloc[train, :]\n",
    "        test = X_train_unique.iloc[test, :]\n",
    "        k_fold_lambdas.append(lambda: process_train_test_split(source_df, train, test, label, train_fold_size, test_fold_size, strategy))\n",
    "\n",
    "    return train_test_lambda, k_fold_lambdas\n"
   ]
  },
  {
   "attachments": {},
   "cell_type": "markdown",
   "metadata": {},
   "source": [
    "run experiments with decision tree and remove the top feature every time. Store the depth of the tree, the efficacy of the top feature, its value, accuracy, confusion matrix\n",
    "\n",
    "https://stackoverflow.com/questions/62819569/how-to-return-the-features-that-used-in-decision-tree-that-created-by-decisiontr\n",
    "\n",
    "`TODO:` Run model purely on family history variables vs purely on screen variables. "
   ]
  },
  {
   "cell_type": "code",
   "execution_count": 282,
   "metadata": {},
   "outputs": [],
   "source": [
    "def decision_tree_feature_selection(classifier, fn, accuracy, precision, recall, f1, plot_tree=False):\n",
    "    \n",
    "    if plot_tree:\n",
    "        cn=['no cancer', 'cancer']\n",
    "        fig, axes = plt.subplots(nrows = 1,ncols = 1,figsize = (4,4), dpi=300)\n",
    "        tree.plot_tree(classifier,\n",
    "            feature_names = fn, \n",
    "            class_names=cn,\n",
    "            filled = True)\n",
    "        plt.show()\n",
    "    feature_importances = pd.DataFrame(classifier.feature_importances_,\n",
    "                        index = fn,\n",
    "                        columns=['importance']).sort_values('importance', \n",
    "                                                            ascending=False)\n",
    "    feature_importances['feature'] = feature_importances.index\n",
    "    feature_importances = feature_importances[['feature', 'importance']]\n",
    "    # TODO: boundary and confusion matrix\n",
    "    top_feature_stats = {\n",
    "        'top_feature': feature_importances.iloc[0]['feature'],\n",
    "        # 'boundary': 0,\n",
    "        'num_features_used': len(feature_importances[feature_importances['importance'] > 0]),\n",
    "        'importance': round(feature_importances.iloc[0]['importance'], 3),\n",
    "        'tree_depth': classifier.tree_.max_depth,\n",
    "        'accuracy': accuracy,\n",
    "        'precision': precision,\n",
    "        'recall':    recall,\n",
    "        'f1-score':  f1,\n",
    "    }\n",
    "    return top_feature_stats, feature_importances\n",
    "\n",
    "def get_cv_scores(classifier, k_fold_lambdas):\n",
    "    k = len(k_fold_lambdas)\n",
    "    cv_scores = []\n",
    "    pipeline = make_pipeline(StandardScaler(), classifier)\n",
    "    for k_fold_lambda in k_fold_lambdas:\n",
    "        X_train_cv, X_test_cv, y_train_cv, y_test_cv = k_fold_lambda()\n",
    "        pipeline.fit(X_train_cv, y_train_cv)\n",
    "        score = pipeline.score(X_test_cv, y_test_cv)\n",
    "        cv_scores.append(score)\n",
    "        print('Fold: %2d, Training/Test Split Distribution: %s, Accuracy: %.3f' % (k+1, np.bincount(y_train_cv), score))\n",
    "    \n",
    "    print('\\n\\nCross-Validation accuracy: %.3f +/- %.3f' %(np.mean(cv_scores), np.std(cv_scores)))\n",
    "    return cv_scores\n",
    "\n",
    "def run_classifiers(classifiers, df, label, drop_n_features = 1, k=10, cv=False, plot_tree=False):\n",
    "    df_feature_importance_tree = None\n",
    "    df_top_feature_importances = []\n",
    "    for i in range(drop_n_features):\n",
    "        \n",
    "        train_test_lambda, k_fold_lambdas = process_and_impute_for_label_kfold(df, label, 'median', n_max_per_class=10000, k=k)\n",
    "        X_train, X_test, y_train, y_test = train_test_lambda()\n",
    "        auc_dict = {}\n",
    "        accuracy_dict = {}\n",
    "        top_feature_importance = []\n",
    "        for classifier_type, classifier in classifiers.items():\n",
    "            # Cross Validation\n",
    "            if cv:\n",
    "                get_cv_scores(classifier, k_fold_lambdas)\n",
    "\n",
    "            # Test classifier\n",
    "            print(classifier_type)\n",
    "            auc, accuracy, precision, recall, f1 = run_classifier(classifier, X_train, X_test, y_train, y_test)\n",
    "\n",
    "            # Decision Tree feature selection\n",
    "            if classifier_type == 'DecisionTreeClassifier':\n",
    "                fn=X_train.columns\n",
    "                top_feature_stats, feature_importances = decision_tree_feature_selection(classifier, fn, accuracy, precision, recall, f1, plot_tree=plot_tree)\n",
    "                df_top_feature_importances.append(top_feature_stats)\n",
    "                top_feature_importance.append(feature_importances.iloc[0]['feature'])\n",
    "                feature_importances = feature_importances[feature_importances['importance'] > 0]\n",
    "                if df_feature_importance_tree is not None:\n",
    "                    df_feature_importance_tree = df_feature_importance_tree.merge(feature_importances, on='feature', how='outer', suffixes=[f'_tiral_{i}', f'_tiral_{i+1}'])\n",
    "                else:\n",
    "                    df_feature_importance_tree = feature_importances\n",
    "            auc_dict[classifier_type] = auc\n",
    "            accuracy_dict[classifier_type] = accuracy\n",
    "        df = df.drop(top_feature_importance, axis=1)\n",
    "\n",
    "    return df_top_feature_importances, df_feature_importance_tree\n",
    "\n"
   ]
  },
  {
   "cell_type": "code",
   "execution_count": 283,
   "metadata": {},
   "outputs": [
    {
     "name": "stdout",
     "output_type": "stream",
     "text": [
      "Number of cancer_ cols: 4\n",
      "['cancer_in_next_1_years', 'cancer_in_next_3_years', 'cancer_in_next_5_years', 'cancer_in_next_10_years']\n",
      "Distribution of labels based on unique plco_id: 0.17520661157024794\n",
      "Distribution of labels based on duplicate plco_id: 0.2541935483870968\n",
      "Number of ovar_ cols: 4\n",
      "['ovar_cancer', 'ovar_cancer_years', 'ovar_result', 'ovar_days']\n",
      "Number of cancer_ cols: 1\n",
      "['cancer_in_next_1_years']\n",
      "Number of ovar_ cols: 4\n",
      "['ovar_cancer', 'ovar_cancer_years', 'ovar_result', 'ovar_days']\n",
      "Number of cancer_ cols: 1\n",
      "['cancer_in_next_1_years']\n",
      "DecisionTreeClassifier\n",
      "     precision  recall  f1-score  support\n",
      "0.0   0.917889   0.939  0.928324   2000.0\n",
      "1.0   0.937564   0.916  0.926657   2000.0\n",
      "ROC AUC score: 0.927729\n",
      "Accuracy Score: 0.9275\n"
     ]
    },
    {
     "data": {
      "image/png": "[encoded data removed]",
      "text/plain": [
       "<Figure size 1152x360 with 3 Axes>"
      ]
     },
     "metadata": {
      "needs_background": "light"
     },
     "output_type": "display_data"
    },
    {
     "name": "stdout",
     "output_type": "stream",
     "text": [
      "Number of cancer_ cols: 4\n",
      "['cancer_in_next_1_years', 'cancer_in_next_3_years', 'cancer_in_next_5_years', 'cancer_in_next_10_years']\n",
      "Distribution of labels based on unique plco_id: 0.2049586776859504\n",
      "Distribution of labels based on duplicate plco_id: 0.27375\n",
      "Number of ovar_ cols: 4\n",
      "['ovar_cancer', 'ovar_cancer_years', 'ovar_result', 'ovar_days']\n",
      "Number of cancer_ cols: 1\n",
      "['cancer_in_next_1_years']\n",
      "Number of ovar_ cols: 4\n",
      "['ovar_cancer', 'ovar_cancer_years', 'ovar_result', 'ovar_days']\n",
      "Number of cancer_ cols: 1\n",
      "['cancer_in_next_1_years']\n",
      "DecisionTreeClassifier\n",
      "     precision  recall  f1-score  support\n",
      "0.0   0.927586  0.9415  0.934491   2000.0\n",
      "1.0   0.940609  0.9265  0.933501   2000.0\n",
      "ROC AUC score: 0.93428925\n",
      "Accuracy Score: 0.934\n"
     ]
    },
    {
     "data": {
      "image/png": "[encoded data removed]",
      "text/plain": [
       "<Figure size 1152x360 with 3 Axes>"
      ]
     },
     "metadata": {
      "needs_background": "light"
     },
     "output_type": "display_data"
    },
    {
     "name": "stdout",
     "output_type": "stream",
     "text": [
      "Number of cancer_ cols: 4\n",
      "['cancer_in_next_1_years', 'cancer_in_next_3_years', 'cancer_in_next_5_years', 'cancer_in_next_10_years']\n",
      "Distribution of labels based on unique plco_id: 0.20826446280991737\n",
      "Distribution of labels based on duplicate plco_id: 0.27667493796526055\n",
      "Number of ovar_ cols: 4\n",
      "['ovar_cancer', 'ovar_cancer_years', 'ovar_result', 'ovar_days']\n",
      "Number of cancer_ cols: 1\n",
      "['cancer_in_next_1_years']\n",
      "Number of ovar_ cols: 4\n",
      "['ovar_cancer', 'ovar_cancer_years', 'ovar_result', 'ovar_days']\n",
      "Number of cancer_ cols: 1\n",
      "['cancer_in_next_1_years']\n",
      "DecisionTreeClassifier\n",
      "     precision  recall  f1-score  support\n",
      "0.0   0.921053  0.9275  0.924265   2000.0\n",
      "1.0   0.926989  0.9205  0.923733   2000.0\n",
      "ROC AUC score: 0.924771\n",
      "Accuracy Score: 0.924\n"
     ]
    },
    {
     "data": {
      "image/png": "[encoded data removed]",
      "text/plain": [
       "<Figure size 1152x360 with 3 Axes>"
      ]
     },
     "metadata": {
      "needs_background": "light"
     },
     "output_type": "display_data"
    },
    {
     "name": "stdout",
     "output_type": "stream",
     "text": [
      "Number of cancer_ cols: 4\n",
      "['cancer_in_next_1_years', 'cancer_in_next_3_years', 'cancer_in_next_5_years', 'cancer_in_next_10_years']\n",
      "Distribution of labels based on unique plco_id: 0.1933884297520661\n",
      "Distribution of labels based on duplicate plco_id: 0.2641025641025641\n",
      "Number of ovar_ cols: 4\n",
      "['ovar_cancer', 'ovar_cancer_years', 'ovar_result', 'ovar_days']\n",
      "Number of cancer_ cols: 1\n",
      "['cancer_in_next_1_years']\n",
      "Number of ovar_ cols: 4\n",
      "['ovar_cancer', 'ovar_cancer_years', 'ovar_result', 'ovar_days']\n",
      "Number of cancer_ cols: 1\n",
      "['cancer_in_next_1_years']\n",
      "DecisionTreeClassifier\n",
      "     precision  recall  f1-score  support\n",
      "0.0   0.903163  0.9280  0.915413   2000.0\n",
      "1.0   0.925964  0.9005  0.913054   2000.0\n",
      "ROC AUC score: 0.9145903750000001\n",
      "Accuracy Score: 0.91425\n"
     ]
    },
    {
     "data": {
      "image/png": "[encoded data removed]",
      "text/plain": [
       "<Figure size 1152x360 with 3 Axes>"
      ]
     },
     "metadata": {
      "needs_background": "light"
     },
     "output_type": "display_data"
    },
    {
     "name": "stdout",
     "output_type": "stream",
     "text": [
      "Number of cancer_ cols: 4\n",
      "['cancer_in_next_1_years', 'cancer_in_next_3_years', 'cancer_in_next_5_years', 'cancer_in_next_10_years']\n",
      "Distribution of labels based on unique plco_id: 0.20165289256198346\n",
      "Distribution of labels based on duplicate plco_id: 0.27483870967741936\n",
      "Number of ovar_ cols: 4\n",
      "['ovar_cancer', 'ovar_cancer_years', 'ovar_result', 'ovar_days']\n",
      "Number of cancer_ cols: 1\n",
      "['cancer_in_next_1_years']\n",
      "Number of ovar_ cols: 4\n",
      "['ovar_cancer', 'ovar_cancer_years', 'ovar_result', 'ovar_days']\n",
      "Number of cancer_ cols: 1\n",
      "['cancer_in_next_1_years']\n",
      "DecisionTreeClassifier\n",
      "     precision  recall  f1-score  support\n",
      "0.0   0.861811   0.923  0.891357   2000.0\n",
      "1.0   0.917115   0.852  0.883359   2000.0\n",
      "ROC AUC score: 0.88757625\n",
      "Accuracy Score: 0.8875\n"
     ]
    },
    {
     "data": {
      "image/png": "[encoded data removed]",
      "text/plain": [
       "<Figure size 1152x360 with 3 Axes>"
      ]
     },
     "metadata": {
      "needs_background": "light"
     },
     "output_type": "display_data"
    },
    {
     "name": "stdout",
     "output_type": "stream",
     "text": [
      "Number of cancer_ cols: 4\n",
      "['cancer_in_next_1_years', 'cancer_in_next_3_years', 'cancer_in_next_5_years', 'cancer_in_next_10_years']\n",
      "Distribution of labels based on unique plco_id: 0.22644628099173553\n",
      "Distribution of labels based on duplicate plco_id: 0.2874845105328377\n",
      "Number of ovar_ cols: 4\n",
      "['ovar_cancer', 'ovar_cancer_years', 'ovar_result', 'ovar_days']\n",
      "Number of cancer_ cols: 1\n",
      "['cancer_in_next_1_years']\n",
      "Number of ovar_ cols: 4\n",
      "['ovar_cancer', 'ovar_cancer_years', 'ovar_result', 'ovar_days']\n",
      "Number of cancer_ cols: 1\n",
      "['cancer_in_next_1_years']\n",
      "DecisionTreeClassifier\n",
      "     precision  recall  f1-score  support\n",
      "0.0   0.933135  0.9420  0.937547   2000.0\n",
      "1.0   0.941444  0.9325  0.936951   2000.0\n",
      "ROC AUC score: 0.9372029999999999\n",
      "Accuracy Score: 0.93725\n"
     ]
    },
    {
     "data": {
      "image/png": "[encoded data removed]",
      "text/plain": [
       "<Figure size 1152x360 with 3 Axes>"
      ]
     },
     "metadata": {
      "needs_background": "light"
     },
     "output_type": "display_data"
    },
    {
     "name": "stdout",
     "output_type": "stream",
     "text": [
      "Number of cancer_ cols: 4\n",
      "['cancer_in_next_1_years', 'cancer_in_next_3_years', 'cancer_in_next_5_years', 'cancer_in_next_10_years']\n",
      "Distribution of labels based on unique plco_id: 0.20330578512396694\n",
      "Distribution of labels based on duplicate plco_id: 0.2729591836734694\n",
      "Number of ovar_ cols: 4\n",
      "['ovar_cancer', 'ovar_cancer_years', 'ovar_result', 'ovar_days']\n",
      "Number of cancer_ cols: 1\n",
      "['cancer_in_next_1_years']\n",
      "Number of ovar_ cols: 4\n",
      "['ovar_cancer', 'ovar_cancer_years', 'ovar_result', 'ovar_days']\n",
      "Number of cancer_ cols: 1\n",
      "['cancer_in_next_1_years']\n"
     ]
    },
    {
     "ename": "KeyboardInterrupt",
     "evalue": "",
     "output_type": "error",
     "traceback": [
      "\u001b[1;31m---------------------------------------------------------------------------\u001b[0m",
      "\u001b[1;31mKeyboardInterrupt\u001b[0m                         Traceback (most recent call last)",
      "\u001b[1;32mc:\\Data\\coding_projects\\ovarian_cancer_models\\processing.ipynb Cell 36\u001b[0m in \u001b[0;36m<cell line: 8>\u001b[1;34m()\u001b[0m\n\u001b[0;32m      <a href='vscode-notebook-cell:/c%3A/Data/coding_projects/ovarian_cancer_models/processing.ipynb#Y162sZmlsZQ%3D%3D?line=5'>6</a>\u001b[0m label \u001b[39m=\u001b[39m \u001b[39m'\u001b[39m\u001b[39mcancer_in_next_1_years\u001b[39m\u001b[39m'\u001b[39m \u001b[39m# 'cancer_in_next_10_years', 'ovar_cancer'\u001b[39;00m\n\u001b[0;32m      <a href='vscode-notebook-cell:/c%3A/Data/coding_projects/ovarian_cancer_models/processing.ipynb#Y162sZmlsZQ%3D%3D?line=6'>7</a>\u001b[0m drop_n_features \u001b[39m=\u001b[39m \u001b[39m100\u001b[39m\n\u001b[1;32m----> <a href='vscode-notebook-cell:/c%3A/Data/coding_projects/ovarian_cancer_models/processing.ipynb#Y162sZmlsZQ%3D%3D?line=7'>8</a>\u001b[0m df_top_feature_importances, df_feature_importance_tree \u001b[39m=\u001b[39m run_classifiers(classifiers, merged_df, label, cv\u001b[39m=\u001b[39;49m\u001b[39mFalse\u001b[39;49;00m, drop_n_features \u001b[39m=\u001b[39;49m drop_n_features, k\u001b[39m=\u001b[39;49m\u001b[39m10\u001b[39;49m, plot_tree\u001b[39m=\u001b[39;49m\u001b[39mFalse\u001b[39;49;00m)\n\u001b[0;32m      <a href='vscode-notebook-cell:/c%3A/Data/coding_projects/ovarian_cancer_models/processing.ipynb#Y162sZmlsZQ%3D%3D?line=8'>9</a>\u001b[0m \u001b[39m# print_df(df_feature_importance_tree)\u001b[39;00m\n\u001b[0;32m     <a href='vscode-notebook-cell:/c%3A/Data/coding_projects/ovarian_cancer_models/processing.ipynb#Y162sZmlsZQ%3D%3D?line=9'>10</a>\u001b[0m print_df(pd\u001b[39m.\u001b[39mDataFrame(df_top_feature_importances))\n",
      "\u001b[1;32mc:\\Data\\coding_projects\\ovarian_cancer_models\\processing.ipynb Cell 36\u001b[0m in \u001b[0;36mrun_classifiers\u001b[1;34m(classifiers, df, label, drop_n_features, k, cv, plot_tree)\u001b[0m\n\u001b[0;32m     <a href='vscode-notebook-cell:/c%3A/Data/coding_projects/ovarian_cancer_models/processing.ipynb#Y162sZmlsZQ%3D%3D?line=47'>48</a>\u001b[0m \u001b[39mfor\u001b[39;00m i \u001b[39min\u001b[39;00m \u001b[39mrange\u001b[39m(drop_n_features):\n\u001b[0;32m     <a href='vscode-notebook-cell:/c%3A/Data/coding_projects/ovarian_cancer_models/processing.ipynb#Y162sZmlsZQ%3D%3D?line=49'>50</a>\u001b[0m     train_test_lambda, k_fold_lambdas \u001b[39m=\u001b[39m process_and_impute_for_label_kfold(df, label, \u001b[39m'\u001b[39m\u001b[39mmedian\u001b[39m\u001b[39m'\u001b[39m, n_max_per_class\u001b[39m=\u001b[39m\u001b[39m10000\u001b[39m, k\u001b[39m=\u001b[39mk)\n\u001b[1;32m---> <a href='vscode-notebook-cell:/c%3A/Data/coding_projects/ovarian_cancer_models/processing.ipynb#Y162sZmlsZQ%3D%3D?line=50'>51</a>\u001b[0m     X_train, X_test, y_train, y_test \u001b[39m=\u001b[39m train_test_lambda()\n\u001b[0;32m     <a href='vscode-notebook-cell:/c%3A/Data/coding_projects/ovarian_cancer_models/processing.ipynb#Y162sZmlsZQ%3D%3D?line=51'>52</a>\u001b[0m     auc_dict \u001b[39m=\u001b[39m {}\n\u001b[0;32m     <a href='vscode-notebook-cell:/c%3A/Data/coding_projects/ovarian_cancer_models/processing.ipynb#Y162sZmlsZQ%3D%3D?line=52'>53</a>\u001b[0m     accuracy_dict \u001b[39m=\u001b[39m {}\n",
      "\u001b[1;32mc:\\Data\\coding_projects\\ovarian_cancer_models\\processing.ipynb Cell 36\u001b[0m in \u001b[0;36mprocess_and_impute_for_label_kfold.<locals>.<lambda>\u001b[1;34m()\u001b[0m\n\u001b[0;32m     <a href='vscode-notebook-cell:/c%3A/Data/coding_projects/ovarian_cancer_models/processing.ipynb#Y162sZmlsZQ%3D%3D?line=43'>44</a>\u001b[0m train_fold_size  \u001b[39m=\u001b[39m \u001b[39mint\u001b[39m((k\u001b[39m-\u001b[39m\u001b[39m1\u001b[39m) \u001b[39m*\u001b[39m train_size \u001b[39m/\u001b[39m k)\n\u001b[0;32m     <a href='vscode-notebook-cell:/c%3A/Data/coding_projects/ovarian_cancer_models/processing.ipynb#Y162sZmlsZQ%3D%3D?line=44'>45</a>\u001b[0m test_fold_size  \u001b[39m=\u001b[39m \u001b[39mint\u001b[39m(train_size \u001b[39m/\u001b[39m k)\n\u001b[1;32m---> <a href='vscode-notebook-cell:/c%3A/Data/coding_projects/ovarian_cancer_models/processing.ipynb#Y162sZmlsZQ%3D%3D?line=46'>47</a>\u001b[0m train_test_lambda \u001b[39m=\u001b[39m \u001b[39mlambda\u001b[39;00m: process_train_test_split(source_df, X_train_unique, X_test_unique, label, train_size, test_size, strategy)\n\u001b[0;32m     <a href='vscode-notebook-cell:/c%3A/Data/coding_projects/ovarian_cancer_models/processing.ipynb#Y162sZmlsZQ%3D%3D?line=47'>48</a>\u001b[0m \u001b[39m# create list of lambdas for each fold\u001b[39;00m\n\u001b[0;32m     <a href='vscode-notebook-cell:/c%3A/Data/coding_projects/ovarian_cancer_models/processing.ipynb#Y162sZmlsZQ%3D%3D?line=48'>49</a>\u001b[0m \u001b[39m# Cross validation: https://vitalflux.com/k-fold-cross-validation-python-example/\u001b[39;00m\n\u001b[0;32m     <a href='vscode-notebook-cell:/c%3A/Data/coding_projects/ovarian_cancer_models/processing.ipynb#Y162sZmlsZQ%3D%3D?line=49'>50</a>\u001b[0m strtfdKFold \u001b[39m=\u001b[39m StratifiedKFold(n_splits\u001b[39m=\u001b[39mk)\n",
      "\u001b[1;32mc:\\Data\\coding_projects\\ovarian_cancer_models\\processing.ipynb Cell 36\u001b[0m in \u001b[0;36mprocess_train_test_split\u001b[1;34m(source_df, train, test, label, train_size, test_size, strategy)\u001b[0m\n\u001b[0;32m     <a href='vscode-notebook-cell:/c%3A/Data/coding_projects/ovarian_cancer_models/processing.ipynb#Y162sZmlsZQ%3D%3D?line=13'>14</a>\u001b[0m columns \u001b[39m=\u001b[39m train\u001b[39m.\u001b[39mcolumns\n\u001b[0;32m     <a href='vscode-notebook-cell:/c%3A/Data/coding_projects/ovarian_cancer_models/processing.ipynb#Y162sZmlsZQ%3D%3D?line=14'>15</a>\u001b[0m \u001b[39m# get_cols_missing_percentage(80, train, 'train', show_missing=True)\u001b[39;00m\n\u001b[1;32m---> <a href='vscode-notebook-cell:/c%3A/Data/coding_projects/ovarian_cancer_models/processing.ipynb#Y162sZmlsZQ%3D%3D?line=15'>16</a>\u001b[0m train, test \u001b[39m=\u001b[39m impute_data(train, test, strategy, label)\n\u001b[0;32m     <a href='vscode-notebook-cell:/c%3A/Data/coding_projects/ovarian_cancer_models/processing.ipynb#Y162sZmlsZQ%3D%3D?line=17'>18</a>\u001b[0m train \u001b[39m=\u001b[39m pd\u001b[39m.\u001b[39mDataFrame(train, columns\u001b[39m=\u001b[39mcolumns)\n\u001b[0;32m     <a href='vscode-notebook-cell:/c%3A/Data/coding_projects/ovarian_cancer_models/processing.ipynb#Y162sZmlsZQ%3D%3D?line=18'>19</a>\u001b[0m test \u001b[39m=\u001b[39m pd\u001b[39m.\u001b[39mDataFrame(test, columns\u001b[39m=\u001b[39mcolumns)\n",
      "\u001b[1;32mc:\\Data\\coding_projects\\ovarian_cancer_models\\processing.ipynb Cell 36\u001b[0m in \u001b[0;36mimpute_data\u001b[1;34m(X_train, X_test, strategy, label)\u001b[0m\n\u001b[0;32m      <a href='vscode-notebook-cell:/c%3A/Data/coding_projects/ovarian_cancer_models/processing.ipynb#Y162sZmlsZQ%3D%3D?line=3'>4</a>\u001b[0m X_test \u001b[39m=\u001b[39m mean_imputer\u001b[39m.\u001b[39mtransform(X_test)\n\u001b[0;32m      <a href='vscode-notebook-cell:/c%3A/Data/coding_projects/ovarian_cancer_models/processing.ipynb#Y162sZmlsZQ%3D%3D?line=4'>5</a>\u001b[0m \u001b[39m# X_train = pd.DataFrame(X_train, columns=source_df.columns)\u001b[39;00m\n\u001b[0;32m      <a href='vscode-notebook-cell:/c%3A/Data/coding_projects/ovarian_cancer_models/processing.ipynb#Y162sZmlsZQ%3D%3D?line=5'>6</a>\u001b[0m \u001b[39m# X_test = pd.DataFrame(X_test, columns=source_df.columns)\u001b[39;00m\n\u001b[0;32m      <a href='vscode-notebook-cell:/c%3A/Data/coding_projects/ovarian_cancer_models/processing.ipynb#Y162sZmlsZQ%3D%3D?line=6'>7</a>\u001b[0m \n\u001b[0;32m      <a href='vscode-notebook-cell:/c%3A/Data/coding_projects/ovarian_cancer_models/processing.ipynb#Y162sZmlsZQ%3D%3D?line=7'>8</a>\u001b[0m \u001b[39m# labeled_impute = LabeledImmpute()\u001b[39;00m\n\u001b[0;32m      <a href='vscode-notebook-cell:/c%3A/Data/coding_projects/ovarian_cancer_models/processing.ipynb#Y162sZmlsZQ%3D%3D?line=8'>9</a>\u001b[0m \u001b[39m# labeled_impute.fit(X_train, label)\u001b[39;00m\n\u001b[0;32m     <a href='vscode-notebook-cell:/c%3A/Data/coding_projects/ovarian_cancer_models/processing.ipynb#Y162sZmlsZQ%3D%3D?line=9'>10</a>\u001b[0m \u001b[39m# X_train = labeled_impute.transform(X_train, label, strategy)\u001b[39;00m\n\u001b[1;32m---> <a href='vscode-notebook-cell:/c%3A/Data/coding_projects/ovarian_cancer_models/processing.ipynb#Y162sZmlsZQ%3D%3D?line=10'>11</a>\u001b[0m X_train \u001b[39m=\u001b[39m mean_imputer\u001b[39m.\u001b[39;49mtransform(X_train)\n\u001b[0;32m     <a href='vscode-notebook-cell:/c%3A/Data/coding_projects/ovarian_cancer_models/processing.ipynb#Y162sZmlsZQ%3D%3D?line=11'>12</a>\u001b[0m \u001b[39m# X_train = pd.DataFrame(X_train, columns=source_df.columns)\u001b[39;00m\n\u001b[0;32m     <a href='vscode-notebook-cell:/c%3A/Data/coding_projects/ovarian_cancer_models/processing.ipynb#Y162sZmlsZQ%3D%3D?line=12'>13</a>\u001b[0m \u001b[39mreturn\u001b[39;00m X_train, X_test\n",
      "File \u001b[1;32mc:\\Users\\fedor\\AppData\\Local\\Programs\\Python\\Python310\\lib\\site-packages\\sklearn\\impute\\_base.py:579\u001b[0m, in \u001b[0;36mSimpleImputer.transform\u001b[1;34m(self, X)\u001b[0m\n\u001b[0;32m    577\u001b[0m     n_missing \u001b[39m=\u001b[39m np\u001b[39m.\u001b[39msum(mask_valid_features, axis\u001b[39m=\u001b[39m\u001b[39m0\u001b[39m)\n\u001b[0;32m    578\u001b[0m     values \u001b[39m=\u001b[39m np\u001b[39m.\u001b[39mrepeat(valid_statistics, n_missing)\n\u001b[1;32m--> 579\u001b[0m     coordinates \u001b[39m=\u001b[39m np\u001b[39m.\u001b[39;49mwhere(mask_valid_features\u001b[39m.\u001b[39;49mtranspose())[::\u001b[39m-\u001b[39m\u001b[39m1\u001b[39m]\n\u001b[0;32m    581\u001b[0m     X[coordinates] \u001b[39m=\u001b[39m values\n\u001b[0;32m    583\u001b[0m X_indicator \u001b[39m=\u001b[39m \u001b[39msuper\u001b[39m()\u001b[39m.\u001b[39m_transform_indicator(missing_mask)\n",
      "File \u001b[1;32m<__array_function__ internals>:180\u001b[0m, in \u001b[0;36mwhere\u001b[1;34m(*args, **kwargs)\u001b[0m\n",
      "\u001b[1;31mKeyboardInterrupt\u001b[0m: "
     ]
    }
   ],
   "source": [
    "classifiers = {\n",
    "    'DecisionTreeClassifier': DecisionTreeClassifier(criterion= 'entropy'),\n",
    "    # 'RandomForestClassifier': RandomForestClassifier(criterion= 'gini', n_estimators= 200),\n",
    "    # 'XGBClassifier': XGBClassifier(eval_metric= 'error', learning_rate= 0.1)\n",
    "}\n",
    "label = 'cancer_in_next_1_years' # 'cancer_in_next_10_years', 'ovar_cancer'\n",
    "drop_n_features = 1\n",
    "df_top_feature_importances, df_feature_importance_tree = run_classifiers(classifiers, merged_df, label, cv=False, drop_n_features = drop_n_features, k=10, plot_tree=False)\n",
    "# print_df(df_feature_importance_tree)\n",
    "print_df(pd.DataFrame(df_top_feature_importances))\n",
    "pd.DataFrame(df_top_feature_importances).to_csv(f'./top_{drop_n_features}_features_decision_tree.csv')"
   ]
  },
  {
   "cell_type": "code",
   "execution_count": null,
   "metadata": {},
   "outputs": [],
   "source": [
    "df_feature_importance_tree.to_csv(f'./feature_importance_{drop_n_features}_trials.csv')"
   ]
  },
  {
   "cell_type": "code",
   "execution_count": null,
   "metadata": {},
   "outputs": [
    {
     "name": "stdout",
     "output_type": "stream",
     "text": [
      "+---------------------+---------+-------------+\n",
      "| feature             |   count |        mean |\n",
      "|---------------------+---------+-------------|\n",
      "| ca125ii_level       |       1 | 0.070834    |\n",
      "| age                 |       2 | 0.064442    |\n",
      "| bq_age              |      10 | 0.0407935   |\n",
      "| ph_any_muq          |      11 | 0.0394536   |\n",
      "| bmi_20              |       7 | 0.0382771   |\n",
      "| bmi_50              |       5 | 0.0381712   |\n",
      "| tvu_result          |       3 | 0.0372975   |\n",
      "| ca125_result        |      16 | 0.0354946   |\n",
      "| ph_any_sqx          |      12 | 0.0345463   |\n",
      "| weight50_f          |       9 | 0.033669    |\n",
      "| center              |      14 | 0.0326251   |\n",
      "| bmi_curr            |       4 | 0.0326038   |\n",
      "| weight_f            |       6 | 0.0309131   |\n",
      "| rndyear             |      16 | 0.0304824   |\n",
      "| brothers            |      25 | 0.0295411   |\n",
      "| weight20_f          |       8 | 0.0290213   |\n",
      "| ph_any_dhq          |      70 | 0.0273253   |\n",
      "| height_f            |      13 | 0.0261344   |\n",
      "| cig_stop            |      24 | 0.0253251   |\n",
      "| ovary_trial_flag    |      69 | 0.0246022   |\n",
      "| thorm               |      28 | 0.0245224   |\n",
      "| educat              |      22 | 0.0238872   |\n",
      "| pack_years          |      26 | 0.023614    |\n",
      "| marital             |      42 | 0.0229448   |\n",
      "| asppd               |      34 | 0.022892    |\n",
      "| occupat             |      32 | 0.0225035   |\n",
      "| smokea_f            |      18 | 0.0221105   |\n",
      "| trypreg             |     100 | 0.0216473   |\n",
      "| bcontrt             |      31 | 0.0216022   |\n",
      "| in_TGWAS_population |      55 | 0.0214755   |\n",
      "| ph_any_trial        |     100 | 0.0214459   |\n",
      "| fmenstr             |      35 | 0.021222    |\n",
      "| divertic_f          |      99 | 0.0208731   |\n",
      "| cig_years           |      23 | 0.020861    |\n",
      "| breast_fh_age       |      46 | 0.0207249   |\n",
      "| ibuppd              |      33 | 0.0206189   |\n",
      "| sisters             |      15 | 0.0203734   |\n",
      "| dual                |     100 | 0.0201234   |\n",
      "| gallblad_f          |      76 | 0.0197494   |\n",
      "| livec               |      20 | 0.0196702   |\n",
      "| filtered_f          |      95 | 0.0196029   |\n",
      "| bronchit_f          |      99 | 0.0190946   |\n",
      "| bcontra             |      57 | 0.0188625   |\n",
      "| stillb              |      89 | 0.0188039   |\n",
      "| agelevel            |      21 | 0.0186448   |\n",
      "| lmenstr             |      27 | 0.0186392   |\n",
      "| prega               |      36 | 0.0186287   |\n",
      "| hearta_f            |     100 | 0.0181536   |\n",
      "| pregc               |      30 | 0.0178895   |\n",
      "| osteopor_f          |      84 | 0.01769     |\n",
      "| bmi_curc            |      37 | 0.0174717   |\n",
      "| menstrs_stat_type   |      72 | 0.0173327   |\n",
      "| arthrit_f           |      49 | 0.0172215   |\n",
      "| breast_fh_cnt       |      86 | 0.0171952   |\n",
      "| cigpd_f             |      43 | 0.0171708   |\n",
      "| miscar              |      37 | 0.017155    |\n",
      "| hystera             |      51 | 0.0169177   |\n",
      "| fh_cancer           |      47 | 0.0169049   |\n",
      "| breast_fh           |      87 | 0.0168895   |\n",
      "| hyperten_f          |      53 | 0.0168741   |\n",
      "| preg_f              |      89 | 0.0167008   |\n",
      "| diabetes_f          |      98 | 0.0166668   |\n",
      "| tuballig            |      65 | 0.0165588   |\n",
      "| ovcyst_outline      |      10 | 0.0165282   |\n",
      "| bbd                 |      51 | 0.0162435   |\n",
      "| bmi_20c             |      45 | 0.0158951   |\n",
      "| bmi_50c             |      38 | 0.0157723   |\n",
      "| ovarsumm_fh_age     |      81 | 0.0157661   |\n",
      "| fchilda             |      29 | 0.0156556   |\n",
      "| usound_history      |      59 | 0.0156257   |\n",
      "| polyps_f            |     100 | 0.0150262   |\n",
      "| ovariesr_f          |      71 | 0.0149358   |\n",
      "| cig_stat            |      58 | 0.0149307   |\n",
      "| pelvic_history      |      40 | 0.0148847   |\n",
      "| ovcyst_vol          |      14 | 0.0144688   |\n",
      "| papsmear_history    |      41 | 0.0143315   |\n",
      "| mammo_history       |      44 | 0.0143035   |\n",
      "| race7               |      62 | 0.0142723   |\n",
      "| uterine_fib         |      56 | 0.0141929   |\n",
      "| horm_stat           |      66 | 0.0139679   |\n",
      "| phycons             |      98 | 0.0138775   |\n",
      "| ibup                |      49 | 0.0137647   |\n",
      "| rsmoker_f           |      63 | 0.0137349   |\n",
      "| rtran_p             |      62 | 0.0135229   |\n",
      "| ovcyst_solid        |      13 | 0.0134735   |\n",
      "| ovary_vol           |      54 | 0.0133403   |\n",
      "| bcontr_f            |      57 | 0.0129013   |\n",
      "| ovcyst_solidl       |       6 | 0.0128918   |\n",
      "| lantero_p           |      78 | 0.0128543   |\n",
      "| benign_ovcyst       |      62 | 0.0128294   |\n",
      "| endometriosis       |     100 | 0.0124648   |\n",
      "| solid               |      14 | 0.0123255   |\n",
      "| curhorm             |      66 | 0.0123099   |\n",
      "| asp                 |      48 | 0.0120989   |\n",
      "| tvu_ref             |      52 | 0.0119292   |\n",
      "| hyster_f            |      73 | 0.0118205   |\n",
      "| ovcyst_diam         |      48 | 0.0114193   |\n",
      "| menstrs             |      73 | 0.0112159   |\n",
      "| horm_f              |      81 | 0.0110992   |\n",
      "| liver_comorbidity   |      99 | 0.0110912   |\n",
      "| ovcyst_morph        |      31 | 0.0107138   |\n",
      "| ovary_diamr         |      45 | 0.00973231  |\n",
      "| cyst                |      11 | 0.00966363  |\n",
      "| smoked_f            |      56 | 0.00941955  |\n",
      "| ovarsumm_fh         |      96 | 0.00941575  |\n",
      "| hispanic_f          |      81 | 0.00922598  |\n",
      "| rantero_p           |      73 | 0.00890761  |\n",
      "| ovcyst_sum          |      37 | 0.00861143  |\n",
      "| ovcyst_diaml        |      52 | 0.00860813  |\n",
      "| ovcyst_volr         |      39 | 0.00853154  |\n",
      "| ph_any_bq           |      88 | 0.00852878  |\n",
      "| colon_comorbidity   |      85 | 0.00841533  |\n",
      "| stroke_f            |      90 | 0.00841313  |\n",
      "| ovcyst_voll         |      66 | 0.00833809  |\n",
      "| tubal               |      89 | 0.00826827  |\n",
      "| rlong_p             |      58 | 0.00826276  |\n",
      "| ovcyst_outliner     |       9 | 0.007753    |\n",
      "| echo                |      27 | 0.00771678  |\n",
      "| ovary_diam          |      59 | 0.00764895  |\n",
      "| viseith             |      77 | 0.00762128  |\n",
      "| lvol_p              |      61 | 0.00715051  |\n",
      "| ph_any_dqx          |      96 | 0.00689419  |\n",
      "| ltran_p             |      78 | 0.00646398  |\n",
      "| rvol_p              |      53 | 0.00604194  |\n",
      "| emphys_f            |      93 | 0.00591603  |\n",
      "| llong_p             |      67 | 0.00591295  |\n",
      "| post_menopausal     |      70 | 0.00580703  |\n",
      "| ovarsumm_fh_cnt     |      91 | 0.00569427  |\n",
      "| ovary_volr          |      48 | 0.00563077  |\n",
      "| maxdi               |      33 | 0.00524902  |\n",
      "| ovcyst_diamr        |      56 | 0.00507497  |\n",
      "| ovcyst_sumr         |      19 | 0.00497838  |\n",
      "| ovary_voll          |      65 | 0.00424668  |\n",
      "| numcyst             |      31 | 0.00401808  |\n",
      "| volum               |      38 | 0.00368816  |\n",
      "| detr_p              |      37 | 0.00351974  |\n",
      "| ovcyst_suml         |      14 | 0.00348744  |\n",
      "| ovcyst_morphr       |      23 | 0.0033834   |\n",
      "| cigar               |      70 | 0.00323991  |\n",
      "| visr                |      38 | 0.00299826  |\n",
      "| ovary_diaml         |      50 | 0.00291769  |\n",
      "| pipe                |      65 | 0.00281909  |\n",
      "| ltran_q             |      20 | 0.00267615  |\n",
      "| ovcyst_outlinel     |      12 | 0.00267225  |\n",
      "| rlong_q             |      12 | 0.00262817  |\n",
      "| visboth             |      29 | 0.0020896   |\n",
      "| ovcyst_morphl       |      21 | 0.00196874  |\n",
      "| rtran_q             |       4 | 0.00196323  |\n",
      "| numcystr            |      27 | 0.00192144  |\n",
      "| rantero_q           |       2 | 0.00181032  |\n",
      "| rvol_q              |       6 | 0.00174561  |\n",
      "| numcystl            |      24 | 0.00168835  |\n",
      "| visl                |      35 | 0.00164747  |\n",
      "| llong_q             |      10 | 0.00163211  |\n",
      "| sepst               |      14 | 0.00158929  |\n",
      "| lvol_q              |      13 | 0.00143515  |\n",
      "| lantero_q           |      13 | 0.00124718  |\n",
      "| detl_p              |      32 | 0.00115176  |\n",
      "| cystw               |       4 | 0.00102869  |\n",
      "| ovcyst_solidr       |       6 | 0.000956697 |\n",
      "| ph_ovar_trial       |       6 | 0.000520593 |\n",
      "| ph_ovar_bq          |       7 | 0.000307706 |\n",
      "| ph_ovar_dqx         |       3 | 0.000117126 |\n",
      "+---------------------+---------+-------------+\n"
     ]
    }
   ],
   "source": [
    "df_feature_importance_mean = df_feature_importance_tree.drop('feature', axis=1)\n",
    "df_feature_importance_mean = df_feature_importance_mean.T\n",
    "df_feature_importance_mean.columns = df_feature_importance_tree['feature']\n",
    "df_feature_importance_mean = df_feature_importance_mean.astype('float')\n",
    "df_feature_importance_mean_describe = df_feature_importance_mean.describe().T\n",
    "df_feature_importance_mean_describe.sort_values('mean', ascending=False, inplace=True)\n",
    "# print(df_feature_importance_mean_describe.columns)\n",
    "df_feature_importance_mean_describe = df_feature_importance_mean_describe[['count', 'mean']]\n",
    "print_df(df_feature_importance_mean_describe)\n",
    "df_feature_importance_mean_describe.to_csv(f'./feature_importance_mean_{drop_n_features}_trials.csv')"
   ]
  },
  {
   "cell_type": "code",
   "execution_count": 285,
   "metadata": {},
   "outputs": [
    {
     "data": {
      "text/plain": [
       "{'cancer_in_next_10_years',\n",
       " 'cancer_in_next_1_years',\n",
       " 'cancer_in_next_3_years',\n",
       " 'cancer_in_next_5_years',\n",
       " 'ovar_cancer',\n",
       " 'ovar_cancer_years',\n",
       " 'ovar_days',\n",
       " 'ovar_result',\n",
       " 'plco_id',\n",
       " 'sex'}"
      ]
     },
     "execution_count": 285,
     "metadata": {},
     "output_type": "execute_result"
    }
   ],
   "source": [
    "set(merged_df.columns) - set(df_feature_importance_mean_describe.index)"
   ]
  },
  {
   "cell_type": "code",
   "execution_count": null,
   "metadata": {},
   "outputs": [],
   "source": [
    "ranked_df = df_feature_importance_tree.rank(method='max')\n",
    "ranked_df['feature'] = df_feature_importance_tree['feature']\n",
    "ranked_df = ranked_df.drop('feature', axis=1)\n",
    "ranked_df = ranked_df.T\n",
    "ranked_df.columns = df_feature_importance_tree['feature']\n",
    "ranked_df = ranked_df.astype('float')\n",
    "description_rank = ranked_df.describe().T\n",
    "description_rank.to_csv(f'./feature_importance_rank_{drop_n_features}_trials.csv')"
   ]
  },
  {
   "cell_type": "code",
   "execution_count": null,
   "metadata": {},
   "outputs": [
    {
     "name": "stdout",
     "output_type": "stream",
     "text": [
      "+---------------------+---------+-----------+------------+-------+--------+-------+--------+-------+\n",
      "| feature             |   count |      mean |        std |   min |    25% |   50% |    75% |   max |\n",
      "|---------------------+---------+-----------+------------+-------+--------+-------+--------+-------|\n",
      "| ca125ii_level       |       1 | 100       | nan        |   100 | 100    | 100   | 100    |   100 |\n",
      "| age                 |       2 |  96.5     |   3.53553  |    94 |  95.25 |  96.5 |  97.75 |    99 |\n",
      "| bq_age              |      10 |  95.2     |   5.34997  |    87 |  91.75 |  96   |  98    |   104 |\n",
      "| ph_any_muq          |      11 |  95.2727  |   3.58025  |    91 |  93    |  95   |  96.5  |   104 |\n",
      "| tvu_result          |       3 |  93.6667  |   8.73689  |    84 |  90    |  96   |  98.5  |   101 |\n",
      "| bmi_curr            |       4 |  90.75    |   8.69387  |    80 |  86    |  91.5 |  96.25 |   100 |\n",
      "| ph_any_dhq          |      70 |  69.7286  |  16.1738   |    42 |  57.5  |  68.5 |  82.5  |   101 |\n",
      "| bmi_20              |       7 |  93       |   3.82971  |    88 |  90.5  |  93   |  95.5  |    98 |\n",
      "| weight_f            |       6 |  88.8333  |  10.3618   |    68 |  91.25 |  92   |  93.5  |    96 |\n",
      "| bmi_50              |       5 |  95       |   4.69042  |    89 |  91    |  97   |  99    |    99 |\n",
      "| center              |      14 |  91.7857  |   4.35322  |    84 |  88.5  |  91.5 |  94.75 |    98 |\n",
      "| rndyear             |      16 |  89.375   |   6.20618  |    81 |  84    |  88.5 |  92.25 |   103 |\n",
      "| ph_any_sqx          |      12 |  92.9167  |   4.81396  |    85 |  89.75 |  93   |  94.5  |   102 |\n",
      "| ph_any_trial        |     100 |  55.83    |  23.254    |     9 |  33    |  61   |  73    |   101 |\n",
      "| height_f            |      13 |  86.4615  |   9.6576   |    66 |  81    |  89   |  91    |   100 |\n",
      "| ovary_trial_flag    |      69 |  70.1449  |   9.81487  |    50 |  63    |  70   |  78    |    88 |\n",
      "| weight50_f          |       9 |  90.5556  |   5.70331  |    84 |  86    |  90   |  96    |    99 |\n",
      "| brothers            |      25 |  86.44    |   6.61488  |    65 |  83    |  87   |  89    |    99 |\n",
      "| sisters             |      15 |  80.4     |  10.9662   |    48 |  77    |  82   |  86.5  |    93 |\n",
      "| weight20_f          |       8 |  87.25    |   8.41342  |    76 |  80.5  |  87   |  94    |   100 |\n",
      "| in_TGWAS_population |      55 |  68       |  12.2988   |    28 |  65    |  71   |  76    |    84 |\n",
      "| thorm               |      28 |  81.6429  |   6.23737  |    69 |  77    |  82.5 |  87.25 |    91 |\n",
      "| livec               |      20 |  77.65    |  10.8931   |    54 |  73.5  |  78.5 |  84    |    99 |\n",
      "| tvu_ref             |      52 |  46.5192  |  20.5622   |     5 |  35    |  42   |  60    |    87 |\n",
      "| miscar              |      37 |  67.3784  |  12.4284   |    34 |  60    |  70   |  76    |    87 |\n",
      "| cig_stop            |      24 |  83.375   |   8.63165  |    65 |  77    |  84   |  89.25 |    98 |\n",
      "| ibuppd              |      33 |  75.2424  |  11.1356   |    47 |  71    |  76   |  84    |    93 |\n",
      "| smokea_f            |      18 |  80.9444  |   8.37694  |    60 |  77.25 |  82.5 |  86.5  |    91 |\n",
      "| lmenstr             |      27 |  73.5185  |   9.48022  |    50 |  67.5  |  75   |  80.5  |    88 |\n",
      "| fmenstr             |      35 |  73.4571  |  11.449    |    39 |  67.5  |  77   |  82    |    87 |\n",
      "| pack_years          |      26 |  80.1923  |   9.32532  |    59 |  72.5  |  82   |  87.75 |    93 |\n",
      "| horm_f              |      81 |  31.5309  |  14.4413   |     2 |  21    |  30   |  39    |    69 |\n",
      "| pelvic_history      |      40 |  63.525   |   9.66884  |    40 |  57.75 |  62   |  69.75 |    83 |\n",
      "| prega               |      36 |  70.9722  |   9.45512  |    45 |  66    |  73   |  77    |    89 |\n",
      "| polyps_f            |     100 |  39.6     |  11.5785   |     5 |  33.75 |  41.5 |  47.25 |    66 |\n",
      "| agelevel            |      21 |  72.9048  |  16.0807   |    39 |  58    |  81   |  85    |    93 |\n",
      "| pregc               |      30 |  71.6     |  10.585    |    49 |  64.25 |  73   |  79    |    89 |\n",
      "| cigpd_f             |      43 |  58.7674  |  18.7437   |    20 |  45    |  63   |  75    |    84 |\n",
      "| asppd               |      34 |  76.4706  |  10.3988   |    50 |  70.25 |  78   |  84.75 |    94 |\n",
      "| papsmear_history    |      41 |  61.7317  |  10.4092   |    30 |  57    |  64   |  67    |    79 |\n",
      "| educat              |      22 |  81.5455  |  10.2944   |    52 |  79    |  83.5 |  86    |    97 |\n",
      "| bcontra             |      57 |  59.2807  |  14.3661   |    22 |  53    |  64   |  69    |    80 |\n",
      "| occupat             |      32 |  76.6562  |  13.3818   |    22 |  73    |  79   |  85    |    92 |\n",
      "| fchilda             |      29 |  67.4138  |  12.6788   |    42 |  57    |  69   |  79    |    91 |\n",
      "| arthrit_f           |      49 |  61.449   |  10.3402   |    37 |  56    |  62   |  71    |    78 |\n",
      "| gallblad_f          |      76 |  52.3289  |  11.5347   |    21 |  43.75 |  55   |  61    |    72 |\n",
      "| bbd                 |      51 |  59.7843  |  10.8541   |    31 |  52.5  |  61   |  66.5  |    78 |\n",
      "| bronchit_f          |      99 |  39.2323  |  12.426    |     2 |  30.5  |  43   |  49    |    63 |\n",
      "| bcontrt             |      31 |  76.2581  |   9.64008  |    52 |  71.5  |  76   |  84    |    90 |\n",
      "| usound_history      |      59 |  55.4915  |  11.2394   |    18 |  50.5  |  57   |  63    |    73 |\n",
      "| cig_years           |      23 |  78.087   |  12.749    |    50 |  71.5  |  80   |  89    |    95 |\n",
      "| hyperten_f          |      53 |  57.3585  |  14.1028   |    16 |  49    |  61   |  69    |    77 |\n",
      "| ovariesr_f          |      71 |  48.5211  |  12.2636   |    17 |  40.5  |  48   |  56    |    81 |\n",
      "| endometriosis       |     100 |  35       |  13.7819   |     1 |  23    |  38   |  45    |    64 |\n",
      "| tuballig            |      65 |  53.8923  |  12.8855   |    17 |  46    |  56   |  64    |    77 |\n",
      "| ovcyst_sum          |      37 |  27.9189  |  20.2901   |     1 |  11    |  26   |  37    |    77 |\n",
      "| curhorm             |      66 |  44.803   |  12.3016   |    17 |  38    |  45.5 |  52.75 |    78 |\n",
      "| smoked_f            |      56 |  32.6429  |  17.7942   |     1 |  21.75 |  31.5 |  47    |    68 |\n",
      "| bcontr_f            |      57 |  43       |  20.2229   |     1 |  27    |  44   |  59    |    72 |\n",
      "| race7               |      62 |  51.3065  |  11.4155   |    12 |  45.25 |  53   |  59    |    70 |\n",
      "| horm_stat           |      66 |  47.6515  |  14.0598   |    12 |  37.5  |  51   |  57.75 |    75 |\n",
      "| ovarsumm_fh_cnt     |      91 |  18.4505  |   9.46604  |     1 |  12    |  17   |  23.5  |    44 |\n",
      "| benign_ovcyst       |      62 |  45.129   |  14.0485   |    13 |  37    |  43.5 |  56    |    70 |\n",
      "| marital             |      42 |  72.381   |  11.7783   |    37 |  65.75 |  75   |  81    |    92 |\n",
      "| ovarsumm_fh_age     |      81 |  37.1111  |  14.0863   |     1 |  28    |  37   |  47    |    61 |\n",
      "| trypreg             |     100 |  50.66    |  14.5798   |     9 |  43    |  53   |  62    |    76 |\n",
      "| ovary_diam          |      59 |  25.1695  |  14.9518   |     1 |  15    |  22   |  35    |    60 |\n",
      "| llong_p             |      67 |  17.2985  |  10.083    |     1 |   8.5  |  17   |  25    |    40 |\n",
      "| mammo_history       |      44 |  57.4545  |  14.2494   |    17 |  48.5  |  57.5 |  68.5  |    79 |\n",
      "| fh_cancer           |      47 |  62.4681  |  11.8686   |    27 |  57.5  |  63   |  70.5  |    79 |\n",
      "| menstrs_stat_type   |      72 |  49.9028  |  12.8174   |     5 |  44.75 |  51   |  58.5  |    72 |\n",
      "| breast_fh_age       |      46 |  70.1304  |  11.5924   |    29 |  66    |  72   |  78    |    92 |\n",
      "| bmi_50c             |      38 |  57.9474  |  23.76     |     3 |  52.5  |  68   |  74    |    83 |\n",
      "| ph_any_bq           |      88 |  25.9659  |  14.9331   |     3 |  15    |  25   |  31    |    86 |\n",
      "| ovarsumm_fh         |      96 |  26.5833  |  11.3394   |     1 |  18.75 |  27   |  35    |    59 |\n",
      "| osteopor_f          |      84 |  46.8214  |  10.8285   |    10 |  41    |  49.5 |  54.25 |    68 |\n",
      "| ph_any_dqx          |      96 |  24.2604  |   9.8955   |     1 |  18    |  26   |  31    |    50 |\n",
      "| lvol_p              |      61 |  18.7705  |  12.7311   |     1 |   7    |  17   |  32    |    49 |\n",
      "| cig_stat            |      58 |  44.1552  |  21.3499   |     1 |  23    |  48.5 |  63.5  |    74 |\n",
      "| preg_f              |      89 |  35.8539  |  17.3333   |     1 |  21    |  41   |  49    |    62 |\n",
      "| uterine_fib         |      56 |  52.25    |  13.1623   |    20 |  42.25 |  54   |  62    |    73 |\n",
      "| emphys_f            |      93 |  23.4194  |   7.43277  |     2 |  19    |  24   |  27    |    48 |\n",
      "| breast_fh           |      87 |  39.2989  |  13.9485   |     5 |  28.5  |  42   |  49.5  |    63 |\n",
      "| bmi_curc            |      37 |  64.1081  |  17.4353   |    17 |  54    |  70   |  77    |    87 |\n",
      "| bmi_20c             |      45 |  56.9778  |  21.9021   |     3 |  51    |  65   |  73    |    83 |\n",
      "| ovcyst_diam         |      48 |  38.1458  |  22.956    |     2 |  15.75 |  36.5 |  56.25 |    82 |\n",
      "| hearta_f            |     100 |  37.03    |  12.9212   |     6 |  27    |  39   |  46    |    59 |\n",
      "| dual                |     100 |  42.33    |  11.6611   |    13 |  34    |  44.5 |  50    |    64 |\n",
      "| ovcyst_voll         |      66 |  21       |  13.5907   |     1 |  10.25 |  19.5 |  30.75 |    51 |\n",
      "| volum               |      38 |  13.0526  |  11.3684   |     2 |   5.25 |  10.5 |  15.5  |    62 |\n",
      "| asp                 |      48 |  43.3125  |  21.6187   |     4 |  25    |  40.5 |  61.25 |    81 |\n",
      "| ibup                |      49 |  46.2245  |  20.0876   |     6 |  33    |  46   |  66    |    80 |\n",
      "| liver_comorbidity   |      99 |  31.596   |  10.3025   |     1 |  25    |  33   |  38.5  |    53 |\n",
      "| divertic_f          |      99 |  43.3131  |  12.1853   |     7 |  39    |  46   |  52    |    63 |\n",
      "| stroke_f            |      90 |  24.2667  |  10.1967   |     1 |  15    |  25.5 |  32    |    47 |\n",
      "| diabetes_f          |      98 |  39.5714  |  11.7298   |     4 |  32.25 |  41   |  48    |    63 |\n",
      "| menstrs             |      73 |  37.1096  |  13.915    |     4 |  27    |  40   |  46    |    66 |\n",
      "| filtered_f          |      95 |  41.4842  |  12.8393   |     3 |  37    |  45   |  49    |    62 |\n",
      "| ovary_voll          |      65 |  15.1846  |  10.8612   |     1 |   7    |  11   |  22    |    48 |\n",
      "| breast_fh_cnt       |      86 |  38.1512  |  16.2528   |     1 |  27    |  39   |  52    |    65 |\n",
      "| ovcyst_vol          |      14 |  62.7857  |  26.0655   |     6 |  52.5  |  73.5 |  79.75 |    91 |\n",
      "| tubal               |      89 |  24.3483  |  10.8105   |     1 |  18    |  25   |  31    |    48 |\n",
      "| hyster_f            |      73 |  37.8904  |  12.5151   |     1 |  29    |  38   |  46    |    61 |\n",
      "| hystera             |      51 |  59.0588  |  14.2231   |    21 |  51    |  63   |  68    |    79 |\n",
      "| phycons             |      98 |  40.2347  |  11.8407   |    11 |  34    |  39   |  45    |    71 |\n",
      "| ca125_result        |      16 |  88.6875  |  22.3926   |     8 |  90.75 |  94.5 |  97.25 |   103 |\n",
      "| stillb              |      89 |  36.618   |  14.1088   |     5 |  26    |  39   |  48    |    58 |\n",
      "| rlong_p             |      58 |  19       |  13.0061   |     1 |   9.25 |  15   |  28    |    52 |\n",
      "| numcyst             |      31 |  10.9677  |  11.3063   |     2 |   6    |   8   |  11    |    50 |\n",
      "| lantero_p           |      78 |  27.6026  |  13.8032   |     1 |  16    |  29.5 |  39    |    50 |\n",
      "| colon_comorbidity   |      85 |  25.0353  |   8.89549  |     1 |  20    |  26   |  32    |    45 |\n",
      "| ovcyst_diamr        |      56 |  14.0536  |  10.7457   |     1 |   6    |  11   |  19    |    54 |\n",
      "| ovary_volr          |      48 |  12.7708  |  12.1046   |     1 |   4    |   9.5 |  16.5  |    50 |\n",
      "| maxdi               |      33 |  16.2424  |  13.7773   |     1 |   6    |  14   |  22    |    62 |\n",
      "| detl_p              |      32 |   7.59375 |   8.4619   |     1 |   2.75 |   4.5 |   9    |    35 |\n",
      "| detr_p              |      37 |  15.6486  |  15.5496   |     1 |   6    |  13   |  18    |    69 |\n",
      "| visl                |      35 |   9.62857 |   9.90272  |     1 |   3    |   5   |  13    |    39 |\n",
      "| rtran_p             |      62 |  26.2903  |  15.4308   |     2 |  13.5  |  26.5 |  41.5  |    55 |\n",
      "| rantero_p           |      73 |  22.6164  |  12.0435   |     1 |  14    |  20   |  33    |    49 |\n",
      "| hispanic_f          |      81 |  25.1605  |  10.5871   |     1 |  17    |  25   |  34    |    44 |\n",
      "| rsmoker_f           |      63 |  37.1905  |  17.2336   |     1 |  27.5  |  40   |  51    |    64 |\n",
      "| ovary_vol           |      54 |  36.5926  |  18.9084   |     4 |  20.75 |  35   |  55    |    66 |\n",
      "| viseith             |      77 |  27.2078  |  19.8894   |     1 |  15    |  22   |  32    |    83 |\n",
      "| ovary_diaml         |      50 |  12.62    |   9.02805  |     1 |   6.25 |  12   |  18    |    46 |\n",
      "| ltran_p             |      78 |  20.2051  |   9.99397  |     2 |  14    |  19.5 |  27    |    44 |\n",
      "| post_menopausal     |      70 |  17.4286  |  10.5619   |     1 |   9.25 |  18   |  25    |    41 |\n",
      "| rvol_p              |      53 |  15.9811  |  13.2367   |     1 |   6    |  13   |  22    |    50 |\n",
      "| visr                |      38 |  11.0526  |  10.7073   |     2 |   3    |   7.5 |  14.75 |    43 |\n",
      "| ovcyst_morphl       |      21 |   7.42857 |   6.69008  |     1 |   3    |   5   |  11    |    26 |\n",
      "| visboth             |      29 |  11.1034  |   8.6946   |     3 |   6    |   9   |  11    |    39 |\n",
      "| ovcyst_volr         |      39 |  20.4615  |  17.8618   |     2 |   5    |  13   |  36.5  |    63 |\n",
      "| ovcyst_morph        |      31 |  22.8387  |  16.7174   |     1 |  11    |  18   |  29.5  |    59 |\n",
      "| cigar               |      70 |  12.6571  |   6.4153   |     1 |   8    |  12   |  16    |    37 |\n",
      "| ovcyst_outline      |      10 |  23.2     |  19.7417   |     5 |   8.25 |  11   |  39    |    55 |\n",
      "| ovcyst_solidr       |       6 |   6.5     |   3.50714  |     2 |   5    |   5.5 |   8.25 |    12 |\n",
      "| rlong_q             |      12 |  11.5833  |  10.1306   |     1 |   4.5  |   7.5 |  17    |    28 |\n",
      "| pipe                |      65 |  11.9231  |   5.77524  |     1 |   8    |  11   |  15    |    36 |\n",
      "| ovary_diamr         |      45 |  17.6444  |  14.326    |     1 |   8    |  13   |  24    |    51 |\n",
      "| ltran_q             |      20 |  11.35    |   8.84531  |     1 |   4.75 |   7.5 |  17.5  |    30 |\n",
      "| numcystl            |      24 |   7       |   5.27504  |     1 |   3    |   6   |  11    |    19 |\n",
      "| echo                |      27 |  15.7037  |  15.5311   |     1 |   7.5  |  10   |  20    |    58 |\n",
      "| llong_q             |      10 |   9.7     |   8.26035  |     1 |   4    |   8.5 |  13    |    28 |\n",
      "| sepst               |      14 |   8.85714 |   7.3155   |     2 |   4.25 |   7.5 |  12.25 |    30 |\n",
      "| numcystr            |      27 |   7.25926 |   5.60626  |     1 |   2.5  |   7   |  11    |    25 |\n",
      "| rvol_q              |       6 |   8.66667 |  11.5355   |     1 |   1.25 |   4.5 |   9.25 |    31 |\n",
      "| ovcyst_diaml        |      52 |  18.4038  |  13.224    |     2 |   7    |  14.5 |  28    |    45 |\n",
      "| lvol_q              |      13 |   5.61538 |   4.05254  |     1 |   3    |   4   |   9    |    13 |\n",
      "| ovcyst_solid        |      13 |  26.3846  |  13.2447   |     5 |  22    |  23   |  27    |    54 |\n",
      "| lantero_q           |      13 |   5.84615 |   3.105    |     1 |   3    |   7   |   8    |    10 |\n",
      "| ovcyst_suml         |      14 |  10.8571  |   6.27397  |     1 |   8    |  11   |  16    |    20 |\n",
      "| cyst                |      11 |  15.3636  |  13.4705   |     1 |   7.5  |  13   |  17.5  |    52 |\n",
      "| solid               |      14 |  25.7857  |  14.5717   |     5 |  21.25 |  24   |  29.5  |    57 |\n",
      "| ovcyst_sumr         |      19 |   9.31579 |  10.7448   |     1 |   4    |   5   |   9.5  |    48 |\n",
      "| ovcyst_morphr       |      23 |   8.78261 |   8.30639  |     1 |   3.5  |   5   |   9.5  |    30 |\n",
      "| ovcyst_outlinel     |      12 |   8.5     |   5.3513   |     3 |   4.75 |   6.5 |  12    |    19 |\n",
      "| ovcyst_outliner     |       9 |  16.2222  |  10.4257   |     4 |   7    |  16   |  26    |    32 |\n",
      "| ph_ovar_trial       |       6 |   3.33333 |   2.33809  |     1 |   1.5  |   3   |   4.5  |     7 |\n",
      "| ovcyst_solidl       |       6 |  20       |  12.6016   |     6 |  12.75 |  16   |  26.75 |    40 |\n",
      "| cystw               |       4 |   5.5     |   5.25991  |     1 |   2.5  |   4   |   7    |    13 |\n",
      "| rtran_q             |       4 |   7       |   2.94392  |     4 |   5.5  |   6.5 |   8    |    11 |\n",
      "| rantero_q           |       2 |   7       |   8.48528  |     1 |   4    |   7   |  10    |    13 |\n",
      "| ph_ovar_bq          |       7 |   1.71429 |   0.755929 |     1 |   1    |   2   |   2    |     3 |\n",
      "| ph_ovar_dqx         |       3 |   1       |   0        |     1 |   1    |   1   |   1    |     1 |\n",
      "+---------------------+---------+-----------+------------+-------+--------+-------+--------+-------+\n"
     ]
    }
   ],
   "source": [
    "print_df(description_rank)"
   ]
  },
  {
   "cell_type": "code",
   "execution_count": null,
   "metadata": {},
   "outputs": [],
   "source": [
    "classifiers = [\n",
    "    DecisionTreeClassifier(),\n",
    "    RandomForestClassifier(),\n",
    "    # GaussianNB(),\n",
    "    # XGBClassifier(),\n",
    "    # LogisticRegression(max_iter=200)\n",
    "]\n",
    "# Calculate years before cancer\n",
    "def f_score(X_train, X_test, y_train, y_test, classifiers):\n",
    "    for clf in classifiers:\n",
    "        s = time.time()\n",
    "        clf.fit(X_train,y_train)\n",
    "        y_pred = clf.predict(X_test)\n",
    "        f = f1_score(y_true=y_test,y_pred=y_pred,average=\"macro\")\n",
    "        e = time.time()\n",
    "        print(f\"Score: {round(f,3)} \\t Time(in secs): {round(e-s,3)} \\t Classifier: {clf.__class__.__name__}\")\n",
    "# f_score(X_train, X_test, y_train, y_test, classifiers)"
   ]
  },
  {
   "cell_type": "code",
   "execution_count": null,
   "metadata": {},
   "outputs": [],
   "source": [
    "def select_using_model(x,y):\n",
    "    sel = SelectFromModel(XGBClassifier())\n",
    "    sel.fit(x,y)"
   ]
  },
  {
   "cell_type": "code",
   "execution_count": null,
   "metadata": {},
   "outputs": [],
   "source": [
    "def select_using_score_func(X_train, y_train):\n",
    "    # configure to select all features\n",
    "    fs = SelectKBest(score_func=f_classif, k='all')\n",
    "    # learn relationship from training data\n",
    "    fs.fit(X_train, y_train)\n",
    "    # what are scores for the features\n",
    "    features_scores = pd.DataFrame(x.columns)\n",
    "    features_scores['scores'] = fs.scores_\n",
    "    features_scores = features_scores.sort_values('scores', ascending=False)\n",
    "    features_scores.to_csv('./feature_selection/all_features_new_cols__mean_imputed.csv')"
   ]
  },
  {
   "cell_type": "code",
   "execution_count": null,
   "metadata": {},
   "outputs": [],
   "source": []
  },
  {
   "cell_type": "code",
   "execution_count": null,
   "metadata": {},
   "outputs": [],
   "source": [
    "# Determine on which features to use mean imputation and on which ones to replace with -1"
   ]
  },
  {
   "attachments": {},
   "cell_type": "markdown",
   "metadata": {},
   "source": [
    " The initial dataset had 181 variables (Appendix 1). Variables were ranked by their F-score, which is the harmonic mean of precision and recall, with those with an F-score closest to 1.0 demonstrating high correlation with treatment success [10]. Experts in the treatment of BPH also selected variables for inclusion into the models irrespective of the F-Score, these variables, plus those with a high F-Score were selected for inclusion in initial model development.. The actual variables used by our models were a subset of these, and the number in any given fold and subgroup was dynamically determined by treating this as a hyper-parameter and tuning it as described below."
   ]
  }
 ],
 "metadata": {
  "kernelspec": {
   "display_name": "Python 3",
   "language": "python",
   "name": "python3"
  },
  "language_info": {
   "codemirror_mode": {
    "name": "ipython",
    "version": 3
   },
   "file_extension": ".py",
   "mimetype": "text/x-python",
   "name": "python",
   "nbconvert_exporter": "python",
   "pygments_lexer": "ipython3",
   "version": "3.10.4"
  },
  "orig_nbformat": 4,
  "vscode": {
   "interpreter": {
    "hash": "9b9f07f525d6131811c533cc81eafd9d7147c1a9ff2e81c94d4f0d027f94c4be"
   }
  }
 },
 "nbformat": 4,
 "nbformat_minor": 2
}

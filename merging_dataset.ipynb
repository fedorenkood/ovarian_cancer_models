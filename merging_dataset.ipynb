{
 "cells": [
  {
   "cell_type": "code",
   "execution_count": 23,
   "metadata": {
    "pycharm": {
     "name": "#%%\n"
    }
   },
   "outputs": [],
   "source": [
    "from oop_functions.merge_dataset_functions import merge_data_over_years\n",
    "from oop_functions.missing_values_functions import print_records_vs_unique\n",
    "from oop_functions.util_functions import get_cols_missing_percentage, print_df, convert_numeric_to_float16, remove_featues_endswith\n",
    "from processing_functions import *\n",
    "%matplotlib inline\n",
    "import warnings\n",
    "\n",
    "warnings.filterwarnings(\"ignore\")\n"
   ]
  },
  {
   "cell_type": "code",
   "execution_count": 24,
   "metadata": {
    "pycharm": {
     "name": "#%%\n"
    }
   },
   "outputs": [],
   "source": [
    "# reading datasets\n",
    "personal_data = pd.read_csv('./dataset/Ovarian/ovar_data_mar22_d032222.csv')\n",
    "screen_data = pd.read_csv('./dataset/Ovarian/Screening/ovar_screen_data_mar22_d032222.csv')\n",
    "screen_abnorm_data = pd.read_csv('./dataset/Ovarian/Screening Abnormalities/ovar_scrsub_data_mar22_d032222.csv')"
   ]
  },
  {
   "attachments": {},
   "cell_type": "markdown",
   "metadata": {
    "pycharm": {
     "name": "#%% md\n"
    }
   },
   "source": [
    "## Preprocessing\n",
    "For some of the datasets we determined some of the features to not be useful for analysis. For every dataset that includes `build` features. \n",
    "\n",
    "For personal dataset we removed all `ovar_` features since they are a direct result of the cancer diagnosis and should not be used predict cancer. \n",
    "\n",
    "For the screen data dataset it was determined that `examinerid_` features do not bring the value to the dataset since they represet 'Examiner ID made by concatentating center and exam ID for overall screen result.' and cannot be the cause of the cancer. We also drop all of the remaining"
   ]
  },
  {
   "cell_type": "code",
   "execution_count": 25,
   "metadata": {
    "pycharm": {
     "name": "#%%\n"
    }
   },
   "outputs": [
    {
     "name": "stdout",
     "output_type": "stream",
     "text": [
      "Number of ovar_ cols: 50\n",
      "['ovar_reasfoll', 'ovar_reassurv', 'ovar_reassymp', 'ovar_reasoth', 'ovar_cancer', 'ovar_intstat_cat', 'ovar_annyr', 'ovar_cancer_site', 'ovar_stage', 'ovar_stage_7e', 'ovar_stage_t', 'ovar_stage_n', 'ovar_stage_m', 'ovar_clinstage', 'ovar_clinstage_7e', 'ovar_clinstage_t', 'ovar_clinstage_n', 'ovar_clinstage_m', 'ovar_pathstage', 'ovar_pathstage_7e', 'ovar_pathstage_t', 'ovar_pathstage_n', 'ovar_pathstage_m', 'ovar_grade', 'ovar_topography', 'ovar_morphology', 'ovar_behavior', 'ovar_histtype', 'ovar_exitstat', 'ovar_exitage', 'ovar_seer', 'ovar_cancer_first', 'ovar_curative_surg', 'ovar_curative_chemo', 'ovar_primary_trt', 'ovar_num_heslide_imgs', 'ovar_has_deliv_heslide_img', 'ovar_exitdays', 'ovar_primary_trt_days', 'ovar_cancer_diagdays', 'ovar_mra_stat0', 'ovar_mra_stat1', 'ovar_mra_stat2', 'ovar_mra_stat3', 'ovar_mra_stat4', 'ovar_mra_stat5', 'ovar_eligible_bq', 'ovar_eligible_sqx', 'ovar_eligible_dhq', 'ovar_eligible_dqx']\n",
      "Number of mortality cols: 3\n",
      "['mortality_exitage', 'mortality_exitstat', 'mortality_exitdays']\n",
      "Number of reconsent cols: 2\n",
      "['reconsent_outcome', 'reconsent_outcome_days']\n",
      "Number of is_dead cols: 2\n",
      "['is_dead_with_cod', 'is_dead']\n",
      "Number of build cols: 4\n",
      "['build', 'build_cancers', 'build_incidence_cutoff', 'build_death_cutoff']\n",
      "Number of biopolink cols: 6\n",
      "['biopolink0', 'biopolink1', 'biopolink2', 'biopolink3', 'biopolink4', 'biopolink5']\n",
      "Number of ca125_ cols: 26\n",
      "['ca125_result0', 'ca125_result1', 'ca125_result2', 'ca125_result3', 'ca125_result4', 'ca125_result5', 'ca125_level0', 'ca125_level1', 'ca125_level2', 'ca125_level3', 'ca125_level4', 'ca125_level5', 'ca125_src0', 'ca125_src1', 'ca125_src2', 'ca125_src3', 'ca125_src4', 'ca125_src5', 'ca125_prot', 'ca125_days0', 'ca125_days1', 'ca125_days2', 'ca125_days3', 'ca125_days4', 'ca125_days5', 'ca125_history']\n",
      "Number of tvu cols: 8\n",
      "['tvu_result0', 'tvu_result1', 'tvu_result2', 'tvu_result3', 'tvu_days0', 'tvu_days1', 'tvu_days2', 'tvu_days3']\n",
      "Number of entrydays cols: 4\n",
      "['entrydays_bq', 'entrydays_dqx', 'entrydays_dhq', 'entrydays_sqx']\n",
      "Number of entryage cols: 5\n",
      "['entryage_bq', 'entryage_dqx', 'entryage_dhq', 'entryage_sqx', 'entryage_muq']\n",
      "Number of inad_ cols: 42\n",
      "['inad_bow_p1', 'inad_bow_p2', 'inad_bow_p3', 'inad_dis_p1', 'inad_dis_p2', 'inad_dis_p3', 'inad_mal_p1', 'inad_mal_p2', 'inad_mal_p3', 'inad_probe_p1', 'inad_probe_p2', 'inad_probe_p3', 'inad_ref_p1', 'inad_ref_p2', 'inad_ref_p3', 'inad_oth_p1', 'inad_oth_p2', 'inad_oth_p3', 'inad_bow_q1', 'inad_bow_q2', 'inad_bow_q3', 'inad_dis_q1', 'inad_dis_q2', 'inad_dis_q3', 'inad_mal_q1', 'inad_mal_q2', 'inad_mal_q3', 'inad_probe_q1', 'inad_probe_q2', 'inad_probe_q3', 'inad_ref_q1', 'inad_ref_q2', 'inad_ref_q3', 'inad_oth_q1', 'inad_oth_q2', 'inad_oth_q3', 'inad_bow', 'inad_dis', 'inad_mal', 'inad_probe', 'inad_ref', 'inad_oth']\n",
      "Number of examinerid cols: 7\n",
      "['examinerid_pvis1', 'examinerid_pvis2', 'examinerid_pvis3', 'examinerid_qvis1', 'examinerid_qvis2', 'examinerid_qvis3', 'examinerid']\n",
      "Number of build cols: 3\n",
      "['build', 'build_cancers', 'build_incidence_cutoff']\n",
      "Number of tvures_ cols: 6\n",
      "['tvures_pvis1', 'tvures_pvis2', 'tvures_pvis3', 'tvures_qvis1', 'tvures_qvis2', 'tvures_qvis3']\n",
      "Number of build cols: 3\n",
      "['build', 'build_cancers', 'build_incidence_cutoff']\n"
     ]
    }
   ],
   "source": [
    "# Drop profy features\n",
    "proxy_features_personal_dataset = [\n",
    "    'fstcan_exitdays', # Days from trial entry (randomization) to first cancer diagnosis for participants with cancer, or to trial exit otherwise. Only cancers occuring during the trial are used to determine exit.\n",
    "    'fstcan_exitstat', # Status of the participant at exit for first cancer incidence. Only cancers occuring during the trial are used to determine exit.\n",
    "    'fstcan_exitage',\n",
    "    'f_dthovar', # Is ovarian cancer the underlying cause of death? This conclusion is based on the information from the death certificate and death review.\n",
    "    'f_codeath_cat', # Categorized underlying cause of death.\n",
    "    'f_cancersite', # Underlying cause of death from cancer.\n",
    "    'f_seer_death', # Underlying cause of death.\n",
    "    'd_codeath_cat', # Categorized underlying cause of death.\n",
    "    'd_dthovar', # Is Ovarian Cancer The Underlying Cause Of Death?\n",
    "    'd_cancersite', # \n",
    "    'd_seer_death', # Underlying cause of death.\n",
    "    'ph_ovar_muq', # Did the participant have a personal history of ovarian/ft/pt cancer prior to MUQ analysis entry? \n",
    "    'ph_ovar_sqx', #\n",
    "    'ph_ovar_dhq', #  \n",
    "    'ph_ovar_dqx', \n",
    "    'entrydays_muq', # \n",
    "    'dth_days', # \n",
    "    'bq_compdays',\n",
    "    'bq_adminm',\n",
    "    'bq_returned',\n",
    "    'ssmokea_f',\n",
    "    'orem_fyro',\n",
    "    'arm',\n",
    "    'sex',\n",
    "    'rndyear',\n",
    "    'bq_age', # Remove bq_age (redundant with age)\n",
    "    'center', # Irrelevant\n",
    "    'in_TGWAS_population', # Irrelevant\n",
    "    'dual', # Irrelevant\n",
    "    ]\n",
    "\n",
    "proxy_features_screen_dataset = [\n",
    "    'QAMETHOD',\n",
    "    'tvudays_pvis1',\n",
    "    'tvudays_pvis2',\n",
    "    'tvudays_pvis3',\n",
    "    # 'tvures_qvis1',\n",
    "    # 'tvures_qvis2',\n",
    "    # 'tvures_qvis3',\n",
    "    # 'tvures_pvis3',  # It is completely missing for non-cancer patients\n",
    "    'tvu_days',\n",
    "    'tvu_assess_days_q',\n",
    "    'medcomp', # \n",
    "    'physid',\n",
    "    'phycons',\n",
    "    'detl_q',\n",
    "    'detr_q',\n",
    "    'ca125_src', # \n",
    "    'ca125_days', # \n",
    "    'ca125ii_src', # '\n",
    "    'ca125_level',\n",
    "    'ca125i_assess_days',\n",
    "    'ca125ii_assess_days',\n",
    "]\n",
    "\n",
    "proxy_features_abnorm_dataset = ['VISIT', 'side', 'sbcd', 'source']\n",
    "\n",
    "personal_data = personal_data.drop(proxy_features_personal_dataset, axis=1)\n",
    "screen_data = screen_data.drop(proxy_features_screen_dataset, axis=1)\n",
    "screen_abnorm_data = screen_abnorm_data.drop(proxy_features_abnorm_dataset, axis=1)\n",
    "\n",
    "# Remove all ovar_ features\n",
    "personal_data = remove_featues_startswith(personal_data, ['ovar_', 'mortality', 'reconsent', 'is_dead', 'build', 'biopolink', 'ca125_', 'tvu', 'entrydays', \n",
    "                                                          'entryage'\n",
    "                                                          ], ['ovar_cancer', 'ovar_cancer_diagdays', 'ovar_histtype', 'ovar_behavior'])\n",
    "\n",
    "# Remove all inad_ and examinerid_ and build_ features\n",
    "screen_data = remove_featues_startswith(screen_data, ['inad_', 'examinerid', 'build', 'tvures_'])\n",
    "\n",
    "# Drop not useful cols and convert categorical into numerical in screen abnormalities\n",
    "screen_abnorm_data = remove_featues_startswith(screen_abnorm_data, ['build'])\n",
    "\n",
    "# Additional fields to be removed as per Graham 06/28/2023\n",
    "personal_data_questionnaire_features = ['ph_any_sqx', 'ph_any_muq', 'ph_any_dqx', 'ph_any_dhq', 'ph_ovar_bq', 'ph_any_bq', 'ph_ovar_trial', 'ph_any_trial']\n",
    "personal_data = personal_data.drop(personal_data_questionnaire_features, axis=1)\n",
    "\n",
    "# Remove all features with the suffix _q (these are redundant to those with the suffix _p)\n",
    "screen_data = remove_featues_endswith(screen_data, ['_q'])\n",
    "\n",
    "# Remove lvol_p and rvol_p (these are redundant to ovary_voll and ovary_volr\n",
    "screen_data = screen_data.drop(['lvol_p', 'rvol_p'], axis=1)"
   ]
  },
  {
   "cell_type": "code",
   "execution_count": 26,
   "metadata": {
    "pycharm": {
     "name": "#%%\n"
    }
   },
   "outputs": [
    {
     "name": "stdout",
     "output_type": "stream",
     "text": [
      "Num of records in personal dataset: 78209\n",
      "Num of unique plco_id in personal dataset: 78209\n",
      "Num of patients with cancer: 613\n",
      "Num of patients without cancer: 77596\n"
     ]
    }
   ],
   "source": [
    "print_records_vs_unique(personal_data, 'plco_id', 'personal')\n",
    "# Check the number of people with cancer\n",
    "personal_data_cancer = personal_data[personal_data['ovar_cancer']==1]\n",
    "print(f\"Num of patients with cancer: {len(personal_data_cancer)}\")\n",
    "# Check the number of people without cancer\n",
    "personal_data_no_cancer = personal_data[personal_data['ovar_cancer']==0]\n",
    "print(f\"Num of patients without cancer: {len(personal_data_no_cancer)}\")"
   ]
  },
  {
   "cell_type": "code",
   "execution_count": 27,
   "metadata": {
    "pycharm": {
     "name": "#%%\n"
    }
   },
   "outputs": [],
   "source": [
    "# Convert discrete float columns to floats with lower number of bytes\n",
    "personal_data = convert_numeric_to_float16(personal_data)\n",
    "screen_data = convert_numeric_to_float16(screen_data)\n",
    "screen_abnorm_data = convert_numeric_to_float16(screen_abnorm_data)"
   ]
  },
  {
   "attachments": {},
   "cell_type": "markdown",
   "metadata": {
    "pycharm": {
     "name": "#%% md\n"
    }
   },
   "source": [
    "## Merging data into features and mean imputing"
   ]
  },
  {
   "attachments": {},
   "cell_type": "markdown",
   "metadata": {
    "pycharm": {
     "name": "#%% md\n"
    }
   },
   "source": [
    "Deciding which patients will be in training vs test set to learn the mean imputation parameters.\n",
    "\n",
    "Mean imputation: https://www.kaggle.com/general/226554"
   ]
  },
  {
   "attachments": {},
   "cell_type": "markdown",
   "metadata": {
    "pycharm": {
     "name": "#%% md\n"
    }
   },
   "source": [
    "To predict whether person will get cancer in the next 1, 3, 5, 10 years we need to determine what feature describes when person got cancer. In our case that features is `ovar_cancer_diagdays`. We are going to use that feature in the following manner: we are going to have a sliding window to determine whether the person gets cancer withing the period of that window. Then, we are going to slide that window by one year and determine a new batch of people who are going to get cancer in that window and so on. For each of the features that are measured across multiple years we only going to use a record that is at the beginning of the interval. "
   ]
  },
  {
   "attachments": {},
   "cell_type": "markdown",
   "metadata": {
    "pycharm": {
     "name": "#%% md\n"
    }
   },
   "source": [
    "Since `ovar_cancer_diagdays` is described in days and we are concerned about the years when people will get cancer we need to convert this feature into years. Since people got cancer from year 1 to year 19, we are going to bucket it into 19 buckets corresponding to year when person got cancer. "
   ]
  },
  {
   "cell_type": "code",
   "execution_count": 28,
   "metadata": {
    "pycharm": {
     "name": "#%%\n"
    }
   },
   "outputs": [
    {
     "name": "stdout",
     "output_type": "stream",
     "text": [
      "Max value of ovar_cancer_diagdays in years is 18.893150684931506\n"
     ]
    }
   ],
   "source": [
    "ovar_cancer_diagdays_range = personal_data['ovar_cancer_diagdays'].max() / 365\n",
    "print(f'Max value of ovar_cancer_diagdays in years is {ovar_cancer_diagdays_range}')\n"
   ]
  },
  {
   "cell_type": "code",
   "execution_count": 29,
   "metadata": {
    "pycharm": {
     "name": "#%%\n"
    }
   },
   "outputs": [],
   "source": [
    "# personal_data['ovar_cancer_years'] = pd.cut(personal_data['ovar_cancer_diagdays'], bins=19, labels=list(range(0, 19)), include_lowest=True)\n",
    "# personal_data['ovar_cancer_years'] = pd.to_numeric(personal_data['ovar_cancer_years'])"
   ]
  },
  {
   "cell_type": "code",
   "execution_count": 30,
   "metadata": {},
   "outputs": [],
   "source": [
    "personal_data['ovar_cancer_years'] = personal_data['ovar_cancer_diagdays'] / 365\n",
    "personal_data['ovar_cancer_years'] = personal_data['ovar_cancer_years'].fillna(100)\n",
    "personal_data['ovar_cancer_years'] = personal_data['ovar_cancer_years'].apply(np.int32)"
   ]
  },
  {
   "attachments": {},
   "cell_type": "markdown",
   "metadata": {
    "pycharm": {
     "name": "#%% md\n"
    }
   },
   "source": [
    "We can also set every healthy persons '`ovar_cancer_years`' to 100 so that it is easier to filter them"
   ]
  },
  {
   "cell_type": "code",
   "execution_count": 31,
   "metadata": {
    "pycharm": {
     "name": "#%%\n"
    }
   },
   "outputs": [],
   "source": [
    "# personal_data['ovar_cancer_years'] = personal_data['ovar_cancer_years'].fillna(100)"
   ]
  },
  {
   "attachments": {},
   "cell_type": "markdown",
   "metadata": {
    "pycharm": {
     "name": "#%% md\n"
    }
   },
   "source": [
    "When merging abnormalities dataset we are going to keep each record for each `study_yr`, select the latest `VISIT` if there are multiple and take the largest value of each column over all of the remaining records. "
   ]
  },
  {
   "attachments": {},
   "cell_type": "markdown",
   "metadata": {
    "pycharm": {
     "name": "#%% md\n"
    }
   },
   "source": [
    "See below what I found about CA125 vs CA125ii......it sounds like we should actually just be using CA125ii.  When they switched tests, they actually used the new test (CA125ii) to re-test the frozen samples from all of the patients who had the original test.  So CA125ii should be present for all patients who had testing, and CA125 is only left in as a variable for a perspective on what patients were initially told at that time.\n",
    "\n",
    "\n",
    "So I think that the only variable we need to use for this tumor marker is ca125ii_level0-5, which is from the ovary person dataset, and we can disregard values for ca125_level0-5.\n",
    "\n",
    "\n",
    "CA-125 ASSAYS, VERSIONS 1 AND 2 \n",
    "\n",
    "When the trial began, PLCO used the first version of the assay for all CA-125 exams. On October 1, 1995, CA-125II became available and the protocol was switched to use this for all subsequent screens. A few years after this transition, all of the original samples were re-assayed using version two. So, use CA125_LEVEL0-5 to get the result of a screen from a clinical perspective of what the participant was told following their screening visit. Use CA125II_LEVEL0-5 to get the result of a screen from an epidemiologic perspective, with all values coming from the same assay. \n",
    "\n",
    "\n",
    "Since ca125ii only present in the personal dataset, I only kept the feature that describes the level of ca125ii for a year that is a baseline year (for the windown when they got cancer) of people when merging data."
   ]
  },
  {
   "cell_type": "code",
   "execution_count": 32,
   "metadata": {
    "pycharm": {
     "name": "#%%\n"
    }
   },
   "outputs": [],
   "source": [
    "# drop non-cancer records without screen records\n",
    "personal_filtered = personal_data\n",
    "condition = (personal_data['plco_id'].isin(screen_data['plco_id'])) | (personal_data['ovar_cancer'] == 1)\n",
    "condition = (personal_data['plco_id'].isin(screen_data['plco_id']))\n",
    "# personal_filtered = personal_filtered[condition]"
   ]
  },
  {
   "cell_type": "code",
   "execution_count": 33,
   "metadata": {
    "pycharm": {
     "name": "#%%\n"
    }
   },
   "outputs": [
    {
     "data": {
      "text/html": [
       "<div>\n",
       "<style scoped>\n",
       "    .dataframe tbody tr th:only-of-type {\n",
       "        vertical-align: middle;\n",
       "    }\n",
       "\n",
       "    .dataframe tbody tr th {\n",
       "        vertical-align: top;\n",
       "    }\n",
       "\n",
       "    .dataframe thead th {\n",
       "        text-align: right;\n",
       "    }\n",
       "</style>\n",
       "<table border=\"1\" class=\"dataframe\">\n",
       "  <thead>\n",
       "    <tr style=\"text-align: right;\">\n",
       "      <th></th>\n",
       "      <th>ovar_cancer_years</th>\n",
       "    </tr>\n",
       "  </thead>\n",
       "  <tbody>\n",
       "    <tr>\n",
       "      <th>count</th>\n",
       "      <td>613.000000</td>\n",
       "    </tr>\n",
       "    <tr>\n",
       "      <th>mean</th>\n",
       "      <td>7.052202</td>\n",
       "    </tr>\n",
       "    <tr>\n",
       "      <th>std</th>\n",
       "      <td>4.768896</td>\n",
       "    </tr>\n",
       "    <tr>\n",
       "      <th>min</th>\n",
       "      <td>0.000000</td>\n",
       "    </tr>\n",
       "    <tr>\n",
       "      <th>25%</th>\n",
       "      <td>3.000000</td>\n",
       "    </tr>\n",
       "    <tr>\n",
       "      <th>50%</th>\n",
       "      <td>7.000000</td>\n",
       "    </tr>\n",
       "    <tr>\n",
       "      <th>75%</th>\n",
       "      <td>11.000000</td>\n",
       "    </tr>\n",
       "    <tr>\n",
       "      <th>max</th>\n",
       "      <td>18.000000</td>\n",
       "    </tr>\n",
       "  </tbody>\n",
       "</table>\n",
       "</div>"
      ],
      "text/plain": [
       "       ovar_cancer_years\n",
       "count         613.000000\n",
       "mean            7.052202\n",
       "std             4.768896\n",
       "min             0.000000\n",
       "25%             3.000000\n",
       "50%             7.000000\n",
       "75%            11.000000\n",
       "max            18.000000"
      ]
     },
     "execution_count": 33,
     "metadata": {},
     "output_type": "execute_result"
    }
   ],
   "source": [
    "personal_filtered[personal_filtered['ovar_cancer_years']<50][['ovar_cancer_years']].describe()"
   ]
  },
  {
   "cell_type": "code",
   "execution_count": 34,
   "metadata": {
    "pycharm": {
     "name": "#%%\n"
    }
   },
   "outputs": [],
   "source": [
    "personal_filtered = personal_filtered.drop(['ovar_cancer_diagdays'], axis=1)\n",
    "merged_df = merge_data_over_years(personal_filtered, screen_data, screen_abnorm_data, screen_join='left', abrorm_join='left')\n"
   ]
  },
  {
   "cell_type": "code",
   "execution_count": 35,
   "metadata": {
    "pycharm": {
     "name": "#%%\n"
    }
   },
   "outputs": [
    {
     "name": "stdout",
     "output_type": "stream",
     "text": [
      "<class 'pandas.core.frame.DataFrame'>\n",
      "Int64Index: 658784 entries, 0 to 78208\n",
      "Columns: 156 entries, ovar_cancer to was_screened\n",
      "dtypes: float16(147), float64(4), int32(1), int64(3), object(1)\n",
      "memory usage: 232.5+ MB\n"
     ]
    }
   ],
   "source": [
    "merged_df.info()"
   ]
  },
  {
   "cell_type": "code",
   "execution_count": 36,
   "metadata": {
    "pycharm": {
     "name": "#%%\n"
    }
   },
   "outputs": [],
   "source": [
    "# Convert discrete float columns to floats with lower number of bytes\n",
    "# Maybe discretise some\n",
    "# merged_summary = summarize_features(merged_df)\n",
    "# cols_unique_under_90 = merged_summary[merged_summary['unique count'] < 90].index\n",
    "# merged_df[cols_unique_under_90] = merged_df[cols_unique_under_90].astype(np.float16)"
   ]
  },
  {
   "cell_type": "code",
   "execution_count": 37,
   "metadata": {
    "pycharm": {
     "name": "#%%\n"
    }
   },
   "outputs": [],
   "source": [
    "# Drop features that are 100% missing\n",
    "# merged_df = drop_cols_missing_percentage(100, merged_df, 'merged_df')"
   ]
  },
  {
   "cell_type": "code",
   "execution_count": 38,
   "metadata": {
    "pycharm": {
     "name": "#%%\n"
    }
   },
   "outputs": [],
   "source": [
    "# get_cols_missing_percentage(50, merged_df, 'imputed_df', show_missing=True)"
   ]
  },
  {
   "cell_type": "code",
   "execution_count": 39,
   "metadata": {},
   "outputs": [],
   "source": [
    "# TODO: why not have ph_ovar for trial instead of bq?\n",
    "# Adding a feature of ph_any_bq but with ovar cancer marked as negative\n",
    "merged_df['ph_any_not_ovar_bq'] = merged_df['ph_any_bq']\n",
    "merged_df.loc[merged_df[merged_df['ph_ovar_bq'] == 1].index, 'ph_any_not_ovar_bq'] = 0"
   ]
  },
  {
   "cell_type": "code",
   "execution_count": 40,
   "metadata": {
    "pycharm": {
     "name": "#%%\n"
    }
   },
   "outputs": [],
   "source": [
    "# TODO add index column\n",
    "merged_df.reset_index(inplace=True)\n",
    "merged_df = merged_df.drop(['index'], axis=1)\n",
    "merged_df['index'] = merged_df.index\n",
    "# missing_df.to_csv('./missing_features/combined_missing.csv')\n",
    "merged_df.to_csv('./processed_dataset/recent_propagated_dataset.csv')"
   ]
  }
 ],
 "metadata": {
  "kernelspec": {
   "display_name": "Python 3",
   "language": "python",
   "name": "python3"
  },
  "language_info": {
   "codemirror_mode": {
    "name": "ipython",
    "version": 3
   },
   "file_extension": ".py",
   "mimetype": "text/x-python",
   "name": "python",
   "nbconvert_exporter": "python",
   "pygments_lexer": "ipython3",
   "version": "3.10.4"
  },
  "orig_nbformat": 4,
  "vscode": {
   "interpreter": {
    "hash": "9b9f07f525d6131811c533cc81eafd9d7147c1a9ff2e81c94d4f0d027f94c4be"
   }
  }
 },
 "nbformat": 4,
 "nbformat_minor": 2
}

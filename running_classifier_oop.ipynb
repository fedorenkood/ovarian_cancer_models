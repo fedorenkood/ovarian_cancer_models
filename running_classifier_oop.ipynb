{
 "cells": [
  {
   "cell_type": "code",
   "execution_count": 1,
   "metadata": {
    "pycharm": {
     "name": "#%%\n"
    }
   },
   "outputs": [],
   "source": [
    "from typing import List\n",
    "\n",
    "from oop_functions.experiment_helper import *\n",
    "from oop_functions.experiment_runner import ExperimentRunner\n",
    "from oop_functions.util_functions import summarize_features, print_df, convert_numeric_to_float16\n",
    "from oop_functions.visualization_util import *\n",
    "from oop_functions.analytics_cv_util import *\n",
    "\n",
    "%matplotlib inline\n",
    "import warnings\n",
    "\n",
    "warnings.filterwarnings(\"ignore\")\n",
    "\n",
    "import numpy as np\n",
    "import pandas as pd\n",
    "\n",
    "from xgboost import XGBClassifier\n",
    "from sklearn.tree import DecisionTreeClassifier\n",
    "\n",
    "import itertools\n"
   ]
  },
  {
   "cell_type": "code",
   "execution_count": 2,
   "metadata": {
    "pycharm": {
     "name": "#%%\n"
    }
   },
   "outputs": [],
   "source": [
    "processed_data = pd.read_csv('./processed_dataset/recent_propagated_dataset.csv', index_col=0)"
   ]
  },
  {
   "cell_type": "code",
   "execution_count": 3,
   "metadata": {},
   "outputs": [],
   "source": [
    "\n",
    "processed_data = convert_numeric_to_float16(processed_data)"
   ]
  },
  {
   "attachments": {},
   "cell_type": "markdown",
   "metadata": {
    "pycharm": {
     "name": "#%% md\n"
    }
   },
   "source": [
    "I realized that I was doing labeled mean imputation, which should not happen. So, I performed imputation after I merged cancer and no_cancer datasets back together. Without labeled mean imputation, gaussian NB and logistic regression do not perform well. "
   ]
  },
  {
   "attachments": {},
   "cell_type": "markdown",
   "metadata": {
    "pycharm": {
     "name": "#%% md\n"
    }
   },
   "source": [
    "run experiments with decision tree and remove the top feature every time. Store the depth of the tree, the efficacy of the top feature, its value, accuracy, confusion matrix\n",
    "\n",
    "https://stackoverflow.com/questions/62819569/how-to-return-the-features-that-used-in-decision-tree-that-created-by-decisiontr\n",
    "\n",
    "`TODO:` divide them as FP and FN?\n",
    "\n",
    "`TODO:` try SVM or ML models\n",
    "\n",
    "`TODO:` At what point they were misclassified (e.g. at what point they diverge compared to the similar point with different prediction.) Look at the nearest neightbors with different neightbors. "
   ]
  },
  {
   "cell_type": "code",
   "execution_count": 4,
   "metadata": {},
   "outputs": [],
   "source": [
    "cv_analytics_utils = {}"
   ]
  },
  {
   "cell_type": "code",
   "execution_count": 5,
   "metadata": {
    "collapsed": false,
    "pycharm": {
     "name": "#%%\n"
    }
   },
   "outputs": [],
   "source": [
    "classifiers = {\n",
    "    # 'LogisticRegression': LogisticRegression(C= 0.25, random_state= 0),\n",
    "    # 'GaussianNB': GaussianNB(var_smoothing= 1e-09),\n",
    "    # 'DecisionTreeClassifier': DecisionTreeClassifier(criterion= 'entropy'),\n",
    "    # 'RandomForestClassifier': RandomForestClassifier(criterion= 'entropy', n_estimators= 200),\n",
    "    'XGBClassifier': XGBClassifier(eval_metric= 'error', learning_rate= 0.1)\n",
    "}\n",
    "\n",
    "experiment_data_helpers: List[ExperimentDataHelper] = [\n",
    "    # ExperimentDataHelperSingleLabelScreenedFirst5,    \n",
    "    # ExperimentDataHelperScreenedFirst5,\n",
    "    ExperimentDataHelperNotScreenedColsFirst5,\n",
    "    # ExperimentDataHelperScreenedColsFirst5,\n",
    "    # ExperimentDataHelperScreenedOrCancer,\n",
    "    # ExperimentDataHelperScreened,\n",
    "    # ExperimentDataHelperNotScreenedCols,\n",
    "    # ExperimentDataHelperScreenedCols,\n",
    "    # ExperimentDataHelperAll,\n",
    "    # ExperimentDataHelperSingleLabelScreenedOrCancer,\n",
    "    # ExperimentDataHelperSingleLabelScreened,\n",
    "    # ExperimentDataHelperSingleLabelNotScreenedCols,\n",
    "    # ExperimentDataHelperSingleLabelScreenedCols,\n",
    "    # ExperimentDataHelperSingleLabelAll,\n",
    "    # ExperimentDataHelperScreenedFirst5ca125AndBinary,\n",
    "    # ExperimentDataHelperScreenedFirst5ca125Binary, \n",
    "    # ExperimentDataHelperScreenedFirst5ca125AndBinaryNoResult,\n",
    "\n",
    "]"
   ]
  },
  {
   "cell_type": "code",
   "execution_count": 6,
   "metadata": {},
   "outputs": [],
   "source": [
    "# TODO: save propagated source df so that propagation does not have to happen all the time"
   ]
  },
  {
   "cell_type": "code",
   "execution_count": 7,
   "metadata": {},
   "outputs": [
    {
     "name": "stdout",
     "output_type": "stream",
     "text": [
      "experiment_not_screened_cols_first_5_XGBClassifier_for_cancer_in_next_1_years_15_trials\n"
     ]
    }
   ],
   "source": [
    "years = [1]\n",
    "num_folds=15\n",
    "test_n_folds=15\n",
    "train_size = 15000\n",
    "for classifier_name, classifier in classifiers.items():\n",
    "    for year in years:\n",
    "        for experiment_data_helper_class in experiment_data_helpers:\n",
    "            label = f'cancer_in_next_{year}_years'\n",
    "            filesuffix = f'experiment_{experiment_data_helper_class.get_name()}_{classifier_name}_for_{label}_{num_folds}_trials'\n",
    "            print(filesuffix)\n",
    "            experiment_data_helper: ExperimentDataHelper = experiment_data_helper_class(processed_data, label, ['cancer_'], train_size = train_size)\n",
    "            # experiment_data_helper.set_train_size_to_max(num_folds)\n",
    "            experiment_runner = ExperimentRunner(classifier, experiment_data_helper, num_folds=num_folds, test_n_folds=test_n_folds)\n",
    "            cv_analytics_util = experiment_runner.run_experiment()\n",
    "            cv_analytics_utils[filesuffix] = cv_analytics_util\n",
    "            cv_analytics_util.store_cv_analytics_utils(filesuffix)\n"
   ]
  },
  {
   "cell_type": "code",
   "execution_count": 8,
   "metadata": {},
   "outputs": [],
   "source": [
    "# cv_analytics_util.set_filter(differentiate_confusion_matrix_over['was_screened'][0][1])"
   ]
  },
  {
   "cell_type": "code",
   "execution_count": 9,
   "metadata": {},
   "outputs": [
    {
     "name": "stdout",
     "output_type": "stream",
     "text": [
      "0.05990234762430191\n",
      "0.12853483855724335\n",
      "0.026369770988821983\n",
      "0.007408780045807362\n",
      "0.013552391901612282\n",
      "0.009931250475347042\n",
      "0.08726471662521362\n",
      "0.05280180647969246\n",
      "0.021475249901413918\n",
      "0.13671720027923584\n",
      "0.010235661640763283\n",
      "0.10224281996488571\n",
      "0.01651931181550026\n",
      "0.0031981070060282946\n",
      "0.030849453061819077\n"
     ]
    }
   ],
   "source": [
    "for analytics_util in cv_analytics_util.analytics_utils: \n",
    "    print(analytics_util.get_report_generation_util().get_roc_threshold())"
   ]
  },
  {
   "cell_type": "code",
   "execution_count": 10,
   "metadata": {},
   "outputs": [],
   "source": [
    "# for key, cv_analytics_util in cv_analytics_utils.items():\n",
    "#     print(f\"{key}: \")\n",
    "#     filepath = f'./trees/decision_tree_for_{key}.png'\n",
    "#     cv_analytics_util.analytics_utils[0].plot_save_tree(False, filepath)"
   ]
  },
  {
   "cell_type": "code",
   "execution_count": 11,
   "metadata": {},
   "outputs": [],
   "source": [
    "# TODO: test the model with single lable with the same test set"
   ]
  },
  {
   "cell_type": "code",
   "execution_count": 12,
   "metadata": {},
   "outputs": [
    {
     "name": "stdout",
     "output_type": "stream",
     "text": [
      "experiment_not_screened_cols_first_5_XGBClassifier_for_cancer_in_next_1_years_15_trials: \n",
      "\n",
      "\n",
      "Cross-Validation measures:\n",
      "+--------------------+------------+-------------+------------+------------+\n",
      "|                    |       mean |         std |        min |        max |\n",
      "|--------------------+------------+-------------+------------+------------|\n",
      "| precision__class_0 | 0.999347   | 0.000177823 | 0.998987   | 0.999583   |\n",
      "| recall__class_0    | 0.949231   | 0.00519343  | 0.940081   | 0.956796   |\n",
      "| f1-score__class_0  | 0.973637   | 0.00269531  | 0.968862   | 0.977611   |\n",
      "| precision__class_1 | 0.00660646 | 0.00218433  | 0.00359281 | 0.00995025 |\n",
      "| recall__class_1    | 0.354107   | 0.115325    | 0.210526   | 0.555556   |\n",
      "| f1-score__class_1  | 0.012961   | 0.00427544  | 0.00708383 | 0.0195503  |\n",
      "| accuracy           | 0.948659   | 0.00511047  | 0.939618   | 0.956211   |\n",
      "| auc                | 0.884351   | 0.028115    | 0.822634   | 0.930396   |\n",
      "+--------------------+------------+-------------+------------+------------+\n"
     ]
    },
    {
     "name": "stderr",
     "output_type": "stream",
     "text": [
      "No artists with labels found to put in legend.  Note that artists whose label start with an underscore are ignored when legend() is called with no argument.\n"
     ]
    },
    {
     "data": {
      "image/png": "[encoded data removed]",
      "text/plain": [
       "<Figure size 1152x360 with 3 Axes>"
      ]
     },
     "metadata": {
      "needs_background": "light"
     },
     "output_type": "display_data"
    }
   ],
   "source": [
    "for key, cv_analytics_util in cv_analytics_utils.items():\n",
    "    print(f\"{key}: \")\n",
    "    cv_analytics_util.update_thresholds(None)\n",
    "    cv_analytics_util.get_cv_report();\n",
    "    cv_analytics_util.display_graph()"
   ]
  }
 ],
 "metadata": {
  "kernelspec": {
   "display_name": "Python 3",
   "language": "python",
   "name": "python3"
  },
  "language_info": {
   "codemirror_mode": {
    "name": "ipython",
    "version": 3
   },
   "file_extension": ".py",
   "mimetype": "text/x-python",
   "name": "python",
   "nbconvert_exporter": "python",
   "pygments_lexer": "ipython3",
   "version": "3.10.4"
  },
  "orig_nbformat": 4,
  "vscode": {
   "interpreter": {
    "hash": "9b9f07f525d6131811c533cc81eafd9d7147c1a9ff2e81c94d4f0d027f94c4be"
   }
  }
 },
 "nbformat": 4,
 "nbformat_minor": 2
}

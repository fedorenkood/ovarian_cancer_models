{
 "cells": [
  {
   "cell_type": "code",
   "execution_count": 1,
   "metadata": {
    "pycharm": {
     "name": "#%%\n"
    }
   },
   "outputs": [],
   "source": [
    "from typing import List\n",
    "\n",
    "from oop_functions.experiment_helper import *\n",
    "from oop_functions.experiment_runner import ExperimentRunner\n",
    "from oop_functions.util_functions import summarize_features, print_df, convert_numeric_to_float16\n",
    "from oop_functions.visualization_util import *\n",
    "from oop_functions.analytics_cv_util import *\n",
    "\n",
    "%matplotlib inline\n",
    "import warnings\n",
    "\n",
    "warnings.filterwarnings(\"ignore\")\n",
    "\n",
    "import numpy as np\n",
    "import pandas as pd\n",
    "\n",
    "from xgboost import XGBClassifier\n",
    "from sklearn.tree import DecisionTreeClassifier\n",
    "\n",
    "import itertools\n"
   ]
  },
  {
   "cell_type": "code",
   "execution_count": 2,
   "metadata": {
    "pycharm": {
     "name": "#%%\n"
    }
   },
   "outputs": [],
   "source": [
    "processed_data = pd.read_csv('./processed_dataset/recent_propagated_dataset.csv', index_col=0)"
   ]
  },
  {
   "cell_type": "code",
   "execution_count": 3,
   "metadata": {},
   "outputs": [],
   "source": [
    "processed_data = processed_data.drop(['ph_ovar_bq', 'ph_any_bq', 'ph_ovar_trial', 'ph_any_trial'], axis=1)"
   ]
  },
  {
   "cell_type": "code",
   "execution_count": 4,
   "metadata": {},
   "outputs": [],
   "source": [
    "\n",
    "processed_data = convert_numeric_to_float16(processed_data)"
   ]
  },
  {
   "attachments": {},
   "cell_type": "markdown",
   "metadata": {
    "pycharm": {
     "name": "#%% md\n"
    }
   },
   "source": [
    "I realized that I was doing labeled mean imputation, which should not happen. So, I performed imputation after I merged cancer and no_cancer datasets back together. Without labeled mean imputation, gaussian NB and logistic regression do not perform well. "
   ]
  },
  {
   "attachments": {},
   "cell_type": "markdown",
   "metadata": {
    "pycharm": {
     "name": "#%% md\n"
    }
   },
   "source": [
    "run experiments with decision tree and remove the top feature every time. Store the depth of the tree, the efficacy of the top feature, its value, accuracy, confusion matrix\n",
    "\n",
    "https://stackoverflow.com/questions/62819569/how-to-return-the-features-that-used-in-decision-tree-that-created-by-decisiontr\n",
    "\n",
    "`TODO:` divide them as FP and FN?\n",
    "\n",
    "`TODO:` try SVM or ML models\n",
    "\n",
    "`TODO:` At what point they were misclassified (e.g. at what point they diverge compared to the similar point with different prediction.) Look at the nearest neightbors with different neightbors. "
   ]
  },
  {
   "cell_type": "code",
   "execution_count": 5,
   "metadata": {},
   "outputs": [],
   "source": [
    "cv_analytics_utils = {}"
   ]
  },
  {
   "cell_type": "code",
   "execution_count": 6,
   "metadata": {
    "collapsed": false,
    "pycharm": {
     "name": "#%%\n"
    }
   },
   "outputs": [],
   "source": [
    "classifiers = {\n",
    "    # 'LogisticRegression': LogisticRegression(C= 0.25, random_state= 0),\n",
    "    # 'GaussianNB': GaussianNB(var_smoothing= 1e-09),\n",
    "    # 'DecisionTreeClassifier': DecisionTreeClassifier(criterion= 'entropy'),\n",
    "    # 'RandomForestClassifier': RandomForestClassifier(criterion= 'entropy', n_estimators= 200),\n",
    "    'XGBClassifier': XGBClassifier(eval_metric= 'error', learning_rate= 0.1)\n",
    "}\n",
    "\n",
    "experiment_data_helpers: List[ExperimentDataHelper] = [\n",
    "    ExperimentDataHelperSingleLabelScreenedFirst5,    \n",
    "    ExperimentDataHelperScreenedFirst5,\n",
    "    # ExperimentDataHelperNotScreenedColsFirst5,\n",
    "    # ExperimentDataHelperScreenedColsFirst5,\n",
    "    # ExperimentDataHelperScreenedOrCancer,\n",
    "    # ExperimentDataHelperScreened,\n",
    "    # ExperimentDataHelperNotScreenedCols,\n",
    "    # ExperimentDataHelperScreenedCols,\n",
    "    # ExperimentDataHelperAll,\n",
    "    # ExperimentDataHelperSingleLabelScreenedOrCancer,\n",
    "    # ExperimentDataHelperSingleLabelScreened,\n",
    "    # ExperimentDataHelperSingleLabelNotScreenedCols,\n",
    "    # ExperimentDataHelperSingleLabelScreenedCols,\n",
    "    # ExperimentDataHelperSingleLabelAll,\n",
    "    # ExperimentDataHelperScreenedFirst5ca125AndBinary,\n",
    "    # ExperimentDataHelperScreenedFirst5ca125Binary, \n",
    "    # ExperimentDataHelperScreenedFirst5ca125AndBinaryNoResult,\n",
    "\n",
    "]"
   ]
  },
  {
   "cell_type": "code",
   "execution_count": 7,
   "metadata": {},
   "outputs": [],
   "source": [
    "# TODO: save propagated source df so that propagation does not have to happen all the time"
   ]
  },
  {
   "cell_type": "code",
   "execution_count": 8,
   "metadata": {},
   "outputs": [
    {
     "name": "stdout",
     "output_type": "stream",
     "text": [
      "experiment_participants_screened_single_first_5_XGBClassifier_for_cancer_in_next_1_years_15_trials\n",
      "experiment_participants_screened_first_5_XGBClassifier_for_cancer_in_next_1_years_15_trials\n"
     ]
    }
   ],
   "source": [
    "years = [1]\n",
    "num_folds=15\n",
    "test_n_folds=15\n",
    "train_size = 15000\n",
    "for classifier_name, classifier in classifiers.items():\n",
    "    for year in years:\n",
    "        for experiment_data_helper_class in experiment_data_helpers:\n",
    "            label = f'cancer_in_next_{year}_years'\n",
    "            filesuffix = f'experiment_{experiment_data_helper_class.get_name()}_{classifier_name}_for_{label}_{num_folds}_trials'\n",
    "            print(filesuffix)\n",
    "            experiment_data_helper: ExperimentDataHelper = experiment_data_helper_class(processed_data, label, ['cancer_'], train_size = train_size)\n",
    "            # experiment_data_helper.set_train_size_to_max(num_folds)\n",
    "            experiment_runner = ExperimentRunner(classifier, experiment_data_helper, num_folds=num_folds, test_n_folds=test_n_folds)\n",
    "            cv_analytics_util = experiment_runner.run_experiment()\n",
    "            cv_analytics_utils[filesuffix] = cv_analytics_util\n",
    "            cv_analytics_util.store_cv_analytics_utils(filesuffix)\n"
   ]
  },
  {
   "cell_type": "code",
   "execution_count": 9,
   "metadata": {},
   "outputs": [],
   "source": [
    "analytics_util_0 = cv_analytics_utils['experiment_participants_screened_single_first_5_XGBClassifier_for_cancer_in_next_1_years_15_trials'].analytics_utils[0]"
   ]
  },
  {
   "cell_type": "code",
   "execution_count": 10,
   "metadata": {},
   "outputs": [],
   "source": [
    "df_0 = analytics_util_0.data_util.test_df"
   ]
  },
  {
   "cell_type": "code",
   "execution_count": 11,
   "metadata": {},
   "outputs": [],
   "source": [
    "processed_data['ca125ii_level_binary'] = 0"
   ]
  },
  {
   "cell_type": "code",
   "execution_count": 12,
   "metadata": {},
   "outputs": [],
   "source": [
    "transformed_df = analytics_util_0.data_util.imputer.imputer_transform(processed_data)"
   ]
  },
  {
   "cell_type": "code",
   "execution_count": 13,
   "metadata": {},
   "outputs": [
    {
     "data": {
      "text/html": [
       "<div>\n",
       "<style scoped>\n",
       "    .dataframe tbody tr th:only-of-type {\n",
       "        vertical-align: middle;\n",
       "    }\n",
       "\n",
       "    .dataframe tbody tr th {\n",
       "        vertical-align: top;\n",
       "    }\n",
       "\n",
       "    .dataframe thead th {\n",
       "        text-align: right;\n",
       "    }\n",
       "</style>\n",
       "<table border=\"1\" class=\"dataframe\">\n",
       "  <thead>\n",
       "    <tr style=\"text-align: right;\">\n",
       "      <th></th>\n",
       "      <th>ovar_cancer</th>\n",
       "      <th>ovar_behavior</th>\n",
       "      <th>ovar_histtype</th>\n",
       "      <th>plco_id</th>\n",
       "      <th>ca125ii_level</th>\n",
       "      <th>ovary_trial_flag</th>\n",
       "      <th>educat</th>\n",
       "      <th>marital</th>\n",
       "      <th>occupat</th>\n",
       "      <th>pipe</th>\n",
       "      <th>...</th>\n",
       "      <th>volum</th>\n",
       "      <th>cancer_in_next_1_years</th>\n",
       "      <th>cancer_in_next_3_years</th>\n",
       "      <th>cancer_in_next_5_years</th>\n",
       "      <th>cancer_in_next_10_years</th>\n",
       "      <th>ovar_observe_year</th>\n",
       "      <th>was_screened</th>\n",
       "      <th>ph_any_not_ovar_bq</th>\n",
       "      <th>index</th>\n",
       "      <th>ca125ii_level_binary</th>\n",
       "    </tr>\n",
       "  </thead>\n",
       "  <tbody>\n",
       "    <tr>\n",
       "      <th>228522</th>\n",
       "      <td>0.0</td>\n",
       "      <td>2.983193</td>\n",
       "      <td>-1.0</td>\n",
       "      <td>A-077228-7</td>\n",
       "      <td>9.0</td>\n",
       "      <td>1.0</td>\n",
       "      <td>7.0</td>\n",
       "      <td>1.0</td>\n",
       "      <td>1.0</td>\n",
       "      <td>0.0</td>\n",
       "      <td>...</td>\n",
       "      <td>10.06438</td>\n",
       "      <td>0.0</td>\n",
       "      <td>0.0</td>\n",
       "      <td>0.0</td>\n",
       "      <td>0.0</td>\n",
       "      <td>5.0</td>\n",
       "      <td>1.0</td>\n",
       "      <td>0.0</td>\n",
       "      <td>228522.0</td>\n",
       "      <td>0.0</td>\n",
       "    </tr>\n",
       "  </tbody>\n",
       "</table>\n",
       "<p>1 rows × 155 columns</p>\n",
       "</div>"
      ],
      "text/plain": [
       "        ovar_cancer  ovar_behavior  ovar_histtype     plco_id  ca125ii_level  \\\n",
       "228522          0.0       2.983193           -1.0  A-077228-7            9.0   \n",
       "\n",
       "        ovary_trial_flag  educat  marital  occupat  pipe  ...     volum  \\\n",
       "228522               1.0     7.0      1.0      1.0   0.0  ...  10.06438   \n",
       "\n",
       "        cancer_in_next_1_years  cancer_in_next_3_years  \\\n",
       "228522                     0.0                     0.0   \n",
       "\n",
       "        cancer_in_next_5_years  cancer_in_next_10_years  ovar_observe_year  \\\n",
       "228522                     0.0                      0.0                5.0   \n",
       "\n",
       "        was_screened  ph_any_not_ovar_bq     index  ca125ii_level_binary  \n",
       "228522           1.0                 0.0  228522.0                   0.0  \n",
       "\n",
       "[1 rows x 155 columns]"
      ]
     },
     "execution_count": 13,
     "metadata": {},
     "output_type": "execute_result"
    }
   ],
   "source": [
    "transformed_df[transformed_df['index'] == 228522]"
   ]
  },
  {
   "cell_type": "code",
   "execution_count": 14,
   "metadata": {},
   "outputs": [
    {
     "data": {
      "text/html": [
       "<div>\n",
       "<style scoped>\n",
       "    .dataframe tbody tr th:only-of-type {\n",
       "        vertical-align: middle;\n",
       "    }\n",
       "\n",
       "    .dataframe tbody tr th {\n",
       "        vertical-align: top;\n",
       "    }\n",
       "\n",
       "    .dataframe thead th {\n",
       "        text-align: right;\n",
       "    }\n",
       "</style>\n",
       "<table border=\"1\" class=\"dataframe\">\n",
       "  <thead>\n",
       "    <tr style=\"text-align: right;\">\n",
       "      <th></th>\n",
       "      <th>ovar_cancer</th>\n",
       "      <th>ovar_behavior</th>\n",
       "      <th>ovar_histtype</th>\n",
       "      <th>plco_id</th>\n",
       "      <th>ca125ii_level</th>\n",
       "      <th>ovary_trial_flag</th>\n",
       "      <th>educat</th>\n",
       "      <th>marital</th>\n",
       "      <th>occupat</th>\n",
       "      <th>pipe</th>\n",
       "      <th>...</th>\n",
       "      <th>volum</th>\n",
       "      <th>cancer_in_next_1_years</th>\n",
       "      <th>cancer_in_next_3_years</th>\n",
       "      <th>cancer_in_next_5_years</th>\n",
       "      <th>cancer_in_next_10_years</th>\n",
       "      <th>ovar_observe_year</th>\n",
       "      <th>was_screened</th>\n",
       "      <th>ph_any_not_ovar_bq</th>\n",
       "      <th>index</th>\n",
       "      <th>ca125ii_level_binary</th>\n",
       "    </tr>\n",
       "  </thead>\n",
       "  <tbody>\n",
       "    <tr>\n",
       "      <th>228522</th>\n",
       "      <td>0.0</td>\n",
       "      <td>NaN</td>\n",
       "      <td>NaN</td>\n",
       "      <td>A-077228-7</td>\n",
       "      <td>9.0</td>\n",
       "      <td>1.0</td>\n",
       "      <td>7.0</td>\n",
       "      <td>1.0</td>\n",
       "      <td>1.0</td>\n",
       "      <td>0.0</td>\n",
       "      <td>...</td>\n",
       "      <td>NaN</td>\n",
       "      <td>0.0</td>\n",
       "      <td>0.0</td>\n",
       "      <td>0.0</td>\n",
       "      <td>0.0</td>\n",
       "      <td>5.0</td>\n",
       "      <td>1.0</td>\n",
       "      <td>0.0</td>\n",
       "      <td>228522</td>\n",
       "      <td>0</td>\n",
       "    </tr>\n",
       "  </tbody>\n",
       "</table>\n",
       "<p>1 rows × 155 columns</p>\n",
       "</div>"
      ],
      "text/plain": [
       "        ovar_cancer  ovar_behavior  ovar_histtype     plco_id  ca125ii_level  \\\n",
       "228522          0.0            NaN            NaN  A-077228-7            9.0   \n",
       "\n",
       "        ovary_trial_flag  educat  marital  occupat  pipe  ...  volum  \\\n",
       "228522               1.0     7.0      1.0      1.0   0.0  ...    NaN   \n",
       "\n",
       "        cancer_in_next_1_years  cancer_in_next_3_years  \\\n",
       "228522                     0.0                     0.0   \n",
       "\n",
       "        cancer_in_next_5_years  cancer_in_next_10_years  ovar_observe_year  \\\n",
       "228522                     0.0                      0.0                5.0   \n",
       "\n",
       "        was_screened  ph_any_not_ovar_bq   index  ca125ii_level_binary  \n",
       "228522           1.0                 0.0  228522                     0  \n",
       "\n",
       "[1 rows x 155 columns]"
      ]
     },
     "execution_count": 14,
     "metadata": {},
     "output_type": "execute_result"
    }
   ],
   "source": [
    "processed_data[processed_data['index'] == 228522]"
   ]
  },
  {
   "cell_type": "code",
   "execution_count": 15,
   "metadata": {},
   "outputs": [
    {
     "data": {
      "text/html": [
       "<div>\n",
       "<style scoped>\n",
       "    .dataframe tbody tr th:only-of-type {\n",
       "        vertical-align: middle;\n",
       "    }\n",
       "\n",
       "    .dataframe tbody tr th {\n",
       "        vertical-align: top;\n",
       "    }\n",
       "\n",
       "    .dataframe thead th {\n",
       "        text-align: right;\n",
       "    }\n",
       "</style>\n",
       "<table border=\"1\" class=\"dataframe\">\n",
       "  <thead>\n",
       "    <tr style=\"text-align: right;\">\n",
       "      <th></th>\n",
       "      <th>plco_id</th>\n",
       "      <th>age</th>\n",
       "      <th>agelevel</th>\n",
       "      <th>arthrit_f</th>\n",
       "      <th>asp</th>\n",
       "      <th>asppd</th>\n",
       "      <th>bbd</th>\n",
       "      <th>bcontr_f</th>\n",
       "      <th>bcontra</th>\n",
       "      <th>bcontrt</th>\n",
       "      <th>...</th>\n",
       "      <th>uterine_fib</th>\n",
       "      <th>visboth</th>\n",
       "      <th>viseith</th>\n",
       "      <th>visl</th>\n",
       "      <th>visr</th>\n",
       "      <th>volum</th>\n",
       "      <th>was_screened</th>\n",
       "      <th>weight20_f</th>\n",
       "      <th>weight50_f</th>\n",
       "      <th>weight_f</th>\n",
       "    </tr>\n",
       "  </thead>\n",
       "  <tbody>\n",
       "    <tr>\n",
       "      <th>3732</th>\n",
       "      <td>A-077228-7</td>\n",
       "      <td>70.0</td>\n",
       "      <td>2.0</td>\n",
       "      <td>0.0</td>\n",
       "      <td>1.0</td>\n",
       "      <td>1.0</td>\n",
       "      <td>0.0</td>\n",
       "      <td>1.0</td>\n",
       "      <td>2.0</td>\n",
       "      <td>5.0</td>\n",
       "      <td>...</td>\n",
       "      <td>1.0</td>\n",
       "      <td>0.0</td>\n",
       "      <td>0.0</td>\n",
       "      <td>0.0</td>\n",
       "      <td>0.0</td>\n",
       "      <td>10.06438</td>\n",
       "      <td>1.0</td>\n",
       "      <td>127.0</td>\n",
       "      <td>118.0</td>\n",
       "      <td>125.0</td>\n",
       "    </tr>\n",
       "  </tbody>\n",
       "</table>\n",
       "<p>1 rows × 152 columns</p>\n",
       "</div>"
      ],
      "text/plain": [
       "         plco_id   age  agelevel  arthrit_f  asp  asppd  bbd  bcontr_f  \\\n",
       "3732  A-077228-7  70.0       2.0        0.0  1.0    1.0  0.0       1.0   \n",
       "\n",
       "      bcontra  bcontrt  ...  uterine_fib  visboth  viseith  visl  visr  \\\n",
       "3732      2.0      5.0  ...          1.0      0.0      0.0   0.0   0.0   \n",
       "\n",
       "         volum  was_screened  weight20_f  weight50_f  weight_f  \n",
       "3732  10.06438           1.0       127.0       118.0     125.0  \n",
       "\n",
       "[1 rows x 152 columns]"
      ]
     },
     "execution_count": 15,
     "metadata": {},
     "output_type": "execute_result"
    }
   ],
   "source": [
    "df_0[df_0['index'] == 228522]"
   ]
  },
  {
   "cell_type": "code",
   "execution_count": 16,
   "metadata": {},
   "outputs": [
    {
     "data": {
      "text/plain": [
       "array([7.56819324e-04, 3.97770524e-02, 3.09332683e+00, 1.02264751e-01,\n",
       "       1.98038900e-02, 2.50276933e+00, 5.08255036e-02, 1.53206821e+00,\n",
       "       4.62198484e-01, 6.27659838e+01, 1.53147567e-02, 2.40436348e-01,\n",
       "       1.85992987e+00, 7.33113429e-02, 3.46052268e+00, 1.71954839e-01,\n",
       "       1.58708246e-01, 1.02717694e+00, 1.55483138e+01, 4.62696538e+00,\n",
       "       1.71055895e+00, 1.94674281e+00, 1.70479146e+00, 2.79140797e+00,\n",
       "       9.96056908e-01, 1.24346253e+02, 2.13911938e+00, 6.52176145e-01,\n",
       "       2.02458157e+00, 1.62210479e-02, 4.14954364e-01, 1.20504051e+01,\n",
       "       2.22550045e+00, 1.51301470e-01, 3.18113984e-01, 6.18943067e-02,\n",
       "       1.31559908e+01, 8.79696281e+02, 1.00000000e+00, 5.72804795e-02,\n",
       "       1.63848449e+00, 1.48317973e+00, 8.12058946e-03, 1.52038092e+00,\n",
       "       1.39040971e+00, 1.96242526e+01, 5.82472350e+01, 1.71129651e+00,\n",
       "       4.14575935e-01, 5.97950267e-01, 7.83879591e-01, 8.80114971e-01,\n",
       "       6.42254346e+01, 2.11995915e+01, 4.73873386e-01, 1.58375885e+02,\n",
       "       5.69871766e-02, 5.48944252e-01, 3.22798748e-01, 2.50711611e-01,\n",
       "       1.22281899e+01, 1.61326159e+00, 3.09483577e+00, 1.01112628e+00,\n",
       "       1.41084002e+00, 1.83644983e-02, 4.44726933e-01, 1.47321847e+00,\n",
       "       5.52069052e-02, 1.83040787e+00, 1.59807042e+01, 2.85340621e-01,\n",
       "       9.28299419e-01, 1.01197480e+00, 8.09801092e-02, 2.81078840e+00,\n",
       "       2.86189565e+00, 2.71893539e-01, 1.26748359e+01, 5.74918089e+01,\n",
       "       1.72708266e+00, 1.78425529e+00, 4.23453398e-02, 1.39410980e+00,\n",
       "       1.46689701e+05, 1.54292497e+00, 2.80827299e+00, 1.42950354e+00,\n",
       "       1.61467811e+01, 1.01685465e+00, 2.21107627e-01, 8.33619893e-01,\n",
       "       1.26545915e+00, 3.23334884e+00, 9.99258444e+01, 2.98319328e+00,\n",
       "       1.15884515e+01, 3.19762948e-02, 1.44322448e-01, 2.38447694e+00,\n",
       "       1.42632120e-01, 1.22101234e+01, 1.68427330e-01, 1.95592612e-01,\n",
       "       1.17468176e+00, 1.79746233e-02, 3.23185091e+00, 1.08844326e+00,\n",
       "       1.00643800e+01, 1.76198647e+00, 1.97161016e+00, 7.56819324e-04,\n",
       "       1.47158952e+02, 2.10361481e-01, 2.50752383e+01, 1.76706993e+00,\n",
       "       1.11050834e+00, 2.69234233e+00, 4.03587329e-01, 4.38010013e-01,\n",
       "       1.33822889e+01, 2.69813837e+01, 9.35560182e-02, 4.90621238e-03])"
      ]
     },
     "execution_count": 16,
     "metadata": {},
     "output_type": "execute_result"
    }
   ],
   "source": [
    "cv_analytics_utils['experiment_participants_screened_single_first_5_XGBClassifier_for_cancer_in_next_1_years_15_trials'].analytics_utils[0].data_util.imputer.imputer_mean.statistics_"
   ]
  },
  {
   "cell_type": "code",
   "execution_count": 17,
   "metadata": {},
   "outputs": [],
   "source": [
    "# cv_analytics_util.set_filter(differentiate_confusion_matrix_over['was_screened'][0][1])"
   ]
  },
  {
   "cell_type": "code",
   "execution_count": 18,
   "metadata": {},
   "outputs": [
    {
     "name": "stdout",
     "output_type": "stream",
     "text": [
      "0.010146677494049072\n",
      "0.5151421427726746\n",
      "0.01676034927368164\n",
      "0.8626037240028381\n",
      "0.1708967387676239\n",
      "0.13555051386356354\n",
      "0.04385042563080788\n",
      "0.020017949864268303\n",
      "0.04506152123212814\n",
      "0.028346732258796692\n",
      "0.9730935096740723\n",
      "0.01753869466483593\n",
      "0.003482754109427333\n",
      "0.0056465622037649155\n",
      "0.00573346670717001\n"
     ]
    }
   ],
   "source": [
    "for analytics_util in cv_analytics_util.analytics_utils: \n",
    "    print(analytics_util.get_report_generation_util().get_roc_threshold())"
   ]
  },
  {
   "cell_type": "code",
   "execution_count": 19,
   "metadata": {},
   "outputs": [],
   "source": [
    "# for key, cv_analytics_util in cv_analytics_utils.items():\n",
    "#     print(f\"{key}: \")\n",
    "#     filepath = f'./trees/decision_tree_for_{key}.png'\n",
    "#     cv_analytics_util.analytics_utils[0].plot_save_tree(False, filepath)"
   ]
  },
  {
   "cell_type": "code",
   "execution_count": 20,
   "metadata": {},
   "outputs": [],
   "source": [
    "# TODO: test the model with single lable with the same test set"
   ]
  },
  {
   "cell_type": "code",
   "execution_count": 22,
   "metadata": {},
   "outputs": [
    {
     "name": "stdout",
     "output_type": "stream",
     "text": [
      "experiment_participants_screened_single_first_5_XGBClassifier_for_cancer_in_next_1_years_15_trials: \n",
      "\n",
      "\n",
      "Cross-Validation measures:\n",
      "+--------------------+----------+-------------+-----------+----------+\n",
      "|                    |     mean |         std |       min |      max |\n",
      "|--------------------+----------+-------------+-----------+----------|\n",
      "| precision__class_0 | 0.999684 | 0.000158137 | 0.99946   | 1        |\n",
      "| recall__class_0    | 0.996703 | 0.000878504 | 0.99456   | 0.997955 |\n",
      "| f1-score__class_0  | 0.998191 | 0.000483569 | 0.997094  | 0.998976 |\n",
      "| precision__class_1 | 0.125913 | 0.0555177   | 0.05      | 0.258065 |\n",
      "| recall__class_1    | 0.588889 | 0.202212    | 0.25      | 1        |\n",
      "| f1-score__class_1  | 0.206582 | 0.0867177   | 0.0833333 | 0.410256 |\n",
      "| accuracy           | 0.996391 | 0.000963125 | 0.994208  | 0.997956 |\n",
      "| auc                | 0.945693 | 0.0422409   | 0.848166  | 0.999689 |\n",
      "+--------------------+----------+-------------+-----------+----------+\n",
      "experiment_participants_screened_first_5_XGBClassifier_for_cancer_in_next_1_years_15_trials: \n",
      "\n",
      "\n",
      "Cross-Validation measures:\n",
      "+--------------------+-----------+-------------+-----------+----------+\n",
      "|                    |      mean |         std |       min |      max |\n",
      "|--------------------+-----------+-------------+-----------+----------|\n",
      "| precision__class_0 | 0.999562  | 0.000239493 | 0.998928  | 0.999823 |\n",
      "| recall__class_0    | 0.996691  | 0.00105116  | 0.995118  | 0.99876  |\n",
      "| f1-score__class_0  | 0.998124  | 0.000521025 | 0.99742   | 0.999025 |\n",
      "| precision__class_1 | 0.0987882 | 0.0740179   | 0.0192308 | 0.3      |\n",
      "| recall__class_1    | 0.423753  | 0.208265    | 0.0769231 | 0.777778 |\n",
      "| f1-score__class_1  | 0.153034  | 0.0953184   | 0.0357143 | 0.352941 |\n",
      "| accuracy           | 0.996257  | 0.00103829  | 0.994854  | 0.998054 |\n",
      "| auc                | 0.840356  | 0.101496    | 0.682149  | 0.981976 |\n",
      "+--------------------+-----------+-------------+-----------+----------+\n"
     ]
    }
   ],
   "source": [
    "for key, cv_analytics_util in cv_analytics_utils.items():\n",
    "    print(f\"{key}: \")\n",
    "    cv_analytics_util.store_cv_results()"
   ]
  },
  {
   "cell_type": "code",
   "execution_count": 21,
   "metadata": {},
   "outputs": [
    {
     "name": "stdout",
     "output_type": "stream",
     "text": [
      "experiment_participants_screened_single_first_5_XGBClassifier_for_cancer_in_next_1_years_15_trials: \n"
     ]
    },
    {
     "name": "stdout",
     "output_type": "stream",
     "text": [
      "\n",
      "\n",
      "Cross-Validation measures:\n",
      "+--------------------+----------+-------------+-----------+----------+\n",
      "|                    |     mean |         std |       min |      max |\n",
      "|--------------------+----------+-------------+-----------+----------|\n",
      "| precision__class_0 | 0.999684 | 0.000158137 | 0.99946   | 1        |\n",
      "| recall__class_0    | 0.996703 | 0.000878504 | 0.99456   | 0.997955 |\n",
      "| f1-score__class_0  | 0.998191 | 0.000483569 | 0.997094  | 0.998976 |\n",
      "| precision__class_1 | 0.125913 | 0.0555177   | 0.05      | 0.258065 |\n",
      "| recall__class_1    | 0.588889 | 0.202212    | 0.25      | 1        |\n",
      "| f1-score__class_1  | 0.206582 | 0.0867177   | 0.0833333 | 0.410256 |\n",
      "| accuracy           | 0.996391 | 0.000963125 | 0.994208  | 0.997956 |\n",
      "| auc                | 0.945693 | 0.0422409   | 0.848166  | 0.999689 |\n",
      "+--------------------+----------+-------------+-----------+----------+\n"
     ]
    },
    {
     "name": "stderr",
     "output_type": "stream",
     "text": [
      "No artists with labels found to put in legend.  Note that artists whose label start with an underscore are ignored when legend() is called with no argument.\n"
     ]
    },
    {
     "data": {
      "image/png": "[encoded data removed]",
      "text/plain": [
       "<Figure size 1152x360 with 3 Axes>"
      ]
     },
     "metadata": {
      "needs_background": "light"
     },
     "output_type": "display_data"
    },
    {
     "name": "stdout",
     "output_type": "stream",
     "text": [
      "experiment_participants_screened_first_5_XGBClassifier_for_cancer_in_next_1_years_15_trials: \n",
      "\n",
      "\n",
      "Cross-Validation measures:\n",
      "+--------------------+-----------+-------------+-----------+----------+\n",
      "|                    |      mean |         std |       min |      max |\n",
      "|--------------------+-----------+-------------+-----------+----------|\n",
      "| precision__class_0 | 0.999562  | 0.000239493 | 0.998928  | 0.999823 |\n",
      "| recall__class_0    | 0.996691  | 0.00105116  | 0.995118  | 0.99876  |\n",
      "| f1-score__class_0  | 0.998124  | 0.000521025 | 0.99742   | 0.999025 |\n",
      "| precision__class_1 | 0.0987882 | 0.0740179   | 0.0192308 | 0.3      |\n",
      "| recall__class_1    | 0.423753  | 0.208265    | 0.0769231 | 0.777778 |\n",
      "| f1-score__class_1  | 0.153034  | 0.0953184   | 0.0357143 | 0.352941 |\n",
      "| accuracy           | 0.996257  | 0.00103829  | 0.994854  | 0.998054 |\n",
      "| auc                | 0.840356  | 0.101496    | 0.682149  | 0.981976 |\n",
      "+--------------------+-----------+-------------+-----------+----------+\n"
     ]
    },
    {
     "name": "stderr",
     "output_type": "stream",
     "text": [
      "No artists with labels found to put in legend.  Note that artists whose label start with an underscore are ignored when legend() is called with no argument.\n"
     ]
    },
    {
     "data": {
      "image/png": "[encoded data removed]",
      "text/plain": [
       "<Figure size 1152x360 with 3 Axes>"
      ]
     },
     "metadata": {
      "needs_background": "light"
     },
     "output_type": "display_data"
    }
   ],
   "source": [
    "for key, cv_analytics_util in cv_analytics_utils.items():\n",
    "    print(f\"{key}: \")\n",
    "    cv_analytics_util.update_thresholds(None)\n",
    "    cv_analytics_util.get_cv_report();\n",
    "    cv_analytics_util.display_graph()"
   ]
  }
 ],
 "metadata": {
  "kernelspec": {
   "display_name": "Python 3",
   "language": "python",
   "name": "python3"
  },
  "language_info": {
   "codemirror_mode": {
    "name": "ipython",
    "version": 3
   },
   "file_extension": ".py",
   "mimetype": "text/x-python",
   "name": "python",
   "nbconvert_exporter": "python",
   "pygments_lexer": "ipython3",
   "version": "3.10.4"
  },
  "orig_nbformat": 4,
  "vscode": {
   "interpreter": {
    "hash": "9b9f07f525d6131811c533cc81eafd9d7147c1a9ff2e81c94d4f0d027f94c4be"
   }
  }
 },
 "nbformat": 4,
 "nbformat_minor": 2
}

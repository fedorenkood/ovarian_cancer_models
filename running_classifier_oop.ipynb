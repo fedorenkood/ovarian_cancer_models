{
 "cells": [
  {
   "cell_type": "code",
   "execution_count": 1,
   "metadata": {
    "pycharm": {
     "name": "#%%\n"
    }
   },
   "outputs": [],
   "source": [
    "from typing import List\n",
    "\n",
    "from oop_functions.experiment_helper import *\n",
    "from oop_functions.experiment_runner import ExperimentRunner\n",
    "from oop_functions.util_functions import summarize_features, print_df, convert_numeric_to_float16\n",
    "from oop_functions.visualization_util import *\n",
    "from oop_functions.analytics_cv_util import *\n",
    "\n",
    "%matplotlib inline\n",
    "import warnings\n",
    "\n",
    "warnings.filterwarnings(\"ignore\")\n",
    "\n",
    "import numpy as np\n",
    "import pandas as pd\n",
    "\n",
    "from xgboost import XGBClassifier\n",
    "\n",
    "import itertools\n"
   ]
  },
  {
   "cell_type": "code",
   "execution_count": 2,
   "metadata": {
    "pycharm": {
     "name": "#%%\n"
    }
   },
   "outputs": [],
   "source": [
    "processed_data = pd.read_csv('./processed_dataset/recent_propagated_dataset.csv', index_col=0)\n",
    "missing_df = pd.read_csv('./missing_features/combined_missing.csv', index_col=0)"
   ]
  },
  {
   "cell_type": "code",
   "execution_count": 3,
   "metadata": {},
   "outputs": [],
   "source": [
    "# TODO: convert to float16\n",
    "\n",
    "processed_data = convert_numeric_to_float16(processed_data)"
   ]
  },
  {
   "attachments": {},
   "cell_type": "markdown",
   "metadata": {
    "pycharm": {
     "name": "#%% md\n"
    }
   },
   "source": [
    "## Merging Datasets"
   ]
  },
  {
   "attachments": {},
   "cell_type": "markdown",
   "metadata": {
    "pycharm": {
     "name": "#%% md\n"
    }
   },
   "source": [
    "I realized that I was doing labeled mean imputation, which should not happen. So, I performed imputation after I merged cancer and no_cancer datasets back together. Without labeled mean imputation, gaussian NB and logistic regression do not perform well. "
   ]
  },
  {
   "attachments": {},
   "cell_type": "markdown",
   "metadata": {
    "pycharm": {
     "name": "#%% md\n"
    }
   },
   "source": [
    "run experiments with decision tree and remove the top feature every time. Store the depth of the tree, the efficacy of the top feature, its value, accuracy, confusion matrix\n",
    "\n",
    "https://stackoverflow.com/questions/62819569/how-to-return-the-features-that-used-in-decision-tree-that-created-by-decisiontr\n",
    "\n",
    "`TODO:` divide them as FP and FN?\n",
    "\n",
    "`TODO:` only keep columns with more than 1 unique value? \n",
    "\n",
    "`TODO:` make spreadsheet with model performance for 1,3,5,10 years. Print out trees, top 5 features. Send models\n",
    "\n",
    "`TODO:` try SVM or ML models\n",
    "\n",
    "`TODO:` At what point they were misclassified (e.g. at what point they diverge compared to the similar point with different prediction.) Look at the nearest neightbors with different neightbors. "
   ]
  },
  {
   "cell_type": "code",
   "execution_count": 4,
   "metadata": {
    "pycharm": {
     "name": "#%%\n"
    }
   },
   "outputs": [],
   "source": [
    "def isin_filter(df: pd.DataFrame, col: str, values: List):\n",
    "    return df[df[col].isin(values)]\n",
    "\n",
    "# filtered_on = list(itertools.chain.from_iterable([zip([key]*len(vals), vals) for key, vals in differentiate_confusion_matrix_over.items()]))\n",
    "# TODO: finish this one\n",
    "differentiate_confusion_matrix_over = {\n",
    "    'was_screened': [\n",
    "        ([0], lambda df: isin_filter(df, 'was_screened', [0])), \n",
    "        ([1], lambda df: isin_filter(df, 'was_screened', [1]))\n",
    "    ], \n",
    "    'ovar_histtype': [\n",
    "        ([2], lambda df: isin_filter(df, 'ovar_histtype', [2])), \n",
    "        ([2, 4, 6, 8, 9, 31], lambda df: isin_filter(df, 'ovar_histtype', [2, 4, 6, 8, 9, 31]))\n",
    "    ]\n",
    "}\n"
   ]
  },
  {
   "cell_type": "code",
   "execution_count": 5,
   "metadata": {},
   "outputs": [],
   "source": [
    "cv_analytics_utils = {}"
   ]
  },
  {
   "cell_type": "code",
   "execution_count": 6,
   "metadata": {
    "collapsed": false,
    "pycharm": {
     "name": "#%%\n"
    }
   },
   "outputs": [],
   "source": [
    "classifiers = {\n",
    "    # 'LogisticRegression': LogisticRegression(C= 0.25, random_state= 0),\n",
    "    # 'GaussianNB': GaussianNB(var_smoothing= 1e-09),\n",
    "    # 'DecisionTreeClassifier': DecisionTreeClassifier(criterion= 'entropy'),\n",
    "    # 'RandomForestClassifier': RandomForestClassifier(criterion= 'entropy', n_estimators= 200),\n",
    "    'XGBClassifier': XGBClassifier(eval_metric= 'error', learning_rate= 0.1)\n",
    "}\n",
    "\n",
    "experiment_data_helpers: List[ExperimentDataHelper] = [\n",
    "    # ExperimentDataHelperScreenedOrCancer,\n",
    "    # ExperimentDataHelperScreened,\n",
    "    # ExperimentDataHelperNotScreenedCols,\n",
    "    ExperimentDataHelperScreenedCols,\n",
    "    # ExperimentDataHelperAll,\n",
    "    # ExperimentDataHelperSingleLabelScreenedOrCancer,\n",
    "    # ExperimentDataHelperSingleLabelScreened,\n",
    "    # ExperimentDataHelperSingleLabelNotScreenedCols,\n",
    "    # ExperimentDataHelperSingleLabelScreenedCols,\n",
    "    # ExperimentDataHelperSingleLabelAll\n",
    "]"
   ]
  },
  {
   "cell_type": "code",
   "execution_count": 7,
   "metadata": {},
   "outputs": [
    {
     "name": "stdout",
     "output_type": "stream",
     "text": [
      "experiment_screened_cols_XGBClassifier_for_cancer_in_next_1_years_10_trials\n"
     ]
    }
   ],
   "source": [
    "years = [1]\n",
    "num_folds=10\n",
    "test_n_folds=10\n",
    "train_size = 15000\n",
    "for classifier_name, classifier in classifiers.items():\n",
    "    for year in years:\n",
    "        for experiment_data_helper_class in experiment_data_helpers:\n",
    "            label = f'cancer_in_next_{year}_years'\n",
    "            filesuffix = f'experiment_{experiment_data_helper_class.get_name()}_{classifier_name}_for_{label}_{num_folds}_trials'\n",
    "            print(filesuffix)\n",
    "            experiment_data_helper: ExperimentDataHelper = experiment_data_helper_class(processed_data, label, ['cancer_'], train_size = train_size)\n",
    "            # experiment_data_helper.set_train_size_to_max(num_folds)\n",
    "            experiment_runner = ExperimentRunner(classifier, experiment_data_helper, missing_df, num_folds=num_folds, test_n_folds=test_n_folds)\n",
    "            cv_analytics_util = experiment_runner.run_experiment()\n",
    "            cv_analytics_utils[filesuffix] = cv_analytics_util\n",
    "            cv_analytics_util.store_cv_analytics_utils(filesuffix)\n"
   ]
  },
  {
   "cell_type": "code",
   "execution_count": 8,
   "metadata": {},
   "outputs": [],
   "source": [
    "# cv_analytics_util.set_filter(differentiate_confusion_matrix_over['was_screened'][0][1])"
   ]
  },
  {
   "cell_type": "code",
   "execution_count": 9,
   "metadata": {},
   "outputs": [
    {
     "data": {
      "text/plain": [
       "0.2887367308139801"
      ]
     },
     "execution_count": 9,
     "metadata": {},
     "output_type": "execute_result"
    }
   ],
   "source": [
    "cv_analytics_util.analytics_utils[0].get_report_generation_util().get_roc_threshold()"
   ]
  },
  {
   "cell_type": "code",
   "execution_count": 10,
   "metadata": {},
   "outputs": [
    {
     "name": "stdout",
     "output_type": "stream",
     "text": [
      "experiment_screened_cols_XGBClassifier_for_cancer_in_next_1_years_10_trials: \n",
      "\n",
      "\n",
      "Cross-Validation measures:\n",
      "+--------------------+------------+-------------+------------+------------+\n",
      "|                    |       mean |         std |        min |        max |\n",
      "|--------------------+------------+-------------+------------+------------|\n",
      "| precision__class_0 | 0.999231   | 0.000183949 | 0.998873   | 0.999402   |\n",
      "| recall__class_0    | 0.946832   | 0.0066769   | 0.939158   | 0.956711   |\n",
      "| f1-score__class_0  | 0.972314   | 0.00345497  | 0.968311   | 0.977382   |\n",
      "| precision__class_1 | 0.00296634 | 0.00117415  | 0.00109709 | 0.00456026 |\n",
      "| recall__class_1    | 0.17945    | 0.0663935   | 0.0571429  | 0.275862   |\n",
      "| f1-score__class_1  | 0.00582852 | 0.00229303  | 0.00216802 | 0.00887199 |\n",
      "| accuracy           | 0.946149   | 0.00654676  | 0.938583   | 0.955767   |\n",
      "| auc                | 0.553885   | 0.070014    | 0.391568   | 0.6315     |\n",
      "+--------------------+------------+-------------+------------+------------+\n"
     ]
    },
    {
     "data": {
      "image/png": "[encoded data removed]",
      "text/plain": [
       "<Figure size 1152x360 with 3 Axes>"
      ]
     },
     "metadata": {
      "needs_background": "light"
     },
     "output_type": "display_data"
    }
   ],
   "source": [
    "for key, cv_analytics_util in cv_analytics_utils.items():\n",
    "    print(f\"{key}: \")\n",
    "    cv_analytics_util.get_cv_report();\n",
    "    cv_analytics_util.display_graph()"
   ]
  },
  {
   "cell_type": "code",
   "execution_count": 11,
   "metadata": {},
   "outputs": [
    {
     "data": {
      "text/plain": [
       "553958     2.0\n",
       "468117     NaN\n",
       "499429     2.0\n",
       "103416     2.0\n",
       "115394     2.0\n",
       "          ... \n",
       "652962     NaN\n",
       "552875     2.0\n",
       "317267    31.0\n",
       "232474     2.0\n",
       "129294    31.0\n",
       "Name: ovar_histtype, Length: 30000, dtype: float16"
      ]
     },
     "execution_count": 11,
     "metadata": {},
     "output_type": "execute_result"
    }
   ],
   "source": [
    "cv_analytics_util.analytics_utils[0].data_util.train_df['ovar_histtype']"
   ]
  },
  {
   "cell_type": "code",
   "execution_count": 12,
   "metadata": {
    "pycharm": {
     "name": "#%%\n"
    }
   },
   "outputs": [],
   "source": [
    "X_test_mismatch = cv_analytics_util.analytics_utils[0].get_high_confidence_errors()"
   ]
  },
  {
   "cell_type": "code",
   "execution_count": 13,
   "metadata": {
    "pycharm": {
     "name": "#%%\n"
    }
   },
   "outputs": [
    {
     "ename": "TypeError",
     "evalue": "cannot concatenate object of type '<class 'numpy.float64'>'; only Series and DataFrame objs are valid",
     "output_type": "error",
     "traceback": [
      "\u001b[1;31m---------------------------------------------------------------------------\u001b[0m",
      "\u001b[1;31mTypeError\u001b[0m                                 Traceback (most recent call last)",
      "\u001b[1;32mc:\\Data\\coding_projects\\ovarian_cancer_models\\running_classifier_oop.ipynb Cell 16\u001b[0m in \u001b[0;36m<cell line: 1>\u001b[1;34m()\u001b[0m\n\u001b[1;32m----> <a href='vscode-notebook-cell:/c%3A/Data/coding_projects/ovarian_cancer_models/running_classifier_oop.ipynb#X21sZmlsZQ%3D%3D?line=0'>1</a>\u001b[0m false_negatives \u001b[39m=\u001b[39m pd\u001b[39m.\u001b[39;49mconcat(np\u001b[39m.\u001b[39;49marray(X_test_mismatch)[:, \u001b[39m0\u001b[39;49m])\n\u001b[0;32m      <a href='vscode-notebook-cell:/c%3A/Data/coding_projects/ovarian_cancer_models/running_classifier_oop.ipynb#X21sZmlsZQ%3D%3D?line=1'>2</a>\u001b[0m false_negatives \u001b[39m=\u001b[39m false_negatives[false_negatives[\u001b[39m'\u001b[39m\u001b[39mcancer_in_next_1_years_prob\u001b[39m\u001b[39m'\u001b[39m] \u001b[39m<\u001b[39m \u001b[39m0.14151879\u001b[39m]\n\u001b[0;32m      <a href='vscode-notebook-cell:/c%3A/Data/coding_projects/ovarian_cancer_models/running_classifier_oop.ipynb#X21sZmlsZQ%3D%3D?line=2'>3</a>\u001b[0m print_df(false_negatives)\n",
      "File \u001b[1;32mc:\\Users\\fedor\\AppData\\Local\\Programs\\Python\\Python310\\lib\\site-packages\\pandas\\util\\_decorators.py:311\u001b[0m, in \u001b[0;36mdeprecate_nonkeyword_arguments.<locals>.decorate.<locals>.wrapper\u001b[1;34m(*args, **kwargs)\u001b[0m\n\u001b[0;32m    305\u001b[0m \u001b[39mif\u001b[39;00m \u001b[39mlen\u001b[39m(args) \u001b[39m>\u001b[39m num_allow_args:\n\u001b[0;32m    306\u001b[0m     warnings\u001b[39m.\u001b[39mwarn(\n\u001b[0;32m    307\u001b[0m         msg\u001b[39m.\u001b[39mformat(arguments\u001b[39m=\u001b[39marguments),\n\u001b[0;32m    308\u001b[0m         \u001b[39mFutureWarning\u001b[39;00m,\n\u001b[0;32m    309\u001b[0m         stacklevel\u001b[39m=\u001b[39mstacklevel,\n\u001b[0;32m    310\u001b[0m     )\n\u001b[1;32m--> 311\u001b[0m \u001b[39mreturn\u001b[39;00m func(\u001b[39m*\u001b[39margs, \u001b[39m*\u001b[39m\u001b[39m*\u001b[39mkwargs)\n",
      "File \u001b[1;32mc:\\Users\\fedor\\AppData\\Local\\Programs\\Python\\Python310\\lib\\site-packages\\pandas\\core\\reshape\\concat.py:347\u001b[0m, in \u001b[0;36mconcat\u001b[1;34m(objs, axis, join, ignore_index, keys, levels, names, verify_integrity, sort, copy)\u001b[0m\n\u001b[0;32m    143\u001b[0m \u001b[39m@deprecate_nonkeyword_arguments\u001b[39m(version\u001b[39m=\u001b[39m\u001b[39mNone\u001b[39;00m, allowed_args\u001b[39m=\u001b[39m[\u001b[39m\"\u001b[39m\u001b[39mobjs\u001b[39m\u001b[39m\"\u001b[39m])\n\u001b[0;32m    144\u001b[0m \u001b[39mdef\u001b[39;00m \u001b[39mconcat\u001b[39m(\n\u001b[0;32m    145\u001b[0m     objs: Iterable[NDFrame] \u001b[39m|\u001b[39m Mapping[Hashable, NDFrame],\n\u001b[1;32m   (...)\u001b[0m\n\u001b[0;32m    154\u001b[0m     copy: \u001b[39mbool\u001b[39m \u001b[39m=\u001b[39m \u001b[39mTrue\u001b[39;00m,\n\u001b[0;32m    155\u001b[0m ) \u001b[39m-\u001b[39m\u001b[39m>\u001b[39m DataFrame \u001b[39m|\u001b[39m Series:\n\u001b[0;32m    156\u001b[0m     \u001b[39m\"\"\"\u001b[39;00m\n\u001b[0;32m    157\u001b[0m \u001b[39m    Concatenate pandas objects along a particular axis with optional set logic\u001b[39;00m\n\u001b[0;32m    158\u001b[0m \u001b[39m    along the other axes.\u001b[39;00m\n\u001b[1;32m   (...)\u001b[0m\n\u001b[0;32m    345\u001b[0m \u001b[39m    ValueError: Indexes have overlapping values: ['a']\u001b[39;00m\n\u001b[0;32m    346\u001b[0m \u001b[39m    \"\"\"\u001b[39;00m\n\u001b[1;32m--> 347\u001b[0m     op \u001b[39m=\u001b[39m _Concatenator(\n\u001b[0;32m    348\u001b[0m         objs,\n\u001b[0;32m    349\u001b[0m         axis\u001b[39m=\u001b[39;49maxis,\n\u001b[0;32m    350\u001b[0m         ignore_index\u001b[39m=\u001b[39;49mignore_index,\n\u001b[0;32m    351\u001b[0m         join\u001b[39m=\u001b[39;49mjoin,\n\u001b[0;32m    352\u001b[0m         keys\u001b[39m=\u001b[39;49mkeys,\n\u001b[0;32m    353\u001b[0m         levels\u001b[39m=\u001b[39;49mlevels,\n\u001b[0;32m    354\u001b[0m         names\u001b[39m=\u001b[39;49mnames,\n\u001b[0;32m    355\u001b[0m         verify_integrity\u001b[39m=\u001b[39;49mverify_integrity,\n\u001b[0;32m    356\u001b[0m         copy\u001b[39m=\u001b[39;49mcopy,\n\u001b[0;32m    357\u001b[0m         sort\u001b[39m=\u001b[39;49msort,\n\u001b[0;32m    358\u001b[0m     )\n\u001b[0;32m    360\u001b[0m     \u001b[39mreturn\u001b[39;00m op\u001b[39m.\u001b[39mget_result()\n",
      "File \u001b[1;32mc:\\Users\\fedor\\AppData\\Local\\Programs\\Python\\Python310\\lib\\site-packages\\pandas\\core\\reshape\\concat.py:437\u001b[0m, in \u001b[0;36m_Concatenator.__init__\u001b[1;34m(self, objs, axis, join, keys, levels, names, ignore_index, verify_integrity, copy, sort)\u001b[0m\n\u001b[0;32m    432\u001b[0m     \u001b[39mif\u001b[39;00m \u001b[39mnot\u001b[39;00m \u001b[39misinstance\u001b[39m(obj, (ABCSeries, ABCDataFrame)):\n\u001b[0;32m    433\u001b[0m         msg \u001b[39m=\u001b[39m (\n\u001b[0;32m    434\u001b[0m             \u001b[39mf\u001b[39m\u001b[39m\"\u001b[39m\u001b[39mcannot concatenate object of type \u001b[39m\u001b[39m'\u001b[39m\u001b[39m{\u001b[39;00m\u001b[39mtype\u001b[39m(obj)\u001b[39m}\u001b[39;00m\u001b[39m'\u001b[39m\u001b[39m; \u001b[39m\u001b[39m\"\u001b[39m\n\u001b[0;32m    435\u001b[0m             \u001b[39m\"\u001b[39m\u001b[39monly Series and DataFrame objs are valid\u001b[39m\u001b[39m\"\u001b[39m\n\u001b[0;32m    436\u001b[0m         )\n\u001b[1;32m--> 437\u001b[0m         \u001b[39mraise\u001b[39;00m \u001b[39mTypeError\u001b[39;00m(msg)\n\u001b[0;32m    439\u001b[0m     ndims\u001b[39m.\u001b[39madd(obj\u001b[39m.\u001b[39mndim)\n\u001b[0;32m    441\u001b[0m \u001b[39m# get the sample\u001b[39;00m\n\u001b[0;32m    442\u001b[0m \u001b[39m# want the highest ndim that we have, and must be non-empty\u001b[39;00m\n\u001b[0;32m    443\u001b[0m \u001b[39m# unless all objs are empty\u001b[39;00m\n",
      "\u001b[1;31mTypeError\u001b[0m: cannot concatenate object of type '<class 'numpy.float64'>'; only Series and DataFrame objs are valid"
     ]
    }
   ],
   "source": [
    "false_negatives = pd.concat(np.array(X_test_mismatch)[:, 0])\n",
    "false_negatives = false_negatives[false_negatives['cancer_in_next_1_years_prob'] < 0.14151879]\n",
    "print_df(false_negatives)"
   ]
  },
  {
   "cell_type": "code",
   "execution_count": null,
   "metadata": {
    "pycharm": {
     "name": "#%%\n"
    }
   },
   "outputs": [
    {
     "data": {
      "text/plain": [
       "13"
      ]
     },
     "execution_count": 13,
     "metadata": {},
     "output_type": "execute_result"
    }
   ],
   "source": [
    "len(false_negatives)"
   ]
  },
  {
   "cell_type": "code",
   "execution_count": null,
   "metadata": {
    "pycharm": {
     "name": "#%%\n"
    }
   },
   "outputs": [
    {
     "name": "stdout",
     "output_type": "stream",
     "text": [
      "+--------+-------+------------+-------------+-------+---------+-------+------------+-----------+-----------+-----------------+----------+-----------+----------+-----------+------------+------------+----------+-------------+-----------------+-----------------+--------------+------------+----------------+-----------------+----------+------------+------------+-------------+---------+-----------+---------------------+-----------+---------+---------+----------+----------+--------------+--------------+--------+--------+----------+------------+-----------------+-----------+-------------+--------------+-----------+--------------+------------+------------+--------------+----------+-------------+--------------+------------+-----------+--------+----------+-----------------------+-------------+-------------+---------+---------------------+-----------+-----------+-----------+-----------+-----------+----------+----------+-----------------+-----------+---------+-----------+---------------------+----------+-----------+------------+------------+-----------+--------------+--------------+---------------+-------------------+-------------------+--------------+---------------+---------------+--------------------+-------------+--------------+--------------+---------------+----------------+----------------+----------------+-----------------+-----------------+------------------+-------------------+-------------------+----------------+-----------------+-----------------+--------------+---------------+---------------+--------------+---------------+---------------+--------------+--------------------+------------------+-------------+--------------+--------------+--------------+--------------+----------------+--------------+---------------+-----------------+-----------+--------+------------+-------------------+----------+---------+---------+---------+-------------+-------------+-----------+-----------+-------------+-----------+-----------+----------+----------+-----------+-----------+------------+------------+----------+----------+------------+---------+-----------+---------+------------+-----------+--------------+------------------+---------------+-----------+-----------+--------+--------+---------+--------------+--------------+------------+--------------------------+-------------------------------+-------------------------------+------------+\n",
      "|        |   age |   agelevel |   arthrit_f |   asp |   asppd |   bbd |   bcontr_f |   bcontra |   bcontrt |   benign_ovcyst |   bmi_20 |   bmi_20c |   bmi_50 |   bmi_50c |   bmi_curc |   bmi_curr |   bq_age |   breast_fh |   breast_fh_age |   breast_fh_cnt |   bronchit_f |   brothers |   ca125_result |   ca125ii_level |   center |   cig_stat |   cig_stop |   cig_years |   cigar |   cigpd_f |   colon_comorbidity |   curhorm |    cyst |   cystw |   detl_p |   detr_p |   diabetes_f |   divertic_f |   dual |   echo |   educat |   emphys_f |   endometriosis |   fchilda |   fh_cancer |   filtered_f |   fmenstr |   gallblad_f |   hearta_f |   height_f |   hispanic_f |   horm_f |   horm_stat |   hyperten_f |   hyster_f |   hystera |   ibup |   ibuppd |   in_TGWAS_population |   lantero_p |   lantero_q |   livec |   liver_comorbidity |   llong_p |   llong_q |   lmenstr |   ltran_p |   ltran_q |   lvol_p |   lvol_q |   mammo_history |   marital |   maxdi |   menstrs |   menstrs_stat_type |   miscar |   numcyst |   numcystl |   numcystr |   occupat |   osteopor_f |   ovariesr_f |   ovarsumm_fh |   ovarsumm_fh_age |   ovarsumm_fh_cnt |   ovary_diam |   ovary_diaml |   ovary_diamr |   ovary_trial_flag |   ovary_vol |   ovary_voll |   ovary_volr |   ovcyst_diam |   ovcyst_diaml |   ovcyst_diamr |   ovcyst_morph |   ovcyst_morphl |   ovcyst_morphr |   ovcyst_outline |   ovcyst_outlinel |   ovcyst_outliner |   ovcyst_solid |   ovcyst_solidl |   ovcyst_solidr |   ovcyst_sum |   ovcyst_suml |   ovcyst_sumr |   ovcyst_vol |   ovcyst_voll |   ovcyst_volr |   pack_years |   papsmear_history |   pelvic_history |   ph_any_bq |   ph_any_dhq |   ph_any_dqx |   ph_any_muq |   ph_any_sqx |   ph_any_trial |   ph_ovar_bq |   ph_ovar_dqx |   ph_ovar_trial |   phycons |   pipe |   polyps_f |   post_menopausal |   preg_f |   prega |   pregc |   race7 |   rantero_p |   rantero_q |   rlong_p |   rlong_q |   rsmoker_f |   rtran_p |   rtran_q |   rvol_p |   rvol_q |     sepst |   sisters |   smokea_f |   smoked_f |    solid |   stillb |   stroke_f |   thorm |   trypreg |   tubal |   tuballig |   tvu_ref |   tvu_result |   usound_history |   uterine_fib |   visboth |   viseith |   visl |   visr |   volum |   weight20_f |   weight50_f |   weight_f |   cancer_in_next_1_years |   cancer_in_next_1_years_pred |   cancer_in_next_1_years_prob |   distance |\n",
      "|--------+-------+------------+-------------+-------+---------+-------+------------+-----------+-----------+-----------------+----------+-----------+----------+-----------+------------+------------+----------+-------------+-----------------+-----------------+--------------+------------+----------------+-----------------+----------+------------+------------+-------------+---------+-----------+---------------------+-----------+---------+---------+----------+----------+--------------+--------------+--------+--------+----------+------------+-----------------+-----------+-------------+--------------+-----------+--------------+------------+------------+--------------+----------+-------------+--------------+------------+-----------+--------+----------+-----------------------+-------------+-------------+---------+---------------------+-----------+-----------+-----------+-----------+-----------+----------+----------+-----------------+-----------+---------+-----------+---------------------+----------+-----------+------------+------------+-----------+--------------+--------------+---------------+-------------------+-------------------+--------------+---------------+---------------+--------------------+-------------+--------------+--------------+---------------+----------------+----------------+----------------+-----------------+-----------------+------------------+-------------------+-------------------+----------------+-----------------+-----------------+--------------+---------------+---------------+--------------+---------------+---------------+--------------+--------------------+------------------+-------------+--------------+--------------+--------------+--------------+----------------+--------------+---------------+-----------------+-----------+--------+------------+-------------------+----------+---------+---------+---------+-------------+-------------+-----------+-----------+-------------+-----------+-----------+----------+----------+-----------+-----------+------------+------------+----------+----------+------------+---------+-----------+---------+------------+-----------+--------------+------------------+---------------+-----------+-----------+--------+--------+---------+--------------+--------------+------------+--------------------------+-------------------------------+-------------------------------+------------|\n",
      "| 596453 |    65 |          0 |           0 |     0 |       0 |     1 |          1 |         1 |         4 |               0 |  18.25   |         1 |  22.0469 |         2 |          3 |    25.0781 |       55 |    0        |         58.1875 |        0        |            0 |          0 |              1 |         12.2422 |        5 |          2 |    29      |           8 |       0 |         2 |                   0 |         1 | 1.09375 |  1.0127 |        0 |        1 |            1 |            0 |      0 | 1.4043 |        6 |          0 |               0 |         5 |           1 |      1       |         3 |            0 |          0 |         68 |            0 |        1 |           1 |            1 |          0 |    2.0293 |      0 |        0 |                     1 |     12.0703 |     12.3281 |       1 |                   0 |        16 |   16.5781 |         3 |   13.1797 |   13.3047 |  2.18359 |  2.11133 |               2 |         1 | 1.65137 |         4 |                   5 |        0 |         0 |          0 |          0 |         1 |            0 |            0 |      0        |           57.3125 |         0         |      1.5     |       1.70801 |       1.5     |                  1 |     1.09961 |      2.18555 |      1.09961 |       1.5     |              0 |              1 |              0 |               0 |               0 |                0 |                 0 |                 0 |              0 |               0 |               0 |            0 |             0 |             0 |            1 |             0 |             1 |          8   |                  2 |                2 |           0 |            0 |    0         |     0.247559 |     0        |              0 |            0 |   0           |               0 |         1 |      0 |          0 |                 1 |        1 |       4 |       1 |       1 |     12      |     12.5391 |   15      |   16.7969 |    0        |   12      |   13.6641 |  1.09961 |  2.30859 | 0.0777588 |         2 |    18      |          1 | 0.173462 |        0 |          0 |       2 |         0 |       0 |          1 |         4 |            9 |                0 |             0 |         0 |         0 |      0 |      0 | 10.6797 |          120 |          145 |        165 |                        1 |                             0 |                      0.469681 |    0       |\n",
      "| 222086 |    60 |          0 |           0 |     1 |       1 |     1 |          1 |         2 |         5 |               0 |  20.1719 |         2 |  25.8281 |         3 |          3 |    28.25   |       59 |    0.237427 |         58.1875 |        0.157715 |            0 |          2 |              1 |         19      |        5 |          2 |    35      |           5 |       0 |         1 |                   0 |         1 | 1.09375 |  1.0127 |        0 |        0 |            0 |            0 |      0 | 1.4043 |        3 |          0 |               0 |         3 |           1 |      1       |         3 |            0 |          0 |         66 |            0 |        1 |           1 |            1 |          0 |    2.0293 |      0 |        0 |                     1 |     12.0703 |     12.3281 |       2 |                   0 |        16 |   16.5781 |         5 |   13.1797 |   13.3047 |  2.18359 |  2.11133 |               2 |         1 | 1.65137 |         4 |                   5 |        0 |         0 |          0 |          0 |         1 |            0 |            0 |      0.142334 |           57.3125 |         0.0405273 |      1.83398 |       1.70801 |       1.73047 |                  1 |     2.85547 |      2.18555 |      2.25781 |       1.86719 |              0 |              0 |              0 |               0 |               0 |                0 |                 0 |                 0 |              0 |               0 |               0 |            0 |             0 |             0 |            0 |             0 |             0 |          2.5 |                  2 |                2 |           0 |            0 |    0         |     0        |     0        |              0 |            0 |   0           |               0 |         1 |      0 |          0 |                 1 |        1 |       3 |       2 |       1 |     12.2344 |     12.5391 |   16.1719 |   16.7969 |    0        |   13.3984 |   13.6641 |  2.25586 |  2.30859 | 0.0777588 |         0 |    19      |          1 | 0.173462 |        0 |          0 |       4 |         0 |       0 |          0 |         3 |            3 |                0 |             0 |         0 |         0 |      0 |      0 | 10.6797 |          125 |          160 |        175 |                        0 |                            -1 |                     -1        |    8.5607  |\n",
      "| 518802 |    60 |          0 |           0 |     1 |       4 |     0 |          1 |         1 |         3 |               0 |  19      |         2 |  22.0469 |         2 |          2 |    23.5625 |       58 |    0        |         58.1875 |        0        |            0 |          0 |              1 |         15      |        1 |          2 |    28      |           9 |       0 |         1 |                   0 |         1 | 1.09375 |  1.0127 |        0 |        1 |            0 |            0 |      0 | 1.4043 |        6 |          0 |               0 |         4 |           1 |      1       |         4 |            0 |          0 |         68 |            0 |        1 |           1 |            0 |          0 |    2.0293 |      0 |        0 |                     1 |     12.0703 |     12.3281 |       2 |                   0 |        16 |   16.5781 |         4 |   13.1797 |   13.3047 |  2.18359 |  2.11133 |               2 |         1 | 1.65137 |         4 |                   5 |        0 |         0 |          0 |          0 |         2 |            0 |            0 |      0        |           57.3125 |         0         |      1.59961 |       1.70801 |       1.59961 |                  1 |     1.2002  |      2.18555 |      1.2002  |       1.59961 |              0 |              1 |              0 |               0 |               0 |                0 |                 0 |                 0 |              0 |               0 |               0 |            0 |             0 |             0 |            1 |             0 |             1 |          4.5 |                  2 |                2 |           0 |            0 |    0.0752563 |     0        |     0        |              0 |            0 |   2.90275e-05 |               0 |         1 |      0 |          0 |                 1 |        1 |       4 |       2 |       1 |     10      |     10      |   14      |   14      |    0        |   16      |   16      |  1.2002  |  1.2002  | 0.0777588 |         2 |    21      |          1 | 0.173462 |        0 |          0 |       4 |         0 |       0 |          0 |         4 |            9 |                1 |             0 |         0 |         0 |      0 |      0 | 10.6797 |          125 |          145 |        155 |                        0 |                            -1 |                     -1        |    8.57646 |\n",
      "| 222085 |    55 |          0 |           0 |     1 |       1 |     1 |          1 |         2 |         5 |               0 |  20.1719 |         2 |  25.8281 |         3 |          3 |    28.25   |       59 |    0.237427 |         58.1875 |        0.157715 |            0 |          2 |              1 |         19      |        5 |          2 |    35      |           5 |       0 |         1 |                   0 |         1 | 1.09375 |  1.0127 |        0 |        0 |            0 |            0 |      0 | 1.4043 |        3 |          0 |               0 |         3 |           1 |      1       |         3 |            0 |          0 |         66 |            0 |        1 |           1 |            1 |          0 |    2.0293 |      0 |        0 |                     1 |     12.0703 |     12.3281 |       2 |                   0 |        16 |   16.5781 |         5 |   13.1797 |   13.3047 |  2.18359 |  2.11133 |               2 |         1 | 1.65137 |         4 |                   5 |        0 |         0 |          0 |          0 |         1 |            0 |            0 |      0.142334 |           57.3125 |         0.0405273 |      1.83398 |       1.70801 |       1.73047 |                  1 |     2.85547 |      2.18555 |      2.25781 |       1.86719 |              0 |              0 |              0 |               0 |               0 |                0 |                 0 |                 0 |              0 |               0 |               0 |            0 |             0 |             0 |            0 |             0 |             0 |          2.5 |                  2 |                2 |           0 |            0 |    0         |     0        |     0        |              0 |            0 |   0           |               0 |         1 |      0 |          0 |                 1 |        1 |       3 |       2 |       1 |     12.2344 |     12.5391 |   16.1719 |   16.7969 |    0        |   13.3984 |   13.6641 |  2.25586 |  2.30859 | 0.0777588 |         0 |    19      |          1 | 0.173462 |        0 |          0 |       4 |         0 |       0 |          0 |         3 |            3 |                0 |             0 |         0 |         0 |      0 |      0 | 10.6797 |          125 |          160 |        175 |                        0 |                            -1 |                     -1        |    8.59718 |\n",
      "| 536995 |    55 |          0 |           0 |     0 |       0 |     0 |          1 |         1 |         2 |               0 |  17.75   |         1 |  21.7812 |         2 |          2 |    24.2031 |       58 |    0        |         58.1875 |        0        |            0 |          1 |              1 |         16      |        1 |          0 |    15.5859 |           0 |       0 |         0 |                   0 |         1 | 1.09375 |  1.0127 |        0 |        0 |            0 |            0 |      0 | 1.4043 |        6 |          0 |               0 |         4 |           0 |      1.17188 |         4 |            0 |          0 |         66 |            0 |        1 |           1 |            0 |          0 |    2.0293 |      0 |        0 |                     1 |     12.0703 |     12.3281 |       2 |                   0 |        16 |   16.5781 |         5 |   13.1797 |   13.3047 |  2.18359 |  2.11133 |               1 |         2 | 1.65137 |         4 |                   5 |        0 |         0 |          0 |          0 |         4 |            0 |            0 |      0        |           57.3125 |         0         |      1.59961 |       1.70801 |       1.59961 |                  1 |     1       |      2.18555 |      1       |       1.59961 |              0 |              1 |              0 |               0 |               0 |                0 |                 0 |                 0 |              0 |               0 |               0 |            0 |             0 |             0 |            1 |             0 |             1 |          0   |                  2 |                2 |           0 |            0 |    0         |     0        |     0        |              0 |            0 |   0           |               0 |         1 |      0 |          0 |                 1 |        1 |       4 |       2 |       1 |      8      |     12.5391 |   15      |   16.7969 |    0.209961 |   16      |   13.6641 |  1       |  2.30859 | 0.0777588 |         2 |    19.6406 |          0 | 0.173462 |        0 |          0 |       1 |         0 |       0 |          1 |         4 |            1 |                0 |             0 |         0 |         0 |      0 |      0 | 10.6797 |          110 |          135 |        150 |                        0 |                            -1 |                     -1        |    8.86641 |\n",
      "| 192878 |    55 |          0 |           0 |     0 |       0 |     0 |          1 |         1 |         3 |               0 |  20.9844 |         2 |  25.8281 |         3 |          3 |    26.625  |       55 |    0        |         58.1875 |        0        |            0 |          3 |              1 |         12.2422 |        9 |          0 |    15.5859 |           0 |       0 |         0 |                   0 |         1 | 1.09375 |  1.0127 |        0 |        1 |            0 |            0 |      0 | 1.4043 |        7 |          0 |               0 |         4 |           1 |      1.17188 |         3 |            0 |          0 |         66 |            0 |        1 |           1 |            1 |          0 |    2.0293 |      0 |        0 |                     1 |     12.0703 |     12.3281 |       5 |                   0 |        16 |   16.5781 |         4 |   13.1797 |   13.3047 |  2.18359 |  2.11133 |               2 |         1 | 1.65137 |         4 |                   5 |        0 |         0 |          0 |          0 |         2 |            0 |            0 |      0        |           57.3125 |         0         |      2.19922 |       1.70801 |       2.19922 |                  1 |     2       |      2.18555 |      2       |       2.19922 |              0 |              2 |              0 |               0 |               0 |                0 |                 0 |                 0 |              0 |               0 |               0 |            0 |             0 |             0 |            2 |             0 |             2 |          0   |                  2 |                2 |           0 |            0 |    0         |     0.247559 |     0.203857 |              0 |            0 |   0           |               0 |         1 |      0 |          0 |                 1 |        1 |       4 |       4 |       1 |     16      |     12.5391 |   22      |   16.7969 |    0.209961 |   11      |   13.6641 |  2       |  2.30859 | 0.0777588 |         2 |    19.6406 |          0 | 0.173462 |        0 |          0 |       3 |         0 |       0 |          0 |         4 |            9 |                0 |             0 |         0 |         0 |      0 |      0 | 10.6797 |          130 |          160 |        165 |                        0 |                            -1 |                     -1        |    8.98282 |\n",
      "+--------+-------+------------+-------------+-------+---------+-------+------------+-----------+-----------+-----------------+----------+-----------+----------+-----------+------------+------------+----------+-------------+-----------------+-----------------+--------------+------------+----------------+-----------------+----------+------------+------------+-------------+---------+-----------+---------------------+-----------+---------+---------+----------+----------+--------------+--------------+--------+--------+----------+------------+-----------------+-----------+-------------+--------------+-----------+--------------+------------+------------+--------------+----------+-------------+--------------+------------+-----------+--------+----------+-----------------------+-------------+-------------+---------+---------------------+-----------+-----------+-----------+-----------+-----------+----------+----------+-----------------+-----------+---------+-----------+---------------------+----------+-----------+------------+------------+-----------+--------------+--------------+---------------+-------------------+-------------------+--------------+---------------+---------------+--------------------+-------------+--------------+--------------+---------------+----------------+----------------+----------------+-----------------+-----------------+------------------+-------------------+-------------------+----------------+-----------------+-----------------+--------------+---------------+---------------+--------------+---------------+---------------+--------------+--------------------+------------------+-------------+--------------+--------------+--------------+--------------+----------------+--------------+---------------+-----------------+-----------+--------+------------+-------------------+----------+---------+---------+---------+-------------+-------------+-----------+-----------+-------------+-----------+-----------+----------+----------+-----------+-----------+------------+------------+----------+----------+------------+---------+-----------+---------+------------+-----------+--------------+------------------+---------------+-----------+-----------+--------+--------+---------+--------------+--------------+------------+--------------------------+-------------------------------+-------------------------------+------------+\n"
     ]
    }
   ],
   "source": [
    "print_df(pd.concat(X_test_mismatch[1][:2]))"
   ]
  },
  {
   "cell_type": "code",
   "execution_count": null,
   "metadata": {
    "pycharm": {
     "name": "#%%\n"
    }
   },
   "outputs": [
    {
     "name": "stdout",
     "output_type": "stream",
     "text": [
      "+--------+-------+-----------+----------+------------+------------+-------------+-----------+--------------+-----------+---------+-----------+--------------+---------------+-------------+--------------+---------------+--------------+---------+-------------+-----------+----------+------------+---------+--------------+--------------------------+-------------------------------+-------------------------------+------------+\n",
      "|        |   age |   bcontrt |   bmi_20 |   bmi_curr |   cig_stop |   cig_years |   cigpd_f |   diabetes_f |   fchilda |   livec |   lmenstr |   ovary_diam |   ovary_diamr |   ovary_vol |   ovary_volr |   ovcyst_diam |   pack_years |   pregc |   rantero_p |   rtran_p |   rvol_p |   smokea_f |   thorm |   weight20_f |   cancer_in_next_1_years |   cancer_in_next_1_years_pred |   cancer_in_next_1_years_prob |   distance |\n",
      "|--------+-------+-----------+----------+------------+------------+-------------+-----------+--------------+-----------+---------+-----------+--------------+---------------+-------------+--------------+---------------+--------------+---------+-------------+-----------+----------+------------+---------+--------------+--------------------------+-------------------------------+-------------------------------+------------|\n",
      "| 596453 |    65 |         4 |  18.25   |    25.0781 |    29      |           8 |         2 |            1 |         5 |       1 |         3 |      1.5     |       1.5     |     1.09961 |      1.09961 |       1.5     |          8   |       1 |     12      |   12      |  1.09961 |    18      |       2 |          120 |                        1 |                             0 |                      0.469681 |    0       |\n",
      "| 222086 |    60 |         5 |  20.1719 |    28.25   |    35      |           5 |         1 |            0 |         3 |       2 |         5 |      1.83398 |       1.73047 |     2.85547 |      2.25781 |       1.86719 |          2.5 |       2 |     12.2344 |   13.3984 |  2.25586 |    19      |       4 |          125 |                        0 |                            -1 |                     -1        |    8.5607  |\n",
      "| 518802 |    60 |         3 |  19      |    23.5625 |    28      |           9 |         1 |            0 |         4 |       2 |         4 |      1.59961 |       1.59961 |     1.2002  |      1.2002  |       1.59961 |          4.5 |       2 |     10      |   16      |  1.2002  |    21      |       4 |          125 |                        0 |                            -1 |                     -1        |    8.57646 |\n",
      "| 222085 |    55 |         5 |  20.1719 |    28.25   |    35      |           5 |         1 |            0 |         3 |       2 |         5 |      1.83398 |       1.73047 |     2.85547 |      2.25781 |       1.86719 |          2.5 |       2 |     12.2344 |   13.3984 |  2.25586 |    19      |       4 |          125 |                        0 |                            -1 |                     -1        |    8.59718 |\n",
      "| 536995 |    55 |         2 |  17.75   |    24.2031 |    15.5859 |           0 |         0 |            0 |         4 |       2 |         5 |      1.59961 |       1.59961 |     1       |      1       |       1.59961 |          0   |       2 |      8      |   16      |  1       |    19.6406 |       1 |          110 |                        0 |                            -1 |                     -1        |    8.86641 |\n",
      "| 192878 |    55 |         3 |  20.9844 |    26.625  |    15.5859 |           0 |         0 |            0 |         4 |       5 |         4 |      2.19922 |       2.19922 |     2       |      2       |       2.19922 |          0   |       4 |     16      |   11      |  2       |    19.6406 |       3 |          130 |                        0 |                            -1 |                     -1        |    8.98282 |\n",
      "+--------+-------+-----------+----------+------------+------------+-------------+-----------+--------------+-----------+---------+-----------+--------------+---------------+-------------+--------------+---------------+--------------+---------+-------------+-----------+----------+------------+---------+--------------+--------------------------+-------------------------------+-------------------------------+------------+\n"
     ]
    }
   ],
   "source": [
    "# drop col if the feature value of patient that was misclassified does not appear in the list of feature values of patients that were classified\n",
    "df = pd.concat(X_test_mismatch[1][:2])\n",
    "for col in df.columns:\n",
    "    if df[col].iloc[0] in df[col].iloc[list(range(1, 6))].to_list():\n",
    "        df.drop(col,inplace=True,axis=1)\n",
    "print_df(df)\n",
    "summary = summarize_features(df)"
   ]
  },
  {
   "cell_type": "code",
   "execution_count": null,
   "metadata": {
    "pycharm": {
     "name": "#%%\n"
    }
   },
   "outputs": [
    {
     "name": "stdout",
     "output_type": "stream",
     "text": [
      "+--------+---------+-----------+-----------+----------+----------+------------+----------+------------+-----------------+----------+------------+------------+-------------+-----------+----------+------------+----------+-------------+---------+-----------+-----------+-----------+----------+-----------------+-----------+--------------+---------------+---------------+-------------+--------------+--------------+---------------+--------------+---------------+--------------+---------+-------------+-----------+-------------+-----------+----------+-----------+------------+-----------+--------------+--------------+------------+------------+\n",
      "|        |   asppd |   bcontra |   bcontrt |   bmi_20 |   bmi_50 |   bmi_curr |   bq_age |   brothers |   ca125ii_level |   center |   cig_stat |   cig_stop |   cig_years |   cigpd_f |   educat |   height_f |   ibuppd |   lantero_p |   livec |   llong_p |   lmenstr |   ltran_p |   lvol_p |   mammo_history |   marital |   ovary_diam |   ovary_diaml |   ovary_diamr |   ovary_vol |   ovary_voll |   ovary_volr |   ovcyst_diam |   ovcyst_vol |   ovcyst_volr |   pack_years |   pregc |   rantero_p |   rlong_p |   rsmoker_f |   rtran_p |   rvol_p |   sisters |   smokea_f |   tvu_ref |   weight20_f |   weight50_f |   weight_f |   distance |\n",
      "|--------+---------+-----------+-----------+----------+----------+------------+----------+------------+-----------------+----------+------------+------------+-------------+-----------+----------+------------+----------+-------------+---------+-----------+-----------+-----------+----------+-----------------+-----------+--------------+---------------+---------------+-------------+--------------+--------------+---------------+--------------+---------------+--------------+---------+-------------+-----------+-------------+-----------+----------+-----------+------------+-----------+--------------+--------------+------------+------------|\n",
      "| 602086 |       5 |   1       |         5 |  32      |  40.2188 |    43.9062 |       56 |          1 |               9 |       10 |          2 |     8      |          31 |         5 |        3 |         62 |        0 |           8 |       4 |        14 |         4 |        12 | 0.700195 |               0 |         1 |      2.80078 |       1.40039 |       2.80078 |     2.90039 |     0.700195 |     2.90039  |       2.80078 |            2 |             2 |         93   |       3 |          13 |        28 |    0        |        15 | 2.90039  |         4 |    17      |         3 |          175 |          220 |        240 |     0      |\n",
      "| 517021 |       0 |   2       |         2 |  26.625  |  45.75   |    44.9375 |       59 |          2 |               4 |       10 |          2 |    14      |          27 |         2 |        4 |         65 |        2 |          11 |       5 |        18 |         5 |        11 | 1.09961  |               0 |         1 |      1.7998  |       1.7998  |       1.59961 |     1.2998  |     1.09961  |     1.2998   |       1.7998  |            1 |             1 |         27   |       4 |          16 |        14 |    0        |        11 | 1.2998   |         2 |    18      |         4 |          160 |          275 |        270 |    13.1623 |\n",
      "|  64283 |       0 |   1.47559 |         0 |  26.625  |  34.4375 |    35.25   |       57 |          1 |               9 |        8 |          2 |    28      |          13 |         1 |        2 |         67 |        2 |           8 |       3 |        14 |         5 |        13 | 0.799805 |               2 |         2 |      2.69922 |       1.40039 |       2.69922 |     3.09961 |     0.799805 |     3.09961  |       2.69922 |            3 |             3 |          6.5 |       3 |          18 |        27 |    0        |        12 | 3.09961  |         1 |    16      |         3 |          170 |          220 |        225 |    13.8519 |\n",
      "| 569225 |       0 |   2       |         3 |  30.1719 |  32.9062 |    29.2656 |       63 |          0 |              10 |        9 |          1 |     0      |          46 |         3 |        5 |         62 |        0 |           8 |       3 |        14 |         3 |        11 | 0.600098 |               1 |         3 |      2.69922 |       1.40039 |       2.69922 |     4.89844 |     0.600098 |     4.89844  |       2.69922 |            4 |             4 |         69   |       3 |          23 |        27 |    1        |        15 | 4.89844  |         1 |    17      |         4 |          165 |          180 |        160 |    13.8747 |\n",
      "| 149387 |       1 |   1.47559 |         0 |  30.1094 |  42.5    |    42.5    |       60 |          1 |              10 |       10 |          2 |    18      |          24 |         2 |        3 |         63 |        0 |          12 |       5 |        17 |         4 |         9 | 1        |               2 |         1 |      2.09961 |       1.7002  |       2.09961 |     1.59961 |     1        |     1.59961  |       2.09961 |            1 |             1 |         24   |       4 |          12 |        21 |    0        |        12 | 1.59961  |         4 |    18      |         4 |          170 |          240 |        240 |    13.9484 |\n",
      "|  57436 |       2 |   1.47559 |         0 |  30.1719 |  38.4062 |    37.5    |       60 |          5 |               6 |       10 |          0 |    15.5859 |           0 |         0 |        3 |         62 |        5 |          11 |       5 |        16 |         5 |        13 | 1.2002   |               0 |         1 |      1.59961 |       1.59961 |       1.2998  |     1.2002  |     1.2002   |     0.799805 |       1.59961 |            1 |             0 |          0   |       5 |          11 |        13 |    0.209961 |        11 | 0.799805 |         3 |    19.6406 |         2 |          165 |          210 |        205 |    14.1203 |\n",
      "+--------+---------+-----------+-----------+----------+----------+------------+----------+------------+-----------------+----------+------------+------------+-------------+-----------+----------+------------+----------+-------------+---------+-----------+-----------+-----------+----------+-----------------+-----------+--------------+---------------+---------------+-------------+--------------+--------------+---------------+--------------+---------------+--------------+---------+-------------+-----------+-------------+-----------+----------+-----------+------------+-----------+--------------+--------------+------------+------------+\n",
      "+---------------+----------------+---------+------------+-----------+------------+------------+------------+------------+-----------+\n",
      "|               |   unique count |   count |       mean |       std |        min |        25% |        50% |        75% |       max |\n",
      "|---------------+----------------+---------+------------+-----------+------------+------------+------------+------------+-----------|\n",
      "| asppd         |              4 |       6 |   1.33301  |  1.9668   |   0        |   0        |   0.5      |   1.75     |   5       |\n",
      "| bcontra       |              3 |       6 |   1.57129  |  0.379883 |   1        |   1.47559  |   1.47559  |   1.8689   |   2       |\n",
      "| bcontrt       |              4 |       6 |   1.66699  |  2.06445  |   0        |   0        |   1        |   2.75     |   5       |\n",
      "| bmi_20        |              4 |       6 |  29.2969   |  2.17969  |  26.625    |  27.4961   |  30.1406   |  30.1719   |  32       |\n",
      "| bmi_50        |              6 |       6 |  39.0312   |  4.84766  |  32.9062   |  35.4297   |  39.3125   |  41.9297   |  45.75    |\n",
      "| bmi_curr      |              6 |       6 |  38.9062   |  6.04297  |  29.2656   |  35.8125   |  40        |  43.5547   |  44.9375  |\n",
      "| bq_age        |              5 |       6 |  59.1562   |  2.48438  |  56        |  57.5      |  59.5      |  60        |  63       |\n",
      "| brothers      |              4 |       6 |   1.66699  |  1.75098  |   0        |   1        |   1        |   1.75     |   5       |\n",
      "| ca125ii_level |              4 |       6 |   8        |  2.44922  |   4        |   6.75     |   9        |   9.75     |  10       |\n",
      "| center        |              3 |       6 |   9.5      |  0.836914 |   8        |   9.25     |  10        |  10        |  10       |\n",
      "| cig_stat      |              3 |       6 |   1.5      |  0.836914 |   0        |   1.25     |   2        |   2        |   2       |\n",
      "| cig_stop      |              6 |       6 |  13.9297   |  9.45312  |   0        |   9.5      |  14.793    |  17.3965   |  28       |\n",
      "| cig_years     |              6 |       6 |  23.5      | 15.7344   |   0        |  15.75     |  25.5      |  30        |  46       |\n",
      "| cigpd_f       |              5 |       6 |   2.16602  |  1.72266  |   0        |   1.25     |   2        |   2.75     |   5       |\n",
      "| educat        |              4 |       6 |   3.33398  |  1.03223  |   2        |   3        |   3        |   3.75     |   5       |\n",
      "| height_f      |              4 |       6 |  63.5      |  2.07422  |  62        |  62        |  62.5      |  64.5      |  67       |\n",
      "| ibuppd        |              3 |       6 |   1.5      |  1.97461  |   0        |   0        |   1        |   2        |   5       |\n",
      "| lantero_p     |              3 |       6 |   9.66406  |  1.8623   |   8        |   8        |   9.5      |  11        |  12       |\n",
      "| livec         |              3 |       6 |   4.16797  |  0.983398 |   3        |   3.25     |   4.5      |   5        |   5       |\n",
      "| llong_p       |              4 |       6 |  15.5      |  1.76074  |  14        |  14        |  15        |  16.75     |  18       |\n",
      "| lmenstr       |              3 |       6 |   4.33203  |  0.816895 |   3        |   4        |   4.5      |   5        |   5       |\n",
      "| ltran_p       |              4 |       6 |  11.5      |  1.5166   |   9        |  11        |  11.5      |  12.75     |  13       |\n",
      "| lvol_p        |              6 |       6 |   0.899902 |  0.236572 |   0.600098 |   0.725098 |   0.899902 |   1.07471  |   1.2002  |\n",
      "| mammo_history |              3 |       6 |   0.833496 |  0.98291  |   0        |   0        |   0.5      |   1.75     |   2       |\n",
      "| marital       |              3 |       6 |   1.5      |  0.836914 |   1        |   1        |   1        |   1.75     |   3       |\n",
      "| ovary_diam    |              5 |       6 |   2.2832   |  0.519531 |   1.59961  |   1.87476  |   2.39941  |   2.69922  |   2.80078 |\n",
      "| ovary_diaml   |              4 |       6 |   1.5498   |  0.175781 |   1.40039  |   1.40039  |   1.5      |   1.67505  |   1.7998  |\n",
      "| ovary_diamr   |              5 |       6 |   2.19922  |  0.638672 |   1.2998   |   1.72461  |   2.39941  |   2.69922  |   2.80078 |\n",
      "| ovary_vol     |              6 |       6 |   2.5      |  1.42969  |   1.2002   |   1.37476  |   2.25     |   3.0498   |   4.89844 |\n",
      "| ovary_voll    |              6 |       6 |   0.899902 |  0.236572 |   0.600098 |   0.725098 |   0.899902 |   1.07471  |   1.2002  |\n",
      "| ovary_volr    |              6 |       6 |   2.43164  |  1.50879  |   0.799805 |   1.37476  |   2.25     |   3.0498   |   4.89844 |\n",
      "| ovcyst_diam   |              5 |       6 |   2.2832   |  0.519531 |   1.59961  |   1.87476  |   2.39941  |   2.69922  |   2.80078 |\n",
      "| ovcyst_vol    |              4 |       6 |   2        |  1.26491  |   1        |   1        |   1.5      |   2.75     |   4       |\n",
      "| ovcyst_volr   |              5 |       6 |   1.83333  |  1.47196  |   0        |   1        |   1.5      |   2.75     |   4       |\n",
      "| pack_years    |              6 |       6 |  36.5938   | 36.6875   |   0        |  10.875    |  25.5      |  58.5      |  93       |\n",
      "| pregc         |              3 |       6 |   3.66602  |  0.816406 |   3        |   3        |   3.5      |   4        |   5       |\n",
      "| rantero_p     |              6 |       6 |  15.5      |  4.50391  |  11        |  12.25     |  14.5      |  17.5      |  23       |\n",
      "| rlong_p       |              5 |       6 |  21.6719   |  6.80078  |  13        |  15.75     |  24        |  27        |  28       |\n",
      "| rsmoker_f     |              3 |       6 |   0.20166  |  0.400146 |   0        |   0        |   0        |   0.157471 |   1       |\n",
      "| rtran_p       |              3 |       6 |  12.6641   |  1.8623   |  11        |  11.25     |  12        |  14.25     |  15       |\n",
      "| rvol_p        |              6 |       6 |   2.43164  |  1.50879  |   0.799805 |   1.37476  |   2.25     |   3.0498   |   4.89844 |\n",
      "| sisters       |              4 |       6 |   2.5      |  1.37891  |   1        |   1.25     |   2.5      |   3.75     |   4       |\n",
      "| smokea_f      |              4 |       6 |  17.6094   |  1.24609  |  16        |  17        |  17.5      |  18        |  19.6406  |\n",
      "| tvu_ref       |              3 |       6 |   3.33398  |  0.816406 |   2        |   3        |   3.5      |   4        |   4       |\n",
      "| weight20_f    |              4 |       6 | 167.5      |  5.24219  | 160        | 165        | 167.5      | 170        | 175       |\n",
      "| weight50_f    |              5 |       6 | 224.125    | 31.6875   | 180        | 212.5      | 220        | 235        | 275       |\n",
      "| weight_f      |              5 |       6 | 223.375    | 37.6562   | 160        | 210        | 232.5      | 240        | 270       |\n",
      "| distance      |              6 |       6 |  11.4929   |  5.63993  |   0        |  13.3347   |  13.8633   |  13.93     |  14.1203  |\n",
      "+---------------+----------------+---------+------------+-----------+------------+------------+------------+------------+-----------+\n"
     ]
    }
   ],
   "source": [
    "\n",
    "df = pd.concat(X_test_mismatch[4][:2])\n",
    "for col in df.columns:\n",
    "    if len(df[col].unique()) <= 2:\n",
    "        df.drop(col,inplace=True,axis=1)\n",
    "print_df(df)\n",
    "summary = summarize_features(df)\n",
    "print_df(summary)"
   ]
  }
 ],
 "metadata": {
  "kernelspec": {
   "display_name": "Python 3",
   "language": "python",
   "name": "python3"
  },
  "language_info": {
   "codemirror_mode": {
    "name": "ipython",
    "version": 3
   },
   "file_extension": ".py",
   "mimetype": "text/x-python",
   "name": "python",
   "nbconvert_exporter": "python",
   "pygments_lexer": "ipython3",
   "version": "3.10.4"
  },
  "orig_nbformat": 4,
  "vscode": {
   "interpreter": {
    "hash": "9b9f07f525d6131811c533cc81eafd9d7147c1a9ff2e81c94d4f0d027f94c4be"
   }
  }
 },
 "nbformat": 4,
 "nbformat_minor": 2
}

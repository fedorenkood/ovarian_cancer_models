{
 "cells": [
  {
   "cell_type": "code",
   "execution_count": 1,
   "metadata": {
    "pycharm": {
     "name": "#%%\n"
    }
   },
   "outputs": [],
   "source": [
    "from typing import List, Dict\n",
    "\n",
    "from oop_functions.experiment_helper import *\n",
    "from oop_functions.experiment_runner import ExperimentRunner\n",
    "from oop_functions.util_functions import *\n",
    "from oop_functions.visualization_util import *\n",
    "from oop_functions.analytics_cv_util import *\n",
    "from oop_functions.analytics_utils import *\n",
    "\n",
    "%matplotlib inline\n",
    "import warnings\n",
    "\n",
    "warnings.filterwarnings(\"ignore\")\n",
    "\n",
    "import numpy as np\n",
    "import pandas as pd\n",
    "\n",
    "from xgboost import XGBClassifier\n",
    "from sklearn.tree import DecisionTreeClassifier\n",
    "from sklearn.ensemble import RandomForestClassifier\n",
    "from sklearn.linear_model import LogisticRegression\n",
    "\n",
    "import itertools\n",
    "\n",
    "from dcurves import dca, plot_graphs\n"
   ]
  },
  {
   "cell_type": "code",
   "execution_count": 2,
   "metadata": {
    "pycharm": {
     "name": "#%%\n"
    }
   },
   "outputs": [],
   "source": [
    "processed_data = pd.read_csv('./processed_dataset/recent_propagated_dataset.csv', index_col=0)"
   ]
  },
  {
   "cell_type": "code",
   "execution_count": 3,
   "metadata": {},
   "outputs": [],
   "source": [
    "\n",
    "processed_data = convert_numeric_to_float16(processed_data)"
   ]
  },
  {
   "attachments": {},
   "cell_type": "markdown",
   "metadata": {
    "pycharm": {
     "name": "#%% md\n"
    }
   },
   "source": [
    "I realized that I was doing labeled mean imputation, which should not happen. So, I performed imputation after I merged cancer and no_cancer datasets back together. Without labeled mean imputation, gaussian NB and logistic regression do not perform well. "
   ]
  },
  {
   "cell_type": "code",
   "execution_count": 4,
   "metadata": {},
   "outputs": [],
   "source": [
    "cv_analytics_utils: Dict[str, CvAnalyticsUtil] = {}"
   ]
  },
  {
   "cell_type": "code",
   "execution_count": 5,
   "metadata": {
    "collapsed": false,
    "pycharm": {
     "name": "#%%\n"
    }
   },
   "outputs": [],
   "source": [
    "\n",
    "# https://xgboost.readthedocs.io/en/latest/parameter.html\n",
    "classifiers = {\n",
    "    # 'LogisticRegression': LogisticRegression(C= 0.25, random_state= 0),\n",
    "    # 'GaussianNB': GaussianNB(var_smoothing= 1e-09),\n",
    "    # 'DecisionTreeClassifier': DecisionTreeClassifier(criterion= 'entropy'),\n",
    "    # 'RandomForestClassifier_entropy': RandomForestClassifier(criterion= 'entropy', n_estimators= 200), # Best one\n",
    "    'RandomForestClassifier': RandomForestClassifier(criterion='entropy', n_estimators=300), # Best one\n",
    "    # 'RandomForestClassifier_log_loss': RandomForestClassifier(criterion= 'log_loss', n_estimators= 300),\n",
    "    # 'RandomForestClassifier_gini': RandomForestClassifier(criterion= 'gini', n_estimators= 300),\n",
    "    # 'XGBClassifier_error': XGBClassifier(eval_metric= 'error', learning_rate=0.1),\n",
    "    # 'XGBClassifier': XGBClassifier(eval_metric= 'logloss', learning_rate=0.1), # Best one\n",
    "    # 'XGBClassifier_rmsle': XGBClassifier(objective='binary:logistic', eval_metric= 'rmsle', learning_rate=0.1),\n",
    "    # 'XGBClassifier_rmse': XGBClassifier(objective='binary:logistic', eval_metric= 'rmse', learning_rate=0.1),\n",
    "    # 'XGBClassifier_mae': XGBClassifier(objective='binary:logistic', eval_metric= 'mae', learning_rate=0.1),\n",
    "    # 'XGBClassifier_mape': XGBClassifier(objective='binary:logistic', eval_metric= 'mape', learning_rate=0.1),\n",
    "    # 'XGBClassifier_aucpr': XGBClassifier(eval_metric= 'aucpr', learning_rate=0.1)\n",
    "}\n",
    "\n",
    "experiment_data_helpers: List[ExperimentDataHelper] = [\n",
    "    # ExperimentDataHelperSingleLabelScreenedCA125First5, # 1\n",
    "    # ExperimentDataHelperSingleLabelScreenedUltraFirst5, # 1\n",
    "    ExperimentDataHelperSingleLabelScreenedFirst5, # None, 1, 3, 5, 10\n",
    "    # ExperimentDataHelperScreenedFirst5, # 1\n",
    "    # ExperimentDataHelperSingleLabelNotScreenedColsFirst5, # None, 1\n",
    "    # ExperimentDataHelperScreenedColsFirst5, # 1\n",
    "    # ExperimentDataHelperScreened, # 1\n",
    "    # ExperimentDataHelperSingleLabelNotScreenedCols, # None, 1\n",
    "    # ExperimentDataHelperAll, # None, 1\n",
    "    # ExperimentDataHelperScreenedFirst5ca125AndBinary, # 1\n",
    "    # ExperimentDataHelperScreenedFirst5ca125Binary, # 1\n",
    "]\n",
    "\n",
    "experiment_over_labels: Dict[str, List] = {\n",
    "    ExperimentDataHelperSingleLabelScreenedCA125First5.get_name(): [1], # 1\n",
    "    ExperimentDataHelperSingleLabelScreenedUltraFirst5.get_name(): [1], # 1\n",
    "    ExperimentDataHelperSingleLabelScreenedFirst5.get_name(): [1], # None, 1, 3, 5, 10\n",
    "    ExperimentDataHelperScreenedFirst5.get_name(): [1], # 1\n",
    "    ExperimentDataHelperSingleLabelNotScreenedColsFirst5.get_name(): [None, 1], # None, 1\n",
    "    ExperimentDataHelperScreenedColsFirst5.get_name(): [1], # 1\n",
    "    ExperimentDataHelperScreened.get_name(): [1], # 1\n",
    "    ExperimentDataHelperSingleLabelNotScreenedCols.get_name(): [None, 1], # None, 1\n",
    "    ExperimentDataHelperAll.get_name(): [None, 1], # None, 1\n",
    "    ExperimentDataHelperScreenedFirst5ca125AndBinary.get_name(): [1], # 1\n",
    "    ExperimentDataHelperScreenedFirst5ca125Binary.get_name(): [1], # 1\n",
    "}"
   ]
  },
  {
   "cell_type": "code",
   "execution_count": 6,
   "metadata": {},
   "outputs": [
    {
     "name": "stdout",
     "output_type": "stream",
     "text": [
      "_for_experiment_participants_screened_single_first_5_top_50_features_RandomForestClassifier_cancer_in_next_1_years__1_trials\n"
     ]
    }
   ],
   "source": [
    "num_folds=1\n",
    "test_n_folds=1\n",
    "train_size = 25000\n",
    "# [None, 25, 35, 50, 75, 100]\n",
    "top_k_features = [50]\n",
    "for classifier_name, classifier in classifiers.items():\n",
    "    for experiment_data_helper_class in experiment_data_helpers:\n",
    "        for top_k in top_k_features:\n",
    "            for year in experiment_over_labels[experiment_data_helper_class.get_name()]:\n",
    "                if year:\n",
    "                    label = f'cancer_in_next_{year}_years'\n",
    "                else: \n",
    "                    label = 'ovar_cancer'\n",
    "                filesuffix = f'_for_experiment_{experiment_data_helper_class.get_name()}_{classifier_name}_{label}__{num_folds}_trials'\n",
    "                select_cols = None\n",
    "                if top_k:\n",
    "                    select_cols = feature_importance_reader(filesuffix)[:top_k]\n",
    "                    filesuffix = f'_for_experiment_{experiment_data_helper_class.get_name()}_top_{top_k}_features_{classifier_name}_{label}__{num_folds}_trials'\n",
    "                print(filesuffix)\n",
    "                # print(select_cols)\n",
    "                experiment_data_helper: ExperimentDataHelper = experiment_data_helper_class(processed_data, label, ['cancer_'], train_size = train_size, select_features=select_cols)\n",
    "                # experiment_data_helper.set_train_size_to_max(num_folds)\n",
    "                experiment_runner = ExperimentRunner(classifier, experiment_data_helper, num_folds=num_folds, test_n_folds=test_n_folds)\n",
    "                cv_analytics_util = experiment_runner.run_experiment()\n",
    "                cv_analytics_utils[filesuffix] = cv_analytics_util\n",
    "                cv_analytics_util.store_cv_analytics_utils(filesuffix)\n"
   ]
  },
  {
   "cell_type": "code",
   "execution_count": 7,
   "metadata": {},
   "outputs": [],
   "source": [
    "sorted_df = experiment_data_helper.source_df.sort_values(by=['plco_id'])"
   ]
  },
  {
   "cell_type": "code",
   "execution_count": 8,
   "metadata": {},
   "outputs": [],
   "source": [
    "def find_different_cols(df):\n",
    "    return df.columns[df.nunique() > 1]\n",
    "\n",
    "def extract_subrecords(plco_id):\n",
    "    df = sorted_df[sorted_df['plco_id'].isin([plco_id])]\n",
    "    return df[find_different_cols(df)]"
   ]
  },
  {
   "cell_type": "code",
   "execution_count": 9,
   "metadata": {},
   "outputs": [
    {
     "name": "stdout",
     "output_type": "stream",
     "text": [
      "+----+-----------------+----------+----------+---------+-------------+-----------+-----------+---------------------+---------------+--------------+---------------+---------------+-------------+--------------+--------------+---------------+----------------+----------------+--------------+---------------+---------------+-------------+-----------+-----------+------------+-----------+--------------+-----------+-----------+--------+--------+\n",
      "|    |   ca125ii_level |   detl_p |   detr_p |   index |   lantero_p |   llong_p |   ltran_p |   ovar_observe_year |   ovar_result |   ovary_diam |   ovary_diaml |   ovary_diamr |   ovary_vol |   ovary_voll |   ovary_volr |   ovcyst_diam |   ovcyst_diaml |   ovcyst_diamr |   ovcyst_vol |   ovcyst_voll |   ovcyst_volr |   rantero_p |   rlong_p |   rtran_p |   study_yr |   tvu_ref |   tvu_result |   visboth |   viseith |   visl |   visr |\n",
      "|----+-----------------+----------+----------+---------+-------------+-----------+-----------+---------------------+---------------+--------------+---------------+---------------+-------------+--------------+--------------+---------------+----------------+----------------+--------------+---------------+---------------+-------------+-----------+-----------+------------+-----------+--------------+-----------+-----------+--------+--------|\n",
      "|  0 |              12 |        0 |        0 |       3 |          16 |        27 |         9 |                   0 |             3 |      1.59961 |       2.69922 |       1.59961 |     1.09961 |      2       |      1.09961 |       1.59961 |        2.69922 |        1.59961 |      1.09961 |       2       |       1.09961 |          15 |         9 |        16 |          0 |         3 |            3 |         0 |         0 |      0 |      0 |\n",
      "|  1 |              12 |        1 |        1 |   78211 |          13 |        15 |        14 |                   1 |             3 |      1.5     |       1.5     |       1.5     |     1.40039 |      1.40039 |      1.40039 |       1.5     |        1.5     |        1.5     |      1.40039 |       1.40039 |       1.40039 |          13 |        15 |        14 |          1 |         3 |            3 |         1 |         1 |      1 |      1 |\n",
      "|  2 |              11 |        1 |        1 |  116202 |          16 |        27 |         9 |                   2 |             1 |      2.69922 |       2.69922 |       2.19922 |     2       |      2       |      1.59961 |       2.69922 |        2.69922 |        2.19922 |      2       |       2       |       1.59961 |          22 |        13 |        11 |          2 |         4 |            1 |         1 |         1 |      1 |      1 |\n",
      "|  3 |              15 |        0 |        1 |  153633 |          16 |        27 |         9 |                   3 |             3 |      1.59961 |       2.69922 |       1.59961 |     1.09961 |      2       |      1.09961 |       1.59961 |        2.69922 |        1.59961 |      1.09961 |       2       |       1.09961 |          15 |         9 |        16 |          3 |         2 |            3 |         0 |         1 |      0 |      1 |\n",
      "|  4 |              11 |        0 |        1 |  190719 |          16 |        27 |         9 |                   4 |             1 |      1.59961 |       2.69922 |       1.59961 |     1.09961 |      2       |      1.09961 |       1.59961 |        2.69922 |        1.59961 |      1.09961 |       2       |       1.09961 |          15 |         9 |        16 |          4 |         2 |            9 |         0 |         0 |      0 |      0 |\n",
      "|  5 |              12 |        0 |        1 |  227729 |          16 |        27 |         9 |                   5 |             1 |      1.59961 |       2.69922 |       1.59961 |     1.09961 |      2       |      1.09961 |       1.59961 |        2.69922 |        1.59961 |      1.09961 |       2       |       1.09961 |          15 |         9 |        16 |          5 |         2 |            9 |         0 |         0 |      0 |      0 |\n",
      "+----+-----------------+----------+----------+---------+-------------+-----------+-----------+---------------------+---------------+--------------+---------------+---------------+-------------+--------------+--------------+---------------+----------------+----------------+--------------+---------------+---------------+-------------+-----------+-----------+------------+-----------+--------------+-----------+-----------+--------+--------+\n"
     ]
    }
   ],
   "source": [
    "plco_ids = ['A-001979-6', 'A-002879-7']\n",
    "\n",
    "print_df(extract_subrecords(plco_ids[0]))"
   ]
  },
  {
   "cell_type": "code",
   "execution_count": 10,
   "metadata": {},
   "outputs": [
    {
     "data": {
      "text/html": [
       "<div>\n",
       "<style scoped>\n",
       "    .dataframe tbody tr th:only-of-type {\n",
       "        vertical-align: middle;\n",
       "    }\n",
       "\n",
       "    .dataframe tbody tr th {\n",
       "        vertical-align: top;\n",
       "    }\n",
       "\n",
       "    .dataframe thead th {\n",
       "        text-align: right;\n",
       "    }\n",
       "</style>\n",
       "<table border=\"1\" class=\"dataframe\">\n",
       "  <thead>\n",
       "    <tr style=\"text-align: right;\">\n",
       "      <th></th>\n",
       "      <th>plco_id</th>\n",
       "      <th>bmi_20</th>\n",
       "      <th>bmi_50</th>\n",
       "      <th>bmi_curr</th>\n",
       "      <th>brothers</th>\n",
       "      <th>ca125_result</th>\n",
       "      <th>ca125ii_level</th>\n",
       "      <th>ca125ii_level_binary</th>\n",
       "      <th>cancer_in_next_1_years</th>\n",
       "      <th>cig_years</th>\n",
       "      <th>...</th>\n",
       "      <th>tvu_result</th>\n",
       "      <th>visboth</th>\n",
       "      <th>viseith</th>\n",
       "      <th>visl</th>\n",
       "      <th>visr</th>\n",
       "      <th>volum</th>\n",
       "      <th>was_screened</th>\n",
       "      <th>weight20_f</th>\n",
       "      <th>weight50_f</th>\n",
       "      <th>weight_f</th>\n",
       "    </tr>\n",
       "  </thead>\n",
       "  <tbody>\n",
       "    <tr>\n",
       "      <th>0</th>\n",
       "      <td>A-001979-6</td>\n",
       "      <td>19.656250</td>\n",
       "      <td>28.34375</td>\n",
       "      <td>31.171875</td>\n",
       "      <td>2.0</td>\n",
       "      <td>1.0</td>\n",
       "      <td>12.0</td>\n",
       "      <td>1.0</td>\n",
       "      <td>0.0</td>\n",
       "      <td>0.0</td>\n",
       "      <td>...</td>\n",
       "      <td>3.0</td>\n",
       "      <td>0.0</td>\n",
       "      <td>0.0</td>\n",
       "      <td>0.0</td>\n",
       "      <td>0.0</td>\n",
       "      <td>NaN</td>\n",
       "      <td>1.0</td>\n",
       "      <td>104.0</td>\n",
       "      <td>150.0</td>\n",
       "      <td>165.0</td>\n",
       "    </tr>\n",
       "    <tr>\n",
       "      <th>1</th>\n",
       "      <td>A-001979-6</td>\n",
       "      <td>19.656250</td>\n",
       "      <td>28.34375</td>\n",
       "      <td>31.171875</td>\n",
       "      <td>2.0</td>\n",
       "      <td>1.0</td>\n",
       "      <td>12.0</td>\n",
       "      <td>1.0</td>\n",
       "      <td>0.0</td>\n",
       "      <td>0.0</td>\n",
       "      <td>...</td>\n",
       "      <td>3.0</td>\n",
       "      <td>1.0</td>\n",
       "      <td>1.0</td>\n",
       "      <td>1.0</td>\n",
       "      <td>1.0</td>\n",
       "      <td>NaN</td>\n",
       "      <td>1.0</td>\n",
       "      <td>104.0</td>\n",
       "      <td>150.0</td>\n",
       "      <td>165.0</td>\n",
       "    </tr>\n",
       "    <tr>\n",
       "      <th>2</th>\n",
       "      <td>A-001979-6</td>\n",
       "      <td>19.656250</td>\n",
       "      <td>28.34375</td>\n",
       "      <td>31.171875</td>\n",
       "      <td>2.0</td>\n",
       "      <td>1.0</td>\n",
       "      <td>11.0</td>\n",
       "      <td>1.0</td>\n",
       "      <td>0.0</td>\n",
       "      <td>0.0</td>\n",
       "      <td>...</td>\n",
       "      <td>1.0</td>\n",
       "      <td>1.0</td>\n",
       "      <td>1.0</td>\n",
       "      <td>1.0</td>\n",
       "      <td>1.0</td>\n",
       "      <td>NaN</td>\n",
       "      <td>1.0</td>\n",
       "      <td>104.0</td>\n",
       "      <td>150.0</td>\n",
       "      <td>165.0</td>\n",
       "    </tr>\n",
       "    <tr>\n",
       "      <th>3</th>\n",
       "      <td>A-001979-6</td>\n",
       "      <td>19.656250</td>\n",
       "      <td>28.34375</td>\n",
       "      <td>31.171875</td>\n",
       "      <td>2.0</td>\n",
       "      <td>1.0</td>\n",
       "      <td>15.0</td>\n",
       "      <td>1.0</td>\n",
       "      <td>0.0</td>\n",
       "      <td>0.0</td>\n",
       "      <td>...</td>\n",
       "      <td>3.0</td>\n",
       "      <td>0.0</td>\n",
       "      <td>1.0</td>\n",
       "      <td>0.0</td>\n",
       "      <td>1.0</td>\n",
       "      <td>NaN</td>\n",
       "      <td>1.0</td>\n",
       "      <td>104.0</td>\n",
       "      <td>150.0</td>\n",
       "      <td>165.0</td>\n",
       "    </tr>\n",
       "    <tr>\n",
       "      <th>4</th>\n",
       "      <td>A-001979-6</td>\n",
       "      <td>19.656250</td>\n",
       "      <td>28.34375</td>\n",
       "      <td>31.171875</td>\n",
       "      <td>2.0</td>\n",
       "      <td>1.0</td>\n",
       "      <td>11.0</td>\n",
       "      <td>1.0</td>\n",
       "      <td>0.0</td>\n",
       "      <td>0.0</td>\n",
       "      <td>...</td>\n",
       "      <td>9.0</td>\n",
       "      <td>0.0</td>\n",
       "      <td>0.0</td>\n",
       "      <td>0.0</td>\n",
       "      <td>0.0</td>\n",
       "      <td>NaN</td>\n",
       "      <td>1.0</td>\n",
       "      <td>104.0</td>\n",
       "      <td>150.0</td>\n",
       "      <td>165.0</td>\n",
       "    </tr>\n",
       "    <tr>\n",
       "      <th>...</th>\n",
       "      <td>...</td>\n",
       "      <td>...</td>\n",
       "      <td>...</td>\n",
       "      <td>...</td>\n",
       "      <td>...</td>\n",
       "      <td>...</td>\n",
       "      <td>...</td>\n",
       "      <td>...</td>\n",
       "      <td>...</td>\n",
       "      <td>...</td>\n",
       "      <td>...</td>\n",
       "      <td>...</td>\n",
       "      <td>...</td>\n",
       "      <td>...</td>\n",
       "      <td>...</td>\n",
       "      <td>...</td>\n",
       "      <td>...</td>\n",
       "      <td>...</td>\n",
       "      <td>...</td>\n",
       "      <td>...</td>\n",
       "      <td>...</td>\n",
       "    </tr>\n",
       "    <tr>\n",
       "      <th>150753</th>\n",
       "      <td>Z-162169-9</td>\n",
       "      <td>19.921875</td>\n",
       "      <td>29.68750</td>\n",
       "      <td>31.250000</td>\n",
       "      <td>1.0</td>\n",
       "      <td>1.0</td>\n",
       "      <td>12.0</td>\n",
       "      <td>1.0</td>\n",
       "      <td>0.0</td>\n",
       "      <td>0.0</td>\n",
       "      <td>...</td>\n",
       "      <td>1.0</td>\n",
       "      <td>0.0</td>\n",
       "      <td>0.0</td>\n",
       "      <td>0.0</td>\n",
       "      <td>0.0</td>\n",
       "      <td>NaN</td>\n",
       "      <td>1.0</td>\n",
       "      <td>102.0</td>\n",
       "      <td>152.0</td>\n",
       "      <td>160.0</td>\n",
       "    </tr>\n",
       "    <tr>\n",
       "      <th>150754</th>\n",
       "      <td>Z-162169-9</td>\n",
       "      <td>19.921875</td>\n",
       "      <td>29.68750</td>\n",
       "      <td>31.250000</td>\n",
       "      <td>1.0</td>\n",
       "      <td>1.0</td>\n",
       "      <td>14.0</td>\n",
       "      <td>1.0</td>\n",
       "      <td>0.0</td>\n",
       "      <td>0.0</td>\n",
       "      <td>...</td>\n",
       "      <td>3.0</td>\n",
       "      <td>1.0</td>\n",
       "      <td>1.0</td>\n",
       "      <td>1.0</td>\n",
       "      <td>1.0</td>\n",
       "      <td>NaN</td>\n",
       "      <td>1.0</td>\n",
       "      <td>102.0</td>\n",
       "      <td>152.0</td>\n",
       "      <td>160.0</td>\n",
       "    </tr>\n",
       "    <tr>\n",
       "      <th>150755</th>\n",
       "      <td>Z-162169-9</td>\n",
       "      <td>19.921875</td>\n",
       "      <td>29.68750</td>\n",
       "      <td>31.250000</td>\n",
       "      <td>1.0</td>\n",
       "      <td>1.0</td>\n",
       "      <td>9.0</td>\n",
       "      <td>1.0</td>\n",
       "      <td>0.0</td>\n",
       "      <td>0.0</td>\n",
       "      <td>...</td>\n",
       "      <td>9.0</td>\n",
       "      <td>0.0</td>\n",
       "      <td>0.0</td>\n",
       "      <td>0.0</td>\n",
       "      <td>0.0</td>\n",
       "      <td>NaN</td>\n",
       "      <td>1.0</td>\n",
       "      <td>102.0</td>\n",
       "      <td>152.0</td>\n",
       "      <td>160.0</td>\n",
       "    </tr>\n",
       "    <tr>\n",
       "      <th>150756</th>\n",
       "      <td>Z-162169-9</td>\n",
       "      <td>19.921875</td>\n",
       "      <td>29.68750</td>\n",
       "      <td>31.250000</td>\n",
       "      <td>1.0</td>\n",
       "      <td>1.0</td>\n",
       "      <td>9.0</td>\n",
       "      <td>1.0</td>\n",
       "      <td>0.0</td>\n",
       "      <td>0.0</td>\n",
       "      <td>...</td>\n",
       "      <td>9.0</td>\n",
       "      <td>0.0</td>\n",
       "      <td>0.0</td>\n",
       "      <td>0.0</td>\n",
       "      <td>0.0</td>\n",
       "      <td>NaN</td>\n",
       "      <td>1.0</td>\n",
       "      <td>102.0</td>\n",
       "      <td>152.0</td>\n",
       "      <td>160.0</td>\n",
       "    </tr>\n",
       "    <tr>\n",
       "      <th>150757</th>\n",
       "      <td>Z-162286-1</td>\n",
       "      <td>21.140625</td>\n",
       "      <td>27.40625</td>\n",
       "      <td>32.875000</td>\n",
       "      <td>3.0</td>\n",
       "      <td>1.0</td>\n",
       "      <td>13.0</td>\n",
       "      <td>1.0</td>\n",
       "      <td>0.0</td>\n",
       "      <td>0.0</td>\n",
       "      <td>...</td>\n",
       "      <td>1.0</td>\n",
       "      <td>0.0</td>\n",
       "      <td>0.0</td>\n",
       "      <td>0.0</td>\n",
       "      <td>0.0</td>\n",
       "      <td>NaN</td>\n",
       "      <td>1.0</td>\n",
       "      <td>135.0</td>\n",
       "      <td>175.0</td>\n",
       "      <td>210.0</td>\n",
       "    </tr>\n",
       "  </tbody>\n",
       "</table>\n",
       "<p>150758 rows × 61 columns</p>\n",
       "</div>"
      ],
      "text/plain": [
       "           plco_id     bmi_20    bmi_50   bmi_curr  brothers  ca125_result  \\\n",
       "0       A-001979-6  19.656250  28.34375  31.171875       2.0           1.0   \n",
       "1       A-001979-6  19.656250  28.34375  31.171875       2.0           1.0   \n",
       "2       A-001979-6  19.656250  28.34375  31.171875       2.0           1.0   \n",
       "3       A-001979-6  19.656250  28.34375  31.171875       2.0           1.0   \n",
       "4       A-001979-6  19.656250  28.34375  31.171875       2.0           1.0   \n",
       "...            ...        ...       ...        ...       ...           ...   \n",
       "150753  Z-162169-9  19.921875  29.68750  31.250000       1.0           1.0   \n",
       "150754  Z-162169-9  19.921875  29.68750  31.250000       1.0           1.0   \n",
       "150755  Z-162169-9  19.921875  29.68750  31.250000       1.0           1.0   \n",
       "150756  Z-162169-9  19.921875  29.68750  31.250000       1.0           1.0   \n",
       "150757  Z-162286-1  21.140625  27.40625  32.875000       3.0           1.0   \n",
       "\n",
       "        ca125ii_level  ca125ii_level_binary  cancer_in_next_1_years  \\\n",
       "0                12.0                   1.0                     0.0   \n",
       "1                12.0                   1.0                     0.0   \n",
       "2                11.0                   1.0                     0.0   \n",
       "3                15.0                   1.0                     0.0   \n",
       "4                11.0                   1.0                     0.0   \n",
       "...               ...                   ...                     ...   \n",
       "150753           12.0                   1.0                     0.0   \n",
       "150754           14.0                   1.0                     0.0   \n",
       "150755            9.0                   1.0                     0.0   \n",
       "150756            9.0                   1.0                     0.0   \n",
       "150757           13.0                   1.0                     0.0   \n",
       "\n",
       "        cig_years  ...  tvu_result  visboth  viseith  visl  visr  volum  \\\n",
       "0             0.0  ...         3.0      0.0      0.0   0.0   0.0    NaN   \n",
       "1             0.0  ...         3.0      1.0      1.0   1.0   1.0    NaN   \n",
       "2             0.0  ...         1.0      1.0      1.0   1.0   1.0    NaN   \n",
       "3             0.0  ...         3.0      0.0      1.0   0.0   1.0    NaN   \n",
       "4             0.0  ...         9.0      0.0      0.0   0.0   0.0    NaN   \n",
       "...           ...  ...         ...      ...      ...   ...   ...    ...   \n",
       "150753        0.0  ...         1.0      0.0      0.0   0.0   0.0    NaN   \n",
       "150754        0.0  ...         3.0      1.0      1.0   1.0   1.0    NaN   \n",
       "150755        0.0  ...         9.0      0.0      0.0   0.0   0.0    NaN   \n",
       "150756        0.0  ...         9.0      0.0      0.0   0.0   0.0    NaN   \n",
       "150757        0.0  ...         1.0      0.0      0.0   0.0   0.0    NaN   \n",
       "\n",
       "        was_screened  weight20_f  weight50_f  weight_f  \n",
       "0                1.0       104.0       150.0     165.0  \n",
       "1                1.0       104.0       150.0     165.0  \n",
       "2                1.0       104.0       150.0     165.0  \n",
       "3                1.0       104.0       150.0     165.0  \n",
       "4                1.0       104.0       150.0     165.0  \n",
       "...              ...         ...         ...       ...  \n",
       "150753           1.0       102.0       152.0     160.0  \n",
       "150754           1.0       102.0       152.0     160.0  \n",
       "150755           1.0       102.0       152.0     160.0  \n",
       "150756           1.0       102.0       152.0     160.0  \n",
       "150757           1.0       135.0       175.0     210.0  \n",
       "\n",
       "[150758 rows x 61 columns]"
      ]
     },
     "execution_count": 10,
     "metadata": {},
     "output_type": "execute_result"
    }
   ],
   "source": [
    "experiment_data_helper.source_df"
   ]
  },
  {
   "cell_type": "code",
   "execution_count": 11,
   "metadata": {},
   "outputs": [
    {
     "name": "stdout",
     "output_type": "stream",
     "text": [
      "0.56\n"
     ]
    }
   ],
   "source": [
    "for analytics_util in cv_analytics_util.analytics_utils: \n",
    "    print(analytics_util.get_report_generation_util().get_roc_threshold())"
   ]
  },
  {
   "cell_type": "code",
   "execution_count": 12,
   "metadata": {},
   "outputs": [],
   "source": [
    "# for key, cv_analytics_util in cv_analytics_utils.items():\n",
    "#     print(f\"{key}: \")\n",
    "#     filepath = f'./trees/decision_tree_for_{key}.png'\n",
    "#     cv_analytics_util.analytics_utils[0].plot_save_tree(False, filepath)"
   ]
  },
  {
   "cell_type": "code",
   "execution_count": 13,
   "metadata": {},
   "outputs": [
    {
     "name": "stdout",
     "output_type": "stream",
     "text": [
      "_for_experiment_participants_screened_single_first_5_top_50_features_RandomForestClassifier_cancer_in_next_1_years__1_trials: \n",
      "\n",
      "\n",
      "Cross-Validation measures:\n",
      "+--------------------+--------+-------+-------+-------+\n",
      "|                    |   mean |   std |   min |   max |\n",
      "|--------------------+--------+-------+-------+-------|\n",
      "| precision__class_0 |      1 |   nan |     1 |     1 |\n",
      "| recall__class_0    |      1 |   nan |     1 |     1 |\n",
      "| f1-score__class_0  |      1 |   nan |     1 |     1 |\n",
      "| precision__class_1 |      1 |   nan |     1 |     1 |\n",
      "| recall__class_1    |      1 |   nan |     1 |     1 |\n",
      "| f1-score__class_1  |      1 |   nan |     1 |     1 |\n",
      "| accuracy           |      1 |   nan |     1 |     1 |\n",
      "| auc                |      1 |   nan |     1 |     1 |\n",
      "+--------------------+--------+-------+-------+-------+\n"
     ]
    }
   ],
   "source": [
    "for key, cv_analytics_util in cv_analytics_utils.items():\n",
    "    print(f\"{key}: \")\n",
    "    cv_analytics_util.store_cv_results()"
   ]
  },
  {
   "cell_type": "code",
   "execution_count": 14,
   "metadata": {},
   "outputs": [],
   "source": [
    "# for key, cv_analytics_util in cv_analytics_utils.items():\n",
    "#     print(f\"{key}: \")\n",
    "#     cv_analytics_util.update_thresholds(None)\n",
    "#     cv_analytics_util.get_cv_report();\n",
    "#     cv_analytics_util.display_graph()"
   ]
  },
  {
   "cell_type": "code",
   "execution_count": 15,
   "metadata": {},
   "outputs": [
    {
     "name": "stdout",
     "output_type": "stream",
     "text": [
      "Added new records: 190\n"
     ]
    }
   ],
   "source": [
    "\n",
    "for filesuffix, cv_analytics_util in cv_analytics_utils.items():\n",
    "    label = cv_analytics_util.get_label()\n",
    "    if 'single' in filesuffix:\n",
    "        cv_analytics_util.merge_in_dataset(get_screened_first_5_no_process_dataset(label = label))"
   ]
  },
  {
   "cell_type": "code",
   "execution_count": 16,
   "metadata": {},
   "outputs": [
    {
     "name": "stdout",
     "output_type": "stream",
     "text": [
      "_for_experiment_participants_screened_single_first_5_top_50_features_RandomForestClassifier_cancer_in_next_1_years__1_trials\n",
      "Number of records: 150948\n",
      "Number of indersecting indexes: 150948\n"
     ]
    }
   ],
   "source": [
    "for year in [None, 1, 3, 5, 10]:\n",
    "    if year:\n",
    "        label = f'cancer_in_next_{year}_years'\n",
    "    else: \n",
    "        label = 'ovar_cancer'\n",
    "    selected_cv_utils = {key: cv_analytics_util for key, cv_analytics_util in cv_analytics_utils.items() if cv_analytics_util.get_label() == label}\n",
    "    if len(selected_cv_utils) == 0:\n",
    "        continue\n",
    "    intersecting_indexes = get_intersecting_indexes(selected_cv_utils)\n",
    "    for filesuffix, cv_analytics_util in cv_analytics_utils.items():\n",
    "        if cv_analytics_util.get_label() == label:\n",
    "            cv_analytics_util.keep_indexes(intersecting_indexes)"
   ]
  },
  {
   "cell_type": "code",
   "execution_count": 17,
   "metadata": {},
   "outputs": [
    {
     "name": "stdout",
     "output_type": "stream",
     "text": [
      "_for_experiment_participants_screened_single_first_5_top_50_features_RandomForestClassifier_cancer_in_next_1_years__1_trials: \n",
      "[-0.0001, 0.624, 0.6566666666666666, 0.672, 0.7266666666666667, 1]\n",
      "Threshold: 0.56\n",
      "\n",
      "\n",
      "Cross-Validation measures:\n",
      "+--------------------+----------+-------+----------+----------+\n",
      "|                    |     mean |   std |      min |      max |\n",
      "|--------------------+----------+-------+----------+----------|\n",
      "| precision__class_0 | 0.999993 |   nan | 0.999993 | 0.999993 |\n",
      "| recall__class_0    | 1        |   nan | 1        | 1        |\n",
      "| f1-score__class_0  | 0.999997 |   nan | 0.999997 | 0.999997 |\n",
      "| precision__class_1 | 1        |   nan | 1        | 1        |\n",
      "| recall__class_1    | 0.991071 |   nan | 0.991071 | 0.991071 |\n",
      "| f1-score__class_1  | 0.995516 |   nan | 0.995516 | 0.995516 |\n",
      "| accuracy           | 0.999993 |   nan | 0.999993 | 0.999993 |\n",
      "| auc                | 1        |   nan | 1        | 1        |\n",
      "+--------------------+----------+-------+----------+----------+\n"
     ]
    },
    {
     "name": "stderr",
     "output_type": "stream",
     "text": [
      "No artists with labels found to put in legend.  Note that artists whose label start with an underscore are ignored when legend() is called with no argument.\n"
     ]
    },
    {
     "data": {
      "image/png": "[encoded data removed]",
      "text/plain": [
       "<Figure size 1600x500 with 3 Axes>"
      ]
     },
     "metadata": {},
     "output_type": "display_data"
    },
    {
     "data": {
      "image/png": "[encoded data removed]",
      "text/plain": [
       "<Figure size 2000x800 with 1 Axes>"
      ]
     },
     "metadata": {},
     "output_type": "display_data"
    }
   ],
   "source": [
    "for key, cv_analytics_util in cv_analytics_utils.items():\n",
    "    print(f\"{key}: \")\n",
    "    # Predicting actual cancer probability using bucketing\n",
    "    per_thereshold_metrics = bucket_predictions_by_thresholds(cv_analytics_util)\n",
    "\n",
    "    # General Plots\n",
    "    threshold = cv_analytics_util.get_optimal_operating_point()\n",
    "    # threshold = per_thereshold_metrics.loc[1, 'Threshold']\n",
    "    print(f\"Threshold: {threshold}\")\n",
    "    cv_analytics_util.update_thresholds(threshold)\n",
    "    cv_analytics_util.get_cv_report();\n",
    "    cv_analytics_util.display_graph()\n",
    "    label = cv_analytics_util.get_label()\n",
    "    full_dataset = cv_analytics_util.get_dataset_with_predictions()\n",
    "    plot_hist_side_by_side_for_class(full_dataset, label, f'{label}_prob', normalize = True, title=f'Trained on {filesuffix}, uses full Dataset')"
   ]
  }
 ],
 "metadata": {
  "kernelspec": {
   "display_name": "Python 3",
   "language": "python",
   "name": "python3"
  },
  "language_info": {
   "codemirror_mode": {
    "name": "ipython",
    "version": 3
   },
   "file_extension": ".py",
   "mimetype": "text/x-python",
   "name": "python",
   "nbconvert_exporter": "python",
   "pygments_lexer": "ipython3",
   "version": "3.11.5"
  },
  "orig_nbformat": 4,
  "vscode": {
   "interpreter": {
    "hash": "9b9f07f525d6131811c533cc81eafd9d7147c1a9ff2e81c94d4f0d027f94c4be"
   }
  }
 },
 "nbformat": 4,
 "nbformat_minor": 2
}

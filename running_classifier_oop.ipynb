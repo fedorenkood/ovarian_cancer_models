{
 "cells": [
  {
   "cell_type": "code",
   "execution_count": 1,
   "metadata": {
    "pycharm": {
     "name": "#%%\n"
    }
   },
   "outputs": [],
   "source": [
    "from typing import List\n",
    "\n",
    "from oop_functions.experiment_helper import *\n",
    "from oop_functions.experiment_runner import ExperimentRunner\n",
    "from oop_functions.util_functions import summarize_features, print_df, convert_numeric_to_float16\n",
    "from oop_functions.visualization_util import *\n",
    "from oop_functions.analytics_cv_util import *\n",
    "\n",
    "%matplotlib inline\n",
    "import warnings\n",
    "\n",
    "warnings.filterwarnings(\"ignore\")\n",
    "\n",
    "import numpy as np\n",
    "import pandas as pd\n",
    "\n",
    "from xgboost import XGBClassifier\n",
    "from sklearn.tree import DecisionTreeClassifier\n",
    "\n",
    "import itertools\n"
   ]
  },
  {
   "cell_type": "code",
   "execution_count": 2,
   "metadata": {
    "pycharm": {
     "name": "#%%\n"
    }
   },
   "outputs": [],
   "source": [
    "processed_data = pd.read_csv('./processed_dataset/recent_propagated_dataset.csv', index_col=0)"
   ]
  },
  {
   "cell_type": "code",
   "execution_count": 3,
   "metadata": {},
   "outputs": [],
   "source": [
    "\n",
    "processed_data = convert_numeric_to_float16(processed_data)"
   ]
  },
  {
   "attachments": {},
   "cell_type": "markdown",
   "metadata": {
    "pycharm": {
     "name": "#%% md\n"
    }
   },
   "source": [
    "I realized that I was doing labeled mean imputation, which should not happen. So, I performed imputation after I merged cancer and no_cancer datasets back together. Without labeled mean imputation, gaussian NB and logistic regression do not perform well. "
   ]
  },
  {
   "attachments": {},
   "cell_type": "markdown",
   "metadata": {
    "pycharm": {
     "name": "#%% md\n"
    }
   },
   "source": [
    "run experiments with decision tree and remove the top feature every time. Store the depth of the tree, the efficacy of the top feature, its value, accuracy, confusion matrix\n",
    "\n",
    "https://stackoverflow.com/questions/62819569/how-to-return-the-features-that-used-in-decision-tree-that-created-by-decisiontr\n",
    "\n",
    "`TODO:` divide them as FP and FN?\n",
    "\n",
    "`TODO:` try SVM or ML models\n",
    "\n",
    "`TODO:` At what point they were misclassified (e.g. at what point they diverge compared to the similar point with different prediction.) Look at the nearest neightbors with different neightbors. "
   ]
  },
  {
   "cell_type": "code",
   "execution_count": 4,
   "metadata": {},
   "outputs": [],
   "source": [
    "cv_analytics_utils = {}"
   ]
  },
  {
   "cell_type": "code",
   "execution_count": 5,
   "metadata": {
    "collapsed": false,
    "pycharm": {
     "name": "#%%\n"
    }
   },
   "outputs": [],
   "source": [
    "classifiers = {\n",
    "    # 'LogisticRegression': LogisticRegression(C= 0.25, random_state= 0),\n",
    "    # 'GaussianNB': GaussianNB(var_smoothing= 1e-09),\n",
    "    # 'DecisionTreeClassifier': DecisionTreeClassifier(criterion= 'entropy'),\n",
    "    # 'RandomForestClassifier': RandomForestClassifier(criterion= 'entropy', n_estimators= 200),\n",
    "    'XGBClassifier': XGBClassifier(eval_metric= 'error', learning_rate= 0.1)\n",
    "}\n",
    "\n",
    "experiment_data_helpers: List[ExperimentDataHelper] = [\n",
    "    ExperimentDataHelperSingleLabelScreenedFirst5,    \n",
    "    ExperimentDataHelperScreenedFirst5,\n",
    "    # ExperimentDataHelperNotScreenedColsFirst5,\n",
    "    # ExperimentDataHelperScreenedColsFirst5,\n",
    "    # ExperimentDataHelperScreenedOrCancer,\n",
    "    # ExperimentDataHelperScreened,\n",
    "    # ExperimentDataHelperNotScreenedCols,\n",
    "    # ExperimentDataHelperScreenedCols,\n",
    "    # ExperimentDataHelperAll,\n",
    "    # ExperimentDataHelperSingleLabelScreenedOrCancer,\n",
    "    # ExperimentDataHelperSingleLabelScreened,\n",
    "    # ExperimentDataHelperSingleLabelNotScreenedCols,\n",
    "    # ExperimentDataHelperSingleLabelScreenedCols,\n",
    "    # ExperimentDataHelperSingleLabelAll,\n",
    "    # ExperimentDataHelperScreenedFirst5ca125AndBinary,\n",
    "    # ExperimentDataHelperScreenedFirst5ca125Binary, \n",
    "    # ExperimentDataHelperScreenedFirst5ca125AndBinaryNoResult,\n",
    "\n",
    "]"
   ]
  },
  {
   "cell_type": "code",
   "execution_count": 6,
   "metadata": {},
   "outputs": [],
   "source": [
    "# TODO: save propagated source df so that propagation does not have to happen all the time"
   ]
  },
  {
   "cell_type": "code",
   "execution_count": 7,
   "metadata": {},
   "outputs": [
    {
     "name": "stdout",
     "output_type": "stream",
     "text": [
      "experiment_participants_screened_single_first_5_XGBClassifier_for_cancer_in_next_1_years_15_trials\n",
      "experiment_participants_screened_first_5_XGBClassifier_for_cancer_in_next_1_years_15_trials\n"
     ]
    }
   ],
   "source": [
    "years = [1]\n",
    "num_folds=15\n",
    "test_n_folds=15\n",
    "train_size = 15000\n",
    "for classifier_name, classifier in classifiers.items():\n",
    "    for year in years:\n",
    "        for experiment_data_helper_class in experiment_data_helpers:\n",
    "            label = f'cancer_in_next_{year}_years'\n",
    "            filesuffix = f'experiment_{experiment_data_helper_class.get_name()}_{classifier_name}_for_{label}_{num_folds}_trials'\n",
    "            print(filesuffix)\n",
    "            experiment_data_helper: ExperimentDataHelper = experiment_data_helper_class(processed_data, label, ['cancer_'], train_size = train_size)\n",
    "            # experiment_data_helper.set_train_size_to_max(num_folds)\n",
    "            experiment_runner = ExperimentRunner(classifier, experiment_data_helper, num_folds=num_folds, test_n_folds=test_n_folds)\n",
    "            cv_analytics_util = experiment_runner.run_experiment()\n",
    "            cv_analytics_utils[filesuffix] = cv_analytics_util\n",
    "            cv_analytics_util.store_cv_analytics_utils(filesuffix)\n"
   ]
  },
  {
   "cell_type": "code",
   "execution_count": 8,
   "metadata": {},
   "outputs": [],
   "source": [
    "analytics_util_0 = cv_analytics_utils['experiment_participants_screened_single_first_5_XGBClassifier_for_cancer_in_next_1_years_15_trials'].analytics_utils[0]"
   ]
  },
  {
   "cell_type": "code",
   "execution_count": 9,
   "metadata": {},
   "outputs": [],
   "source": [
    "df_0 = analytics_util_0.data_util.test_df"
   ]
  },
  {
   "cell_type": "code",
   "execution_count": 10,
   "metadata": {},
   "outputs": [],
   "source": [
    "processed_data['ca125ii_level_binary'] = 0"
   ]
  },
  {
   "cell_type": "code",
   "execution_count": 11,
   "metadata": {},
   "outputs": [],
   "source": [
    "transformed_df = analytics_util_0.data_util.imputer.imputer_transform(processed_data)"
   ]
  },
  {
   "cell_type": "code",
   "execution_count": 12,
   "metadata": {},
   "outputs": [
    {
     "data": {
      "text/html": [
       "<div>\n",
       "<style scoped>\n",
       "    .dataframe tbody tr th:only-of-type {\n",
       "        vertical-align: middle;\n",
       "    }\n",
       "\n",
       "    .dataframe tbody tr th {\n",
       "        vertical-align: top;\n",
       "    }\n",
       "\n",
       "    .dataframe thead th {\n",
       "        text-align: right;\n",
       "    }\n",
       "</style>\n",
       "<table border=\"1\" class=\"dataframe\">\n",
       "  <thead>\n",
       "    <tr style=\"text-align: right;\">\n",
       "      <th></th>\n",
       "      <th>ovar_cancer</th>\n",
       "      <th>ovar_behavior</th>\n",
       "      <th>ovar_histtype</th>\n",
       "      <th>plco_id</th>\n",
       "      <th>ca125ii_level</th>\n",
       "      <th>ovary_trial_flag</th>\n",
       "      <th>educat</th>\n",
       "      <th>marital</th>\n",
       "      <th>occupat</th>\n",
       "      <th>pipe</th>\n",
       "      <th>...</th>\n",
       "      <th>volum</th>\n",
       "      <th>cancer_in_next_1_years</th>\n",
       "      <th>cancer_in_next_3_years</th>\n",
       "      <th>cancer_in_next_5_years</th>\n",
       "      <th>cancer_in_next_10_years</th>\n",
       "      <th>ovar_observe_year</th>\n",
       "      <th>was_screened</th>\n",
       "      <th>ph_any_not_ovar_bq</th>\n",
       "      <th>index</th>\n",
       "      <th>ca125ii_level_binary</th>\n",
       "    </tr>\n",
       "  </thead>\n",
       "  <tbody>\n",
       "    <tr>\n",
       "      <th>228522</th>\n",
       "      <td>0.0</td>\n",
       "      <td>2.998012</td>\n",
       "      <td>-1.0</td>\n",
       "      <td>A-077228-7</td>\n",
       "      <td>9.0</td>\n",
       "      <td>1.0</td>\n",
       "      <td>7.0</td>\n",
       "      <td>1.0</td>\n",
       "      <td>1.0</td>\n",
       "      <td>0.0</td>\n",
       "      <td>...</td>\n",
       "      <td>10.028363</td>\n",
       "      <td>0.0</td>\n",
       "      <td>0.0</td>\n",
       "      <td>0.0</td>\n",
       "      <td>0.0</td>\n",
       "      <td>5.0</td>\n",
       "      <td>1.0</td>\n",
       "      <td>0.0</td>\n",
       "      <td>228522.0</td>\n",
       "      <td>0.0</td>\n",
       "    </tr>\n",
       "  </tbody>\n",
       "</table>\n",
       "<p>1 rows × 155 columns</p>\n",
       "</div>"
      ],
      "text/plain": [
       "        ovar_cancer  ovar_behavior  ovar_histtype     plco_id  ca125ii_level  \\\n",
       "228522          0.0       2.998012           -1.0  A-077228-7            9.0   \n",
       "\n",
       "        ovary_trial_flag  educat  marital  occupat  pipe  ...      volum  \\\n",
       "228522               1.0     7.0      1.0      1.0   0.0  ...  10.028363   \n",
       "\n",
       "        cancer_in_next_1_years  cancer_in_next_3_years  \\\n",
       "228522                     0.0                     0.0   \n",
       "\n",
       "        cancer_in_next_5_years  cancer_in_next_10_years  ovar_observe_year  \\\n",
       "228522                     0.0                      0.0                5.0   \n",
       "\n",
       "        was_screened  ph_any_not_ovar_bq     index  ca125ii_level_binary  \n",
       "228522           1.0                 0.0  228522.0                   0.0  \n",
       "\n",
       "[1 rows x 155 columns]"
      ]
     },
     "execution_count": 12,
     "metadata": {},
     "output_type": "execute_result"
    }
   ],
   "source": [
    "transformed_df[transformed_df['index'] == 228522]"
   ]
  },
  {
   "cell_type": "code",
   "execution_count": 13,
   "metadata": {},
   "outputs": [
    {
     "data": {
      "text/html": [
       "<div>\n",
       "<style scoped>\n",
       "    .dataframe tbody tr th:only-of-type {\n",
       "        vertical-align: middle;\n",
       "    }\n",
       "\n",
       "    .dataframe tbody tr th {\n",
       "        vertical-align: top;\n",
       "    }\n",
       "\n",
       "    .dataframe thead th {\n",
       "        text-align: right;\n",
       "    }\n",
       "</style>\n",
       "<table border=\"1\" class=\"dataframe\">\n",
       "  <thead>\n",
       "    <tr style=\"text-align: right;\">\n",
       "      <th></th>\n",
       "      <th>ovar_cancer</th>\n",
       "      <th>ovar_behavior</th>\n",
       "      <th>ovar_histtype</th>\n",
       "      <th>plco_id</th>\n",
       "      <th>ca125ii_level</th>\n",
       "      <th>ovary_trial_flag</th>\n",
       "      <th>educat</th>\n",
       "      <th>marital</th>\n",
       "      <th>occupat</th>\n",
       "      <th>pipe</th>\n",
       "      <th>...</th>\n",
       "      <th>volum</th>\n",
       "      <th>cancer_in_next_1_years</th>\n",
       "      <th>cancer_in_next_3_years</th>\n",
       "      <th>cancer_in_next_5_years</th>\n",
       "      <th>cancer_in_next_10_years</th>\n",
       "      <th>ovar_observe_year</th>\n",
       "      <th>was_screened</th>\n",
       "      <th>ph_any_not_ovar_bq</th>\n",
       "      <th>index</th>\n",
       "      <th>ca125ii_level_binary</th>\n",
       "    </tr>\n",
       "  </thead>\n",
       "  <tbody>\n",
       "    <tr>\n",
       "      <th>228522</th>\n",
       "      <td>0.0</td>\n",
       "      <td>NaN</td>\n",
       "      <td>NaN</td>\n",
       "      <td>A-077228-7</td>\n",
       "      <td>9.0</td>\n",
       "      <td>1.0</td>\n",
       "      <td>7.0</td>\n",
       "      <td>1.0</td>\n",
       "      <td>1.0</td>\n",
       "      <td>0.0</td>\n",
       "      <td>...</td>\n",
       "      <td>NaN</td>\n",
       "      <td>0.0</td>\n",
       "      <td>0.0</td>\n",
       "      <td>0.0</td>\n",
       "      <td>0.0</td>\n",
       "      <td>5.0</td>\n",
       "      <td>1.0</td>\n",
       "      <td>0.0</td>\n",
       "      <td>228522</td>\n",
       "      <td>0</td>\n",
       "    </tr>\n",
       "  </tbody>\n",
       "</table>\n",
       "<p>1 rows × 155 columns</p>\n",
       "</div>"
      ],
      "text/plain": [
       "        ovar_cancer  ovar_behavior  ovar_histtype     plco_id  ca125ii_level  \\\n",
       "228522          0.0            NaN            NaN  A-077228-7            9.0   \n",
       "\n",
       "        ovary_trial_flag  educat  marital  occupat  pipe  ...  volum  \\\n",
       "228522               1.0     7.0      1.0      1.0   0.0  ...    NaN   \n",
       "\n",
       "        cancer_in_next_1_years  cancer_in_next_3_years  \\\n",
       "228522                     0.0                     0.0   \n",
       "\n",
       "        cancer_in_next_5_years  cancer_in_next_10_years  ovar_observe_year  \\\n",
       "228522                     0.0                      0.0                5.0   \n",
       "\n",
       "        was_screened  ph_any_not_ovar_bq   index  ca125ii_level_binary  \n",
       "228522           1.0                 0.0  228522                     0  \n",
       "\n",
       "[1 rows x 155 columns]"
      ]
     },
     "execution_count": 13,
     "metadata": {},
     "output_type": "execute_result"
    }
   ],
   "source": [
    "processed_data[processed_data['index'] == 228522]"
   ]
  },
  {
   "cell_type": "code",
   "execution_count": 14,
   "metadata": {},
   "outputs": [
    {
     "data": {
      "text/html": [
       "<div>\n",
       "<style scoped>\n",
       "    .dataframe tbody tr th:only-of-type {\n",
       "        vertical-align: middle;\n",
       "    }\n",
       "\n",
       "    .dataframe tbody tr th {\n",
       "        vertical-align: top;\n",
       "    }\n",
       "\n",
       "    .dataframe thead th {\n",
       "        text-align: right;\n",
       "    }\n",
       "</style>\n",
       "<table border=\"1\" class=\"dataframe\">\n",
       "  <thead>\n",
       "    <tr style=\"text-align: right;\">\n",
       "      <th></th>\n",
       "      <th>plco_id</th>\n",
       "      <th>age</th>\n",
       "      <th>agelevel</th>\n",
       "      <th>arthrit_f</th>\n",
       "      <th>asp</th>\n",
       "      <th>asppd</th>\n",
       "      <th>bbd</th>\n",
       "      <th>bcontr_f</th>\n",
       "      <th>bcontra</th>\n",
       "      <th>bcontrt</th>\n",
       "      <th>...</th>\n",
       "      <th>uterine_fib</th>\n",
       "      <th>visboth</th>\n",
       "      <th>viseith</th>\n",
       "      <th>visl</th>\n",
       "      <th>visr</th>\n",
       "      <th>volum</th>\n",
       "      <th>was_screened</th>\n",
       "      <th>weight20_f</th>\n",
       "      <th>weight50_f</th>\n",
       "      <th>weight_f</th>\n",
       "    </tr>\n",
       "  </thead>\n",
       "  <tbody>\n",
       "    <tr>\n",
       "      <th>3761</th>\n",
       "      <td>A-077228-7</td>\n",
       "      <td>70.0</td>\n",
       "      <td>2.0</td>\n",
       "      <td>0.0</td>\n",
       "      <td>1.0</td>\n",
       "      <td>1.0</td>\n",
       "      <td>0.0</td>\n",
       "      <td>1.0</td>\n",
       "      <td>2.0</td>\n",
       "      <td>5.0</td>\n",
       "      <td>...</td>\n",
       "      <td>1.0</td>\n",
       "      <td>0.0</td>\n",
       "      <td>0.0</td>\n",
       "      <td>0.0</td>\n",
       "      <td>0.0</td>\n",
       "      <td>10.028363</td>\n",
       "      <td>1.0</td>\n",
       "      <td>127.0</td>\n",
       "      <td>118.0</td>\n",
       "      <td>125.0</td>\n",
       "    </tr>\n",
       "  </tbody>\n",
       "</table>\n",
       "<p>1 rows × 152 columns</p>\n",
       "</div>"
      ],
      "text/plain": [
       "         plco_id   age  agelevel  arthrit_f  asp  asppd  bbd  bcontr_f  \\\n",
       "3761  A-077228-7  70.0       2.0        0.0  1.0    1.0  0.0       1.0   \n",
       "\n",
       "      bcontra  bcontrt  ...  uterine_fib  visboth  viseith  visl  visr  \\\n",
       "3761      2.0      5.0  ...          1.0      0.0      0.0   0.0   0.0   \n",
       "\n",
       "          volum  was_screened  weight20_f  weight50_f  weight_f  \n",
       "3761  10.028363           1.0       127.0       118.0     125.0  \n",
       "\n",
       "[1 rows x 152 columns]"
      ]
     },
     "execution_count": 14,
     "metadata": {},
     "output_type": "execute_result"
    }
   ],
   "source": [
    "df_0[df_0['index'] == 228522]"
   ]
  },
  {
   "cell_type": "code",
   "execution_count": 15,
   "metadata": {},
   "outputs": [
    {
     "data": {
      "text/plain": [
       "array([2.79034668e+00, 1.20527216e+01, 9.96079027e-01, 1.94697832e+00,\n",
       "       2.11992645e+01, 3.23387596e+00, 6.42269557e+01, 2.80782592e+00,\n",
       "       2.09876364e-01, 1.97175670e+00, 5.71053474e-02, 2.22361048e+00,\n",
       "       1.39374454e+00, 1.26471630e+00, 4.14571273e-01, 1.22119129e+01,\n",
       "       2.86098079e+00, 1.76723723e+00, 2.85369546e-01, 2.50744568e+01,\n",
       "       4.25017277e-02, 1.46702209e+05, 6.27684602e+01, 1.70500317e+00,\n",
       "       5.06488097e-02, 6.36209557e-03, 1.71824000e-01, 1.61241874e+00,\n",
       "       4.87829993e-03, 1.55534476e+01, 1.86002433e+00, 1.33845543e+01,\n",
       "       1.76040484e+00, 2.99801193e+00, 1.01681699e+00, 1.01189001e+00,\n",
       "       3.18100123e-01, 4.45024704e-01, 2.69779165e+01, 7.58898080e-04,\n",
       "       5.51047053e-02, 1.02707275e+00, 1.11074853e+00, 1.78465274e+00,\n",
       "       1.58365364e+02, 1.40963848e+00, 8.11989624e-02, 1.31600969e+01,\n",
       "       9.34087064e-02, 1.61457764e+01, 3.09284939e+00, 8.80589207e-01,\n",
       "       2.71917965e-01, 1.70887547e+00, 1.01117810e+00, 1.54359753e+00,\n",
       "       1.00000000e+00, 1.48337845e+00, 3.09646535e+00, 2.81023097e+00,\n",
       "       4.15158812e-01, 2.40178062e-01, 4.62731560e+00, 1.02358472e-01,\n",
       "       1.43931084e-01, 7.84451328e-01, 3.21148808e-02, 1.95568099e-01,\n",
       "       2.14006860e+00, 2.50256714e+00, 1.83066056e+00, 4.74121091e-01,\n",
       "       1.47341268e+00, 1.51191307e-01, 1.58703280e-01, 3.22425329e-01,\n",
       "       1.39054689e+00, 1.62071377e-02, 1.52077285e+00, 1.53289092e+00,\n",
       "       5.82606086e+01, 5.97986161e-01, 1.71130979e+00, 9.94249450e+01,\n",
       "       8.15168322e-03, 4.03606635e-01, 6.52466525e-01, 1.63883962e+00,\n",
       "       4.61800984e-01, 1.96321200e+01, 1.59807568e+01, 1.26778139e+01,\n",
       "       1.17428334e+00, 1.52660480e-02, 1.00283626e+01, 3.23315087e+00,\n",
       "       1.72715870e+00, 6.19599773e-02, 1.08846608e+00, 1.47161738e+02,\n",
       "       1.83370643e-02, 1.24352498e+02, 2.02392413e+00, 4.38210698e-01,\n",
       "       2.50454195e-01, 7.36478711e-02, 8.79733165e+02, 3.96918557e-02,\n",
       "       2.38464749e+00, 3.46040470e+00, 2.20794407e-01, 1.97888760e-02,\n",
       "       1.43071180e+00, 5.74748385e+01, 5.48619440e-01, 1.78918559e-02,\n",
       "       1.22280483e+01, 9.28207613e-01, 1.67992104e-01, 1.42935682e-01,\n",
       "       2.69189487e+00, 8.33936170e-01, 5.72817086e-02, 1.15891808e+01])"
      ]
     },
     "execution_count": 15,
     "metadata": {},
     "output_type": "execute_result"
    }
   ],
   "source": [
    "cv_analytics_utils['experiment_participants_screened_single_first_5_XGBClassifier_for_cancer_in_next_1_years_15_trials'].analytics_utils[0].data_util.imputer.imputer_mean.statistics_"
   ]
  },
  {
   "cell_type": "code",
   "execution_count": 16,
   "metadata": {},
   "outputs": [],
   "source": [
    "# cv_analytics_util.set_filter(differentiate_confusion_matrix_over['was_screened'][0][1])"
   ]
  },
  {
   "cell_type": "code",
   "execution_count": 17,
   "metadata": {},
   "outputs": [
    {
     "name": "stdout",
     "output_type": "stream",
     "text": [
      "0.008682985790073872\n",
      "0.8027284741401672\n",
      "0.02925652638077736\n",
      "0.62688809633255\n",
      "0.17800703644752502\n",
      "0.010218936949968338\n",
      "0.008084941655397415\n",
      "0.043016206473112106\n",
      "0.3728243112564087\n",
      "0.09577418118715286\n",
      "0.49141445755958557\n",
      "0.5916720628738403\n",
      "0.010812745429575443\n",
      "0.007523640990257263\n",
      "0.00717073492705822\n"
     ]
    }
   ],
   "source": [
    "for analytics_util in cv_analytics_util.analytics_utils: \n",
    "    print(analytics_util.get_report_generation_util().get_roc_threshold())"
   ]
  },
  {
   "cell_type": "code",
   "execution_count": 18,
   "metadata": {},
   "outputs": [],
   "source": [
    "# for key, cv_analytics_util in cv_analytics_utils.items():\n",
    "#     print(f\"{key}: \")\n",
    "#     filepath = f'./trees/decision_tree_for_{key}.png'\n",
    "#     cv_analytics_util.analytics_utils[0].plot_save_tree(False, filepath)"
   ]
  },
  {
   "cell_type": "code",
   "execution_count": 19,
   "metadata": {},
   "outputs": [],
   "source": [
    "# TODO: test the model with single lable with the same test set"
   ]
  },
  {
   "cell_type": "code",
   "execution_count": 20,
   "metadata": {},
   "outputs": [
    {
     "name": "stdout",
     "output_type": "stream",
     "text": [
      "experiment_participants_screened_single_first_5_XGBClassifier_for_cancer_in_next_1_years_15_trials: \n",
      "\n",
      "\n",
      "Cross-Validation measures:\n",
      "+--------------------+----------+-------------+----------+----------+\n",
      "|                    |     mean |         std |      min |      max |\n",
      "|--------------------+----------+-------------+----------+----------|\n",
      "| precision__class_0 | 0.999674 | 0.000140681 | 0.999468 | 0.999911 |\n",
      "| recall__class_0    | 0.996763 | 0.000972833 | 0.994682 | 0.998491 |\n",
      "| f1-score__class_0  | 0.998216 | 0.000497615 | 0.997157 | 0.999156 |\n",
      "| precision__class_1 | 0.1264   | 0.0586213   | 0.0625   | 0.26087  |\n",
      "| recall__class_1    | 0.57037  | 0.186152    | 0.333333 | 0.875    |\n",
      "| f1-score__class_1  | 0.204343 | 0.0861513   | 0.109091 | 0.387097 |\n",
      "| accuracy           | 0.996441 | 0.000991351 | 0.994332 | 0.998315 |\n",
      "| auc                | 0.944442 | 0.0359329   | 0.894522 | 0.997687 |\n",
      "+--------------------+----------+-------------+----------+----------+\n",
      "experiment_participants_screened_first_5_XGBClassifier_for_cancer_in_next_1_years_15_trials: \n",
      "\n",
      "\n",
      "Cross-Validation measures:\n",
      "+--------------------+-----------+-------------+----------+----------+\n",
      "|                    |      mean |         std |      min |      max |\n",
      "|--------------------+-----------+-------------+----------+----------|\n",
      "| precision__class_0 | 0.999556  | 0.000247778 | 0.998928 | 0.999823 |\n",
      "| recall__class_0    | 0.996491  | 0.000954189 | 0.994962 | 0.998228 |\n",
      "| f1-score__class_0  | 0.998021  | 0.000482328 | 0.99721  | 0.998899 |\n",
      "| precision__class_1 | 0.0896236 | 0.0584279   | 0        | 0.189189 |\n",
      "| recall__class_1    | 0.411636  | 0.215579    | 0        | 0.777778 |\n",
      "| f1-score__class_1  | 0.143185  | 0.0879177   | 0        | 0.304348 |\n",
      "| accuracy           | 0.996051  | 0.000961003 | 0.994437 | 0.997802 |\n",
      "| auc                | 0.825327  | 0.0958239   | 0.654408 | 0.97846  |\n",
      "+--------------------+-----------+-------------+----------+----------+\n"
     ]
    }
   ],
   "source": [
    "for key, cv_analytics_util in cv_analytics_utils.items():\n",
    "    print(f\"{key}: \")\n",
    "    cv_analytics_util.store_cv_results()"
   ]
  },
  {
   "cell_type": "code",
   "execution_count": 21,
   "metadata": {},
   "outputs": [
    {
     "name": "stdout",
     "output_type": "stream",
     "text": [
      "experiment_participants_screened_single_first_5_XGBClassifier_for_cancer_in_next_1_years_15_trials: \n",
      "\n",
      "\n",
      "Cross-Validation measures:\n",
      "+--------------------+----------+-------------+----------+----------+\n",
      "|                    |     mean |         std |      min |      max |\n",
      "|--------------------+----------+-------------+----------+----------|\n",
      "| precision__class_0 | 0.999674 | 0.000140681 | 0.999468 | 0.999911 |\n",
      "| recall__class_0    | 0.996763 | 0.000972833 | 0.994682 | 0.998491 |\n",
      "| f1-score__class_0  | 0.998216 | 0.000497615 | 0.997157 | 0.999156 |\n",
      "| precision__class_1 | 0.1264   | 0.0586213   | 0.0625   | 0.26087  |\n",
      "| recall__class_1    | 0.57037  | 0.186152    | 0.333333 | 0.875    |\n",
      "| f1-score__class_1  | 0.204343 | 0.0861513   | 0.109091 | 0.387097 |\n",
      "| accuracy           | 0.996441 | 0.000991351 | 0.994332 | 0.998315 |\n",
      "| auc                | 0.944442 | 0.0359329   | 0.894522 | 0.997687 |\n",
      "+--------------------+----------+-------------+----------+----------+\n"
     ]
    },
    {
     "name": "stderr",
     "output_type": "stream",
     "text": [
      "No artists with labels found to put in legend.  Note that artists whose label start with an underscore are ignored when legend() is called with no argument.\n"
     ]
    },
    {
     "data": {
      "image/png": "[encoded data removed]",
      "text/plain": [
       "<Figure size 1152x360 with 3 Axes>"
      ]
     },
     "metadata": {
      "needs_background": "light"
     },
     "output_type": "display_data"
    },
    {
     "name": "stdout",
     "output_type": "stream",
     "text": [
      "experiment_participants_screened_first_5_XGBClassifier_for_cancer_in_next_1_years_15_trials: \n",
      "\n",
      "\n",
      "Cross-Validation measures:\n",
      "+--------------------+-----------+-------------+----------+----------+\n",
      "|                    |      mean |         std |      min |      max |\n",
      "|--------------------+-----------+-------------+----------+----------|\n",
      "| precision__class_0 | 0.999556  | 0.000247778 | 0.998928 | 0.999823 |\n",
      "| recall__class_0    | 0.996491  | 0.000954189 | 0.994962 | 0.998228 |\n",
      "| f1-score__class_0  | 0.998021  | 0.000482328 | 0.99721  | 0.998899 |\n",
      "| precision__class_1 | 0.0896236 | 0.0584279   | 0        | 0.189189 |\n",
      "| recall__class_1    | 0.411636  | 0.215579    | 0        | 0.777778 |\n",
      "| f1-score__class_1  | 0.143185  | 0.0879177   | 0        | 0.304348 |\n",
      "| accuracy           | 0.996051  | 0.000961003 | 0.994437 | 0.997802 |\n",
      "| auc                | 0.825327  | 0.0958239   | 0.654408 | 0.97846  |\n",
      "+--------------------+-----------+-------------+----------+----------+\n"
     ]
    },
    {
     "name": "stderr",
     "output_type": "stream",
     "text": [
      "No artists with labels found to put in legend.  Note that artists whose label start with an underscore are ignored when legend() is called with no argument.\n"
     ]
    },
    {
     "data": {
      "image/png": "[encoded data removed]",
      "text/plain": [
       "<Figure size 1152x360 with 3 Axes>"
      ]
     },
     "metadata": {
      "needs_background": "light"
     },
     "output_type": "display_data"
    }
   ],
   "source": [
    "for key, cv_analytics_util in cv_analytics_utils.items():\n",
    "    print(f\"{key}: \")\n",
    "    cv_analytics_util.update_thresholds(None)\n",
    "    cv_analytics_util.get_cv_report();\n",
    "    cv_analytics_util.display_graph()"
   ]
  }
 ],
 "metadata": {
  "kernelspec": {
   "display_name": "Python 3",
   "language": "python",
   "name": "python3"
  },
  "language_info": {
   "codemirror_mode": {
    "name": "ipython",
    "version": 3
   },
   "file_extension": ".py",
   "mimetype": "text/x-python",
   "name": "python",
   "nbconvert_exporter": "python",
   "pygments_lexer": "ipython3",
   "version": "3.10.4"
  },
  "orig_nbformat": 4,
  "vscode": {
   "interpreter": {
    "hash": "9b9f07f525d6131811c533cc81eafd9d7147c1a9ff2e81c94d4f0d027f94c4be"
   }
  }
 },
 "nbformat": 4,
 "nbformat_minor": 2
}
